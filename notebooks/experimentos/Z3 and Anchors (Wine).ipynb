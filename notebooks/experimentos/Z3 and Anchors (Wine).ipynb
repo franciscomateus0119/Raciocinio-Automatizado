{
 "cells": [
  {
   "cell_type": "markdown",
   "metadata": {
    "id": "LwlEKusEcBbw"
   },
   "source": [
    "# Installing Z3 and Imports"
   ]
  },
  {
   "cell_type": "code",
   "execution_count": 1,
   "metadata": {
    "colab": {
     "base_uri": "https://localhost:8080/"
    },
    "id": "dt8anHvhLwsn",
    "outputId": "13b6d0bc-f00b-4b50-99a2-9366ed28b2ce",
    "tags": []
   },
   "outputs": [
    {
     "data": {
      "text/plain": [
       "'\\n!pip install z3-solver\\n!pip install pandas\\n!pip install numpy\\n!pip install sklearn\\n!pip install anchor-exp\\n'"
      ]
     },
     "execution_count": 1,
     "metadata": {},
     "output_type": "execute_result"
    }
   ],
   "source": [
    "'''\n",
    "!pip install z3-solver\n",
    "!pip install pandas\n",
    "!pip install numpy\n",
    "!pip install sklearn\n",
    "!pip install anchor-exp\n",
    "'''"
   ]
  },
  {
   "cell_type": "code",
   "execution_count": 2,
   "metadata": {
    "id": "A1i4HEgVhKCN"
   },
   "outputs": [],
   "source": [
    "import pandas as pd\n",
    "import numpy as np\n",
    "from sklearn import datasets\n",
    "from sklearn.model_selection import train_test_split\n",
    "from sklearn import svm\n",
    "from sklearn import metrics\n",
    "from z3 import *\n",
    "import time"
   ]
  },
  {
   "cell_type": "markdown",
   "metadata": {
    "id": "VX71r1djY-7L"
   },
   "source": [
    "# Training Linear and Polynomial SVMs"
   ]
  },
  {
   "cell_type": "markdown",
   "metadata": {
    "id": "TO6whMFhZ9yf"
   },
   "source": [
    "## Data Preprocessing."
   ]
  },
  {
   "cell_type": "code",
   "execution_count": 3,
   "metadata": {
    "id": "PW90CcDBHbaM"
   },
   "outputs": [],
   "source": [
    "wine = datasets.load_wine()"
   ]
  },
  {
   "cell_type": "code",
   "execution_count": 4,
   "metadata": {
    "id": "XeFOu9Y-wxgW"
   },
   "outputs": [],
   "source": [
    "df = pd.DataFrame(wine.data, columns = wine.feature_names)"
   ]
  },
  {
   "cell_type": "code",
   "execution_count": 5,
   "metadata": {},
   "outputs": [
    {
     "data": {
      "text/html": [
       "<div>\n",
       "<style scoped>\n",
       "    .dataframe tbody tr th:only-of-type {\n",
       "        vertical-align: middle;\n",
       "    }\n",
       "\n",
       "    .dataframe tbody tr th {\n",
       "        vertical-align: top;\n",
       "    }\n",
       "\n",
       "    .dataframe thead th {\n",
       "        text-align: right;\n",
       "    }\n",
       "</style>\n",
       "<table border=\"1\" class=\"dataframe\">\n",
       "  <thead>\n",
       "    <tr style=\"text-align: right;\">\n",
       "      <th></th>\n",
       "      <th>alcohol</th>\n",
       "      <th>malic_acid</th>\n",
       "      <th>ash</th>\n",
       "      <th>alcalinity_of_ash</th>\n",
       "      <th>magnesium</th>\n",
       "      <th>total_phenols</th>\n",
       "      <th>flavanoids</th>\n",
       "      <th>nonflavanoid_phenols</th>\n",
       "      <th>proanthocyanins</th>\n",
       "      <th>color_intensity</th>\n",
       "      <th>hue</th>\n",
       "      <th>od280/od315_of_diluted_wines</th>\n",
       "      <th>proline</th>\n",
       "    </tr>\n",
       "  </thead>\n",
       "  <tbody>\n",
       "    <tr>\n",
       "      <th>0</th>\n",
       "      <td>14.23</td>\n",
       "      <td>1.71</td>\n",
       "      <td>2.43</td>\n",
       "      <td>15.6</td>\n",
       "      <td>127.0</td>\n",
       "      <td>2.80</td>\n",
       "      <td>3.06</td>\n",
       "      <td>0.28</td>\n",
       "      <td>2.29</td>\n",
       "      <td>5.64</td>\n",
       "      <td>1.04</td>\n",
       "      <td>3.92</td>\n",
       "      <td>1065.0</td>\n",
       "    </tr>\n",
       "    <tr>\n",
       "      <th>1</th>\n",
       "      <td>13.20</td>\n",
       "      <td>1.78</td>\n",
       "      <td>2.14</td>\n",
       "      <td>11.2</td>\n",
       "      <td>100.0</td>\n",
       "      <td>2.65</td>\n",
       "      <td>2.76</td>\n",
       "      <td>0.26</td>\n",
       "      <td>1.28</td>\n",
       "      <td>4.38</td>\n",
       "      <td>1.05</td>\n",
       "      <td>3.40</td>\n",
       "      <td>1050.0</td>\n",
       "    </tr>\n",
       "    <tr>\n",
       "      <th>2</th>\n",
       "      <td>13.16</td>\n",
       "      <td>2.36</td>\n",
       "      <td>2.67</td>\n",
       "      <td>18.6</td>\n",
       "      <td>101.0</td>\n",
       "      <td>2.80</td>\n",
       "      <td>3.24</td>\n",
       "      <td>0.30</td>\n",
       "      <td>2.81</td>\n",
       "      <td>5.68</td>\n",
       "      <td>1.03</td>\n",
       "      <td>3.17</td>\n",
       "      <td>1185.0</td>\n",
       "    </tr>\n",
       "    <tr>\n",
       "      <th>3</th>\n",
       "      <td>14.37</td>\n",
       "      <td>1.95</td>\n",
       "      <td>2.50</td>\n",
       "      <td>16.8</td>\n",
       "      <td>113.0</td>\n",
       "      <td>3.85</td>\n",
       "      <td>3.49</td>\n",
       "      <td>0.24</td>\n",
       "      <td>2.18</td>\n",
       "      <td>7.80</td>\n",
       "      <td>0.86</td>\n",
       "      <td>3.45</td>\n",
       "      <td>1480.0</td>\n",
       "    </tr>\n",
       "    <tr>\n",
       "      <th>4</th>\n",
       "      <td>13.24</td>\n",
       "      <td>2.59</td>\n",
       "      <td>2.87</td>\n",
       "      <td>21.0</td>\n",
       "      <td>118.0</td>\n",
       "      <td>2.80</td>\n",
       "      <td>2.69</td>\n",
       "      <td>0.39</td>\n",
       "      <td>1.82</td>\n",
       "      <td>4.32</td>\n",
       "      <td>1.04</td>\n",
       "      <td>2.93</td>\n",
       "      <td>735.0</td>\n",
       "    </tr>\n",
       "    <tr>\n",
       "      <th>...</th>\n",
       "      <td>...</td>\n",
       "      <td>...</td>\n",
       "      <td>...</td>\n",
       "      <td>...</td>\n",
       "      <td>...</td>\n",
       "      <td>...</td>\n",
       "      <td>...</td>\n",
       "      <td>...</td>\n",
       "      <td>...</td>\n",
       "      <td>...</td>\n",
       "      <td>...</td>\n",
       "      <td>...</td>\n",
       "      <td>...</td>\n",
       "    </tr>\n",
       "    <tr>\n",
       "      <th>173</th>\n",
       "      <td>13.71</td>\n",
       "      <td>5.65</td>\n",
       "      <td>2.45</td>\n",
       "      <td>20.5</td>\n",
       "      <td>95.0</td>\n",
       "      <td>1.68</td>\n",
       "      <td>0.61</td>\n",
       "      <td>0.52</td>\n",
       "      <td>1.06</td>\n",
       "      <td>7.70</td>\n",
       "      <td>0.64</td>\n",
       "      <td>1.74</td>\n",
       "      <td>740.0</td>\n",
       "    </tr>\n",
       "    <tr>\n",
       "      <th>174</th>\n",
       "      <td>13.40</td>\n",
       "      <td>3.91</td>\n",
       "      <td>2.48</td>\n",
       "      <td>23.0</td>\n",
       "      <td>102.0</td>\n",
       "      <td>1.80</td>\n",
       "      <td>0.75</td>\n",
       "      <td>0.43</td>\n",
       "      <td>1.41</td>\n",
       "      <td>7.30</td>\n",
       "      <td>0.70</td>\n",
       "      <td>1.56</td>\n",
       "      <td>750.0</td>\n",
       "    </tr>\n",
       "    <tr>\n",
       "      <th>175</th>\n",
       "      <td>13.27</td>\n",
       "      <td>4.28</td>\n",
       "      <td>2.26</td>\n",
       "      <td>20.0</td>\n",
       "      <td>120.0</td>\n",
       "      <td>1.59</td>\n",
       "      <td>0.69</td>\n",
       "      <td>0.43</td>\n",
       "      <td>1.35</td>\n",
       "      <td>10.20</td>\n",
       "      <td>0.59</td>\n",
       "      <td>1.56</td>\n",
       "      <td>835.0</td>\n",
       "    </tr>\n",
       "    <tr>\n",
       "      <th>176</th>\n",
       "      <td>13.17</td>\n",
       "      <td>2.59</td>\n",
       "      <td>2.37</td>\n",
       "      <td>20.0</td>\n",
       "      <td>120.0</td>\n",
       "      <td>1.65</td>\n",
       "      <td>0.68</td>\n",
       "      <td>0.53</td>\n",
       "      <td>1.46</td>\n",
       "      <td>9.30</td>\n",
       "      <td>0.60</td>\n",
       "      <td>1.62</td>\n",
       "      <td>840.0</td>\n",
       "    </tr>\n",
       "    <tr>\n",
       "      <th>177</th>\n",
       "      <td>14.13</td>\n",
       "      <td>4.10</td>\n",
       "      <td>2.74</td>\n",
       "      <td>24.5</td>\n",
       "      <td>96.0</td>\n",
       "      <td>2.05</td>\n",
       "      <td>0.76</td>\n",
       "      <td>0.56</td>\n",
       "      <td>1.35</td>\n",
       "      <td>9.20</td>\n",
       "      <td>0.61</td>\n",
       "      <td>1.60</td>\n",
       "      <td>560.0</td>\n",
       "    </tr>\n",
       "  </tbody>\n",
       "</table>\n",
       "<p>178 rows × 13 columns</p>\n",
       "</div>"
      ],
      "text/plain": [
       "     alcohol  malic_acid   ash  alcalinity_of_ash  magnesium  total_phenols  \\\n",
       "0      14.23        1.71  2.43               15.6      127.0           2.80   \n",
       "1      13.20        1.78  2.14               11.2      100.0           2.65   \n",
       "2      13.16        2.36  2.67               18.6      101.0           2.80   \n",
       "3      14.37        1.95  2.50               16.8      113.0           3.85   \n",
       "4      13.24        2.59  2.87               21.0      118.0           2.80   \n",
       "..       ...         ...   ...                ...        ...            ...   \n",
       "173    13.71        5.65  2.45               20.5       95.0           1.68   \n",
       "174    13.40        3.91  2.48               23.0      102.0           1.80   \n",
       "175    13.27        4.28  2.26               20.0      120.0           1.59   \n",
       "176    13.17        2.59  2.37               20.0      120.0           1.65   \n",
       "177    14.13        4.10  2.74               24.5       96.0           2.05   \n",
       "\n",
       "     flavanoids  nonflavanoid_phenols  proanthocyanins  color_intensity   hue  \\\n",
       "0          3.06                  0.28             2.29             5.64  1.04   \n",
       "1          2.76                  0.26             1.28             4.38  1.05   \n",
       "2          3.24                  0.30             2.81             5.68  1.03   \n",
       "3          3.49                  0.24             2.18             7.80  0.86   \n",
       "4          2.69                  0.39             1.82             4.32  1.04   \n",
       "..          ...                   ...              ...              ...   ...   \n",
       "173        0.61                  0.52             1.06             7.70  0.64   \n",
       "174        0.75                  0.43             1.41             7.30  0.70   \n",
       "175        0.69                  0.43             1.35            10.20  0.59   \n",
       "176        0.68                  0.53             1.46             9.30  0.60   \n",
       "177        0.76                  0.56             1.35             9.20  0.61   \n",
       "\n",
       "     od280/od315_of_diluted_wines  proline  \n",
       "0                            3.92   1065.0  \n",
       "1                            3.40   1050.0  \n",
       "2                            3.17   1185.0  \n",
       "3                            3.45   1480.0  \n",
       "4                            2.93    735.0  \n",
       "..                            ...      ...  \n",
       "173                          1.74    740.0  \n",
       "174                          1.56    750.0  \n",
       "175                          1.56    835.0  \n",
       "176                          1.62    840.0  \n",
       "177                          1.60    560.0  \n",
       "\n",
       "[178 rows x 13 columns]"
      ]
     },
     "execution_count": 5,
     "metadata": {},
     "output_type": "execute_result"
    }
   ],
   "source": [
    "df"
   ]
  },
  {
   "cell_type": "code",
   "execution_count": 6,
   "metadata": {
    "id": "q5plsclR7tUW"
   },
   "outputs": [],
   "source": [
    "normalized_df=(wine.data-wine.data.min())/(wine.data.max()-wine.data.min())\n",
    "#normalized_df=(cancer.data-cancer.data.mean())/cancer.data.std()"
   ]
  },
  {
   "cell_type": "code",
   "execution_count": 7,
   "metadata": {
    "tags": []
   },
   "outputs": [
    {
     "data": {
      "text/plain": [
       "array([[1.423e+01, 1.710e+00, 2.430e+00, ..., 1.040e+00, 3.920e+00,\n",
       "        1.065e+03],\n",
       "       [1.320e+01, 1.780e+00, 2.140e+00, ..., 1.050e+00, 3.400e+00,\n",
       "        1.050e+03],\n",
       "       [1.316e+01, 2.360e+00, 2.670e+00, ..., 1.030e+00, 3.170e+00,\n",
       "        1.185e+03],\n",
       "       ...,\n",
       "       [1.327e+01, 4.280e+00, 2.260e+00, ..., 5.900e-01, 1.560e+00,\n",
       "        8.350e+02],\n",
       "       [1.317e+01, 2.590e+00, 2.370e+00, ..., 6.000e-01, 1.620e+00,\n",
       "        8.400e+02],\n",
       "       [1.413e+01, 4.100e+00, 2.740e+00, ..., 6.100e-01, 1.600e+00,\n",
       "        5.600e+02]])"
      ]
     },
     "execution_count": 7,
     "metadata": {},
     "output_type": "execute_result"
    }
   ],
   "source": [
    "wine.data"
   ]
  },
  {
   "cell_type": "code",
   "execution_count": 8,
   "metadata": {
    "colab": {
     "base_uri": "https://localhost:8080/"
    },
    "id": "BMHNARKC8KJR",
    "outputId": "bbe60b5e-fc61-4253-dfb8-75efb51dfe0a"
   },
   "outputs": [
    {
     "data": {
      "text/plain": [
       "(0.0, 1.0)"
      ]
     },
     "execution_count": 8,
     "metadata": {},
     "output_type": "execute_result"
    }
   ],
   "source": [
    "normalized_df.min(),normalized_df.max()"
   ]
  },
  {
   "cell_type": "code",
   "execution_count": 9,
   "metadata": {},
   "outputs": [
    {
     "data": {
      "text/plain": [
       "array([0, 0, 0, 0, 0, 0, 0, 0, 0, 0, 0, 0, 0, 0, 0, 0, 0, 0, 0, 0, 0, 0,\n",
       "       0, 0, 0, 0, 0, 0, 0, 0, 0, 0, 0, 0, 0, 0, 0, 0, 0, 0, 0, 0, 0, 0,\n",
       "       0, 0, 0, 0, 0, 0, 0, 0, 0, 0, 0, 0, 0, 0, 0, 1, 1, 1, 1, 1, 1, 1,\n",
       "       1, 1, 1, 1, 1, 1, 1, 1, 1, 1, 1, 1, 1, 1, 1, 1, 1, 1, 1, 1, 1, 1,\n",
       "       1, 1, 1, 1, 1, 1, 1, 1, 1, 1, 1, 1, 1, 1, 1, 1, 1, 1, 1, 1, 1, 1,\n",
       "       1, 1, 1, 1, 1, 1, 1, 1, 1, 1, 1, 1, 1, 1, 1, 1, 1, 1, 1, 1, 1, 1,\n",
       "       1, 1, 1, 1, 1, 1, 1, 1, 1, 1, 1, 1, 1, 1, 1, 1, 1, 1, 1, 1, 1, 1,\n",
       "       1, 1, 1, 1, 1, 1, 1, 1, 1, 1, 1, 1, 1, 1, 1, 1, 1, 1, 1, 1, 1, 1,\n",
       "       1, 1])"
      ]
     },
     "execution_count": 9,
     "metadata": {},
     "output_type": "execute_result"
    }
   ],
   "source": [
    "np.where(wine.target == wine.target[0],0,1)"
   ]
  },
  {
   "cell_type": "code",
   "execution_count": 10,
   "metadata": {},
   "outputs": [],
   "source": [
    "def check_targets(original_set):\n",
    "    original_unique = np.unique(original_set)\n",
    "    print(\"Original Targets: \",original_unique,\"\\nDesired Targets: [-1,1]\")\n",
    "    print(\"Is original the desired [1,-1]? \", np.array_equiv(original_unique,np.array([-1,1])))\n",
    "    if not np.array_equiv(original_unique,np.array([-1,1])):\n",
    "        if 1 in original_unique:\n",
    "            print(\"1 exists in dataset\")\n",
    "            new = np.select([original_set == original_unique[0]],[-1],original_set)\n",
    "        elif -1 in original_unique:\n",
    "            print(\"-1 exists in dataset\")\n",
    "            new = np.select([original_set == original_unique[1]],[1],original_set)\n",
    "        else:\n",
    "            print(\"Neither exists in dataset\")\n",
    "            new = np.select([original_set == original_unique[0],original_set == original_unique[1]],[-1,1],original_set)\n",
    "        #indexes = original_set[np.where(original_set == unique_elems[0])]\n",
    "        print(\"New datasets consists of: \",np.unique(new))\n",
    "        return new"
   ]
  },
  {
   "cell_type": "code",
   "execution_count": 11,
   "metadata": {
    "tags": []
   },
   "outputs": [
    {
     "name": "stdout",
     "output_type": "stream",
     "text": [
      "Original Targets:  [0 1] \n",
      "Desired Targets: [-1,1]\n",
      "Is original the desired [1,-1]?  False\n",
      "1 exists in dataset\n",
      "New datasets consists of:  [-1  1]\n"
     ]
    }
   ],
   "source": [
    "targets = check_targets(np.where(wine.target == wine.target[0],0,1))"
   ]
  },
  {
   "cell_type": "markdown",
   "metadata": {
    "id": "IbakFrFRaCKb"
   },
   "source": [
    "## Data Separation and Training"
   ]
  },
  {
   "cell_type": "code",
   "execution_count": 12,
   "metadata": {
    "id": "qI2dGmVBh4Sq"
   },
   "outputs": [],
   "source": [
    "X_train, X_test, y_train, y_test = train_test_split(normalized_df, targets, test_size=0.3,random_state=107) # 70% training and 30% test"
   ]
  },
  {
   "cell_type": "code",
   "execution_count": 13,
   "metadata": {},
   "outputs": [
    {
     "data": {
      "text/plain": [
       "13"
      ]
     },
     "execution_count": 13,
     "metadata": {},
     "output_type": "execute_result"
    }
   ],
   "source": [
    "len(X_train[0])"
   ]
  },
  {
   "cell_type": "code",
   "execution_count": 14,
   "metadata": {},
   "outputs": [],
   "source": [
    "def create_linear_classifier(kernel_type='linear'):\n",
    "    return svm.SVC(kernel=kernel_type)\n",
    "def create_poly_classifier(kernel_type='poly',my_degree=2,my_gamma=1/30):\n",
    "    return svm.SVC(kernel=kernel_type, degree = my_degree,gamma=my_gamma)"
   ]
  },
  {
   "cell_type": "code",
   "execution_count": 15,
   "metadata": {
    "colab": {
     "base_uri": "https://localhost:8080/"
    },
    "id": "dx90Sjfwh9cz",
    "outputId": "565c216c-c6e3-48bf-a20b-c64f577ab7f1"
   },
   "outputs": [
    {
     "name": "stdout",
     "output_type": "stream",
     "text": [
      "Accuracy Linear: 0.8888888888888888\n"
     ]
    }
   ],
   "source": [
    "clf = create_linear_classifier()\n",
    "#poly = create_poly_classifier('poly',2,1/(X_train.var() * len(X_train[0])))\n",
    "\n",
    "#Train the models using the training sets\n",
    "clf.fit(X_train, y_train)\n",
    "#poly.fit(X_train, y_train)\n",
    "\n",
    "#Predict the response for test dataset\n",
    "y_pred = clf.predict(X_test)\n",
    "#poly_y_pred = poly.predict(X_test)\n",
    "print(\"Accuracy Linear:\", metrics.accuracy_score(y_test, y_pred))\n",
    "#print(\"Accuracy Poly:\", metrics.accuracy_score(y_test, poly_y_pred))"
   ]
  },
  {
   "cell_type": "code",
   "execution_count": 16,
   "metadata": {
    "colab": {
     "base_uri": "https://localhost:8080/"
    },
    "id": "kjIMKtJWiPAl",
    "outputId": "d9db7a40-e7b2-46aa-e558-a11d647d5d6a"
   },
   "outputs": [
    {
     "name": "stdout",
     "output_type": "stream",
     "text": [
      "Accuracy on Training: 0.9354838709677419\n"
     ]
    }
   ],
   "source": [
    "y_pred_train = clf.predict(X_train)\n",
    "#poly_pred_train = poly.predict(X_train)\n",
    "print(\"Accuracy on Training:\", metrics.accuracy_score(y_train, y_pred_train))\n",
    "#print(\"Accuracy on Training:\", metrics.accuracy_score(y_train, poly_pred_train))"
   ]
  },
  {
   "cell_type": "markdown",
   "metadata": {
    "id": "c3lOiqOAaJpe"
   },
   "source": [
    "## SVM Decision Function For The First Element of Training Dataset"
   ]
  },
  {
   "cell_type": "code",
   "execution_count": 17,
   "metadata": {
    "colab": {
     "base_uri": "https://localhost:8080/"
    },
    "id": "igzG9IldBYWR",
    "outputId": "26b7faad-4c09-4561-c37d-bdba35c42e7c"
   },
   "outputs": [
    {
     "data": {
      "text/plain": [
       "-1.6118815066885395"
      ]
     },
     "execution_count": 17,
     "metadata": {},
     "output_type": "execute_result"
    }
   ],
   "source": [
    "#Sum (coef @ sup_vec @ X[index] + bias)\n",
    "((clf.dual_coef_ @ clf.support_vectors_) @ X_train[0].reshape(1, len(X_train[0])).T + clf.intercept_)[0][0]"
   ]
  },
  {
   "cell_type": "code",
   "execution_count": 18,
   "metadata": {},
   "outputs": [],
   "source": [
    "#(poly.dual_coef_ @ (((poly.support_vectors_ @ X_train[0].reshape(1, len(X_train[0])).T) * poly.gamma + poly.coef0) ** poly.degree) + poly.intercept_)[0][0]"
   ]
  },
  {
   "cell_type": "code",
   "execution_count": 19,
   "metadata": {},
   "outputs": [
    {
     "name": "stdout",
     "output_type": "stream",
     "text": [
      "DualCoef / Support Vectors / X_Train.T Reshaped / Intercept (bias)\n"
     ]
    },
    {
     "data": {
      "text/plain": [
       "((1, 58), (58, 13), (13, 1), (1,))"
      ]
     },
     "execution_count": 19,
     "metadata": {},
     "output_type": "execute_result"
    }
   ],
   "source": [
    "#Linear SVM Decision Function\n",
    "print(\"DualCoef / Support Vectors / X_Train.T Reshaped / Intercept (bias)\")\n",
    "clf.dual_coef_.shape, clf.support_vectors_.shape, X_train[0].reshape(1, len(X_train[0])).T.shape, clf.intercept_.shape"
   ]
  },
  {
   "cell_type": "code",
   "execution_count": 20,
   "metadata": {},
   "outputs": [],
   "source": [
    "#Polynomial SVM Decision Function\n",
    "#print(\"DualCoef / Support Vectors / X_Train.T Reshaped / Gamma / Coef0 / Degree / Intercept (bias)\")\n",
    "#poly.dual_coef_.shape, poly.support_vectors_.shape, X_train[0].reshape(1, len(X_train[0])).T.shape,poly.gamma, poly.coef0, poly.degree, poly.intercept_"
   ]
  },
  {
   "cell_type": "markdown",
   "metadata": {
    "id": "bZOA8ZXQZIH2",
    "tags": []
   },
   "source": [
    "# Defining Thresholds and Finding Rejecteds"
   ]
  },
  {
   "cell_type": "code",
   "execution_count": 21,
   "metadata": {},
   "outputs": [],
   "source": [
    "def limits(classifier,data):\n",
    "    dec_fun = classifier.decision_function(data)\n",
    "    lim_pos = dec_fun[np.argmax(dec_fun)]\n",
    "    lim_neg = dec_fun[np.argmin(dec_fun)]\n",
    "    return dec_fun, lim_pos, lim_neg"
   ]
  },
  {
   "cell_type": "code",
   "execution_count": 63,
   "metadata": {},
   "outputs": [],
   "source": [
    "def find_thresholds(decfun,t1,t2,wr,chosen_min='E'):\n",
    "    solution = {'WR':0,'T1':0, 'T2':0,'E':0,'R':0,'EWRR':0}\n",
    "    index = None\n",
    "    n_elements = decfun.shape[0]\n",
    "    for i,wr_ in enumerate(wr):\n",
    "      for j in range(0,len(t1)):\n",
    "        #Get Number of Rejected\n",
    "        positive_indexes = np.where(decfun >= t1[j])\n",
    "        negative_indexes = np.where(decfun < t2[j])\n",
    "        rejected_indexes = np.where((decfun < t1[j]) & (decfun >= t2[j]))\n",
    "        R = rejected_indexes[0].shape[0]\n",
    "        #np.array(positive_indexes).shape,np.array(negative_indexes).shape, R\n",
    "\n",
    "        #Get Number of Misclassifications\n",
    "        class_p = y_train[positive_indexes]\n",
    "        class_n = y_train[negative_indexes]\n",
    "        error_p = np.where(class_p == np.unique(y_train)[0])[0].shape[0]\n",
    "        error_n = np.where(class_n == np.unique(y_train)[1])[0].shape[0]\n",
    "        E = (error_p + error_n) - R\n",
    "        #print(\"T1 \",round(t1[j],4),\"T2 \",round(t2[j],4),\"E\",round(E,4),\"Rej\",R,\"Pos \", positive_indexes[0].shape[0], \"Neg \",negative_indexes[0].shape[0])\n",
    "        if chosen_min=='R':\n",
    "            if (i == 0 and i == j) or R < solution['R']:\n",
    "                solution['WR'] = wr_\n",
    "                solution['T1'] = t1[j]\n",
    "                solution['T2'] = t2[j]\n",
    "                solution['E'] = E\n",
    "                solution['R'] = R\n",
    "                solution['EWRR'] = E + wr_ * R\n",
    "        elif chosen_min=='E':\n",
    "            if (i == 0 and i == j) or E < solution['E']:\n",
    "                solution['WR'] = wr_\n",
    "                solution['T1'] = t1[j]\n",
    "                solution['T2'] = t2[j]\n",
    "                solution['E'] = E\n",
    "                solution['R'] = R\n",
    "                solution['EWRR'] = E + wr_ * R\n",
    "        elif chosen_min=='EWRR':\n",
    "            if (i == 0 and i == j) or (E + wr_ * R) < solution['EWRR']:\n",
    "                solution['WR'] = wr_\n",
    "                solution['T1'] = t1[j]\n",
    "                solution['T2'] = t2[j]\n",
    "                solution['E'] = E\n",
    "                solution['R'] = R\n",
    "                solution['EWRR'] = E + wr_ * R\n",
    "        else:\n",
    "            return 'Chosen option \"' +chosen_min+'\" is invalid'\n",
    "    print('Thresholds by min(',chosen_min,') from solution: ',solution)\n",
    "    return solution['T1'], solution['T2']      \n",
    "                "
   ]
  },
  {
   "cell_type": "code",
   "execution_count": 23,
   "metadata": {},
   "outputs": [],
   "source": [
    "def find_indexes(decfun,t1,t2):\n",
    "    positive_indexes = np.where(decfun >= t1)[0]\n",
    "    negative_indexes = np.where(decfun < t2)[0]\n",
    "    rejected_indexes = np.where((decfun < t1) & (decfun >= t2))[0]\n",
    "    R = rejected_indexes.shape[0]\n",
    "    return positive_indexes,negative_indexes,rejected_indexes"
   ]
  },
  {
   "cell_type": "code",
   "execution_count": 24,
   "metadata": {},
   "outputs": [],
   "source": [
    "def find_thresholds_and_indexes(classifier,data,wr = None):  \n",
    "    dec_fun,lim_pos,lim_neg = limits(classifier,data)\n",
    "    print(\"Superior Limit: \",lim_pos,\"\\nInferior Limit: \",lim_neg)\n",
    "    if wr == None:\n",
    "        wr = [0.04, 0.08, 0.12, 0.16, 0.2, 0.24, 0.28, 0.32, 0.36, 0.4, 0.44, 0.48]\n",
    "    t1 = []\n",
    "    t2 = []\n",
    "    for i in range (1,21):\n",
    "      t1.append(0.05*i*lim_pos)\n",
    "      t2.append(0.05*i*lim_neg)  \n",
    "    T1,T2 = find_thresholds(dec_fun,t1,t2,wr)\n",
    "    pos_idx,neg_idx,rej_idx = find_indexes(dec_fun,T1,T2)\n",
    "    return T1, T2, pos_idx, neg_idx, rej_idx,lim_pos,lim_neg"
   ]
  },
  {
   "cell_type": "markdown",
   "metadata": {
    "id": "YkcUd3eZ9wQx"
   },
   "source": [
    "# Implementing SVM function for Z3 Solver"
   ]
  },
  {
   "cell_type": "markdown",
   "metadata": {
    "id": "XvhIKaB3fSBv"
   },
   "source": [
    "## Z3 Decision Function Elements"
   ]
  },
  {
   "cell_type": "code",
   "execution_count": 25,
   "metadata": {
    "id": "8iDd2odTfUb-"
   },
   "outputs": [],
   "source": [
    "np.RealVal = np.vectorize(RealVal) \n",
    "np.RealVector = np.vectorize(RealVector) "
   ]
  },
  {
   "cell_type": "code",
   "execution_count": 26,
   "metadata": {},
   "outputs": [],
   "source": [
    "def to_z3_conversion(classifier,training_set):\n",
    "    z3_dual_coef = np.RealVal(classifier.dual_coef_)\n",
    "    z3_support_vectors = np.RealVal(classifier.support_vectors_)\n",
    "    z3_intercept_ = np.RealVal(classifier.intercept_)\n",
    "    z3_X_Train = np.RealVector('x',training_set.shape[1])\n",
    "    if classifier.kernel == 'poly':\n",
    "        z3_gamma = np.RealVal(classifier.gamma)\n",
    "        z3_coef0 = np.RealVal(classifier.coef0)\n",
    "        z3_degree = np.RealVal(classifier.degree)\n",
    "        return z3_dual_coef,z3_support_vectors,z3_intercept_,z3_X_Train, z3_gamma,z3_coef0,z3_degree\n",
    "    return z3_dual_coef,z3_support_vectors,z3_intercept_,z3_X_Train"
   ]
  },
  {
   "cell_type": "markdown",
   "metadata": {
    "id": "it9FGkScC0p_"
   },
   "source": [
    "# Z3 with Reject Option"
   ]
  },
  {
   "cell_type": "markdown",
   "metadata": {
    "id": "oF_vwBRveDln",
    "tags": []
   },
   "source": [
    "## Explaining the Classifier's Decision Function and Finding Relevant Features"
   ]
  },
  {
   "cell_type": "code",
   "execution_count": 27,
   "metadata": {},
   "outputs": [],
   "source": [
    "def z3_explanation(classifier,t1, t2, X, z3_coef, z3_sup_vec, z3_X, z3_intercept, reject_indexes,sup_lim,inf_lim,\n",
    "                   z3_gamma = None, z3_coef0 = None, z3_degree = None, show_values=True, min=0,max=1,positive=False,negative=False,rejected=False):\n",
    "    elapsed_time = []\n",
    "    relevant = []\n",
    "    irrelevant = []\n",
    "    global_values = []\n",
    "    print(\"Number of Instances: \", len(reject_indexes))\n",
    "    solver = Solver()\n",
    "    if classifier.kernel=='linear':\n",
    "        print(\"Classifier: Linear\")\n",
    "        if rejected:\n",
    "            print(\"Declared: Rejected Instances\")\n",
    "            solver.add(Or(((z3_coef @ z3_sup_vec) @ z3_X.reshape(1, len(z3_X)).T + z3_intercept)[0][0] >= t1,\n",
    "                          ((z3_coef @ z3_sup_vec) @ z3_X.reshape(1, len(z3_X)).T + z3_intercept)[0][0] < t2))\n",
    "        elif positive:\n",
    "            print(\"Declared: Positive Instances\")\n",
    "            solver.add(((z3_coef @ z3_sup_vec) @ z3_X.reshape(1, len(z3_X)).T + z3_intercept)[0][0] < t1)\n",
    "        elif negative:\n",
    "            print(\"Declared: Negative Instances\")\n",
    "            solver.add(((z3_coef @ z3_sup_vec) @ z3_X.reshape(1, len(z3_X)).T + z3_intercept)[0][0] >= t2)\n",
    "        else:\n",
    "            print(\"WARNING: Must declare if are positive,negative or rejected instances!\")\n",
    "        solver.add(((z3_coef @ z3_sup_vec) @ z3_X.reshape(1, len(z3_X)).T + z3_intercept)[0][0] >= inf_lim)\n",
    "        solver.add(((z3_coef @ z3_sup_vec) @ z3_X.reshape(1, len(z3_X)).T + z3_intercept)[0][0] <= sup_lim)\n",
    "    elif classifier.kernel=='poly':\n",
    "        print(\"Classifier: Polynomial\")\n",
    "        solver.add(Or(((z3_dual_coef @ (((z3_support_vectors @ z3_X.reshape(1, len(z3_X)).T) * z3_gamma + z3_coef0) ** z3_degree) + z3_intercept_)[0][0] >= t1),\n",
    "                      (z3_dual_coef @ (((z3_support_vectors @ z3_X.reshape(1, len(z3_X)).T) * z3_gamma + z3_coef0) ** z3_degree) + z3_intercept_)[0][0] < t2))\n",
    "    for j in range(0, len(z3_X)):\n",
    "        solver.add(z3_X[j] >= min)\n",
    "        solver.add(z3_X[j] <= max)\n",
    "    solver.push()\n",
    "    for i in range(0, len(reject_indexes)):\n",
    "        # Add Assertions for 0<= feature <= 1\n",
    "        index_list = list(range(len(z3_X)))\n",
    "        unsat_list = []\n",
    "        sat_list = []\n",
    "        values = []\n",
    "\n",
    "        # Select a feature and unfix it\n",
    "        start = time.perf_counter()\n",
    "        for z in range(0, len(z3_X)):   \n",
    "            for j in range(0, len(z3_X)):\n",
    "                if j != z and j in index_list:  # Choose one to check influence\n",
    "                    solver.add(z3_X[j] == X[reject_indexes[i]][j])\n",
    "            \n",
    "            check = solver.check()\n",
    "            if check == sat:\n",
    "                model = solver.model()\n",
    "                value = model[z3_X[z]].numerator_as_long() / model[z3_X[z]].denominator_as_long()\n",
    "                sat_list.append(z)\n",
    "                values.append(value)\n",
    "                if show_values:\n",
    "                    print('i = ', i, z, check, X[reject_indexes[i]][z], value)\n",
    "            else:\n",
    "                unsat_list.append(z)\n",
    "                index_list.remove(z)\n",
    "                if show_values:\n",
    "                    print('i = ', i, z, check)\n",
    "            \n",
    "            solver.pop()\n",
    "            solver.push()\n",
    "        elapsed_time.append(time.perf_counter()  - start)    \n",
    "        print(\"Finished \", i)\n",
    "        relevant.append(sat_list)\n",
    "        irrelevant.append(unsat_list)\n",
    "        global_values.append(values)\n",
    "        # print(\"Relevant: \",sat_list, '\\nUnsat List: ',unsat_list,'\\n')      \n",
    "    for i in range(0, len(relevant)):\n",
    "        if (show_values):\n",
    "            print('Instance ', i, '\\nRelevant Features: ', relevant[i], '\\nValues: ', global_values[i], '\\nIrrelevant Features: ',\n",
    "                  irrelevant[i], '\\nElapsed time: ',elapsed_time[i],'seconds\\n\\n')\n",
    "    \n",
    "    print(\"Tamanho médio de explicação: \",sum(len(x) for x in relevant)/len(relevant),\" - Custo médio: \",round(sum(elapsed_time)/len(elapsed_time),5),\"seg(s)\")        \n",
    "    return relevant, irrelevant, elapsed_time"
   ]
  },
  {
   "cell_type": "markdown",
   "metadata": {},
   "source": [
    "### For Linear Classifier"
   ]
  },
  {
   "cell_type": "markdown",
   "metadata": {},
   "source": [
    "#### Get thresholds and the rejected for Linear"
   ]
  },
  {
   "cell_type": "code",
   "execution_count": 64,
   "metadata": {},
   "outputs": [
    {
     "name": "stdout",
     "output_type": "stream",
     "text": [
      "Superior Limit:  2.02334139162129 \n",
      "Inferior Limit:  -1.8159002884523145\n",
      "Thresholds by min( E ) from solution:  {'WR': 0.04, 'T1': 0.9105036262295805, 'T2': -0.8171551298035415, 'E': 0.0, 'R': 47, 'EWRR': 1.8800000000000001}\n"
     ]
    },
    {
     "data": {
      "text/plain": [
       "(0.9105036262295805, -0.8171551298035415, 60, 17, 47)"
      ]
     },
     "execution_count": 64,
     "metadata": {},
     "output_type": "execute_result"
    }
   ],
   "source": [
    "T1,T2, positive_indexes,negative_indexes,rejected_indexes,lim_pos,lim_neg = find_thresholds_and_indexes(clf,X_train)\n",
    "T1,T2, positive_indexes.shape[0],negative_indexes.shape[0],rejected_indexes.shape[0]"
   ]
  },
  {
   "cell_type": "markdown",
   "metadata": {},
   "source": [
    "#### Get Z3's equivalent to linear classifier's decision function"
   ]
  },
  {
   "cell_type": "code",
   "execution_count": 29,
   "metadata": {},
   "outputs": [],
   "source": [
    "z3_dual_coef,z3_support_vectors,z3_intercept_,z3_X_Train = to_z3_conversion(clf,X_train)"
   ]
  },
  {
   "cell_type": "code",
   "execution_count": 30,
   "metadata": {},
   "outputs": [],
   "source": [
    "rejected_linear_relevant = []\n",
    "rejected_linear_irrelevant = []\n",
    "positive_linear_relevant = []\n",
    "positive_linear_irrelevant = []\n",
    "negative_linear_relevant = []\n",
    "negative_linear_irrelevant = []\n",
    "rejected_elapsed_time = []\n",
    "positive_elapsed_time = []\n",
    "negative_elapsed_time = []"
   ]
  },
  {
   "cell_type": "code",
   "execution_count": 31,
   "metadata": {
    "tags": []
   },
   "outputs": [
    {
     "name": "stdout",
     "output_type": "stream",
     "text": [
      "Number of Instances:  2\n",
      "Classifier: Linear\n",
      "Declared: Rejected Instances\n",
      "Finished  0\n",
      "Finished  1\n",
      "Tamanho médio de explicação:  5.5  - Custo médio:  0.02102 seg(s)\n"
     ]
    }
   ],
   "source": [
    "if len(rejected_indexes)!=0:\n",
    "    if len(rejected_indexes)>=50:\n",
    "        rejected_linear_relevant, rejected_linear_irrelevant, rejected_elapsed_time = z3_explanation(clf,T1,T2,X_train,z3_dual_coef,z3_support_vectors,z3_X_Train,z3_intercept_,rejected_indexes[0:50],\n",
    "                                                                          sup_lim=lim_pos,inf_lim=lim_neg,show_values=False, rejected = True)\n",
    "    else:\n",
    "        rejected_linear_relevant, rejected_linear_irrelevant, rejected_elapsed_time = z3_explanation(clf,T1,T2,X_train,z3_dual_coef,z3_support_vectors,z3_X_Train,z3_intercept_,rejected_indexes,\n",
    "                                                                          sup_lim=lim_pos,inf_lim=lim_neg,show_values=False, rejected = True)"
   ]
  },
  {
   "cell_type": "code",
   "execution_count": 32,
   "metadata": {},
   "outputs": [
    {
     "name": "stdout",
     "output_type": "stream",
     "text": [
      "Number of Instances:  50\n",
      "Classifier: Linear\n",
      "Declared: Positive Instances\n",
      "Finished  0\n",
      "Finished  1\n",
      "Finished  2\n",
      "Finished  3\n",
      "Finished  4\n",
      "Finished  5\n",
      "Finished  6\n",
      "Finished  7\n",
      "Finished  8\n",
      "Finished  9\n",
      "Finished  10\n",
      "Finished  11\n",
      "Finished  12\n",
      "Finished  13\n",
      "Finished  14\n",
      "Finished  15\n",
      "Finished  16\n",
      "Finished  17\n",
      "Finished  18\n",
      "Finished  19\n",
      "Finished  20\n",
      "Finished  21\n",
      "Finished  22\n",
      "Finished  23\n",
      "Finished  24\n",
      "Finished  25\n",
      "Finished  26\n",
      "Finished  27\n",
      "Finished  28\n",
      "Finished  29\n",
      "Finished  30\n",
      "Finished  31\n",
      "Finished  32\n",
      "Finished  33\n",
      "Finished  34\n",
      "Finished  35\n",
      "Finished  36\n",
      "Finished  37\n",
      "Finished  38\n",
      "Finished  39\n",
      "Finished  40\n",
      "Finished  41\n",
      "Finished  42\n",
      "Finished  43\n",
      "Finished  44\n",
      "Finished  45\n",
      "Finished  46\n",
      "Finished  47\n",
      "Finished  48\n",
      "Finished  49\n",
      "Tamanho médio de explicação:  1.4  - Custo médio:  0.01113 seg(s)\n"
     ]
    }
   ],
   "source": [
    "if len(positive_indexes)!=0:\n",
    "    if len(positive_indexes)>=50:\n",
    "        positive_linear_relevant, positive_linear_irrelevant, positive_elapsed_time = z3_explanation(clf,T1,T2,X_train,z3_dual_coef,z3_support_vectors,z3_X_Train,z3_intercept_,positive_indexes[0:50],\n",
    "                                                                          sup_lim=lim_pos,inf_lim=lim_neg,show_values=False, positive = True)\n",
    "    else:\n",
    "        positive_linear_relevant, positive_linear_irrelevant, positive_elapsed_time = z3_explanation(clf,T1,T2,X_train,z3_dual_coef,z3_support_vectors,z3_X_Train,z3_intercept_,positive_indexes,\n",
    "                                                                          sup_lim=lim_pos,inf_lim=lim_neg,show_values=False, positive = True)"
   ]
  },
  {
   "cell_type": "code",
   "execution_count": 33,
   "metadata": {},
   "outputs": [
    {
     "name": "stdout",
     "output_type": "stream",
     "text": [
      "Number of Instances:  32\n",
      "Classifier: Linear\n",
      "Declared: Negative Instances\n",
      "Finished  0\n",
      "Finished  1\n",
      "Finished  2\n",
      "Finished  3\n",
      "Finished  4\n",
      "Finished  5\n",
      "Finished  6\n",
      "Finished  7\n",
      "Finished  8\n",
      "Finished  9\n",
      "Finished  10\n",
      "Finished  11\n",
      "Finished  12\n",
      "Finished  13\n",
      "Finished  14\n",
      "Finished  15\n",
      "Finished  16\n",
      "Finished  17\n",
      "Finished  18\n",
      "Finished  19\n",
      "Finished  20\n",
      "Finished  21\n",
      "Finished  22\n",
      "Finished  23\n",
      "Finished  24\n",
      "Finished  25\n",
      "Finished  26\n",
      "Finished  27\n",
      "Finished  28\n",
      "Finished  29\n",
      "Finished  30\n",
      "Finished  31\n",
      "Tamanho médio de explicação:  1.125  - Custo médio:  0.01191 seg(s)\n"
     ]
    }
   ],
   "source": [
    "if len(negative_indexes)!=0:\n",
    "    if len(negative_indexes)>=50:\n",
    "        negative_linear_relevant, negative_linear_irrelevant, negative_elapsed_time = z3_explanation(clf,T1,T2,X_train,z3_dual_coef,z3_support_vectors,z3_X_Train,z3_intercept_,negative_indexes[0:50],\n",
    "                                                                          sup_lim=lim_pos,inf_lim=lim_neg,show_values=False, negative = True)\n",
    "    else:\n",
    "        negative_linear_relevant, negative_linear_irrelevant, negative_elapsed_time = z3_explanation(clf,T1,T2,X_train,z3_dual_coef,z3_support_vectors,z3_X_Train,z3_intercept_,negative_indexes,\n",
    "                                                                          sup_lim=lim_pos,inf_lim=lim_neg,show_values=False, negative = True)"
   ]
  },
  {
   "cell_type": "markdown",
   "metadata": {},
   "source": [
    "### For Polynomial Classifier (WIP)"
   ]
  },
  {
   "cell_type": "markdown",
   "metadata": {},
   "source": [
    "#### Get thresholds and the rejected for Poly"
   ]
  },
  {
   "cell_type": "code",
   "execution_count": 34,
   "metadata": {},
   "outputs": [],
   "source": [
    "#T1,T2, positive_indexes,negative_indexes,rejected_indexes = find_thresholds_and_indexes(poly,X_train)\n",
    "#T1,T2, positive_indexes.shape[0],negative_indexes.shape[0],rejected_indexes.shape[0]"
   ]
  },
  {
   "cell_type": "markdown",
   "metadata": {},
   "source": [
    "#### Get Z3's equivalent to Poly classifier's decision function"
   ]
  },
  {
   "cell_type": "code",
   "execution_count": 35,
   "metadata": {},
   "outputs": [],
   "source": [
    "#z3_dual_coef,z3_support_vectors,z3_intercept_,z3_X_Train,z3_gamma,z3_coef0,z3_degree = to_z3_conversion(poly,X_train)"
   ]
  },
  {
   "cell_type": "code",
   "execution_count": 36,
   "metadata": {
    "tags": []
   },
   "outputs": [],
   "source": [
    "#poly_relevant, poly_irrelevant = z3_explanation(poly,T1,T2,X_train,z3_dual_coef,z3_support_vectors,z3_X_Train,z3_intercept_,rejected_indexes[0:1], z3_gamma,z3_coef0,z3_degree, show_values=False)"
   ]
  },
  {
   "cell_type": "markdown",
   "metadata": {
    "id": "oF_vwBRveDln",
    "tags": []
   },
   "source": [
    "# Anchors"
   ]
  },
  {
   "cell_type": "markdown",
   "metadata": {
    "id": "oF_vwBRveDln",
    "tags": []
   },
   "source": [
    "## Setting Up"
   ]
  },
  {
   "cell_type": "code",
   "execution_count": 37,
   "metadata": {},
   "outputs": [],
   "source": [
    "from __future__ import print_function\n",
    "import sys\n",
    "import sklearn\n",
    "import sklearn.ensemble\n",
    "from anchor import utils\n",
    "from anchor import anchor_tabular"
   ]
  },
  {
   "cell_type": "raw",
   "metadata": {},
   "source": [
    "Generating Target Set with Reject Class == 0"
   ]
  },
  {
   "cell_type": "code",
   "execution_count": 38,
   "metadata": {},
   "outputs": [],
   "source": [
    "def generate_ro_target_set(target_set,rejected_indexes):\n",
    "    target_set[rejected_indexes] = 0\n",
    "    return target_set"
   ]
  },
  {
   "cell_type": "code",
   "execution_count": 39,
   "metadata": {
    "tags": []
   },
   "outputs": [
    {
     "name": "stdout",
     "output_type": "stream",
     "text": [
      "[-1  0  1]\n"
     ]
    }
   ],
   "source": [
    "ro_set = generate_ro_target_set(y_train,rejected_indexes)\n",
    "print(np.unique(ro_set))"
   ]
  },
  {
   "cell_type": "code",
   "execution_count": 40,
   "metadata": {},
   "outputs": [],
   "source": [
    "feature_list = []\n",
    "for i in range(0,len(X_train[0])):\n",
    "    feature_list.append(str(i))\n",
    "feature_list = np.array(feature_list)"
   ]
  },
  {
   "cell_type": "code",
   "execution_count": 41,
   "metadata": {
    "tags": []
   },
   "outputs": [],
   "source": [
    "explainer = anchor_tabular.AnchorTabularExplainer(\n",
    "    [-1,0,1],\n",
    "    feature_list,\n",
    "    X_train)"
   ]
  },
  {
   "cell_type": "code",
   "execution_count": 42,
   "metadata": {},
   "outputs": [],
   "source": [
    "def svm_decfun(data,classifier=clf):\n",
    "    data = np.atleast_2d(data)\n",
    "    return ((classifier.dual_coef_ @ classifier.support_vectors_) @ data.T + classifier.intercept_)[0][0]"
   ]
  },
  {
   "cell_type": "code",
   "execution_count": 43,
   "metadata": {},
   "outputs": [],
   "source": [
    "def svm_decfun_class(data,classifier=clf,Threshold_1=T1,Threshold_2=T2):\n",
    "    if svm_decfun(data) >= Threshold_1:\n",
    "        return np.array([2]) #class 1, since [-1, 0, 1]\n",
    "    elif svm_decfun(data) < Threshold_2:\n",
    "        return np.array([0]) #class -1\n",
    "    else:\n",
    "        return np.array([1]) #class 0"
   ]
  },
  {
   "cell_type": "markdown",
   "metadata": {
    "id": "oF_vwBRveDln",
    "tags": []
   },
   "source": [
    "## Explanation for 1 Instance"
   ]
  },
  {
   "cell_type": "markdown",
   "metadata": {
    "tags": []
   },
   "source": [
    "### Anchors Explanation"
   ]
  },
  {
   "cell_type": "code",
   "execution_count": 44,
   "metadata": {
    "tags": []
   },
   "outputs": [
    {
     "data": {
      "text/plain": [
       "\"idx = rejected_indexes[0]\\nnp.random.seed(1)\\nprint('Prediction: ', explainer.class_names[svm_decfun_class(X_train[idx])[0]])\\nexp = explainer.explain_instance(X_train[idx], svm_decfun_class, threshold=1)\""
      ]
     },
     "execution_count": 44,
     "metadata": {},
     "output_type": "execute_result"
    }
   ],
   "source": [
    "'''idx = rejected_indexes[0]\n",
    "np.random.seed(1)\n",
    "print('Prediction: ', explainer.class_names[svm_decfun_class(X_train[idx])[0]])\n",
    "exp = explainer.explain_instance(X_train[idx], svm_decfun_class, threshold=1)'''"
   ]
  },
  {
   "cell_type": "code",
   "execution_count": 45,
   "metadata": {},
   "outputs": [],
   "source": [
    "def explain_instance_anchors(explainer,svm_decfun_class,X_train,indexes):\n",
    "    np.random.seed(1)\n",
    "    elapsed_time = []\n",
    "    exp = None\n",
    "    for idx in indexes:    \n",
    "        print('Prediction: ', explainer.class_names[svm_decfun_class(X_train[idx])[0]])\n",
    "        start = time.perf_counter()  \n",
    "        exp = explainer.explain_instance(X_train[idx], svm_decfun_class, threshold=1)\n",
    "        elapsed_time.append(time.perf_counter()-start)\n",
    "    return exp,elapsed_time"
   ]
  },
  {
   "cell_type": "code",
   "execution_count": 46,
   "metadata": {
    "tags": []
   },
   "outputs": [
    {
     "data": {
      "text/plain": [
       "'rejected_exp = None\\nrejected_anchors_time = None\\nif len(rejected_indexes)!=0:\\n    if len(rejected_indexes)>=50:\\n        rejected_exp,rejected_anchors_time = explain_instance_anchors(explainer,svm_decfun_class,X_train,rejected_indexes[0:50])\\n    else:\\n        rejected_exp,rejected_anchors_time = explain_instance_anchors(explainer,svm_decfun_class,X_train,rejected_indexes)\\nif rejected_anchors_time != None and rejected_exp != None:    \\n    print(\"Tempo Médio Anchors Rejeitados = \",sum(rejected_anchors_time)/len(rejected_anchors_time))'"
      ]
     },
     "execution_count": 46,
     "metadata": {},
     "output_type": "execute_result"
    }
   ],
   "source": [
    "'''rejected_exp = None\n",
    "rejected_anchors_time = None\n",
    "if len(rejected_indexes)!=0:\n",
    "    if len(rejected_indexes)>=50:\n",
    "        rejected_exp,rejected_anchors_time = explain_instance_anchors(explainer,svm_decfun_class,X_train,rejected_indexes[0:50])\n",
    "    else:\n",
    "        rejected_exp,rejected_anchors_time = explain_instance_anchors(explainer,svm_decfun_class,X_train,rejected_indexes)\n",
    "if rejected_anchors_time != None and rejected_exp != None:    \n",
    "    print(\"Tempo Médio Anchors Rejeitados = \",sum(rejected_anchors_time)/len(rejected_anchors_time))'''"
   ]
  },
  {
   "cell_type": "code",
   "execution_count": 47,
   "metadata": {
    "tags": []
   },
   "outputs": [
    {
     "data": {
      "text/plain": [
       "'positive_exp = None\\npositive_anchors_time = None\\nif len(positive_indexes)!=0:\\n    if len(positive_indexes)>=50:\\n        positive_exp,positive_anchors_time = explain_instance_anchors(explainer,svm_decfun_class,X_train,positive_indexes[0:50])\\n    else:\\n        positive_exp,positive_anchors_time = explain_instance_anchors(explainer,svm_decfun_class,X_train,positive_indexes)\\nif positive_anchors_time != None and positive_exp != None:        \\n    print(\"Tempo Médio Anchors Positivos = \",sum(positive_anchors_time)/len(positive_anchors_time))'"
      ]
     },
     "execution_count": 47,
     "metadata": {},
     "output_type": "execute_result"
    }
   ],
   "source": [
    "'''positive_exp = None\n",
    "positive_anchors_time = None\n",
    "if len(positive_indexes)!=0:\n",
    "    if len(positive_indexes)>=50:\n",
    "        positive_exp,positive_anchors_time = explain_instance_anchors(explainer,svm_decfun_class,X_train,positive_indexes[0:50])\n",
    "    else:\n",
    "        positive_exp,positive_anchors_time = explain_instance_anchors(explainer,svm_decfun_class,X_train,positive_indexes)\n",
    "if positive_anchors_time != None and positive_exp != None:        \n",
    "    print(\"Tempo Médio Anchors Positivos = \",sum(positive_anchors_time)/len(positive_anchors_time))'''"
   ]
  },
  {
   "cell_type": "code",
   "execution_count": 48,
   "metadata": {
    "tags": []
   },
   "outputs": [
    {
     "data": {
      "text/plain": [
       "'negative_exp = None\\nnegative_anchors_time = None\\nif len(negative_indexes)!=0:\\n    if len(negative_indexes)>=50:\\n        negative_exp,negative_anchors_time = explain_instance_anchors(explainer,svm_decfun_class,X_train,negative_indexes[0:50])\\n    else:\\n        negative_exp,negative_anchors_time = explain_instance_anchors(explainer,svm_decfun_class,X_train,negative_indexes)\\nif negative_anchors_time != None and negative_exp != None:\\n    print(\"Tempo Médio Anchors Negativos = \",sum(negative_anchors_time)/len(negative_anchors_time))'"
      ]
     },
     "execution_count": 48,
     "metadata": {},
     "output_type": "execute_result"
    }
   ],
   "source": [
    "'''negative_exp = None\n",
    "negative_anchors_time = None\n",
    "if len(negative_indexes)!=0:\n",
    "    if len(negative_indexes)>=50:\n",
    "        negative_exp,negative_anchors_time = explain_instance_anchors(explainer,svm_decfun_class,X_train,negative_indexes[0:50])\n",
    "    else:\n",
    "        negative_exp,negative_anchors_time = explain_instance_anchors(explainer,svm_decfun_class,X_train,negative_indexes)\n",
    "if negative_anchors_time != None and negative_exp != None:\n",
    "    print(\"Tempo Médio Anchors Negativos = \",sum(negative_anchors_time)/len(negative_anchors_time))'''"
   ]
  },
  {
   "cell_type": "code",
   "execution_count": 49,
   "metadata": {
    "jupyter": {
     "source_hidden": true
    },
    "tags": []
   },
   "outputs": [
    {
     "data": {
      "text/plain": [
       "'soma = 0\\ntamanho = 0\\nif rejected_anchors_time != None:\\n    soma += sum(rejected_anchors_time)\\n    tamanho += len(rejected_anchors_time)\\n    print(\"Tempo Médio Anchors Rejeitados = \",sum(rejected_anchors_time)/len(rejected_anchors_time))\\nif positive_anchors_time != None:\\n    soma += sum(positive_anchors_time)\\n    tamanho += len(positive_anchors_time)\\n    print(\"Tempo Médio Anchors Positivos = \",sum(positive_anchors_time)/len(positive_anchors_time))\\nif negative_anchors_time != None:\\n    soma += sum(negative_anchors_time)\\n    tamanho += len(negative_anchors_time)\\n    print(\"Tempo Médio Anchors Negativos = \",sum(negative_anchors_time)/len(negative_anchors_time))      \\nif tamanho != 0:\\n    print(\"Tamanho Médio Total: \",soma/tamanho,\\'sec\\')\\n    print(\"Soma: \",soma,\" Tamanho: \",tamanho)'"
      ]
     },
     "execution_count": 49,
     "metadata": {},
     "output_type": "execute_result"
    }
   ],
   "source": [
    "'''soma = 0\n",
    "tamanho = 0\n",
    "if rejected_anchors_time != None:\n",
    "    soma += sum(rejected_anchors_time)\n",
    "    tamanho += len(rejected_anchors_time)\n",
    "    print(\"Tempo Médio Anchors Rejeitados = \",sum(rejected_anchors_time)/len(rejected_anchors_time))\n",
    "if positive_anchors_time != None:\n",
    "    soma += sum(positive_anchors_time)\n",
    "    tamanho += len(positive_anchors_time)\n",
    "    print(\"Tempo Médio Anchors Positivos = \",sum(positive_anchors_time)/len(positive_anchors_time))\n",
    "if negative_anchors_time != None:\n",
    "    soma += sum(negative_anchors_time)\n",
    "    tamanho += len(negative_anchors_time)\n",
    "    print(\"Tempo Médio Anchors Negativos = \",sum(negative_anchors_time)/len(negative_anchors_time))      \n",
    "if tamanho != 0:\n",
    "    print(\"Tamanho Médio Total: \",soma/tamanho,'sec')\n",
    "    print(\"Soma: \",soma,\" Tamanho: \",tamanho)'''"
   ]
  },
  {
   "cell_type": "code",
   "execution_count": 50,
   "metadata": {
    "tags": []
   },
   "outputs": [],
   "source": [
    "#exp.show_in_notebook()"
   ]
  },
  {
   "cell_type": "markdown",
   "metadata": {
    "id": "oF_vwBRveDln",
    "tags": []
   },
   "source": [
    "### Anchors Explanation on Z3 - WIP"
   ]
  },
  {
   "cell_type": "code",
   "execution_count": 51,
   "metadata": {
    "jupyter": {
     "source_hidden": true
    },
    "tags": []
   },
   "outputs": [],
   "source": [
    "def anchors_to_z3_explanation(explainer, X, t1, t2, z3_coef, z3_sup_vec, z3_X, z3_intercept, indexes,\n",
    "                              z3_gamma=None, z3_coef0=None, z3_degree=None,min=0,max=1,positive=False,negative=False,rejected=False):\n",
    "    print('Started')\n",
    "    sat_var = 0\n",
    "    unsat_var = 0\n",
    "    np.random.seed(1)\n",
    "    solver = Solver()\n",
    "    feature_sizes = []\n",
    "    anchors_time = []\n",
    "    if rejected:\n",
    "        print(\"Declared: Rejected Instances\")\n",
    "        solver.add(Or(((z3_coef @ z3_sup_vec) @ z3_X.reshape(1, len(z3_X)).T + z3_intercept)[0][0] >= t1,\n",
    "                      ((z3_coef @ z3_sup_vec) @ z3_X.reshape(1, len(z3_X)).T + z3_intercept)[0][0] < t2))\n",
    "    elif positive:\n",
    "        print(\"Declared: Positive Instances\")\n",
    "        solver.add(((z3_coef @ z3_sup_vec) @ z3_X.reshape(1, len(z3_X)).T + z3_intercept)[0][0] < t1)\n",
    "    elif negative:\n",
    "        print(\"Declared: Negative Instances\")\n",
    "        solver.add(((z3_coef @ z3_sup_vec) @ z3_X.reshape(1, len(z3_X)).T + z3_intercept)[0][0] >= t2)\n",
    "    else:\n",
    "        print(\"WARNING: Must declare if are positive,negative or rejected instances!\")\n",
    "        return None\n",
    "    for j in range(0, len(z3_X)):\n",
    "        solver.add(z3_X[j] >= min)\n",
    "        solver.add(z3_X[j] <= max)\n",
    "    solver.push()\n",
    "    for idx in indexes:\n",
    "        print('Prediction: ', explainer.class_names[svm_decfun_class(X[idx])[0]])\n",
    "        start = time.perf_counter()  \n",
    "        exp = explainer.explain_instance(X[idx], svm_decfun_class, threshold=1)\n",
    "        anchors_time.append(time.perf_counter() - start)\n",
    "        #print(exp.names())\n",
    "        print('Index = ', idx)\n",
    "        feature_sizes.append(len(np.unique((exp.features()))))\n",
    "        for feature in np.unique(exp.features()):       \n",
    "            solver.add(z3_X[feature] == X[idx][feature])\n",
    "            #print(\"Added restrictions: \",z3_X[feature],X[idx][feature])\n",
    "        \n",
    "        print(solver.check(), ' for ', idx,'\\n')\n",
    "        if solver.check() == sat:\n",
    "            model = solver.model()\n",
    "            print(model)\n",
    "            sat_var +=1\n",
    "        else:\n",
    "            unsat_var +=1\n",
    "        \n",
    "        print('\\n---------------\\n')\n",
    "        solver.pop()\n",
    "        solver.push()\n",
    "    print(\"Sat = \",sat_var,\"\\nUnsat = \",unsat_var)\n",
    "    return sat_var,unsat_var,feature_sizes,anchors_time"
   ]
  },
  {
   "cell_type": "code",
   "execution_count": 52,
   "metadata": {},
   "outputs": [],
   "source": [
    "rejected_sat_var = 0\n",
    "rejected_unsat_var = 0\n",
    "positive_sat_var = 0\n",
    "positive_unsat_var = 0\n",
    "negative_sat_var = 0\n",
    "negative_unsat_var = 0\n",
    "rejected_feature_sizes = []\n",
    "positive_feature_sizes = []\n",
    "negative_feature_sizes = []\n",
    "r_time = []\n",
    "p_time = []\n",
    "n_time  = []"
   ]
  },
  {
   "cell_type": "code",
   "execution_count": 53,
   "metadata": {
    "collapsed": true,
    "jupyter": {
     "outputs_hidden": true
    },
    "tags": []
   },
   "outputs": [
    {
     "name": "stdout",
     "output_type": "stream",
     "text": [
      "Started\n",
      "Declared: Rejected Instances\n",
      "Prediction:  0\n",
      "Index =  16\n",
      "sat  for  16 \n",
      "\n",
      "[x__4 = 29725514474334327/500000000000000000,\n",
      " x__9 = 7396405674248603/2500000000000000000,\n",
      " x__11 = 9941245453517237/5000000000000000000,\n",
      " x__6 = 424139963211439/250000000000000000,\n",
      " x__5 = 1,\n",
      " x__8 = 5149207974426593/5000000000000000000,\n",
      " x__0 = 1,\n",
      " x__2 = 1,\n",
      " x__3 = 378935572395483/31250000000000000,\n",
      " x__10 = 1083417169185711/2000000000000000000,\n",
      " x__1 = 5000386934703281/5000000000000000000,\n",
      " x__12 = 39711730388008691351530236527992537543181858161743237883/51292864442596728074729477997391600000000000000000000000,\n",
      " x__7 = 386934703280611/5000000000000000000]\n",
      "\n",
      "---------------\n",
      "\n",
      "Prediction:  0\n",
      "Index =  63\n",
      "unsat  for  63 \n",
      "\n",
      "\n",
      "---------------\n",
      "\n",
      "Sat =  1 \n",
      "Unsat =  1\n"
     ]
    }
   ],
   "source": [
    "if len(rejected_indexes)!=0:\n",
    "    if len(rejected_indexes)>=50:\n",
    "        rejected_sat_var, rejected_unsat_var, rejected_feature_sizes,r_time = anchors_to_z3_explanation(explainer, X_train, T1, T2, z3_dual_coef, z3_support_vectors, z3_X_Train, z3_intercept_,rejected_indexes[0:50],rejected=True)\n",
    "    else:\n",
    "        rejected_sat_var, rejected_unsat_var, rejected_feature_sizes,r_time = anchors_to_z3_explanation(explainer, X_train, T1, T2, z3_dual_coef, z3_support_vectors, z3_X_Train, z3_intercept_,rejected_indexes,rejected=True)"
   ]
  },
  {
   "cell_type": "code",
   "execution_count": 54,
   "metadata": {
    "collapsed": true,
    "jupyter": {
     "outputs_hidden": true
    },
    "tags": []
   },
   "outputs": [
    {
     "name": "stdout",
     "output_type": "stream",
     "text": [
      "Started\n",
      "Declared: Positive Instances\n",
      "Prediction:  1\n",
      "Index =  1\n",
      "sat  for  1 \n",
      "\n",
      "[x__4 = 1,\n",
      " x__9 = 0,\n",
      " x__11 = 1631078595367499/1000000000000000000,\n",
      " x__6 = 1,\n",
      " x__5 = 1,\n",
      " x__8 = 1,\n",
      " x__0 = 1,\n",
      " x__2 = 1,\n",
      " x__3 = 0,\n",
      " x__10 = 1,\n",
      " x__1 = 4107460696363409/5000000000000000000,\n",
      " x__12 = 1815618212165834468511385945415557105805301130825685623/2564643222129836403736473899869580000000000000000000000,\n",
      " x__7 = 0]\n",
      "\n",
      "---------------\n",
      "\n",
      "Prediction:  1\n",
      "Index =  2\n",
      "sat  for  2 \n",
      "\n",
      "[x__4 = 1,\n",
      " x__9 = 0,\n",
      " x__11 = 1631078595367499/1000000000000000000,\n",
      " x__6 = 1,\n",
      " x__5 = 1,\n",
      " x__8 = 1,\n",
      " x__0 = 761963723383357/100000000000000000,\n",
      " x__2 = 1,\n",
      " x__3 = 0,\n",
      " x__10 = 1,\n",
      " x__1 = 4107460696363409/5000000000000000000,\n",
      " x__12 = 45533716238994454998059717712869890653511910778899484571/64116080553245910093411847496739500000000000000000000000,\n",
      " x__7 = 2976420794466239/12500000000000000000]\n",
      "\n",
      "---------------\n",
      "\n",
      "Prediction:  1\n",
      "Index =  3\n",
      "sat  for  3 \n",
      "\n",
      "[x__4 = 1,\n",
      " x__9 = 0,\n",
      " x__11 = 1631078595367499/1000000000000000000,\n",
      " x__6 = 1,\n",
      " x__5 = 9941245453517237/10000000000000000000,\n",
      " x__8 = 1,\n",
      " x__0 = 761963723383357/100000000000000000,\n",
      " x__2 = 1,\n",
      " x__3 = 5467684999434481/500000000000000000,\n",
      " x__10 = 1,\n",
      " x__1 = 4107460696363409/5000000000000000000,\n",
      " x__12 = 45716274077028512135620006202599703042780676457104477721/64116080553245910093411847496739500000000000000000000000,\n",
      " x__7 = 2976420794466239/12500000000000000000]\n",
      "\n",
      "---------------\n",
      "\n",
      "Prediction:  1\n",
      "Index =  7\n",
      "unsat  for  7 \n",
      "\n",
      "\n",
      "---------------\n",
      "\n",
      "Prediction:  1\n",
      "Index =  8\n",
      "sat  for  8 \n",
      "\n",
      "[x__4 = 1,\n",
      " x__9 = 0,\n",
      " x__11 = 1,\n",
      " x__6 = 1,\n",
      " x__5 = 1,\n",
      " x__8 = 1,\n",
      " x__0 = 1,\n",
      " x__2 = 11301097703989/7812500000000000,\n",
      " x__3 = 11113955246536937/1000000000000000000,\n",
      " x__10 = 122628536732009/200000000000000000,\n",
      " x__1 = 0,\n",
      " x__12 = 723901287022853684920992062125235367783731909060684317/1025857288851934561494589559947832000000000000000000000,\n",
      " x__7 = 0]\n",
      "\n",
      "---------------\n",
      "\n",
      "Prediction:  1\n",
      "Index =  9\n",
      "sat  for  9 \n",
      "\n",
      "[x__4 = 1,\n",
      " x__9 = 0,\n",
      " x__11 = 1,\n",
      " x__6 = 1,\n",
      " x__5 = 2529957675296303/2500000000000000000,\n",
      " x__8 = 1,\n",
      " x__0 = 1,\n",
      " x__2 = 11301097703989/7812500000000000,\n",
      " x__3 = 11828296237208833/1000000000000000000,\n",
      " x__10 = 122628536732009/200000000000000000,\n",
      " x__1 = 0,\n",
      " x__12 = 3633507272766945843104945249261035126751433880331232737/5129286444259672807472947799739160000000000000000000000,\n",
      " x__7 = 0]\n",
      "\n",
      "---------------\n",
      "\n",
      "Prediction:  1\n",
      "Index =  10\n",
      "sat  for  10 \n",
      "\n",
      "[x__4 = 1,\n",
      " x__9 = 0,\n",
      " x__11 = 1,\n",
      " x__6 = 1,\n",
      " x__5 = 2529957675296303/2500000000000000000,\n",
      " x__8 = 1,\n",
      " x__0 = 1,\n",
      " x__2 = 11301097703989/7812500000000000,\n",
      " x__3 = 11828296237208833/1000000000000000000,\n",
      " x__10 = 1637031436956431/6250000000000000000,\n",
      " x__1 = 67267109954937/50000000000000000,\n",
      " x__12 = 2838689149173425323388225755782575809538464551282259903/4007255034577869380838240468546218750000000000000000000,\n",
      " x__7 = 0]\n",
      "\n",
      "---------------\n",
      "\n",
      "Prediction:  1\n",
      "Index =  11\n",
      "unsat  for  11 \n",
      "\n",
      "\n",
      "---------------\n",
      "\n",
      "Prediction:  1\n",
      "Index =  14\n",
      "sat  for  14 \n",
      "\n",
      "[x__4 = 1,\n",
      " x__9 = 0,\n",
      " x__11 = 1,\n",
      " x__6 = 1,\n",
      " x__5 = 1,\n",
      " x__8 = 1,\n",
      " x__0 = 1,\n",
      " x__2 = 2107305922482097/2000000000000000000,\n",
      " x__3 = 5467684999434481/500000000000000000,\n",
      " x__10 = 1,\n",
      " x__1 = 0,\n",
      " x__12 = 90387038898991102683642858486448036950675544809694991/128232161106491820186823694993479000000000000000000000,\n",
      " x__7 = 0]\n",
      "\n",
      "---------------\n",
      "\n",
      "Prediction:  1\n",
      "Index =  15\n",
      "unsat  for  15 \n",
      "\n",
      "\n",
      "---------------\n",
      "\n",
      "Prediction:  1\n",
      "Index =  17\n",
      "unsat  for  17 \n",
      "\n",
      "\n",
      "---------------\n",
      "\n",
      "Prediction:  1\n",
      "Index =  18\n",
      "sat  for  18 \n",
      "\n",
      "[x__4 = 600463131075619/10000000000000000,\n",
      " x__9 = 0,\n",
      " x__11 = 1,\n",
      " x__6 = 1,\n",
      " x__5 = 1,\n",
      " x__8 = 1,\n",
      " x__0 = 1,\n",
      " x__2 = 6399304708102413/5000000000000000000,\n",
      " x__3 = 0,\n",
      " x__10 = 1,\n",
      " x__1 = 2833552596331859/2000000000000000000,\n",
      " x__12 = 3719309560573928599179165889644918949739990966566618859/5129286444259672807472947799739160000000000000000000000,\n",
      " x__7 = 0]\n",
      "\n",
      "---------------\n",
      "\n",
      "Prediction:  1\n",
      "Index =  19\n",
      "sat  for  19 \n",
      "\n",
      "[x__4 = 600463131075619/10000000000000000,\n",
      " x__9 = 1931697095608589/500000000000000000,\n",
      " x__11 = 4821801687035307/5000000000000000000,\n",
      " x__6 = 1,\n",
      " x__5 = 1,\n",
      " x__8 = 1,\n",
      " x__0 = 1,\n",
      " x__2 = 6399304708102413/5000000000000000000,\n",
      " x__3 = 0,\n",
      " x__10 = 1,\n",
      " x__1 = 2833552596331859/2000000000000000000,\n",
      " x__12 = 3737709144776066368044406080238423295617826412034686887/5129286444259672807472947799739160000000000000000000000,\n",
      " x__7 = 0]\n",
      "\n",
      "---------------\n",
      "\n",
      "Prediction:  1\n",
      "Index =  22\n",
      "sat  for  22 \n",
      "\n",
      "[x__4 = 600463131075619/10000000000000000,\n",
      " x__9 = 1931697095608589/500000000000000000,\n",
      " x__11 = 4821801687035307/5000000000000000000,\n",
      " x__6 = 8750677135730743/10000000000000000000,\n",
      " x__5 = 1,\n",
      " x__8 = 1,\n",
      " x__0 = 1,\n",
      " x__2 = 6399304708102413/5000000000000000000,\n",
      " x__3 = 0,\n",
      " x__10 = 1,\n",
      " x__1 = 3988403864584759/5000000000000000000,\n",
      " x__12 = 1884091736122611575042560049694638817300428330215874903/2564643222129836403736473899869580000000000000000000000,\n",
      " x__7 = 0]\n",
      "\n",
      "---------------\n",
      "\n",
      "Prediction:  1\n",
      "Index =  23\n",
      "unsat  for  23 \n",
      "\n",
      "\n",
      "---------------\n",
      "\n",
      "Prediction:  1\n",
      "Index =  24\n",
      "unsat  for  24 \n",
      "\n",
      "\n",
      "---------------\n",
      "\n",
      "Prediction:  1\n",
      "Index =  25\n",
      "sat  for  25 \n",
      "\n",
      "[x__4 = 1,\n",
      " x__9 = 0,\n",
      " x__11 = 1607267229011769/1000000000000000000,\n",
      " x__6 = 1,\n",
      " x__5 = 1,\n",
      " x__8 = 1,\n",
      " x__0 = 1,\n",
      " x__2 = 1,\n",
      " x__3 = 5318863959711169/500000000000000000,\n",
      " x__10 = 1,\n",
      " x__1 = 0,\n",
      " x__12 = 181592840397154825431258391886823721468266955754323309/256464322212983640373647389986958000000000000000000000,\n",
      " x__7 = 0]\n",
      "\n",
      "---------------\n",
      "\n",
      "Prediction:  1\n",
      "Index =  26\n",
      "sat  for  26 \n",
      "\n",
      "[x__4 = 1,\n",
      " x__9 = 0,\n",
      " x__11 = 1607267229011769/1000000000000000000,\n",
      " x__6 = 1,\n",
      " x__5 = 2107305922482097/2000000000000000000,\n",
      " x__8 = 1,\n",
      " x__0 = 1,\n",
      " x__2 = 1,\n",
      " x__3 = 5318863959711169/500000000000000000,\n",
      " x__10 = 1,\n",
      " x__1 = 0,\n",
      " x__12 = 99071075260107504006789896801502155165767828667271023/139382783811404152376982277166825000000000000000000000,\n",
      " x__7 = 5952841588932477/20000000000000000000]\n",
      "\n",
      "---------------\n",
      "\n",
      "Prediction:  1\n",
      "Index =  27\n",
      "sat  for  27 \n",
      "\n",
      "[x__4 = 1,\n",
      " x__9 = 0,\n",
      " x__11 = 1607267229011769/1000000000000000000,\n",
      " x__6 = 1,\n",
      " x__5 = 2107305922482097/2000000000000000000,\n",
      " x__8 = 1,\n",
      " x__0 = 1,\n",
      " x__2 = 1,\n",
      " x__3 = 14804717031675073/1000000000000000000,\n",
      " x__10 = 5952841588932477/10000000000000000000,\n",
      " x__1 = 0,\n",
      " x__12 = 36500767909343063892589488133606586757605313242391695597/51292864442596728074729477997391600000000000000000000000,\n",
      " x__7 = 5952841588932477/20000000000000000000]\n",
      "\n",
      "---------------\n",
      "\n",
      "Prediction:  1\n",
      "Index =  28\n",
      "unsat  for  28 \n",
      "\n",
      "\n",
      "---------------\n",
      "\n",
      "Prediction:  1\n",
      "Index =  29\n",
      "sat  for  29 \n",
      "\n",
      "[x__4 = 1,\n",
      " x__9 = 2601391774363493/1000000000000000000,\n",
      " x__11 = 1,\n",
      " x__6 = 1,\n",
      " x__5 = 1,\n",
      " x__8 = 1,\n",
      " x__0 = 1,\n",
      " x__2 = 14763047140552543/10000000000000000000,\n",
      " x__3 = 5497449207379143/500000000000000000,\n",
      " x__10 = 1,\n",
      " x__1 = 0,\n",
      " x__12 = 903881661879431674521721079129189092959561844862276683/1282321611064918201868236949934790000000000000000000000,\n",
      " x__7 = 0]\n",
      "\n",
      "---------------\n",
      "\n",
      "Prediction:  1\n",
      "Index =  31\n",
      "sat  for  31 \n",
      "\n",
      "[x__4 = 1,\n",
      " x__9 = 623560156440677/250000000000000000,\n",
      " x__11 = 833397822450547/500000000000000000,\n",
      " x__6 = 1,\n",
      " x__5 = 1,\n",
      " x__8 = 1,\n",
      " x__0 = 1,\n",
      " x__2 = 14763047140552543/10000000000000000000,\n",
      " x__3 = 5497449207379143/500000000000000000,\n",
      " x__10 = 1,\n",
      " x__1 = 0,\n",
      " x__12 = 56778884883118125843092179531616487964032343689472733/80145100691557387616764809370924375000000000000000000,\n",
      " x__7 = 0]\n",
      "\n",
      "---------------\n",
      "\n",
      "Prediction:  1\n",
      "Index =  33\n",
      "sat  for  33 \n",
      "\n",
      "[x__4 = 1,\n",
      " x__9 = 623560156440677/250000000000000000,\n",
      " x__11 = 833397822450547/500000000000000000,\n",
      " x__6 = 1,\n",
      " x__5 = 1,\n",
      " x__8 = 4524159607588683/5000000000000000000,\n",
      " x__0 = 1,\n",
      " x__2 = 14763047140552543/10000000000000000000,\n",
      " x__3 = 5497449207379143/500000000000000000,\n",
      " x__10 = 1,\n",
      " x__1 = 0,\n",
      " x__12 = 1821033772244834674753258129415811273933080372738365261/2564643222129836403736473899869580000000000000000000000,\n",
      " x__7 = 0]\n",
      "\n",
      "---------------\n",
      "\n",
      "Prediction:  1\n",
      "Index =  34\n",
      "unsat  for  34 \n",
      "\n",
      "\n",
      "---------------\n",
      "\n",
      "Prediction:  1\n",
      "Index =  35\n",
      "unsat  for  35 \n",
      "\n",
      "\n",
      "---------------\n",
      "\n",
      "Prediction:  1\n",
      "Index =  37\n",
      "sat  for  37 \n",
      "\n",
      "[x__4 = 1,\n",
      " x__9 = 0,\n",
      " x__11 = 1,\n",
      " x__6 = 1,\n",
      " x__5 = 1,\n",
      " x__8 = 2128140868043361/2500000000000000000,\n",
      " x__0 = 1,\n",
      " x__2 = 1,\n",
      " x__3 = 0,\n",
      " x__10 = 1,\n",
      " x__1 = 0,\n",
      " x__12 = 181056159569786045280179730041794716460000139161653787/256464322212983640373647389986958000000000000000000000,\n",
      " x__7 = 0]\n",
      "\n",
      "---------------\n",
      "\n",
      "Prediction:  1\n",
      "Index =  38\n",
      "sat  for  38 \n",
      "\n",
      "[x__4 = 1,\n",
      " x__9 = 735175936233161/500000000000000000,\n",
      " x__11 = 1,\n",
      " x__6 = 4821801687035307/5000000000000000000,\n",
      " x__5 = 1,\n",
      " x__8 = 2128140868043361/2500000000000000000,\n",
      " x__0 = 1,\n",
      " x__2 = 1,\n",
      " x__3 = 0,\n",
      " x__10 = 1,\n",
      " x__1 = 0,\n",
      " x__12 = 912906233856211290478538168840095944882177138585161591/1282321611064918201868236949934790000000000000000000000,\n",
      " x__7 = 0]\n",
      "\n",
      "---------------\n",
      "\n",
      "Prediction:  1\n",
      "Index =  41\n",
      "sat  for  41 \n",
      "\n",
      "[x__4 = 1,\n",
      " x__9 = 3006185002410901/2500000000000000000,\n",
      " x__11 = 1,\n",
      " x__6 = 4821801687035307/5000000000000000000,\n",
      " x__5 = 1,\n",
      " x__8 = 2128140868043361/2500000000000000000,\n",
      " x__0 = 1,\n",
      " x__2 = 1,\n",
      " x__3 = 5318863959711169/500000000000000000,\n",
      " x__10 = 1,\n",
      " x__1 = 0,\n",
      " x__12 = 913062178840584969759632345645497877521895740684096749/1282321611064918201868236949934790000000000000000000000,\n",
      " x__7 = 0]\n",
      "\n",
      "---------------\n",
      "\n",
      "Prediction:  1\n",
      "Index =  42\n",
      "sat  for  42 \n",
      "\n",
      "[x__4 = 1,\n",
      " x__9 = 3006185002410901/2500000000000000000,\n",
      " x__11 = 1,\n",
      " x__6 = 15179746051777819/10000000000000000000,\n",
      " x__5 = 1,\n",
      " x__8 = 2128140868043361/2500000000000000000,\n",
      " x__0 = 1,\n",
      " x__2 = 16132200706007013/10000000000000000000,\n",
      " x__3 = 5318863959711169/500000000000000000,\n",
      " x__10 = 1,\n",
      " x__1 = 8988790799288039/10000000000000000000,\n",
      " x__12 = 5237726728854019/10000000000000000,\n",
      " x__7 = 0]\n",
      "\n",
      "---------------\n",
      "\n",
      "Prediction:  1\n",
      "Index =  43\n",
      "sat  for  43 \n",
      "\n",
      "[x__4 = 1,\n",
      " x__9 = 3006185002410901/2500000000000000000,\n",
      " x__11 = 16221493329841/12500000000000000,\n",
      " x__6 = 15179746051777819/10000000000000000000,\n",
      " x__5 = 1,\n",
      " x__8 = 1559644496300309/2000000000000000000,\n",
      " x__0 = 1,\n",
      " x__2 = 16132200706007013/10000000000000000000,\n",
      " x__3 = 5318863959711169/500000000000000000,\n",
      " x__10 = 1,\n",
      " x__1 = 8988790799288039/10000000000000000000,\n",
      " x__12 = 5237726728854019/10000000000000000,\n",
      " x__7 = 0]\n",
      "\n",
      "---------------\n",
      "\n",
      "Prediction:  1\n",
      "Index =  44\n",
      "sat  for  44 \n",
      "\n",
      "[x__4 = 1,\n",
      " x__9 = 3006185002410901/2500000000000000000,\n",
      " x__11 = 16221493329841/12500000000000000,\n",
      " x__6 = 15179746051777819/10000000000000000000,\n",
      " x__5 = 1,\n",
      " x__8 = 1559644496300309/2000000000000000000,\n",
      " x__0 = 1,\n",
      " x__2 = 198118009131659/156250000000000000,\n",
      " x__3 = 5318863959711169/500000000000000000,\n",
      " x__10 = 1,\n",
      " x__1 = 8988790799288039/10000000000000000000,\n",
      " x__12 = 5237726728854019/10000000000000000,\n",
      " x__7 = 0]\n",
      "\n",
      "---------------\n",
      "\n",
      "Prediction:  1\n",
      "Index =  45\n",
      "sat  for  45 \n",
      "\n",
      "[x__4 = 1769035699191009/25000000000000000,\n",
      " x__9 = 0,\n",
      " x__11 = 1,\n",
      " x__6 = 1,\n",
      " x__5 = 1,\n",
      " x__8 = 1,\n",
      " x__0 = 1,\n",
      " x__2 = 198118009131659/156250000000000000,\n",
      " x__3 = 0,\n",
      " x__10 = 1,\n",
      " x__1 = 0,\n",
      " x__12 = 580953922853394494291341539174341526538535184060951027/801451006915573876167648093709243750000000000000000000,\n",
      " x__7 = 1011983070118521/5000000000000000000]\n",
      "\n",
      "---------------\n",
      "\n",
      "Prediction:  1\n",
      "Index =  46\n",
      "unsat  for  46 \n",
      "\n",
      "\n",
      "---------------\n",
      "\n",
      "Prediction:  1\n",
      "Index =  47\n",
      "sat  for  47 \n",
      "\n",
      "[x__4 = 1,\n",
      " x__9 = 0,\n",
      " x__11 = 1,\n",
      " x__6 = 6488597331936399/10000000000000000000,\n",
      " x__5 = 3482412329525499/5000000000000000000,\n",
      " x__8 = 1,\n",
      " x__0 = 1,\n",
      " x__2 = 1,\n",
      " x__3 = 0,\n",
      " x__10 = 1,\n",
      " x__1 = 0,\n",
      " x__12 = 914338577767702428251893126720477124743651628135880533/1282321611064918201868236949934790000000000000000000000,\n",
      " x__7 = 0]\n",
      "\n",
      "---------------\n",
      "\n",
      "Prediction:  1\n",
      "Index =  48\n",
      "sat  for  48 \n",
      "\n",
      "[x__4 = 1,\n",
      " x__9 = 0,\n",
      " x__11 = 1,\n",
      " x__6 = 6488597331936399/10000000000000000000,\n",
      " x__5 = 3482412329525499/5000000000000000000,\n",
      " x__8 = 280974122997613/200000000000000000,\n",
      " x__0 = 1,\n",
      " x__2 = 1,\n",
      " x__3 = 0,\n",
      " x__10 = 1235214629703489/2500000000000000000,\n",
      " x__1 = 0,\n",
      " x__12 = 4586980852030308130992074904313676577709446639419238493/6411608055324591009341184749673950000000000000000000000,\n",
      " x__7 = 0]\n",
      "\n",
      "---------------\n",
      "\n",
      "Prediction:  1\n",
      "Index =  50\n",
      "unsat  for  50 \n",
      "\n",
      "\n",
      "---------------\n",
      "\n",
      "Prediction:  1\n",
      "Index =  51\n",
      "sat  for  51 \n",
      "\n",
      "[x__4 = 1,\n",
      " x__9 = 0,\n",
      " x__11 = 1,\n",
      " x__6 = 1,\n",
      " x__5 = 1,\n",
      " x__8 = 1,\n",
      " x__0 = 6851720668861281/1000000000000000000,\n",
      " x__2 = 1,\n",
      " x__3 = 13316506634441953/1000000000000000000,\n",
      " x__10 = 1035794436474251/2000000000000000000,\n",
      " x__1 = 0,\n",
      " x__12 = 7258349664935857323437638549863318952777061986215014979/10258572888519345614945895599478320000000000000000000000,\n",
      " x__7 = 0]\n",
      "\n",
      "---------------\n",
      "\n",
      "Prediction:  1\n",
      "Index =  52\n",
      "unsat  for  52 \n",
      "\n",
      "\n",
      "---------------\n",
      "\n",
      "Prediction:  1\n",
      "Index =  53\n",
      "unsat  for  53 \n",
      "\n",
      "\n",
      "---------------\n",
      "\n",
      "Prediction:  1\n",
      "Index =  55\n",
      "unsat  for  55 \n",
      "\n",
      "\n",
      "---------------\n",
      "\n",
      "Prediction:  1\n",
      "Index =  56\n",
      "sat  for  56 \n",
      "\n",
      "[x__4 = 1,\n",
      " x__9 = 2601391774363493/1000000000000000000,\n",
      " x__11 = 1,\n",
      " x__6 = 1,\n",
      " x__5 = 1,\n",
      " x__8 = 1,\n",
      " x__0 = 1,\n",
      " x__2 = 1,\n",
      " x__3 = 0,\n",
      " x__10 = 1,\n",
      " x__1 = 6607654163715049/10000000000000000000,\n",
      " x__12 = 170189880764583/312500000000000,\n",
      " x__7 = 0]\n",
      "\n",
      "---------------\n",
      "\n",
      "Prediction:  1\n",
      "Index =  57\n",
      "sat  for  57 \n",
      "\n",
      "[x__4 = 1,\n",
      " x__9 = 2601391774363493/1000000000000000000,\n",
      " x__11 = 1,\n",
      " x__6 = 1,\n",
      " x__5 = 1,\n",
      " x__8 = 1,\n",
      " x__0 = 1,\n",
      " x__2 = 1,\n",
      " x__3 = 6938199644913/488281250000000,\n",
      " x__10 = 3155006042134213/10000000000000000000,\n",
      " x__1 = 6607654163715049/10000000000000000000,\n",
      " x__12 = 170189880764583/312500000000000,\n",
      " x__7 = 0]\n",
      "\n",
      "---------------\n",
      "\n",
      "Prediction:  1\n",
      "Index =  58\n",
      "unsat  for  58 \n",
      "\n",
      "\n",
      "---------------\n",
      "\n",
      "Prediction:  1\n",
      "Index =  60\n",
      "sat  for  60 \n",
      "\n",
      "[x__4 = 1,\n",
      " x__9 = 0,\n",
      " x__11 = 1,\n",
      " x__6 = 1,\n",
      " x__5 = 1,\n",
      " x__8 = 1,\n",
      " x__0 = 1,\n",
      " x__2 = 6250483668379101/5000000000000000000,\n",
      " x__3 = 5318863959711169/500000000000000000,\n",
      " x__10 = 1,\n",
      " x__1 = 0,\n",
      " x__12 = 451932950076574872273967104938584974971443632778997411/641160805532459100934118474967395000000000000000000000,\n",
      " x__7 = 0]\n",
      "\n",
      "---------------\n",
      "\n",
      "Prediction:  1\n",
      "Index =  62\n",
      "sat  for  62 \n",
      "\n",
      "[x__4 = 1,\n",
      " x__9 = 0,\n",
      " x__11 = 1,\n",
      " x__6 = 1,\n",
      " x__5 = 1,\n",
      " x__8 = 1,\n",
      " x__0 = 1,\n",
      " x__2 = 6250483668379101/5000000000000000000,\n",
      " x__3 = 3016602475191533/250000000000000000,\n",
      " x__10 = 1,\n",
      " x__1 = 0,\n",
      " x__12 = 2589099156482347/5000000000000000,\n",
      " x__7 = 0]\n",
      "\n",
      "---------------\n",
      "\n",
      "Prediction:  1\n",
      "Index =  64\n",
      "unsat  for  64 \n",
      "\n",
      "\n",
      "---------------\n",
      "\n",
      "Prediction:  1\n",
      "Index =  65\n",
      "sat  for  65 \n",
      "\n",
      "[x__4 = 3151136695101407/50000000000000000,\n",
      " x__9 = 0,\n",
      " x__11 = 1,\n",
      " x__6 = 1,\n",
      " x__5 = 1,\n",
      " x__8 = 1,\n",
      " x__0 = 15274991517200737/2000000000000000000,\n",
      " x__2 = 132153083274301/100000000000000000,\n",
      " x__3 = 5467684999434481/500000000000000000,\n",
      " x__10 = 261925029913029/800000000000000000,\n",
      " x__1 = 0,\n",
      " x__12 = 2988069313767401428558906848800976701586806190863935061/4103429155407738245978358239791328000000000000000000000,\n",
      " x__7 = 0]\n",
      "\n",
      "---------------\n",
      "\n",
      "Prediction:  1\n",
      "Index =  66\n",
      "unsat  for  66 \n",
      "\n",
      "\n",
      "---------------\n",
      "\n",
      "Prediction:  1\n",
      "Index =  68\n",
      "sat  for  68 \n",
      "\n",
      "[x__4 = 1,\n",
      " x__9 = 0,\n",
      " x__11 = 1,\n",
      " x__6 = 1,\n",
      " x__5 = 4524159607588683/5000000000000000000,\n",
      " x__8 = 1,\n",
      " x__0 = 1,\n",
      " x__2 = 1,\n",
      " x__3 = 0,\n",
      " x__10 = 1,\n",
      " x__1 = 0,\n",
      " x__12 = 453357999068055035876764446525633688005107151282613167/641160805532459100934118474967395000000000000000000000,\n",
      " x__7 = 0]\n",
      "\n",
      "---------------\n",
      "\n",
      "Prediction:  1\n",
      "Index =  69\n",
      "unsat  for  69 \n",
      "\n",
      "\n",
      "---------------\n",
      "\n",
      "Sat =  32 \n",
      "Unsat =  18\n"
     ]
    }
   ],
   "source": [
    "if len(positive_indexes)!=0:\n",
    "    if len(positive_indexes)>=50:\n",
    "        positive_sat_var, positive_unsat_var, positive_feature_sizes,p_time = anchors_to_z3_explanation(explainer, X_train, T1, T2, z3_dual_coef, z3_support_vectors, z3_X_Train, z3_intercept_,positive_indexes[0:50],positive=True)\n",
    "    else:\n",
    "        positive_sat_var, positive_unsat_var, positive_feature_sizes,p_time = anchors_to_z3_explanation(explainer, X_train, T1, T2, z3_dual_coef, z3_support_vectors, z3_X_Train, z3_intercept_,positive_indexes,positive=True)"
   ]
  },
  {
   "cell_type": "code",
   "execution_count": 55,
   "metadata": {
    "collapsed": true,
    "jupyter": {
     "outputs_hidden": true
    },
    "tags": []
   },
   "outputs": [
    {
     "name": "stdout",
     "output_type": "stream",
     "text": [
      "Started\n",
      "Declared: Negative Instances\n",
      "Prediction:  -1\n",
      "Index =  0\n",
      "unsat  for  0 \n",
      "\n",
      "\n",
      "---------------\n",
      "\n",
      "Prediction:  -1\n",
      "Index =  4\n",
      "unsat  for  4 \n",
      "\n",
      "\n",
      "---------------\n",
      "\n",
      "Prediction:  -1\n",
      "Index =  5\n",
      "unsat  for  5 \n",
      "\n",
      "\n",
      "---------------\n",
      "\n",
      "Prediction:  -1\n",
      "Index =  6\n",
      "unsat  for  6 \n",
      "\n",
      "\n",
      "---------------\n",
      "\n",
      "Prediction:  -1\n",
      "Index =  12\n",
      "unsat  for  12 \n",
      "\n",
      "\n",
      "---------------\n",
      "\n",
      "Prediction:  -1\n",
      "Index =  13\n",
      "unsat  for  13 \n",
      "\n",
      "\n",
      "---------------\n",
      "\n",
      "Prediction:  -1\n",
      "Index =  20\n",
      "unsat  for  20 \n",
      "\n",
      "\n",
      "---------------\n",
      "\n",
      "Prediction:  -1\n",
      "Index =  21\n",
      "unsat  for  21 \n",
      "\n",
      "\n",
      "---------------\n",
      "\n",
      "Prediction:  -1\n",
      "Index =  30\n",
      "unsat  for  30 \n",
      "\n",
      "\n",
      "---------------\n",
      "\n",
      "Prediction:  -1\n",
      "Index =  32\n",
      "unsat  for  32 \n",
      "\n",
      "\n",
      "---------------\n",
      "\n",
      "Prediction:  -1\n",
      "Index =  36\n",
      "unsat  for  36 \n",
      "\n",
      "\n",
      "---------------\n",
      "\n",
      "Prediction:  -1\n",
      "Index =  39\n",
      "unsat  for  39 \n",
      "\n",
      "\n",
      "---------------\n",
      "\n",
      "Prediction:  -1\n",
      "Index =  40\n",
      "unsat  for  40 \n",
      "\n",
      "\n",
      "---------------\n",
      "\n",
      "Prediction:  -1\n",
      "Index =  49\n",
      "unsat  for  49 \n",
      "\n",
      "\n",
      "---------------\n",
      "\n",
      "Prediction:  -1\n",
      "Index =  54\n",
      "unsat  for  54 \n",
      "\n",
      "\n",
      "---------------\n",
      "\n",
      "Prediction:  -1\n",
      "Index =  59\n",
      "unsat  for  59 \n",
      "\n",
      "\n",
      "---------------\n",
      "\n",
      "Prediction:  -1\n",
      "Index =  61\n",
      "unsat  for  61 \n",
      "\n",
      "\n",
      "---------------\n",
      "\n",
      "Prediction:  -1\n",
      "Index =  67\n",
      "unsat  for  67 \n",
      "\n",
      "\n",
      "---------------\n",
      "\n",
      "Prediction:  -1\n",
      "Index =  72\n",
      "unsat  for  72 \n",
      "\n",
      "\n",
      "---------------\n",
      "\n",
      "Prediction:  -1\n",
      "Index =  76\n",
      "unsat  for  76 \n",
      "\n",
      "\n",
      "---------------\n",
      "\n",
      "Prediction:  -1\n",
      "Index =  80\n",
      "unsat  for  80 \n",
      "\n",
      "\n",
      "---------------\n",
      "\n",
      "Prediction:  -1\n",
      "Index =  82\n",
      "unsat  for  82 \n",
      "\n",
      "\n",
      "---------------\n",
      "\n",
      "Prediction:  -1\n",
      "Index =  88\n",
      "unsat  for  88 \n",
      "\n",
      "\n",
      "---------------\n",
      "\n",
      "Prediction:  -1\n",
      "Index =  89\n",
      "unsat  for  89 \n",
      "\n",
      "\n",
      "---------------\n",
      "\n",
      "Prediction:  -1\n",
      "Index =  92\n",
      "unsat  for  92 \n",
      "\n",
      "\n",
      "---------------\n",
      "\n",
      "Prediction:  -1\n",
      "Index =  93\n",
      "unsat  for  93 \n",
      "\n",
      "\n",
      "---------------\n",
      "\n",
      "Prediction:  -1\n",
      "Index =  97\n",
      "unsat  for  97 \n",
      "\n",
      "\n",
      "---------------\n",
      "\n",
      "Prediction:  -1\n",
      "Index =  99\n",
      "unsat  for  99 \n",
      "\n",
      "\n",
      "---------------\n",
      "\n",
      "Prediction:  -1\n",
      "Index =  105\n",
      "unsat  for  105 \n",
      "\n",
      "\n",
      "---------------\n",
      "\n",
      "Prediction:  -1\n",
      "Index =  110\n",
      "unsat  for  110 \n",
      "\n",
      "\n",
      "---------------\n",
      "\n",
      "Prediction:  -1\n",
      "Index =  111\n",
      "unsat  for  111 \n",
      "\n",
      "\n",
      "---------------\n",
      "\n",
      "Prediction:  -1\n",
      "Index =  116\n",
      "unsat  for  116 \n",
      "\n",
      "\n",
      "---------------\n",
      "\n",
      "Sat =  0 \n",
      "Unsat =  32\n"
     ]
    }
   ],
   "source": [
    "if len(negative_indexes)!=0:\n",
    "    if len(negative_indexes)>=50:\n",
    "        negative_sat_var, negative_unsat_var, negative_feature_sizes,n_time = anchors_to_z3_explanation(explainer, X_train, T1, T2, z3_dual_coef, z3_support_vectors, z3_X_Train, z3_intercept_,negative_indexes[0:50],negative=True)\n",
    "    else:\n",
    "        negative_sat_var, negative_unsat_var, negative_feature_sizes,n_time = anchors_to_z3_explanation(explainer, X_train, T1, T2, z3_dual_coef, z3_support_vectors, z3_X_Train, z3_intercept_,negative_indexes,negative=True)"
   ]
  },
  {
   "cell_type": "markdown",
   "metadata": {},
   "source": [
    "## Calculating Metrics"
   ]
  },
  {
   "cell_type": "markdown",
   "metadata": {},
   "source": [
    "### Z3 AND ANCHORS TIME COST"
   ]
  },
  {
   "cell_type": "code",
   "execution_count": 56,
   "metadata": {
    "tags": []
   },
   "outputs": [
    {
     "name": "stdout",
     "output_type": "stream",
     "text": [
      "Tempo Médio Z3 Rejeitados =  0.021019748500293645\n",
      "Tempo Médio Z3 Positivos =  0.011129136280051171\n",
      "Tempo Médio Z3 Negativos =  0.011913763531282484\n",
      "Tamanho Médio Total:  0.011663532666716492 sec\n",
      "Soma:  0.9797367440041853  Tamanho:  84\n"
     ]
    }
   ],
   "source": [
    "soma = 0\n",
    "tamanho = 0\n",
    "if rejected_elapsed_time != None and len(rejected_elapsed_time) >0:\n",
    "    soma += sum(rejected_elapsed_time)\n",
    "    tamanho += len(rejected_elapsed_time)\n",
    "    print(\"Tempo Médio Z3 Rejeitados = \",sum(rejected_elapsed_time)/len(rejected_elapsed_time))\n",
    "if positive_elapsed_time != None and len(positive_elapsed_time) >0:\n",
    "    soma += sum(positive_elapsed_time)\n",
    "    tamanho += len(positive_elapsed_time)\n",
    "    print(\"Tempo Médio Z3 Positivos = \",sum(positive_elapsed_time)/len(positive_elapsed_time))\n",
    "if negative_elapsed_time != None and len(negative_elapsed_time) >0:\n",
    "    soma += sum(negative_elapsed_time)\n",
    "    tamanho += len(negative_elapsed_time)\n",
    "    print(\"Tempo Médio Z3 Negativos = \",sum(negative_elapsed_time)/len(negative_elapsed_time)) \n",
    "if tamanho != 0:\n",
    "    print(\"Tamanho Médio Total: \",soma/tamanho,'sec')\n",
    "    print(\"Soma: \",soma,\" Tamanho: \",tamanho)"
   ]
  },
  {
   "cell_type": "code",
   "execution_count": 57,
   "metadata": {
    "tags": []
   },
   "outputs": [
    {
     "name": "stdout",
     "output_type": "stream",
     "text": [
      "Tempo Médio Anchors Rejeitados =  1.3734633805001977\n",
      "Tempo Médio Anchors Positivos =  0.4563983116399322\n",
      "Tempo Médio Anchors Negativos =  0.5025907896250317\n",
      "Tamanho Médio Total:  0.4958303287023574 sec\n",
      "Soma:  41.64974761099802  Tamanho:  84\n"
     ]
    }
   ],
   "source": [
    "soma = 0\n",
    "tamanho = 0\n",
    "if r_time != None and len(r_time)>0:\n",
    "    soma += sum(r_time)\n",
    "    tamanho += len(r_time)\n",
    "    print(\"Tempo Médio Anchors Rejeitados = \",sum(r_time)/len(r_time))\n",
    "if p_time != None and len(p_time)>0:\n",
    "    soma += sum(p_time)\n",
    "    tamanho += len(p_time)\n",
    "    print(\"Tempo Médio Anchors Positivos = \",sum(p_time)/len(p_time))\n",
    "if n_time != None and len(n_time)>0:\n",
    "    soma += sum(n_time)\n",
    "    tamanho += len(n_time)\n",
    "    print(\"Tempo Médio Anchors Negativos = \",sum(n_time)/len(n_time))      \n",
    "if tamanho != 0:\n",
    "    print(\"Tamanho Médio Total: \",soma/tamanho,'sec')\n",
    "    print(\"Soma: \",soma,\" Tamanho: \",tamanho)"
   ]
  },
  {
   "cell_type": "markdown",
   "metadata": {},
   "source": [
    "### Z3 AND ANCHORS EXPLANATION SIZE"
   ]
  },
  {
   "cell_type": "code",
   "execution_count": 58,
   "metadata": {},
   "outputs": [
    {
     "name": "stdout",
     "output_type": "stream",
     "text": [
      "Z3 Tamanho Rejeitado:  11 Tamanho Médio Rejeitado: 5.5\n",
      "Z3 Tamanho Positivo:  70 Tamanho Médio Positivo: 1.4\n",
      "Z3 Tamanho Negativo:  36 Tamanho Médio Negativo: 1.125\n",
      "Z3 Tamanho Médio  1.3928571428571428\n",
      "Soma:  117 Tamanho:  84\n"
     ]
    }
   ],
   "source": [
    "soma = 0\n",
    "tamanho = 0\n",
    "if len(rejected_linear_relevant)>0:  \n",
    "    tamanho += len(rejected_linear_relevant)\n",
    "    tamanho_rejeitado = 0\n",
    "    for x in rejected_linear_relevant:\n",
    "        soma += len(x)\n",
    "        tamanho_rejeitado += len(x)\n",
    "    print(\"Z3 Tamanho Rejeitado: \",tamanho_rejeitado,\"Tamanho Médio Rejeitado:\",tamanho_rejeitado/len(rejected_linear_relevant))\n",
    "if len(positive_linear_relevant)>0:   \n",
    "    tamanho += len(positive_linear_relevant)\n",
    "    tamanho_positivo = 0\n",
    "    for x in positive_linear_relevant:\n",
    "        soma += len(x)\n",
    "        tamanho_positivo += len(x)\n",
    "    print(\"Z3 Tamanho Positivo: \",tamanho_positivo,\"Tamanho Médio Positivo:\",tamanho_positivo/len(positive_linear_relevant))\n",
    "if len(negative_linear_relevant)>0:\n",
    "    tamanho += len(negative_linear_relevant)\n",
    "    tamanho_negativo = 0\n",
    "    for x in negative_linear_relevant:\n",
    "        soma += len(x)\n",
    "        tamanho_negativo += len(x)\n",
    "    print(\"Z3 Tamanho Negativo: \",tamanho_negativo,\"Tamanho Médio Negativo:\",tamanho_negativo/len(negative_linear_relevant))\n",
    "print(\"Z3 Tamanho Médio \",soma/tamanho)\n",
    "print(\"Soma: \",soma,\"Tamanho: \",tamanho)"
   ]
  },
  {
   "cell_type": "code",
   "execution_count": 59,
   "metadata": {},
   "outputs": [
    {
     "name": "stdout",
     "output_type": "stream",
     "text": [
      "Anchors Tamanho Rejeitado:  22 Tamanho Médio Rejeitado 11.0\n",
      "Anchors Tamanho Positivo:  116 Tamanho Médio Positivo 2.32\n",
      "Anchors Tamanho Negativo:  75 Tamanho Médio Negativo 2.34375\n",
      "Anchors Tamanho Médio:  2.5357142857142856\n",
      "Soma:  213 Tamanho:  84\n"
     ]
    }
   ],
   "source": [
    "if len(rejected_feature_sizes) > 0 :\n",
    "    print(\"Anchors Tamanho Rejeitado: \",sum(rejected_feature_sizes),\"Tamanho Médio Rejeitado\",sum(rejected_feature_sizes)/len(rejected_feature_sizes))\n",
    "if len(positive_feature_sizes) > 0 :\n",
    "    print(\"Anchors Tamanho Positivo: \",sum(positive_feature_sizes),\"Tamanho Médio Positivo\",sum(positive_feature_sizes)/len(positive_feature_sizes))\n",
    "if len(negative_feature_sizes) > 0 :\n",
    "    print(\"Anchors Tamanho Negativo: \",sum(negative_feature_sizes),\"Tamanho Médio Negativo\",sum(negative_feature_sizes)/len(negative_feature_sizes))\n",
    "soma = sum(rejected_feature_sizes)+sum(positive_feature_sizes)+sum(negative_feature_sizes)\n",
    "soma_len = len(rejected_feature_sizes) + len(positive_feature_sizes) + len(negative_feature_sizes)\n",
    "print(\"Anchors Tamanho Médio: \",soma/soma_len)\n",
    "print(\"Soma: \",soma,\"Tamanho: \",soma_len)"
   ]
  },
  {
   "cell_type": "code",
   "execution_count": null,
   "metadata": {
    "jupyter": {
     "source_hidden": true
    },
    "tags": []
   },
   "outputs": [],
   "source": []
  },
  {
   "cell_type": "markdown",
   "metadata": {},
   "source": [
    "### ANCHORS TO Z3 SAT AND UNSAT"
   ]
  },
  {
   "cell_type": "code",
   "execution_count": 60,
   "metadata": {},
   "outputs": [
    {
     "name": "stdout",
     "output_type": "stream",
     "text": [
      "          SAT/UNSAT\n",
      "Rejected:  1 | 1\n",
      "Positive:  32 | 18\n",
      "Negative:  0 | 32\n",
      "Total:     33 | 51  of  84\n"
     ]
    }
   ],
   "source": [
    "print(\"          SAT/UNSAT\")\n",
    "print(\"Rejected: \",rejected_sat_var,\"|\",rejected_unsat_var)\n",
    "print(\"Positive: \",positive_sat_var,\"|\",positive_unsat_var)\n",
    "print(\"Negative: \",negative_sat_var,\"|\",negative_unsat_var)\n",
    "soma_sat = rejected_sat_var + positive_sat_var + negative_sat_var\n",
    "soma_unsat = rejected_unsat_var + positive_unsat_var + negative_unsat_var\n",
    "print(\"Total:    \",soma_sat,\"|\",soma_unsat,\" of \",soma_sat+soma_unsat)"
   ]
  },
  {
   "cell_type": "code",
   "execution_count": null,
   "metadata": {},
   "outputs": [],
   "source": []
  }
 ],
 "metadata": {
  "colab": {
   "name": "Cópia de Slimmer Z3 SVM Solver.ipynb",
   "provenance": [],
   "toc_visible": true
  },
  "kernelspec": {
   "display_name": "Python 3 (ipykernel)",
   "language": "python",
   "name": "python3"
  },
  "language_info": {
   "codemirror_mode": {
    "name": "ipython",
    "version": 3
   },
   "file_extension": ".py",
   "mimetype": "text/x-python",
   "name": "python",
   "nbconvert_exporter": "python",
   "pygments_lexer": "ipython3",
   "version": "3.9.12"
  }
 },
 "nbformat": 4,
 "nbformat_minor": 4
}
