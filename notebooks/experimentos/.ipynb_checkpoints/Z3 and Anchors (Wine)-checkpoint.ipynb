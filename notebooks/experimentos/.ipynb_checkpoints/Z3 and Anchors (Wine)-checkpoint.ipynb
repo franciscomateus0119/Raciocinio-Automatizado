{
 "cells": [
  {
   "cell_type": "markdown",
   "metadata": {
    "id": "LwlEKusEcBbw"
   },
   "source": [
    "# Installing Z3 and Imports"
   ]
  },
  {
   "cell_type": "code",
   "execution_count": 1,
   "metadata": {
    "colab": {
     "base_uri": "https://localhost:8080/"
    },
    "id": "dt8anHvhLwsn",
    "outputId": "13b6d0bc-f00b-4b50-99a2-9366ed28b2ce",
    "tags": []
   },
   "outputs": [
    {
     "data": {
      "text/plain": [
       "'\\n!pip install z3-solver\\n!pip install pandas\\n!pip install numpy\\n!pip install sklearn\\n!pip install anchor-exp\\n'"
      ]
     },
     "execution_count": 1,
     "metadata": {},
     "output_type": "execute_result"
    }
   ],
   "source": [
    "'''\n",
    "!pip install z3-solver\n",
    "!pip install pandas\n",
    "!pip install numpy\n",
    "!pip install sklearn\n",
    "!pip install anchor-exp\n",
    "'''"
   ]
  },
  {
   "cell_type": "code",
   "execution_count": 2,
   "metadata": {
    "id": "A1i4HEgVhKCN"
   },
   "outputs": [],
   "source": [
    "import pandas as pd\n",
    "import numpy as np\n",
    "from sklearn import datasets\n",
    "from sklearn.model_selection import train_test_split\n",
    "from sklearn import svm\n",
    "from sklearn import metrics\n",
    "from z3 import *\n",
    "import time"
   ]
  },
  {
   "cell_type": "markdown",
   "metadata": {
    "id": "VX71r1djY-7L"
   },
   "source": [
    "# Training Linear and Polynomial SVMs"
   ]
  },
  {
   "cell_type": "markdown",
   "metadata": {
    "id": "TO6whMFhZ9yf"
   },
   "source": [
    "## Data Preprocessing."
   ]
  },
  {
   "cell_type": "code",
   "execution_count": 3,
   "metadata": {
    "id": "PW90CcDBHbaM"
   },
   "outputs": [],
   "source": [
    "iris = datasets.load_iris()"
   ]
  },
  {
   "cell_type": "code",
   "execution_count": 4,
   "metadata": {
    "id": "XeFOu9Y-wxgW"
   },
   "outputs": [],
   "source": [
    "df = pd.DataFrame(iris.data, columns = iris.feature_names)"
   ]
  },
  {
   "cell_type": "code",
   "execution_count": 5,
   "metadata": {},
   "outputs": [
    {
     "data": {
      "text/html": [
       "<div>\n",
       "<style scoped>\n",
       "    .dataframe tbody tr th:only-of-type {\n",
       "        vertical-align: middle;\n",
       "    }\n",
       "\n",
       "    .dataframe tbody tr th {\n",
       "        vertical-align: top;\n",
       "    }\n",
       "\n",
       "    .dataframe thead th {\n",
       "        text-align: right;\n",
       "    }\n",
       "</style>\n",
       "<table border=\"1\" class=\"dataframe\">\n",
       "  <thead>\n",
       "    <tr style=\"text-align: right;\">\n",
       "      <th></th>\n",
       "      <th>sepal length (cm)</th>\n",
       "      <th>sepal width (cm)</th>\n",
       "      <th>petal length (cm)</th>\n",
       "      <th>petal width (cm)</th>\n",
       "    </tr>\n",
       "  </thead>\n",
       "  <tbody>\n",
       "    <tr>\n",
       "      <th>0</th>\n",
       "      <td>5.1</td>\n",
       "      <td>3.5</td>\n",
       "      <td>1.4</td>\n",
       "      <td>0.2</td>\n",
       "    </tr>\n",
       "    <tr>\n",
       "      <th>1</th>\n",
       "      <td>4.9</td>\n",
       "      <td>3.0</td>\n",
       "      <td>1.4</td>\n",
       "      <td>0.2</td>\n",
       "    </tr>\n",
       "    <tr>\n",
       "      <th>2</th>\n",
       "      <td>4.7</td>\n",
       "      <td>3.2</td>\n",
       "      <td>1.3</td>\n",
       "      <td>0.2</td>\n",
       "    </tr>\n",
       "    <tr>\n",
       "      <th>3</th>\n",
       "      <td>4.6</td>\n",
       "      <td>3.1</td>\n",
       "      <td>1.5</td>\n",
       "      <td>0.2</td>\n",
       "    </tr>\n",
       "    <tr>\n",
       "      <th>4</th>\n",
       "      <td>5.0</td>\n",
       "      <td>3.6</td>\n",
       "      <td>1.4</td>\n",
       "      <td>0.2</td>\n",
       "    </tr>\n",
       "    <tr>\n",
       "      <th>...</th>\n",
       "      <td>...</td>\n",
       "      <td>...</td>\n",
       "      <td>...</td>\n",
       "      <td>...</td>\n",
       "    </tr>\n",
       "    <tr>\n",
       "      <th>145</th>\n",
       "      <td>6.7</td>\n",
       "      <td>3.0</td>\n",
       "      <td>5.2</td>\n",
       "      <td>2.3</td>\n",
       "    </tr>\n",
       "    <tr>\n",
       "      <th>146</th>\n",
       "      <td>6.3</td>\n",
       "      <td>2.5</td>\n",
       "      <td>5.0</td>\n",
       "      <td>1.9</td>\n",
       "    </tr>\n",
       "    <tr>\n",
       "      <th>147</th>\n",
       "      <td>6.5</td>\n",
       "      <td>3.0</td>\n",
       "      <td>5.2</td>\n",
       "      <td>2.0</td>\n",
       "    </tr>\n",
       "    <tr>\n",
       "      <th>148</th>\n",
       "      <td>6.2</td>\n",
       "      <td>3.4</td>\n",
       "      <td>5.4</td>\n",
       "      <td>2.3</td>\n",
       "    </tr>\n",
       "    <tr>\n",
       "      <th>149</th>\n",
       "      <td>5.9</td>\n",
       "      <td>3.0</td>\n",
       "      <td>5.1</td>\n",
       "      <td>1.8</td>\n",
       "    </tr>\n",
       "  </tbody>\n",
       "</table>\n",
       "<p>150 rows × 4 columns</p>\n",
       "</div>"
      ],
      "text/plain": [
       "     sepal length (cm)  sepal width (cm)  petal length (cm)  petal width (cm)\n",
       "0                  5.1               3.5                1.4               0.2\n",
       "1                  4.9               3.0                1.4               0.2\n",
       "2                  4.7               3.2                1.3               0.2\n",
       "3                  4.6               3.1                1.5               0.2\n",
       "4                  5.0               3.6                1.4               0.2\n",
       "..                 ...               ...                ...               ...\n",
       "145                6.7               3.0                5.2               2.3\n",
       "146                6.3               2.5                5.0               1.9\n",
       "147                6.5               3.0                5.2               2.0\n",
       "148                6.2               3.4                5.4               2.3\n",
       "149                5.9               3.0                5.1               1.8\n",
       "\n",
       "[150 rows x 4 columns]"
      ]
     },
     "execution_count": 5,
     "metadata": {},
     "output_type": "execute_result"
    }
   ],
   "source": [
    "df"
   ]
  },
  {
   "cell_type": "code",
   "execution_count": 6,
   "metadata": {
    "id": "q5plsclR7tUW"
   },
   "outputs": [],
   "source": [
    "normalized_df=(iris.data-iris.data.min())/(iris.data.max()-iris.data.min())\n",
    "#normalized_df=(cancer.data-cancer.data.mean())/cancer.data.std()"
   ]
  },
  {
   "cell_type": "code",
   "execution_count": 7,
   "metadata": {
    "tags": []
   },
   "outputs": [
    {
     "data": {
      "text/plain": [
       "array([[5.1, 3.5, 1.4, 0.2],\n",
       "       [4.9, 3. , 1.4, 0.2],\n",
       "       [4.7, 3.2, 1.3, 0.2],\n",
       "       [4.6, 3.1, 1.5, 0.2],\n",
       "       [5. , 3.6, 1.4, 0.2],\n",
       "       [5.4, 3.9, 1.7, 0.4],\n",
       "       [4.6, 3.4, 1.4, 0.3],\n",
       "       [5. , 3.4, 1.5, 0.2],\n",
       "       [4.4, 2.9, 1.4, 0.2],\n",
       "       [4.9, 3.1, 1.5, 0.1],\n",
       "       [5.4, 3.7, 1.5, 0.2],\n",
       "       [4.8, 3.4, 1.6, 0.2],\n",
       "       [4.8, 3. , 1.4, 0.1],\n",
       "       [4.3, 3. , 1.1, 0.1],\n",
       "       [5.8, 4. , 1.2, 0.2],\n",
       "       [5.7, 4.4, 1.5, 0.4],\n",
       "       [5.4, 3.9, 1.3, 0.4],\n",
       "       [5.1, 3.5, 1.4, 0.3],\n",
       "       [5.7, 3.8, 1.7, 0.3],\n",
       "       [5.1, 3.8, 1.5, 0.3],\n",
       "       [5.4, 3.4, 1.7, 0.2],\n",
       "       [5.1, 3.7, 1.5, 0.4],\n",
       "       [4.6, 3.6, 1. , 0.2],\n",
       "       [5.1, 3.3, 1.7, 0.5],\n",
       "       [4.8, 3.4, 1.9, 0.2],\n",
       "       [5. , 3. , 1.6, 0.2],\n",
       "       [5. , 3.4, 1.6, 0.4],\n",
       "       [5.2, 3.5, 1.5, 0.2],\n",
       "       [5.2, 3.4, 1.4, 0.2],\n",
       "       [4.7, 3.2, 1.6, 0.2],\n",
       "       [4.8, 3.1, 1.6, 0.2],\n",
       "       [5.4, 3.4, 1.5, 0.4],\n",
       "       [5.2, 4.1, 1.5, 0.1],\n",
       "       [5.5, 4.2, 1.4, 0.2],\n",
       "       [4.9, 3.1, 1.5, 0.2],\n",
       "       [5. , 3.2, 1.2, 0.2],\n",
       "       [5.5, 3.5, 1.3, 0.2],\n",
       "       [4.9, 3.6, 1.4, 0.1],\n",
       "       [4.4, 3. , 1.3, 0.2],\n",
       "       [5.1, 3.4, 1.5, 0.2],\n",
       "       [5. , 3.5, 1.3, 0.3],\n",
       "       [4.5, 2.3, 1.3, 0.3],\n",
       "       [4.4, 3.2, 1.3, 0.2],\n",
       "       [5. , 3.5, 1.6, 0.6],\n",
       "       [5.1, 3.8, 1.9, 0.4],\n",
       "       [4.8, 3. , 1.4, 0.3],\n",
       "       [5.1, 3.8, 1.6, 0.2],\n",
       "       [4.6, 3.2, 1.4, 0.2],\n",
       "       [5.3, 3.7, 1.5, 0.2],\n",
       "       [5. , 3.3, 1.4, 0.2],\n",
       "       [7. , 3.2, 4.7, 1.4],\n",
       "       [6.4, 3.2, 4.5, 1.5],\n",
       "       [6.9, 3.1, 4.9, 1.5],\n",
       "       [5.5, 2.3, 4. , 1.3],\n",
       "       [6.5, 2.8, 4.6, 1.5],\n",
       "       [5.7, 2.8, 4.5, 1.3],\n",
       "       [6.3, 3.3, 4.7, 1.6],\n",
       "       [4.9, 2.4, 3.3, 1. ],\n",
       "       [6.6, 2.9, 4.6, 1.3],\n",
       "       [5.2, 2.7, 3.9, 1.4],\n",
       "       [5. , 2. , 3.5, 1. ],\n",
       "       [5.9, 3. , 4.2, 1.5],\n",
       "       [6. , 2.2, 4. , 1. ],\n",
       "       [6.1, 2.9, 4.7, 1.4],\n",
       "       [5.6, 2.9, 3.6, 1.3],\n",
       "       [6.7, 3.1, 4.4, 1.4],\n",
       "       [5.6, 3. , 4.5, 1.5],\n",
       "       [5.8, 2.7, 4.1, 1. ],\n",
       "       [6.2, 2.2, 4.5, 1.5],\n",
       "       [5.6, 2.5, 3.9, 1.1],\n",
       "       [5.9, 3.2, 4.8, 1.8],\n",
       "       [6.1, 2.8, 4. , 1.3],\n",
       "       [6.3, 2.5, 4.9, 1.5],\n",
       "       [6.1, 2.8, 4.7, 1.2],\n",
       "       [6.4, 2.9, 4.3, 1.3],\n",
       "       [6.6, 3. , 4.4, 1.4],\n",
       "       [6.8, 2.8, 4.8, 1.4],\n",
       "       [6.7, 3. , 5. , 1.7],\n",
       "       [6. , 2.9, 4.5, 1.5],\n",
       "       [5.7, 2.6, 3.5, 1. ],\n",
       "       [5.5, 2.4, 3.8, 1.1],\n",
       "       [5.5, 2.4, 3.7, 1. ],\n",
       "       [5.8, 2.7, 3.9, 1.2],\n",
       "       [6. , 2.7, 5.1, 1.6],\n",
       "       [5.4, 3. , 4.5, 1.5],\n",
       "       [6. , 3.4, 4.5, 1.6],\n",
       "       [6.7, 3.1, 4.7, 1.5],\n",
       "       [6.3, 2.3, 4.4, 1.3],\n",
       "       [5.6, 3. , 4.1, 1.3],\n",
       "       [5.5, 2.5, 4. , 1.3],\n",
       "       [5.5, 2.6, 4.4, 1.2],\n",
       "       [6.1, 3. , 4.6, 1.4],\n",
       "       [5.8, 2.6, 4. , 1.2],\n",
       "       [5. , 2.3, 3.3, 1. ],\n",
       "       [5.6, 2.7, 4.2, 1.3],\n",
       "       [5.7, 3. , 4.2, 1.2],\n",
       "       [5.7, 2.9, 4.2, 1.3],\n",
       "       [6.2, 2.9, 4.3, 1.3],\n",
       "       [5.1, 2.5, 3. , 1.1],\n",
       "       [5.7, 2.8, 4.1, 1.3],\n",
       "       [6.3, 3.3, 6. , 2.5],\n",
       "       [5.8, 2.7, 5.1, 1.9],\n",
       "       [7.1, 3. , 5.9, 2.1],\n",
       "       [6.3, 2.9, 5.6, 1.8],\n",
       "       [6.5, 3. , 5.8, 2.2],\n",
       "       [7.6, 3. , 6.6, 2.1],\n",
       "       [4.9, 2.5, 4.5, 1.7],\n",
       "       [7.3, 2.9, 6.3, 1.8],\n",
       "       [6.7, 2.5, 5.8, 1.8],\n",
       "       [7.2, 3.6, 6.1, 2.5],\n",
       "       [6.5, 3.2, 5.1, 2. ],\n",
       "       [6.4, 2.7, 5.3, 1.9],\n",
       "       [6.8, 3. , 5.5, 2.1],\n",
       "       [5.7, 2.5, 5. , 2. ],\n",
       "       [5.8, 2.8, 5.1, 2.4],\n",
       "       [6.4, 3.2, 5.3, 2.3],\n",
       "       [6.5, 3. , 5.5, 1.8],\n",
       "       [7.7, 3.8, 6.7, 2.2],\n",
       "       [7.7, 2.6, 6.9, 2.3],\n",
       "       [6. , 2.2, 5. , 1.5],\n",
       "       [6.9, 3.2, 5.7, 2.3],\n",
       "       [5.6, 2.8, 4.9, 2. ],\n",
       "       [7.7, 2.8, 6.7, 2. ],\n",
       "       [6.3, 2.7, 4.9, 1.8],\n",
       "       [6.7, 3.3, 5.7, 2.1],\n",
       "       [7.2, 3.2, 6. , 1.8],\n",
       "       [6.2, 2.8, 4.8, 1.8],\n",
       "       [6.1, 3. , 4.9, 1.8],\n",
       "       [6.4, 2.8, 5.6, 2.1],\n",
       "       [7.2, 3. , 5.8, 1.6],\n",
       "       [7.4, 2.8, 6.1, 1.9],\n",
       "       [7.9, 3.8, 6.4, 2. ],\n",
       "       [6.4, 2.8, 5.6, 2.2],\n",
       "       [6.3, 2.8, 5.1, 1.5],\n",
       "       [6.1, 2.6, 5.6, 1.4],\n",
       "       [7.7, 3. , 6.1, 2.3],\n",
       "       [6.3, 3.4, 5.6, 2.4],\n",
       "       [6.4, 3.1, 5.5, 1.8],\n",
       "       [6. , 3. , 4.8, 1.8],\n",
       "       [6.9, 3.1, 5.4, 2.1],\n",
       "       [6.7, 3.1, 5.6, 2.4],\n",
       "       [6.9, 3.1, 5.1, 2.3],\n",
       "       [5.8, 2.7, 5.1, 1.9],\n",
       "       [6.8, 3.2, 5.9, 2.3],\n",
       "       [6.7, 3.3, 5.7, 2.5],\n",
       "       [6.7, 3. , 5.2, 2.3],\n",
       "       [6.3, 2.5, 5. , 1.9],\n",
       "       [6.5, 3. , 5.2, 2. ],\n",
       "       [6.2, 3.4, 5.4, 2.3],\n",
       "       [5.9, 3. , 5.1, 1.8]])"
      ]
     },
     "execution_count": 7,
     "metadata": {},
     "output_type": "execute_result"
    }
   ],
   "source": [
    "iris.data"
   ]
  },
  {
   "cell_type": "code",
   "execution_count": 8,
   "metadata": {
    "colab": {
     "base_uri": "https://localhost:8080/"
    },
    "id": "BMHNARKC8KJR",
    "outputId": "bbe60b5e-fc61-4253-dfb8-75efb51dfe0a"
   },
   "outputs": [
    {
     "data": {
      "text/plain": [
       "(0.0, 1.0)"
      ]
     },
     "execution_count": 8,
     "metadata": {},
     "output_type": "execute_result"
    }
   ],
   "source": [
    "normalized_df.min(),normalized_df.max()"
   ]
  },
  {
   "cell_type": "code",
   "execution_count": 9,
   "metadata": {},
   "outputs": [
    {
     "ename": "SyntaxError",
     "evalue": "invalid syntax (1878117607.py, line 1)",
     "output_type": "error",
     "traceback": [
      "\u001b[0;36m  Input \u001b[0;32mIn [9]\u001b[0;36m\u001b[0m\n\u001b[0;31m    np.where(iris.target == 1iris.target[0],0,1)\u001b[0m\n\u001b[0m                             ^\u001b[0m\n\u001b[0;31mSyntaxError\u001b[0m\u001b[0;31m:\u001b[0m invalid syntax\n"
     ]
    }
   ],
   "source": [
    "np.where(iris.target == 1iris.target[0],0,1)"
   ]
  },
  {
   "cell_type": "code",
   "execution_count": null,
   "metadata": {},
   "outputs": [],
   "source": [
    "def check_targets(original_set):\n",
    "    original_unique = np.unique(original_set)\n",
    "    print(\"Original Targets: \",original_unique,\"\\nDesired Targets: [-1,1]\")\n",
    "    print(\"Is original the desired [1,-1]? \", np.array_equiv(original_unique,np.array([-1,1])))\n",
    "    if not np.array_equiv(original_unique,np.array([-1,1])):\n",
    "        if 1 in original_unique:\n",
    "            print(\"1 exists in dataset\")\n",
    "            new = np.select([original_set == original_unique[0]],[-1],original_set)\n",
    "        elif -1 in original_unique:\n",
    "            print(\"-1 exists in dataset\")\n",
    "            new = np.select([original_set == original_unique[1]],[1],original_set)\n",
    "        else:\n",
    "            print(\"Neither exists in dataset\")\n",
    "            new = np.select([original_set == original_unique[0],original_set == original_unique[1]],[-1,1],original_set)\n",
    "        #indexes = original_set[np.where(original_set == unique_elems[0])]\n",
    "        print(\"New datasets consists of: \",np.unique(new))\n",
    "        return new"
   ]
  },
  {
   "cell_type": "code",
   "execution_count": null,
   "metadata": {
    "tags": []
   },
   "outputs": [],
   "source": [
    "targets = check_targets(np.where(iris.target == iris.target[0],0,1))"
   ]
  },
  {
   "cell_type": "markdown",
   "metadata": {
    "id": "IbakFrFRaCKb"
   },
   "source": [
    "## Data Separation and Training"
   ]
  },
  {
   "cell_type": "code",
   "execution_count": null,
   "metadata": {
    "id": "qI2dGmVBh4Sq"
   },
   "outputs": [],
   "source": [
    "X_train, X_test, y_train, y_test = train_test_split(normalized_df, targets, test_size=0.3,random_state=107) # 70% training and 30% test"
   ]
  },
  {
   "cell_type": "code",
   "execution_count": null,
   "metadata": {},
   "outputs": [],
   "source": [
    "len(X_train[0])"
   ]
  },
  {
   "cell_type": "code",
   "execution_count": null,
   "metadata": {},
   "outputs": [],
   "source": [
    "def create_linear_classifier(kernel_type='linear'):\n",
    "    return svm.SVC(kernel=kernel_type)\n",
    "def create_poly_classifier(kernel_type='poly',my_degree=2,my_gamma=1/30):\n",
    "    return svm.SVC(kernel=kernel_type, degree = my_degree,gamma=my_gamma)"
   ]
  },
  {
   "cell_type": "code",
   "execution_count": null,
   "metadata": {
    "colab": {
     "base_uri": "https://localhost:8080/"
    },
    "id": "dx90Sjfwh9cz",
    "outputId": "565c216c-c6e3-48bf-a20b-c64f577ab7f1"
   },
   "outputs": [],
   "source": [
    "clf = create_linear_classifier()\n",
    "#poly = create_poly_classifier('poly',2,1/(X_train.var() * len(X_train[0])))\n",
    "\n",
    "#Train the models using the training sets\n",
    "clf.fit(X_train, y_train)\n",
    "#poly.fit(X_train, y_train)\n",
    "\n",
    "#Predict the response for test dataset\n",
    "y_pred = clf.predict(X_test)\n",
    "#poly_y_pred = poly.predict(X_test)\n",
    "print(\"Accuracy Linear:\", metrics.accuracy_score(y_test, y_pred))\n",
    "#print(\"Accuracy Poly:\", metrics.accuracy_score(y_test, poly_y_pred))"
   ]
  },
  {
   "cell_type": "code",
   "execution_count": null,
   "metadata": {
    "colab": {
     "base_uri": "https://localhost:8080/"
    },
    "id": "kjIMKtJWiPAl",
    "outputId": "d9db7a40-e7b2-46aa-e558-a11d647d5d6a"
   },
   "outputs": [],
   "source": [
    "y_pred_train = clf.predict(X_train)\n",
    "#poly_pred_train = poly.predict(X_train)\n",
    "print(\"Accuracy on Training:\", metrics.accuracy_score(y_train, y_pred_train))\n",
    "#print(\"Accuracy on Training:\", metrics.accuracy_score(y_train, poly_pred_train))"
   ]
  },
  {
   "cell_type": "markdown",
   "metadata": {
    "id": "c3lOiqOAaJpe"
   },
   "source": [
    "## SVM Decision Function For The First Element of Training Dataset"
   ]
  },
  {
   "cell_type": "code",
   "execution_count": null,
   "metadata": {
    "colab": {
     "base_uri": "https://localhost:8080/"
    },
    "id": "igzG9IldBYWR",
    "outputId": "26b7faad-4c09-4561-c37d-bdba35c42e7c"
   },
   "outputs": [],
   "source": [
    "#Sum (coef @ sup_vec @ X[index] + bias)\n",
    "((clf.dual_coef_ @ clf.support_vectors_) @ X_train[0].reshape(1, len(X_train[0])).T + clf.intercept_)[0][0]"
   ]
  },
  {
   "cell_type": "code",
   "execution_count": null,
   "metadata": {},
   "outputs": [],
   "source": [
    "#(poly.dual_coef_ @ (((poly.support_vectors_ @ X_train[0].reshape(1, len(X_train[0])).T) * poly.gamma + poly.coef0) ** poly.degree) + poly.intercept_)[0][0]"
   ]
  },
  {
   "cell_type": "code",
   "execution_count": null,
   "metadata": {},
   "outputs": [],
   "source": [
    "#Linear SVM Decision Function\n",
    "print(\"DualCoef / Support Vectors / X_Train.T Reshaped / Intercept (bias)\")\n",
    "clf.dual_coef_.shape, clf.support_vectors_.shape, X_train[0].reshape(1, len(X_train[0])).T.shape, clf.intercept_.shape"
   ]
  },
  {
   "cell_type": "code",
   "execution_count": null,
   "metadata": {},
   "outputs": [],
   "source": [
    "#Polynomial SVM Decision Function\n",
    "#print(\"DualCoef / Support Vectors / X_Train.T Reshaped / Gamma / Coef0 / Degree / Intercept (bias)\")\n",
    "#poly.dual_coef_.shape, poly.support_vectors_.shape, X_train[0].reshape(1, len(X_train[0])).T.shape,poly.gamma, poly.coef0, poly.degree, poly.intercept_"
   ]
  },
  {
   "cell_type": "markdown",
   "metadata": {
    "id": "bZOA8ZXQZIH2",
    "tags": []
   },
   "source": [
    "# Defining Thresholds and Finding Rejecteds"
   ]
  },
  {
   "cell_type": "code",
   "execution_count": null,
   "metadata": {},
   "outputs": [],
   "source": [
    "def limits(classifier,data):\n",
    "    dec_fun = classifier.decision_function(data)\n",
    "    lim_pos = dec_fun[np.argmax(dec_fun)]\n",
    "    lim_neg = dec_fun[np.argmin(dec_fun)]\n",
    "    return dec_fun, lim_pos, lim_neg"
   ]
  },
  {
   "cell_type": "code",
   "execution_count": null,
   "metadata": {},
   "outputs": [],
   "source": [
    "def find_thresholds(decfun,t1,t2,wr,chosen_min='R'):\n",
    "    solution = {'WR':0,'T1':0, 'T2':0,'E':0,'R':0,'EWRR':0}\n",
    "    index = None\n",
    "    n_elements = decfun.shape[0]\n",
    "    for i,wr_ in enumerate(wr):\n",
    "      for j in range(0,len(t1)):\n",
    "        #Get Number of Rejected\n",
    "        positive_indexes = np.where(decfun >= t1[j])\n",
    "        negative_indexes = np.where(decfun < t2[j])\n",
    "        rejected_indexes = np.where((decfun < t1[j]) & (decfun >= t2[j]))\n",
    "        R = rejected_indexes[0].shape[0]\n",
    "        #np.array(positive_indexes).shape,np.array(negative_indexes).shape, R\n",
    "\n",
    "        #Get Number of Misclassifications\n",
    "        class_p = y_train[positive_indexes]\n",
    "        class_n = y_train[negative_indexes]\n",
    "        error_p = np.where(class_p == np.unique(y_train)[0])[0].shape[0]\n",
    "        error_n = np.where(class_n == np.unique(y_train)[1])[0].shape[0]\n",
    "        E = (error_p + error_n)/(n_elements - R)\n",
    "        #print(\"T1 \",round(t1[j],4),\"T2 \",round(t2[j],4),\"E\",round(E,4),\"Rej\",R,\"Pos \", positive_indexes[0].shape[0], \"Neg \",negative_indexes[0].shape[0])\n",
    "        if chosen_min=='R':\n",
    "            if (i == 0 and i == j) or R < solution['R']:\n",
    "                solution['WR'] = wr_\n",
    "                solution['T1'] = t1[j]\n",
    "                solution['T2'] = t2[j]\n",
    "                solution['E'] = E\n",
    "                solution['R'] = R\n",
    "                solution['EWRR'] = E + wr_ * R\n",
    "        elif chosen_min=='E':\n",
    "            if (i == 0 and i == j) or E < solution['E']:\n",
    "                solution['WR'] = wr_\n",
    "                solution['T1'] = t1[j]\n",
    "                solution['T2'] = t2[j]\n",
    "                solution['E'] = E\n",
    "                solution['R'] = R\n",
    "                solution['EWRR'] = E + wr_ * R\n",
    "        elif chosen_min=='EWRR':\n",
    "            if (i == 0 and i == j) or (E + wr_ * R) < solution['EWRR']:\n",
    "                solution['WR'] = wr_\n",
    "                solution['T1'] = t1[j]\n",
    "                solution['T2'] = t2[j]\n",
    "                solution['E'] = E\n",
    "                solution['R'] = R\n",
    "                solution['EWRR'] = E + wr_ * R\n",
    "        else:\n",
    "            return 'Chosen option \"' +chosen_min+'\" is invalid'\n",
    "    print('Thresholds by min(',chosen_min,') from solution: ',solution)\n",
    "    return solution['T1'], solution['T2']      \n",
    "                "
   ]
  },
  {
   "cell_type": "code",
   "execution_count": null,
   "metadata": {},
   "outputs": [],
   "source": [
    "def find_indexes(decfun,t1,t2):\n",
    "    positive_indexes = np.where(decfun >= t1)[0]\n",
    "    negative_indexes = np.where(decfun < t2)[0]\n",
    "    rejected_indexes = np.where((decfun < t1) & (decfun >= t2))[0]\n",
    "    R = rejected_indexes.shape[0]\n",
    "    return positive_indexes,negative_indexes,rejected_indexes"
   ]
  },
  {
   "cell_type": "code",
   "execution_count": null,
   "metadata": {},
   "outputs": [],
   "source": [
    "def find_thresholds_and_indexes(classifier,data,wr = None):  \n",
    "    dec_fun,lim_pos,lim_neg = limits(classifier,data)\n",
    "    print(\"Superior Limit: \",lim_pos,\"\\nInferior Limit: \",lim_neg)\n",
    "    if wr == None:\n",
    "        wr = [0.04, 0.08, 0.12, 0.16, 0.2, 0.24, 0.28, 0.32, 0.36, 0.4, 0.44, 0.48]\n",
    "    t1 = []\n",
    "    t2 = []\n",
    "    for i in range (1,21):\n",
    "      t1.append(0.05*i*lim_pos)\n",
    "      t2.append(0.05*i*lim_neg)  \n",
    "    T1,T2 = find_thresholds(dec_fun,t1,t2,wr)\n",
    "    pos_idx,neg_idx,rej_idx = find_indexes(dec_fun,T1,T2)\n",
    "    return T1, T2, pos_idx, neg_idx, rej_idx,lim_pos,lim_neg"
   ]
  },
  {
   "cell_type": "markdown",
   "metadata": {
    "id": "YkcUd3eZ9wQx"
   },
   "source": [
    "# Implementing SVM function for Z3 Solver"
   ]
  },
  {
   "cell_type": "markdown",
   "metadata": {
    "id": "XvhIKaB3fSBv"
   },
   "source": [
    "## Z3 Decision Function Elements"
   ]
  },
  {
   "cell_type": "code",
   "execution_count": null,
   "metadata": {
    "id": "8iDd2odTfUb-"
   },
   "outputs": [],
   "source": [
    "np.RealVal = np.vectorize(RealVal) \n",
    "np.RealVector = np.vectorize(RealVector) "
   ]
  },
  {
   "cell_type": "code",
   "execution_count": null,
   "metadata": {},
   "outputs": [],
   "source": [
    "def to_z3_conversion(classifier,training_set):\n",
    "    z3_dual_coef = np.RealVal(classifier.dual_coef_)\n",
    "    z3_support_vectors = np.RealVal(classifier.support_vectors_)\n",
    "    z3_intercept_ = np.RealVal(classifier.intercept_)\n",
    "    z3_X_Train = np.RealVector('x',training_set.shape[1])\n",
    "    if classifier.kernel == 'poly':\n",
    "        z3_gamma = np.RealVal(classifier.gamma)\n",
    "        z3_coef0 = np.RealVal(classifier.coef0)\n",
    "        z3_degree = np.RealVal(classifier.degree)\n",
    "        return z3_dual_coef,z3_support_vectors,z3_intercept_,z3_X_Train, z3_gamma,z3_coef0,z3_degree\n",
    "    return z3_dual_coef,z3_support_vectors,z3_intercept_,z3_X_Train"
   ]
  },
  {
   "cell_type": "markdown",
   "metadata": {
    "id": "it9FGkScC0p_"
   },
   "source": [
    "# Z3 with Reject Option"
   ]
  },
  {
   "cell_type": "markdown",
   "metadata": {
    "id": "oF_vwBRveDln",
    "tags": []
   },
   "source": [
    "## Explaining the Classifier's Decision Function and Finding Relevant Features"
   ]
  },
  {
   "cell_type": "code",
   "execution_count": null,
   "metadata": {},
   "outputs": [],
   "source": [
    "def z3_explanation(classifier,t1, t2, X, z3_coef, z3_sup_vec, z3_X, z3_intercept, reject_indexes,sup_lim,inf_lim,\n",
    "                   z3_gamma = None, z3_coef0 = None, z3_degree = None, show_values=True, min=0,max=1,positive=False,negative=False,rejected=False):\n",
    "    elapsed_time = []\n",
    "    relevant = []\n",
    "    irrelevant = []\n",
    "    global_values = []\n",
    "    print(\"Number of Instances: \", len(reject_indexes))\n",
    "    solver = Solver()\n",
    "    if classifier.kernel=='linear':\n",
    "        print(\"Classifier: Linear\")\n",
    "        if rejected:\n",
    "            print(\"Declared: Rejected Instances\")\n",
    "            solver.add(Or(((z3_coef @ z3_sup_vec) @ z3_X.reshape(1, len(z3_X)).T + z3_intercept)[0][0] >= t1,\n",
    "                          ((z3_coef @ z3_sup_vec) @ z3_X.reshape(1, len(z3_X)).T + z3_intercept)[0][0] < t2))\n",
    "        elif positive:\n",
    "            print(\"Declared: Positive Instances\")\n",
    "            solver.add(((z3_coef @ z3_sup_vec) @ z3_X.reshape(1, len(z3_X)).T + z3_intercept)[0][0] < t1)\n",
    "        elif negative:\n",
    "            print(\"Declared: Negative Instances\")\n",
    "            solver.add(((z3_coef @ z3_sup_vec) @ z3_X.reshape(1, len(z3_X)).T + z3_intercept)[0][0] >= t2)\n",
    "        else:\n",
    "            print(\"WARNING: Must declare if are positive,negative or rejected instances!\")\n",
    "        solver.add(((z3_coef @ z3_sup_vec) @ z3_X.reshape(1, len(z3_X)).T + z3_intercept)[0][0] >= inf_lim)\n",
    "        solver.add(((z3_coef @ z3_sup_vec) @ z3_X.reshape(1, len(z3_X)).T + z3_intercept)[0][0] <= sup_lim)\n",
    "    elif classifier.kernel=='poly':\n",
    "        print(\"Classifier: Polynomial\")\n",
    "        solver.add(Or(((z3_dual_coef @ (((z3_support_vectors @ z3_X.reshape(1, len(z3_X)).T) * z3_gamma + z3_coef0) ** z3_degree) + z3_intercept_)[0][0] >= t1),\n",
    "                      (z3_dual_coef @ (((z3_support_vectors @ z3_X.reshape(1, len(z3_X)).T) * z3_gamma + z3_coef0) ** z3_degree) + z3_intercept_)[0][0] < t2))\n",
    "    for j in range(0, len(z3_X)):\n",
    "        solver.add(z3_X[j] >= min)\n",
    "        solver.add(z3_X[j] <= max)\n",
    "    solver.push()\n",
    "    for i in range(0, len(reject_indexes)):\n",
    "        # Add Assertions for 0<= feature <= 1\n",
    "        index_list = list(range(len(z3_X)))\n",
    "        unsat_list = []\n",
    "        sat_list = []\n",
    "        values = []\n",
    "\n",
    "        # Select a feature and unfix it\n",
    "        start = time.perf_counter()\n",
    "        for z in range(0, len(z3_X)):   \n",
    "            for j in range(0, len(z3_X)):\n",
    "                if j != z and j in index_list:  # Choose one to check influence\n",
    "                    solver.add(z3_X[j] == X[reject_indexes[i]][j])            \n",
    "            check = solver.check()\n",
    "            if check == sat:\n",
    "                model = solver.model()\n",
    "                value = model[z3_X[z]].numerator_as_long() / model[z3_X[z]].denominator_as_long()\n",
    "                sat_list.append(z)\n",
    "                values.append(value)\n",
    "                if show_values:\n",
    "                    print('i = ', i, z, check, X[reject_indexes[i]][z], value)\n",
    "            else:\n",
    "                unsat_list.append(z)\n",
    "                index_list.remove(z)\n",
    "                if show_values:\n",
    "                    print('i = ', i, z, check)\n",
    "            \n",
    "            solver.pop()\n",
    "            solver.push()\n",
    "        elapsed_time.append(time.perf_counter()  - start)    \n",
    "        print(\"Finished \", i)\n",
    "        relevant.append(sat_list)\n",
    "        irrelevant.append(unsat_list)\n",
    "        global_values.append(values)\n",
    "        # print(\"Relevant: \",sat_list, '\\nUnsat List: ',unsat_list,'\\n')      \n",
    "    for i in range(0, len(relevant)):\n",
    "        if (show_values):\n",
    "            print('Instance ', i, '\\nRelevant Features: ', relevant[i], '\\nValues: ', global_values[i], '\\nIrrelevant Features: ',\n",
    "                  irrelevant[i], '\\nElapsed time: ',elapsed_time[i],'seconds\\n\\n')\n",
    "    \n",
    "    print(\"Tamanho médio de explicação: \",sum(len(x) for x in relevant)/len(relevant),\" - Custo médio: \",round(sum(elapsed_time)/len(elapsed_time),5),\"seg(s)\")        \n",
    "    return relevant, irrelevant, elapsed_time"
   ]
  },
  {
   "cell_type": "markdown",
   "metadata": {},
   "source": [
    "### For Linear Classifier"
   ]
  },
  {
   "cell_type": "markdown",
   "metadata": {},
   "source": [
    "#### Get thresholds and the rejected for Linear"
   ]
  },
  {
   "cell_type": "code",
   "execution_count": null,
   "metadata": {},
   "outputs": [],
   "source": [
    "T1,T2, positive_indexes,negative_indexes,rejected_indexes,lim_pos,lim_neg = find_thresholds_and_indexes(clf,X_train)\n",
    "T1,T2, positive_indexes.shape[0],negative_indexes.shape[0],rejected_indexes.shape[0]"
   ]
  },
  {
   "cell_type": "markdown",
   "metadata": {},
   "source": [
    "#### Get Z3's equivalent to linear classifier's decision function"
   ]
  },
  {
   "cell_type": "code",
   "execution_count": null,
   "metadata": {},
   "outputs": [],
   "source": [
    "z3_dual_coef,z3_support_vectors,z3_intercept_,z3_X_Train = to_z3_conversion(clf,X_train)"
   ]
  },
  {
   "cell_type": "code",
   "execution_count": null,
   "metadata": {},
   "outputs": [],
   "source": [
    "rejected_linear_relevant = []\n",
    "rejected_linear_irrelevant = []\n",
    "positive_linear_relevant = []\n",
    "positive_linear_irrelevant = []\n",
    "negative_linear_relevant = []\n",
    "negative_linear_irrelevant = []\n",
    "rejected_elapsed_time = []\n",
    "positive_elapsed_time = []\n",
    "negative_elapsed_time = []"
   ]
  },
  {
   "cell_type": "code",
   "execution_count": null,
   "metadata": {
    "tags": []
   },
   "outputs": [],
   "source": [
    "if len(rejected_indexes)!=0:\n",
    "    if len(rejected_indexes)>=50:\n",
    "        rejected_linear_relevant, rejected_linear_irrelevant, rejected_elapsed_time = z3_explanation(clf,T1,T2,X_train,z3_dual_coef,z3_support_vectors,z3_X_Train,z3_intercept_,rejected_indexes[0:50],\n",
    "                                                                          sup_lim=lim_pos,inf_lim=lim_neg,show_values=False, rejected = True)\n",
    "    else:\n",
    "        rejected_linear_relevant, rejected_linear_irrelevant, rejected_elapsed_time = z3_explanation(clf,T1,T2,X_train,z3_dual_coef,z3_support_vectors,z3_X_Train,z3_intercept_,rejected_indexes,\n",
    "                                                                          sup_lim=lim_pos,inf_lim=lim_neg,show_values=False, rejected = True)"
   ]
  },
  {
   "cell_type": "code",
   "execution_count": null,
   "metadata": {},
   "outputs": [],
   "source": [
    "if len(positive_indexes)!=0:\n",
    "    if len(positive_indexes)>=50:\n",
    "        positive_linear_relevant, positive_linear_irrelevant, positive_elapsed_time = z3_explanation(clf,T1,T2,X_train,z3_dual_coef,z3_support_vectors,z3_X_Train,z3_intercept_,positive_indexes[0:50],\n",
    "                                                                          sup_lim=lim_pos,inf_lim=lim_neg,show_values=False, positive = True)\n",
    "    else:\n",
    "        positive_linear_relevant, positive_linear_irrelevant, positive_elapsed_time = z3_explanation(clf,T1,T2,X_train,z3_dual_coef,z3_support_vectors,z3_X_Train,z3_intercept_,positive_indexes,\n",
    "                                                                          sup_lim=lim_pos,inf_lim=lim_neg,show_values=False, positive = True)"
   ]
  },
  {
   "cell_type": "code",
   "execution_count": null,
   "metadata": {},
   "outputs": [],
   "source": [
    "if len(negative_indexes)!=0:\n",
    "    if len(negative_indexes)>=50:\n",
    "        negative_linear_relevant, negative_linear_irrelevant, negative_elapsed_time = z3_explanation(clf,T1,T2,X_train,z3_dual_coef,z3_support_vectors,z3_X_Train,z3_intercept_,negative_indexes[0:50],\n",
    "                                                                          sup_lim=lim_pos,inf_lim=lim_neg,show_values=False, negative = True)\n",
    "    else:\n",
    "        negative_linear_relevant, negative_linear_irrelevant, negative_elapsed_time = z3_explanation(clf,T1,T2,X_train,z3_dual_coef,z3_support_vectors,z3_X_Train,z3_intercept_,negative_indexes,\n",
    "                                                                          sup_lim=lim_pos,inf_lim=lim_neg,show_values=False, negative = True)"
   ]
  },
  {
   "cell_type": "markdown",
   "metadata": {},
   "source": [
    "### For Polynomial Classifier (WIP)"
   ]
  },
  {
   "cell_type": "markdown",
   "metadata": {},
   "source": [
    "#### Get thresholds and the rejected for Poly"
   ]
  },
  {
   "cell_type": "code",
   "execution_count": null,
   "metadata": {},
   "outputs": [],
   "source": [
    "#T1,T2, positive_indexes,negative_indexes,rejected_indexes = find_thresholds_and_indexes(poly,X_train)\n",
    "#T1,T2, positive_indexes.shape[0],negative_indexes.shape[0],rejected_indexes.shape[0]"
   ]
  },
  {
   "cell_type": "markdown",
   "metadata": {},
   "source": [
    "#### Get Z3's equivalent to Poly classifier's decision function"
   ]
  },
  {
   "cell_type": "code",
   "execution_count": null,
   "metadata": {},
   "outputs": [],
   "source": [
    "#z3_dual_coef,z3_support_vectors,z3_intercept_,z3_X_Train,z3_gamma,z3_coef0,z3_degree = to_z3_conversion(poly,X_train)"
   ]
  },
  {
   "cell_type": "code",
   "execution_count": null,
   "metadata": {
    "tags": []
   },
   "outputs": [],
   "source": [
    "#poly_relevant, poly_irrelevant = z3_explanation(poly,T1,T2,X_train,z3_dual_coef,z3_support_vectors,z3_X_Train,z3_intercept_,rejected_indexes[0:1], z3_gamma,z3_coef0,z3_degree, show_values=False)"
   ]
  },
  {
   "cell_type": "markdown",
   "metadata": {
    "id": "oF_vwBRveDln",
    "tags": []
   },
   "source": [
    "# Anchors"
   ]
  },
  {
   "cell_type": "markdown",
   "metadata": {
    "id": "oF_vwBRveDln",
    "tags": []
   },
   "source": [
    "## Setting Up"
   ]
  },
  {
   "cell_type": "code",
   "execution_count": null,
   "metadata": {},
   "outputs": [],
   "source": [
    "from __future__ import print_function\n",
    "import sys\n",
    "import sklearn\n",
    "import sklearn.ensemble\n",
    "from anchor import utils\n",
    "from anchor import anchor_tabular"
   ]
  },
  {
   "cell_type": "raw",
   "metadata": {},
   "source": [
    "Generating Target Set with Reject Class == 0"
   ]
  },
  {
   "cell_type": "code",
   "execution_count": null,
   "metadata": {},
   "outputs": [],
   "source": [
    "def generate_ro_target_set(target_set,rejected_indexes):\n",
    "    target_set[rejected_indexes] = 0\n",
    "    return target_set"
   ]
  },
  {
   "cell_type": "code",
   "execution_count": null,
   "metadata": {
    "tags": []
   },
   "outputs": [],
   "source": [
    "ro_set = generate_ro_target_set(y_train,rejected_indexes)\n",
    "print(np.unique(ro_set))"
   ]
  },
  {
   "cell_type": "code",
   "execution_count": null,
   "metadata": {},
   "outputs": [],
   "source": [
    "feature_list = []\n",
    "for i in range(0,len(X_train[0])):\n",
    "    feature_list.append(str(i))\n",
    "feature_list = np.array(feature_list)"
   ]
  },
  {
   "cell_type": "code",
   "execution_count": null,
   "metadata": {
    "tags": []
   },
   "outputs": [],
   "source": [
    "explainer = anchor_tabular.AnchorTabularExplainer(\n",
    "    [-1,0,1],\n",
    "    feature_list,\n",
    "    X_train)"
   ]
  },
  {
   "cell_type": "code",
   "execution_count": null,
   "metadata": {},
   "outputs": [],
   "source": [
    "def svm_decfun(data,classifier=clf):\n",
    "    data = np.atleast_2d(data)\n",
    "    return ((classifier.dual_coef_ @ classifier.support_vectors_) @ data.T + classifier.intercept_)[0][0]"
   ]
  },
  {
   "cell_type": "code",
   "execution_count": null,
   "metadata": {},
   "outputs": [],
   "source": [
    "def svm_decfun_class(data,classifier=clf,Threshold_1=T1,Threshold_2=T2):\n",
    "    if svm_decfun(data) >= Threshold_1:\n",
    "        return np.array([2]) #class 1, since [-1, 0, 1]\n",
    "    elif svm_decfun(data) < Threshold_2:\n",
    "        return np.array([0]) #class -1\n",
    "    else:\n",
    "        return np.array([1]) #class 0"
   ]
  },
  {
   "cell_type": "markdown",
   "metadata": {
    "id": "oF_vwBRveDln",
    "tags": []
   },
   "source": [
    "## Explanation for 1 Instance"
   ]
  },
  {
   "cell_type": "markdown",
   "metadata": {
    "tags": []
   },
   "source": [
    "### Anchors Explanation"
   ]
  },
  {
   "cell_type": "code",
   "execution_count": null,
   "metadata": {
    "tags": []
   },
   "outputs": [],
   "source": [
    "'''idx = rejected_indexes[0]\n",
    "np.random.seed(1)\n",
    "print('Prediction: ', explainer.class_names[svm_decfun_class(X_train[idx])[0]])\n",
    "exp = explainer.explain_instance(X_train[idx], svm_decfun_class, threshold=1)'''"
   ]
  },
  {
   "cell_type": "code",
   "execution_count": null,
   "metadata": {},
   "outputs": [],
   "source": [
    "def explain_instance_anchors(explainer,svm_decfun_class,X_train,indexes):\n",
    "    np.random.seed(1)\n",
    "    elapsed_time = []\n",
    "    exp = None\n",
    "    for idx in indexes:    \n",
    "        print('Prediction: ', explainer.class_names[svm_decfun_class(X_train[idx])[0]])\n",
    "        start = time.perf_counter()  \n",
    "        exp = explainer.explain_instance(X_train[idx], svm_decfun_class, threshold=1)\n",
    "        elapsed_time.append(time.perf_counter()-start)\n",
    "    return exp,elapsed_time"
   ]
  },
  {
   "cell_type": "code",
   "execution_count": null,
   "metadata": {
    "tags": []
   },
   "outputs": [],
   "source": [
    "'''rejected_exp = None\n",
    "rejected_anchors_time = None\n",
    "if len(rejected_indexes)!=0:\n",
    "    if len(rejected_indexes)>=50:\n",
    "        rejected_exp,rejected_anchors_time = explain_instance_anchors(explainer,svm_decfun_class,X_train,rejected_indexes[0:50])\n",
    "    else:\n",
    "        rejected_exp,rejected_anchors_time = explain_instance_anchors(explainer,svm_decfun_class,X_train,rejected_indexes)\n",
    "if rejected_anchors_time != None and rejected_exp != None:    \n",
    "    print(\"Tempo Médio Anchors Rejeitados = \",sum(rejected_anchors_time)/len(rejected_anchors_time))'''"
   ]
  },
  {
   "cell_type": "code",
   "execution_count": null,
   "metadata": {
    "tags": []
   },
   "outputs": [],
   "source": [
    "'''positive_exp = None\n",
    "positive_anchors_time = None\n",
    "if len(positive_indexes)!=0:\n",
    "    if len(positive_indexes)>=50:\n",
    "        positive_exp,positive_anchors_time = explain_instance_anchors(explainer,svm_decfun_class,X_train,positive_indexes[0:50])\n",
    "    else:\n",
    "        positive_exp,positive_anchors_time = explain_instance_anchors(explainer,svm_decfun_class,X_train,positive_indexes)\n",
    "if positive_anchors_time != None and positive_exp != None:        \n",
    "    print(\"Tempo Médio Anchors Positivos = \",sum(positive_anchors_time)/len(positive_anchors_time))'''"
   ]
  },
  {
   "cell_type": "code",
   "execution_count": null,
   "metadata": {
    "tags": []
   },
   "outputs": [],
   "source": [
    "'''negative_exp = None\n",
    "negative_anchors_time = None\n",
    "if len(negative_indexes)!=0:\n",
    "    if len(negative_indexes)>=50:\n",
    "        negative_exp,negative_anchors_time = explain_instance_anchors(explainer,svm_decfun_class,X_train,negative_indexes[0:50])\n",
    "    else:\n",
    "        negative_exp,negative_anchors_time = explain_instance_anchors(explainer,svm_decfun_class,X_train,negative_indexes)\n",
    "if negative_anchors_time != None and negative_exp != None:\n",
    "    print(\"Tempo Médio Anchors Negativos = \",sum(negative_anchors_time)/len(negative_anchors_time))'''"
   ]
  },
  {
   "cell_type": "code",
   "execution_count": null,
   "metadata": {
    "jupyter": {
     "source_hidden": true
    },
    "tags": []
   },
   "outputs": [],
   "source": [
    "'''soma = 0\n",
    "tamanho = 0\n",
    "if rejected_anchors_time != None:\n",
    "    soma += sum(rejected_anchors_time)\n",
    "    tamanho += len(rejected_anchors_time)\n",
    "    print(\"Tempo Médio Anchors Rejeitados = \",sum(rejected_anchors_time)/len(rejected_anchors_time))\n",
    "if positive_anchors_time != None:\n",
    "    soma += sum(positive_anchors_time)\n",
    "    tamanho += len(positive_anchors_time)\n",
    "    print(\"Tempo Médio Anchors Positivos = \",sum(positive_anchors_time)/len(positive_anchors_time))\n",
    "if negative_anchors_time != None:\n",
    "    soma += sum(negative_anchors_time)\n",
    "    tamanho += len(negative_anchors_time)\n",
    "    print(\"Tempo Médio Anchors Negativos = \",sum(negative_anchors_time)/len(negative_anchors_time))      \n",
    "if tamanho != 0:\n",
    "    print(\"Tamanho Médio Total: \",soma/tamanho,'sec')\n",
    "    print(\"Soma: \",soma,\" Tamanho: \",tamanho)'''"
   ]
  },
  {
   "cell_type": "code",
   "execution_count": null,
   "metadata": {
    "tags": []
   },
   "outputs": [],
   "source": [
    "#exp.show_in_notebook()"
   ]
  },
  {
   "cell_type": "markdown",
   "metadata": {
    "id": "oF_vwBRveDln",
    "tags": []
   },
   "source": [
    "### Anchors Explanation on Z3 - WIP"
   ]
  },
  {
   "cell_type": "code",
   "execution_count": null,
   "metadata": {},
   "outputs": [],
   "source": [
    "def anchors_to_z3_explanation(explainer, X, t1, t2, z3_coef, z3_sup_vec, z3_X, z3_intercept, indexes,\n",
    "                              z3_gamma=None, z3_coef0=None, z3_degree=None,min=0,max=1,positive=False,negative=False,rejected=False):\n",
    "    print('Started')\n",
    "    sat_var = 0\n",
    "    unsat_var = 0\n",
    "    np.random.seed(1)\n",
    "    solver = Solver()\n",
    "    feature_sizes = []\n",
    "    anchors_time = []\n",
    "    if rejected:\n",
    "        print(\"Declared: Rejected Instances\")\n",
    "        solver.add(Or(((z3_coef @ z3_sup_vec) @ z3_X.reshape(1, len(z3_X)).T + z3_intercept)[0][0] >= t1,\n",
    "                      ((z3_coef @ z3_sup_vec) @ z3_X.reshape(1, len(z3_X)).T + z3_intercept)[0][0] < t2))\n",
    "    elif positive:\n",
    "        print(\"Declared: Positive Instances\")\n",
    "        solver.add(((z3_coef @ z3_sup_vec) @ z3_X.reshape(1, len(z3_X)).T + z3_intercept)[0][0] < t1)\n",
    "    elif negative:\n",
    "        print(\"Declared: Negative Instances\")\n",
    "        solver.add(((z3_coef @ z3_sup_vec) @ z3_X.reshape(1, len(z3_X)).T + z3_intercept)[0][0] >= t2)\n",
    "    else:\n",
    "        print(\"WARNING: Must declare if are positive,negative or rejected instances!\")\n",
    "        return None\n",
    "    for j in range(0, len(z3_X)):\n",
    "        solver.add(z3_X[j] >= min)\n",
    "        solver.add(z3_X[j] <= max)\n",
    "    solver.push()\n",
    "    for idx in indexes:\n",
    "        print('Prediction: ', explainer.class_names[svm_decfun_class(X[idx])[0]])\n",
    "        start = time.perf_counter()  \n",
    "        exp = explainer.explain_instance(X[idx], svm_decfun_class, threshold=1)\n",
    "        anchors_time.append(time.perf_counter() - start)\n",
    "        #print(exp.names())\n",
    "        print('Index = ', idx)\n",
    "        feature_sizes.append(len(np.unique((exp.features()))))\n",
    "        for feature in np.unique(exp.features()):       \n",
    "            solver.add(z3_X[feature] == X[idx][feature])\n",
    "            #print(\"Added restrictions: \",z3_X[feature],X[idx][feature])\n",
    "        \n",
    "        print(solver.check(), ' for ', idx,'\\n')\n",
    "        if solver.check() == sat:\n",
    "            model = solver.model()\n",
    "            print(model)\n",
    "            sat_var +=1\n",
    "        else:\n",
    "            unsat_var +=1\n",
    "        \n",
    "        print('\\n---------------\\n')\n",
    "        solver.pop()\n",
    "        solver.push()\n",
    "    print(\"Sat = \",sat_var,\"\\nUnsat = \",unsat_var)\n",
    "    return sat_var,unsat_var,feature_sizes,anchors_time"
   ]
  },
  {
   "cell_type": "code",
   "execution_count": null,
   "metadata": {},
   "outputs": [],
   "source": [
    "rejected_sat_var = 0\n",
    "rejected_unsat_var = 0\n",
    "positive_sat_var = 0\n",
    "positive_unsat_var = 0\n",
    "negative_sat_var = 0\n",
    "negative_unsat_var = 0\n",
    "rejected_feature_sizes = []\n",
    "positive_feature_sizes = []\n",
    "negative_feature_sizes = []\n",
    "r_time = []\n",
    "p_time = []\n",
    "n_time  = []"
   ]
  },
  {
   "cell_type": "code",
   "execution_count": null,
   "metadata": {
    "tags": []
   },
   "outputs": [],
   "source": [
    "if len(rejected_indexes)!=0:\n",
    "    if len(rejected_indexes)>=50:\n",
    "        rejected_sat_var, rejected_unsat_var, rejected_feature_sizes,r_time = anchors_to_z3_explanation(explainer, X_train, T1, T2, z3_dual_coef, z3_support_vectors, z3_X_Train, z3_intercept_,rejected_indexes[0:50],rejected=True)\n",
    "    else:\n",
    "        rejected_sat_var, rejected_unsat_var, rejected_feature_sizes,r_time = anchors_to_z3_explanation(explainer, X_train, T1, T2, z3_dual_coef, z3_support_vectors, z3_X_Train, z3_intercept_,rejected_indexes,rejected=True)"
   ]
  },
  {
   "cell_type": "code",
   "execution_count": null,
   "metadata": {
    "tags": []
   },
   "outputs": [],
   "source": [
    "if len(positive_indexes)!=0:\n",
    "    if len(positive_indexes)>=50:\n",
    "        positive_sat_var, positive_unsat_var, positive_feature_sizes,p_time = anchors_to_z3_explanation(explainer, X_train, T1, T2, z3_dual_coef, z3_support_vectors, z3_X_Train, z3_intercept_,positive_indexes[0:50],positive=True)\n",
    "    else:\n",
    "        positive_sat_var, positive_unsat_var, positive_feature_sizes,p_time = anchors_to_z3_explanation(explainer, X_train, T1, T2, z3_dual_coef, z3_support_vectors, z3_X_Train, z3_intercept_,positive_indexes,positive=True)"
   ]
  },
  {
   "cell_type": "code",
   "execution_count": null,
   "metadata": {
    "tags": []
   },
   "outputs": [],
   "source": [
    "if len(negative_indexes)!=0:\n",
    "    if len(negative_indexes)>=50:\n",
    "        negative_sat_var, negative_unsat_var, negative_feature_sizes,n_time = anchors_to_z3_explanation(explainer, X_train, T1, T2, z3_dual_coef, z3_support_vectors, z3_X_Train, z3_intercept_,negative_indexes[0:50],negative=True)\n",
    "    else:\n",
    "        negative_sat_var, negative_unsat_var, negative_feature_sizes,n_time = anchors_to_z3_explanation(explainer, X_train, T1, T2, z3_dual_coef, z3_support_vectors, z3_X_Train, z3_intercept_,negative_indexes,negative=True)"
   ]
  },
  {
   "cell_type": "markdown",
   "metadata": {},
   "source": [
    "## Calculating Metrics"
   ]
  },
  {
   "cell_type": "markdown",
   "metadata": {},
   "source": [
    "### Z3 AND ANCHORS TIME COST"
   ]
  },
  {
   "cell_type": "code",
   "execution_count": null,
   "metadata": {},
   "outputs": [],
   "source": [
    "soma = 0\n",
    "tamanho = 0\n",
    "if rejected_elapsed_time != None and len(rejected_elapsed_time) >0:\n",
    "    soma += sum(rejected_elapsed_time)\n",
    "    tamanho += len(rejected_elapsed_time)\n",
    "    print(\"Tempo Médio Z3 Rejeitados = \",sum(rejected_elapsed_time)/len(rejected_elapsed_time))\n",
    "if positive_elapsed_time != None and len(positive_elapsed_time) >0:\n",
    "    soma += sum(positive_elapsed_time)\n",
    "    tamanho += len(positive_elapsed_time)\n",
    "    print(\"Tempo Médio Z3 Positivos = \",sum(positive_elapsed_time)/len(positive_elapsed_time))\n",
    "if negative_elapsed_time != None and len(negative_elapsed_time) >0:\n",
    "    soma += sum(negative_elapsed_time)\n",
    "    tamanho += len(negative_elapsed_time)\n",
    "    print(\"Tempo Médio Z3 Negativos = \",sum(negative_elapsed_time)/len(negative_elapsed_time)) \n",
    "if tamanho != 0:\n",
    "    print(\"Tamanho Médio Total: \",soma/tamanho,'sec')\n",
    "    print(\"Soma: \",soma,\" Tamanho: \",tamanho)"
   ]
  },
  {
   "cell_type": "code",
   "execution_count": null,
   "metadata": {
    "tags": []
   },
   "outputs": [],
   "source": [
    "soma = 0\n",
    "tamanho = 0\n",
    "if r_time != None and len(r_time)>0:\n",
    "    soma += sum(r_time)\n",
    "    tamanho += len(r_time)\n",
    "    print(\"Tempo Médio Anchors Rejeitados = \",sum(r_time)/len(r_time))\n",
    "if p_time != None and len(p_time)>0:\n",
    "    soma += sum(p_time)\n",
    "    tamanho += len(p_time)\n",
    "    print(\"Tempo Médio Anchors Positivos = \",sum(p_time)/len(p_time))\n",
    "if n_time != None and len(n_time)>0:\n",
    "    soma += sum(n_time)\n",
    "    tamanho += len(n_time)\n",
    "    print(\"Tempo Médio Anchors Negativos = \",sum(n_time)/len(n_time))      \n",
    "if tamanho != 0:\n",
    "    print(\"Tamanho Médio Total: \",soma/tamanho,'sec')\n",
    "    print(\"Soma: \",soma,\" Tamanho: \",tamanho)"
   ]
  },
  {
   "cell_type": "markdown",
   "metadata": {},
   "source": [
    "### Z3 AND ANCHORS EXPLANATION SIZE"
   ]
  },
  {
   "cell_type": "code",
   "execution_count": null,
   "metadata": {},
   "outputs": [],
   "source": [
    "soma = 0\n",
    "tamanho = 0\n",
    "if len(rejected_linear_relevant)>0:  \n",
    "    tamanho += len(rejected_linear_relevant)\n",
    "    tamanho_rejeitado = 0\n",
    "    for x in rejected_linear_relevant:\n",
    "        soma += len(x)\n",
    "        tamanho_rejeitado += len(x)\n",
    "    print(\"Z3 Tamanho Rejeitado: \",tamanho_rejeitado,\"Tamanho Médio Rejeitado:\",tamanho_rejeitado/len(rejected_linear_relevant))\n",
    "if len(positive_linear_relevant)>0:   \n",
    "    tamanho += len(positive_linear_relevant)\n",
    "    tamanho_positivo = 0\n",
    "    for x in positive_linear_relevant:\n",
    "        soma += len(x)\n",
    "        tamanho_positivo += len(x)\n",
    "    print(\"Z3 Tamanho Positivo: \",tamanho_positivo,\"Tamanho Médio Positivo:\",tamanho_positivo/len(positive_linear_relevant))\n",
    "if len(negative_linear_relevant)>0:\n",
    "    tamanho += len(negative_linear_relevant)\n",
    "    tamanho_negativo = 0\n",
    "    for x in negative_linear_relevant:\n",
    "        soma += len(x)\n",
    "        tamanho_negativo += len(x)\n",
    "    print(\"Z3 Tamanho Negativo: \",tamanho_negativo,\"Tamanho Médio Negativo:\",tamanho_negativo/len(negative_linear_relevant))\n",
    "print(\"Z3 Tamanho Médio \",soma/tamanho)\n",
    "print(\"Soma: \",soma,\"Tamanho: \",tamanho)"
   ]
  },
  {
   "cell_type": "code",
   "execution_count": null,
   "metadata": {},
   "outputs": [],
   "source": [
    "if len(rejected_feature_sizes) > 0 :\n",
    "    print(\"Anchors Tamanho Rejeitado: \",sum(rejected_feature_sizes),\"Tamanho Médio Rejeitado\",sum(rejected_feature_sizes)/len(rejected_feature_sizes))\n",
    "if len(positive_feature_sizes) > 0 :\n",
    "    print(\"Anchors Tamanho Positivo: \",sum(positive_feature_sizes),\"Tamanho Médio Positivo\",sum(positive_feature_sizes)/len(positive_feature_sizes))\n",
    "if len(negative_feature_sizes) > 0 :\n",
    "    print(\"Anchors Tamanho Negativo: \",sum(negative_feature_sizes),\"Tamanho Médio Negativo\",sum(negative_feature_sizes)/len(negative_feature_sizes))\n",
    "soma = sum(rejected_feature_sizes)+sum(positive_feature_sizes)+sum(negative_feature_sizes)\n",
    "soma_len = len(rejected_feature_sizes) + len(positive_feature_sizes) + len(negative_feature_sizes)\n",
    "print(\"Anchors Tamanho Médio: \",soma/soma_len)\n",
    "print(\"Soma: \",soma,\"Tamanho: \",soma_len)"
   ]
  },
  {
   "cell_type": "code",
   "execution_count": null,
   "metadata": {
    "jupyter": {
     "source_hidden": true
    },
    "tags": []
   },
   "outputs": [],
   "source": []
  },
  {
   "cell_type": "markdown",
   "metadata": {},
   "source": [
    "### ANCHORS TO Z3 SAT AND UNSAT"
   ]
  },
  {
   "cell_type": "code",
   "execution_count": null,
   "metadata": {},
   "outputs": [],
   "source": [
    "print(\"          SAT/UNSAT\")\n",
    "print(\"Rejected: \",rejected_sat_var,\"|\",rejected_unsat_var)\n",
    "print(\"Positive: \",positive_sat_var,\"|\",positive_unsat_var)\n",
    "print(\"Negative: \",negative_sat_var,\"|\",negative_unsat_var)\n",
    "soma_sat = rejected_sat_var + positive_sat_var + negative_sat_var\n",
    "soma_unsat = rejected_unsat_var + positive_unsat_var + negative_unsat_var\n",
    "print(\"Total:    \",soma_sat,\"|\",soma_unsat,\" of \",soma_sat+soma_unsat)"
   ]
  },
  {
   "cell_type": "code",
   "execution_count": null,
   "metadata": {},
   "outputs": [],
   "source": []
  }
 ],
 "metadata": {
  "colab": {
   "name": "Cópia de Slimmer Z3 SVM Solver.ipynb",
   "provenance": [],
   "toc_visible": true
  },
  "kernelspec": {
   "display_name": "Python 3 (ipykernel)",
   "language": "python",
   "name": "python3"
  },
  "language_info": {
   "codemirror_mode": {
    "name": "ipython",
    "version": 3
   },
   "file_extension": ".py",
   "mimetype": "text/x-python",
   "name": "python",
   "nbconvert_exporter": "python",
   "pygments_lexer": "ipython3",
   "version": "3.9.12"
  }
 },
 "nbformat": 4,
 "nbformat_minor": 4
}
