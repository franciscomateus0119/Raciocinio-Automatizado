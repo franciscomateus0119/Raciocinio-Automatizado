{
 "cells": [
  {
   "cell_type": "markdown",
   "metadata": {
    "id": "LwlEKusEcBbw"
   },
   "source": [
    "# Installing Z3 and Imports"
   ]
  },
  {
   "cell_type": "code",
   "execution_count": 1,
   "metadata": {
    "colab": {
     "base_uri": "https://localhost:8080/"
    },
    "id": "dt8anHvhLwsn",
    "jupyter": {
     "source_hidden": true
    },
    "outputId": "13b6d0bc-f00b-4b50-99a2-9366ed28b2ce",
    "tags": []
   },
   "outputs": [
    {
     "data": {
      "text/plain": [
       "'\\n!pip install z3-solver\\n!pip install pandas\\n!pip install numpy\\n!pip install sklearn\\n!pip install anchor-exp\\n'"
      ]
     },
     "execution_count": 1,
     "metadata": {},
     "output_type": "execute_result"
    }
   ],
   "source": [
    "'''\n",
    "!pip install z3-solver\n",
    "!pip install pandas\n",
    "!pip install numpy\n",
    "!pip install sklearn\n",
    "!pip install anchor-exp\n",
    "'''"
   ]
  },
  {
   "cell_type": "code",
   "execution_count": 2,
   "metadata": {
    "id": "A1i4HEgVhKCN"
   },
   "outputs": [],
   "source": [
    "import pandas as pd\n",
    "import numpy as np\n",
    "from sklearn.model_selection import train_test_split\n",
    "from sklearn import svm\n",
    "from sklearn import metrics\n",
    "from z3 import *"
   ]
  },
  {
   "cell_type": "markdown",
   "metadata": {
    "id": "VX71r1djY-7L"
   },
   "source": [
    "# Training Linear and Polynomial SVMs"
   ]
  },
  {
   "cell_type": "markdown",
   "metadata": {},
   "source": [
    "## Resumo do dataset\n",
    "Banco Conexionista (Sonar, Minas vs. Rochas) http://archive.ics.uci.edu/ml/datasets/connectionist+bench+(sonar,+mines+vs.+rocks)\n",
    "\n",
    "Resumo : A tarefa é treinar uma rede para discriminar entre sinais de sonar rebatidos em um cilindro de metal e aqueles rebatidos em uma rocha aproximadamente cilíndrica.\n",
    "\n",
    "Características do conjunto de dados: Multivariável\n",
    "Número de Instâncias: 208\n",
    "Características do atributo: Real\n",
    "Número de atributos: 60\n",
    "\n",
    "Informações do conjunto de dados:\n",
    "\n",
    "O arquivo \"sonar.mines\" contém 111 padrões obtidos por sinais de sonar que saltam de um cilindro de metal em vários ângulos e sob várias condições. O arquivo \"sonar.rocks\" contém 97 padrões obtidos de rochas em condições semelhantes. O sinal de sonar transmitido é um chilrear modulado em frequência, aumentando em frequência. O conjunto de dados contém sinais obtidos de uma variedade de ângulos de aspecto diferentes, abrangendo 90 graus para o cilindro e 180 graus para a rocha.\n",
    "\n",
    "Cada padrão é um conjunto de 60 números no intervalo de 0,0 a 1,0. Cada número representa a energia dentro de uma determinada banda de frequência, integrada ao longo de um determinado período de tempo. A abertura de integração para frequências mais altas ocorre mais tarde, uma vez que essas frequências são transmitidas mais tarde durante o chirp.\n",
    "\n",
    "O rótulo associado a cada registro contém a letra “R” se o objeto for uma rocha e “M” se for uma mina (cilindro de metal). Os números nos rótulos estão em ordem crescente de ângulo de aspecto, mas não codificam o ângulo diretamente."
   ]
  },
  {
   "cell_type": "markdown",
   "metadata": {
    "id": "TO6whMFhZ9yf"
   },
   "source": [
    "## Data Preprocessing."
   ]
  },
  {
   "cell_type": "code",
   "execution_count": 3,
   "metadata": {
    "id": "PW90CcDBHbaM"
   },
   "outputs": [],
   "source": [
    "df = pd.read_csv('../datasets/Sonar.csv')"
   ]
  },
  {
   "cell_type": "code",
   "execution_count": 4,
   "metadata": {},
   "outputs": [
    {
     "data": {
      "text/html": [
       "<div>\n",
       "<style scoped>\n",
       "    .dataframe tbody tr th:only-of-type {\n",
       "        vertical-align: middle;\n",
       "    }\n",
       "\n",
       "    .dataframe tbody tr th {\n",
       "        vertical-align: top;\n",
       "    }\n",
       "\n",
       "    .dataframe thead th {\n",
       "        text-align: right;\n",
       "    }\n",
       "</style>\n",
       "<table border=\"1\" class=\"dataframe\">\n",
       "  <thead>\n",
       "    <tr style=\"text-align: right;\">\n",
       "      <th></th>\n",
       "      <th>V1</th>\n",
       "      <th>V2</th>\n",
       "      <th>V3</th>\n",
       "      <th>V4</th>\n",
       "      <th>V5</th>\n",
       "      <th>V6</th>\n",
       "      <th>V7</th>\n",
       "      <th>V8</th>\n",
       "      <th>V9</th>\n",
       "      <th>V10</th>\n",
       "      <th>...</th>\n",
       "      <th>V52</th>\n",
       "      <th>V53</th>\n",
       "      <th>V54</th>\n",
       "      <th>V55</th>\n",
       "      <th>V56</th>\n",
       "      <th>V57</th>\n",
       "      <th>V58</th>\n",
       "      <th>V59</th>\n",
       "      <th>V60</th>\n",
       "      <th>Class</th>\n",
       "    </tr>\n",
       "  </thead>\n",
       "  <tbody>\n",
       "    <tr>\n",
       "      <th>0</th>\n",
       "      <td>0.0200</td>\n",
       "      <td>0.0371</td>\n",
       "      <td>0.0428</td>\n",
       "      <td>0.0207</td>\n",
       "      <td>0.0954</td>\n",
       "      <td>0.0986</td>\n",
       "      <td>0.1539</td>\n",
       "      <td>0.1601</td>\n",
       "      <td>0.3109</td>\n",
       "      <td>0.2111</td>\n",
       "      <td>...</td>\n",
       "      <td>0.0027</td>\n",
       "      <td>0.0065</td>\n",
       "      <td>0.0159</td>\n",
       "      <td>0.0072</td>\n",
       "      <td>0.0167</td>\n",
       "      <td>0.0180</td>\n",
       "      <td>0.0084</td>\n",
       "      <td>0.0090</td>\n",
       "      <td>0.0032</td>\n",
       "      <td>1</td>\n",
       "    </tr>\n",
       "    <tr>\n",
       "      <th>1</th>\n",
       "      <td>0.0453</td>\n",
       "      <td>0.0523</td>\n",
       "      <td>0.0843</td>\n",
       "      <td>0.0689</td>\n",
       "      <td>0.1183</td>\n",
       "      <td>0.2583</td>\n",
       "      <td>0.2156</td>\n",
       "      <td>0.3481</td>\n",
       "      <td>0.3337</td>\n",
       "      <td>0.2872</td>\n",
       "      <td>...</td>\n",
       "      <td>0.0084</td>\n",
       "      <td>0.0089</td>\n",
       "      <td>0.0048</td>\n",
       "      <td>0.0094</td>\n",
       "      <td>0.0191</td>\n",
       "      <td>0.0140</td>\n",
       "      <td>0.0049</td>\n",
       "      <td>0.0052</td>\n",
       "      <td>0.0044</td>\n",
       "      <td>1</td>\n",
       "    </tr>\n",
       "    <tr>\n",
       "      <th>2</th>\n",
       "      <td>0.0262</td>\n",
       "      <td>0.0582</td>\n",
       "      <td>0.1099</td>\n",
       "      <td>0.1083</td>\n",
       "      <td>0.0974</td>\n",
       "      <td>0.2280</td>\n",
       "      <td>0.2431</td>\n",
       "      <td>0.3771</td>\n",
       "      <td>0.5598</td>\n",
       "      <td>0.6194</td>\n",
       "      <td>...</td>\n",
       "      <td>0.0232</td>\n",
       "      <td>0.0166</td>\n",
       "      <td>0.0095</td>\n",
       "      <td>0.0180</td>\n",
       "      <td>0.0244</td>\n",
       "      <td>0.0316</td>\n",
       "      <td>0.0164</td>\n",
       "      <td>0.0095</td>\n",
       "      <td>0.0078</td>\n",
       "      <td>1</td>\n",
       "    </tr>\n",
       "    <tr>\n",
       "      <th>3</th>\n",
       "      <td>0.0100</td>\n",
       "      <td>0.0171</td>\n",
       "      <td>0.0623</td>\n",
       "      <td>0.0205</td>\n",
       "      <td>0.0205</td>\n",
       "      <td>0.0368</td>\n",
       "      <td>0.1098</td>\n",
       "      <td>0.1276</td>\n",
       "      <td>0.0598</td>\n",
       "      <td>0.1264</td>\n",
       "      <td>...</td>\n",
       "      <td>0.0121</td>\n",
       "      <td>0.0036</td>\n",
       "      <td>0.0150</td>\n",
       "      <td>0.0085</td>\n",
       "      <td>0.0073</td>\n",
       "      <td>0.0050</td>\n",
       "      <td>0.0044</td>\n",
       "      <td>0.0040</td>\n",
       "      <td>0.0117</td>\n",
       "      <td>1</td>\n",
       "    </tr>\n",
       "    <tr>\n",
       "      <th>4</th>\n",
       "      <td>0.0762</td>\n",
       "      <td>0.0666</td>\n",
       "      <td>0.0481</td>\n",
       "      <td>0.0394</td>\n",
       "      <td>0.0590</td>\n",
       "      <td>0.0649</td>\n",
       "      <td>0.1209</td>\n",
       "      <td>0.2467</td>\n",
       "      <td>0.3564</td>\n",
       "      <td>0.4459</td>\n",
       "      <td>...</td>\n",
       "      <td>0.0031</td>\n",
       "      <td>0.0054</td>\n",
       "      <td>0.0105</td>\n",
       "      <td>0.0110</td>\n",
       "      <td>0.0015</td>\n",
       "      <td>0.0072</td>\n",
       "      <td>0.0048</td>\n",
       "      <td>0.0107</td>\n",
       "      <td>0.0094</td>\n",
       "      <td>1</td>\n",
       "    </tr>\n",
       "    <tr>\n",
       "      <th>...</th>\n",
       "      <td>...</td>\n",
       "      <td>...</td>\n",
       "      <td>...</td>\n",
       "      <td>...</td>\n",
       "      <td>...</td>\n",
       "      <td>...</td>\n",
       "      <td>...</td>\n",
       "      <td>...</td>\n",
       "      <td>...</td>\n",
       "      <td>...</td>\n",
       "      <td>...</td>\n",
       "      <td>...</td>\n",
       "      <td>...</td>\n",
       "      <td>...</td>\n",
       "      <td>...</td>\n",
       "      <td>...</td>\n",
       "      <td>...</td>\n",
       "      <td>...</td>\n",
       "      <td>...</td>\n",
       "      <td>...</td>\n",
       "      <td>...</td>\n",
       "    </tr>\n",
       "    <tr>\n",
       "      <th>203</th>\n",
       "      <td>0.0187</td>\n",
       "      <td>0.0346</td>\n",
       "      <td>0.0168</td>\n",
       "      <td>0.0177</td>\n",
       "      <td>0.0393</td>\n",
       "      <td>0.1630</td>\n",
       "      <td>0.2028</td>\n",
       "      <td>0.1694</td>\n",
       "      <td>0.2328</td>\n",
       "      <td>0.2684</td>\n",
       "      <td>...</td>\n",
       "      <td>0.0116</td>\n",
       "      <td>0.0098</td>\n",
       "      <td>0.0199</td>\n",
       "      <td>0.0033</td>\n",
       "      <td>0.0101</td>\n",
       "      <td>0.0065</td>\n",
       "      <td>0.0115</td>\n",
       "      <td>0.0193</td>\n",
       "      <td>0.0157</td>\n",
       "      <td>0</td>\n",
       "    </tr>\n",
       "    <tr>\n",
       "      <th>204</th>\n",
       "      <td>0.0323</td>\n",
       "      <td>0.0101</td>\n",
       "      <td>0.0298</td>\n",
       "      <td>0.0564</td>\n",
       "      <td>0.0760</td>\n",
       "      <td>0.0958</td>\n",
       "      <td>0.0990</td>\n",
       "      <td>0.1018</td>\n",
       "      <td>0.1030</td>\n",
       "      <td>0.2154</td>\n",
       "      <td>...</td>\n",
       "      <td>0.0061</td>\n",
       "      <td>0.0093</td>\n",
       "      <td>0.0135</td>\n",
       "      <td>0.0063</td>\n",
       "      <td>0.0063</td>\n",
       "      <td>0.0034</td>\n",
       "      <td>0.0032</td>\n",
       "      <td>0.0062</td>\n",
       "      <td>0.0067</td>\n",
       "      <td>0</td>\n",
       "    </tr>\n",
       "    <tr>\n",
       "      <th>205</th>\n",
       "      <td>0.0522</td>\n",
       "      <td>0.0437</td>\n",
       "      <td>0.0180</td>\n",
       "      <td>0.0292</td>\n",
       "      <td>0.0351</td>\n",
       "      <td>0.1171</td>\n",
       "      <td>0.1257</td>\n",
       "      <td>0.1178</td>\n",
       "      <td>0.1258</td>\n",
       "      <td>0.2529</td>\n",
       "      <td>...</td>\n",
       "      <td>0.0160</td>\n",
       "      <td>0.0029</td>\n",
       "      <td>0.0051</td>\n",
       "      <td>0.0062</td>\n",
       "      <td>0.0089</td>\n",
       "      <td>0.0140</td>\n",
       "      <td>0.0138</td>\n",
       "      <td>0.0077</td>\n",
       "      <td>0.0031</td>\n",
       "      <td>0</td>\n",
       "    </tr>\n",
       "    <tr>\n",
       "      <th>206</th>\n",
       "      <td>0.0303</td>\n",
       "      <td>0.0353</td>\n",
       "      <td>0.0490</td>\n",
       "      <td>0.0608</td>\n",
       "      <td>0.0167</td>\n",
       "      <td>0.1354</td>\n",
       "      <td>0.1465</td>\n",
       "      <td>0.1123</td>\n",
       "      <td>0.1945</td>\n",
       "      <td>0.2354</td>\n",
       "      <td>...</td>\n",
       "      <td>0.0086</td>\n",
       "      <td>0.0046</td>\n",
       "      <td>0.0126</td>\n",
       "      <td>0.0036</td>\n",
       "      <td>0.0035</td>\n",
       "      <td>0.0034</td>\n",
       "      <td>0.0079</td>\n",
       "      <td>0.0036</td>\n",
       "      <td>0.0048</td>\n",
       "      <td>0</td>\n",
       "    </tr>\n",
       "    <tr>\n",
       "      <th>207</th>\n",
       "      <td>0.0260</td>\n",
       "      <td>0.0363</td>\n",
       "      <td>0.0136</td>\n",
       "      <td>0.0272</td>\n",
       "      <td>0.0214</td>\n",
       "      <td>0.0338</td>\n",
       "      <td>0.0655</td>\n",
       "      <td>0.1400</td>\n",
       "      <td>0.1843</td>\n",
       "      <td>0.2354</td>\n",
       "      <td>...</td>\n",
       "      <td>0.0146</td>\n",
       "      <td>0.0129</td>\n",
       "      <td>0.0047</td>\n",
       "      <td>0.0039</td>\n",
       "      <td>0.0061</td>\n",
       "      <td>0.0040</td>\n",
       "      <td>0.0036</td>\n",
       "      <td>0.0061</td>\n",
       "      <td>0.0115</td>\n",
       "      <td>0</td>\n",
       "    </tr>\n",
       "  </tbody>\n",
       "</table>\n",
       "<p>208 rows × 61 columns</p>\n",
       "</div>"
      ],
      "text/plain": [
       "         V1      V2      V3      V4      V5      V6      V7      V8      V9  \\\n",
       "0    0.0200  0.0371  0.0428  0.0207  0.0954  0.0986  0.1539  0.1601  0.3109   \n",
       "1    0.0453  0.0523  0.0843  0.0689  0.1183  0.2583  0.2156  0.3481  0.3337   \n",
       "2    0.0262  0.0582  0.1099  0.1083  0.0974  0.2280  0.2431  0.3771  0.5598   \n",
       "3    0.0100  0.0171  0.0623  0.0205  0.0205  0.0368  0.1098  0.1276  0.0598   \n",
       "4    0.0762  0.0666  0.0481  0.0394  0.0590  0.0649  0.1209  0.2467  0.3564   \n",
       "..      ...     ...     ...     ...     ...     ...     ...     ...     ...   \n",
       "203  0.0187  0.0346  0.0168  0.0177  0.0393  0.1630  0.2028  0.1694  0.2328   \n",
       "204  0.0323  0.0101  0.0298  0.0564  0.0760  0.0958  0.0990  0.1018  0.1030   \n",
       "205  0.0522  0.0437  0.0180  0.0292  0.0351  0.1171  0.1257  0.1178  0.1258   \n",
       "206  0.0303  0.0353  0.0490  0.0608  0.0167  0.1354  0.1465  0.1123  0.1945   \n",
       "207  0.0260  0.0363  0.0136  0.0272  0.0214  0.0338  0.0655  0.1400  0.1843   \n",
       "\n",
       "        V10  ...     V52     V53     V54     V55     V56     V57     V58  \\\n",
       "0    0.2111  ...  0.0027  0.0065  0.0159  0.0072  0.0167  0.0180  0.0084   \n",
       "1    0.2872  ...  0.0084  0.0089  0.0048  0.0094  0.0191  0.0140  0.0049   \n",
       "2    0.6194  ...  0.0232  0.0166  0.0095  0.0180  0.0244  0.0316  0.0164   \n",
       "3    0.1264  ...  0.0121  0.0036  0.0150  0.0085  0.0073  0.0050  0.0044   \n",
       "4    0.4459  ...  0.0031  0.0054  0.0105  0.0110  0.0015  0.0072  0.0048   \n",
       "..      ...  ...     ...     ...     ...     ...     ...     ...     ...   \n",
       "203  0.2684  ...  0.0116  0.0098  0.0199  0.0033  0.0101  0.0065  0.0115   \n",
       "204  0.2154  ...  0.0061  0.0093  0.0135  0.0063  0.0063  0.0034  0.0032   \n",
       "205  0.2529  ...  0.0160  0.0029  0.0051  0.0062  0.0089  0.0140  0.0138   \n",
       "206  0.2354  ...  0.0086  0.0046  0.0126  0.0036  0.0035  0.0034  0.0079   \n",
       "207  0.2354  ...  0.0146  0.0129  0.0047  0.0039  0.0061  0.0040  0.0036   \n",
       "\n",
       "        V59     V60  Class  \n",
       "0    0.0090  0.0032      1  \n",
       "1    0.0052  0.0044      1  \n",
       "2    0.0095  0.0078      1  \n",
       "3    0.0040  0.0117      1  \n",
       "4    0.0107  0.0094      1  \n",
       "..      ...     ...    ...  \n",
       "203  0.0193  0.0157      0  \n",
       "204  0.0062  0.0067      0  \n",
       "205  0.0077  0.0031      0  \n",
       "206  0.0036  0.0048      0  \n",
       "207  0.0061  0.0115      0  \n",
       "\n",
       "[208 rows x 61 columns]"
      ]
     },
     "execution_count": 4,
     "metadata": {},
     "output_type": "execute_result"
    }
   ],
   "source": [
    "df"
   ]
  },
  {
   "cell_type": "code",
   "execution_count": 5,
   "metadata": {
    "id": "q5plsclR7tUW"
   },
   "outputs": [],
   "source": [
    "normalized_df=(df.values[:,:-1]-df.values[:,:-1].min())/(df.values[:,:-1].max()-df.values[:,:-1].min())"
   ]
  },
  {
   "cell_type": "code",
   "execution_count": 6,
   "metadata": {
    "colab": {
     "base_uri": "https://localhost:8080/"
    },
    "id": "BMHNARKC8KJR",
    "outputId": "bbe60b5e-fc61-4253-dfb8-75efb51dfe0a"
   },
   "outputs": [
    {
     "data": {
      "text/plain": [
       "(0.0, 1.0)"
      ]
     },
     "execution_count": 6,
     "metadata": {},
     "output_type": "execute_result"
    }
   ],
   "source": [
    "normalized_df.min(),normalized_df.max()"
   ]
  },
  {
   "cell_type": "code",
   "execution_count": 7,
   "metadata": {},
   "outputs": [],
   "source": [
    "def check_targets(original_set):\n",
    "    original_unique = np.unique(original_set)\n",
    "    print(\"Original Targets: \",original_unique,\"\\nDesired Targets: [-1,1]\")\n",
    "    print(\"Is original the desired [1,-1]? \", np.array_equiv(original_unique,np.array([-1,1])))\n",
    "    if not np.array_equiv(original_unique,np.array([-1,1])):\n",
    "        if 1 in original_unique:\n",
    "            print(\"1 exists in dataset\")\n",
    "            new = np.select([original_set == original_unique[0]],[-1],original_set)\n",
    "        elif -1 in original_unique:\n",
    "            print(\"-1 exists in dataset\")\n",
    "            new = np.select([original_set == original_unique[1]],[1],original_set)\n",
    "        else:\n",
    "            print(\"Neither exists in dataset\")\n",
    "            new = np.select([original_set == original_unique[0],original_set == original_unique[1]],[-1,1],original_set)\n",
    "        #indexes = original_set[np.where(original_set == unique_elems[0])]\n",
    "        print(\"New datasets consists of: \",np.unique(new))\n",
    "        return new"
   ]
  },
  {
   "cell_type": "code",
   "execution_count": 8,
   "metadata": {
    "tags": []
   },
   "outputs": [
    {
     "name": "stdout",
     "output_type": "stream",
     "text": [
      "Original Targets:  [0 1] \n",
      "Desired Targets: [-1,1]\n",
      "Is original the desired [1,-1]?  False\n",
      "1 exists in dataset\n",
      "New datasets consists of:  [-1  1]\n"
     ]
    }
   ],
   "source": [
    "targets = check_targets(df['Class'])"
   ]
  },
  {
   "cell_type": "markdown",
   "metadata": {
    "id": "IbakFrFRaCKb"
   },
   "source": [
    "## Data Separation and Training"
   ]
  },
  {
   "cell_type": "code",
   "execution_count": 9,
   "metadata": {
    "id": "qI2dGmVBh4Sq"
   },
   "outputs": [],
   "source": [
    "X_train, X_test, y_train, y_test = train_test_split(normalized_df, targets, test_size=0.3,random_state=107) # 70% training and 30% test"
   ]
  },
  {
   "cell_type": "code",
   "execution_count": 10,
   "metadata": {},
   "outputs": [],
   "source": [
    "def create_linear_classifier(kernel_type='linear'):\n",
    "    return svm.SVC(kernel=kernel_type)\n",
    "def create_poly_classifier(kernel_type='poly',my_degree=2,my_gamma=1/60):\n",
    "    return svm.SVC(kernel=kernel_type, degree = my_degree,gamma=my_gamma)"
   ]
  },
  {
   "cell_type": "code",
   "execution_count": 11,
   "metadata": {
    "colab": {
     "base_uri": "https://localhost:8080/"
    },
    "id": "dx90Sjfwh9cz",
    "outputId": "565c216c-c6e3-48bf-a20b-c64f577ab7f1"
   },
   "outputs": [
    {
     "name": "stdout",
     "output_type": "stream",
     "text": [
      "Accuracy Linear: 0.8253968253968254\n"
     ]
    }
   ],
   "source": [
    "clf = create_linear_classifier()\n",
    "#poly = create_poly_classifier('poly',2,1/(X_train.var() * len(X_train[0])))\n",
    "\n",
    "#Train the models using the training sets\n",
    "clf.fit(X_train, y_train)\n",
    "#poly.fit(X_train, y_train)\n",
    "\n",
    "#Predict the response for test dataset\n",
    "y_pred = clf.predict(X_test)\n",
    "#poly_y_pred = poly.predict(X_test)\n",
    "print(\"Accuracy Linear:\", metrics.accuracy_score(y_test, y_pred))\n",
    "#print(\"Accuracy Poly:\", metrics.accuracy_score(y_test, poly_y_pred))"
   ]
  },
  {
   "cell_type": "code",
   "execution_count": 12,
   "metadata": {
    "colab": {
     "base_uri": "https://localhost:8080/"
    },
    "id": "kjIMKtJWiPAl",
    "outputId": "d9db7a40-e7b2-46aa-e558-a11d647d5d6a"
   },
   "outputs": [
    {
     "name": "stdout",
     "output_type": "stream",
     "text": [
      "Accuracy on Training: 0.8275862068965517\n"
     ]
    }
   ],
   "source": [
    "y_pred_train = clf.predict(X_train)\n",
    "#poly_pred_train = poly.predict(X_train)\n",
    "print(\"Accuracy on Training:\", metrics.accuracy_score(y_train, y_pred_train))\n",
    "#print(\"Accuracy on Training:\", metrics.accuracy_score(y_train, poly_pred_train))"
   ]
  },
  {
   "cell_type": "markdown",
   "metadata": {
    "id": "c3lOiqOAaJpe"
   },
   "source": [
    "## SVM Decision Function For The First Element of Training Dataset"
   ]
  },
  {
   "cell_type": "code",
   "execution_count": 13,
   "metadata": {
    "colab": {
     "base_uri": "https://localhost:8080/"
    },
    "id": "igzG9IldBYWR",
    "outputId": "26b7faad-4c09-4561-c37d-bdba35c42e7c"
   },
   "outputs": [
    {
     "data": {
      "text/plain": [
       "-1.2509323443000402"
      ]
     },
     "execution_count": 13,
     "metadata": {},
     "output_type": "execute_result"
    }
   ],
   "source": [
    "#Sum (coef @ sup_vec @ X[index] + bias)\n",
    "((clf.dual_coef_ @ clf.support_vectors_) @ X_train[0].reshape(1, len(X_train[0])).T + clf.intercept_)[0][0]"
   ]
  },
  {
   "cell_type": "code",
   "execution_count": 14,
   "metadata": {},
   "outputs": [],
   "source": [
    "#(poly.dual_coef_ @ (((poly.support_vectors_ @ X_train[0].reshape(1, len(X_train[0])).T) * poly.gamma + poly.coef0) ** poly.degree) + poly.intercept_)[0][0]"
   ]
  },
  {
   "cell_type": "code",
   "execution_count": 15,
   "metadata": {},
   "outputs": [
    {
     "name": "stdout",
     "output_type": "stream",
     "text": [
      "DualCoef / Support Vectors / X_Train.T Reshaped / Intercept (bias)\n"
     ]
    },
    {
     "data": {
      "text/plain": [
       "((1, 94), (94, 60), (60, 1), (1,))"
      ]
     },
     "execution_count": 15,
     "metadata": {},
     "output_type": "execute_result"
    }
   ],
   "source": [
    "#Linear SVM Decision Function\n",
    "print(\"DualCoef / Support Vectors / X_Train.T Reshaped / Intercept (bias)\")\n",
    "clf.dual_coef_.shape, clf.support_vectors_.shape, X_train[0].reshape(1, len(X_train[0])).T.shape, clf.intercept_.shape"
   ]
  },
  {
   "cell_type": "code",
   "execution_count": 16,
   "metadata": {},
   "outputs": [],
   "source": [
    "#Polynomial SVM Decision Function\n",
    "#print(\"DualCoef / Support Vectors / X_Train.T Reshaped / Gamma / Coef0 / Degree / Intercept (bias)\")\n",
    "#poly.dual_coef_.shape, poly.support_vectors_.shape, X_train[0].reshape(1, len(X_train[0])).T.shape,poly.gamma, poly.coef0, poly.degree, poly.intercept_"
   ]
  },
  {
   "cell_type": "markdown",
   "metadata": {
    "id": "bZOA8ZXQZIH2",
    "tags": []
   },
   "source": [
    "# Defining Thresholds and Finding Rejecteds"
   ]
  },
  {
   "cell_type": "code",
   "execution_count": 17,
   "metadata": {},
   "outputs": [],
   "source": [
    "def limits(classifier,data):\n",
    "    dec_fun = classifier.decision_function(data)\n",
    "    lim_pos = dec_fun[np.argmax(dec_fun)]\n",
    "    lim_neg = dec_fun[np.argmin(dec_fun)]\n",
    "    return dec_fun, lim_pos, lim_neg"
   ]
  },
  {
   "cell_type": "code",
   "execution_count": 18,
   "metadata": {},
   "outputs": [],
   "source": [
    "def find_thresholds(decfun,t1,t2,wr,chosen_min='EWRR'):\n",
    "    solution = {'WR':0,'T1':0, 'T2':0,'E':0,'R':0,'EWRR':0}\n",
    "    index = None\n",
    "    n_elements = decfun.shape[0]\n",
    "    for i,wr_ in enumerate(wr):\n",
    "      for j in range(0,len(t1)):\n",
    "        #Get Number of Rejected\n",
    "        positive_indexes = np.where(decfun >= t1[j])\n",
    "        negative_indexes = np.where(decfun < t2[j])\n",
    "        rejected_indexes = np.where((decfun < t1[j]) & (decfun >= t2[j]))\n",
    "        R = rejected_indexes[0].shape[0]\n",
    "        #np.array(positive_indexes).shape,np.array(negative_indexes).shape, R\n",
    "\n",
    "        #Get Number of Misclassifications\n",
    "        class_p = y_train[positive_indexes]\n",
    "        class_n = y_train[negative_indexes]\n",
    "        error_p = np.where(class_p == np.unique(y_train)[0])[0].shape[0]\n",
    "        error_n = np.where(class_n == np.unique(y_train)[1])[0].shape[0]\n",
    "        E = (error_p + error_n)/(n_elements - R)\n",
    "        if chosen_min=='R':\n",
    "            if (i == 0 and i == j) or R < solution['R']:\n",
    "                solution['WR'] = wr_\n",
    "                solution['T1'] = t1[j]\n",
    "                solution['T2'] = t2[j]\n",
    "                solution['E'] = E\n",
    "                solution['R'] = R\n",
    "                solution['EWRR'] = E + wr_ * R\n",
    "        elif chosen_min=='E':\n",
    "            if (i == 0 and i == j) or E < solution['E']:\n",
    "                solution['WR'] = wr_\n",
    "                solution['T1'] = t1[j]\n",
    "                solution['T2'] = t2[j]\n",
    "                solution['E'] = E\n",
    "                solution['R'] = R\n",
    "                solution['EWRR'] = E + wr_ * R\n",
    "        elif chosen_min=='EWRR':\n",
    "            if (i == 0 and i == j) or (E + wr_ * R) < solution['EWRR']:\n",
    "                solution['WR'] = wr_\n",
    "                solution['T1'] = t1[j]\n",
    "                solution['T2'] = t2[j]\n",
    "                solution['E'] = E\n",
    "                solution['R'] = R\n",
    "                solution['EWRR'] = E + wr_ * R\n",
    "        else:\n",
    "            return 'Chosen option \"' +chosen_min+'\" is invalid'\n",
    "    print('Thresholds by min(',chosen_min,') from solution: ',solution)\n",
    "    return solution['T1'], solution['T2']      \n",
    "                "
   ]
  },
  {
   "cell_type": "code",
   "execution_count": 19,
   "metadata": {},
   "outputs": [],
   "source": [
    "def find_indexes(decfun,t1,t2):\n",
    "    positive_indexes = np.where(decfun >= t1)[0]\n",
    "    negative_indexes = np.where(decfun < t2)[0]\n",
    "    rejected_indexes = np.where((decfun < t1) & (decfun >= t2))[0]\n",
    "    R = rejected_indexes.shape[0]\n",
    "    return positive_indexes,negative_indexes,rejected_indexes"
   ]
  },
  {
   "cell_type": "code",
   "execution_count": 20,
   "metadata": {},
   "outputs": [],
   "source": [
    "def find_thresholds_and_indexes(classifier,data,wr = None):  \n",
    "    dec_fun,lim_pos,lim_neg = limits(classifier,data)\n",
    "    if wr == None:\n",
    "        wr = [0.04, 0.08, 0.12, 0.16, 0.2, 0.24, 0.28, 0.32, 0.36, 0.4, 0.44, 0.48]\n",
    "    t1 = []\n",
    "    t2 = []\n",
    "    for i in range (1,101):\n",
    "      t1.append(0.01*i*lim_pos)\n",
    "      t2.append(0.01*i*lim_neg)  \n",
    "    T1,T2 = find_thresholds(dec_fun,t1,t2,wr)\n",
    "    pos_idx,neg_idx,rej_idx = find_indexes(dec_fun,T1,T2)\n",
    "    return T1, T2, pos_idx, neg_idx, rej_idx"
   ]
  },
  {
   "cell_type": "markdown",
   "metadata": {
    "id": "YkcUd3eZ9wQx"
   },
   "source": [
    "# Implementing SVM function for Z3 Solver"
   ]
  },
  {
   "cell_type": "markdown",
   "metadata": {
    "id": "XvhIKaB3fSBv"
   },
   "source": [
    "## Z3 Decision Function Elements"
   ]
  },
  {
   "cell_type": "code",
   "execution_count": 21,
   "metadata": {
    "id": "8iDd2odTfUb-"
   },
   "outputs": [],
   "source": [
    "np.RealVal = np.vectorize(RealVal) \n",
    "np.RealVector = np.vectorize(RealVector) "
   ]
  },
  {
   "cell_type": "code",
   "execution_count": 22,
   "metadata": {},
   "outputs": [],
   "source": [
    "def to_z3_conversion(classifier,training_set):\n",
    "    z3_dual_coef = np.RealVal(classifier.dual_coef_)\n",
    "    z3_support_vectors = np.RealVal(classifier.support_vectors_)\n",
    "    z3_intercept_ = np.RealVal(classifier.intercept_)\n",
    "    z3_X_Train = np.RealVector('x',training_set.shape[1])\n",
    "    if classifier.kernel == 'poly':\n",
    "        z3_gamma = np.RealVal(classifier.gamma)\n",
    "        z3_coef0 = np.RealVal(classifier.coef0)\n",
    "        z3_degree = np.RealVal(classifier.degree)\n",
    "        return z3_dual_coef,z3_support_vectors,z3_intercept_,z3_X_Train, z3_gamma,z3_coef0,z3_degree\n",
    "    return z3_dual_coef,z3_support_vectors,z3_intercept_,z3_X_Train"
   ]
  },
  {
   "cell_type": "markdown",
   "metadata": {
    "id": "it9FGkScC0p_"
   },
   "source": [
    "# Z3 with Reject Option"
   ]
  },
  {
   "cell_type": "markdown",
   "metadata": {
    "id": "oF_vwBRveDln",
    "tags": []
   },
   "source": [
    "## Explaining the Classifier's Decision Function and Finding Relevant Features"
   ]
  },
  {
   "cell_type": "code",
   "execution_count": 23,
   "metadata": {},
   "outputs": [],
   "source": [
    "def z3_explanation(classifier,t1, t2, X, z3_coef, z3_sup_vec, z3_X, z3_intercept, reject_indexes, z3_gamma = None, z3_coef0 = None, z3_degree = None, show_values=False):\n",
    "    relevant = []\n",
    "    irrelevant = []\n",
    "    global_values = []\n",
    "    print(\"Number of Rejected: \", len(reject_indexes))\n",
    "    solver = Solver()\n",
    "    if classifier.kernel=='linear':\n",
    "        solver.add(Or(((z3_coef @ z3_sup_vec) @ z3_X.reshape(1, len(z3_X)).T + z3_intercept)[0][0] >= t1,\n",
    "                      ((z3_coef @ z3_sup_vec) @ z3_X.reshape(1, len(z3_X)).T + z3_intercept)[0][0] < t2))\n",
    "    elif classifier.kernel=='poly':\n",
    "        solver.add(Or(((z3_dual_coef @ (((z3_support_vectors @ z3_X.reshape(1, len(z3_X)).T) * z3_gamma + z3_coef0) ** z3_degree) + z3_intercept_)[0][0] >= t1),\n",
    "                      (z3_dual_coef @ (((z3_support_vectors @ z3_X.reshape(1, len(z3_X)).T) * z3_gamma + z3_coef0) ** z3_degree) + z3_intercept_)[0][0] < t2))\n",
    "    for j in range(0, len(z3_X)):\n",
    "        solver.add(z3_X[j] >= 0)\n",
    "        solver.add(z3_X[j] <= 1)\n",
    "    solver.push()\n",
    "    for i in range(0, len(reject_indexes)):\n",
    "        # Add Assertions for 0<= feature <= 1\n",
    "        index_list = list(range(len(z3_X)))\n",
    "        unsat_list = []\n",
    "        sat_list = []\n",
    "        values = []\n",
    "\n",
    "        # Select a feature and unfix it\n",
    "        for z in range(0, len(z3_X)):\n",
    "            for j in range(0, len(z3_X)):\n",
    "                if j != z and j in index_list:  # Choose one to check influence\n",
    "                    solver.add(z3_X[j] == X[reject_indexes[i]][j])\n",
    "\n",
    "            check = solver.check()\n",
    "            if check == sat:\n",
    "                model = solver.model()\n",
    "                value = model[z3_X[z]].numerator_as_long() / model[z3_X[z]].denominator_as_long()\n",
    "                sat_list.append(z)\n",
    "                values.append(value)\n",
    "                if show_values:\n",
    "                    print('i = ', i, z, check, X[reject_indexes[i]][z], value)\n",
    "            else:\n",
    "                unsat_list.append(z)\n",
    "                index_list.remove(z)\n",
    "                if show_values:\n",
    "                    print('i = ', i, z, check)\n",
    "            solver.pop()\n",
    "            solver.push()\n",
    "        print(\"Finished \", i)\n",
    "        relevant.append(sat_list)\n",
    "        irrelevant.append(unsat_list)\n",
    "        global_values.append(values)\n",
    "        # print(\"Relevant: \",sat_list, '\\nUnsat List: ',unsat_list,'\\n')     \n",
    "    for i in range(0, len(relevant)):\n",
    "        print('Rejected ', i, '\\nRelevant Features: ', relevant[i], '\\nValues: ', global_values[i], '\\nIrrelevant Features: ',\n",
    "              irrelevant[i], '\\n\\n')\n",
    "        if classifier.kernel=='poly':\n",
    "            print('é poly')\n",
    "            \n",
    "    return relevant, irrelevant"
   ]
  },
  {
   "cell_type": "markdown",
   "metadata": {},
   "source": [
    "### For Linear Classifier"
   ]
  },
  {
   "cell_type": "markdown",
   "metadata": {},
   "source": [
    "#### Get thresholds and the rejected for Linear"
   ]
  },
  {
   "cell_type": "code",
   "execution_count": 24,
   "metadata": {},
   "outputs": [
    {
     "name": "stdout",
     "output_type": "stream",
     "text": [
      "Thresholds by min( EWRR ) from solution:  {'WR': 0.04, 'T1': 0.026080601962760405, 'T2': -0.03922779997797931, 'E': 0.16666666666666666, 'R': 1, 'EWRR': 0.20666666666666667}\n"
     ]
    }
   ],
   "source": [
    "T1,T2, positive_indexes,negative_indexes,rejected_indexes = find_thresholds_and_indexes(clf,X_train)\n",
    "#T1,T2, positive_indexes.shape[0],negative_indexes.shape[0],rejected_indexes.shape[0]"
   ]
  },
  {
   "cell_type": "markdown",
   "metadata": {},
   "source": [
    "#### Get Z3's equivalent to linear classifier's decision function"
   ]
  },
  {
   "cell_type": "code",
   "execution_count": 25,
   "metadata": {},
   "outputs": [],
   "source": [
    "z3_dual_coef,z3_support_vectors,z3_intercept_,z3_X_Train = to_z3_conversion(clf,X_train)"
   ]
  },
  {
   "cell_type": "code",
   "execution_count": 26,
   "metadata": {
    "tags": []
   },
   "outputs": [
    {
     "name": "stdout",
     "output_type": "stream",
     "text": [
      "Number of Rejected:  1\n",
      "Finished  0\n",
      "Rejected  0 \n",
      "Relevant Features:  [0, 1, 2, 3, 4, 6, 7, 8, 9, 10, 11, 12, 13, 14, 15, 16, 17, 18, 19, 20, 21, 22, 23, 24, 25, 26, 27, 28, 29, 30, 31, 32, 33, 34, 35, 36, 37, 38, 39, 40, 41, 42, 43, 44, 45, 46, 47, 48, 49, 50, 51, 52, 53, 54, 55, 56, 57, 58, 59] \n",
      "Values:  [0.5586943432219275, 0.5454651423095731, 0.5393425096820303, 0.5233429188644934, 0.5330508093827611, 0.040283387628234454, 0.09269951994096177, 0.6824392588165331, 0.7261300902534877, 0.8463593328196659, 0.8924594586498165, 0.7184552957245144, 0.19987922151997548, 0.22179346931174437, 0.26205228884994436, 0.3514414028715128, 0.8718354957076825, 0.6048374687295497, 0.20289688509225007, 0.71482413642508, 0.7188045836545846, 0.18621499154851423, 0.7971772001715263, 0.6818084825947697, 0.07756486364775711, 0.8927431251182537, 0.8779403524119653, 0.04379544115249451, 0.3951649998564111, 0.5809532020182412, 0.8476989932362138, 0.4116233257234852, 0.25000752581950253, 0.3482646343351955, 0.46907925387835314, 0.5641811998701189, 0.2611935617797964, 0.22250289438492057, 0.3538070252146081, 0.8536661774131378, 0.10776546093447338, 0.5955326616949493, 0.8788392855990403, 0.6718633714343478, 0.530666718504287, 0.5225038416559764, 0.5077128311241276, 0.5162208305605065, 0.6866348665355855, 0.535703523150247, 0.5286730426601243, 0.6112153648786394, 0.5734125825645296, 0.5511522894670419, 0.5788566038999751, 0.5969494650987317, 0.5347964528459347, 0.5321632152080177, 0.5589207325680903] \n",
      "Irrelevant Features:  [5] \n",
      "\n",
      "\n"
     ]
    }
   ],
   "source": [
    "linear_relevant, linear_irrelevant = z3_explanation(clf,T1,T2,X_train,z3_dual_coef,z3_support_vectors,z3_X_Train,z3_intercept_,rejected_indexes, show_values=False)"
   ]
  },
  {
   "cell_type": "markdown",
   "metadata": {},
   "source": [
    "### For Polynomial Classifier (WIP)"
   ]
  },
  {
   "cell_type": "markdown",
   "metadata": {},
   "source": [
    "#### Get thresholds and the rejected for Poly"
   ]
  },
  {
   "cell_type": "code",
   "execution_count": 27,
   "metadata": {},
   "outputs": [],
   "source": [
    "#T1,T2, positive_indexes,negative_indexes,rejected_indexes = find_thresholds_and_indexes(poly,X_train)\n",
    "#T1,T2, positive_indexes.shape[0],negative_indexes.shape[0],rejected_indexes.shape[0]"
   ]
  },
  {
   "cell_type": "markdown",
   "metadata": {},
   "source": [
    "#### Get Z3's equivalent to Poly classifier's decision function"
   ]
  },
  {
   "cell_type": "code",
   "execution_count": 28,
   "metadata": {},
   "outputs": [],
   "source": [
    "#z3_dual_coef,z3_support_vectors,z3_intercept_,z3_X_Train,z3_gamma,z3_coef0,z3_degree = to_z3_conversion(poly,X_train)"
   ]
  },
  {
   "cell_type": "code",
   "execution_count": 29,
   "metadata": {
    "tags": []
   },
   "outputs": [],
   "source": [
    "#poly_relevant, poly_irrelevant = z3_explanation(poly,T1,T2,X_train,z3_dual_coef,z3_support_vectors,z3_X_Train,z3_intercept_,rejected_indexes[0:1], z3_gamma,z3_coef0,z3_degree, show_values=True)"
   ]
  },
  {
   "cell_type": "markdown",
   "metadata": {
    "id": "oF_vwBRveDln",
    "tags": []
   },
   "source": [
    "# Anchors"
   ]
  },
  {
   "cell_type": "markdown",
   "metadata": {
    "id": "oF_vwBRveDln",
    "tags": []
   },
   "source": [
    "## Setting Up"
   ]
  },
  {
   "cell_type": "code",
   "execution_count": 30,
   "metadata": {},
   "outputs": [],
   "source": [
    "from __future__ import print_function\n",
    "import sys\n",
    "import sklearn\n",
    "import sklearn.ensemble\n",
    "from anchor import utils\n",
    "from anchor import anchor_tabular"
   ]
  },
  {
   "cell_type": "raw",
   "metadata": {},
   "source": [
    "Generating Target Set with Reject Class == 0"
   ]
  },
  {
   "cell_type": "code",
   "execution_count": 31,
   "metadata": {},
   "outputs": [],
   "source": [
    "def generate_ro_target_set(target_set,rejected_indexes):\n",
    "    target_set[rejected_indexes] = 0\n",
    "    return target_set"
   ]
  },
  {
   "cell_type": "code",
   "execution_count": 32,
   "metadata": {
    "tags": []
   },
   "outputs": [
    {
     "name": "stdout",
     "output_type": "stream",
     "text": [
      "[-1  0  1]\n"
     ]
    }
   ],
   "source": [
    "ro_set = generate_ro_target_set(y_train,rejected_indexes)\n",
    "print(np.unique(ro_set))"
   ]
  },
  {
   "cell_type": "code",
   "execution_count": 33,
   "metadata": {},
   "outputs": [],
   "source": [
    "feature_list = []\n",
    "for i in range(0,len(X_train[0])):\n",
    "    feature_list.append(str(i))\n",
    "feature_list = np.array(feature_list)"
   ]
  },
  {
   "cell_type": "code",
   "execution_count": 34,
   "metadata": {
    "tags": []
   },
   "outputs": [],
   "source": [
    "explainer = anchor_tabular.AnchorTabularExplainer(\n",
    "    [-1,0,1],\n",
    "    feature_list,\n",
    "    X_train)"
   ]
  },
  {
   "cell_type": "code",
   "execution_count": 35,
   "metadata": {},
   "outputs": [
    {
     "name": "stdout",
     "output_type": "stream",
     "text": [
      "-0.03253720833494267\n"
     ]
    }
   ],
   "source": [
    "def svm_decfun(data,classifier=clf):\n",
    "    data = np.atleast_2d(data)\n",
    "    return ((classifier.dual_coef_ @ classifier.support_vectors_) @ data.T + classifier.intercept_)[0][0]\n",
    "print(svm_decfun(X_train[rejected_indexes[0]]))"
   ]
  },
  {
   "cell_type": "code",
   "execution_count": 36,
   "metadata": {},
   "outputs": [
    {
     "name": "stdout",
     "output_type": "stream",
     "text": [
      "[1]\n"
     ]
    }
   ],
   "source": [
    "def svm_decfun_class(data,classifier=clf,Threshold_1=T1,Threshold_2=T2):\n",
    "    if svm_decfun(data) >= Threshold_1:\n",
    "        return np.array([2]) #class 1, since [-1, 0, 1]\n",
    "    elif svm_decfun(data) < Threshold_2:\n",
    "        return np.array([0]) #class -1\n",
    "    else:\n",
    "        return np.array([1]) #class 0\n",
    "    \n",
    "print(svm_decfun_class(X_train[rejected_indexes[0]]))"
   ]
  },
  {
   "cell_type": "markdown",
   "metadata": {
    "id": "oF_vwBRveDln",
    "tags": []
   },
   "source": [
    "## Explanation for 1 Instance"
   ]
  },
  {
   "cell_type": "markdown",
   "metadata": {
    "tags": []
   },
   "source": [
    "### Anchors Explanation"
   ]
  },
  {
   "cell_type": "code",
   "execution_count": null,
   "metadata": {
    "tags": []
   },
   "outputs": [],
   "source": [
    "idx = rejected_indexes[0]\n",
    "np.random.seed(1)\n",
    "print('Prediction: ', explainer.class_names[svm_decfun_class(X_train[idx])[0]])\n",
    "exp = explainer.explain_instance(X_train[idx], svm_decfun_class, threshold=1)"
   ]
  },
  {
   "cell_type": "code",
   "execution_count": null,
   "metadata": {},
   "outputs": [],
   "source": [
    "print('Anchor: %s' % (' AND '.join(exp.names())))\n",
    "print('Precision: %.2f' % exp.precision())\n",
    "print('Coverage: %.2f' % exp.coverage())"
   ]
  },
  {
   "cell_type": "code",
   "execution_count": null,
   "metadata": {
    "tags": []
   },
   "outputs": [],
   "source": [
    "exp.show_in_notebook()"
   ]
  },
  {
   "cell_type": "markdown",
   "metadata": {
    "id": "oF_vwBRveDln",
    "tags": []
   },
   "source": [
    "### Anchors Explanation on Z3 - WIP"
   ]
  },
  {
   "cell_type": "code",
   "execution_count": null,
   "metadata": {},
   "outputs": [],
   "source": [
    "def anchors_to_z3_explanation(explainer, X, t1, t2, z3_coef, z3_sup_vec, z3_X, z3_intercept, indexes,\n",
    "                              z3_gamma=None, z3_coef0=None, z3_degree=None):\n",
    "    print('Started')\n",
    "    np.random.seed(1)\n",
    "    solver = Solver()\n",
    "    solver.add(Or(((z3_coef @ z3_sup_vec) @ z3_X.reshape(1, len(z3_X)).T + z3_intercept)[0][0] >= t1,\n",
    "                  ((z3_coef @ z3_sup_vec) @ z3_X.reshape(1, len(z3_X)).T + z3_intercept)[0][0] < t2))\n",
    "    for j in range(0, len(z3_X)):\n",
    "        solver.add(z3_X[j] >= 0)\n",
    "        solver.add(z3_X[j] <= 1)\n",
    "    solver.push()\n",
    "    for idx in indexes:\n",
    "        print('Prediction: ', explainer.class_names[svm_decfun_class(X[idx])[0]])\n",
    "        exp = explainer.explain_instance(X[idx], svm_decfun_class, threshold=1)\n",
    "        restrictions = [name.split(' ') for name in exp.names()]\n",
    "        print(exp.names())\n",
    "        print('\\n--------------\\nIndex = ', idx)\n",
    "        for restriction in restrictions:\n",
    "            if '<' in restriction and '<=' not in restriction:\n",
    "                #print(len(restriction),'Only <',restriction)\n",
    "                if len(restriction) == 3:\n",
    "                    index = int(restriction[0])\n",
    "                    value = float(restriction[-1])\n",
    "                    solver.add(z3_X[index] < value)\n",
    "                    print(\"Added restriction: \", z3_X[index], \" < \", value)\n",
    "\n",
    "            elif '<' in restriction and '<=' in restriction:\n",
    "                #print(len(restriction),'< and <=',restriction)\n",
    "                index = int(restriction[2])\n",
    "                value = [float(restriction[0]), float(restriction[-1])]\n",
    "                solver.add(value[0] < z3_X[index])\n",
    "                solver.add(z3_X[index] <= value[-1])\n",
    "                print(\"Added restriction: \", value[0], \" < \", z3_X[index], \" <= \", value[-1])\n",
    "            elif '<=' in restriction and len(restriction) == 3:\n",
    "                #print(len(restriction),'Only <=',restriction)\n",
    "                index = int(restriction[0])\n",
    "                value = float(restriction[-1])\n",
    "                solver.add(z3_X[index] < value)\n",
    "                print(\"Added restriction: \", z3_X[index], \" <= \", value)\n",
    "\n",
    "            elif '>' in restriction and '>=' not in restriction:\n",
    "                #print(len(restriction),'Only >',restriction)\n",
    "                if len(restriction) == 3:\n",
    "                    index = int(restriction[0])\n",
    "                    value = float(restriction[-1])\n",
    "                    solver.add(z3_X[index] > value)\n",
    "                    print(\"Added restriction: \", z3_X[index], \" > \", value)\n",
    "            elif '>' in restriction and '>=' in restriction:\n",
    "                #print(len(restriction),'> AND >=',restriction)\n",
    "                index = int(restriction[2])\n",
    "                value = [float(restriction[0]), float(restriction[-1])]\n",
    "                solver.add(value[0] >= z3_X[index])\n",
    "                solver.add(z3_X[index] > value[-1])\n",
    "                print(\"Added restriction: \", value[0], \" >= \", z3_X[index], \" > \", value[-1])\n",
    "            elif '>=' in restriction and len(restriction) == 3:\n",
    "                #print(len(restriction),'Only >=',restriction)\n",
    "                index = int(restriction[0])\n",
    "                value = float(restriction[-1])\n",
    "                solver.add(z3_X[index] > value)\n",
    "                print(\"Added restriction: \", z3_X[index], \" >= \", value)\n",
    "\n",
    "            else:\n",
    "                print(\"Unknown Restriction\", restriction, '\\n')\n",
    "        print(solver.check(), ' for ', idx,'\\n')\n",
    "        if solver.check() == sat:\n",
    "            model = solver.model()\n",
    "            print(model)\n",
    "        print('\\n---------------\\n')\n",
    "        solver.pop()\n",
    "        solver.push()"
   ]
  },
  {
   "cell_type": "code",
   "execution_count": null,
   "metadata": {},
   "outputs": [],
   "source": [
    "anchors_to_z3_explanation(explainer, X_train, T1, T2, z3_dual_coef, z3_support_vectors, z3_X_Train, z3_intercept_,rejected_indexes)"
   ]
  },
  {
   "cell_type": "markdown",
   "metadata": {},
   "source": [
    "## Explanation for Multiple Instances - WIP"
   ]
  }
 ],
 "metadata": {
  "colab": {
   "name": "Cópia de Slimmer Z3 SVM Solver.ipynb",
   "provenance": [],
   "toc_visible": true
  },
  "kernelspec": {
   "display_name": "Python 3 (ipykernel)",
   "language": "python",
   "name": "python3"
  },
  "language_info": {
   "codemirror_mode": {
    "name": "ipython",
    "version": 3
   },
   "file_extension": ".py",
   "mimetype": "text/x-python",
   "name": "python",
   "nbconvert_exporter": "python",
   "pygments_lexer": "ipython3",
   "version": "3.9.7"
  }
 },
 "nbformat": 4,
 "nbformat_minor": 4
}
