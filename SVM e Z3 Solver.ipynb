{
  "nbformat": 4,
  "nbformat_minor": 0,
  "metadata": {
    "colab": {
      "name": "Cópia de SVM sklearn and Z3.ipynb",
      "provenance": []
    },
    "kernelspec": {
      "name": "python3",
      "display_name": "Python 3"
    },
    "language_info": {
      "name": "python"
    }
  },
  "cells": [
    {
      "cell_type": "code",
      "execution_count": 1,
      "metadata": {
        "id": "A1i4HEgVhKCN"
      },
      "outputs": [],
      "source": [
        "from sklearn import datasets\n",
        "cancer = datasets.load_breast_cancer()"
      ]
    },
    {
      "cell_type": "code",
      "source": [
        "import numpy as np"
      ],
      "metadata": {
        "id": "mZU8YDf6At-j"
      },
      "execution_count": 2,
      "outputs": []
    },
    {
      "cell_type": "code",
      "source": [
        "import pandas as pd"
      ],
      "metadata": {
        "id": "UEUOzYLdw5ai"
      },
      "execution_count": 3,
      "outputs": []
    },
    {
      "cell_type": "code",
      "source": [
        "cancer.data.shape"
      ],
      "metadata": {
        "colab": {
          "base_uri": "https://localhost:8080/"
        },
        "id": "Jrs5MGkWinko",
        "outputId": "bd4940e2-2db4-4c25-dca0-20e43940e9fe"
      },
      "execution_count": 4,
      "outputs": [
        {
          "output_type": "execute_result",
          "data": {
            "text/plain": [
              "(569, 30)"
            ]
          },
          "metadata": {},
          "execution_count": 4
        }
      ]
    },
    {
      "cell_type": "code",
      "source": [
        "type(cancer)"
      ],
      "metadata": {
        "colab": {
          "base_uri": "https://localhost:8080/"
        },
        "id": "zjhDunAd3pUI",
        "outputId": "8fac5617-a0f4-49f0-b067-7c7e8a6cecb4"
      },
      "execution_count": 5,
      "outputs": [
        {
          "output_type": "execute_result",
          "data": {
            "text/plain": [
              "sklearn.utils.Bunch"
            ]
          },
          "metadata": {},
          "execution_count": 5
        }
      ]
    },
    {
      "cell_type": "code",
      "source": [
        "df = pd.DataFrame(cancer.data, columns = cancer.feature_names)\n",
        "df"
      ],
      "metadata": {
        "colab": {
          "base_uri": "https://localhost:8080/",
          "height": 523
        },
        "id": "XeFOu9Y-wxgW",
        "outputId": "04a55033-5ede-4864-9437-2d97f698f33c"
      },
      "execution_count": 6,
      "outputs": [
        {
          "output_type": "execute_result",
          "data": {
            "text/plain": [
              "     mean radius  mean texture  mean perimeter  mean area  mean smoothness  \\\n",
              "0          17.99         10.38          122.80     1001.0          0.11840   \n",
              "1          20.57         17.77          132.90     1326.0          0.08474   \n",
              "2          19.69         21.25          130.00     1203.0          0.10960   \n",
              "3          11.42         20.38           77.58      386.1          0.14250   \n",
              "4          20.29         14.34          135.10     1297.0          0.10030   \n",
              "..           ...           ...             ...        ...              ...   \n",
              "564        21.56         22.39          142.00     1479.0          0.11100   \n",
              "565        20.13         28.25          131.20     1261.0          0.09780   \n",
              "566        16.60         28.08          108.30      858.1          0.08455   \n",
              "567        20.60         29.33          140.10     1265.0          0.11780   \n",
              "568         7.76         24.54           47.92      181.0          0.05263   \n",
              "\n",
              "     mean compactness  mean concavity  mean concave points  mean symmetry  \\\n",
              "0             0.27760         0.30010              0.14710         0.2419   \n",
              "1             0.07864         0.08690              0.07017         0.1812   \n",
              "2             0.15990         0.19740              0.12790         0.2069   \n",
              "3             0.28390         0.24140              0.10520         0.2597   \n",
              "4             0.13280         0.19800              0.10430         0.1809   \n",
              "..                ...             ...                  ...            ...   \n",
              "564           0.11590         0.24390              0.13890         0.1726   \n",
              "565           0.10340         0.14400              0.09791         0.1752   \n",
              "566           0.10230         0.09251              0.05302         0.1590   \n",
              "567           0.27700         0.35140              0.15200         0.2397   \n",
              "568           0.04362         0.00000              0.00000         0.1587   \n",
              "\n",
              "     mean fractal dimension  ...  worst radius  worst texture  \\\n",
              "0                   0.07871  ...        25.380          17.33   \n",
              "1                   0.05667  ...        24.990          23.41   \n",
              "2                   0.05999  ...        23.570          25.53   \n",
              "3                   0.09744  ...        14.910          26.50   \n",
              "4                   0.05883  ...        22.540          16.67   \n",
              "..                      ...  ...           ...            ...   \n",
              "564                 0.05623  ...        25.450          26.40   \n",
              "565                 0.05533  ...        23.690          38.25   \n",
              "566                 0.05648  ...        18.980          34.12   \n",
              "567                 0.07016  ...        25.740          39.42   \n",
              "568                 0.05884  ...         9.456          30.37   \n",
              "\n",
              "     worst perimeter  worst area  worst smoothness  worst compactness  \\\n",
              "0             184.60      2019.0           0.16220            0.66560   \n",
              "1             158.80      1956.0           0.12380            0.18660   \n",
              "2             152.50      1709.0           0.14440            0.42450   \n",
              "3              98.87       567.7           0.20980            0.86630   \n",
              "4             152.20      1575.0           0.13740            0.20500   \n",
              "..               ...         ...               ...                ...   \n",
              "564           166.10      2027.0           0.14100            0.21130   \n",
              "565           155.00      1731.0           0.11660            0.19220   \n",
              "566           126.70      1124.0           0.11390            0.30940   \n",
              "567           184.60      1821.0           0.16500            0.86810   \n",
              "568            59.16       268.6           0.08996            0.06444   \n",
              "\n",
              "     worst concavity  worst concave points  worst symmetry  \\\n",
              "0             0.7119                0.2654          0.4601   \n",
              "1             0.2416                0.1860          0.2750   \n",
              "2             0.4504                0.2430          0.3613   \n",
              "3             0.6869                0.2575          0.6638   \n",
              "4             0.4000                0.1625          0.2364   \n",
              "..               ...                   ...             ...   \n",
              "564           0.4107                0.2216          0.2060   \n",
              "565           0.3215                0.1628          0.2572   \n",
              "566           0.3403                0.1418          0.2218   \n",
              "567           0.9387                0.2650          0.4087   \n",
              "568           0.0000                0.0000          0.2871   \n",
              "\n",
              "     worst fractal dimension  \n",
              "0                    0.11890  \n",
              "1                    0.08902  \n",
              "2                    0.08758  \n",
              "3                    0.17300  \n",
              "4                    0.07678  \n",
              "..                       ...  \n",
              "564                  0.07115  \n",
              "565                  0.06637  \n",
              "566                  0.07820  \n",
              "567                  0.12400  \n",
              "568                  0.07039  \n",
              "\n",
              "[569 rows x 30 columns]"
            ],
            "text/html": [
              "\n",
              "  <div id=\"df-0291ca94-bf9e-4d89-b84c-3d4bb1742c7e\">\n",
              "    <div class=\"colab-df-container\">\n",
              "      <div>\n",
              "<style scoped>\n",
              "    .dataframe tbody tr th:only-of-type {\n",
              "        vertical-align: middle;\n",
              "    }\n",
              "\n",
              "    .dataframe tbody tr th {\n",
              "        vertical-align: top;\n",
              "    }\n",
              "\n",
              "    .dataframe thead th {\n",
              "        text-align: right;\n",
              "    }\n",
              "</style>\n",
              "<table border=\"1\" class=\"dataframe\">\n",
              "  <thead>\n",
              "    <tr style=\"text-align: right;\">\n",
              "      <th></th>\n",
              "      <th>mean radius</th>\n",
              "      <th>mean texture</th>\n",
              "      <th>mean perimeter</th>\n",
              "      <th>mean area</th>\n",
              "      <th>mean smoothness</th>\n",
              "      <th>mean compactness</th>\n",
              "      <th>mean concavity</th>\n",
              "      <th>mean concave points</th>\n",
              "      <th>mean symmetry</th>\n",
              "      <th>mean fractal dimension</th>\n",
              "      <th>...</th>\n",
              "      <th>worst radius</th>\n",
              "      <th>worst texture</th>\n",
              "      <th>worst perimeter</th>\n",
              "      <th>worst area</th>\n",
              "      <th>worst smoothness</th>\n",
              "      <th>worst compactness</th>\n",
              "      <th>worst concavity</th>\n",
              "      <th>worst concave points</th>\n",
              "      <th>worst symmetry</th>\n",
              "      <th>worst fractal dimension</th>\n",
              "    </tr>\n",
              "  </thead>\n",
              "  <tbody>\n",
              "    <tr>\n",
              "      <th>0</th>\n",
              "      <td>17.99</td>\n",
              "      <td>10.38</td>\n",
              "      <td>122.80</td>\n",
              "      <td>1001.0</td>\n",
              "      <td>0.11840</td>\n",
              "      <td>0.27760</td>\n",
              "      <td>0.30010</td>\n",
              "      <td>0.14710</td>\n",
              "      <td>0.2419</td>\n",
              "      <td>0.07871</td>\n",
              "      <td>...</td>\n",
              "      <td>25.380</td>\n",
              "      <td>17.33</td>\n",
              "      <td>184.60</td>\n",
              "      <td>2019.0</td>\n",
              "      <td>0.16220</td>\n",
              "      <td>0.66560</td>\n",
              "      <td>0.7119</td>\n",
              "      <td>0.2654</td>\n",
              "      <td>0.4601</td>\n",
              "      <td>0.11890</td>\n",
              "    </tr>\n",
              "    <tr>\n",
              "      <th>1</th>\n",
              "      <td>20.57</td>\n",
              "      <td>17.77</td>\n",
              "      <td>132.90</td>\n",
              "      <td>1326.0</td>\n",
              "      <td>0.08474</td>\n",
              "      <td>0.07864</td>\n",
              "      <td>0.08690</td>\n",
              "      <td>0.07017</td>\n",
              "      <td>0.1812</td>\n",
              "      <td>0.05667</td>\n",
              "      <td>...</td>\n",
              "      <td>24.990</td>\n",
              "      <td>23.41</td>\n",
              "      <td>158.80</td>\n",
              "      <td>1956.0</td>\n",
              "      <td>0.12380</td>\n",
              "      <td>0.18660</td>\n",
              "      <td>0.2416</td>\n",
              "      <td>0.1860</td>\n",
              "      <td>0.2750</td>\n",
              "      <td>0.08902</td>\n",
              "    </tr>\n",
              "    <tr>\n",
              "      <th>2</th>\n",
              "      <td>19.69</td>\n",
              "      <td>21.25</td>\n",
              "      <td>130.00</td>\n",
              "      <td>1203.0</td>\n",
              "      <td>0.10960</td>\n",
              "      <td>0.15990</td>\n",
              "      <td>0.19740</td>\n",
              "      <td>0.12790</td>\n",
              "      <td>0.2069</td>\n",
              "      <td>0.05999</td>\n",
              "      <td>...</td>\n",
              "      <td>23.570</td>\n",
              "      <td>25.53</td>\n",
              "      <td>152.50</td>\n",
              "      <td>1709.0</td>\n",
              "      <td>0.14440</td>\n",
              "      <td>0.42450</td>\n",
              "      <td>0.4504</td>\n",
              "      <td>0.2430</td>\n",
              "      <td>0.3613</td>\n",
              "      <td>0.08758</td>\n",
              "    </tr>\n",
              "    <tr>\n",
              "      <th>3</th>\n",
              "      <td>11.42</td>\n",
              "      <td>20.38</td>\n",
              "      <td>77.58</td>\n",
              "      <td>386.1</td>\n",
              "      <td>0.14250</td>\n",
              "      <td>0.28390</td>\n",
              "      <td>0.24140</td>\n",
              "      <td>0.10520</td>\n",
              "      <td>0.2597</td>\n",
              "      <td>0.09744</td>\n",
              "      <td>...</td>\n",
              "      <td>14.910</td>\n",
              "      <td>26.50</td>\n",
              "      <td>98.87</td>\n",
              "      <td>567.7</td>\n",
              "      <td>0.20980</td>\n",
              "      <td>0.86630</td>\n",
              "      <td>0.6869</td>\n",
              "      <td>0.2575</td>\n",
              "      <td>0.6638</td>\n",
              "      <td>0.17300</td>\n",
              "    </tr>\n",
              "    <tr>\n",
              "      <th>4</th>\n",
              "      <td>20.29</td>\n",
              "      <td>14.34</td>\n",
              "      <td>135.10</td>\n",
              "      <td>1297.0</td>\n",
              "      <td>0.10030</td>\n",
              "      <td>0.13280</td>\n",
              "      <td>0.19800</td>\n",
              "      <td>0.10430</td>\n",
              "      <td>0.1809</td>\n",
              "      <td>0.05883</td>\n",
              "      <td>...</td>\n",
              "      <td>22.540</td>\n",
              "      <td>16.67</td>\n",
              "      <td>152.20</td>\n",
              "      <td>1575.0</td>\n",
              "      <td>0.13740</td>\n",
              "      <td>0.20500</td>\n",
              "      <td>0.4000</td>\n",
              "      <td>0.1625</td>\n",
              "      <td>0.2364</td>\n",
              "      <td>0.07678</td>\n",
              "    </tr>\n",
              "    <tr>\n",
              "      <th>...</th>\n",
              "      <td>...</td>\n",
              "      <td>...</td>\n",
              "      <td>...</td>\n",
              "      <td>...</td>\n",
              "      <td>...</td>\n",
              "      <td>...</td>\n",
              "      <td>...</td>\n",
              "      <td>...</td>\n",
              "      <td>...</td>\n",
              "      <td>...</td>\n",
              "      <td>...</td>\n",
              "      <td>...</td>\n",
              "      <td>...</td>\n",
              "      <td>...</td>\n",
              "      <td>...</td>\n",
              "      <td>...</td>\n",
              "      <td>...</td>\n",
              "      <td>...</td>\n",
              "      <td>...</td>\n",
              "      <td>...</td>\n",
              "      <td>...</td>\n",
              "    </tr>\n",
              "    <tr>\n",
              "      <th>564</th>\n",
              "      <td>21.56</td>\n",
              "      <td>22.39</td>\n",
              "      <td>142.00</td>\n",
              "      <td>1479.0</td>\n",
              "      <td>0.11100</td>\n",
              "      <td>0.11590</td>\n",
              "      <td>0.24390</td>\n",
              "      <td>0.13890</td>\n",
              "      <td>0.1726</td>\n",
              "      <td>0.05623</td>\n",
              "      <td>...</td>\n",
              "      <td>25.450</td>\n",
              "      <td>26.40</td>\n",
              "      <td>166.10</td>\n",
              "      <td>2027.0</td>\n",
              "      <td>0.14100</td>\n",
              "      <td>0.21130</td>\n",
              "      <td>0.4107</td>\n",
              "      <td>0.2216</td>\n",
              "      <td>0.2060</td>\n",
              "      <td>0.07115</td>\n",
              "    </tr>\n",
              "    <tr>\n",
              "      <th>565</th>\n",
              "      <td>20.13</td>\n",
              "      <td>28.25</td>\n",
              "      <td>131.20</td>\n",
              "      <td>1261.0</td>\n",
              "      <td>0.09780</td>\n",
              "      <td>0.10340</td>\n",
              "      <td>0.14400</td>\n",
              "      <td>0.09791</td>\n",
              "      <td>0.1752</td>\n",
              "      <td>0.05533</td>\n",
              "      <td>...</td>\n",
              "      <td>23.690</td>\n",
              "      <td>38.25</td>\n",
              "      <td>155.00</td>\n",
              "      <td>1731.0</td>\n",
              "      <td>0.11660</td>\n",
              "      <td>0.19220</td>\n",
              "      <td>0.3215</td>\n",
              "      <td>0.1628</td>\n",
              "      <td>0.2572</td>\n",
              "      <td>0.06637</td>\n",
              "    </tr>\n",
              "    <tr>\n",
              "      <th>566</th>\n",
              "      <td>16.60</td>\n",
              "      <td>28.08</td>\n",
              "      <td>108.30</td>\n",
              "      <td>858.1</td>\n",
              "      <td>0.08455</td>\n",
              "      <td>0.10230</td>\n",
              "      <td>0.09251</td>\n",
              "      <td>0.05302</td>\n",
              "      <td>0.1590</td>\n",
              "      <td>0.05648</td>\n",
              "      <td>...</td>\n",
              "      <td>18.980</td>\n",
              "      <td>34.12</td>\n",
              "      <td>126.70</td>\n",
              "      <td>1124.0</td>\n",
              "      <td>0.11390</td>\n",
              "      <td>0.30940</td>\n",
              "      <td>0.3403</td>\n",
              "      <td>0.1418</td>\n",
              "      <td>0.2218</td>\n",
              "      <td>0.07820</td>\n",
              "    </tr>\n",
              "    <tr>\n",
              "      <th>567</th>\n",
              "      <td>20.60</td>\n",
              "      <td>29.33</td>\n",
              "      <td>140.10</td>\n",
              "      <td>1265.0</td>\n",
              "      <td>0.11780</td>\n",
              "      <td>0.27700</td>\n",
              "      <td>0.35140</td>\n",
              "      <td>0.15200</td>\n",
              "      <td>0.2397</td>\n",
              "      <td>0.07016</td>\n",
              "      <td>...</td>\n",
              "      <td>25.740</td>\n",
              "      <td>39.42</td>\n",
              "      <td>184.60</td>\n",
              "      <td>1821.0</td>\n",
              "      <td>0.16500</td>\n",
              "      <td>0.86810</td>\n",
              "      <td>0.9387</td>\n",
              "      <td>0.2650</td>\n",
              "      <td>0.4087</td>\n",
              "      <td>0.12400</td>\n",
              "    </tr>\n",
              "    <tr>\n",
              "      <th>568</th>\n",
              "      <td>7.76</td>\n",
              "      <td>24.54</td>\n",
              "      <td>47.92</td>\n",
              "      <td>181.0</td>\n",
              "      <td>0.05263</td>\n",
              "      <td>0.04362</td>\n",
              "      <td>0.00000</td>\n",
              "      <td>0.00000</td>\n",
              "      <td>0.1587</td>\n",
              "      <td>0.05884</td>\n",
              "      <td>...</td>\n",
              "      <td>9.456</td>\n",
              "      <td>30.37</td>\n",
              "      <td>59.16</td>\n",
              "      <td>268.6</td>\n",
              "      <td>0.08996</td>\n",
              "      <td>0.06444</td>\n",
              "      <td>0.0000</td>\n",
              "      <td>0.0000</td>\n",
              "      <td>0.2871</td>\n",
              "      <td>0.07039</td>\n",
              "    </tr>\n",
              "  </tbody>\n",
              "</table>\n",
              "<p>569 rows × 30 columns</p>\n",
              "</div>\n",
              "      <button class=\"colab-df-convert\" onclick=\"convertToInteractive('df-0291ca94-bf9e-4d89-b84c-3d4bb1742c7e')\"\n",
              "              title=\"Convert this dataframe to an interactive table.\"\n",
              "              style=\"display:none;\">\n",
              "        \n",
              "  <svg xmlns=\"http://www.w3.org/2000/svg\" height=\"24px\"viewBox=\"0 0 24 24\"\n",
              "       width=\"24px\">\n",
              "    <path d=\"M0 0h24v24H0V0z\" fill=\"none\"/>\n",
              "    <path d=\"M18.56 5.44l.94 2.06.94-2.06 2.06-.94-2.06-.94-.94-2.06-.94 2.06-2.06.94zm-11 1L8.5 8.5l.94-2.06 2.06-.94-2.06-.94L8.5 2.5l-.94 2.06-2.06.94zm10 10l.94 2.06.94-2.06 2.06-.94-2.06-.94-.94-2.06-.94 2.06-2.06.94z\"/><path d=\"M17.41 7.96l-1.37-1.37c-.4-.4-.92-.59-1.43-.59-.52 0-1.04.2-1.43.59L10.3 9.45l-7.72 7.72c-.78.78-.78 2.05 0 2.83L4 21.41c.39.39.9.59 1.41.59.51 0 1.02-.2 1.41-.59l7.78-7.78 2.81-2.81c.8-.78.8-2.07 0-2.86zM5.41 20L4 18.59l7.72-7.72 1.47 1.35L5.41 20z\"/>\n",
              "  </svg>\n",
              "      </button>\n",
              "      \n",
              "  <style>\n",
              "    .colab-df-container {\n",
              "      display:flex;\n",
              "      flex-wrap:wrap;\n",
              "      gap: 12px;\n",
              "    }\n",
              "\n",
              "    .colab-df-convert {\n",
              "      background-color: #E8F0FE;\n",
              "      border: none;\n",
              "      border-radius: 50%;\n",
              "      cursor: pointer;\n",
              "      display: none;\n",
              "      fill: #1967D2;\n",
              "      height: 32px;\n",
              "      padding: 0 0 0 0;\n",
              "      width: 32px;\n",
              "    }\n",
              "\n",
              "    .colab-df-convert:hover {\n",
              "      background-color: #E2EBFA;\n",
              "      box-shadow: 0px 1px 2px rgba(60, 64, 67, 0.3), 0px 1px 3px 1px rgba(60, 64, 67, 0.15);\n",
              "      fill: #174EA6;\n",
              "    }\n",
              "\n",
              "    [theme=dark] .colab-df-convert {\n",
              "      background-color: #3B4455;\n",
              "      fill: #D2E3FC;\n",
              "    }\n",
              "\n",
              "    [theme=dark] .colab-df-convert:hover {\n",
              "      background-color: #434B5C;\n",
              "      box-shadow: 0px 1px 3px 1px rgba(0, 0, 0, 0.15);\n",
              "      filter: drop-shadow(0px 1px 2px rgba(0, 0, 0, 0.3));\n",
              "      fill: #FFFFFF;\n",
              "    }\n",
              "  </style>\n",
              "\n",
              "      <script>\n",
              "        const buttonEl =\n",
              "          document.querySelector('#df-0291ca94-bf9e-4d89-b84c-3d4bb1742c7e button.colab-df-convert');\n",
              "        buttonEl.style.display =\n",
              "          google.colab.kernel.accessAllowed ? 'block' : 'none';\n",
              "\n",
              "        async function convertToInteractive(key) {\n",
              "          const element = document.querySelector('#df-0291ca94-bf9e-4d89-b84c-3d4bb1742c7e');\n",
              "          const dataTable =\n",
              "            await google.colab.kernel.invokeFunction('convertToInteractive',\n",
              "                                                     [key], {});\n",
              "          if (!dataTable) return;\n",
              "\n",
              "          const docLinkHtml = 'Like what you see? Visit the ' +\n",
              "            '<a target=\"_blank\" href=https://colab.research.google.com/notebooks/data_table.ipynb>data table notebook</a>'\n",
              "            + ' to learn more about interactive tables.';\n",
              "          element.innerHTML = '';\n",
              "          dataTable['output_type'] = 'display_data';\n",
              "          await google.colab.output.renderOutput(dataTable, element);\n",
              "          const docLink = document.createElement('div');\n",
              "          docLink.innerHTML = docLinkHtml;\n",
              "          element.appendChild(docLink);\n",
              "        }\n",
              "      </script>\n",
              "    </div>\n",
              "  </div>\n",
              "  "
            ]
          },
          "metadata": {},
          "execution_count": 6
        }
      ]
    },
    {
      "cell_type": "code",
      "source": [
        "from sklearn.model_selection import train_test_split"
      ],
      "metadata": {
        "id": "zQHdPlZfh0MS"
      },
      "execution_count": 7,
      "outputs": []
    },
    {
      "cell_type": "code",
      "source": [
        "X_train, X_test, y_train, y_test = train_test_split(cancer.data, cancer.target, test_size=0.3,random_state=0) # 70% training and 30% test"
      ],
      "metadata": {
        "id": "qI2dGmVBh4Sq"
      },
      "execution_count": 8,
      "outputs": []
    },
    {
      "cell_type": "code",
      "source": [
        "# The variance is computed for the flattened array by default, otherwise over the specified axis.\n",
        "X_train.var()"
      ],
      "metadata": {
        "colab": {
          "base_uri": "https://localhost:8080/"
        },
        "id": "zJ_unTs62IXV",
        "outputId": "1289b67d-2aca-4c30-9eb1-3082a24c57c4"
      },
      "execution_count": 9,
      "outputs": [
        {
          "output_type": "execute_result",
          "data": {
            "text/plain": [
              "54610.14134314552"
            ]
          },
          "metadata": {},
          "execution_count": 9
        }
      ]
    },
    {
      "cell_type": "code",
      "source": [
        "from sklearn import svm\n",
        "\n",
        "clf = svm.SVC(kernel='linear') # Linear Kernel\n",
        "\n",
        "#Train the model using the training sets\n",
        "clf.fit(X_train, y_train)\n",
        "\n",
        "#Predict the response for test dataset\n",
        "y_pred = clf.predict(X_test)"
      ],
      "metadata": {
        "id": "dx90Sjfwh9cz"
      },
      "execution_count": 10,
      "outputs": []
    },
    {
      "cell_type": "code",
      "source": [
        "from sklearn import metrics\n",
        "\n",
        "print(\"Accuracy:\", metrics.accuracy_score(y_test, y_pred))"
      ],
      "metadata": {
        "colab": {
          "base_uri": "https://localhost:8080/"
        },
        "id": "fVlp9ZP3iMtT",
        "outputId": "a8337ec4-9e34-4a67-a587-68e020e53d6c"
      },
      "execution_count": 11,
      "outputs": [
        {
          "output_type": "stream",
          "name": "stdout",
          "text": [
            "Accuracy: 0.9590643274853801\n"
          ]
        }
      ]
    },
    {
      "cell_type": "code",
      "source": [
        "y_pred_train = clf.predict(X_train)\n",
        "print(\"Accuracy on Training:\", metrics.accuracy_score(y_train, y_pred_train))"
      ],
      "metadata": {
        "colab": {
          "base_uri": "https://localhost:8080/"
        },
        "id": "kjIMKtJWiPAl",
        "outputId": "465181c7-5d83-4683-82b4-e8d48b2fb77b"
      },
      "execution_count": 12,
      "outputs": [
        {
          "output_type": "stream",
          "name": "stdout",
          "text": [
            "Accuracy on Training: 0.964824120603015\n"
          ]
        }
      ]
    },
    {
      "cell_type": "code",
      "source": [
        "# support vectors\n",
        "clf.support_vectors_"
      ],
      "metadata": {
        "colab": {
          "base_uri": "https://localhost:8080/"
        },
        "id": "vsSlysmoikp5",
        "outputId": "a489bf21-4678-486a-b44b-d2688fd11bb4"
      },
      "execution_count": 13,
      "outputs": [
        {
          "output_type": "execute_result",
          "data": {
            "text/plain": [
              "array([[1.499e+01, 2.520e+01, 9.554e+01, ..., 2.899e-02, 1.565e-01,\n",
              "        5.504e-02],\n",
              "       [1.245e+01, 1.570e+01, 8.257e+01, ..., 1.741e-01, 3.985e-01,\n",
              "        1.244e-01],\n",
              "       [1.626e+01, 2.188e+01, 1.075e+02, ..., 1.047e-01, 2.736e-01,\n",
              "        7.953e-02],\n",
              "       ...,\n",
              "       [1.366e+01, 1.913e+01, 8.946e+01, ..., 1.407e-01, 2.744e-01,\n",
              "        8.839e-02],\n",
              "       [1.495e+01, 1.877e+01, 9.784e+01, ..., 8.405e-02, 2.852e-01,\n",
              "        9.218e-02],\n",
              "       [1.453e+01, 1.934e+01, 9.425e+01, ..., 9.594e-02, 2.471e-01,\n",
              "        7.463e-02]])"
            ]
          },
          "metadata": {},
          "execution_count": 13
        }
      ]
    },
    {
      "cell_type": "code",
      "source": [
        "clf.support_vectors_.shape"
      ],
      "metadata": {
        "colab": {
          "base_uri": "https://localhost:8080/"
        },
        "id": "f5CJEwEV5HuZ",
        "outputId": "19ea99ba-de1b-47ab-b259-feb968d28a73"
      },
      "execution_count": 14,
      "outputs": [
        {
          "output_type": "execute_result",
          "data": {
            "text/plain": [
              "(43, 30)"
            ]
          },
          "metadata": {},
          "execution_count": 14
        }
      ]
    },
    {
      "cell_type": "code",
      "source": [
        "#number of support vector for each class\n",
        "clf.n_support_"
      ],
      "metadata": {
        "colab": {
          "base_uri": "https://localhost:8080/"
        },
        "id": "Ta5FV4q0iyDg",
        "outputId": "3bd6c692-a6f8-4cb9-fbf1-9c37f6602388"
      },
      "execution_count": 15,
      "outputs": [
        {
          "output_type": "execute_result",
          "data": {
            "text/plain": [
              "array([21, 22], dtype=int32)"
            ]
          },
          "metadata": {},
          "execution_count": 15
        }
      ]
    },
    {
      "cell_type": "code",
      "source": [
        "#indexes of suppport vectors\n",
        "clf.support_"
      ],
      "metadata": {
        "colab": {
          "base_uri": "https://localhost:8080/"
        },
        "id": "vCOhlbMyjBkl",
        "outputId": "ef99eab5-62aa-4591-d6b7-c84ceca978ba"
      },
      "execution_count": 16,
      "outputs": [
        {
          "output_type": "execute_result",
          "data": {
            "text/plain": [
              "array([ 28,  77,  79,  81, 120, 123, 129, 151, 157, 166, 167, 190, 209,\n",
              "       216, 264, 279, 284, 349, 364, 379, 393,  11,  15,  53,  68,  80,\n",
              "        96, 111, 138, 156, 176, 195, 211, 247, 255, 266, 278, 299, 327,\n",
              "       353, 376, 377, 380], dtype=int32)"
            ]
          },
          "metadata": {},
          "execution_count": 16
        }
      ]
    },
    {
      "cell_type": "code",
      "source": [
        "len(clf.support_)"
      ],
      "metadata": {
        "colab": {
          "base_uri": "https://localhost:8080/"
        },
        "id": "IsP6bLPsjEQM",
        "outputId": "de472175-cc4d-48be-fe0e-b7cc4b2f177b"
      },
      "execution_count": 17,
      "outputs": [
        {
          "output_type": "execute_result",
          "data": {
            "text/plain": [
              "43"
            ]
          },
          "metadata": {},
          "execution_count": 17
        }
      ]
    },
    {
      "cell_type": "code",
      "source": [
        "# coefficients of the features\n",
        "clf.coef_"
      ],
      "metadata": {
        "colab": {
          "base_uri": "https://localhost:8080/"
        },
        "id": "AtB2oAjDj2jV",
        "outputId": "ede32f04-a219-4ef1-8ca6-8b7e8fcab2ab"
      },
      "execution_count": 18,
      "outputs": [
        {
          "output_type": "execute_result",
          "data": {
            "text/plain": [
              "array([[ 0.68373455,  0.0488774 , -0.23709621,  0.01686997, -0.22144463,\n",
              "        -0.18547651, -0.43013893, -0.27241665, -0.38508488, -0.0304932 ,\n",
              "        -0.03920461,  0.97984896,  0.22443933, -0.07725387, -0.02162182,\n",
              "         0.13451903,  0.01942884, -0.02275524, -0.0198628 ,  0.0273803 ,\n",
              "         0.5135781 , -0.2132971 , -0.07484835, -0.00813752, -0.3967954 ,\n",
              "        -0.55209777, -1.41715509, -0.58011007, -0.81381582, -0.08563459]])"
            ]
          },
          "metadata": {},
          "execution_count": 18
        }
      ]
    },
    {
      "cell_type": "code",
      "source": [
        "len(clf.coef_[0])"
      ],
      "metadata": {
        "colab": {
          "base_uri": "https://localhost:8080/"
        },
        "id": "8pfY_gy7vLlG",
        "outputId": "0f47a6fa-dcff-4cf6-aebd-2c2050683449"
      },
      "execution_count": 19,
      "outputs": [
        {
          "output_type": "execute_result",
          "data": {
            "text/plain": [
              "30"
            ]
          },
          "metadata": {},
          "execution_count": 19
        }
      ]
    },
    {
      "cell_type": "code",
      "source": [
        "# coefficients of the support vectors\n",
        "clf.dual_coef_"
      ],
      "metadata": {
        "colab": {
          "base_uri": "https://localhost:8080/"
        },
        "id": "7SmP0efRvFRJ",
        "outputId": "4cdce2ed-1057-40fa-a2a4-0ad9d9241611"
      },
      "execution_count": 20,
      "outputs": [
        {
          "output_type": "execute_result",
          "data": {
            "text/plain": [
              "array([[-1.        , -0.03092786, -0.52419775, -1.        , -1.        ,\n",
              "        -0.65474546, -1.        , -1.        , -1.        , -1.        ,\n",
              "        -1.        , -1.        , -1.        , -1.        , -0.79701823,\n",
              "        -1.        , -1.        , -1.        , -1.        , -1.        ,\n",
              "        -1.        ,  1.        ,  0.49046158,  1.        ,  1.        ,\n",
              "         0.93128035,  1.        ,  1.        ,  1.        ,  1.        ,\n",
              "         1.        ,  1.        ,  1.        ,  0.28203392,  1.        ,\n",
              "         0.2324823 ,  1.        ,  0.07063115,  1.        ,  1.        ,\n",
              "         1.        ,  1.        ,  1.        ]])"
            ]
          },
          "metadata": {},
          "execution_count": 20
        }
      ]
    },
    {
      "cell_type": "code",
      "source": [
        "clf.dual_coef_.shape"
      ],
      "metadata": {
        "colab": {
          "base_uri": "https://localhost:8080/"
        },
        "id": "wNttdYCg8WYB",
        "outputId": "702e895d-3c23-4317-d438-47a1b9e2737f"
      },
      "execution_count": 21,
      "outputs": [
        {
          "output_type": "execute_result",
          "data": {
            "text/plain": [
              "(1, 43)"
            ]
          },
          "metadata": {},
          "execution_count": 21
        }
      ]
    },
    {
      "cell_type": "code",
      "source": [
        "len(clf.dual_coef_[0])"
      ],
      "metadata": {
        "colab": {
          "base_uri": "https://localhost:8080/"
        },
        "id": "VVg2XuV1vRYl",
        "outputId": "332a84df-ae11-4668-83d8-6ed57248d368"
      },
      "execution_count": 22,
      "outputs": [
        {
          "output_type": "execute_result",
          "data": {
            "text/plain": [
              "43"
            ]
          },
          "metadata": {},
          "execution_count": 22
        }
      ]
    },
    {
      "cell_type": "code",
      "source": [
        "clf.predict([X_train[1]])"
      ],
      "metadata": {
        "colab": {
          "base_uri": "https://localhost:8080/"
        },
        "id": "oPknQ2M75V7G",
        "outputId": "85ae34c6-0721-4d45-a95e-870b9a1a8808"
      },
      "execution_count": 23,
      "outputs": [
        {
          "output_type": "execute_result",
          "data": {
            "text/plain": [
              "array([1])"
            ]
          },
          "metadata": {},
          "execution_count": 23
        }
      ]
    },
    {
      "cell_type": "code",
      "source": [
        "clf.intercept_"
      ],
      "metadata": {
        "colab": {
          "base_uri": "https://localhost:8080/"
        },
        "id": "khi7TLNx5ini",
        "outputId": "cbe808bf-62fc-47a5-a3b1-7b93efa1cb88"
      },
      "execution_count": 24,
      "outputs": [
        {
          "output_type": "execute_result",
          "data": {
            "text/plain": [
              "array([14.52243574])"
            ]
          },
          "metadata": {},
          "execution_count": 24
        }
      ]
    },
    {
      "cell_type": "code",
      "source": [
        "clf.decision_function([X_train[0]])"
      ],
      "metadata": {
        "colab": {
          "base_uri": "https://localhost:8080/"
        },
        "id": "YQr0xoib7ymP",
        "outputId": "513f6805-409f-49ab-9363-49978b5e12ae"
      },
      "execution_count": 25,
      "outputs": [
        {
          "output_type": "execute_result",
          "data": {
            "text/plain": [
              "array([3.55261264])"
            ]
          },
          "metadata": {},
          "execution_count": 25
        }
      ]
    },
    {
      "cell_type": "code",
      "source": [
        "clf.dual_coef_ @ clf.support_vectors_"
      ],
      "metadata": {
        "colab": {
          "base_uri": "https://localhost:8080/"
        },
        "id": "qY202g7L_1GG",
        "outputId": "df3c6a54-7cbb-4144-9431-c8b51eab8c7d"
      },
      "execution_count": 26,
      "outputs": [
        {
          "output_type": "execute_result",
          "data": {
            "text/plain": [
              "array([[ 0.68373455,  0.0488774 , -0.23709621,  0.01686997, -0.22144463,\n",
              "        -0.18547651, -0.43013893, -0.27241665, -0.38508488, -0.0304932 ,\n",
              "        -0.03920461,  0.97984896,  0.22443933, -0.07725387, -0.02162182,\n",
              "         0.13451903,  0.01942884, -0.02275524, -0.0198628 ,  0.0273803 ,\n",
              "         0.5135781 , -0.2132971 , -0.07484835, -0.00813752, -0.3967954 ,\n",
              "        -0.55209777, -1.41715509, -0.58011007, -0.81381582, -0.08563459]])"
            ]
          },
          "metadata": {},
          "execution_count": 26
        }
      ]
    },
    {
      "cell_type": "code",
      "source": [
        "(clf.dual_coef_ @ clf.support_vectors_).shape"
      ],
      "metadata": {
        "colab": {
          "base_uri": "https://localhost:8080/"
        },
        "id": "NWS3bVl35uPj",
        "outputId": "340dc729-fd34-4ee8-958a-be5848c7299c"
      },
      "execution_count": 27,
      "outputs": [
        {
          "output_type": "execute_result",
          "data": {
            "text/plain": [
              "(1, 30)"
            ]
          },
          "metadata": {},
          "execution_count": 27
        }
      ]
    },
    {
      "cell_type": "code",
      "source": [
        "X_train[0].reshape(1, len(X_train[0])).T"
      ],
      "metadata": {
        "colab": {
          "base_uri": "https://localhost:8080/"
        },
        "id": "ZSVZejtr_3yF",
        "outputId": "4369b2b3-6d96-4069-a396-d3f27f241246"
      },
      "execution_count": 28,
      "outputs": [
        {
          "output_type": "execute_result",
          "data": {
            "text/plain": [
              "array([[1.149e+01],\n",
              "       [1.459e+01],\n",
              "       [7.399e+01],\n",
              "       [4.049e+02],\n",
              "       [1.046e-01],\n",
              "       [8.228e-02],\n",
              "       [5.308e-02],\n",
              "       [1.969e-02],\n",
              "       [1.779e-01],\n",
              "       [6.574e-02],\n",
              "       [2.034e-01],\n",
              "       [1.166e+00],\n",
              "       [1.567e+00],\n",
              "       [1.434e+01],\n",
              "       [4.957e-03],\n",
              "       [2.114e-02],\n",
              "       [4.156e-02],\n",
              "       [8.038e-03],\n",
              "       [1.843e-02],\n",
              "       [3.614e-03],\n",
              "       [1.240e+01],\n",
              "       [2.190e+01],\n",
              "       [8.204e+01],\n",
              "       [4.676e+02],\n",
              "       [1.352e-01],\n",
              "       [2.010e-01],\n",
              "       [2.596e-01],\n",
              "       [7.431e-02],\n",
              "       [2.941e-01],\n",
              "       [9.180e-02]])"
            ]
          },
          "metadata": {},
          "execution_count": 28
        }
      ]
    },
    {
      "cell_type": "code",
      "source": [
        "X_train[0].reshape(1, len(X_train[0])).T.shape"
      ],
      "metadata": {
        "colab": {
          "base_uri": "https://localhost:8080/"
        },
        "id": "KPvUHZy1BRP-",
        "outputId": "2c4c2484-a8a6-4536-f2c5-4501cd6af0ce"
      },
      "execution_count": 29,
      "outputs": [
        {
          "output_type": "execute_result",
          "data": {
            "text/plain": [
              "(30, 1)"
            ]
          },
          "metadata": {},
          "execution_count": 29
        }
      ]
    },
    {
      "cell_type": "code",
      "source": [
        "(clf.dual_coef_ @ clf.support_vectors_) @ X_train[0].reshape(1, len(X_train[0])).T"
      ],
      "metadata": {
        "colab": {
          "base_uri": "https://localhost:8080/"
        },
        "id": "ekDXid8SBHj2",
        "outputId": "a234be90-e63f-44b9-bdb2-bf924abf4156"
      },
      "execution_count": 30,
      "outputs": [
        {
          "output_type": "execute_result",
          "data": {
            "text/plain": [
              "array([[-10.9698231]])"
            ]
          },
          "metadata": {},
          "execution_count": 30
        }
      ]
    },
    {
      "cell_type": "code",
      "source": [
        "((clf.dual_coef_ @ clf.support_vectors_) @ X_train[1].reshape(1, len(X_train[1])).T + clf.intercept_)[0][0]"
      ],
      "metadata": {
        "colab": {
          "base_uri": "https://localhost:8080/"
        },
        "id": "igzG9IldBYWR",
        "outputId": "19d8c8f5-5d1f-4ddc-f03a-8e2991cfaccc"
      },
      "execution_count": 31,
      "outputs": [
        {
          "output_type": "execute_result",
          "data": {
            "text/plain": [
              "4.8991654692802395"
            ]
          },
          "metadata": {},
          "execution_count": 31
        }
      ]
    },
    {
      "cell_type": "markdown",
      "source": [
        "A partir daqui não é mais do Thiago"
      ],
      "metadata": {
        "id": "1u2JpCUVerVv"
      }
    },
    {
      "cell_type": "markdown",
      "source": [
        "**Encontrando Limites Positivo e Negativo do SVM**"
      ],
      "metadata": {
        "id": "5TbaNMHrevbU"
      }
    },
    {
      "cell_type": "code",
      "source": [
        "decfun = clf.decision_function(X_train)\n",
        "lim_pos = decfun[np.argmax(decfun)]\n",
        "lim_neg = decfun[np.argmin(decfun)]\n",
        "print(\"Limite Pos = \",lim_pos, '\\nLimite Neg =',lim_neg)"
      ],
      "metadata": {
        "colab": {
          "base_uri": "https://localhost:8080/"
        },
        "id": "NuDlYZHrcYUY",
        "outputId": "84814c89-6ba8-4840-db3f-0966866d6f89"
      },
      "execution_count": 32,
      "outputs": [
        {
          "output_type": "stream",
          "name": "stdout",
          "text": [
            "Limite Pos =  9.37321931602485 \n",
            "Limite Neg = -47.65638399792085\n"
          ]
        }
      ]
    },
    {
      "cell_type": "markdown",
      "source": [
        "**Preparando variáveis wr, t1, t2**"
      ],
      "metadata": {
        "id": "YL5RJ9yae2fD"
      }
    },
    {
      "cell_type": "code",
      "source": [
        "wr = []\n",
        "for i in range(1,13):\n",
        "  wr.append(i*0.04)\n",
        "print(wr)"
      ],
      "metadata": {
        "colab": {
          "base_uri": "https://localhost:8080/"
        },
        "id": "qT3qTb6Hdq0r",
        "outputId": "34979fae-e869-4904-a712-d819cbef9714"
      },
      "execution_count": 33,
      "outputs": [
        {
          "output_type": "stream",
          "name": "stdout",
          "text": [
            "[0.04, 0.08, 0.12, 0.16, 0.2, 0.24, 0.28, 0.32, 0.36, 0.4, 0.44, 0.48]\n"
          ]
        }
      ]
    },
    {
      "cell_type": "code",
      "source": [
        "#Total quantity of elements\n",
        "n_elements = decfun.shape[0]\n",
        "n_elements"
      ],
      "metadata": {
        "id": "GAlW07_hpsok",
        "colab": {
          "base_uri": "https://localhost:8080/"
        },
        "outputId": "bef57d3c-9038-461e-f811-47785baa39db"
      },
      "execution_count": 34,
      "outputs": [
        {
          "output_type": "execute_result",
          "data": {
            "text/plain": [
              "398"
            ]
          },
          "metadata": {},
          "execution_count": 34
        }
      ]
    },
    {
      "cell_type": "code",
      "source": [
        "t1 = []\n",
        "t2 = []\n",
        "for i in range (1,101):\n",
        "  t1.append(0.01*i*lim_pos)\n",
        "  t2.append(0.01*i*lim_neg)\n",
        "#for i in range (1,51):\n",
        "#  t1.append(0.02*i*lim_pos)\n",
        "#  t2.append(0.02*i*lim_neg)"
      ],
      "metadata": {
        "id": "ngvmzcZDlgwy"
      },
      "execution_count": 35,
      "outputs": []
    },
    {
      "cell_type": "code",
      "source": [
        "dict_reject = {'WR': wr,'T1':t1, 'T2':t2,'E':[],'R':[],'EWRR': []}\n",
        "dict_reject"
      ],
      "metadata": {
        "colab": {
          "base_uri": "https://localhost:8080/"
        },
        "id": "Xd_ksJnbgo39",
        "outputId": "73ee396f-5ad4-429b-9a45-ca876f037173"
      },
      "execution_count": 36,
      "outputs": [
        {
          "output_type": "execute_result",
          "data": {
            "text/plain": [
              "{'E': [],\n",
              " 'EWRR': [],\n",
              " 'R': [],\n",
              " 'T1': [0.0937321931602485,\n",
              "  0.187464386320497,\n",
              "  0.2811965794807455,\n",
              "  0.374928772640994,\n",
              "  0.4686609658012425,\n",
              "  0.562393158961491,\n",
              "  0.6561253521217395,\n",
              "  0.749857545281988,\n",
              "  0.8435897384422364,\n",
              "  0.937321931602485,\n",
              "  1.0310541247627334,\n",
              "  1.124786317922982,\n",
              "  1.2185185110832304,\n",
              "  1.312250704243479,\n",
              "  1.4059828974037274,\n",
              "  1.499715090563976,\n",
              "  1.5934472837242246,\n",
              "  1.6871794768844728,\n",
              "  1.7809116700447214,\n",
              "  1.87464386320497,\n",
              "  1.9683760563652184,\n",
              "  2.062108249525467,\n",
              "  2.1558404426857156,\n",
              "  2.249572635845964,\n",
              "  2.3433048290062124,\n",
              "  2.437037022166461,\n",
              "  2.5307692153267096,\n",
              "  2.624501408486958,\n",
              "  2.7182336016472064,\n",
              "  2.811965794807455,\n",
              "  2.905697987967703,\n",
              "  2.999430181127952,\n",
              "  3.0931623742882004,\n",
              "  3.1868945674484492,\n",
              "  3.2806267606086976,\n",
              "  3.3743589537689456,\n",
              "  3.4680911469291944,\n",
              "  3.561823340089443,\n",
              "  3.6555555332496916,\n",
              "  3.74928772640994,\n",
              "  3.8430199195701884,\n",
              "  3.936752112730437,\n",
              "  4.030484305890686,\n",
              "  4.124216499050934,\n",
              "  4.217948692211182,\n",
              "  4.311680885371431,\n",
              "  4.405413078531679,\n",
              "  4.499145271691928,\n",
              "  4.592877464852176,\n",
              "  4.686609658012425,\n",
              "  4.780341851172674,\n",
              "  4.874074044332922,\n",
              "  4.96780623749317,\n",
              "  5.061538430653419,\n",
              "  5.155270623813668,\n",
              "  5.249002816973916,\n",
              "  5.342735010134165,\n",
              "  5.436467203294413,\n",
              "  5.530199396454661,\n",
              "  5.62393158961491,\n",
              "  5.717663782775158,\n",
              "  5.811395975935406,\n",
              "  5.905128169095655,\n",
              "  5.998860362255904,\n",
              "  6.092592555416153,\n",
              "  6.186324748576401,\n",
              "  6.28005694173665,\n",
              "  6.3737891348968985,\n",
              "  6.467521328057146,\n",
              "  6.561253521217395,\n",
              "  6.654985714377643,\n",
              "  6.748717907537891,\n",
              "  6.84245010069814,\n",
              "  6.936182293858389,\n",
              "  7.029914487018637,\n",
              "  7.123646680178886,\n",
              "  7.217378873339134,\n",
              "  7.311111066499383,\n",
              "  7.404843259659631,\n",
              "  7.49857545281988,\n",
              "  7.592307645980129,\n",
              "  7.686039839140377,\n",
              "  7.779772032300626,\n",
              "  7.873504225460874,\n",
              "  7.9672364186211215,\n",
              "  8.060968611781371,\n",
              "  8.15470080494162,\n",
              "  8.248432998101867,\n",
              "  8.342165191262117,\n",
              "  8.435897384422365,\n",
              "  8.529629577582613,\n",
              "  8.623361770742862,\n",
              "  8.71709396390311,\n",
              "  8.810826157063358,\n",
              "  8.904558350223608,\n",
              "  8.998290543383856,\n",
              "  9.092022736544104,\n",
              "  9.185754929704352,\n",
              "  9.279487122864602,\n",
              "  9.37321931602485],\n",
              " 'T2': [-0.4765638399792085,\n",
              "  -0.953127679958417,\n",
              "  -1.4296915199376254,\n",
              "  -1.906255359916834,\n",
              "  -2.3828191998960424,\n",
              "  -2.859383039875251,\n",
              "  -3.33594687985446,\n",
              "  -3.812510719833668,\n",
              "  -4.289074559812876,\n",
              "  -4.765638399792085,\n",
              "  -5.242202239771293,\n",
              "  -5.718766079750502,\n",
              "  -6.19532991972971,\n",
              "  -6.67189375970892,\n",
              "  -7.148457599688127,\n",
              "  -7.625021439667336,\n",
              "  -8.101585279646544,\n",
              "  -8.578149119625753,\n",
              "  -9.054712959604961,\n",
              "  -9.53127679958417,\n",
              "  -10.007840639563378,\n",
              "  -10.484404479542587,\n",
              "  -10.960968319521795,\n",
              "  -11.437532159501004,\n",
              "  -11.914095999480212,\n",
              "  -12.39065983945942,\n",
              "  -12.867223679438629,\n",
              "  -13.34378751941784,\n",
              "  -13.820351359397044,\n",
              "  -14.296915199376254,\n",
              "  -14.773479039355463,\n",
              "  -15.250042879334671,\n",
              "  -15.72660671931388,\n",
              "  -16.20317055929309,\n",
              "  -16.6797343992723,\n",
              "  -17.156298239251505,\n",
              "  -17.632862079230712,\n",
              "  -18.109425919209922,\n",
              "  -18.585989759189133,\n",
              "  -19.06255359916834,\n",
              "  -19.53911743914755,\n",
              "  -20.015681279126756,\n",
              "  -20.492245119105963,\n",
              "  -20.968808959085173,\n",
              "  -21.445372799064383,\n",
              "  -21.92193663904359,\n",
              "  -22.3985004790228,\n",
              "  -22.875064319002007,\n",
              "  -23.351628158981214,\n",
              "  -23.828191998960424,\n",
              "  -24.304755838939634,\n",
              "  -24.78131967891884,\n",
              "  -25.25788351889805,\n",
              "  -25.734447358877258,\n",
              "  -26.21101119885647,\n",
              "  -26.68757503883568,\n",
              "  -27.164138878814885,\n",
              "  -27.64070271879409,\n",
              "  -28.1172665587733,\n",
              "  -28.59383039875251,\n",
              "  -29.070394238731716,\n",
              "  -29.546958078710926,\n",
              "  -30.023521918690136,\n",
              "  -30.500085758669343,\n",
              "  -30.976649598648553,\n",
              "  -31.45321343862776,\n",
              "  -31.92977727860697,\n",
              "  -32.40634111858618,\n",
              "  -32.88290495856539,\n",
              "  -33.3594687985446,\n",
              "  -33.836032638523804,\n",
              "  -34.31259647850301,\n",
              "  -34.78916031848222,\n",
              "  -35.265724158461424,\n",
              "  -35.74228799844064,\n",
              "  -36.218851838419845,\n",
              "  -36.69541567839905,\n",
              "  -37.171979518378265,\n",
              "  -37.64854335835747,\n",
              "  -38.12510719833668,\n",
              "  -38.60167103831589,\n",
              "  -39.0782348782951,\n",
              "  -39.554798718274306,\n",
              "  -40.03136255825351,\n",
              "  -40.50792639823272,\n",
              "  -40.984490238211926,\n",
              "  -41.46105407819114,\n",
              "  -41.937617918170346,\n",
              "  -42.41418175814955,\n",
              "  -42.89074559812877,\n",
              "  -43.367309438107974,\n",
              "  -43.84387327808718,\n",
              "  -44.320437118066394,\n",
              "  -44.7970009580456,\n",
              "  -45.27356479802481,\n",
              "  -45.750128638004014,\n",
              "  -46.22669247798322,\n",
              "  -46.70325631796243,\n",
              "  -47.17982015794164,\n",
              "  -47.65638399792085],\n",
              " 'WR': [0.04, 0.08, 0.12, 0.16, 0.2, 0.24, 0.28, 0.32, 0.36, 0.4, 0.44, 0.48]}"
            ]
          },
          "metadata": {},
          "execution_count": 36
        }
      ]
    },
    {
      "cell_type": "markdown",
      "source": [
        "First Element Iteration Example"
      ],
      "metadata": {
        "id": "xCyPjUVpvF2U"
      }
    },
    {
      "cell_type": "code",
      "source": [
        "#Get Number of Rejected\n",
        "positive_indexes = np.where(decfun >= dict_reject['T1'][0])\n",
        "negative_indexes = np.where(decfun < dict_reject['T2'][0])\n",
        "rejected_indexes = np.where((decfun < dict_reject['T1'][0]) & (decfun >= dict_reject['T2'][0]))\n",
        "R = rejected_indexes[0].shape[0]\n",
        "np.array(positive_indexes).shape,np.array(negative_indexes).shape, R"
      ],
      "metadata": {
        "colab": {
          "base_uri": "https://localhost:8080/"
        },
        "id": "F8AAPrI9l_1s",
        "outputId": "fd216629-0fad-4047-86f9-711f54d82d7f"
      },
      "execution_count": 37,
      "outputs": [
        {
          "output_type": "execute_result",
          "data": {
            "text/plain": [
              "((1, 252), (1, 136), 10)"
            ]
          },
          "metadata": {},
          "execution_count": 37
        }
      ]
    },
    {
      "cell_type": "code",
      "source": [
        "#Showing Rejected Elements\n",
        "rejected_indexes,decfun[rejected_indexes[0]],dict_reject['T1'][0],dict_reject['T2'][0]"
      ],
      "metadata": {
        "colab": {
          "base_uri": "https://localhost:8080/"
        },
        "id": "cSIQRu20vZHz",
        "outputId": "2ac13d97-5602-48d9-e096-3001f7930b68"
      },
      "execution_count": 38,
      "outputs": [
        {
          "output_type": "execute_result",
          "data": {
            "text/plain": [
              "((array([ 28, 120, 129, 151, 157, 190, 211, 284, 364, 379]),),\n",
              " array([-0.01174956, -0.46210051, -0.0729748 , -0.33347919, -0.24845183,\n",
              "        -0.25014049, -0.43657875, -0.21034102,  0.07450255, -0.23466209]),\n",
              " 0.0937321931602485,\n",
              " -0.4765638399792085)"
            ]
          },
          "metadata": {},
          "execution_count": 38
        }
      ]
    },
    {
      "cell_type": "code",
      "source": [
        "#Get Number of Misclassifications\n",
        "class_p = y_train[positive_indexes]\n",
        "class_n = y_train[negative_indexes]\n",
        "error_p = np.where(class_p == np.argmin(np.unique(y_train)))[0].shape[0]\n",
        "error_n = np.where(class_n == np.argmax(np.unique(y_train)))[0].shape[0]\n",
        "error_total = (error_p + error_n)/(n_elements - R)\n",
        "class_p,class_n,error_p,error_n,error_total,"
      ],
      "metadata": {
        "colab": {
          "base_uri": "https://localhost:8080/"
        },
        "id": "dzO6rQk5rCvl",
        "outputId": "709e6706-af58-4390-9df9-c006365b2737"
      },
      "execution_count": 39,
      "outputs": [
        {
          "output_type": "execute_result",
          "data": {
            "text/plain": [
              "(array([1, 1, 1, 1, 1, 1, 1, 1, 1, 1, 1, 1, 1, 1, 1, 1, 1, 1, 1, 1, 1, 1,\n",
              "        1, 1, 1, 1, 1, 1, 1, 1, 1, 1, 1, 1, 1, 1, 1, 1, 1, 1, 1, 1, 1, 1,\n",
              "        1, 1, 1, 1, 1, 1, 0, 1, 1, 1, 1, 1, 1, 1, 1, 1, 1, 1, 1, 1, 1, 1,\n",
              "        1, 1, 1, 1, 1, 1, 1, 1, 1, 1, 1, 1, 1, 1, 1, 1, 1, 1, 1, 1, 1, 1,\n",
              "        1, 1, 1, 1, 1, 1, 1, 1, 1, 1, 1, 1, 1, 1, 1, 1, 1, 1, 1, 1, 0, 0,\n",
              "        1, 1, 1, 1, 1, 1, 1, 1, 1, 1, 1, 1, 1, 1, 1, 1, 1, 1, 1, 1, 1, 1,\n",
              "        1, 1, 0, 1, 1, 1, 1, 0, 1, 1, 1, 1, 1, 1, 1, 1, 1, 1, 1, 1, 1, 1,\n",
              "        1, 1, 1, 1, 1, 1, 1, 1, 1, 1, 1, 1, 1, 1, 1, 1, 1, 1, 1, 1, 1, 1,\n",
              "        1, 0, 1, 1, 1, 1, 1, 1, 1, 1, 1, 1, 1, 1, 1, 1, 1, 1, 1, 1, 1, 1,\n",
              "        1, 1, 1, 1, 1, 1, 1, 1, 1, 1, 1, 1, 1, 1, 1, 1, 1, 1, 1, 1, 1, 1,\n",
              "        1, 1, 0, 1, 1, 1, 1, 1, 1, 1, 1, 1, 1, 1, 1, 1, 1, 1, 1, 1, 1, 1,\n",
              "        1, 1, 1, 1, 1, 1, 0, 1, 1, 1]),\n",
              " array([0, 0, 0, 0, 0, 0, 0, 0, 0, 0, 0, 0, 0, 0, 0, 0, 0, 0, 0, 0, 0, 0,\n",
              "        0, 0, 0, 0, 0, 0, 0, 0, 0, 0, 0, 0, 1, 0, 0, 0, 0, 0, 0, 0, 0, 0,\n",
              "        0, 0, 0, 0, 0, 1, 0, 0, 0, 0, 0, 0, 1, 0, 0, 0, 0, 0, 0, 0, 0, 0,\n",
              "        0, 0, 0, 0, 0, 0, 0, 0, 0, 0, 0, 0, 0, 0, 0, 0, 0, 0, 0, 0, 0, 0,\n",
              "        0, 0, 0, 0, 0, 0, 1, 0, 0, 0, 0, 0, 0, 0, 0, 0, 0, 0, 0, 0, 0, 0,\n",
              "        0, 0, 0, 0, 0, 0, 0, 0, 0, 0, 0, 0, 0, 0, 0, 0, 0, 0, 0, 0, 0, 0,\n",
              "        0, 0, 0, 0]),\n",
              " 8,\n",
              " 4,\n",
              " 0.030927835051546393)"
            ]
          },
          "metadata": {},
          "execution_count": 39
        }
      ]
    },
    {
      "cell_type": "code",
      "source": [
        "print(\"Erro = \",error_total,\" wr = \",dict_reject['WR'][0],' R = ',R, '\\nE + wr * R = ',error_total + dict_reject['WR'][0] * R)"
      ],
      "metadata": {
        "colab": {
          "base_uri": "https://localhost:8080/"
        },
        "id": "-MJu4uB3tpuY",
        "outputId": "98fb5940-ecb8-45f7-9c76-7e70004c24c1"
      },
      "execution_count": 40,
      "outputs": [
        {
          "output_type": "stream",
          "name": "stdout",
          "text": [
            "Erro =  0.030927835051546393  wr =  0.04  R =  10 \n",
            "E + wr * R =  0.4309278350515464\n"
          ]
        }
      ]
    },
    {
      "cell_type": "markdown",
      "source": [
        "First Full Iterations"
      ],
      "metadata": {
        "id": "caFzzkdNvJLr"
      }
    },
    {
      "cell_type": "code",
      "source": [
        "EwrR_0 = []\n",
        "for i,t in enumerate(dict_reject['T1']):\n",
        "  #Get Number of Rejected\n",
        "  positive_indexes = np.where(decfun >= dict_reject['T1'][i])\n",
        "  negative_indexes = np.where(decfun < dict_reject['T2'][i])\n",
        "  rejected_indexes = np.where((decfun < dict_reject['T1'][i]) & (decfun >= dict_reject['T2'][i]))\n",
        "  R = rejected_indexes[0].shape[0]\n",
        "  #np.array(positive_indexes).shape,np.array(negative_indexes).shape, R\n",
        "\n",
        "  #Get Number of Misclassifications\n",
        "  class_p = y_train[positive_indexes]\n",
        "  class_n = y_train[negative_indexes]\n",
        "  error_p = np.where(class_p == np.argmin(np.unique(y_train)))[0].shape[0]\n",
        "  error_n = np.where(class_n == np.argmax(np.unique(y_train)))[0].shape[0]\n",
        "  error_total = (error_p + error_n)/(n_elements - R)\n",
        "  \n",
        "  EwrR_0.append(error_total + dict_reject['WR'][0] * R)\n",
        "  print('(',i+1,')',\"Erro = \",error_total,\" wr = \",dict_reject['WR'][0],' R = ',R, 'E + wrR = ',error_total + dict_reject['WR'][0] * R,' T1 = ',dict_reject['T1'][i], ' T2 = ', dict_reject['T2'][i], ' Error P = ', error_p, ' Error N = ', error_n)\n",
        "np.argmin(np.array(EwrR_0)), EwrR_0[np.argmin(np.array(EwrR_0))]\n"
      ],
      "metadata": {
        "colab": {
          "base_uri": "https://localhost:8080/"
        },
        "id": "mhfwytH8xCDA",
        "outputId": "21504426-75d8-452e-e050-59bdbf4c4950"
      },
      "execution_count": 41,
      "outputs": [
        {
          "output_type": "stream",
          "name": "stdout",
          "text": [
            "( 1 ) Erro =  0.030927835051546393  wr =  0.04  R =  10 E + wrR =  0.4309278350515464  T1 =  0.0937321931602485  T2 =  -0.4765638399792085  Error P =  8  Error N =  4\n",
            "( 2 ) Erro =  0.0234375  wr =  0.04  R =  14 E + wrR =  0.5834375  T1 =  0.187464386320497  T2 =  -0.953127679958417  Error P =  7  Error N =  2\n",
            "( 3 ) Erro =  0.016172506738544475  wr =  0.04  R =  27 E + wrR =  1.0961725067385446  T1 =  0.2811965794807455  T2 =  -1.4296915199376254  Error P =  6  Error N =  0\n",
            "( 4 ) Erro =  0.013850415512465374  wr =  0.04  R =  37 E + wrR =  1.4938504155124654  T1 =  0.374928772640994  T2 =  -1.906255359916834  Error P =  5  Error N =  0\n",
            "( 5 ) Erro =  0.0113314447592068  wr =  0.04  R =  45 E + wrR =  1.8113314447592068  T1 =  0.4686609658012425  T2 =  -2.3828191998960424  Error P =  4  Error N =  0\n",
            "( 6 ) Erro =  0.011594202898550725  wr =  0.04  R =  53 E + wrR =  2.1315942028985506  T1 =  0.562393158961491  T2 =  -2.859383039875251  Error P =  4  Error N =  0\n",
            "( 7 ) Erro =  0.012012012012012012  wr =  0.04  R =  65 E + wrR =  2.6120120120120123  T1 =  0.6561253521217395  T2 =  -3.33594687985446  Error P =  4  Error N =  0\n",
            "( 8 ) Erro =  0.0121580547112462  wr =  0.04  R =  69 E + wrR =  2.7721580547112463  T1 =  0.749857545281988  T2 =  -3.812510719833668  Error P =  4  Error N =  0\n",
            "( 9 ) Erro =  0.00946372239747634  wr =  0.04  R =  81 E + wrR =  3.2494637223974765  T1 =  0.8435897384422364  T2 =  -4.289074559812876  Error P =  3  Error N =  0\n",
            "( 10 ) Erro =  0.006535947712418301  wr =  0.04  R =  92 E + wrR =  3.6865359477124184  T1 =  0.937321931602485  T2 =  -4.765638399792085  Error P =  2  Error N =  0\n",
            "( 11 ) Erro =  0.006711409395973154  wr =  0.04  R =  100 E + wrR =  4.006711409395973  T1 =  1.0310541247627334  T2 =  -5.242202239771293  Error P =  2  Error N =  0\n",
            "( 12 ) Erro =  0.006968641114982578  wr =  0.04  R =  111 E + wrR =  4.446968641114983  T1 =  1.124786317922982  T2 =  -5.718766079750502  Error P =  2  Error N =  0\n",
            "( 13 ) Erro =  0.0071174377224199285  wr =  0.04  R =  117 E + wrR =  4.68711743772242  T1 =  1.2185185110832304  T2 =  -6.19532991972971  Error P =  2  Error N =  0\n",
            "( 14 ) Erro =  0.0037313432835820895  wr =  0.04  R =  130 E + wrR =  5.203731343283582  T1 =  1.312250704243479  T2 =  -6.67189375970892  Error P =  1  Error N =  0\n",
            "( 15 ) Erro =  0.0038910505836575876  wr =  0.04  R =  141 E + wrR =  5.643891050583657  T1 =  1.4059828974037274  T2 =  -7.148457599688127  Error P =  1  Error N =  0\n",
            "( 16 ) Erro =  0.00398406374501992  wr =  0.04  R =  147 E + wrR =  5.88398406374502  T1 =  1.499715090563976  T2 =  -7.625021439667336  Error P =  1  Error N =  0\n",
            "( 17 ) Erro =  0.004048582995951417  wr =  0.04  R =  151 E + wrR =  6.044048582995951  T1 =  1.5934472837242246  T2 =  -8.101585279646544  Error P =  1  Error N =  0\n",
            "( 18 ) Erro =  0.004201680672268907  wr =  0.04  R =  160 E + wrR =  6.404201680672269  T1 =  1.6871794768844728  T2 =  -8.578149119625753  Error P =  1  Error N =  0\n",
            "( 19 ) Erro =  0.004273504273504274  wr =  0.04  R =  164 E + wrR =  6.564273504273505  T1 =  1.7809116700447214  T2 =  -9.054712959604961  Error P =  1  Error N =  0\n",
            "( 20 ) Erro =  0.004545454545454545  wr =  0.04  R =  178 E + wrR =  7.124545454545455  T1 =  1.87464386320497  T2 =  -9.53127679958417  Error P =  1  Error N =  0\n",
            "( 21 ) Erro =  0.004694835680751174  wr =  0.04  R =  185 E + wrR =  7.404694835680751  T1 =  1.9683760563652184  T2 =  -10.007840639563378  Error P =  1  Error N =  0\n",
            "( 22 ) Erro =  0.004784688995215311  wr =  0.04  R =  189 E + wrR =  7.564784688995216  T1 =  2.062108249525467  T2 =  -10.484404479542587  Error P =  1  Error N =  0\n",
            "( 23 ) Erro =  0.0048543689320388345  wr =  0.04  R =  192 E + wrR =  7.684854368932038  T1 =  2.1558404426857156  T2 =  -10.960968319521795  Error P =  1  Error N =  0\n",
            "( 24 ) Erro =  0.0051813471502590676  wr =  0.04  R =  205 E + wrR =  8.205181347150258  T1 =  2.249572635845964  T2 =  -11.437532159501004  Error P =  1  Error N =  0\n",
            "( 25 ) Erro =  0.005405405405405406  wr =  0.04  R =  213 E + wrR =  8.525405405405404  T1 =  2.3433048290062124  T2 =  -11.914095999480212  Error P =  1  Error N =  0\n",
            "( 26 ) Erro =  0.00558659217877095  wr =  0.04  R =  219 E + wrR =  8.76558659217877  T1 =  2.437037022166461  T2 =  -12.39065983945942  Error P =  1  Error N =  0\n",
            "( 27 ) Erro =  0.005847953216374269  wr =  0.04  R =  227 E + wrR =  9.085847953216375  T1 =  2.5307692153267096  T2 =  -12.867223679438629  Error P =  1  Error N =  0\n",
            "( 28 ) Erro =  0.0  wr =  0.04  R =  237 E + wrR =  9.48  T1 =  2.624501408486958  T2 =  -13.34378751941784  Error P =  0  Error N =  0\n",
            "( 29 ) Erro =  0.0  wr =  0.04  R =  243 E + wrR =  9.72  T1 =  2.7182336016472064  T2 =  -13.820351359397044  Error P =  0  Error N =  0\n",
            "( 30 ) Erro =  0.0  wr =  0.04  R =  245 E + wrR =  9.8  T1 =  2.811965794807455  T2 =  -14.296915199376254  Error P =  0  Error N =  0\n",
            "( 31 ) Erro =  0.0  wr =  0.04  R =  252 E + wrR =  10.08  T1 =  2.905697987967703  T2 =  -14.773479039355463  Error P =  0  Error N =  0\n",
            "( 32 ) Erro =  0.0  wr =  0.04  R =  261 E + wrR =  10.44  T1 =  2.999430181127952  T2 =  -15.250042879334671  Error P =  0  Error N =  0\n",
            "( 33 ) Erro =  0.0  wr =  0.04  R =  269 E + wrR =  10.76  T1 =  3.0931623742882004  T2 =  -15.72660671931388  Error P =  0  Error N =  0\n",
            "( 34 ) Erro =  0.0  wr =  0.04  R =  279 E + wrR =  11.16  T1 =  3.1868945674484492  T2 =  -16.20317055929309  Error P =  0  Error N =  0\n",
            "( 35 ) Erro =  0.0  wr =  0.04  R =  287 E + wrR =  11.48  T1 =  3.2806267606086976  T2 =  -16.6797343992723  Error P =  0  Error N =  0\n",
            "( 36 ) Erro =  0.0  wr =  0.04  R =  293 E + wrR =  11.72  T1 =  3.3743589537689456  T2 =  -17.156298239251505  Error P =  0  Error N =  0\n",
            "( 37 ) Erro =  0.0  wr =  0.04  R =  302 E + wrR =  12.08  T1 =  3.4680911469291944  T2 =  -17.632862079230712  Error P =  0  Error N =  0\n",
            "( 38 ) Erro =  0.0  wr =  0.04  R =  309 E + wrR =  12.36  T1 =  3.561823340089443  T2 =  -18.109425919209922  Error P =  0  Error N =  0\n",
            "( 39 ) Erro =  0.0  wr =  0.04  R =  313 E + wrR =  12.52  T1 =  3.6555555332496916  T2 =  -18.585989759189133  Error P =  0  Error N =  0\n",
            "( 40 ) Erro =  0.0  wr =  0.04  R =  320 E + wrR =  12.8  T1 =  3.74928772640994  T2 =  -19.06255359916834  Error P =  0  Error N =  0\n",
            "( 41 ) Erro =  0.0  wr =  0.04  R =  323 E + wrR =  12.92  T1 =  3.8430199195701884  T2 =  -19.53911743914755  Error P =  0  Error N =  0\n",
            "( 42 ) Erro =  0.0  wr =  0.04  R =  326 E + wrR =  13.040000000000001  T1 =  3.936752112730437  T2 =  -20.015681279126756  Error P =  0  Error N =  0\n",
            "( 43 ) Erro =  0.0  wr =  0.04  R =  332 E + wrR =  13.280000000000001  T1 =  4.030484305890686  T2 =  -20.492245119105963  Error P =  0  Error N =  0\n",
            "( 44 ) Erro =  0.0  wr =  0.04  R =  339 E + wrR =  13.56  T1 =  4.124216499050934  T2 =  -20.968808959085173  Error P =  0  Error N =  0\n",
            "( 45 ) Erro =  0.0  wr =  0.04  R =  345 E + wrR =  13.8  T1 =  4.217948692211182  T2 =  -21.445372799064383  Error P =  0  Error N =  0\n",
            "( 46 ) Erro =  0.0  wr =  0.04  R =  352 E + wrR =  14.08  T1 =  4.311680885371431  T2 =  -21.92193663904359  Error P =  0  Error N =  0\n",
            "( 47 ) Erro =  0.0  wr =  0.04  R =  359 E + wrR =  14.36  T1 =  4.405413078531679  T2 =  -22.3985004790228  Error P =  0  Error N =  0\n",
            "( 48 ) Erro =  0.0  wr =  0.04  R =  361 E + wrR =  14.44  T1 =  4.499145271691928  T2 =  -22.875064319002007  Error P =  0  Error N =  0\n",
            "( 49 ) Erro =  0.0  wr =  0.04  R =  363 E + wrR =  14.52  T1 =  4.592877464852176  T2 =  -23.351628158981214  Error P =  0  Error N =  0\n",
            "( 50 ) Erro =  0.0  wr =  0.04  R =  365 E + wrR =  14.6  T1 =  4.686609658012425  T2 =  -23.828191998960424  Error P =  0  Error N =  0\n",
            "( 51 ) Erro =  0.0  wr =  0.04  R =  368 E + wrR =  14.72  T1 =  4.780341851172674  T2 =  -24.304755838939634  Error P =  0  Error N =  0\n",
            "( 52 ) Erro =  0.0  wr =  0.04  R =  371 E + wrR =  14.84  T1 =  4.874074044332922  T2 =  -24.78131967891884  Error P =  0  Error N =  0\n",
            "( 53 ) Erro =  0.0  wr =  0.04  R =  374 E + wrR =  14.96  T1 =  4.96780623749317  T2 =  -25.25788351889805  Error P =  0  Error N =  0\n",
            "( 54 ) Erro =  0.0  wr =  0.04  R =  375 E + wrR =  15.0  T1 =  5.061538430653419  T2 =  -25.734447358877258  Error P =  0  Error N =  0\n",
            "( 55 ) Erro =  0.0  wr =  0.04  R =  377 E + wrR =  15.08  T1 =  5.155270623813668  T2 =  -26.21101119885647  Error P =  0  Error N =  0\n",
            "( 56 ) Erro =  0.0  wr =  0.04  R =  378 E + wrR =  15.120000000000001  T1 =  5.249002816973916  T2 =  -26.68757503883568  Error P =  0  Error N =  0\n",
            "( 57 ) Erro =  0.0  wr =  0.04  R =  380 E + wrR =  15.200000000000001  T1 =  5.342735010134165  T2 =  -27.164138878814885  Error P =  0  Error N =  0\n",
            "( 58 ) Erro =  0.0  wr =  0.04  R =  382 E + wrR =  15.280000000000001  T1 =  5.436467203294413  T2 =  -27.64070271879409  Error P =  0  Error N =  0\n",
            "( 59 ) Erro =  0.0  wr =  0.04  R =  383 E + wrR =  15.32  T1 =  5.530199396454661  T2 =  -28.1172665587733  Error P =  0  Error N =  0\n",
            "( 60 ) Erro =  0.0  wr =  0.04  R =  384 E + wrR =  15.36  T1 =  5.62393158961491  T2 =  -28.59383039875251  Error P =  0  Error N =  0\n",
            "( 61 ) Erro =  0.0  wr =  0.04  R =  387 E + wrR =  15.48  T1 =  5.717663782775158  T2 =  -29.070394238731716  Error P =  0  Error N =  0\n",
            "( 62 ) Erro =  0.0  wr =  0.04  R =  389 E + wrR =  15.56  T1 =  5.811395975935406  T2 =  -29.546958078710926  Error P =  0  Error N =  0\n",
            "( 63 ) Erro =  0.0  wr =  0.04  R =  389 E + wrR =  15.56  T1 =  5.905128169095655  T2 =  -30.023521918690136  Error P =  0  Error N =  0\n",
            "( 64 ) Erro =  0.0  wr =  0.04  R =  389 E + wrR =  15.56  T1 =  5.998860362255904  T2 =  -30.500085758669343  Error P =  0  Error N =  0\n",
            "( 65 ) Erro =  0.0  wr =  0.04  R =  389 E + wrR =  15.56  T1 =  6.092592555416153  T2 =  -30.976649598648553  Error P =  0  Error N =  0\n",
            "( 66 ) Erro =  0.0  wr =  0.04  R =  389 E + wrR =  15.56  T1 =  6.186324748576401  T2 =  -31.45321343862776  Error P =  0  Error N =  0\n",
            "( 67 ) Erro =  0.0  wr =  0.04  R =  391 E + wrR =  15.64  T1 =  6.28005694173665  T2 =  -31.92977727860697  Error P =  0  Error N =  0\n",
            "( 68 ) Erro =  0.0  wr =  0.04  R =  393 E + wrR =  15.72  T1 =  6.3737891348968985  T2 =  -32.40634111858618  Error P =  0  Error N =  0\n",
            "( 69 ) Erro =  0.0  wr =  0.04  R =  394 E + wrR =  15.76  T1 =  6.467521328057146  T2 =  -32.88290495856539  Error P =  0  Error N =  0\n",
            "( 70 ) Erro =  0.0  wr =  0.04  R =  394 E + wrR =  15.76  T1 =  6.561253521217395  T2 =  -33.3594687985446  Error P =  0  Error N =  0\n",
            "( 71 ) Erro =  0.0  wr =  0.04  R =  394 E + wrR =  15.76  T1 =  6.654985714377643  T2 =  -33.836032638523804  Error P =  0  Error N =  0\n",
            "( 72 ) Erro =  0.0  wr =  0.04  R =  394 E + wrR =  15.76  T1 =  6.748717907537891  T2 =  -34.31259647850301  Error P =  0  Error N =  0\n",
            "( 73 ) Erro =  0.0  wr =  0.04  R =  394 E + wrR =  15.76  T1 =  6.84245010069814  T2 =  -34.78916031848222  Error P =  0  Error N =  0\n",
            "( 74 ) Erro =  0.0  wr =  0.04  R =  394 E + wrR =  15.76  T1 =  6.936182293858389  T2 =  -35.265724158461424  Error P =  0  Error N =  0\n",
            "( 75 ) Erro =  0.0  wr =  0.04  R =  394 E + wrR =  15.76  T1 =  7.029914487018637  T2 =  -35.74228799844064  Error P =  0  Error N =  0\n",
            "( 76 ) Erro =  0.0  wr =  0.04  R =  394 E + wrR =  15.76  T1 =  7.123646680178886  T2 =  -36.218851838419845  Error P =  0  Error N =  0\n",
            "( 77 ) Erro =  0.0  wr =  0.04  R =  396 E + wrR =  15.84  T1 =  7.217378873339134  T2 =  -36.69541567839905  Error P =  0  Error N =  0\n",
            "( 78 ) Erro =  0.0  wr =  0.04  R =  396 E + wrR =  15.84  T1 =  7.311111066499383  T2 =  -37.171979518378265  Error P =  0  Error N =  0\n",
            "( 79 ) Erro =  0.0  wr =  0.04  R =  396 E + wrR =  15.84  T1 =  7.404843259659631  T2 =  -37.64854335835747  Error P =  0  Error N =  0\n",
            "( 80 ) Erro =  0.0  wr =  0.04  R =  396 E + wrR =  15.84  T1 =  7.49857545281988  T2 =  -38.12510719833668  Error P =  0  Error N =  0\n",
            "( 81 ) Erro =  0.0  wr =  0.04  R =  396 E + wrR =  15.84  T1 =  7.592307645980129  T2 =  -38.60167103831589  Error P =  0  Error N =  0\n",
            "( 82 ) Erro =  0.0  wr =  0.04  R =  396 E + wrR =  15.84  T1 =  7.686039839140377  T2 =  -39.0782348782951  Error P =  0  Error N =  0\n",
            "( 83 ) Erro =  0.0  wr =  0.04  R =  396 E + wrR =  15.84  T1 =  7.779772032300626  T2 =  -39.554798718274306  Error P =  0  Error N =  0\n",
            "( 84 ) Erro =  0.0  wr =  0.04  R =  396 E + wrR =  15.84  T1 =  7.873504225460874  T2 =  -40.03136255825351  Error P =  0  Error N =  0\n",
            "( 85 ) Erro =  0.0  wr =  0.04  R =  396 E + wrR =  15.84  T1 =  7.9672364186211215  T2 =  -40.50792639823272  Error P =  0  Error N =  0\n",
            "( 86 ) Erro =  0.0  wr =  0.04  R =  396 E + wrR =  15.84  T1 =  8.060968611781371  T2 =  -40.984490238211926  Error P =  0  Error N =  0\n",
            "( 87 ) Erro =  0.0  wr =  0.04  R =  396 E + wrR =  15.84  T1 =  8.15470080494162  T2 =  -41.46105407819114  Error P =  0  Error N =  0\n",
            "( 88 ) Erro =  0.0  wr =  0.04  R =  396 E + wrR =  15.84  T1 =  8.248432998101867  T2 =  -41.937617918170346  Error P =  0  Error N =  0\n",
            "( 89 ) Erro =  0.0  wr =  0.04  R =  396 E + wrR =  15.84  T1 =  8.342165191262117  T2 =  -42.41418175814955  Error P =  0  Error N =  0\n",
            "( 90 ) Erro =  0.0  wr =  0.04  R =  396 E + wrR =  15.84  T1 =  8.435897384422365  T2 =  -42.89074559812877  Error P =  0  Error N =  0\n",
            "( 91 ) Erro =  0.0  wr =  0.04  R =  396 E + wrR =  15.84  T1 =  8.529629577582613  T2 =  -43.367309438107974  Error P =  0  Error N =  0\n",
            "( 92 ) Erro =  0.0  wr =  0.04  R =  396 E + wrR =  15.84  T1 =  8.623361770742862  T2 =  -43.84387327808718  Error P =  0  Error N =  0\n",
            "( 93 ) Erro =  0.0  wr =  0.04  R =  396 E + wrR =  15.84  T1 =  8.71709396390311  T2 =  -44.320437118066394  Error P =  0  Error N =  0\n",
            "( 94 ) Erro =  0.0  wr =  0.04  R =  396 E + wrR =  15.84  T1 =  8.810826157063358  T2 =  -44.7970009580456  Error P =  0  Error N =  0\n",
            "( 95 ) Erro =  0.0  wr =  0.04  R =  396 E + wrR =  15.84  T1 =  8.904558350223608  T2 =  -45.27356479802481  Error P =  0  Error N =  0\n",
            "( 96 ) Erro =  0.0  wr =  0.04  R =  396 E + wrR =  15.84  T1 =  8.998290543383856  T2 =  -45.750128638004014  Error P =  0  Error N =  0\n",
            "( 97 ) Erro =  0.0  wr =  0.04  R =  396 E + wrR =  15.84  T1 =  9.092022736544104  T2 =  -46.22669247798322  Error P =  0  Error N =  0\n",
            "( 98 ) Erro =  0.0  wr =  0.04  R =  396 E + wrR =  15.84  T1 =  9.185754929704352  T2 =  -46.70325631796243  Error P =  0  Error N =  0\n",
            "( 99 ) Erro =  0.0  wr =  0.04  R =  396 E + wrR =  15.84  T1 =  9.279487122864602  T2 =  -47.17982015794164  Error P =  0  Error N =  0\n",
            "( 100 ) Erro =  0.0  wr =  0.04  R =  397 E + wrR =  15.88  T1 =  9.37321931602485  T2 =  -47.65638399792085  Error P =  0  Error N =  0\n"
          ]
        },
        {
          "output_type": "execute_result",
          "data": {
            "text/plain": [
              "(0, 0.4309278350515464)"
            ]
          },
          "metadata": {},
          "execution_count": 41
        }
      ]
    },
    {
      "cell_type": "markdown",
      "source": [
        "All Iterations"
      ],
      "metadata": {
        "id": "rartrt2kIEuH"
      }
    },
    {
      "cell_type": "code",
      "source": [
        "for i,wr_ in enumerate(dict_reject['WR']):\n",
        "  EwrR = []\n",
        "  for i,t in enumerate(dict_reject['T1']):\n",
        "    #Get Number of Rejected\n",
        "    positive_indexes = np.where(decfun >= dict_reject['T1'][i])\n",
        "    negative_indexes = np.where(decfun < dict_reject['T2'][i])\n",
        "    rejected_indexes = np.where((decfun < dict_reject['T1'][i]) & (decfun >= dict_reject['T2'][i]))\n",
        "    R = rejected_indexes[0].shape[0]\n",
        "    #np.array(positive_indexes).shape,np.array(negative_indexes).shape, R\n",
        "\n",
        "    #Get Number of Misclassifications\n",
        "    class_p = y_train[positive_indexes]\n",
        "    class_n = y_train[negative_indexes]\n",
        "    error_p = np.where(class_p == np.argmin(np.unique(y_train)))[0].shape[0]\n",
        "    error_n = np.where(class_n == np.argmax(np.unique(y_train)))[0].shape[0]\n",
        "    error_total = (error_p + error_n)/(n_elements - R)\n",
        "    \n",
        "    EwrR.append(error_total + wr_ * R)\n",
        "    print('(',i+1,')',\"Erro = \",error_total,\" wr = \",wr_,' R = ',R, 'E + wrR = ',error_total + wr_ * R,' T1 = ',dict_reject['T1'][i], ' T2 = ', dict_reject['T2'][i], ' Error P = ', error_p, ' Error N = ', error_n)\n",
        "  print(np.argmin(np.array(EwrR)), EwrR[np.argmin(np.array(EwrR))])"
      ],
      "metadata": {
        "colab": {
          "base_uri": "https://localhost:8080/"
        },
        "id": "Z9eD5ICKIGtk",
        "outputId": "24899ea6-9f8e-49e2-ed5f-f18e2efa5ee0"
      },
      "execution_count": 42,
      "outputs": [
        {
          "output_type": "stream",
          "name": "stdout",
          "text": [
            "( 1 ) Erro =  0.030927835051546393  wr =  0.04  R =  10 E + wrR =  0.4309278350515464  T1 =  0.0937321931602485  T2 =  -0.4765638399792085  Error P =  8  Error N =  4\n",
            "( 2 ) Erro =  0.0234375  wr =  0.04  R =  14 E + wrR =  0.5834375  T1 =  0.187464386320497  T2 =  -0.953127679958417  Error P =  7  Error N =  2\n",
            "( 3 ) Erro =  0.016172506738544475  wr =  0.04  R =  27 E + wrR =  1.0961725067385446  T1 =  0.2811965794807455  T2 =  -1.4296915199376254  Error P =  6  Error N =  0\n",
            "( 4 ) Erro =  0.013850415512465374  wr =  0.04  R =  37 E + wrR =  1.4938504155124654  T1 =  0.374928772640994  T2 =  -1.906255359916834  Error P =  5  Error N =  0\n",
            "( 5 ) Erro =  0.0113314447592068  wr =  0.04  R =  45 E + wrR =  1.8113314447592068  T1 =  0.4686609658012425  T2 =  -2.3828191998960424  Error P =  4  Error N =  0\n",
            "( 6 ) Erro =  0.011594202898550725  wr =  0.04  R =  53 E + wrR =  2.1315942028985506  T1 =  0.562393158961491  T2 =  -2.859383039875251  Error P =  4  Error N =  0\n",
            "( 7 ) Erro =  0.012012012012012012  wr =  0.04  R =  65 E + wrR =  2.6120120120120123  T1 =  0.6561253521217395  T2 =  -3.33594687985446  Error P =  4  Error N =  0\n",
            "( 8 ) Erro =  0.0121580547112462  wr =  0.04  R =  69 E + wrR =  2.7721580547112463  T1 =  0.749857545281988  T2 =  -3.812510719833668  Error P =  4  Error N =  0\n",
            "( 9 ) Erro =  0.00946372239747634  wr =  0.04  R =  81 E + wrR =  3.2494637223974765  T1 =  0.8435897384422364  T2 =  -4.289074559812876  Error P =  3  Error N =  0\n",
            "( 10 ) Erro =  0.006535947712418301  wr =  0.04  R =  92 E + wrR =  3.6865359477124184  T1 =  0.937321931602485  T2 =  -4.765638399792085  Error P =  2  Error N =  0\n",
            "( 11 ) Erro =  0.006711409395973154  wr =  0.04  R =  100 E + wrR =  4.006711409395973  T1 =  1.0310541247627334  T2 =  -5.242202239771293  Error P =  2  Error N =  0\n",
            "( 12 ) Erro =  0.006968641114982578  wr =  0.04  R =  111 E + wrR =  4.446968641114983  T1 =  1.124786317922982  T2 =  -5.718766079750502  Error P =  2  Error N =  0\n",
            "( 13 ) Erro =  0.0071174377224199285  wr =  0.04  R =  117 E + wrR =  4.68711743772242  T1 =  1.2185185110832304  T2 =  -6.19532991972971  Error P =  2  Error N =  0\n",
            "( 14 ) Erro =  0.0037313432835820895  wr =  0.04  R =  130 E + wrR =  5.203731343283582  T1 =  1.312250704243479  T2 =  -6.67189375970892  Error P =  1  Error N =  0\n",
            "( 15 ) Erro =  0.0038910505836575876  wr =  0.04  R =  141 E + wrR =  5.643891050583657  T1 =  1.4059828974037274  T2 =  -7.148457599688127  Error P =  1  Error N =  0\n",
            "( 16 ) Erro =  0.00398406374501992  wr =  0.04  R =  147 E + wrR =  5.88398406374502  T1 =  1.499715090563976  T2 =  -7.625021439667336  Error P =  1  Error N =  0\n",
            "( 17 ) Erro =  0.004048582995951417  wr =  0.04  R =  151 E + wrR =  6.044048582995951  T1 =  1.5934472837242246  T2 =  -8.101585279646544  Error P =  1  Error N =  0\n",
            "( 18 ) Erro =  0.004201680672268907  wr =  0.04  R =  160 E + wrR =  6.404201680672269  T1 =  1.6871794768844728  T2 =  -8.578149119625753  Error P =  1  Error N =  0\n",
            "( 19 ) Erro =  0.004273504273504274  wr =  0.04  R =  164 E + wrR =  6.564273504273505  T1 =  1.7809116700447214  T2 =  -9.054712959604961  Error P =  1  Error N =  0\n",
            "( 20 ) Erro =  0.004545454545454545  wr =  0.04  R =  178 E + wrR =  7.124545454545455  T1 =  1.87464386320497  T2 =  -9.53127679958417  Error P =  1  Error N =  0\n",
            "( 21 ) Erro =  0.004694835680751174  wr =  0.04  R =  185 E + wrR =  7.404694835680751  T1 =  1.9683760563652184  T2 =  -10.007840639563378  Error P =  1  Error N =  0\n",
            "( 22 ) Erro =  0.004784688995215311  wr =  0.04  R =  189 E + wrR =  7.564784688995216  T1 =  2.062108249525467  T2 =  -10.484404479542587  Error P =  1  Error N =  0\n",
            "( 23 ) Erro =  0.0048543689320388345  wr =  0.04  R =  192 E + wrR =  7.684854368932038  T1 =  2.1558404426857156  T2 =  -10.960968319521795  Error P =  1  Error N =  0\n",
            "( 24 ) Erro =  0.0051813471502590676  wr =  0.04  R =  205 E + wrR =  8.205181347150258  T1 =  2.249572635845964  T2 =  -11.437532159501004  Error P =  1  Error N =  0\n",
            "( 25 ) Erro =  0.005405405405405406  wr =  0.04  R =  213 E + wrR =  8.525405405405404  T1 =  2.3433048290062124  T2 =  -11.914095999480212  Error P =  1  Error N =  0\n",
            "( 26 ) Erro =  0.00558659217877095  wr =  0.04  R =  219 E + wrR =  8.76558659217877  T1 =  2.437037022166461  T2 =  -12.39065983945942  Error P =  1  Error N =  0\n",
            "( 27 ) Erro =  0.005847953216374269  wr =  0.04  R =  227 E + wrR =  9.085847953216375  T1 =  2.5307692153267096  T2 =  -12.867223679438629  Error P =  1  Error N =  0\n",
            "( 28 ) Erro =  0.0  wr =  0.04  R =  237 E + wrR =  9.48  T1 =  2.624501408486958  T2 =  -13.34378751941784  Error P =  0  Error N =  0\n",
            "( 29 ) Erro =  0.0  wr =  0.04  R =  243 E + wrR =  9.72  T1 =  2.7182336016472064  T2 =  -13.820351359397044  Error P =  0  Error N =  0\n",
            "( 30 ) Erro =  0.0  wr =  0.04  R =  245 E + wrR =  9.8  T1 =  2.811965794807455  T2 =  -14.296915199376254  Error P =  0  Error N =  0\n",
            "( 31 ) Erro =  0.0  wr =  0.04  R =  252 E + wrR =  10.08  T1 =  2.905697987967703  T2 =  -14.773479039355463  Error P =  0  Error N =  0\n",
            "( 32 ) Erro =  0.0  wr =  0.04  R =  261 E + wrR =  10.44  T1 =  2.999430181127952  T2 =  -15.250042879334671  Error P =  0  Error N =  0\n",
            "( 33 ) Erro =  0.0  wr =  0.04  R =  269 E + wrR =  10.76  T1 =  3.0931623742882004  T2 =  -15.72660671931388  Error P =  0  Error N =  0\n",
            "( 34 ) Erro =  0.0  wr =  0.04  R =  279 E + wrR =  11.16  T1 =  3.1868945674484492  T2 =  -16.20317055929309  Error P =  0  Error N =  0\n",
            "( 35 ) Erro =  0.0  wr =  0.04  R =  287 E + wrR =  11.48  T1 =  3.2806267606086976  T2 =  -16.6797343992723  Error P =  0  Error N =  0\n",
            "( 36 ) Erro =  0.0  wr =  0.04  R =  293 E + wrR =  11.72  T1 =  3.3743589537689456  T2 =  -17.156298239251505  Error P =  0  Error N =  0\n",
            "( 37 ) Erro =  0.0  wr =  0.04  R =  302 E + wrR =  12.08  T1 =  3.4680911469291944  T2 =  -17.632862079230712  Error P =  0  Error N =  0\n",
            "( 38 ) Erro =  0.0  wr =  0.04  R =  309 E + wrR =  12.36  T1 =  3.561823340089443  T2 =  -18.109425919209922  Error P =  0  Error N =  0\n",
            "( 39 ) Erro =  0.0  wr =  0.04  R =  313 E + wrR =  12.52  T1 =  3.6555555332496916  T2 =  -18.585989759189133  Error P =  0  Error N =  0\n",
            "( 40 ) Erro =  0.0  wr =  0.04  R =  320 E + wrR =  12.8  T1 =  3.74928772640994  T2 =  -19.06255359916834  Error P =  0  Error N =  0\n",
            "( 41 ) Erro =  0.0  wr =  0.04  R =  323 E + wrR =  12.92  T1 =  3.8430199195701884  T2 =  -19.53911743914755  Error P =  0  Error N =  0\n",
            "( 42 ) Erro =  0.0  wr =  0.04  R =  326 E + wrR =  13.040000000000001  T1 =  3.936752112730437  T2 =  -20.015681279126756  Error P =  0  Error N =  0\n",
            "( 43 ) Erro =  0.0  wr =  0.04  R =  332 E + wrR =  13.280000000000001  T1 =  4.030484305890686  T2 =  -20.492245119105963  Error P =  0  Error N =  0\n",
            "( 44 ) Erro =  0.0  wr =  0.04  R =  339 E + wrR =  13.56  T1 =  4.124216499050934  T2 =  -20.968808959085173  Error P =  0  Error N =  0\n",
            "( 45 ) Erro =  0.0  wr =  0.04  R =  345 E + wrR =  13.8  T1 =  4.217948692211182  T2 =  -21.445372799064383  Error P =  0  Error N =  0\n",
            "( 46 ) Erro =  0.0  wr =  0.04  R =  352 E + wrR =  14.08  T1 =  4.311680885371431  T2 =  -21.92193663904359  Error P =  0  Error N =  0\n",
            "( 47 ) Erro =  0.0  wr =  0.04  R =  359 E + wrR =  14.36  T1 =  4.405413078531679  T2 =  -22.3985004790228  Error P =  0  Error N =  0\n",
            "( 48 ) Erro =  0.0  wr =  0.04  R =  361 E + wrR =  14.44  T1 =  4.499145271691928  T2 =  -22.875064319002007  Error P =  0  Error N =  0\n",
            "( 49 ) Erro =  0.0  wr =  0.04  R =  363 E + wrR =  14.52  T1 =  4.592877464852176  T2 =  -23.351628158981214  Error P =  0  Error N =  0\n",
            "( 50 ) Erro =  0.0  wr =  0.04  R =  365 E + wrR =  14.6  T1 =  4.686609658012425  T2 =  -23.828191998960424  Error P =  0  Error N =  0\n",
            "( 51 ) Erro =  0.0  wr =  0.04  R =  368 E + wrR =  14.72  T1 =  4.780341851172674  T2 =  -24.304755838939634  Error P =  0  Error N =  0\n",
            "( 52 ) Erro =  0.0  wr =  0.04  R =  371 E + wrR =  14.84  T1 =  4.874074044332922  T2 =  -24.78131967891884  Error P =  0  Error N =  0\n",
            "( 53 ) Erro =  0.0  wr =  0.04  R =  374 E + wrR =  14.96  T1 =  4.96780623749317  T2 =  -25.25788351889805  Error P =  0  Error N =  0\n",
            "( 54 ) Erro =  0.0  wr =  0.04  R =  375 E + wrR =  15.0  T1 =  5.061538430653419  T2 =  -25.734447358877258  Error P =  0  Error N =  0\n",
            "( 55 ) Erro =  0.0  wr =  0.04  R =  377 E + wrR =  15.08  T1 =  5.155270623813668  T2 =  -26.21101119885647  Error P =  0  Error N =  0\n",
            "( 56 ) Erro =  0.0  wr =  0.04  R =  378 E + wrR =  15.120000000000001  T1 =  5.249002816973916  T2 =  -26.68757503883568  Error P =  0  Error N =  0\n",
            "( 57 ) Erro =  0.0  wr =  0.04  R =  380 E + wrR =  15.200000000000001  T1 =  5.342735010134165  T2 =  -27.164138878814885  Error P =  0  Error N =  0\n",
            "( 58 ) Erro =  0.0  wr =  0.04  R =  382 E + wrR =  15.280000000000001  T1 =  5.436467203294413  T2 =  -27.64070271879409  Error P =  0  Error N =  0\n",
            "( 59 ) Erro =  0.0  wr =  0.04  R =  383 E + wrR =  15.32  T1 =  5.530199396454661  T2 =  -28.1172665587733  Error P =  0  Error N =  0\n",
            "( 60 ) Erro =  0.0  wr =  0.04  R =  384 E + wrR =  15.36  T1 =  5.62393158961491  T2 =  -28.59383039875251  Error P =  0  Error N =  0\n",
            "( 61 ) Erro =  0.0  wr =  0.04  R =  387 E + wrR =  15.48  T1 =  5.717663782775158  T2 =  -29.070394238731716  Error P =  0  Error N =  0\n",
            "( 62 ) Erro =  0.0  wr =  0.04  R =  389 E + wrR =  15.56  T1 =  5.811395975935406  T2 =  -29.546958078710926  Error P =  0  Error N =  0\n",
            "( 63 ) Erro =  0.0  wr =  0.04  R =  389 E + wrR =  15.56  T1 =  5.905128169095655  T2 =  -30.023521918690136  Error P =  0  Error N =  0\n",
            "( 64 ) Erro =  0.0  wr =  0.04  R =  389 E + wrR =  15.56  T1 =  5.998860362255904  T2 =  -30.500085758669343  Error P =  0  Error N =  0\n",
            "( 65 ) Erro =  0.0  wr =  0.04  R =  389 E + wrR =  15.56  T1 =  6.092592555416153  T2 =  -30.976649598648553  Error P =  0  Error N =  0\n",
            "( 66 ) Erro =  0.0  wr =  0.04  R =  389 E + wrR =  15.56  T1 =  6.186324748576401  T2 =  -31.45321343862776  Error P =  0  Error N =  0\n",
            "( 67 ) Erro =  0.0  wr =  0.04  R =  391 E + wrR =  15.64  T1 =  6.28005694173665  T2 =  -31.92977727860697  Error P =  0  Error N =  0\n",
            "( 68 ) Erro =  0.0  wr =  0.04  R =  393 E + wrR =  15.72  T1 =  6.3737891348968985  T2 =  -32.40634111858618  Error P =  0  Error N =  0\n",
            "( 69 ) Erro =  0.0  wr =  0.04  R =  394 E + wrR =  15.76  T1 =  6.467521328057146  T2 =  -32.88290495856539  Error P =  0  Error N =  0\n",
            "( 70 ) Erro =  0.0  wr =  0.04  R =  394 E + wrR =  15.76  T1 =  6.561253521217395  T2 =  -33.3594687985446  Error P =  0  Error N =  0\n",
            "( 71 ) Erro =  0.0  wr =  0.04  R =  394 E + wrR =  15.76  T1 =  6.654985714377643  T2 =  -33.836032638523804  Error P =  0  Error N =  0\n",
            "( 72 ) Erro =  0.0  wr =  0.04  R =  394 E + wrR =  15.76  T1 =  6.748717907537891  T2 =  -34.31259647850301  Error P =  0  Error N =  0\n",
            "( 73 ) Erro =  0.0  wr =  0.04  R =  394 E + wrR =  15.76  T1 =  6.84245010069814  T2 =  -34.78916031848222  Error P =  0  Error N =  0\n",
            "( 74 ) Erro =  0.0  wr =  0.04  R =  394 E + wrR =  15.76  T1 =  6.936182293858389  T2 =  -35.265724158461424  Error P =  0  Error N =  0\n",
            "( 75 ) Erro =  0.0  wr =  0.04  R =  394 E + wrR =  15.76  T1 =  7.029914487018637  T2 =  -35.74228799844064  Error P =  0  Error N =  0\n",
            "( 76 ) Erro =  0.0  wr =  0.04  R =  394 E + wrR =  15.76  T1 =  7.123646680178886  T2 =  -36.218851838419845  Error P =  0  Error N =  0\n",
            "( 77 ) Erro =  0.0  wr =  0.04  R =  396 E + wrR =  15.84  T1 =  7.217378873339134  T2 =  -36.69541567839905  Error P =  0  Error N =  0\n",
            "( 78 ) Erro =  0.0  wr =  0.04  R =  396 E + wrR =  15.84  T1 =  7.311111066499383  T2 =  -37.171979518378265  Error P =  0  Error N =  0\n",
            "( 79 ) Erro =  0.0  wr =  0.04  R =  396 E + wrR =  15.84  T1 =  7.404843259659631  T2 =  -37.64854335835747  Error P =  0  Error N =  0\n",
            "( 80 ) Erro =  0.0  wr =  0.04  R =  396 E + wrR =  15.84  T1 =  7.49857545281988  T2 =  -38.12510719833668  Error P =  0  Error N =  0\n",
            "( 81 ) Erro =  0.0  wr =  0.04  R =  396 E + wrR =  15.84  T1 =  7.592307645980129  T2 =  -38.60167103831589  Error P =  0  Error N =  0\n",
            "( 82 ) Erro =  0.0  wr =  0.04  R =  396 E + wrR =  15.84  T1 =  7.686039839140377  T2 =  -39.0782348782951  Error P =  0  Error N =  0\n",
            "( 83 ) Erro =  0.0  wr =  0.04  R =  396 E + wrR =  15.84  T1 =  7.779772032300626  T2 =  -39.554798718274306  Error P =  0  Error N =  0\n",
            "( 84 ) Erro =  0.0  wr =  0.04  R =  396 E + wrR =  15.84  T1 =  7.873504225460874  T2 =  -40.03136255825351  Error P =  0  Error N =  0\n",
            "( 85 ) Erro =  0.0  wr =  0.04  R =  396 E + wrR =  15.84  T1 =  7.9672364186211215  T2 =  -40.50792639823272  Error P =  0  Error N =  0\n",
            "( 86 ) Erro =  0.0  wr =  0.04  R =  396 E + wrR =  15.84  T1 =  8.060968611781371  T2 =  -40.984490238211926  Error P =  0  Error N =  0\n",
            "( 87 ) Erro =  0.0  wr =  0.04  R =  396 E + wrR =  15.84  T1 =  8.15470080494162  T2 =  -41.46105407819114  Error P =  0  Error N =  0\n",
            "( 88 ) Erro =  0.0  wr =  0.04  R =  396 E + wrR =  15.84  T1 =  8.248432998101867  T2 =  -41.937617918170346  Error P =  0  Error N =  0\n",
            "( 89 ) Erro =  0.0  wr =  0.04  R =  396 E + wrR =  15.84  T1 =  8.342165191262117  T2 =  -42.41418175814955  Error P =  0  Error N =  0\n",
            "( 90 ) Erro =  0.0  wr =  0.04  R =  396 E + wrR =  15.84  T1 =  8.435897384422365  T2 =  -42.89074559812877  Error P =  0  Error N =  0\n",
            "( 91 ) Erro =  0.0  wr =  0.04  R =  396 E + wrR =  15.84  T1 =  8.529629577582613  T2 =  -43.367309438107974  Error P =  0  Error N =  0\n",
            "( 92 ) Erro =  0.0  wr =  0.04  R =  396 E + wrR =  15.84  T1 =  8.623361770742862  T2 =  -43.84387327808718  Error P =  0  Error N =  0\n",
            "( 93 ) Erro =  0.0  wr =  0.04  R =  396 E + wrR =  15.84  T1 =  8.71709396390311  T2 =  -44.320437118066394  Error P =  0  Error N =  0\n",
            "( 94 ) Erro =  0.0  wr =  0.04  R =  396 E + wrR =  15.84  T1 =  8.810826157063358  T2 =  -44.7970009580456  Error P =  0  Error N =  0\n",
            "( 95 ) Erro =  0.0  wr =  0.04  R =  396 E + wrR =  15.84  T1 =  8.904558350223608  T2 =  -45.27356479802481  Error P =  0  Error N =  0\n",
            "( 96 ) Erro =  0.0  wr =  0.04  R =  396 E + wrR =  15.84  T1 =  8.998290543383856  T2 =  -45.750128638004014  Error P =  0  Error N =  0\n",
            "( 97 ) Erro =  0.0  wr =  0.04  R =  396 E + wrR =  15.84  T1 =  9.092022736544104  T2 =  -46.22669247798322  Error P =  0  Error N =  0\n",
            "( 98 ) Erro =  0.0  wr =  0.04  R =  396 E + wrR =  15.84  T1 =  9.185754929704352  T2 =  -46.70325631796243  Error P =  0  Error N =  0\n",
            "( 99 ) Erro =  0.0  wr =  0.04  R =  396 E + wrR =  15.84  T1 =  9.279487122864602  T2 =  -47.17982015794164  Error P =  0  Error N =  0\n",
            "( 100 ) Erro =  0.0  wr =  0.04  R =  397 E + wrR =  15.88  T1 =  9.37321931602485  T2 =  -47.65638399792085  Error P =  0  Error N =  0\n",
            "0 0.4309278350515464\n",
            "( 1 ) Erro =  0.030927835051546393  wr =  0.08  R =  10 E + wrR =  0.8309278350515464  T1 =  0.0937321931602485  T2 =  -0.4765638399792085  Error P =  8  Error N =  4\n",
            "( 2 ) Erro =  0.0234375  wr =  0.08  R =  14 E + wrR =  1.1434375  T1 =  0.187464386320497  T2 =  -0.953127679958417  Error P =  7  Error N =  2\n",
            "( 3 ) Erro =  0.016172506738544475  wr =  0.08  R =  27 E + wrR =  2.1761725067385447  T1 =  0.2811965794807455  T2 =  -1.4296915199376254  Error P =  6  Error N =  0\n",
            "( 4 ) Erro =  0.013850415512465374  wr =  0.08  R =  37 E + wrR =  2.9738504155124654  T1 =  0.374928772640994  T2 =  -1.906255359916834  Error P =  5  Error N =  0\n",
            "( 5 ) Erro =  0.0113314447592068  wr =  0.08  R =  45 E + wrR =  3.611331444759207  T1 =  0.4686609658012425  T2 =  -2.3828191998960424  Error P =  4  Error N =  0\n",
            "( 6 ) Erro =  0.011594202898550725  wr =  0.08  R =  53 E + wrR =  4.251594202898551  T1 =  0.562393158961491  T2 =  -2.859383039875251  Error P =  4  Error N =  0\n",
            "( 7 ) Erro =  0.012012012012012012  wr =  0.08  R =  65 E + wrR =  5.212012012012012  T1 =  0.6561253521217395  T2 =  -3.33594687985446  Error P =  4  Error N =  0\n",
            "( 8 ) Erro =  0.0121580547112462  wr =  0.08  R =  69 E + wrR =  5.532158054711247  T1 =  0.749857545281988  T2 =  -3.812510719833668  Error P =  4  Error N =  0\n",
            "( 9 ) Erro =  0.00946372239747634  wr =  0.08  R =  81 E + wrR =  6.489463722397477  T1 =  0.8435897384422364  T2 =  -4.289074559812876  Error P =  3  Error N =  0\n",
            "( 10 ) Erro =  0.006535947712418301  wr =  0.08  R =  92 E + wrR =  7.366535947712419  T1 =  0.937321931602485  T2 =  -4.765638399792085  Error P =  2  Error N =  0\n",
            "( 11 ) Erro =  0.006711409395973154  wr =  0.08  R =  100 E + wrR =  8.006711409395972  T1 =  1.0310541247627334  T2 =  -5.242202239771293  Error P =  2  Error N =  0\n",
            "( 12 ) Erro =  0.006968641114982578  wr =  0.08  R =  111 E + wrR =  8.886968641114983  T1 =  1.124786317922982  T2 =  -5.718766079750502  Error P =  2  Error N =  0\n",
            "( 13 ) Erro =  0.0071174377224199285  wr =  0.08  R =  117 E + wrR =  9.367117437722419  T1 =  1.2185185110832304  T2 =  -6.19532991972971  Error P =  2  Error N =  0\n",
            "( 14 ) Erro =  0.0037313432835820895  wr =  0.08  R =  130 E + wrR =  10.403731343283582  T1 =  1.312250704243479  T2 =  -6.67189375970892  Error P =  1  Error N =  0\n",
            "( 15 ) Erro =  0.0038910505836575876  wr =  0.08  R =  141 E + wrR =  11.283891050583657  T1 =  1.4059828974037274  T2 =  -7.148457599688127  Error P =  1  Error N =  0\n",
            "( 16 ) Erro =  0.00398406374501992  wr =  0.08  R =  147 E + wrR =  11.76398406374502  T1 =  1.499715090563976  T2 =  -7.625021439667336  Error P =  1  Error N =  0\n",
            "( 17 ) Erro =  0.004048582995951417  wr =  0.08  R =  151 E + wrR =  12.084048582995951  T1 =  1.5934472837242246  T2 =  -8.101585279646544  Error P =  1  Error N =  0\n",
            "( 18 ) Erro =  0.004201680672268907  wr =  0.08  R =  160 E + wrR =  12.80420168067227  T1 =  1.6871794768844728  T2 =  -8.578149119625753  Error P =  1  Error N =  0\n",
            "( 19 ) Erro =  0.004273504273504274  wr =  0.08  R =  164 E + wrR =  13.124273504273505  T1 =  1.7809116700447214  T2 =  -9.054712959604961  Error P =  1  Error N =  0\n",
            "( 20 ) Erro =  0.004545454545454545  wr =  0.08  R =  178 E + wrR =  14.244545454545454  T1 =  1.87464386320497  T2 =  -9.53127679958417  Error P =  1  Error N =  0\n",
            "( 21 ) Erro =  0.004694835680751174  wr =  0.08  R =  185 E + wrR =  14.804694835680753  T1 =  1.9683760563652184  T2 =  -10.007840639563378  Error P =  1  Error N =  0\n",
            "( 22 ) Erro =  0.004784688995215311  wr =  0.08  R =  189 E + wrR =  15.124784688995216  T1 =  2.062108249525467  T2 =  -10.484404479542587  Error P =  1  Error N =  0\n",
            "( 23 ) Erro =  0.0048543689320388345  wr =  0.08  R =  192 E + wrR =  15.364854368932038  T1 =  2.1558404426857156  T2 =  -10.960968319521795  Error P =  1  Error N =  0\n",
            "( 24 ) Erro =  0.0051813471502590676  wr =  0.08  R =  205 E + wrR =  16.405181347150258  T1 =  2.249572635845964  T2 =  -11.437532159501004  Error P =  1  Error N =  0\n",
            "( 25 ) Erro =  0.005405405405405406  wr =  0.08  R =  213 E + wrR =  17.045405405405404  T1 =  2.3433048290062124  T2 =  -11.914095999480212  Error P =  1  Error N =  0\n",
            "( 26 ) Erro =  0.00558659217877095  wr =  0.08  R =  219 E + wrR =  17.52558659217877  T1 =  2.437037022166461  T2 =  -12.39065983945942  Error P =  1  Error N =  0\n",
            "( 27 ) Erro =  0.005847953216374269  wr =  0.08  R =  227 E + wrR =  18.165847953216375  T1 =  2.5307692153267096  T2 =  -12.867223679438629  Error P =  1  Error N =  0\n",
            "( 28 ) Erro =  0.0  wr =  0.08  R =  237 E + wrR =  18.96  T1 =  2.624501408486958  T2 =  -13.34378751941784  Error P =  0  Error N =  0\n",
            "( 29 ) Erro =  0.0  wr =  0.08  R =  243 E + wrR =  19.44  T1 =  2.7182336016472064  T2 =  -13.820351359397044  Error P =  0  Error N =  0\n",
            "( 30 ) Erro =  0.0  wr =  0.08  R =  245 E + wrR =  19.6  T1 =  2.811965794807455  T2 =  -14.296915199376254  Error P =  0  Error N =  0\n",
            "( 31 ) Erro =  0.0  wr =  0.08  R =  252 E + wrR =  20.16  T1 =  2.905697987967703  T2 =  -14.773479039355463  Error P =  0  Error N =  0\n",
            "( 32 ) Erro =  0.0  wr =  0.08  R =  261 E + wrR =  20.88  T1 =  2.999430181127952  T2 =  -15.250042879334671  Error P =  0  Error N =  0\n",
            "( 33 ) Erro =  0.0  wr =  0.08  R =  269 E + wrR =  21.52  T1 =  3.0931623742882004  T2 =  -15.72660671931388  Error P =  0  Error N =  0\n",
            "( 34 ) Erro =  0.0  wr =  0.08  R =  279 E + wrR =  22.32  T1 =  3.1868945674484492  T2 =  -16.20317055929309  Error P =  0  Error N =  0\n",
            "( 35 ) Erro =  0.0  wr =  0.08  R =  287 E + wrR =  22.96  T1 =  3.2806267606086976  T2 =  -16.6797343992723  Error P =  0  Error N =  0\n",
            "( 36 ) Erro =  0.0  wr =  0.08  R =  293 E + wrR =  23.44  T1 =  3.3743589537689456  T2 =  -17.156298239251505  Error P =  0  Error N =  0\n",
            "( 37 ) Erro =  0.0  wr =  0.08  R =  302 E + wrR =  24.16  T1 =  3.4680911469291944  T2 =  -17.632862079230712  Error P =  0  Error N =  0\n",
            "( 38 ) Erro =  0.0  wr =  0.08  R =  309 E + wrR =  24.72  T1 =  3.561823340089443  T2 =  -18.109425919209922  Error P =  0  Error N =  0\n",
            "( 39 ) Erro =  0.0  wr =  0.08  R =  313 E + wrR =  25.04  T1 =  3.6555555332496916  T2 =  -18.585989759189133  Error P =  0  Error N =  0\n",
            "( 40 ) Erro =  0.0  wr =  0.08  R =  320 E + wrR =  25.6  T1 =  3.74928772640994  T2 =  -19.06255359916834  Error P =  0  Error N =  0\n",
            "( 41 ) Erro =  0.0  wr =  0.08  R =  323 E + wrR =  25.84  T1 =  3.8430199195701884  T2 =  -19.53911743914755  Error P =  0  Error N =  0\n",
            "( 42 ) Erro =  0.0  wr =  0.08  R =  326 E + wrR =  26.080000000000002  T1 =  3.936752112730437  T2 =  -20.015681279126756  Error P =  0  Error N =  0\n",
            "( 43 ) Erro =  0.0  wr =  0.08  R =  332 E + wrR =  26.560000000000002  T1 =  4.030484305890686  T2 =  -20.492245119105963  Error P =  0  Error N =  0\n",
            "( 44 ) Erro =  0.0  wr =  0.08  R =  339 E + wrR =  27.12  T1 =  4.124216499050934  T2 =  -20.968808959085173  Error P =  0  Error N =  0\n",
            "( 45 ) Erro =  0.0  wr =  0.08  R =  345 E + wrR =  27.6  T1 =  4.217948692211182  T2 =  -21.445372799064383  Error P =  0  Error N =  0\n",
            "( 46 ) Erro =  0.0  wr =  0.08  R =  352 E + wrR =  28.16  T1 =  4.311680885371431  T2 =  -21.92193663904359  Error P =  0  Error N =  0\n",
            "( 47 ) Erro =  0.0  wr =  0.08  R =  359 E + wrR =  28.72  T1 =  4.405413078531679  T2 =  -22.3985004790228  Error P =  0  Error N =  0\n",
            "( 48 ) Erro =  0.0  wr =  0.08  R =  361 E + wrR =  28.88  T1 =  4.499145271691928  T2 =  -22.875064319002007  Error P =  0  Error N =  0\n",
            "( 49 ) Erro =  0.0  wr =  0.08  R =  363 E + wrR =  29.04  T1 =  4.592877464852176  T2 =  -23.351628158981214  Error P =  0  Error N =  0\n",
            "( 50 ) Erro =  0.0  wr =  0.08  R =  365 E + wrR =  29.2  T1 =  4.686609658012425  T2 =  -23.828191998960424  Error P =  0  Error N =  0\n",
            "( 51 ) Erro =  0.0  wr =  0.08  R =  368 E + wrR =  29.44  T1 =  4.780341851172674  T2 =  -24.304755838939634  Error P =  0  Error N =  0\n",
            "( 52 ) Erro =  0.0  wr =  0.08  R =  371 E + wrR =  29.68  T1 =  4.874074044332922  T2 =  -24.78131967891884  Error P =  0  Error N =  0\n",
            "( 53 ) Erro =  0.0  wr =  0.08  R =  374 E + wrR =  29.92  T1 =  4.96780623749317  T2 =  -25.25788351889805  Error P =  0  Error N =  0\n",
            "( 54 ) Erro =  0.0  wr =  0.08  R =  375 E + wrR =  30.0  T1 =  5.061538430653419  T2 =  -25.734447358877258  Error P =  0  Error N =  0\n",
            "( 55 ) Erro =  0.0  wr =  0.08  R =  377 E + wrR =  30.16  T1 =  5.155270623813668  T2 =  -26.21101119885647  Error P =  0  Error N =  0\n",
            "( 56 ) Erro =  0.0  wr =  0.08  R =  378 E + wrR =  30.240000000000002  T1 =  5.249002816973916  T2 =  -26.68757503883568  Error P =  0  Error N =  0\n",
            "( 57 ) Erro =  0.0  wr =  0.08  R =  380 E + wrR =  30.400000000000002  T1 =  5.342735010134165  T2 =  -27.164138878814885  Error P =  0  Error N =  0\n",
            "( 58 ) Erro =  0.0  wr =  0.08  R =  382 E + wrR =  30.560000000000002  T1 =  5.436467203294413  T2 =  -27.64070271879409  Error P =  0  Error N =  0\n",
            "( 59 ) Erro =  0.0  wr =  0.08  R =  383 E + wrR =  30.64  T1 =  5.530199396454661  T2 =  -28.1172665587733  Error P =  0  Error N =  0\n",
            "( 60 ) Erro =  0.0  wr =  0.08  R =  384 E + wrR =  30.72  T1 =  5.62393158961491  T2 =  -28.59383039875251  Error P =  0  Error N =  0\n",
            "( 61 ) Erro =  0.0  wr =  0.08  R =  387 E + wrR =  30.96  T1 =  5.717663782775158  T2 =  -29.070394238731716  Error P =  0  Error N =  0\n",
            "( 62 ) Erro =  0.0  wr =  0.08  R =  389 E + wrR =  31.12  T1 =  5.811395975935406  T2 =  -29.546958078710926  Error P =  0  Error N =  0\n",
            "( 63 ) Erro =  0.0  wr =  0.08  R =  389 E + wrR =  31.12  T1 =  5.905128169095655  T2 =  -30.023521918690136  Error P =  0  Error N =  0\n",
            "( 64 ) Erro =  0.0  wr =  0.08  R =  389 E + wrR =  31.12  T1 =  5.998860362255904  T2 =  -30.500085758669343  Error P =  0  Error N =  0\n",
            "( 65 ) Erro =  0.0  wr =  0.08  R =  389 E + wrR =  31.12  T1 =  6.092592555416153  T2 =  -30.976649598648553  Error P =  0  Error N =  0\n",
            "( 66 ) Erro =  0.0  wr =  0.08  R =  389 E + wrR =  31.12  T1 =  6.186324748576401  T2 =  -31.45321343862776  Error P =  0  Error N =  0\n",
            "( 67 ) Erro =  0.0  wr =  0.08  R =  391 E + wrR =  31.28  T1 =  6.28005694173665  T2 =  -31.92977727860697  Error P =  0  Error N =  0\n",
            "( 68 ) Erro =  0.0  wr =  0.08  R =  393 E + wrR =  31.44  T1 =  6.3737891348968985  T2 =  -32.40634111858618  Error P =  0  Error N =  0\n",
            "( 69 ) Erro =  0.0  wr =  0.08  R =  394 E + wrR =  31.52  T1 =  6.467521328057146  T2 =  -32.88290495856539  Error P =  0  Error N =  0\n",
            "( 70 ) Erro =  0.0  wr =  0.08  R =  394 E + wrR =  31.52  T1 =  6.561253521217395  T2 =  -33.3594687985446  Error P =  0  Error N =  0\n",
            "( 71 ) Erro =  0.0  wr =  0.08  R =  394 E + wrR =  31.52  T1 =  6.654985714377643  T2 =  -33.836032638523804  Error P =  0  Error N =  0\n",
            "( 72 ) Erro =  0.0  wr =  0.08  R =  394 E + wrR =  31.52  T1 =  6.748717907537891  T2 =  -34.31259647850301  Error P =  0  Error N =  0\n",
            "( 73 ) Erro =  0.0  wr =  0.08  R =  394 E + wrR =  31.52  T1 =  6.84245010069814  T2 =  -34.78916031848222  Error P =  0  Error N =  0\n",
            "( 74 ) Erro =  0.0  wr =  0.08  R =  394 E + wrR =  31.52  T1 =  6.936182293858389  T2 =  -35.265724158461424  Error P =  0  Error N =  0\n",
            "( 75 ) Erro =  0.0  wr =  0.08  R =  394 E + wrR =  31.52  T1 =  7.029914487018637  T2 =  -35.74228799844064  Error P =  0  Error N =  0\n",
            "( 76 ) Erro =  0.0  wr =  0.08  R =  394 E + wrR =  31.52  T1 =  7.123646680178886  T2 =  -36.218851838419845  Error P =  0  Error N =  0\n",
            "( 77 ) Erro =  0.0  wr =  0.08  R =  396 E + wrR =  31.68  T1 =  7.217378873339134  T2 =  -36.69541567839905  Error P =  0  Error N =  0\n",
            "( 78 ) Erro =  0.0  wr =  0.08  R =  396 E + wrR =  31.68  T1 =  7.311111066499383  T2 =  -37.171979518378265  Error P =  0  Error N =  0\n",
            "( 79 ) Erro =  0.0  wr =  0.08  R =  396 E + wrR =  31.68  T1 =  7.404843259659631  T2 =  -37.64854335835747  Error P =  0  Error N =  0\n",
            "( 80 ) Erro =  0.0  wr =  0.08  R =  396 E + wrR =  31.68  T1 =  7.49857545281988  T2 =  -38.12510719833668  Error P =  0  Error N =  0\n",
            "( 81 ) Erro =  0.0  wr =  0.08  R =  396 E + wrR =  31.68  T1 =  7.592307645980129  T2 =  -38.60167103831589  Error P =  0  Error N =  0\n",
            "( 82 ) Erro =  0.0  wr =  0.08  R =  396 E + wrR =  31.68  T1 =  7.686039839140377  T2 =  -39.0782348782951  Error P =  0  Error N =  0\n",
            "( 83 ) Erro =  0.0  wr =  0.08  R =  396 E + wrR =  31.68  T1 =  7.779772032300626  T2 =  -39.554798718274306  Error P =  0  Error N =  0\n",
            "( 84 ) Erro =  0.0  wr =  0.08  R =  396 E + wrR =  31.68  T1 =  7.873504225460874  T2 =  -40.03136255825351  Error P =  0  Error N =  0\n",
            "( 85 ) Erro =  0.0  wr =  0.08  R =  396 E + wrR =  31.68  T1 =  7.9672364186211215  T2 =  -40.50792639823272  Error P =  0  Error N =  0\n",
            "( 86 ) Erro =  0.0  wr =  0.08  R =  396 E + wrR =  31.68  T1 =  8.060968611781371  T2 =  -40.984490238211926  Error P =  0  Error N =  0\n",
            "( 87 ) Erro =  0.0  wr =  0.08  R =  396 E + wrR =  31.68  T1 =  8.15470080494162  T2 =  -41.46105407819114  Error P =  0  Error N =  0\n",
            "( 88 ) Erro =  0.0  wr =  0.08  R =  396 E + wrR =  31.68  T1 =  8.248432998101867  T2 =  -41.937617918170346  Error P =  0  Error N =  0\n",
            "( 89 ) Erro =  0.0  wr =  0.08  R =  396 E + wrR =  31.68  T1 =  8.342165191262117  T2 =  -42.41418175814955  Error P =  0  Error N =  0\n",
            "( 90 ) Erro =  0.0  wr =  0.08  R =  396 E + wrR =  31.68  T1 =  8.435897384422365  T2 =  -42.89074559812877  Error P =  0  Error N =  0\n",
            "( 91 ) Erro =  0.0  wr =  0.08  R =  396 E + wrR =  31.68  T1 =  8.529629577582613  T2 =  -43.367309438107974  Error P =  0  Error N =  0\n",
            "( 92 ) Erro =  0.0  wr =  0.08  R =  396 E + wrR =  31.68  T1 =  8.623361770742862  T2 =  -43.84387327808718  Error P =  0  Error N =  0\n",
            "( 93 ) Erro =  0.0  wr =  0.08  R =  396 E + wrR =  31.68  T1 =  8.71709396390311  T2 =  -44.320437118066394  Error P =  0  Error N =  0\n",
            "( 94 ) Erro =  0.0  wr =  0.08  R =  396 E + wrR =  31.68  T1 =  8.810826157063358  T2 =  -44.7970009580456  Error P =  0  Error N =  0\n",
            "( 95 ) Erro =  0.0  wr =  0.08  R =  396 E + wrR =  31.68  T1 =  8.904558350223608  T2 =  -45.27356479802481  Error P =  0  Error N =  0\n",
            "( 96 ) Erro =  0.0  wr =  0.08  R =  396 E + wrR =  31.68  T1 =  8.998290543383856  T2 =  -45.750128638004014  Error P =  0  Error N =  0\n",
            "( 97 ) Erro =  0.0  wr =  0.08  R =  396 E + wrR =  31.68  T1 =  9.092022736544104  T2 =  -46.22669247798322  Error P =  0  Error N =  0\n",
            "( 98 ) Erro =  0.0  wr =  0.08  R =  396 E + wrR =  31.68  T1 =  9.185754929704352  T2 =  -46.70325631796243  Error P =  0  Error N =  0\n",
            "( 99 ) Erro =  0.0  wr =  0.08  R =  396 E + wrR =  31.68  T1 =  9.279487122864602  T2 =  -47.17982015794164  Error P =  0  Error N =  0\n",
            "( 100 ) Erro =  0.0  wr =  0.08  R =  397 E + wrR =  31.76  T1 =  9.37321931602485  T2 =  -47.65638399792085  Error P =  0  Error N =  0\n",
            "0 0.8309278350515464\n",
            "( 1 ) Erro =  0.030927835051546393  wr =  0.12  R =  10 E + wrR =  1.2309278350515465  T1 =  0.0937321931602485  T2 =  -0.4765638399792085  Error P =  8  Error N =  4\n",
            "( 2 ) Erro =  0.0234375  wr =  0.12  R =  14 E + wrR =  1.7034375  T1 =  0.187464386320497  T2 =  -0.953127679958417  Error P =  7  Error N =  2\n",
            "( 3 ) Erro =  0.016172506738544475  wr =  0.12  R =  27 E + wrR =  3.2561725067385443  T1 =  0.2811965794807455  T2 =  -1.4296915199376254  Error P =  6  Error N =  0\n",
            "( 4 ) Erro =  0.013850415512465374  wr =  0.12  R =  37 E + wrR =  4.4538504155124645  T1 =  0.374928772640994  T2 =  -1.906255359916834  Error P =  5  Error N =  0\n",
            "( 5 ) Erro =  0.0113314447592068  wr =  0.12  R =  45 E + wrR =  5.411331444759206  T1 =  0.4686609658012425  T2 =  -2.3828191998960424  Error P =  4  Error N =  0\n",
            "( 6 ) Erro =  0.011594202898550725  wr =  0.12  R =  53 E + wrR =  6.37159420289855  T1 =  0.562393158961491  T2 =  -2.859383039875251  Error P =  4  Error N =  0\n",
            "( 7 ) Erro =  0.012012012012012012  wr =  0.12  R =  65 E + wrR =  7.812012012012012  T1 =  0.6561253521217395  T2 =  -3.33594687985446  Error P =  4  Error N =  0\n",
            "( 8 ) Erro =  0.0121580547112462  wr =  0.12  R =  69 E + wrR =  8.292158054711246  T1 =  0.749857545281988  T2 =  -3.812510719833668  Error P =  4  Error N =  0\n",
            "( 9 ) Erro =  0.00946372239747634  wr =  0.12  R =  81 E + wrR =  9.729463722397476  T1 =  0.8435897384422364  T2 =  -4.289074559812876  Error P =  3  Error N =  0\n",
            "( 10 ) Erro =  0.006535947712418301  wr =  0.12  R =  92 E + wrR =  11.046535947712417  T1 =  0.937321931602485  T2 =  -4.765638399792085  Error P =  2  Error N =  0\n",
            "( 11 ) Erro =  0.006711409395973154  wr =  0.12  R =  100 E + wrR =  12.006711409395972  T1 =  1.0310541247627334  T2 =  -5.242202239771293  Error P =  2  Error N =  0\n",
            "( 12 ) Erro =  0.006968641114982578  wr =  0.12  R =  111 E + wrR =  13.326968641114982  T1 =  1.124786317922982  T2 =  -5.718766079750502  Error P =  2  Error N =  0\n",
            "( 13 ) Erro =  0.0071174377224199285  wr =  0.12  R =  117 E + wrR =  14.047117437722418  T1 =  1.2185185110832304  T2 =  -6.19532991972971  Error P =  2  Error N =  0\n",
            "( 14 ) Erro =  0.0037313432835820895  wr =  0.12  R =  130 E + wrR =  15.603731343283581  T1 =  1.312250704243479  T2 =  -6.67189375970892  Error P =  1  Error N =  0\n",
            "( 15 ) Erro =  0.0038910505836575876  wr =  0.12  R =  141 E + wrR =  16.923891050583656  T1 =  1.4059828974037274  T2 =  -7.148457599688127  Error P =  1  Error N =  0\n",
            "( 16 ) Erro =  0.00398406374501992  wr =  0.12  R =  147 E + wrR =  17.64398406374502  T1 =  1.499715090563976  T2 =  -7.625021439667336  Error P =  1  Error N =  0\n",
            "( 17 ) Erro =  0.004048582995951417  wr =  0.12  R =  151 E + wrR =  18.124048582995954  T1 =  1.5934472837242246  T2 =  -8.101585279646544  Error P =  1  Error N =  0\n",
            "( 18 ) Erro =  0.004201680672268907  wr =  0.12  R =  160 E + wrR =  19.20420168067227  T1 =  1.6871794768844728  T2 =  -8.578149119625753  Error P =  1  Error N =  0\n",
            "( 19 ) Erro =  0.004273504273504274  wr =  0.12  R =  164 E + wrR =  19.684273504273506  T1 =  1.7809116700447214  T2 =  -9.054712959604961  Error P =  1  Error N =  0\n",
            "( 20 ) Erro =  0.004545454545454545  wr =  0.12  R =  178 E + wrR =  21.364545454545453  T1 =  1.87464386320497  T2 =  -9.53127679958417  Error P =  1  Error N =  0\n",
            "( 21 ) Erro =  0.004694835680751174  wr =  0.12  R =  185 E + wrR =  22.20469483568075  T1 =  1.9683760563652184  T2 =  -10.007840639563378  Error P =  1  Error N =  0\n",
            "( 22 ) Erro =  0.004784688995215311  wr =  0.12  R =  189 E + wrR =  22.684784688995215  T1 =  2.062108249525467  T2 =  -10.484404479542587  Error P =  1  Error N =  0\n",
            "( 23 ) Erro =  0.0048543689320388345  wr =  0.12  R =  192 E + wrR =  23.04485436893204  T1 =  2.1558404426857156  T2 =  -10.960968319521795  Error P =  1  Error N =  0\n",
            "( 24 ) Erro =  0.0051813471502590676  wr =  0.12  R =  205 E + wrR =  24.605181347150257  T1 =  2.249572635845964  T2 =  -11.437532159501004  Error P =  1  Error N =  0\n",
            "( 25 ) Erro =  0.005405405405405406  wr =  0.12  R =  213 E + wrR =  25.565405405405404  T1 =  2.3433048290062124  T2 =  -11.914095999480212  Error P =  1  Error N =  0\n",
            "( 26 ) Erro =  0.00558659217877095  wr =  0.12  R =  219 E + wrR =  26.285586592178767  T1 =  2.437037022166461  T2 =  -12.39065983945942  Error P =  1  Error N =  0\n",
            "( 27 ) Erro =  0.005847953216374269  wr =  0.12  R =  227 E + wrR =  27.245847953216373  T1 =  2.5307692153267096  T2 =  -12.867223679438629  Error P =  1  Error N =  0\n",
            "( 28 ) Erro =  0.0  wr =  0.12  R =  237 E + wrR =  28.439999999999998  T1 =  2.624501408486958  T2 =  -13.34378751941784  Error P =  0  Error N =  0\n",
            "( 29 ) Erro =  0.0  wr =  0.12  R =  243 E + wrR =  29.16  T1 =  2.7182336016472064  T2 =  -13.820351359397044  Error P =  0  Error N =  0\n",
            "( 30 ) Erro =  0.0  wr =  0.12  R =  245 E + wrR =  29.4  T1 =  2.811965794807455  T2 =  -14.296915199376254  Error P =  0  Error N =  0\n",
            "( 31 ) Erro =  0.0  wr =  0.12  R =  252 E + wrR =  30.24  T1 =  2.905697987967703  T2 =  -14.773479039355463  Error P =  0  Error N =  0\n",
            "( 32 ) Erro =  0.0  wr =  0.12  R =  261 E + wrR =  31.32  T1 =  2.999430181127952  T2 =  -15.250042879334671  Error P =  0  Error N =  0\n",
            "( 33 ) Erro =  0.0  wr =  0.12  R =  269 E + wrR =  32.28  T1 =  3.0931623742882004  T2 =  -15.72660671931388  Error P =  0  Error N =  0\n",
            "( 34 ) Erro =  0.0  wr =  0.12  R =  279 E + wrR =  33.48  T1 =  3.1868945674484492  T2 =  -16.20317055929309  Error P =  0  Error N =  0\n",
            "( 35 ) Erro =  0.0  wr =  0.12  R =  287 E + wrR =  34.44  T1 =  3.2806267606086976  T2 =  -16.6797343992723  Error P =  0  Error N =  0\n",
            "( 36 ) Erro =  0.0  wr =  0.12  R =  293 E + wrR =  35.16  T1 =  3.3743589537689456  T2 =  -17.156298239251505  Error P =  0  Error N =  0\n",
            "( 37 ) Erro =  0.0  wr =  0.12  R =  302 E + wrR =  36.24  T1 =  3.4680911469291944  T2 =  -17.632862079230712  Error P =  0  Error N =  0\n",
            "( 38 ) Erro =  0.0  wr =  0.12  R =  309 E + wrR =  37.08  T1 =  3.561823340089443  T2 =  -18.109425919209922  Error P =  0  Error N =  0\n",
            "( 39 ) Erro =  0.0  wr =  0.12  R =  313 E + wrR =  37.559999999999995  T1 =  3.6555555332496916  T2 =  -18.585989759189133  Error P =  0  Error N =  0\n",
            "( 40 ) Erro =  0.0  wr =  0.12  R =  320 E + wrR =  38.4  T1 =  3.74928772640994  T2 =  -19.06255359916834  Error P =  0  Error N =  0\n",
            "( 41 ) Erro =  0.0  wr =  0.12  R =  323 E + wrR =  38.76  T1 =  3.8430199195701884  T2 =  -19.53911743914755  Error P =  0  Error N =  0\n",
            "( 42 ) Erro =  0.0  wr =  0.12  R =  326 E + wrR =  39.12  T1 =  3.936752112730437  T2 =  -20.015681279126756  Error P =  0  Error N =  0\n",
            "( 43 ) Erro =  0.0  wr =  0.12  R =  332 E + wrR =  39.839999999999996  T1 =  4.030484305890686  T2 =  -20.492245119105963  Error P =  0  Error N =  0\n",
            "( 44 ) Erro =  0.0  wr =  0.12  R =  339 E + wrR =  40.68  T1 =  4.124216499050934  T2 =  -20.968808959085173  Error P =  0  Error N =  0\n",
            "( 45 ) Erro =  0.0  wr =  0.12  R =  345 E + wrR =  41.4  T1 =  4.217948692211182  T2 =  -21.445372799064383  Error P =  0  Error N =  0\n",
            "( 46 ) Erro =  0.0  wr =  0.12  R =  352 E + wrR =  42.239999999999995  T1 =  4.311680885371431  T2 =  -21.92193663904359  Error P =  0  Error N =  0\n",
            "( 47 ) Erro =  0.0  wr =  0.12  R =  359 E + wrR =  43.08  T1 =  4.405413078531679  T2 =  -22.3985004790228  Error P =  0  Error N =  0\n",
            "( 48 ) Erro =  0.0  wr =  0.12  R =  361 E + wrR =  43.32  T1 =  4.499145271691928  T2 =  -22.875064319002007  Error P =  0  Error N =  0\n",
            "( 49 ) Erro =  0.0  wr =  0.12  R =  363 E + wrR =  43.559999999999995  T1 =  4.592877464852176  T2 =  -23.351628158981214  Error P =  0  Error N =  0\n",
            "( 50 ) Erro =  0.0  wr =  0.12  R =  365 E + wrR =  43.8  T1 =  4.686609658012425  T2 =  -23.828191998960424  Error P =  0  Error N =  0\n",
            "( 51 ) Erro =  0.0  wr =  0.12  R =  368 E + wrR =  44.16  T1 =  4.780341851172674  T2 =  -24.304755838939634  Error P =  0  Error N =  0\n",
            "( 52 ) Erro =  0.0  wr =  0.12  R =  371 E + wrR =  44.519999999999996  T1 =  4.874074044332922  T2 =  -24.78131967891884  Error P =  0  Error N =  0\n",
            "( 53 ) Erro =  0.0  wr =  0.12  R =  374 E + wrR =  44.879999999999995  T1 =  4.96780623749317  T2 =  -25.25788351889805  Error P =  0  Error N =  0\n",
            "( 54 ) Erro =  0.0  wr =  0.12  R =  375 E + wrR =  45.0  T1 =  5.061538430653419  T2 =  -25.734447358877258  Error P =  0  Error N =  0\n",
            "( 55 ) Erro =  0.0  wr =  0.12  R =  377 E + wrR =  45.239999999999995  T1 =  5.155270623813668  T2 =  -26.21101119885647  Error P =  0  Error N =  0\n",
            "( 56 ) Erro =  0.0  wr =  0.12  R =  378 E + wrR =  45.36  T1 =  5.249002816973916  T2 =  -26.68757503883568  Error P =  0  Error N =  0\n",
            "( 57 ) Erro =  0.0  wr =  0.12  R =  380 E + wrR =  45.6  T1 =  5.342735010134165  T2 =  -27.164138878814885  Error P =  0  Error N =  0\n",
            "( 58 ) Erro =  0.0  wr =  0.12  R =  382 E + wrR =  45.839999999999996  T1 =  5.436467203294413  T2 =  -27.64070271879409  Error P =  0  Error N =  0\n",
            "( 59 ) Erro =  0.0  wr =  0.12  R =  383 E + wrR =  45.96  T1 =  5.530199396454661  T2 =  -28.1172665587733  Error P =  0  Error N =  0\n",
            "( 60 ) Erro =  0.0  wr =  0.12  R =  384 E + wrR =  46.08  T1 =  5.62393158961491  T2 =  -28.59383039875251  Error P =  0  Error N =  0\n",
            "( 61 ) Erro =  0.0  wr =  0.12  R =  387 E + wrR =  46.44  T1 =  5.717663782775158  T2 =  -29.070394238731716  Error P =  0  Error N =  0\n",
            "( 62 ) Erro =  0.0  wr =  0.12  R =  389 E + wrR =  46.68  T1 =  5.811395975935406  T2 =  -29.546958078710926  Error P =  0  Error N =  0\n",
            "( 63 ) Erro =  0.0  wr =  0.12  R =  389 E + wrR =  46.68  T1 =  5.905128169095655  T2 =  -30.023521918690136  Error P =  0  Error N =  0\n",
            "( 64 ) Erro =  0.0  wr =  0.12  R =  389 E + wrR =  46.68  T1 =  5.998860362255904  T2 =  -30.500085758669343  Error P =  0  Error N =  0\n",
            "( 65 ) Erro =  0.0  wr =  0.12  R =  389 E + wrR =  46.68  T1 =  6.092592555416153  T2 =  -30.976649598648553  Error P =  0  Error N =  0\n",
            "( 66 ) Erro =  0.0  wr =  0.12  R =  389 E + wrR =  46.68  T1 =  6.186324748576401  T2 =  -31.45321343862776  Error P =  0  Error N =  0\n",
            "( 67 ) Erro =  0.0  wr =  0.12  R =  391 E + wrR =  46.92  T1 =  6.28005694173665  T2 =  -31.92977727860697  Error P =  0  Error N =  0\n",
            "( 68 ) Erro =  0.0  wr =  0.12  R =  393 E + wrR =  47.16  T1 =  6.3737891348968985  T2 =  -32.40634111858618  Error P =  0  Error N =  0\n",
            "( 69 ) Erro =  0.0  wr =  0.12  R =  394 E + wrR =  47.28  T1 =  6.467521328057146  T2 =  -32.88290495856539  Error P =  0  Error N =  0\n",
            "( 70 ) Erro =  0.0  wr =  0.12  R =  394 E + wrR =  47.28  T1 =  6.561253521217395  T2 =  -33.3594687985446  Error P =  0  Error N =  0\n",
            "( 71 ) Erro =  0.0  wr =  0.12  R =  394 E + wrR =  47.28  T1 =  6.654985714377643  T2 =  -33.836032638523804  Error P =  0  Error N =  0\n",
            "( 72 ) Erro =  0.0  wr =  0.12  R =  394 E + wrR =  47.28  T1 =  6.748717907537891  T2 =  -34.31259647850301  Error P =  0  Error N =  0\n",
            "( 73 ) Erro =  0.0  wr =  0.12  R =  394 E + wrR =  47.28  T1 =  6.84245010069814  T2 =  -34.78916031848222  Error P =  0  Error N =  0\n",
            "( 74 ) Erro =  0.0  wr =  0.12  R =  394 E + wrR =  47.28  T1 =  6.936182293858389  T2 =  -35.265724158461424  Error P =  0  Error N =  0\n",
            "( 75 ) Erro =  0.0  wr =  0.12  R =  394 E + wrR =  47.28  T1 =  7.029914487018637  T2 =  -35.74228799844064  Error P =  0  Error N =  0\n",
            "( 76 ) Erro =  0.0  wr =  0.12  R =  394 E + wrR =  47.28  T1 =  7.123646680178886  T2 =  -36.218851838419845  Error P =  0  Error N =  0\n",
            "( 77 ) Erro =  0.0  wr =  0.12  R =  396 E + wrR =  47.519999999999996  T1 =  7.217378873339134  T2 =  -36.69541567839905  Error P =  0  Error N =  0\n",
            "( 78 ) Erro =  0.0  wr =  0.12  R =  396 E + wrR =  47.519999999999996  T1 =  7.311111066499383  T2 =  -37.171979518378265  Error P =  0  Error N =  0\n",
            "( 79 ) Erro =  0.0  wr =  0.12  R =  396 E + wrR =  47.519999999999996  T1 =  7.404843259659631  T2 =  -37.64854335835747  Error P =  0  Error N =  0\n",
            "( 80 ) Erro =  0.0  wr =  0.12  R =  396 E + wrR =  47.519999999999996  T1 =  7.49857545281988  T2 =  -38.12510719833668  Error P =  0  Error N =  0\n",
            "( 81 ) Erro =  0.0  wr =  0.12  R =  396 E + wrR =  47.519999999999996  T1 =  7.592307645980129  T2 =  -38.60167103831589  Error P =  0  Error N =  0\n",
            "( 82 ) Erro =  0.0  wr =  0.12  R =  396 E + wrR =  47.519999999999996  T1 =  7.686039839140377  T2 =  -39.0782348782951  Error P =  0  Error N =  0\n",
            "( 83 ) Erro =  0.0  wr =  0.12  R =  396 E + wrR =  47.519999999999996  T1 =  7.779772032300626  T2 =  -39.554798718274306  Error P =  0  Error N =  0\n",
            "( 84 ) Erro =  0.0  wr =  0.12  R =  396 E + wrR =  47.519999999999996  T1 =  7.873504225460874  T2 =  -40.03136255825351  Error P =  0  Error N =  0\n",
            "( 85 ) Erro =  0.0  wr =  0.12  R =  396 E + wrR =  47.519999999999996  T1 =  7.9672364186211215  T2 =  -40.50792639823272  Error P =  0  Error N =  0\n",
            "( 86 ) Erro =  0.0  wr =  0.12  R =  396 E + wrR =  47.519999999999996  T1 =  8.060968611781371  T2 =  -40.984490238211926  Error P =  0  Error N =  0\n",
            "( 87 ) Erro =  0.0  wr =  0.12  R =  396 E + wrR =  47.519999999999996  T1 =  8.15470080494162  T2 =  -41.46105407819114  Error P =  0  Error N =  0\n",
            "( 88 ) Erro =  0.0  wr =  0.12  R =  396 E + wrR =  47.519999999999996  T1 =  8.248432998101867  T2 =  -41.937617918170346  Error P =  0  Error N =  0\n",
            "( 89 ) Erro =  0.0  wr =  0.12  R =  396 E + wrR =  47.519999999999996  T1 =  8.342165191262117  T2 =  -42.41418175814955  Error P =  0  Error N =  0\n",
            "( 90 ) Erro =  0.0  wr =  0.12  R =  396 E + wrR =  47.519999999999996  T1 =  8.435897384422365  T2 =  -42.89074559812877  Error P =  0  Error N =  0\n",
            "( 91 ) Erro =  0.0  wr =  0.12  R =  396 E + wrR =  47.519999999999996  T1 =  8.529629577582613  T2 =  -43.367309438107974  Error P =  0  Error N =  0\n",
            "( 92 ) Erro =  0.0  wr =  0.12  R =  396 E + wrR =  47.519999999999996  T1 =  8.623361770742862  T2 =  -43.84387327808718  Error P =  0  Error N =  0\n",
            "( 93 ) Erro =  0.0  wr =  0.12  R =  396 E + wrR =  47.519999999999996  T1 =  8.71709396390311  T2 =  -44.320437118066394  Error P =  0  Error N =  0\n",
            "( 94 ) Erro =  0.0  wr =  0.12  R =  396 E + wrR =  47.519999999999996  T1 =  8.810826157063358  T2 =  -44.7970009580456  Error P =  0  Error N =  0\n",
            "( 95 ) Erro =  0.0  wr =  0.12  R =  396 E + wrR =  47.519999999999996  T1 =  8.904558350223608  T2 =  -45.27356479802481  Error P =  0  Error N =  0\n",
            "( 96 ) Erro =  0.0  wr =  0.12  R =  396 E + wrR =  47.519999999999996  T1 =  8.998290543383856  T2 =  -45.750128638004014  Error P =  0  Error N =  0\n",
            "( 97 ) Erro =  0.0  wr =  0.12  R =  396 E + wrR =  47.519999999999996  T1 =  9.092022736544104  T2 =  -46.22669247798322  Error P =  0  Error N =  0\n",
            "( 98 ) Erro =  0.0  wr =  0.12  R =  396 E + wrR =  47.519999999999996  T1 =  9.185754929704352  T2 =  -46.70325631796243  Error P =  0  Error N =  0\n",
            "( 99 ) Erro =  0.0  wr =  0.12  R =  396 E + wrR =  47.519999999999996  T1 =  9.279487122864602  T2 =  -47.17982015794164  Error P =  0  Error N =  0\n",
            "( 100 ) Erro =  0.0  wr =  0.12  R =  397 E + wrR =  47.64  T1 =  9.37321931602485  T2 =  -47.65638399792085  Error P =  0  Error N =  0\n",
            "0 1.2309278350515465\n",
            "( 1 ) Erro =  0.030927835051546393  wr =  0.16  R =  10 E + wrR =  1.6309278350515464  T1 =  0.0937321931602485  T2 =  -0.4765638399792085  Error P =  8  Error N =  4\n",
            "( 2 ) Erro =  0.0234375  wr =  0.16  R =  14 E + wrR =  2.2634375  T1 =  0.187464386320497  T2 =  -0.953127679958417  Error P =  7  Error N =  2\n",
            "( 3 ) Erro =  0.016172506738544475  wr =  0.16  R =  27 E + wrR =  4.336172506738545  T1 =  0.2811965794807455  T2 =  -1.4296915199376254  Error P =  6  Error N =  0\n",
            "( 4 ) Erro =  0.013850415512465374  wr =  0.16  R =  37 E + wrR =  5.933850415512465  T1 =  0.374928772640994  T2 =  -1.906255359916834  Error P =  5  Error N =  0\n",
            "( 5 ) Erro =  0.0113314447592068  wr =  0.16  R =  45 E + wrR =  7.211331444759207  T1 =  0.4686609658012425  T2 =  -2.3828191998960424  Error P =  4  Error N =  0\n",
            "( 6 ) Erro =  0.011594202898550725  wr =  0.16  R =  53 E + wrR =  8.49159420289855  T1 =  0.562393158961491  T2 =  -2.859383039875251  Error P =  4  Error N =  0\n",
            "( 7 ) Erro =  0.012012012012012012  wr =  0.16  R =  65 E + wrR =  10.412012012012012  T1 =  0.6561253521217395  T2 =  -3.33594687985446  Error P =  4  Error N =  0\n",
            "( 8 ) Erro =  0.0121580547112462  wr =  0.16  R =  69 E + wrR =  11.052158054711247  T1 =  0.749857545281988  T2 =  -3.812510719833668  Error P =  4  Error N =  0\n",
            "( 9 ) Erro =  0.00946372239747634  wr =  0.16  R =  81 E + wrR =  12.969463722397478  T1 =  0.8435897384422364  T2 =  -4.289074559812876  Error P =  3  Error N =  0\n",
            "( 10 ) Erro =  0.006535947712418301  wr =  0.16  R =  92 E + wrR =  14.726535947712419  T1 =  0.937321931602485  T2 =  -4.765638399792085  Error P =  2  Error N =  0\n",
            "( 11 ) Erro =  0.006711409395973154  wr =  0.16  R =  100 E + wrR =  16.006711409395972  T1 =  1.0310541247627334  T2 =  -5.242202239771293  Error P =  2  Error N =  0\n",
            "( 12 ) Erro =  0.006968641114982578  wr =  0.16  R =  111 E + wrR =  17.766968641114985  T1 =  1.124786317922982  T2 =  -5.718766079750502  Error P =  2  Error N =  0\n",
            "( 13 ) Erro =  0.0071174377224199285  wr =  0.16  R =  117 E + wrR =  18.72711743772242  T1 =  1.2185185110832304  T2 =  -6.19532991972971  Error P =  2  Error N =  0\n",
            "( 14 ) Erro =  0.0037313432835820895  wr =  0.16  R =  130 E + wrR =  20.803731343283584  T1 =  1.312250704243479  T2 =  -6.67189375970892  Error P =  1  Error N =  0\n",
            "( 15 ) Erro =  0.0038910505836575876  wr =  0.16  R =  141 E + wrR =  22.563891050583656  T1 =  1.4059828974037274  T2 =  -7.148457599688127  Error P =  1  Error N =  0\n",
            "( 16 ) Erro =  0.00398406374501992  wr =  0.16  R =  147 E + wrR =  23.52398406374502  T1 =  1.499715090563976  T2 =  -7.625021439667336  Error P =  1  Error N =  0\n",
            "( 17 ) Erro =  0.004048582995951417  wr =  0.16  R =  151 E + wrR =  24.164048582995953  T1 =  1.5934472837242246  T2 =  -8.101585279646544  Error P =  1  Error N =  0\n",
            "( 18 ) Erro =  0.004201680672268907  wr =  0.16  R =  160 E + wrR =  25.604201680672272  T1 =  1.6871794768844728  T2 =  -8.578149119625753  Error P =  1  Error N =  0\n",
            "( 19 ) Erro =  0.004273504273504274  wr =  0.16  R =  164 E + wrR =  26.244273504273508  T1 =  1.7809116700447214  T2 =  -9.054712959604961  Error P =  1  Error N =  0\n",
            "( 20 ) Erro =  0.004545454545454545  wr =  0.16  R =  178 E + wrR =  28.484545454545454  T1 =  1.87464386320497  T2 =  -9.53127679958417  Error P =  1  Error N =  0\n",
            "( 21 ) Erro =  0.004694835680751174  wr =  0.16  R =  185 E + wrR =  29.604694835680753  T1 =  1.9683760563652184  T2 =  -10.007840639563378  Error P =  1  Error N =  0\n",
            "( 22 ) Erro =  0.004784688995215311  wr =  0.16  R =  189 E + wrR =  30.244784688995217  T1 =  2.062108249525467  T2 =  -10.484404479542587  Error P =  1  Error N =  0\n",
            "( 23 ) Erro =  0.0048543689320388345  wr =  0.16  R =  192 E + wrR =  30.72485436893204  T1 =  2.1558404426857156  T2 =  -10.960968319521795  Error P =  1  Error N =  0\n",
            "( 24 ) Erro =  0.0051813471502590676  wr =  0.16  R =  205 E + wrR =  32.80518134715025  T1 =  2.249572635845964  T2 =  -11.437532159501004  Error P =  1  Error N =  0\n",
            "( 25 ) Erro =  0.005405405405405406  wr =  0.16  R =  213 E + wrR =  34.0854054054054  T1 =  2.3433048290062124  T2 =  -11.914095999480212  Error P =  1  Error N =  0\n",
            "( 26 ) Erro =  0.00558659217877095  wr =  0.16  R =  219 E + wrR =  35.04558659217877  T1 =  2.437037022166461  T2 =  -12.39065983945942  Error P =  1  Error N =  0\n",
            "( 27 ) Erro =  0.005847953216374269  wr =  0.16  R =  227 E + wrR =  36.325847953216375  T1 =  2.5307692153267096  T2 =  -12.867223679438629  Error P =  1  Error N =  0\n",
            "( 28 ) Erro =  0.0  wr =  0.16  R =  237 E + wrR =  37.92  T1 =  2.624501408486958  T2 =  -13.34378751941784  Error P =  0  Error N =  0\n",
            "( 29 ) Erro =  0.0  wr =  0.16  R =  243 E + wrR =  38.88  T1 =  2.7182336016472064  T2 =  -13.820351359397044  Error P =  0  Error N =  0\n",
            "( 30 ) Erro =  0.0  wr =  0.16  R =  245 E + wrR =  39.2  T1 =  2.811965794807455  T2 =  -14.296915199376254  Error P =  0  Error N =  0\n",
            "( 31 ) Erro =  0.0  wr =  0.16  R =  252 E + wrR =  40.32  T1 =  2.905697987967703  T2 =  -14.773479039355463  Error P =  0  Error N =  0\n",
            "( 32 ) Erro =  0.0  wr =  0.16  R =  261 E + wrR =  41.76  T1 =  2.999430181127952  T2 =  -15.250042879334671  Error P =  0  Error N =  0\n",
            "( 33 ) Erro =  0.0  wr =  0.16  R =  269 E + wrR =  43.04  T1 =  3.0931623742882004  T2 =  -15.72660671931388  Error P =  0  Error N =  0\n",
            "( 34 ) Erro =  0.0  wr =  0.16  R =  279 E + wrR =  44.64  T1 =  3.1868945674484492  T2 =  -16.20317055929309  Error P =  0  Error N =  0\n",
            "( 35 ) Erro =  0.0  wr =  0.16  R =  287 E + wrR =  45.92  T1 =  3.2806267606086976  T2 =  -16.6797343992723  Error P =  0  Error N =  0\n",
            "( 36 ) Erro =  0.0  wr =  0.16  R =  293 E + wrR =  46.88  T1 =  3.3743589537689456  T2 =  -17.156298239251505  Error P =  0  Error N =  0\n",
            "( 37 ) Erro =  0.0  wr =  0.16  R =  302 E + wrR =  48.32  T1 =  3.4680911469291944  T2 =  -17.632862079230712  Error P =  0  Error N =  0\n",
            "( 38 ) Erro =  0.0  wr =  0.16  R =  309 E + wrR =  49.44  T1 =  3.561823340089443  T2 =  -18.109425919209922  Error P =  0  Error N =  0\n",
            "( 39 ) Erro =  0.0  wr =  0.16  R =  313 E + wrR =  50.08  T1 =  3.6555555332496916  T2 =  -18.585989759189133  Error P =  0  Error N =  0\n",
            "( 40 ) Erro =  0.0  wr =  0.16  R =  320 E + wrR =  51.2  T1 =  3.74928772640994  T2 =  -19.06255359916834  Error P =  0  Error N =  0\n",
            "( 41 ) Erro =  0.0  wr =  0.16  R =  323 E + wrR =  51.68  T1 =  3.8430199195701884  T2 =  -19.53911743914755  Error P =  0  Error N =  0\n",
            "( 42 ) Erro =  0.0  wr =  0.16  R =  326 E + wrR =  52.160000000000004  T1 =  3.936752112730437  T2 =  -20.015681279126756  Error P =  0  Error N =  0\n",
            "( 43 ) Erro =  0.0  wr =  0.16  R =  332 E + wrR =  53.120000000000005  T1 =  4.030484305890686  T2 =  -20.492245119105963  Error P =  0  Error N =  0\n",
            "( 44 ) Erro =  0.0  wr =  0.16  R =  339 E + wrR =  54.24  T1 =  4.124216499050934  T2 =  -20.968808959085173  Error P =  0  Error N =  0\n",
            "( 45 ) Erro =  0.0  wr =  0.16  R =  345 E + wrR =  55.2  T1 =  4.217948692211182  T2 =  -21.445372799064383  Error P =  0  Error N =  0\n",
            "( 46 ) Erro =  0.0  wr =  0.16  R =  352 E + wrR =  56.32  T1 =  4.311680885371431  T2 =  -21.92193663904359  Error P =  0  Error N =  0\n",
            "( 47 ) Erro =  0.0  wr =  0.16  R =  359 E + wrR =  57.44  T1 =  4.405413078531679  T2 =  -22.3985004790228  Error P =  0  Error N =  0\n",
            "( 48 ) Erro =  0.0  wr =  0.16  R =  361 E + wrR =  57.76  T1 =  4.499145271691928  T2 =  -22.875064319002007  Error P =  0  Error N =  0\n",
            "( 49 ) Erro =  0.0  wr =  0.16  R =  363 E + wrR =  58.08  T1 =  4.592877464852176  T2 =  -23.351628158981214  Error P =  0  Error N =  0\n",
            "( 50 ) Erro =  0.0  wr =  0.16  R =  365 E + wrR =  58.4  T1 =  4.686609658012425  T2 =  -23.828191998960424  Error P =  0  Error N =  0\n",
            "( 51 ) Erro =  0.0  wr =  0.16  R =  368 E + wrR =  58.88  T1 =  4.780341851172674  T2 =  -24.304755838939634  Error P =  0  Error N =  0\n",
            "( 52 ) Erro =  0.0  wr =  0.16  R =  371 E + wrR =  59.36  T1 =  4.874074044332922  T2 =  -24.78131967891884  Error P =  0  Error N =  0\n",
            "( 53 ) Erro =  0.0  wr =  0.16  R =  374 E + wrR =  59.84  T1 =  4.96780623749317  T2 =  -25.25788351889805  Error P =  0  Error N =  0\n",
            "( 54 ) Erro =  0.0  wr =  0.16  R =  375 E + wrR =  60.0  T1 =  5.061538430653419  T2 =  -25.734447358877258  Error P =  0  Error N =  0\n",
            "( 55 ) Erro =  0.0  wr =  0.16  R =  377 E + wrR =  60.32  T1 =  5.155270623813668  T2 =  -26.21101119885647  Error P =  0  Error N =  0\n",
            "( 56 ) Erro =  0.0  wr =  0.16  R =  378 E + wrR =  60.480000000000004  T1 =  5.249002816973916  T2 =  -26.68757503883568  Error P =  0  Error N =  0\n",
            "( 57 ) Erro =  0.0  wr =  0.16  R =  380 E + wrR =  60.800000000000004  T1 =  5.342735010134165  T2 =  -27.164138878814885  Error P =  0  Error N =  0\n",
            "( 58 ) Erro =  0.0  wr =  0.16  R =  382 E + wrR =  61.120000000000005  T1 =  5.436467203294413  T2 =  -27.64070271879409  Error P =  0  Error N =  0\n",
            "( 59 ) Erro =  0.0  wr =  0.16  R =  383 E + wrR =  61.28  T1 =  5.530199396454661  T2 =  -28.1172665587733  Error P =  0  Error N =  0\n",
            "( 60 ) Erro =  0.0  wr =  0.16  R =  384 E + wrR =  61.44  T1 =  5.62393158961491  T2 =  -28.59383039875251  Error P =  0  Error N =  0\n",
            "( 61 ) Erro =  0.0  wr =  0.16  R =  387 E + wrR =  61.92  T1 =  5.717663782775158  T2 =  -29.070394238731716  Error P =  0  Error N =  0\n",
            "( 62 ) Erro =  0.0  wr =  0.16  R =  389 E + wrR =  62.24  T1 =  5.811395975935406  T2 =  -29.546958078710926  Error P =  0  Error N =  0\n",
            "( 63 ) Erro =  0.0  wr =  0.16  R =  389 E + wrR =  62.24  T1 =  5.905128169095655  T2 =  -30.023521918690136  Error P =  0  Error N =  0\n",
            "( 64 ) Erro =  0.0  wr =  0.16  R =  389 E + wrR =  62.24  T1 =  5.998860362255904  T2 =  -30.500085758669343  Error P =  0  Error N =  0\n",
            "( 65 ) Erro =  0.0  wr =  0.16  R =  389 E + wrR =  62.24  T1 =  6.092592555416153  T2 =  -30.976649598648553  Error P =  0  Error N =  0\n",
            "( 66 ) Erro =  0.0  wr =  0.16  R =  389 E + wrR =  62.24  T1 =  6.186324748576401  T2 =  -31.45321343862776  Error P =  0  Error N =  0\n",
            "( 67 ) Erro =  0.0  wr =  0.16  R =  391 E + wrR =  62.56  T1 =  6.28005694173665  T2 =  -31.92977727860697  Error P =  0  Error N =  0\n",
            "( 68 ) Erro =  0.0  wr =  0.16  R =  393 E + wrR =  62.88  T1 =  6.3737891348968985  T2 =  -32.40634111858618  Error P =  0  Error N =  0\n",
            "( 69 ) Erro =  0.0  wr =  0.16  R =  394 E + wrR =  63.04  T1 =  6.467521328057146  T2 =  -32.88290495856539  Error P =  0  Error N =  0\n",
            "( 70 ) Erro =  0.0  wr =  0.16  R =  394 E + wrR =  63.04  T1 =  6.561253521217395  T2 =  -33.3594687985446  Error P =  0  Error N =  0\n",
            "( 71 ) Erro =  0.0  wr =  0.16  R =  394 E + wrR =  63.04  T1 =  6.654985714377643  T2 =  -33.836032638523804  Error P =  0  Error N =  0\n",
            "( 72 ) Erro =  0.0  wr =  0.16  R =  394 E + wrR =  63.04  T1 =  6.748717907537891  T2 =  -34.31259647850301  Error P =  0  Error N =  0\n",
            "( 73 ) Erro =  0.0  wr =  0.16  R =  394 E + wrR =  63.04  T1 =  6.84245010069814  T2 =  -34.78916031848222  Error P =  0  Error N =  0\n",
            "( 74 ) Erro =  0.0  wr =  0.16  R =  394 E + wrR =  63.04  T1 =  6.936182293858389  T2 =  -35.265724158461424  Error P =  0  Error N =  0\n",
            "( 75 ) Erro =  0.0  wr =  0.16  R =  394 E + wrR =  63.04  T1 =  7.029914487018637  T2 =  -35.74228799844064  Error P =  0  Error N =  0\n",
            "( 76 ) Erro =  0.0  wr =  0.16  R =  394 E + wrR =  63.04  T1 =  7.123646680178886  T2 =  -36.218851838419845  Error P =  0  Error N =  0\n",
            "( 77 ) Erro =  0.0  wr =  0.16  R =  396 E + wrR =  63.36  T1 =  7.217378873339134  T2 =  -36.69541567839905  Error P =  0  Error N =  0\n",
            "( 78 ) Erro =  0.0  wr =  0.16  R =  396 E + wrR =  63.36  T1 =  7.311111066499383  T2 =  -37.171979518378265  Error P =  0  Error N =  0\n",
            "( 79 ) Erro =  0.0  wr =  0.16  R =  396 E + wrR =  63.36  T1 =  7.404843259659631  T2 =  -37.64854335835747  Error P =  0  Error N =  0\n",
            "( 80 ) Erro =  0.0  wr =  0.16  R =  396 E + wrR =  63.36  T1 =  7.49857545281988  T2 =  -38.12510719833668  Error P =  0  Error N =  0\n",
            "( 81 ) Erro =  0.0  wr =  0.16  R =  396 E + wrR =  63.36  T1 =  7.592307645980129  T2 =  -38.60167103831589  Error P =  0  Error N =  0\n",
            "( 82 ) Erro =  0.0  wr =  0.16  R =  396 E + wrR =  63.36  T1 =  7.686039839140377  T2 =  -39.0782348782951  Error P =  0  Error N =  0\n",
            "( 83 ) Erro =  0.0  wr =  0.16  R =  396 E + wrR =  63.36  T1 =  7.779772032300626  T2 =  -39.554798718274306  Error P =  0  Error N =  0\n",
            "( 84 ) Erro =  0.0  wr =  0.16  R =  396 E + wrR =  63.36  T1 =  7.873504225460874  T2 =  -40.03136255825351  Error P =  0  Error N =  0\n",
            "( 85 ) Erro =  0.0  wr =  0.16  R =  396 E + wrR =  63.36  T1 =  7.9672364186211215  T2 =  -40.50792639823272  Error P =  0  Error N =  0\n",
            "( 86 ) Erro =  0.0  wr =  0.16  R =  396 E + wrR =  63.36  T1 =  8.060968611781371  T2 =  -40.984490238211926  Error P =  0  Error N =  0\n",
            "( 87 ) Erro =  0.0  wr =  0.16  R =  396 E + wrR =  63.36  T1 =  8.15470080494162  T2 =  -41.46105407819114  Error P =  0  Error N =  0\n",
            "( 88 ) Erro =  0.0  wr =  0.16  R =  396 E + wrR =  63.36  T1 =  8.248432998101867  T2 =  -41.937617918170346  Error P =  0  Error N =  0\n",
            "( 89 ) Erro =  0.0  wr =  0.16  R =  396 E + wrR =  63.36  T1 =  8.342165191262117  T2 =  -42.41418175814955  Error P =  0  Error N =  0\n",
            "( 90 ) Erro =  0.0  wr =  0.16  R =  396 E + wrR =  63.36  T1 =  8.435897384422365  T2 =  -42.89074559812877  Error P =  0  Error N =  0\n",
            "( 91 ) Erro =  0.0  wr =  0.16  R =  396 E + wrR =  63.36  T1 =  8.529629577582613  T2 =  -43.367309438107974  Error P =  0  Error N =  0\n",
            "( 92 ) Erro =  0.0  wr =  0.16  R =  396 E + wrR =  63.36  T1 =  8.623361770742862  T2 =  -43.84387327808718  Error P =  0  Error N =  0\n",
            "( 93 ) Erro =  0.0  wr =  0.16  R =  396 E + wrR =  63.36  T1 =  8.71709396390311  T2 =  -44.320437118066394  Error P =  0  Error N =  0\n",
            "( 94 ) Erro =  0.0  wr =  0.16  R =  396 E + wrR =  63.36  T1 =  8.810826157063358  T2 =  -44.7970009580456  Error P =  0  Error N =  0\n",
            "( 95 ) Erro =  0.0  wr =  0.16  R =  396 E + wrR =  63.36  T1 =  8.904558350223608  T2 =  -45.27356479802481  Error P =  0  Error N =  0\n",
            "( 96 ) Erro =  0.0  wr =  0.16  R =  396 E + wrR =  63.36  T1 =  8.998290543383856  T2 =  -45.750128638004014  Error P =  0  Error N =  0\n",
            "( 97 ) Erro =  0.0  wr =  0.16  R =  396 E + wrR =  63.36  T1 =  9.092022736544104  T2 =  -46.22669247798322  Error P =  0  Error N =  0\n",
            "( 98 ) Erro =  0.0  wr =  0.16  R =  396 E + wrR =  63.36  T1 =  9.185754929704352  T2 =  -46.70325631796243  Error P =  0  Error N =  0\n",
            "( 99 ) Erro =  0.0  wr =  0.16  R =  396 E + wrR =  63.36  T1 =  9.279487122864602  T2 =  -47.17982015794164  Error P =  0  Error N =  0\n",
            "( 100 ) Erro =  0.0  wr =  0.16  R =  397 E + wrR =  63.52  T1 =  9.37321931602485  T2 =  -47.65638399792085  Error P =  0  Error N =  0\n",
            "0 1.6309278350515464\n",
            "( 1 ) Erro =  0.030927835051546393  wr =  0.2  R =  10 E + wrR =  2.0309278350515463  T1 =  0.0937321931602485  T2 =  -0.4765638399792085  Error P =  8  Error N =  4\n",
            "( 2 ) Erro =  0.0234375  wr =  0.2  R =  14 E + wrR =  2.8234375000000003  T1 =  0.187464386320497  T2 =  -0.953127679958417  Error P =  7  Error N =  2\n",
            "( 3 ) Erro =  0.016172506738544475  wr =  0.2  R =  27 E + wrR =  5.416172506738545  T1 =  0.2811965794807455  T2 =  -1.4296915199376254  Error P =  6  Error N =  0\n",
            "( 4 ) Erro =  0.013850415512465374  wr =  0.2  R =  37 E + wrR =  7.413850415512465  T1 =  0.374928772640994  T2 =  -1.906255359916834  Error P =  5  Error N =  0\n",
            "( 5 ) Erro =  0.0113314447592068  wr =  0.2  R =  45 E + wrR =  9.011331444759207  T1 =  0.4686609658012425  T2 =  -2.3828191998960424  Error P =  4  Error N =  0\n",
            "( 6 ) Erro =  0.011594202898550725  wr =  0.2  R =  53 E + wrR =  10.611594202898551  T1 =  0.562393158961491  T2 =  -2.859383039875251  Error P =  4  Error N =  0\n",
            "( 7 ) Erro =  0.012012012012012012  wr =  0.2  R =  65 E + wrR =  13.012012012012011  T1 =  0.6561253521217395  T2 =  -3.33594687985446  Error P =  4  Error N =  0\n",
            "( 8 ) Erro =  0.0121580547112462  wr =  0.2  R =  69 E + wrR =  13.812158054711247  T1 =  0.749857545281988  T2 =  -3.812510719833668  Error P =  4  Error N =  0\n",
            "( 9 ) Erro =  0.00946372239747634  wr =  0.2  R =  81 E + wrR =  16.209463722397476  T1 =  0.8435897384422364  T2 =  -4.289074559812876  Error P =  3  Error N =  0\n",
            "( 10 ) Erro =  0.006535947712418301  wr =  0.2  R =  92 E + wrR =  18.40653594771242  T1 =  0.937321931602485  T2 =  -4.765638399792085  Error P =  2  Error N =  0\n",
            "( 11 ) Erro =  0.006711409395973154  wr =  0.2  R =  100 E + wrR =  20.006711409395972  T1 =  1.0310541247627334  T2 =  -5.242202239771293  Error P =  2  Error N =  0\n",
            "( 12 ) Erro =  0.006968641114982578  wr =  0.2  R =  111 E + wrR =  22.206968641114987  T1 =  1.124786317922982  T2 =  -5.718766079750502  Error P =  2  Error N =  0\n",
            "( 13 ) Erro =  0.0071174377224199285  wr =  0.2  R =  117 E + wrR =  23.407117437722423  T1 =  1.2185185110832304  T2 =  -6.19532991972971  Error P =  2  Error N =  0\n",
            "( 14 ) Erro =  0.0037313432835820895  wr =  0.2  R =  130 E + wrR =  26.003731343283583  T1 =  1.312250704243479  T2 =  -6.67189375970892  Error P =  1  Error N =  0\n",
            "( 15 ) Erro =  0.0038910505836575876  wr =  0.2  R =  141 E + wrR =  28.20389105058366  T1 =  1.4059828974037274  T2 =  -7.148457599688127  Error P =  1  Error N =  0\n",
            "( 16 ) Erro =  0.00398406374501992  wr =  0.2  R =  147 E + wrR =  29.40398406374502  T1 =  1.499715090563976  T2 =  -7.625021439667336  Error P =  1  Error N =  0\n",
            "( 17 ) Erro =  0.004048582995951417  wr =  0.2  R =  151 E + wrR =  30.204048582995956  T1 =  1.5934472837242246  T2 =  -8.101585279646544  Error P =  1  Error N =  0\n",
            "( 18 ) Erro =  0.004201680672268907  wr =  0.2  R =  160 E + wrR =  32.00420168067227  T1 =  1.6871794768844728  T2 =  -8.578149119625753  Error P =  1  Error N =  0\n",
            "( 19 ) Erro =  0.004273504273504274  wr =  0.2  R =  164 E + wrR =  32.80427350427351  T1 =  1.7809116700447214  T2 =  -9.054712959604961  Error P =  1  Error N =  0\n",
            "( 20 ) Erro =  0.004545454545454545  wr =  0.2  R =  178 E + wrR =  35.60454545454546  T1 =  1.87464386320497  T2 =  -9.53127679958417  Error P =  1  Error N =  0\n",
            "( 21 ) Erro =  0.004694835680751174  wr =  0.2  R =  185 E + wrR =  37.00469483568075  T1 =  1.9683760563652184  T2 =  -10.007840639563378  Error P =  1  Error N =  0\n",
            "( 22 ) Erro =  0.004784688995215311  wr =  0.2  R =  189 E + wrR =  37.80478468899522  T1 =  2.062108249525467  T2 =  -10.484404479542587  Error P =  1  Error N =  0\n",
            "( 23 ) Erro =  0.0048543689320388345  wr =  0.2  R =  192 E + wrR =  38.40485436893204  T1 =  2.1558404426857156  T2 =  -10.960968319521795  Error P =  1  Error N =  0\n",
            "( 24 ) Erro =  0.0051813471502590676  wr =  0.2  R =  205 E + wrR =  41.005181347150256  T1 =  2.249572635845964  T2 =  -11.437532159501004  Error P =  1  Error N =  0\n",
            "( 25 ) Erro =  0.005405405405405406  wr =  0.2  R =  213 E + wrR =  42.605405405405406  T1 =  2.3433048290062124  T2 =  -11.914095999480212  Error P =  1  Error N =  0\n",
            "( 26 ) Erro =  0.00558659217877095  wr =  0.2  R =  219 E + wrR =  43.80558659217878  T1 =  2.437037022166461  T2 =  -12.39065983945942  Error P =  1  Error N =  0\n",
            "( 27 ) Erro =  0.005847953216374269  wr =  0.2  R =  227 E + wrR =  45.40584795321638  T1 =  2.5307692153267096  T2 =  -12.867223679438629  Error P =  1  Error N =  0\n",
            "( 28 ) Erro =  0.0  wr =  0.2  R =  237 E + wrR =  47.400000000000006  T1 =  2.624501408486958  T2 =  -13.34378751941784  Error P =  0  Error N =  0\n",
            "( 29 ) Erro =  0.0  wr =  0.2  R =  243 E + wrR =  48.6  T1 =  2.7182336016472064  T2 =  -13.820351359397044  Error P =  0  Error N =  0\n",
            "( 30 ) Erro =  0.0  wr =  0.2  R =  245 E + wrR =  49.0  T1 =  2.811965794807455  T2 =  -14.296915199376254  Error P =  0  Error N =  0\n",
            "( 31 ) Erro =  0.0  wr =  0.2  R =  252 E + wrR =  50.400000000000006  T1 =  2.905697987967703  T2 =  -14.773479039355463  Error P =  0  Error N =  0\n",
            "( 32 ) Erro =  0.0  wr =  0.2  R =  261 E + wrR =  52.2  T1 =  2.999430181127952  T2 =  -15.250042879334671  Error P =  0  Error N =  0\n",
            "( 33 ) Erro =  0.0  wr =  0.2  R =  269 E + wrR =  53.800000000000004  T1 =  3.0931623742882004  T2 =  -15.72660671931388  Error P =  0  Error N =  0\n",
            "( 34 ) Erro =  0.0  wr =  0.2  R =  279 E + wrR =  55.800000000000004  T1 =  3.1868945674484492  T2 =  -16.20317055929309  Error P =  0  Error N =  0\n",
            "( 35 ) Erro =  0.0  wr =  0.2  R =  287 E + wrR =  57.400000000000006  T1 =  3.2806267606086976  T2 =  -16.6797343992723  Error P =  0  Error N =  0\n",
            "( 36 ) Erro =  0.0  wr =  0.2  R =  293 E + wrR =  58.6  T1 =  3.3743589537689456  T2 =  -17.156298239251505  Error P =  0  Error N =  0\n",
            "( 37 ) Erro =  0.0  wr =  0.2  R =  302 E + wrR =  60.400000000000006  T1 =  3.4680911469291944  T2 =  -17.632862079230712  Error P =  0  Error N =  0\n",
            "( 38 ) Erro =  0.0  wr =  0.2  R =  309 E + wrR =  61.800000000000004  T1 =  3.561823340089443  T2 =  -18.109425919209922  Error P =  0  Error N =  0\n",
            "( 39 ) Erro =  0.0  wr =  0.2  R =  313 E + wrR =  62.6  T1 =  3.6555555332496916  T2 =  -18.585989759189133  Error P =  0  Error N =  0\n",
            "( 40 ) Erro =  0.0  wr =  0.2  R =  320 E + wrR =  64.0  T1 =  3.74928772640994  T2 =  -19.06255359916834  Error P =  0  Error N =  0\n",
            "( 41 ) Erro =  0.0  wr =  0.2  R =  323 E + wrR =  64.60000000000001  T1 =  3.8430199195701884  T2 =  -19.53911743914755  Error P =  0  Error N =  0\n",
            "( 42 ) Erro =  0.0  wr =  0.2  R =  326 E + wrR =  65.2  T1 =  3.936752112730437  T2 =  -20.015681279126756  Error P =  0  Error N =  0\n",
            "( 43 ) Erro =  0.0  wr =  0.2  R =  332 E + wrR =  66.4  T1 =  4.030484305890686  T2 =  -20.492245119105963  Error P =  0  Error N =  0\n",
            "( 44 ) Erro =  0.0  wr =  0.2  R =  339 E + wrR =  67.8  T1 =  4.124216499050934  T2 =  -20.968808959085173  Error P =  0  Error N =  0\n",
            "( 45 ) Erro =  0.0  wr =  0.2  R =  345 E + wrR =  69.0  T1 =  4.217948692211182  T2 =  -21.445372799064383  Error P =  0  Error N =  0\n",
            "( 46 ) Erro =  0.0  wr =  0.2  R =  352 E + wrR =  70.4  T1 =  4.311680885371431  T2 =  -21.92193663904359  Error P =  0  Error N =  0\n",
            "( 47 ) Erro =  0.0  wr =  0.2  R =  359 E + wrR =  71.8  T1 =  4.405413078531679  T2 =  -22.3985004790228  Error P =  0  Error N =  0\n",
            "( 48 ) Erro =  0.0  wr =  0.2  R =  361 E + wrR =  72.2  T1 =  4.499145271691928  T2 =  -22.875064319002007  Error P =  0  Error N =  0\n",
            "( 49 ) Erro =  0.0  wr =  0.2  R =  363 E + wrR =  72.60000000000001  T1 =  4.592877464852176  T2 =  -23.351628158981214  Error P =  0  Error N =  0\n",
            "( 50 ) Erro =  0.0  wr =  0.2  R =  365 E + wrR =  73.0  T1 =  4.686609658012425  T2 =  -23.828191998960424  Error P =  0  Error N =  0\n",
            "( 51 ) Erro =  0.0  wr =  0.2  R =  368 E + wrR =  73.60000000000001  T1 =  4.780341851172674  T2 =  -24.304755838939634  Error P =  0  Error N =  0\n",
            "( 52 ) Erro =  0.0  wr =  0.2  R =  371 E + wrR =  74.2  T1 =  4.874074044332922  T2 =  -24.78131967891884  Error P =  0  Error N =  0\n",
            "( 53 ) Erro =  0.0  wr =  0.2  R =  374 E + wrR =  74.8  T1 =  4.96780623749317  T2 =  -25.25788351889805  Error P =  0  Error N =  0\n",
            "( 54 ) Erro =  0.0  wr =  0.2  R =  375 E + wrR =  75.0  T1 =  5.061538430653419  T2 =  -25.734447358877258  Error P =  0  Error N =  0\n",
            "( 55 ) Erro =  0.0  wr =  0.2  R =  377 E + wrR =  75.4  T1 =  5.155270623813668  T2 =  -26.21101119885647  Error P =  0  Error N =  0\n",
            "( 56 ) Erro =  0.0  wr =  0.2  R =  378 E + wrR =  75.60000000000001  T1 =  5.249002816973916  T2 =  -26.68757503883568  Error P =  0  Error N =  0\n",
            "( 57 ) Erro =  0.0  wr =  0.2  R =  380 E + wrR =  76.0  T1 =  5.342735010134165  T2 =  -27.164138878814885  Error P =  0  Error N =  0\n",
            "( 58 ) Erro =  0.0  wr =  0.2  R =  382 E + wrR =  76.4  T1 =  5.436467203294413  T2 =  -27.64070271879409  Error P =  0  Error N =  0\n",
            "( 59 ) Erro =  0.0  wr =  0.2  R =  383 E + wrR =  76.60000000000001  T1 =  5.530199396454661  T2 =  -28.1172665587733  Error P =  0  Error N =  0\n",
            "( 60 ) Erro =  0.0  wr =  0.2  R =  384 E + wrR =  76.80000000000001  T1 =  5.62393158961491  T2 =  -28.59383039875251  Error P =  0  Error N =  0\n",
            "( 61 ) Erro =  0.0  wr =  0.2  R =  387 E + wrR =  77.4  T1 =  5.717663782775158  T2 =  -29.070394238731716  Error P =  0  Error N =  0\n",
            "( 62 ) Erro =  0.0  wr =  0.2  R =  389 E + wrR =  77.80000000000001  T1 =  5.811395975935406  T2 =  -29.546958078710926  Error P =  0  Error N =  0\n",
            "( 63 ) Erro =  0.0  wr =  0.2  R =  389 E + wrR =  77.80000000000001  T1 =  5.905128169095655  T2 =  -30.023521918690136  Error P =  0  Error N =  0\n",
            "( 64 ) Erro =  0.0  wr =  0.2  R =  389 E + wrR =  77.80000000000001  T1 =  5.998860362255904  T2 =  -30.500085758669343  Error P =  0  Error N =  0\n",
            "( 65 ) Erro =  0.0  wr =  0.2  R =  389 E + wrR =  77.80000000000001  T1 =  6.092592555416153  T2 =  -30.976649598648553  Error P =  0  Error N =  0\n",
            "( 66 ) Erro =  0.0  wr =  0.2  R =  389 E + wrR =  77.80000000000001  T1 =  6.186324748576401  T2 =  -31.45321343862776  Error P =  0  Error N =  0\n",
            "( 67 ) Erro =  0.0  wr =  0.2  R =  391 E + wrR =  78.2  T1 =  6.28005694173665  T2 =  -31.92977727860697  Error P =  0  Error N =  0\n",
            "( 68 ) Erro =  0.0  wr =  0.2  R =  393 E + wrR =  78.60000000000001  T1 =  6.3737891348968985  T2 =  -32.40634111858618  Error P =  0  Error N =  0\n",
            "( 69 ) Erro =  0.0  wr =  0.2  R =  394 E + wrR =  78.80000000000001  T1 =  6.467521328057146  T2 =  -32.88290495856539  Error P =  0  Error N =  0\n",
            "( 70 ) Erro =  0.0  wr =  0.2  R =  394 E + wrR =  78.80000000000001  T1 =  6.561253521217395  T2 =  -33.3594687985446  Error P =  0  Error N =  0\n",
            "( 71 ) Erro =  0.0  wr =  0.2  R =  394 E + wrR =  78.80000000000001  T1 =  6.654985714377643  T2 =  -33.836032638523804  Error P =  0  Error N =  0\n",
            "( 72 ) Erro =  0.0  wr =  0.2  R =  394 E + wrR =  78.80000000000001  T1 =  6.748717907537891  T2 =  -34.31259647850301  Error P =  0  Error N =  0\n",
            "( 73 ) Erro =  0.0  wr =  0.2  R =  394 E + wrR =  78.80000000000001  T1 =  6.84245010069814  T2 =  -34.78916031848222  Error P =  0  Error N =  0\n",
            "( 74 ) Erro =  0.0  wr =  0.2  R =  394 E + wrR =  78.80000000000001  T1 =  6.936182293858389  T2 =  -35.265724158461424  Error P =  0  Error N =  0\n",
            "( 75 ) Erro =  0.0  wr =  0.2  R =  394 E + wrR =  78.80000000000001  T1 =  7.029914487018637  T2 =  -35.74228799844064  Error P =  0  Error N =  0\n",
            "( 76 ) Erro =  0.0  wr =  0.2  R =  394 E + wrR =  78.80000000000001  T1 =  7.123646680178886  T2 =  -36.218851838419845  Error P =  0  Error N =  0\n",
            "( 77 ) Erro =  0.0  wr =  0.2  R =  396 E + wrR =  79.2  T1 =  7.217378873339134  T2 =  -36.69541567839905  Error P =  0  Error N =  0\n",
            "( 78 ) Erro =  0.0  wr =  0.2  R =  396 E + wrR =  79.2  T1 =  7.311111066499383  T2 =  -37.171979518378265  Error P =  0  Error N =  0\n",
            "( 79 ) Erro =  0.0  wr =  0.2  R =  396 E + wrR =  79.2  T1 =  7.404843259659631  T2 =  -37.64854335835747  Error P =  0  Error N =  0\n",
            "( 80 ) Erro =  0.0  wr =  0.2  R =  396 E + wrR =  79.2  T1 =  7.49857545281988  T2 =  -38.12510719833668  Error P =  0  Error N =  0\n",
            "( 81 ) Erro =  0.0  wr =  0.2  R =  396 E + wrR =  79.2  T1 =  7.592307645980129  T2 =  -38.60167103831589  Error P =  0  Error N =  0\n",
            "( 82 ) Erro =  0.0  wr =  0.2  R =  396 E + wrR =  79.2  T1 =  7.686039839140377  T2 =  -39.0782348782951  Error P =  0  Error N =  0\n",
            "( 83 ) Erro =  0.0  wr =  0.2  R =  396 E + wrR =  79.2  T1 =  7.779772032300626  T2 =  -39.554798718274306  Error P =  0  Error N =  0\n",
            "( 84 ) Erro =  0.0  wr =  0.2  R =  396 E + wrR =  79.2  T1 =  7.873504225460874  T2 =  -40.03136255825351  Error P =  0  Error N =  0\n",
            "( 85 ) Erro =  0.0  wr =  0.2  R =  396 E + wrR =  79.2  T1 =  7.9672364186211215  T2 =  -40.50792639823272  Error P =  0  Error N =  0\n",
            "( 86 ) Erro =  0.0  wr =  0.2  R =  396 E + wrR =  79.2  T1 =  8.060968611781371  T2 =  -40.984490238211926  Error P =  0  Error N =  0\n",
            "( 87 ) Erro =  0.0  wr =  0.2  R =  396 E + wrR =  79.2  T1 =  8.15470080494162  T2 =  -41.46105407819114  Error P =  0  Error N =  0\n",
            "( 88 ) Erro =  0.0  wr =  0.2  R =  396 E + wrR =  79.2  T1 =  8.248432998101867  T2 =  -41.937617918170346  Error P =  0  Error N =  0\n",
            "( 89 ) Erro =  0.0  wr =  0.2  R =  396 E + wrR =  79.2  T1 =  8.342165191262117  T2 =  -42.41418175814955  Error P =  0  Error N =  0\n",
            "( 90 ) Erro =  0.0  wr =  0.2  R =  396 E + wrR =  79.2  T1 =  8.435897384422365  T2 =  -42.89074559812877  Error P =  0  Error N =  0\n",
            "( 91 ) Erro =  0.0  wr =  0.2  R =  396 E + wrR =  79.2  T1 =  8.529629577582613  T2 =  -43.367309438107974  Error P =  0  Error N =  0\n",
            "( 92 ) Erro =  0.0  wr =  0.2  R =  396 E + wrR =  79.2  T1 =  8.623361770742862  T2 =  -43.84387327808718  Error P =  0  Error N =  0\n",
            "( 93 ) Erro =  0.0  wr =  0.2  R =  396 E + wrR =  79.2  T1 =  8.71709396390311  T2 =  -44.320437118066394  Error P =  0  Error N =  0\n",
            "( 94 ) Erro =  0.0  wr =  0.2  R =  396 E + wrR =  79.2  T1 =  8.810826157063358  T2 =  -44.7970009580456  Error P =  0  Error N =  0\n",
            "( 95 ) Erro =  0.0  wr =  0.2  R =  396 E + wrR =  79.2  T1 =  8.904558350223608  T2 =  -45.27356479802481  Error P =  0  Error N =  0\n",
            "( 96 ) Erro =  0.0  wr =  0.2  R =  396 E + wrR =  79.2  T1 =  8.998290543383856  T2 =  -45.750128638004014  Error P =  0  Error N =  0\n",
            "( 97 ) Erro =  0.0  wr =  0.2  R =  396 E + wrR =  79.2  T1 =  9.092022736544104  T2 =  -46.22669247798322  Error P =  0  Error N =  0\n",
            "( 98 ) Erro =  0.0  wr =  0.2  R =  396 E + wrR =  79.2  T1 =  9.185754929704352  T2 =  -46.70325631796243  Error P =  0  Error N =  0\n",
            "( 99 ) Erro =  0.0  wr =  0.2  R =  396 E + wrR =  79.2  T1 =  9.279487122864602  T2 =  -47.17982015794164  Error P =  0  Error N =  0\n",
            "( 100 ) Erro =  0.0  wr =  0.2  R =  397 E + wrR =  79.4  T1 =  9.37321931602485  T2 =  -47.65638399792085  Error P =  0  Error N =  0\n",
            "0 2.0309278350515463\n",
            "( 1 ) Erro =  0.030927835051546393  wr =  0.24  R =  10 E + wrR =  2.430927835051546  T1 =  0.0937321931602485  T2 =  -0.4765638399792085  Error P =  8  Error N =  4\n",
            "( 2 ) Erro =  0.0234375  wr =  0.24  R =  14 E + wrR =  3.3834375  T1 =  0.187464386320497  T2 =  -0.953127679958417  Error P =  7  Error N =  2\n",
            "( 3 ) Erro =  0.016172506738544475  wr =  0.24  R =  27 E + wrR =  6.496172506738544  T1 =  0.2811965794807455  T2 =  -1.4296915199376254  Error P =  6  Error N =  0\n",
            "( 4 ) Erro =  0.013850415512465374  wr =  0.24  R =  37 E + wrR =  8.893850415512464  T1 =  0.374928772640994  T2 =  -1.906255359916834  Error P =  5  Error N =  0\n",
            "( 5 ) Erro =  0.0113314447592068  wr =  0.24  R =  45 E + wrR =  10.811331444759206  T1 =  0.4686609658012425  T2 =  -2.3828191998960424  Error P =  4  Error N =  0\n",
            "( 6 ) Erro =  0.011594202898550725  wr =  0.24  R =  53 E + wrR =  12.731594202898549  T1 =  0.562393158961491  T2 =  -2.859383039875251  Error P =  4  Error N =  0\n",
            "( 7 ) Erro =  0.012012012012012012  wr =  0.24  R =  65 E + wrR =  15.612012012012011  T1 =  0.6561253521217395  T2 =  -3.33594687985446  Error P =  4  Error N =  0\n",
            "( 8 ) Erro =  0.0121580547112462  wr =  0.24  R =  69 E + wrR =  16.572158054711245  T1 =  0.749857545281988  T2 =  -3.812510719833668  Error P =  4  Error N =  0\n",
            "( 9 ) Erro =  0.00946372239747634  wr =  0.24  R =  81 E + wrR =  19.449463722397475  T1 =  0.8435897384422364  T2 =  -4.289074559812876  Error P =  3  Error N =  0\n",
            "( 10 ) Erro =  0.006535947712418301  wr =  0.24  R =  92 E + wrR =  22.086535947712417  T1 =  0.937321931602485  T2 =  -4.765638399792085  Error P =  2  Error N =  0\n",
            "( 11 ) Erro =  0.006711409395973154  wr =  0.24  R =  100 E + wrR =  24.006711409395972  T1 =  1.0310541247627334  T2 =  -5.242202239771293  Error P =  2  Error N =  0\n",
            "( 12 ) Erro =  0.006968641114982578  wr =  0.24  R =  111 E + wrR =  26.646968641114984  T1 =  1.124786317922982  T2 =  -5.718766079750502  Error P =  2  Error N =  0\n",
            "( 13 ) Erro =  0.0071174377224199285  wr =  0.24  R =  117 E + wrR =  28.08711743772242  T1 =  1.2185185110832304  T2 =  -6.19532991972971  Error P =  2  Error N =  0\n",
            "( 14 ) Erro =  0.0037313432835820895  wr =  0.24  R =  130 E + wrR =  31.203731343283582  T1 =  1.312250704243479  T2 =  -6.67189375970892  Error P =  1  Error N =  0\n",
            "( 15 ) Erro =  0.0038910505836575876  wr =  0.24  R =  141 E + wrR =  33.84389105058366  T1 =  1.4059828974037274  T2 =  -7.148457599688127  Error P =  1  Error N =  0\n",
            "( 16 ) Erro =  0.00398406374501992  wr =  0.24  R =  147 E + wrR =  35.283984063745024  T1 =  1.499715090563976  T2 =  -7.625021439667336  Error P =  1  Error N =  0\n",
            "( 17 ) Erro =  0.004048582995951417  wr =  0.24  R =  151 E + wrR =  36.24404858299595  T1 =  1.5934472837242246  T2 =  -8.101585279646544  Error P =  1  Error N =  0\n",
            "( 18 ) Erro =  0.004201680672268907  wr =  0.24  R =  160 E + wrR =  38.404201680672266  T1 =  1.6871794768844728  T2 =  -8.578149119625753  Error P =  1  Error N =  0\n",
            "( 19 ) Erro =  0.004273504273504274  wr =  0.24  R =  164 E + wrR =  39.364273504273505  T1 =  1.7809116700447214  T2 =  -9.054712959604961  Error P =  1  Error N =  0\n",
            "( 20 ) Erro =  0.004545454545454545  wr =  0.24  R =  178 E + wrR =  42.724545454545456  T1 =  1.87464386320497  T2 =  -9.53127679958417  Error P =  1  Error N =  0\n",
            "( 21 ) Erro =  0.004694835680751174  wr =  0.24  R =  185 E + wrR =  44.40469483568075  T1 =  1.9683760563652184  T2 =  -10.007840639563378  Error P =  1  Error N =  0\n",
            "( 22 ) Erro =  0.004784688995215311  wr =  0.24  R =  189 E + wrR =  45.364784688995215  T1 =  2.062108249525467  T2 =  -10.484404479542587  Error P =  1  Error N =  0\n",
            "( 23 ) Erro =  0.0048543689320388345  wr =  0.24  R =  192 E + wrR =  46.084854368932035  T1 =  2.1558404426857156  T2 =  -10.960968319521795  Error P =  1  Error N =  0\n",
            "( 24 ) Erro =  0.0051813471502590676  wr =  0.24  R =  205 E + wrR =  49.20518134715025  T1 =  2.249572635845964  T2 =  -11.437532159501004  Error P =  1  Error N =  0\n",
            "( 25 ) Erro =  0.005405405405405406  wr =  0.24  R =  213 E + wrR =  51.1254054054054  T1 =  2.3433048290062124  T2 =  -11.914095999480212  Error P =  1  Error N =  0\n",
            "( 26 ) Erro =  0.00558659217877095  wr =  0.24  R =  219 E + wrR =  52.56558659217877  T1 =  2.437037022166461  T2 =  -12.39065983945942  Error P =  1  Error N =  0\n",
            "( 27 ) Erro =  0.005847953216374269  wr =  0.24  R =  227 E + wrR =  54.48584795321637  T1 =  2.5307692153267096  T2 =  -12.867223679438629  Error P =  1  Error N =  0\n",
            "( 28 ) Erro =  0.0  wr =  0.24  R =  237 E + wrR =  56.879999999999995  T1 =  2.624501408486958  T2 =  -13.34378751941784  Error P =  0  Error N =  0\n",
            "( 29 ) Erro =  0.0  wr =  0.24  R =  243 E + wrR =  58.32  T1 =  2.7182336016472064  T2 =  -13.820351359397044  Error P =  0  Error N =  0\n",
            "( 30 ) Erro =  0.0  wr =  0.24  R =  245 E + wrR =  58.8  T1 =  2.811965794807455  T2 =  -14.296915199376254  Error P =  0  Error N =  0\n",
            "( 31 ) Erro =  0.0  wr =  0.24  R =  252 E + wrR =  60.48  T1 =  2.905697987967703  T2 =  -14.773479039355463  Error P =  0  Error N =  0\n",
            "( 32 ) Erro =  0.0  wr =  0.24  R =  261 E + wrR =  62.64  T1 =  2.999430181127952  T2 =  -15.250042879334671  Error P =  0  Error N =  0\n",
            "( 33 ) Erro =  0.0  wr =  0.24  R =  269 E + wrR =  64.56  T1 =  3.0931623742882004  T2 =  -15.72660671931388  Error P =  0  Error N =  0\n",
            "( 34 ) Erro =  0.0  wr =  0.24  R =  279 E + wrR =  66.96  T1 =  3.1868945674484492  T2 =  -16.20317055929309  Error P =  0  Error N =  0\n",
            "( 35 ) Erro =  0.0  wr =  0.24  R =  287 E + wrR =  68.88  T1 =  3.2806267606086976  T2 =  -16.6797343992723  Error P =  0  Error N =  0\n",
            "( 36 ) Erro =  0.0  wr =  0.24  R =  293 E + wrR =  70.32  T1 =  3.3743589537689456  T2 =  -17.156298239251505  Error P =  0  Error N =  0\n",
            "( 37 ) Erro =  0.0  wr =  0.24  R =  302 E + wrR =  72.48  T1 =  3.4680911469291944  T2 =  -17.632862079230712  Error P =  0  Error N =  0\n",
            "( 38 ) Erro =  0.0  wr =  0.24  R =  309 E + wrR =  74.16  T1 =  3.561823340089443  T2 =  -18.109425919209922  Error P =  0  Error N =  0\n",
            "( 39 ) Erro =  0.0  wr =  0.24  R =  313 E + wrR =  75.11999999999999  T1 =  3.6555555332496916  T2 =  -18.585989759189133  Error P =  0  Error N =  0\n",
            "( 40 ) Erro =  0.0  wr =  0.24  R =  320 E + wrR =  76.8  T1 =  3.74928772640994  T2 =  -19.06255359916834  Error P =  0  Error N =  0\n",
            "( 41 ) Erro =  0.0  wr =  0.24  R =  323 E + wrR =  77.52  T1 =  3.8430199195701884  T2 =  -19.53911743914755  Error P =  0  Error N =  0\n",
            "( 42 ) Erro =  0.0  wr =  0.24  R =  326 E + wrR =  78.24  T1 =  3.936752112730437  T2 =  -20.015681279126756  Error P =  0  Error N =  0\n",
            "( 43 ) Erro =  0.0  wr =  0.24  R =  332 E + wrR =  79.67999999999999  T1 =  4.030484305890686  T2 =  -20.492245119105963  Error P =  0  Error N =  0\n",
            "( 44 ) Erro =  0.0  wr =  0.24  R =  339 E + wrR =  81.36  T1 =  4.124216499050934  T2 =  -20.968808959085173  Error P =  0  Error N =  0\n",
            "( 45 ) Erro =  0.0  wr =  0.24  R =  345 E + wrR =  82.8  T1 =  4.217948692211182  T2 =  -21.445372799064383  Error P =  0  Error N =  0\n",
            "( 46 ) Erro =  0.0  wr =  0.24  R =  352 E + wrR =  84.47999999999999  T1 =  4.311680885371431  T2 =  -21.92193663904359  Error P =  0  Error N =  0\n",
            "( 47 ) Erro =  0.0  wr =  0.24  R =  359 E + wrR =  86.16  T1 =  4.405413078531679  T2 =  -22.3985004790228  Error P =  0  Error N =  0\n",
            "( 48 ) Erro =  0.0  wr =  0.24  R =  361 E + wrR =  86.64  T1 =  4.499145271691928  T2 =  -22.875064319002007  Error P =  0  Error N =  0\n",
            "( 49 ) Erro =  0.0  wr =  0.24  R =  363 E + wrR =  87.11999999999999  T1 =  4.592877464852176  T2 =  -23.351628158981214  Error P =  0  Error N =  0\n",
            "( 50 ) Erro =  0.0  wr =  0.24  R =  365 E + wrR =  87.6  T1 =  4.686609658012425  T2 =  -23.828191998960424  Error P =  0  Error N =  0\n",
            "( 51 ) Erro =  0.0  wr =  0.24  R =  368 E + wrR =  88.32  T1 =  4.780341851172674  T2 =  -24.304755838939634  Error P =  0  Error N =  0\n",
            "( 52 ) Erro =  0.0  wr =  0.24  R =  371 E + wrR =  89.03999999999999  T1 =  4.874074044332922  T2 =  -24.78131967891884  Error P =  0  Error N =  0\n",
            "( 53 ) Erro =  0.0  wr =  0.24  R =  374 E + wrR =  89.75999999999999  T1 =  4.96780623749317  T2 =  -25.25788351889805  Error P =  0  Error N =  0\n",
            "( 54 ) Erro =  0.0  wr =  0.24  R =  375 E + wrR =  90.0  T1 =  5.061538430653419  T2 =  -25.734447358877258  Error P =  0  Error N =  0\n",
            "( 55 ) Erro =  0.0  wr =  0.24  R =  377 E + wrR =  90.47999999999999  T1 =  5.155270623813668  T2 =  -26.21101119885647  Error P =  0  Error N =  0\n",
            "( 56 ) Erro =  0.0  wr =  0.24  R =  378 E + wrR =  90.72  T1 =  5.249002816973916  T2 =  -26.68757503883568  Error P =  0  Error N =  0\n",
            "( 57 ) Erro =  0.0  wr =  0.24  R =  380 E + wrR =  91.2  T1 =  5.342735010134165  T2 =  -27.164138878814885  Error P =  0  Error N =  0\n",
            "( 58 ) Erro =  0.0  wr =  0.24  R =  382 E + wrR =  91.67999999999999  T1 =  5.436467203294413  T2 =  -27.64070271879409  Error P =  0  Error N =  0\n",
            "( 59 ) Erro =  0.0  wr =  0.24  R =  383 E + wrR =  91.92  T1 =  5.530199396454661  T2 =  -28.1172665587733  Error P =  0  Error N =  0\n",
            "( 60 ) Erro =  0.0  wr =  0.24  R =  384 E + wrR =  92.16  T1 =  5.62393158961491  T2 =  -28.59383039875251  Error P =  0  Error N =  0\n",
            "( 61 ) Erro =  0.0  wr =  0.24  R =  387 E + wrR =  92.88  T1 =  5.717663782775158  T2 =  -29.070394238731716  Error P =  0  Error N =  0\n",
            "( 62 ) Erro =  0.0  wr =  0.24  R =  389 E + wrR =  93.36  T1 =  5.811395975935406  T2 =  -29.546958078710926  Error P =  0  Error N =  0\n",
            "( 63 ) Erro =  0.0  wr =  0.24  R =  389 E + wrR =  93.36  T1 =  5.905128169095655  T2 =  -30.023521918690136  Error P =  0  Error N =  0\n",
            "( 64 ) Erro =  0.0  wr =  0.24  R =  389 E + wrR =  93.36  T1 =  5.998860362255904  T2 =  -30.500085758669343  Error P =  0  Error N =  0\n",
            "( 65 ) Erro =  0.0  wr =  0.24  R =  389 E + wrR =  93.36  T1 =  6.092592555416153  T2 =  -30.976649598648553  Error P =  0  Error N =  0\n",
            "( 66 ) Erro =  0.0  wr =  0.24  R =  389 E + wrR =  93.36  T1 =  6.186324748576401  T2 =  -31.45321343862776  Error P =  0  Error N =  0\n",
            "( 67 ) Erro =  0.0  wr =  0.24  R =  391 E + wrR =  93.84  T1 =  6.28005694173665  T2 =  -31.92977727860697  Error P =  0  Error N =  0\n",
            "( 68 ) Erro =  0.0  wr =  0.24  R =  393 E + wrR =  94.32  T1 =  6.3737891348968985  T2 =  -32.40634111858618  Error P =  0  Error N =  0\n",
            "( 69 ) Erro =  0.0  wr =  0.24  R =  394 E + wrR =  94.56  T1 =  6.467521328057146  T2 =  -32.88290495856539  Error P =  0  Error N =  0\n",
            "( 70 ) Erro =  0.0  wr =  0.24  R =  394 E + wrR =  94.56  T1 =  6.561253521217395  T2 =  -33.3594687985446  Error P =  0  Error N =  0\n",
            "( 71 ) Erro =  0.0  wr =  0.24  R =  394 E + wrR =  94.56  T1 =  6.654985714377643  T2 =  -33.836032638523804  Error P =  0  Error N =  0\n",
            "( 72 ) Erro =  0.0  wr =  0.24  R =  394 E + wrR =  94.56  T1 =  6.748717907537891  T2 =  -34.31259647850301  Error P =  0  Error N =  0\n",
            "( 73 ) Erro =  0.0  wr =  0.24  R =  394 E + wrR =  94.56  T1 =  6.84245010069814  T2 =  -34.78916031848222  Error P =  0  Error N =  0\n",
            "( 74 ) Erro =  0.0  wr =  0.24  R =  394 E + wrR =  94.56  T1 =  6.936182293858389  T2 =  -35.265724158461424  Error P =  0  Error N =  0\n",
            "( 75 ) Erro =  0.0  wr =  0.24  R =  394 E + wrR =  94.56  T1 =  7.029914487018637  T2 =  -35.74228799844064  Error P =  0  Error N =  0\n",
            "( 76 ) Erro =  0.0  wr =  0.24  R =  394 E + wrR =  94.56  T1 =  7.123646680178886  T2 =  -36.218851838419845  Error P =  0  Error N =  0\n",
            "( 77 ) Erro =  0.0  wr =  0.24  R =  396 E + wrR =  95.03999999999999  T1 =  7.217378873339134  T2 =  -36.69541567839905  Error P =  0  Error N =  0\n",
            "( 78 ) Erro =  0.0  wr =  0.24  R =  396 E + wrR =  95.03999999999999  T1 =  7.311111066499383  T2 =  -37.171979518378265  Error P =  0  Error N =  0\n",
            "( 79 ) Erro =  0.0  wr =  0.24  R =  396 E + wrR =  95.03999999999999  T1 =  7.404843259659631  T2 =  -37.64854335835747  Error P =  0  Error N =  0\n",
            "( 80 ) Erro =  0.0  wr =  0.24  R =  396 E + wrR =  95.03999999999999  T1 =  7.49857545281988  T2 =  -38.12510719833668  Error P =  0  Error N =  0\n",
            "( 81 ) Erro =  0.0  wr =  0.24  R =  396 E + wrR =  95.03999999999999  T1 =  7.592307645980129  T2 =  -38.60167103831589  Error P =  0  Error N =  0\n",
            "( 82 ) Erro =  0.0  wr =  0.24  R =  396 E + wrR =  95.03999999999999  T1 =  7.686039839140377  T2 =  -39.0782348782951  Error P =  0  Error N =  0\n",
            "( 83 ) Erro =  0.0  wr =  0.24  R =  396 E + wrR =  95.03999999999999  T1 =  7.779772032300626  T2 =  -39.554798718274306  Error P =  0  Error N =  0\n",
            "( 84 ) Erro =  0.0  wr =  0.24  R =  396 E + wrR =  95.03999999999999  T1 =  7.873504225460874  T2 =  -40.03136255825351  Error P =  0  Error N =  0\n",
            "( 85 ) Erro =  0.0  wr =  0.24  R =  396 E + wrR =  95.03999999999999  T1 =  7.9672364186211215  T2 =  -40.50792639823272  Error P =  0  Error N =  0\n",
            "( 86 ) Erro =  0.0  wr =  0.24  R =  396 E + wrR =  95.03999999999999  T1 =  8.060968611781371  T2 =  -40.984490238211926  Error P =  0  Error N =  0\n",
            "( 87 ) Erro =  0.0  wr =  0.24  R =  396 E + wrR =  95.03999999999999  T1 =  8.15470080494162  T2 =  -41.46105407819114  Error P =  0  Error N =  0\n",
            "( 88 ) Erro =  0.0  wr =  0.24  R =  396 E + wrR =  95.03999999999999  T1 =  8.248432998101867  T2 =  -41.937617918170346  Error P =  0  Error N =  0\n",
            "( 89 ) Erro =  0.0  wr =  0.24  R =  396 E + wrR =  95.03999999999999  T1 =  8.342165191262117  T2 =  -42.41418175814955  Error P =  0  Error N =  0\n",
            "( 90 ) Erro =  0.0  wr =  0.24  R =  396 E + wrR =  95.03999999999999  T1 =  8.435897384422365  T2 =  -42.89074559812877  Error P =  0  Error N =  0\n",
            "( 91 ) Erro =  0.0  wr =  0.24  R =  396 E + wrR =  95.03999999999999  T1 =  8.529629577582613  T2 =  -43.367309438107974  Error P =  0  Error N =  0\n",
            "( 92 ) Erro =  0.0  wr =  0.24  R =  396 E + wrR =  95.03999999999999  T1 =  8.623361770742862  T2 =  -43.84387327808718  Error P =  0  Error N =  0\n",
            "( 93 ) Erro =  0.0  wr =  0.24  R =  396 E + wrR =  95.03999999999999  T1 =  8.71709396390311  T2 =  -44.320437118066394  Error P =  0  Error N =  0\n",
            "( 94 ) Erro =  0.0  wr =  0.24  R =  396 E + wrR =  95.03999999999999  T1 =  8.810826157063358  T2 =  -44.7970009580456  Error P =  0  Error N =  0\n",
            "( 95 ) Erro =  0.0  wr =  0.24  R =  396 E + wrR =  95.03999999999999  T1 =  8.904558350223608  T2 =  -45.27356479802481  Error P =  0  Error N =  0\n",
            "( 96 ) Erro =  0.0  wr =  0.24  R =  396 E + wrR =  95.03999999999999  T1 =  8.998290543383856  T2 =  -45.750128638004014  Error P =  0  Error N =  0\n",
            "( 97 ) Erro =  0.0  wr =  0.24  R =  396 E + wrR =  95.03999999999999  T1 =  9.092022736544104  T2 =  -46.22669247798322  Error P =  0  Error N =  0\n",
            "( 98 ) Erro =  0.0  wr =  0.24  R =  396 E + wrR =  95.03999999999999  T1 =  9.185754929704352  T2 =  -46.70325631796243  Error P =  0  Error N =  0\n",
            "( 99 ) Erro =  0.0  wr =  0.24  R =  396 E + wrR =  95.03999999999999  T1 =  9.279487122864602  T2 =  -47.17982015794164  Error P =  0  Error N =  0\n",
            "( 100 ) Erro =  0.0  wr =  0.24  R =  397 E + wrR =  95.28  T1 =  9.37321931602485  T2 =  -47.65638399792085  Error P =  0  Error N =  0\n",
            "0 2.430927835051546\n",
            "( 1 ) Erro =  0.030927835051546393  wr =  0.28  R =  10 E + wrR =  2.8309278350515465  T1 =  0.0937321931602485  T2 =  -0.4765638399792085  Error P =  8  Error N =  4\n",
            "( 2 ) Erro =  0.0234375  wr =  0.28  R =  14 E + wrR =  3.9434375000000004  T1 =  0.187464386320497  T2 =  -0.953127679958417  Error P =  7  Error N =  2\n",
            "( 3 ) Erro =  0.016172506738544475  wr =  0.28  R =  27 E + wrR =  7.576172506738545  T1 =  0.2811965794807455  T2 =  -1.4296915199376254  Error P =  6  Error N =  0\n",
            "( 4 ) Erro =  0.013850415512465374  wr =  0.28  R =  37 E + wrR =  10.373850415512466  T1 =  0.374928772640994  T2 =  -1.906255359916834  Error P =  5  Error N =  0\n",
            "( 5 ) Erro =  0.0113314447592068  wr =  0.28  R =  45 E + wrR =  12.611331444759209  T1 =  0.4686609658012425  T2 =  -2.3828191998960424  Error P =  4  Error N =  0\n",
            "( 6 ) Erro =  0.011594202898550725  wr =  0.28  R =  53 E + wrR =  14.851594202898552  T1 =  0.562393158961491  T2 =  -2.859383039875251  Error P =  4  Error N =  0\n",
            "( 7 ) Erro =  0.012012012012012012  wr =  0.28  R =  65 E + wrR =  18.212012012012014  T1 =  0.6561253521217395  T2 =  -3.33594687985446  Error P =  4  Error N =  0\n",
            "( 8 ) Erro =  0.0121580547112462  wr =  0.28  R =  69 E + wrR =  19.332158054711247  T1 =  0.749857545281988  T2 =  -3.812510719833668  Error P =  4  Error N =  0\n",
            "( 9 ) Erro =  0.00946372239747634  wr =  0.28  R =  81 E + wrR =  22.68946372239748  T1 =  0.8435897384422364  T2 =  -4.289074559812876  Error P =  3  Error N =  0\n",
            "( 10 ) Erro =  0.006535947712418301  wr =  0.28  R =  92 E + wrR =  25.76653594771242  T1 =  0.937321931602485  T2 =  -4.765638399792085  Error P =  2  Error N =  0\n",
            "( 11 ) Erro =  0.006711409395973154  wr =  0.28  R =  100 E + wrR =  28.006711409395976  T1 =  1.0310541247627334  T2 =  -5.242202239771293  Error P =  2  Error N =  0\n",
            "( 12 ) Erro =  0.006968641114982578  wr =  0.28  R =  111 E + wrR =  31.086968641114986  T1 =  1.124786317922982  T2 =  -5.718766079750502  Error P =  2  Error N =  0\n",
            "( 13 ) Erro =  0.0071174377224199285  wr =  0.28  R =  117 E + wrR =  32.767117437722426  T1 =  1.2185185110832304  T2 =  -6.19532991972971  Error P =  2  Error N =  0\n",
            "( 14 ) Erro =  0.0037313432835820895  wr =  0.28  R =  130 E + wrR =  36.40373134328359  T1 =  1.312250704243479  T2 =  -6.67189375970892  Error P =  1  Error N =  0\n",
            "( 15 ) Erro =  0.0038910505836575876  wr =  0.28  R =  141 E + wrR =  39.483891050583665  T1 =  1.4059828974037274  T2 =  -7.148457599688127  Error P =  1  Error N =  0\n",
            "( 16 ) Erro =  0.00398406374501992  wr =  0.28  R =  147 E + wrR =  41.163984063745026  T1 =  1.499715090563976  T2 =  -7.625021439667336  Error P =  1  Error N =  0\n",
            "( 17 ) Erro =  0.004048582995951417  wr =  0.28  R =  151 E + wrR =  42.28404858299595  T1 =  1.5934472837242246  T2 =  -8.101585279646544  Error P =  1  Error N =  0\n",
            "( 18 ) Erro =  0.004201680672268907  wr =  0.28  R =  160 E + wrR =  44.80420168067227  T1 =  1.6871794768844728  T2 =  -8.578149119625753  Error P =  1  Error N =  0\n",
            "( 19 ) Erro =  0.004273504273504274  wr =  0.28  R =  164 E + wrR =  45.92427350427351  T1 =  1.7809116700447214  T2 =  -9.054712959604961  Error P =  1  Error N =  0\n",
            "( 20 ) Erro =  0.004545454545454545  wr =  0.28  R =  178 E + wrR =  49.84454545454546  T1 =  1.87464386320497  T2 =  -9.53127679958417  Error P =  1  Error N =  0\n",
            "( 21 ) Erro =  0.004694835680751174  wr =  0.28  R =  185 E + wrR =  51.804694835680756  T1 =  1.9683760563652184  T2 =  -10.007840639563378  Error P =  1  Error N =  0\n",
            "( 22 ) Erro =  0.004784688995215311  wr =  0.28  R =  189 E + wrR =  52.92478468899522  T1 =  2.062108249525467  T2 =  -10.484404479542587  Error P =  1  Error N =  0\n",
            "( 23 ) Erro =  0.0048543689320388345  wr =  0.28  R =  192 E + wrR =  53.76485436893204  T1 =  2.1558404426857156  T2 =  -10.960968319521795  Error P =  1  Error N =  0\n",
            "( 24 ) Erro =  0.0051813471502590676  wr =  0.28  R =  205 E + wrR =  57.40518134715026  T1 =  2.249572635845964  T2 =  -11.437532159501004  Error P =  1  Error N =  0\n",
            "( 25 ) Erro =  0.005405405405405406  wr =  0.28  R =  213 E + wrR =  59.64540540540541  T1 =  2.3433048290062124  T2 =  -11.914095999480212  Error P =  1  Error N =  0\n",
            "( 26 ) Erro =  0.00558659217877095  wr =  0.28  R =  219 E + wrR =  61.32558659217878  T1 =  2.437037022166461  T2 =  -12.39065983945942  Error P =  1  Error N =  0\n",
            "( 27 ) Erro =  0.005847953216374269  wr =  0.28  R =  227 E + wrR =  63.565847953216384  T1 =  2.5307692153267096  T2 =  -12.867223679438629  Error P =  1  Error N =  0\n",
            "( 28 ) Erro =  0.0  wr =  0.28  R =  237 E + wrR =  66.36  T1 =  2.624501408486958  T2 =  -13.34378751941784  Error P =  0  Error N =  0\n",
            "( 29 ) Erro =  0.0  wr =  0.28  R =  243 E + wrR =  68.04  T1 =  2.7182336016472064  T2 =  -13.820351359397044  Error P =  0  Error N =  0\n",
            "( 30 ) Erro =  0.0  wr =  0.28  R =  245 E + wrR =  68.60000000000001  T1 =  2.811965794807455  T2 =  -14.296915199376254  Error P =  0  Error N =  0\n",
            "( 31 ) Erro =  0.0  wr =  0.28  R =  252 E + wrR =  70.56  T1 =  2.905697987967703  T2 =  -14.773479039355463  Error P =  0  Error N =  0\n",
            "( 32 ) Erro =  0.0  wr =  0.28  R =  261 E + wrR =  73.08000000000001  T1 =  2.999430181127952  T2 =  -15.250042879334671  Error P =  0  Error N =  0\n",
            "( 33 ) Erro =  0.0  wr =  0.28  R =  269 E + wrR =  75.32000000000001  T1 =  3.0931623742882004  T2 =  -15.72660671931388  Error P =  0  Error N =  0\n",
            "( 34 ) Erro =  0.0  wr =  0.28  R =  279 E + wrR =  78.12  T1 =  3.1868945674484492  T2 =  -16.20317055929309  Error P =  0  Error N =  0\n",
            "( 35 ) Erro =  0.0  wr =  0.28  R =  287 E + wrR =  80.36000000000001  T1 =  3.2806267606086976  T2 =  -16.6797343992723  Error P =  0  Error N =  0\n",
            "( 36 ) Erro =  0.0  wr =  0.28  R =  293 E + wrR =  82.04  T1 =  3.3743589537689456  T2 =  -17.156298239251505  Error P =  0  Error N =  0\n",
            "( 37 ) Erro =  0.0  wr =  0.28  R =  302 E + wrR =  84.56  T1 =  3.4680911469291944  T2 =  -17.632862079230712  Error P =  0  Error N =  0\n",
            "( 38 ) Erro =  0.0  wr =  0.28  R =  309 E + wrR =  86.52000000000001  T1 =  3.561823340089443  T2 =  -18.109425919209922  Error P =  0  Error N =  0\n",
            "( 39 ) Erro =  0.0  wr =  0.28  R =  313 E + wrR =  87.64000000000001  T1 =  3.6555555332496916  T2 =  -18.585989759189133  Error P =  0  Error N =  0\n",
            "( 40 ) Erro =  0.0  wr =  0.28  R =  320 E + wrR =  89.60000000000001  T1 =  3.74928772640994  T2 =  -19.06255359916834  Error P =  0  Error N =  0\n",
            "( 41 ) Erro =  0.0  wr =  0.28  R =  323 E + wrR =  90.44000000000001  T1 =  3.8430199195701884  T2 =  -19.53911743914755  Error P =  0  Error N =  0\n",
            "( 42 ) Erro =  0.0  wr =  0.28  R =  326 E + wrR =  91.28000000000002  T1 =  3.936752112730437  T2 =  -20.015681279126756  Error P =  0  Error N =  0\n",
            "( 43 ) Erro =  0.0  wr =  0.28  R =  332 E + wrR =  92.96000000000001  T1 =  4.030484305890686  T2 =  -20.492245119105963  Error P =  0  Error N =  0\n",
            "( 44 ) Erro =  0.0  wr =  0.28  R =  339 E + wrR =  94.92000000000002  T1 =  4.124216499050934  T2 =  -20.968808959085173  Error P =  0  Error N =  0\n",
            "( 45 ) Erro =  0.0  wr =  0.28  R =  345 E + wrR =  96.60000000000001  T1 =  4.217948692211182  T2 =  -21.445372799064383  Error P =  0  Error N =  0\n",
            "( 46 ) Erro =  0.0  wr =  0.28  R =  352 E + wrR =  98.56  T1 =  4.311680885371431  T2 =  -21.92193663904359  Error P =  0  Error N =  0\n",
            "( 47 ) Erro =  0.0  wr =  0.28  R =  359 E + wrR =  100.52000000000001  T1 =  4.405413078531679  T2 =  -22.3985004790228  Error P =  0  Error N =  0\n",
            "( 48 ) Erro =  0.0  wr =  0.28  R =  361 E + wrR =  101.08000000000001  T1 =  4.499145271691928  T2 =  -22.875064319002007  Error P =  0  Error N =  0\n",
            "( 49 ) Erro =  0.0  wr =  0.28  R =  363 E + wrR =  101.64000000000001  T1 =  4.592877464852176  T2 =  -23.351628158981214  Error P =  0  Error N =  0\n",
            "( 50 ) Erro =  0.0  wr =  0.28  R =  365 E + wrR =  102.2  T1 =  4.686609658012425  T2 =  -23.828191998960424  Error P =  0  Error N =  0\n",
            "( 51 ) Erro =  0.0  wr =  0.28  R =  368 E + wrR =  103.04  T1 =  4.780341851172674  T2 =  -24.304755838939634  Error P =  0  Error N =  0\n",
            "( 52 ) Erro =  0.0  wr =  0.28  R =  371 E + wrR =  103.88000000000001  T1 =  4.874074044332922  T2 =  -24.78131967891884  Error P =  0  Error N =  0\n",
            "( 53 ) Erro =  0.0  wr =  0.28  R =  374 E + wrR =  104.72000000000001  T1 =  4.96780623749317  T2 =  -25.25788351889805  Error P =  0  Error N =  0\n",
            "( 54 ) Erro =  0.0  wr =  0.28  R =  375 E + wrR =  105.00000000000001  T1 =  5.061538430653419  T2 =  -25.734447358877258  Error P =  0  Error N =  0\n",
            "( 55 ) Erro =  0.0  wr =  0.28  R =  377 E + wrR =  105.56000000000002  T1 =  5.155270623813668  T2 =  -26.21101119885647  Error P =  0  Error N =  0\n",
            "( 56 ) Erro =  0.0  wr =  0.28  R =  378 E + wrR =  105.84  T1 =  5.249002816973916  T2 =  -26.68757503883568  Error P =  0  Error N =  0\n",
            "( 57 ) Erro =  0.0  wr =  0.28  R =  380 E + wrR =  106.4  T1 =  5.342735010134165  T2 =  -27.164138878814885  Error P =  0  Error N =  0\n",
            "( 58 ) Erro =  0.0  wr =  0.28  R =  382 E + wrR =  106.96000000000001  T1 =  5.436467203294413  T2 =  -27.64070271879409  Error P =  0  Error N =  0\n",
            "( 59 ) Erro =  0.0  wr =  0.28  R =  383 E + wrR =  107.24000000000001  T1 =  5.530199396454661  T2 =  -28.1172665587733  Error P =  0  Error N =  0\n",
            "( 60 ) Erro =  0.0  wr =  0.28  R =  384 E + wrR =  107.52000000000001  T1 =  5.62393158961491  T2 =  -28.59383039875251  Error P =  0  Error N =  0\n",
            "( 61 ) Erro =  0.0  wr =  0.28  R =  387 E + wrR =  108.36000000000001  T1 =  5.717663782775158  T2 =  -29.070394238731716  Error P =  0  Error N =  0\n",
            "( 62 ) Erro =  0.0  wr =  0.28  R =  389 E + wrR =  108.92000000000002  T1 =  5.811395975935406  T2 =  -29.546958078710926  Error P =  0  Error N =  0\n",
            "( 63 ) Erro =  0.0  wr =  0.28  R =  389 E + wrR =  108.92000000000002  T1 =  5.905128169095655  T2 =  -30.023521918690136  Error P =  0  Error N =  0\n",
            "( 64 ) Erro =  0.0  wr =  0.28  R =  389 E + wrR =  108.92000000000002  T1 =  5.998860362255904  T2 =  -30.500085758669343  Error P =  0  Error N =  0\n",
            "( 65 ) Erro =  0.0  wr =  0.28  R =  389 E + wrR =  108.92000000000002  T1 =  6.092592555416153  T2 =  -30.976649598648553  Error P =  0  Error N =  0\n",
            "( 66 ) Erro =  0.0  wr =  0.28  R =  389 E + wrR =  108.92000000000002  T1 =  6.186324748576401  T2 =  -31.45321343862776  Error P =  0  Error N =  0\n",
            "( 67 ) Erro =  0.0  wr =  0.28  R =  391 E + wrR =  109.48  T1 =  6.28005694173665  T2 =  -31.92977727860697  Error P =  0  Error N =  0\n",
            "( 68 ) Erro =  0.0  wr =  0.28  R =  393 E + wrR =  110.04  T1 =  6.3737891348968985  T2 =  -32.40634111858618  Error P =  0  Error N =  0\n",
            "( 69 ) Erro =  0.0  wr =  0.28  R =  394 E + wrR =  110.32000000000001  T1 =  6.467521328057146  T2 =  -32.88290495856539  Error P =  0  Error N =  0\n",
            "( 70 ) Erro =  0.0  wr =  0.28  R =  394 E + wrR =  110.32000000000001  T1 =  6.561253521217395  T2 =  -33.3594687985446  Error P =  0  Error N =  0\n",
            "( 71 ) Erro =  0.0  wr =  0.28  R =  394 E + wrR =  110.32000000000001  T1 =  6.654985714377643  T2 =  -33.836032638523804  Error P =  0  Error N =  0\n",
            "( 72 ) Erro =  0.0  wr =  0.28  R =  394 E + wrR =  110.32000000000001  T1 =  6.748717907537891  T2 =  -34.31259647850301  Error P =  0  Error N =  0\n",
            "( 73 ) Erro =  0.0  wr =  0.28  R =  394 E + wrR =  110.32000000000001  T1 =  6.84245010069814  T2 =  -34.78916031848222  Error P =  0  Error N =  0\n",
            "( 74 ) Erro =  0.0  wr =  0.28  R =  394 E + wrR =  110.32000000000001  T1 =  6.936182293858389  T2 =  -35.265724158461424  Error P =  0  Error N =  0\n",
            "( 75 ) Erro =  0.0  wr =  0.28  R =  394 E + wrR =  110.32000000000001  T1 =  7.029914487018637  T2 =  -35.74228799844064  Error P =  0  Error N =  0\n",
            "( 76 ) Erro =  0.0  wr =  0.28  R =  394 E + wrR =  110.32000000000001  T1 =  7.123646680178886  T2 =  -36.218851838419845  Error P =  0  Error N =  0\n",
            "( 77 ) Erro =  0.0  wr =  0.28  R =  396 E + wrR =  110.88000000000001  T1 =  7.217378873339134  T2 =  -36.69541567839905  Error P =  0  Error N =  0\n",
            "( 78 ) Erro =  0.0  wr =  0.28  R =  396 E + wrR =  110.88000000000001  T1 =  7.311111066499383  T2 =  -37.171979518378265  Error P =  0  Error N =  0\n",
            "( 79 ) Erro =  0.0  wr =  0.28  R =  396 E + wrR =  110.88000000000001  T1 =  7.404843259659631  T2 =  -37.64854335835747  Error P =  0  Error N =  0\n",
            "( 80 ) Erro =  0.0  wr =  0.28  R =  396 E + wrR =  110.88000000000001  T1 =  7.49857545281988  T2 =  -38.12510719833668  Error P =  0  Error N =  0\n",
            "( 81 ) Erro =  0.0  wr =  0.28  R =  396 E + wrR =  110.88000000000001  T1 =  7.592307645980129  T2 =  -38.60167103831589  Error P =  0  Error N =  0\n",
            "( 82 ) Erro =  0.0  wr =  0.28  R =  396 E + wrR =  110.88000000000001  T1 =  7.686039839140377  T2 =  -39.0782348782951  Error P =  0  Error N =  0\n",
            "( 83 ) Erro =  0.0  wr =  0.28  R =  396 E + wrR =  110.88000000000001  T1 =  7.779772032300626  T2 =  -39.554798718274306  Error P =  0  Error N =  0\n",
            "( 84 ) Erro =  0.0  wr =  0.28  R =  396 E + wrR =  110.88000000000001  T1 =  7.873504225460874  T2 =  -40.03136255825351  Error P =  0  Error N =  0\n",
            "( 85 ) Erro =  0.0  wr =  0.28  R =  396 E + wrR =  110.88000000000001  T1 =  7.9672364186211215  T2 =  -40.50792639823272  Error P =  0  Error N =  0\n",
            "( 86 ) Erro =  0.0  wr =  0.28  R =  396 E + wrR =  110.88000000000001  T1 =  8.060968611781371  T2 =  -40.984490238211926  Error P =  0  Error N =  0\n",
            "( 87 ) Erro =  0.0  wr =  0.28  R =  396 E + wrR =  110.88000000000001  T1 =  8.15470080494162  T2 =  -41.46105407819114  Error P =  0  Error N =  0\n",
            "( 88 ) Erro =  0.0  wr =  0.28  R =  396 E + wrR =  110.88000000000001  T1 =  8.248432998101867  T2 =  -41.937617918170346  Error P =  0  Error N =  0\n",
            "( 89 ) Erro =  0.0  wr =  0.28  R =  396 E + wrR =  110.88000000000001  T1 =  8.342165191262117  T2 =  -42.41418175814955  Error P =  0  Error N =  0\n",
            "( 90 ) Erro =  0.0  wr =  0.28  R =  396 E + wrR =  110.88000000000001  T1 =  8.435897384422365  T2 =  -42.89074559812877  Error P =  0  Error N =  0\n",
            "( 91 ) Erro =  0.0  wr =  0.28  R =  396 E + wrR =  110.88000000000001  T1 =  8.529629577582613  T2 =  -43.367309438107974  Error P =  0  Error N =  0\n",
            "( 92 ) Erro =  0.0  wr =  0.28  R =  396 E + wrR =  110.88000000000001  T1 =  8.623361770742862  T2 =  -43.84387327808718  Error P =  0  Error N =  0\n",
            "( 93 ) Erro =  0.0  wr =  0.28  R =  396 E + wrR =  110.88000000000001  T1 =  8.71709396390311  T2 =  -44.320437118066394  Error P =  0  Error N =  0\n",
            "( 94 ) Erro =  0.0  wr =  0.28  R =  396 E + wrR =  110.88000000000001  T1 =  8.810826157063358  T2 =  -44.7970009580456  Error P =  0  Error N =  0\n",
            "( 95 ) Erro =  0.0  wr =  0.28  R =  396 E + wrR =  110.88000000000001  T1 =  8.904558350223608  T2 =  -45.27356479802481  Error P =  0  Error N =  0\n",
            "( 96 ) Erro =  0.0  wr =  0.28  R =  396 E + wrR =  110.88000000000001  T1 =  8.998290543383856  T2 =  -45.750128638004014  Error P =  0  Error N =  0\n",
            "( 97 ) Erro =  0.0  wr =  0.28  R =  396 E + wrR =  110.88000000000001  T1 =  9.092022736544104  T2 =  -46.22669247798322  Error P =  0  Error N =  0\n",
            "( 98 ) Erro =  0.0  wr =  0.28  R =  396 E + wrR =  110.88000000000001  T1 =  9.185754929704352  T2 =  -46.70325631796243  Error P =  0  Error N =  0\n",
            "( 99 ) Erro =  0.0  wr =  0.28  R =  396 E + wrR =  110.88000000000001  T1 =  9.279487122864602  T2 =  -47.17982015794164  Error P =  0  Error N =  0\n",
            "( 100 ) Erro =  0.0  wr =  0.28  R =  397 E + wrR =  111.16000000000001  T1 =  9.37321931602485  T2 =  -47.65638399792085  Error P =  0  Error N =  0\n",
            "0 2.8309278350515465\n",
            "( 1 ) Erro =  0.030927835051546393  wr =  0.32  R =  10 E + wrR =  3.2309278350515465  T1 =  0.0937321931602485  T2 =  -0.4765638399792085  Error P =  8  Error N =  4\n",
            "( 2 ) Erro =  0.0234375  wr =  0.32  R =  14 E + wrR =  4.5034375  T1 =  0.187464386320497  T2 =  -0.953127679958417  Error P =  7  Error N =  2\n",
            "( 3 ) Erro =  0.016172506738544475  wr =  0.32  R =  27 E + wrR =  8.656172506738544  T1 =  0.2811965794807455  T2 =  -1.4296915199376254  Error P =  6  Error N =  0\n",
            "( 4 ) Erro =  0.013850415512465374  wr =  0.32  R =  37 E + wrR =  11.853850415512465  T1 =  0.374928772640994  T2 =  -1.906255359916834  Error P =  5  Error N =  0\n",
            "( 5 ) Erro =  0.0113314447592068  wr =  0.32  R =  45 E + wrR =  14.411331444759208  T1 =  0.4686609658012425  T2 =  -2.3828191998960424  Error P =  4  Error N =  0\n",
            "( 6 ) Erro =  0.011594202898550725  wr =  0.32  R =  53 E + wrR =  16.97159420289855  T1 =  0.562393158961491  T2 =  -2.859383039875251  Error P =  4  Error N =  0\n",
            "( 7 ) Erro =  0.012012012012012012  wr =  0.32  R =  65 E + wrR =  20.812012012012012  T1 =  0.6561253521217395  T2 =  -3.33594687985446  Error P =  4  Error N =  0\n",
            "( 8 ) Erro =  0.0121580547112462  wr =  0.32  R =  69 E + wrR =  22.09215805471125  T1 =  0.749857545281988  T2 =  -3.812510719833668  Error P =  4  Error N =  0\n",
            "( 9 ) Erro =  0.00946372239747634  wr =  0.32  R =  81 E + wrR =  25.92946372239748  T1 =  0.8435897384422364  T2 =  -4.289074559812876  Error P =  3  Error N =  0\n",
            "( 10 ) Erro =  0.006535947712418301  wr =  0.32  R =  92 E + wrR =  29.44653594771242  T1 =  0.937321931602485  T2 =  -4.765638399792085  Error P =  2  Error N =  0\n",
            "( 11 ) Erro =  0.006711409395973154  wr =  0.32  R =  100 E + wrR =  32.006711409395976  T1 =  1.0310541247627334  T2 =  -5.242202239771293  Error P =  2  Error N =  0\n",
            "( 12 ) Erro =  0.006968641114982578  wr =  0.32  R =  111 E + wrR =  35.52696864111498  T1 =  1.124786317922982  T2 =  -5.718766079750502  Error P =  2  Error N =  0\n",
            "( 13 ) Erro =  0.0071174377224199285  wr =  0.32  R =  117 E + wrR =  37.44711743772242  T1 =  1.2185185110832304  T2 =  -6.19532991972971  Error P =  2  Error N =  0\n",
            "( 14 ) Erro =  0.0037313432835820895  wr =  0.32  R =  130 E + wrR =  41.603731343283584  T1 =  1.312250704243479  T2 =  -6.67189375970892  Error P =  1  Error N =  0\n",
            "( 15 ) Erro =  0.0038910505836575876  wr =  0.32  R =  141 E + wrR =  45.12389105058366  T1 =  1.4059828974037274  T2 =  -7.148457599688127  Error P =  1  Error N =  0\n",
            "( 16 ) Erro =  0.00398406374501992  wr =  0.32  R =  147 E + wrR =  47.04398406374502  T1 =  1.499715090563976  T2 =  -7.625021439667336  Error P =  1  Error N =  0\n",
            "( 17 ) Erro =  0.004048582995951417  wr =  0.32  R =  151 E + wrR =  48.32404858299595  T1 =  1.5934472837242246  T2 =  -8.101585279646544  Error P =  1  Error N =  0\n",
            "( 18 ) Erro =  0.004201680672268907  wr =  0.32  R =  160 E + wrR =  51.20420168067227  T1 =  1.6871794768844728  T2 =  -8.578149119625753  Error P =  1  Error N =  0\n",
            "( 19 ) Erro =  0.004273504273504274  wr =  0.32  R =  164 E + wrR =  52.48427350427351  T1 =  1.7809116700447214  T2 =  -9.054712959604961  Error P =  1  Error N =  0\n",
            "( 20 ) Erro =  0.004545454545454545  wr =  0.32  R =  178 E + wrR =  56.96454545454546  T1 =  1.87464386320497  T2 =  -9.53127679958417  Error P =  1  Error N =  0\n",
            "( 21 ) Erro =  0.004694835680751174  wr =  0.32  R =  185 E + wrR =  59.204694835680755  T1 =  1.9683760563652184  T2 =  -10.007840639563378  Error P =  1  Error N =  0\n",
            "( 22 ) Erro =  0.004784688995215311  wr =  0.32  R =  189 E + wrR =  60.48478468899522  T1 =  2.062108249525467  T2 =  -10.484404479542587  Error P =  1  Error N =  0\n",
            "( 23 ) Erro =  0.0048543689320388345  wr =  0.32  R =  192 E + wrR =  61.444854368932035  T1 =  2.1558404426857156  T2 =  -10.960968319521795  Error P =  1  Error N =  0\n",
            "( 24 ) Erro =  0.0051813471502590676  wr =  0.32  R =  205 E + wrR =  65.60518134715025  T1 =  2.249572635845964  T2 =  -11.437532159501004  Error P =  1  Error N =  0\n",
            "( 25 ) Erro =  0.005405405405405406  wr =  0.32  R =  213 E + wrR =  68.16540540540541  T1 =  2.3433048290062124  T2 =  -11.914095999480212  Error P =  1  Error N =  0\n",
            "( 26 ) Erro =  0.00558659217877095  wr =  0.32  R =  219 E + wrR =  70.08558659217877  T1 =  2.437037022166461  T2 =  -12.39065983945942  Error P =  1  Error N =  0\n",
            "( 27 ) Erro =  0.005847953216374269  wr =  0.32  R =  227 E + wrR =  72.64584795321638  T1 =  2.5307692153267096  T2 =  -12.867223679438629  Error P =  1  Error N =  0\n",
            "( 28 ) Erro =  0.0  wr =  0.32  R =  237 E + wrR =  75.84  T1 =  2.624501408486958  T2 =  -13.34378751941784  Error P =  0  Error N =  0\n",
            "( 29 ) Erro =  0.0  wr =  0.32  R =  243 E + wrR =  77.76  T1 =  2.7182336016472064  T2 =  -13.820351359397044  Error P =  0  Error N =  0\n",
            "( 30 ) Erro =  0.0  wr =  0.32  R =  245 E + wrR =  78.4  T1 =  2.811965794807455  T2 =  -14.296915199376254  Error P =  0  Error N =  0\n",
            "( 31 ) Erro =  0.0  wr =  0.32  R =  252 E + wrR =  80.64  T1 =  2.905697987967703  T2 =  -14.773479039355463  Error P =  0  Error N =  0\n",
            "( 32 ) Erro =  0.0  wr =  0.32  R =  261 E + wrR =  83.52  T1 =  2.999430181127952  T2 =  -15.250042879334671  Error P =  0  Error N =  0\n",
            "( 33 ) Erro =  0.0  wr =  0.32  R =  269 E + wrR =  86.08  T1 =  3.0931623742882004  T2 =  -15.72660671931388  Error P =  0  Error N =  0\n",
            "( 34 ) Erro =  0.0  wr =  0.32  R =  279 E + wrR =  89.28  T1 =  3.1868945674484492  T2 =  -16.20317055929309  Error P =  0  Error N =  0\n",
            "( 35 ) Erro =  0.0  wr =  0.32  R =  287 E + wrR =  91.84  T1 =  3.2806267606086976  T2 =  -16.6797343992723  Error P =  0  Error N =  0\n",
            "( 36 ) Erro =  0.0  wr =  0.32  R =  293 E + wrR =  93.76  T1 =  3.3743589537689456  T2 =  -17.156298239251505  Error P =  0  Error N =  0\n",
            "( 37 ) Erro =  0.0  wr =  0.32  R =  302 E + wrR =  96.64  T1 =  3.4680911469291944  T2 =  -17.632862079230712  Error P =  0  Error N =  0\n",
            "( 38 ) Erro =  0.0  wr =  0.32  R =  309 E + wrR =  98.88  T1 =  3.561823340089443  T2 =  -18.109425919209922  Error P =  0  Error N =  0\n",
            "( 39 ) Erro =  0.0  wr =  0.32  R =  313 E + wrR =  100.16  T1 =  3.6555555332496916  T2 =  -18.585989759189133  Error P =  0  Error N =  0\n",
            "( 40 ) Erro =  0.0  wr =  0.32  R =  320 E + wrR =  102.4  T1 =  3.74928772640994  T2 =  -19.06255359916834  Error P =  0  Error N =  0\n",
            "( 41 ) Erro =  0.0  wr =  0.32  R =  323 E + wrR =  103.36  T1 =  3.8430199195701884  T2 =  -19.53911743914755  Error P =  0  Error N =  0\n",
            "( 42 ) Erro =  0.0  wr =  0.32  R =  326 E + wrR =  104.32000000000001  T1 =  3.936752112730437  T2 =  -20.015681279126756  Error P =  0  Error N =  0\n",
            "( 43 ) Erro =  0.0  wr =  0.32  R =  332 E + wrR =  106.24000000000001  T1 =  4.030484305890686  T2 =  -20.492245119105963  Error P =  0  Error N =  0\n",
            "( 44 ) Erro =  0.0  wr =  0.32  R =  339 E + wrR =  108.48  T1 =  4.124216499050934  T2 =  -20.968808959085173  Error P =  0  Error N =  0\n",
            "( 45 ) Erro =  0.0  wr =  0.32  R =  345 E + wrR =  110.4  T1 =  4.217948692211182  T2 =  -21.445372799064383  Error P =  0  Error N =  0\n",
            "( 46 ) Erro =  0.0  wr =  0.32  R =  352 E + wrR =  112.64  T1 =  4.311680885371431  T2 =  -21.92193663904359  Error P =  0  Error N =  0\n",
            "( 47 ) Erro =  0.0  wr =  0.32  R =  359 E + wrR =  114.88  T1 =  4.405413078531679  T2 =  -22.3985004790228  Error P =  0  Error N =  0\n",
            "( 48 ) Erro =  0.0  wr =  0.32  R =  361 E + wrR =  115.52  T1 =  4.499145271691928  T2 =  -22.875064319002007  Error P =  0  Error N =  0\n",
            "( 49 ) Erro =  0.0  wr =  0.32  R =  363 E + wrR =  116.16  T1 =  4.592877464852176  T2 =  -23.351628158981214  Error P =  0  Error N =  0\n",
            "( 50 ) Erro =  0.0  wr =  0.32  R =  365 E + wrR =  116.8  T1 =  4.686609658012425  T2 =  -23.828191998960424  Error P =  0  Error N =  0\n",
            "( 51 ) Erro =  0.0  wr =  0.32  R =  368 E + wrR =  117.76  T1 =  4.780341851172674  T2 =  -24.304755838939634  Error P =  0  Error N =  0\n",
            "( 52 ) Erro =  0.0  wr =  0.32  R =  371 E + wrR =  118.72  T1 =  4.874074044332922  T2 =  -24.78131967891884  Error P =  0  Error N =  0\n",
            "( 53 ) Erro =  0.0  wr =  0.32  R =  374 E + wrR =  119.68  T1 =  4.96780623749317  T2 =  -25.25788351889805  Error P =  0  Error N =  0\n",
            "( 54 ) Erro =  0.0  wr =  0.32  R =  375 E + wrR =  120.0  T1 =  5.061538430653419  T2 =  -25.734447358877258  Error P =  0  Error N =  0\n",
            "( 55 ) Erro =  0.0  wr =  0.32  R =  377 E + wrR =  120.64  T1 =  5.155270623813668  T2 =  -26.21101119885647  Error P =  0  Error N =  0\n",
            "( 56 ) Erro =  0.0  wr =  0.32  R =  378 E + wrR =  120.96000000000001  T1 =  5.249002816973916  T2 =  -26.68757503883568  Error P =  0  Error N =  0\n",
            "( 57 ) Erro =  0.0  wr =  0.32  R =  380 E + wrR =  121.60000000000001  T1 =  5.342735010134165  T2 =  -27.164138878814885  Error P =  0  Error N =  0\n",
            "( 58 ) Erro =  0.0  wr =  0.32  R =  382 E + wrR =  122.24000000000001  T1 =  5.436467203294413  T2 =  -27.64070271879409  Error P =  0  Error N =  0\n",
            "( 59 ) Erro =  0.0  wr =  0.32  R =  383 E + wrR =  122.56  T1 =  5.530199396454661  T2 =  -28.1172665587733  Error P =  0  Error N =  0\n",
            "( 60 ) Erro =  0.0  wr =  0.32  R =  384 E + wrR =  122.88  T1 =  5.62393158961491  T2 =  -28.59383039875251  Error P =  0  Error N =  0\n",
            "( 61 ) Erro =  0.0  wr =  0.32  R =  387 E + wrR =  123.84  T1 =  5.717663782775158  T2 =  -29.070394238731716  Error P =  0  Error N =  0\n",
            "( 62 ) Erro =  0.0  wr =  0.32  R =  389 E + wrR =  124.48  T1 =  5.811395975935406  T2 =  -29.546958078710926  Error P =  0  Error N =  0\n",
            "( 63 ) Erro =  0.0  wr =  0.32  R =  389 E + wrR =  124.48  T1 =  5.905128169095655  T2 =  -30.023521918690136  Error P =  0  Error N =  0\n",
            "( 64 ) Erro =  0.0  wr =  0.32  R =  389 E + wrR =  124.48  T1 =  5.998860362255904  T2 =  -30.500085758669343  Error P =  0  Error N =  0\n",
            "( 65 ) Erro =  0.0  wr =  0.32  R =  389 E + wrR =  124.48  T1 =  6.092592555416153  T2 =  -30.976649598648553  Error P =  0  Error N =  0\n",
            "( 66 ) Erro =  0.0  wr =  0.32  R =  389 E + wrR =  124.48  T1 =  6.186324748576401  T2 =  -31.45321343862776  Error P =  0  Error N =  0\n",
            "( 67 ) Erro =  0.0  wr =  0.32  R =  391 E + wrR =  125.12  T1 =  6.28005694173665  T2 =  -31.92977727860697  Error P =  0  Error N =  0\n",
            "( 68 ) Erro =  0.0  wr =  0.32  R =  393 E + wrR =  125.76  T1 =  6.3737891348968985  T2 =  -32.40634111858618  Error P =  0  Error N =  0\n",
            "( 69 ) Erro =  0.0  wr =  0.32  R =  394 E + wrR =  126.08  T1 =  6.467521328057146  T2 =  -32.88290495856539  Error P =  0  Error N =  0\n",
            "( 70 ) Erro =  0.0  wr =  0.32  R =  394 E + wrR =  126.08  T1 =  6.561253521217395  T2 =  -33.3594687985446  Error P =  0  Error N =  0\n",
            "( 71 ) Erro =  0.0  wr =  0.32  R =  394 E + wrR =  126.08  T1 =  6.654985714377643  T2 =  -33.836032638523804  Error P =  0  Error N =  0\n",
            "( 72 ) Erro =  0.0  wr =  0.32  R =  394 E + wrR =  126.08  T1 =  6.748717907537891  T2 =  -34.31259647850301  Error P =  0  Error N =  0\n",
            "( 73 ) Erro =  0.0  wr =  0.32  R =  394 E + wrR =  126.08  T1 =  6.84245010069814  T2 =  -34.78916031848222  Error P =  0  Error N =  0\n",
            "( 74 ) Erro =  0.0  wr =  0.32  R =  394 E + wrR =  126.08  T1 =  6.936182293858389  T2 =  -35.265724158461424  Error P =  0  Error N =  0\n",
            "( 75 ) Erro =  0.0  wr =  0.32  R =  394 E + wrR =  126.08  T1 =  7.029914487018637  T2 =  -35.74228799844064  Error P =  0  Error N =  0\n",
            "( 76 ) Erro =  0.0  wr =  0.32  R =  394 E + wrR =  126.08  T1 =  7.123646680178886  T2 =  -36.218851838419845  Error P =  0  Error N =  0\n",
            "( 77 ) Erro =  0.0  wr =  0.32  R =  396 E + wrR =  126.72  T1 =  7.217378873339134  T2 =  -36.69541567839905  Error P =  0  Error N =  0\n",
            "( 78 ) Erro =  0.0  wr =  0.32  R =  396 E + wrR =  126.72  T1 =  7.311111066499383  T2 =  -37.171979518378265  Error P =  0  Error N =  0\n",
            "( 79 ) Erro =  0.0  wr =  0.32  R =  396 E + wrR =  126.72  T1 =  7.404843259659631  T2 =  -37.64854335835747  Error P =  0  Error N =  0\n",
            "( 80 ) Erro =  0.0  wr =  0.32  R =  396 E + wrR =  126.72  T1 =  7.49857545281988  T2 =  -38.12510719833668  Error P =  0  Error N =  0\n",
            "( 81 ) Erro =  0.0  wr =  0.32  R =  396 E + wrR =  126.72  T1 =  7.592307645980129  T2 =  -38.60167103831589  Error P =  0  Error N =  0\n",
            "( 82 ) Erro =  0.0  wr =  0.32  R =  396 E + wrR =  126.72  T1 =  7.686039839140377  T2 =  -39.0782348782951  Error P =  0  Error N =  0\n",
            "( 83 ) Erro =  0.0  wr =  0.32  R =  396 E + wrR =  126.72  T1 =  7.779772032300626  T2 =  -39.554798718274306  Error P =  0  Error N =  0\n",
            "( 84 ) Erro =  0.0  wr =  0.32  R =  396 E + wrR =  126.72  T1 =  7.873504225460874  T2 =  -40.03136255825351  Error P =  0  Error N =  0\n",
            "( 85 ) Erro =  0.0  wr =  0.32  R =  396 E + wrR =  126.72  T1 =  7.9672364186211215  T2 =  -40.50792639823272  Error P =  0  Error N =  0\n",
            "( 86 ) Erro =  0.0  wr =  0.32  R =  396 E + wrR =  126.72  T1 =  8.060968611781371  T2 =  -40.984490238211926  Error P =  0  Error N =  0\n",
            "( 87 ) Erro =  0.0  wr =  0.32  R =  396 E + wrR =  126.72  T1 =  8.15470080494162  T2 =  -41.46105407819114  Error P =  0  Error N =  0\n",
            "( 88 ) Erro =  0.0  wr =  0.32  R =  396 E + wrR =  126.72  T1 =  8.248432998101867  T2 =  -41.937617918170346  Error P =  0  Error N =  0\n",
            "( 89 ) Erro =  0.0  wr =  0.32  R =  396 E + wrR =  126.72  T1 =  8.342165191262117  T2 =  -42.41418175814955  Error P =  0  Error N =  0\n",
            "( 90 ) Erro =  0.0  wr =  0.32  R =  396 E + wrR =  126.72  T1 =  8.435897384422365  T2 =  -42.89074559812877  Error P =  0  Error N =  0\n",
            "( 91 ) Erro =  0.0  wr =  0.32  R =  396 E + wrR =  126.72  T1 =  8.529629577582613  T2 =  -43.367309438107974  Error P =  0  Error N =  0\n",
            "( 92 ) Erro =  0.0  wr =  0.32  R =  396 E + wrR =  126.72  T1 =  8.623361770742862  T2 =  -43.84387327808718  Error P =  0  Error N =  0\n",
            "( 93 ) Erro =  0.0  wr =  0.32  R =  396 E + wrR =  126.72  T1 =  8.71709396390311  T2 =  -44.320437118066394  Error P =  0  Error N =  0\n",
            "( 94 ) Erro =  0.0  wr =  0.32  R =  396 E + wrR =  126.72  T1 =  8.810826157063358  T2 =  -44.7970009580456  Error P =  0  Error N =  0\n",
            "( 95 ) Erro =  0.0  wr =  0.32  R =  396 E + wrR =  126.72  T1 =  8.904558350223608  T2 =  -45.27356479802481  Error P =  0  Error N =  0\n",
            "( 96 ) Erro =  0.0  wr =  0.32  R =  396 E + wrR =  126.72  T1 =  8.998290543383856  T2 =  -45.750128638004014  Error P =  0  Error N =  0\n",
            "( 97 ) Erro =  0.0  wr =  0.32  R =  396 E + wrR =  126.72  T1 =  9.092022736544104  T2 =  -46.22669247798322  Error P =  0  Error N =  0\n",
            "( 98 ) Erro =  0.0  wr =  0.32  R =  396 E + wrR =  126.72  T1 =  9.185754929704352  T2 =  -46.70325631796243  Error P =  0  Error N =  0\n",
            "( 99 ) Erro =  0.0  wr =  0.32  R =  396 E + wrR =  126.72  T1 =  9.279487122864602  T2 =  -47.17982015794164  Error P =  0  Error N =  0\n",
            "( 100 ) Erro =  0.0  wr =  0.32  R =  397 E + wrR =  127.04  T1 =  9.37321931602485  T2 =  -47.65638399792085  Error P =  0  Error N =  0\n",
            "0 3.2309278350515465\n",
            "( 1 ) Erro =  0.030927835051546393  wr =  0.36  R =  10 E + wrR =  3.630927835051546  T1 =  0.0937321931602485  T2 =  -0.4765638399792085  Error P =  8  Error N =  4\n",
            "( 2 ) Erro =  0.0234375  wr =  0.36  R =  14 E + wrR =  5.0634375  T1 =  0.187464386320497  T2 =  -0.953127679958417  Error P =  7  Error N =  2\n",
            "( 3 ) Erro =  0.016172506738544475  wr =  0.36  R =  27 E + wrR =  9.736172506738543  T1 =  0.2811965794807455  T2 =  -1.4296915199376254  Error P =  6  Error N =  0\n",
            "( 4 ) Erro =  0.013850415512465374  wr =  0.36  R =  37 E + wrR =  13.333850415512465  T1 =  0.374928772640994  T2 =  -1.906255359916834  Error P =  5  Error N =  0\n",
            "( 5 ) Erro =  0.0113314447592068  wr =  0.36  R =  45 E + wrR =  16.211331444759207  T1 =  0.4686609658012425  T2 =  -2.3828191998960424  Error P =  4  Error N =  0\n",
            "( 6 ) Erro =  0.011594202898550725  wr =  0.36  R =  53 E + wrR =  19.09159420289855  T1 =  0.562393158961491  T2 =  -2.859383039875251  Error P =  4  Error N =  0\n",
            "( 7 ) Erro =  0.012012012012012012  wr =  0.36  R =  65 E + wrR =  23.41201201201201  T1 =  0.6561253521217395  T2 =  -3.33594687985446  Error P =  4  Error N =  0\n",
            "( 8 ) Erro =  0.0121580547112462  wr =  0.36  R =  69 E + wrR =  24.852158054711246  T1 =  0.749857545281988  T2 =  -3.812510719833668  Error P =  4  Error N =  0\n",
            "( 9 ) Erro =  0.00946372239747634  wr =  0.36  R =  81 E + wrR =  29.169463722397477  T1 =  0.8435897384422364  T2 =  -4.289074559812876  Error P =  3  Error N =  0\n",
            "( 10 ) Erro =  0.006535947712418301  wr =  0.36  R =  92 E + wrR =  33.12653594771242  T1 =  0.937321931602485  T2 =  -4.765638399792085  Error P =  2  Error N =  0\n",
            "( 11 ) Erro =  0.006711409395973154  wr =  0.36  R =  100 E + wrR =  36.006711409395976  T1 =  1.0310541247627334  T2 =  -5.242202239771293  Error P =  2  Error N =  0\n",
            "( 12 ) Erro =  0.006968641114982578  wr =  0.36  R =  111 E + wrR =  39.96696864111498  T1 =  1.124786317922982  T2 =  -5.718766079750502  Error P =  2  Error N =  0\n",
            "( 13 ) Erro =  0.0071174377224199285  wr =  0.36  R =  117 E + wrR =  42.12711743772242  T1 =  1.2185185110832304  T2 =  -6.19532991972971  Error P =  2  Error N =  0\n",
            "( 14 ) Erro =  0.0037313432835820895  wr =  0.36  R =  130 E + wrR =  46.80373134328358  T1 =  1.312250704243479  T2 =  -6.67189375970892  Error P =  1  Error N =  0\n",
            "( 15 ) Erro =  0.0038910505836575876  wr =  0.36  R =  141 E + wrR =  50.76389105058366  T1 =  1.4059828974037274  T2 =  -7.148457599688127  Error P =  1  Error N =  0\n",
            "( 16 ) Erro =  0.00398406374501992  wr =  0.36  R =  147 E + wrR =  52.92398406374502  T1 =  1.499715090563976  T2 =  -7.625021439667336  Error P =  1  Error N =  0\n",
            "( 17 ) Erro =  0.004048582995951417  wr =  0.36  R =  151 E + wrR =  54.36404858299595  T1 =  1.5934472837242246  T2 =  -8.101585279646544  Error P =  1  Error N =  0\n",
            "( 18 ) Erro =  0.004201680672268907  wr =  0.36  R =  160 E + wrR =  57.60420168067226  T1 =  1.6871794768844728  T2 =  -8.578149119625753  Error P =  1  Error N =  0\n",
            "( 19 ) Erro =  0.004273504273504274  wr =  0.36  R =  164 E + wrR =  59.044273504273505  T1 =  1.7809116700447214  T2 =  -9.054712959604961  Error P =  1  Error N =  0\n",
            "( 20 ) Erro =  0.004545454545454545  wr =  0.36  R =  178 E + wrR =  64.08454545454545  T1 =  1.87464386320497  T2 =  -9.53127679958417  Error P =  1  Error N =  0\n",
            "( 21 ) Erro =  0.004694835680751174  wr =  0.36  R =  185 E + wrR =  66.60469483568075  T1 =  1.9683760563652184  T2 =  -10.007840639563378  Error P =  1  Error N =  0\n",
            "( 22 ) Erro =  0.004784688995215311  wr =  0.36  R =  189 E + wrR =  68.04478468899521  T1 =  2.062108249525467  T2 =  -10.484404479542587  Error P =  1  Error N =  0\n",
            "( 23 ) Erro =  0.0048543689320388345  wr =  0.36  R =  192 E + wrR =  69.12485436893205  T1 =  2.1558404426857156  T2 =  -10.960968319521795  Error P =  1  Error N =  0\n",
            "( 24 ) Erro =  0.0051813471502590676  wr =  0.36  R =  205 E + wrR =  73.80518134715025  T1 =  2.249572635845964  T2 =  -11.437532159501004  Error P =  1  Error N =  0\n",
            "( 25 ) Erro =  0.005405405405405406  wr =  0.36  R =  213 E + wrR =  76.6854054054054  T1 =  2.3433048290062124  T2 =  -11.914095999480212  Error P =  1  Error N =  0\n",
            "( 26 ) Erro =  0.00558659217877095  wr =  0.36  R =  219 E + wrR =  78.84558659217878  T1 =  2.437037022166461  T2 =  -12.39065983945942  Error P =  1  Error N =  0\n",
            "( 27 ) Erro =  0.005847953216374269  wr =  0.36  R =  227 E + wrR =  81.72584795321637  T1 =  2.5307692153267096  T2 =  -12.867223679438629  Error P =  1  Error N =  0\n",
            "( 28 ) Erro =  0.0  wr =  0.36  R =  237 E + wrR =  85.32  T1 =  2.624501408486958  T2 =  -13.34378751941784  Error P =  0  Error N =  0\n",
            "( 29 ) Erro =  0.0  wr =  0.36  R =  243 E + wrR =  87.47999999999999  T1 =  2.7182336016472064  T2 =  -13.820351359397044  Error P =  0  Error N =  0\n",
            "( 30 ) Erro =  0.0  wr =  0.36  R =  245 E + wrR =  88.2  T1 =  2.811965794807455  T2 =  -14.296915199376254  Error P =  0  Error N =  0\n",
            "( 31 ) Erro =  0.0  wr =  0.36  R =  252 E + wrR =  90.72  T1 =  2.905697987967703  T2 =  -14.773479039355463  Error P =  0  Error N =  0\n",
            "( 32 ) Erro =  0.0  wr =  0.36  R =  261 E + wrR =  93.96  T1 =  2.999430181127952  T2 =  -15.250042879334671  Error P =  0  Error N =  0\n",
            "( 33 ) Erro =  0.0  wr =  0.36  R =  269 E + wrR =  96.84  T1 =  3.0931623742882004  T2 =  -15.72660671931388  Error P =  0  Error N =  0\n",
            "( 34 ) Erro =  0.0  wr =  0.36  R =  279 E + wrR =  100.44  T1 =  3.1868945674484492  T2 =  -16.20317055929309  Error P =  0  Error N =  0\n",
            "( 35 ) Erro =  0.0  wr =  0.36  R =  287 E + wrR =  103.32  T1 =  3.2806267606086976  T2 =  -16.6797343992723  Error P =  0  Error N =  0\n",
            "( 36 ) Erro =  0.0  wr =  0.36  R =  293 E + wrR =  105.47999999999999  T1 =  3.3743589537689456  T2 =  -17.156298239251505  Error P =  0  Error N =  0\n",
            "( 37 ) Erro =  0.0  wr =  0.36  R =  302 E + wrR =  108.72  T1 =  3.4680911469291944  T2 =  -17.632862079230712  Error P =  0  Error N =  0\n",
            "( 38 ) Erro =  0.0  wr =  0.36  R =  309 E + wrR =  111.24  T1 =  3.561823340089443  T2 =  -18.109425919209922  Error P =  0  Error N =  0\n",
            "( 39 ) Erro =  0.0  wr =  0.36  R =  313 E + wrR =  112.67999999999999  T1 =  3.6555555332496916  T2 =  -18.585989759189133  Error P =  0  Error N =  0\n",
            "( 40 ) Erro =  0.0  wr =  0.36  R =  320 E + wrR =  115.19999999999999  T1 =  3.74928772640994  T2 =  -19.06255359916834  Error P =  0  Error N =  0\n",
            "( 41 ) Erro =  0.0  wr =  0.36  R =  323 E + wrR =  116.28  T1 =  3.8430199195701884  T2 =  -19.53911743914755  Error P =  0  Error N =  0\n",
            "( 42 ) Erro =  0.0  wr =  0.36  R =  326 E + wrR =  117.36  T1 =  3.936752112730437  T2 =  -20.015681279126756  Error P =  0  Error N =  0\n",
            "( 43 ) Erro =  0.0  wr =  0.36  R =  332 E + wrR =  119.52  T1 =  4.030484305890686  T2 =  -20.492245119105963  Error P =  0  Error N =  0\n",
            "( 44 ) Erro =  0.0  wr =  0.36  R =  339 E + wrR =  122.03999999999999  T1 =  4.124216499050934  T2 =  -20.968808959085173  Error P =  0  Error N =  0\n",
            "( 45 ) Erro =  0.0  wr =  0.36  R =  345 E + wrR =  124.19999999999999  T1 =  4.217948692211182  T2 =  -21.445372799064383  Error P =  0  Error N =  0\n",
            "( 46 ) Erro =  0.0  wr =  0.36  R =  352 E + wrR =  126.72  T1 =  4.311680885371431  T2 =  -21.92193663904359  Error P =  0  Error N =  0\n",
            "( 47 ) Erro =  0.0  wr =  0.36  R =  359 E + wrR =  129.24  T1 =  4.405413078531679  T2 =  -22.3985004790228  Error P =  0  Error N =  0\n",
            "( 48 ) Erro =  0.0  wr =  0.36  R =  361 E + wrR =  129.96  T1 =  4.499145271691928  T2 =  -22.875064319002007  Error P =  0  Error N =  0\n",
            "( 49 ) Erro =  0.0  wr =  0.36  R =  363 E + wrR =  130.68  T1 =  4.592877464852176  T2 =  -23.351628158981214  Error P =  0  Error N =  0\n",
            "( 50 ) Erro =  0.0  wr =  0.36  R =  365 E + wrR =  131.4  T1 =  4.686609658012425  T2 =  -23.828191998960424  Error P =  0  Error N =  0\n",
            "( 51 ) Erro =  0.0  wr =  0.36  R =  368 E + wrR =  132.48  T1 =  4.780341851172674  T2 =  -24.304755838939634  Error P =  0  Error N =  0\n",
            "( 52 ) Erro =  0.0  wr =  0.36  R =  371 E + wrR =  133.56  T1 =  4.874074044332922  T2 =  -24.78131967891884  Error P =  0  Error N =  0\n",
            "( 53 ) Erro =  0.0  wr =  0.36  R =  374 E + wrR =  134.64  T1 =  4.96780623749317  T2 =  -25.25788351889805  Error P =  0  Error N =  0\n",
            "( 54 ) Erro =  0.0  wr =  0.36  R =  375 E + wrR =  135.0  T1 =  5.061538430653419  T2 =  -25.734447358877258  Error P =  0  Error N =  0\n",
            "( 55 ) Erro =  0.0  wr =  0.36  R =  377 E + wrR =  135.72  T1 =  5.155270623813668  T2 =  -26.21101119885647  Error P =  0  Error N =  0\n",
            "( 56 ) Erro =  0.0  wr =  0.36  R =  378 E + wrR =  136.07999999999998  T1 =  5.249002816973916  T2 =  -26.68757503883568  Error P =  0  Error N =  0\n",
            "( 57 ) Erro =  0.0  wr =  0.36  R =  380 E + wrR =  136.79999999999998  T1 =  5.342735010134165  T2 =  -27.164138878814885  Error P =  0  Error N =  0\n",
            "( 58 ) Erro =  0.0  wr =  0.36  R =  382 E + wrR =  137.51999999999998  T1 =  5.436467203294413  T2 =  -27.64070271879409  Error P =  0  Error N =  0\n",
            "( 59 ) Erro =  0.0  wr =  0.36  R =  383 E + wrR =  137.88  T1 =  5.530199396454661  T2 =  -28.1172665587733  Error P =  0  Error N =  0\n",
            "( 60 ) Erro =  0.0  wr =  0.36  R =  384 E + wrR =  138.24  T1 =  5.62393158961491  T2 =  -28.59383039875251  Error P =  0  Error N =  0\n",
            "( 61 ) Erro =  0.0  wr =  0.36  R =  387 E + wrR =  139.32  T1 =  5.717663782775158  T2 =  -29.070394238731716  Error P =  0  Error N =  0\n",
            "( 62 ) Erro =  0.0  wr =  0.36  R =  389 E + wrR =  140.04  T1 =  5.811395975935406  T2 =  -29.546958078710926  Error P =  0  Error N =  0\n",
            "( 63 ) Erro =  0.0  wr =  0.36  R =  389 E + wrR =  140.04  T1 =  5.905128169095655  T2 =  -30.023521918690136  Error P =  0  Error N =  0\n",
            "( 64 ) Erro =  0.0  wr =  0.36  R =  389 E + wrR =  140.04  T1 =  5.998860362255904  T2 =  -30.500085758669343  Error P =  0  Error N =  0\n",
            "( 65 ) Erro =  0.0  wr =  0.36  R =  389 E + wrR =  140.04  T1 =  6.092592555416153  T2 =  -30.976649598648553  Error P =  0  Error N =  0\n",
            "( 66 ) Erro =  0.0  wr =  0.36  R =  389 E + wrR =  140.04  T1 =  6.186324748576401  T2 =  -31.45321343862776  Error P =  0  Error N =  0\n",
            "( 67 ) Erro =  0.0  wr =  0.36  R =  391 E + wrR =  140.76  T1 =  6.28005694173665  T2 =  -31.92977727860697  Error P =  0  Error N =  0\n",
            "( 68 ) Erro =  0.0  wr =  0.36  R =  393 E + wrR =  141.48  T1 =  6.3737891348968985  T2 =  -32.40634111858618  Error P =  0  Error N =  0\n",
            "( 69 ) Erro =  0.0  wr =  0.36  R =  394 E + wrR =  141.84  T1 =  6.467521328057146  T2 =  -32.88290495856539  Error P =  0  Error N =  0\n",
            "( 70 ) Erro =  0.0  wr =  0.36  R =  394 E + wrR =  141.84  T1 =  6.561253521217395  T2 =  -33.3594687985446  Error P =  0  Error N =  0\n",
            "( 71 ) Erro =  0.0  wr =  0.36  R =  394 E + wrR =  141.84  T1 =  6.654985714377643  T2 =  -33.836032638523804  Error P =  0  Error N =  0\n",
            "( 72 ) Erro =  0.0  wr =  0.36  R =  394 E + wrR =  141.84  T1 =  6.748717907537891  T2 =  -34.31259647850301  Error P =  0  Error N =  0\n",
            "( 73 ) Erro =  0.0  wr =  0.36  R =  394 E + wrR =  141.84  T1 =  6.84245010069814  T2 =  -34.78916031848222  Error P =  0  Error N =  0\n",
            "( 74 ) Erro =  0.0  wr =  0.36  R =  394 E + wrR =  141.84  T1 =  6.936182293858389  T2 =  -35.265724158461424  Error P =  0  Error N =  0\n",
            "( 75 ) Erro =  0.0  wr =  0.36  R =  394 E + wrR =  141.84  T1 =  7.029914487018637  T2 =  -35.74228799844064  Error P =  0  Error N =  0\n",
            "( 76 ) Erro =  0.0  wr =  0.36  R =  394 E + wrR =  141.84  T1 =  7.123646680178886  T2 =  -36.218851838419845  Error P =  0  Error N =  0\n",
            "( 77 ) Erro =  0.0  wr =  0.36  R =  396 E + wrR =  142.56  T1 =  7.217378873339134  T2 =  -36.69541567839905  Error P =  0  Error N =  0\n",
            "( 78 ) Erro =  0.0  wr =  0.36  R =  396 E + wrR =  142.56  T1 =  7.311111066499383  T2 =  -37.171979518378265  Error P =  0  Error N =  0\n",
            "( 79 ) Erro =  0.0  wr =  0.36  R =  396 E + wrR =  142.56  T1 =  7.404843259659631  T2 =  -37.64854335835747  Error P =  0  Error N =  0\n",
            "( 80 ) Erro =  0.0  wr =  0.36  R =  396 E + wrR =  142.56  T1 =  7.49857545281988  T2 =  -38.12510719833668  Error P =  0  Error N =  0\n",
            "( 81 ) Erro =  0.0  wr =  0.36  R =  396 E + wrR =  142.56  T1 =  7.592307645980129  T2 =  -38.60167103831589  Error P =  0  Error N =  0\n",
            "( 82 ) Erro =  0.0  wr =  0.36  R =  396 E + wrR =  142.56  T1 =  7.686039839140377  T2 =  -39.0782348782951  Error P =  0  Error N =  0\n",
            "( 83 ) Erro =  0.0  wr =  0.36  R =  396 E + wrR =  142.56  T1 =  7.779772032300626  T2 =  -39.554798718274306  Error P =  0  Error N =  0\n",
            "( 84 ) Erro =  0.0  wr =  0.36  R =  396 E + wrR =  142.56  T1 =  7.873504225460874  T2 =  -40.03136255825351  Error P =  0  Error N =  0\n",
            "( 85 ) Erro =  0.0  wr =  0.36  R =  396 E + wrR =  142.56  T1 =  7.9672364186211215  T2 =  -40.50792639823272  Error P =  0  Error N =  0\n",
            "( 86 ) Erro =  0.0  wr =  0.36  R =  396 E + wrR =  142.56  T1 =  8.060968611781371  T2 =  -40.984490238211926  Error P =  0  Error N =  0\n",
            "( 87 ) Erro =  0.0  wr =  0.36  R =  396 E + wrR =  142.56  T1 =  8.15470080494162  T2 =  -41.46105407819114  Error P =  0  Error N =  0\n",
            "( 88 ) Erro =  0.0  wr =  0.36  R =  396 E + wrR =  142.56  T1 =  8.248432998101867  T2 =  -41.937617918170346  Error P =  0  Error N =  0\n",
            "( 89 ) Erro =  0.0  wr =  0.36  R =  396 E + wrR =  142.56  T1 =  8.342165191262117  T2 =  -42.41418175814955  Error P =  0  Error N =  0\n",
            "( 90 ) Erro =  0.0  wr =  0.36  R =  396 E + wrR =  142.56  T1 =  8.435897384422365  T2 =  -42.89074559812877  Error P =  0  Error N =  0\n",
            "( 91 ) Erro =  0.0  wr =  0.36  R =  396 E + wrR =  142.56  T1 =  8.529629577582613  T2 =  -43.367309438107974  Error P =  0  Error N =  0\n",
            "( 92 ) Erro =  0.0  wr =  0.36  R =  396 E + wrR =  142.56  T1 =  8.623361770742862  T2 =  -43.84387327808718  Error P =  0  Error N =  0\n",
            "( 93 ) Erro =  0.0  wr =  0.36  R =  396 E + wrR =  142.56  T1 =  8.71709396390311  T2 =  -44.320437118066394  Error P =  0  Error N =  0\n",
            "( 94 ) Erro =  0.0  wr =  0.36  R =  396 E + wrR =  142.56  T1 =  8.810826157063358  T2 =  -44.7970009580456  Error P =  0  Error N =  0\n",
            "( 95 ) Erro =  0.0  wr =  0.36  R =  396 E + wrR =  142.56  T1 =  8.904558350223608  T2 =  -45.27356479802481  Error P =  0  Error N =  0\n",
            "( 96 ) Erro =  0.0  wr =  0.36  R =  396 E + wrR =  142.56  T1 =  8.998290543383856  T2 =  -45.750128638004014  Error P =  0  Error N =  0\n",
            "( 97 ) Erro =  0.0  wr =  0.36  R =  396 E + wrR =  142.56  T1 =  9.092022736544104  T2 =  -46.22669247798322  Error P =  0  Error N =  0\n",
            "( 98 ) Erro =  0.0  wr =  0.36  R =  396 E + wrR =  142.56  T1 =  9.185754929704352  T2 =  -46.70325631796243  Error P =  0  Error N =  0\n",
            "( 99 ) Erro =  0.0  wr =  0.36  R =  396 E + wrR =  142.56  T1 =  9.279487122864602  T2 =  -47.17982015794164  Error P =  0  Error N =  0\n",
            "( 100 ) Erro =  0.0  wr =  0.36  R =  397 E + wrR =  142.92  T1 =  9.37321931602485  T2 =  -47.65638399792085  Error P =  0  Error N =  0\n",
            "0 3.630927835051546\n",
            "( 1 ) Erro =  0.030927835051546393  wr =  0.4  R =  10 E + wrR =  4.030927835051546  T1 =  0.0937321931602485  T2 =  -0.4765638399792085  Error P =  8  Error N =  4\n",
            "( 2 ) Erro =  0.0234375  wr =  0.4  R =  14 E + wrR =  5.6234375000000005  T1 =  0.187464386320497  T2 =  -0.953127679958417  Error P =  7  Error N =  2\n",
            "( 3 ) Erro =  0.016172506738544475  wr =  0.4  R =  27 E + wrR =  10.816172506738544  T1 =  0.2811965794807455  T2 =  -1.4296915199376254  Error P =  6  Error N =  0\n",
            "( 4 ) Erro =  0.013850415512465374  wr =  0.4  R =  37 E + wrR =  14.813850415512466  T1 =  0.374928772640994  T2 =  -1.906255359916834  Error P =  5  Error N =  0\n",
            "( 5 ) Erro =  0.0113314447592068  wr =  0.4  R =  45 E + wrR =  18.011331444759207  T1 =  0.4686609658012425  T2 =  -2.3828191998960424  Error P =  4  Error N =  0\n",
            "( 6 ) Erro =  0.011594202898550725  wr =  0.4  R =  53 E + wrR =  21.211594202898553  T1 =  0.562393158961491  T2 =  -2.859383039875251  Error P =  4  Error N =  0\n",
            "( 7 ) Erro =  0.012012012012012012  wr =  0.4  R =  65 E + wrR =  26.01201201201201  T1 =  0.6561253521217395  T2 =  -3.33594687985446  Error P =  4  Error N =  0\n",
            "( 8 ) Erro =  0.0121580547112462  wr =  0.4  R =  69 E + wrR =  27.612158054711248  T1 =  0.749857545281988  T2 =  -3.812510719833668  Error P =  4  Error N =  0\n",
            "( 9 ) Erro =  0.00946372239747634  wr =  0.4  R =  81 E + wrR =  32.409463722397476  T1 =  0.8435897384422364  T2 =  -4.289074559812876  Error P =  3  Error N =  0\n",
            "( 10 ) Erro =  0.006535947712418301  wr =  0.4  R =  92 E + wrR =  36.806535947712426  T1 =  0.937321931602485  T2 =  -4.765638399792085  Error P =  2  Error N =  0\n",
            "( 11 ) Erro =  0.006711409395973154  wr =  0.4  R =  100 E + wrR =  40.006711409395976  T1 =  1.0310541247627334  T2 =  -5.242202239771293  Error P =  2  Error N =  0\n",
            "( 12 ) Erro =  0.006968641114982578  wr =  0.4  R =  111 E + wrR =  44.406968641114986  T1 =  1.124786317922982  T2 =  -5.718766079750502  Error P =  2  Error N =  0\n",
            "( 13 ) Erro =  0.0071174377224199285  wr =  0.4  R =  117 E + wrR =  46.807117437722425  T1 =  1.2185185110832304  T2 =  -6.19532991972971  Error P =  2  Error N =  0\n",
            "( 14 ) Erro =  0.0037313432835820895  wr =  0.4  R =  130 E + wrR =  52.00373134328358  T1 =  1.312250704243479  T2 =  -6.67189375970892  Error P =  1  Error N =  0\n",
            "( 15 ) Erro =  0.0038910505836575876  wr =  0.4  R =  141 E + wrR =  56.40389105058367  T1 =  1.4059828974037274  T2 =  -7.148457599688127  Error P =  1  Error N =  0\n",
            "( 16 ) Erro =  0.00398406374501992  wr =  0.4  R =  147 E + wrR =  58.80398406374503  T1 =  1.499715090563976  T2 =  -7.625021439667336  Error P =  1  Error N =  0\n",
            "( 17 ) Erro =  0.004048582995951417  wr =  0.4  R =  151 E + wrR =  60.404048582995955  T1 =  1.5934472837242246  T2 =  -8.101585279646544  Error P =  1  Error N =  0\n",
            "( 18 ) Erro =  0.004201680672268907  wr =  0.4  R =  160 E + wrR =  64.00420168067227  T1 =  1.6871794768844728  T2 =  -8.578149119625753  Error P =  1  Error N =  0\n",
            "( 19 ) Erro =  0.004273504273504274  wr =  0.4  R =  164 E + wrR =  65.60427350427351  T1 =  1.7809116700447214  T2 =  -9.054712959604961  Error P =  1  Error N =  0\n",
            "( 20 ) Erro =  0.004545454545454545  wr =  0.4  R =  178 E + wrR =  71.20454545454545  T1 =  1.87464386320497  T2 =  -9.53127679958417  Error P =  1  Error N =  0\n",
            "( 21 ) Erro =  0.004694835680751174  wr =  0.4  R =  185 E + wrR =  74.00469483568075  T1 =  1.9683760563652184  T2 =  -10.007840639563378  Error P =  1  Error N =  0\n",
            "( 22 ) Erro =  0.004784688995215311  wr =  0.4  R =  189 E + wrR =  75.60478468899522  T1 =  2.062108249525467  T2 =  -10.484404479542587  Error P =  1  Error N =  0\n",
            "( 23 ) Erro =  0.0048543689320388345  wr =  0.4  R =  192 E + wrR =  76.80485436893206  T1 =  2.1558404426857156  T2 =  -10.960968319521795  Error P =  1  Error N =  0\n",
            "( 24 ) Erro =  0.0051813471502590676  wr =  0.4  R =  205 E + wrR =  82.00518134715026  T1 =  2.249572635845964  T2 =  -11.437532159501004  Error P =  1  Error N =  0\n",
            "( 25 ) Erro =  0.005405405405405406  wr =  0.4  R =  213 E + wrR =  85.20540540540541  T1 =  2.3433048290062124  T2 =  -11.914095999480212  Error P =  1  Error N =  0\n",
            "( 26 ) Erro =  0.00558659217877095  wr =  0.4  R =  219 E + wrR =  87.60558659217878  T1 =  2.437037022166461  T2 =  -12.39065983945942  Error P =  1  Error N =  0\n",
            "( 27 ) Erro =  0.005847953216374269  wr =  0.4  R =  227 E + wrR =  90.80584795321639  T1 =  2.5307692153267096  T2 =  -12.867223679438629  Error P =  1  Error N =  0\n",
            "( 28 ) Erro =  0.0  wr =  0.4  R =  237 E + wrR =  94.80000000000001  T1 =  2.624501408486958  T2 =  -13.34378751941784  Error P =  0  Error N =  0\n",
            "( 29 ) Erro =  0.0  wr =  0.4  R =  243 E + wrR =  97.2  T1 =  2.7182336016472064  T2 =  -13.820351359397044  Error P =  0  Error N =  0\n",
            "( 30 ) Erro =  0.0  wr =  0.4  R =  245 E + wrR =  98.0  T1 =  2.811965794807455  T2 =  -14.296915199376254  Error P =  0  Error N =  0\n",
            "( 31 ) Erro =  0.0  wr =  0.4  R =  252 E + wrR =  100.80000000000001  T1 =  2.905697987967703  T2 =  -14.773479039355463  Error P =  0  Error N =  0\n",
            "( 32 ) Erro =  0.0  wr =  0.4  R =  261 E + wrR =  104.4  T1 =  2.999430181127952  T2 =  -15.250042879334671  Error P =  0  Error N =  0\n",
            "( 33 ) Erro =  0.0  wr =  0.4  R =  269 E + wrR =  107.60000000000001  T1 =  3.0931623742882004  T2 =  -15.72660671931388  Error P =  0  Error N =  0\n",
            "( 34 ) Erro =  0.0  wr =  0.4  R =  279 E + wrR =  111.60000000000001  T1 =  3.1868945674484492  T2 =  -16.20317055929309  Error P =  0  Error N =  0\n",
            "( 35 ) Erro =  0.0  wr =  0.4  R =  287 E + wrR =  114.80000000000001  T1 =  3.2806267606086976  T2 =  -16.6797343992723  Error P =  0  Error N =  0\n",
            "( 36 ) Erro =  0.0  wr =  0.4  R =  293 E + wrR =  117.2  T1 =  3.3743589537689456  T2 =  -17.156298239251505  Error P =  0  Error N =  0\n",
            "( 37 ) Erro =  0.0  wr =  0.4  R =  302 E + wrR =  120.80000000000001  T1 =  3.4680911469291944  T2 =  -17.632862079230712  Error P =  0  Error N =  0\n",
            "( 38 ) Erro =  0.0  wr =  0.4  R =  309 E + wrR =  123.60000000000001  T1 =  3.561823340089443  T2 =  -18.109425919209922  Error P =  0  Error N =  0\n",
            "( 39 ) Erro =  0.0  wr =  0.4  R =  313 E + wrR =  125.2  T1 =  3.6555555332496916  T2 =  -18.585989759189133  Error P =  0  Error N =  0\n",
            "( 40 ) Erro =  0.0  wr =  0.4  R =  320 E + wrR =  128.0  T1 =  3.74928772640994  T2 =  -19.06255359916834  Error P =  0  Error N =  0\n",
            "( 41 ) Erro =  0.0  wr =  0.4  R =  323 E + wrR =  129.20000000000002  T1 =  3.8430199195701884  T2 =  -19.53911743914755  Error P =  0  Error N =  0\n",
            "( 42 ) Erro =  0.0  wr =  0.4  R =  326 E + wrR =  130.4  T1 =  3.936752112730437  T2 =  -20.015681279126756  Error P =  0  Error N =  0\n",
            "( 43 ) Erro =  0.0  wr =  0.4  R =  332 E + wrR =  132.8  T1 =  4.030484305890686  T2 =  -20.492245119105963  Error P =  0  Error N =  0\n",
            "( 44 ) Erro =  0.0  wr =  0.4  R =  339 E + wrR =  135.6  T1 =  4.124216499050934  T2 =  -20.968808959085173  Error P =  0  Error N =  0\n",
            "( 45 ) Erro =  0.0  wr =  0.4  R =  345 E + wrR =  138.0  T1 =  4.217948692211182  T2 =  -21.445372799064383  Error P =  0  Error N =  0\n",
            "( 46 ) Erro =  0.0  wr =  0.4  R =  352 E + wrR =  140.8  T1 =  4.311680885371431  T2 =  -21.92193663904359  Error P =  0  Error N =  0\n",
            "( 47 ) Erro =  0.0  wr =  0.4  R =  359 E + wrR =  143.6  T1 =  4.405413078531679  T2 =  -22.3985004790228  Error P =  0  Error N =  0\n",
            "( 48 ) Erro =  0.0  wr =  0.4  R =  361 E + wrR =  144.4  T1 =  4.499145271691928  T2 =  -22.875064319002007  Error P =  0  Error N =  0\n",
            "( 49 ) Erro =  0.0  wr =  0.4  R =  363 E + wrR =  145.20000000000002  T1 =  4.592877464852176  T2 =  -23.351628158981214  Error P =  0  Error N =  0\n",
            "( 50 ) Erro =  0.0  wr =  0.4  R =  365 E + wrR =  146.0  T1 =  4.686609658012425  T2 =  -23.828191998960424  Error P =  0  Error N =  0\n",
            "( 51 ) Erro =  0.0  wr =  0.4  R =  368 E + wrR =  147.20000000000002  T1 =  4.780341851172674  T2 =  -24.304755838939634  Error P =  0  Error N =  0\n",
            "( 52 ) Erro =  0.0  wr =  0.4  R =  371 E + wrR =  148.4  T1 =  4.874074044332922  T2 =  -24.78131967891884  Error P =  0  Error N =  0\n",
            "( 53 ) Erro =  0.0  wr =  0.4  R =  374 E + wrR =  149.6  T1 =  4.96780623749317  T2 =  -25.25788351889805  Error P =  0  Error N =  0\n",
            "( 54 ) Erro =  0.0  wr =  0.4  R =  375 E + wrR =  150.0  T1 =  5.061538430653419  T2 =  -25.734447358877258  Error P =  0  Error N =  0\n",
            "( 55 ) Erro =  0.0  wr =  0.4  R =  377 E + wrR =  150.8  T1 =  5.155270623813668  T2 =  -26.21101119885647  Error P =  0  Error N =  0\n",
            "( 56 ) Erro =  0.0  wr =  0.4  R =  378 E + wrR =  151.20000000000002  T1 =  5.249002816973916  T2 =  -26.68757503883568  Error P =  0  Error N =  0\n",
            "( 57 ) Erro =  0.0  wr =  0.4  R =  380 E + wrR =  152.0  T1 =  5.342735010134165  T2 =  -27.164138878814885  Error P =  0  Error N =  0\n",
            "( 58 ) Erro =  0.0  wr =  0.4  R =  382 E + wrR =  152.8  T1 =  5.436467203294413  T2 =  -27.64070271879409  Error P =  0  Error N =  0\n",
            "( 59 ) Erro =  0.0  wr =  0.4  R =  383 E + wrR =  153.20000000000002  T1 =  5.530199396454661  T2 =  -28.1172665587733  Error P =  0  Error N =  0\n",
            "( 60 ) Erro =  0.0  wr =  0.4  R =  384 E + wrR =  153.60000000000002  T1 =  5.62393158961491  T2 =  -28.59383039875251  Error P =  0  Error N =  0\n",
            "( 61 ) Erro =  0.0  wr =  0.4  R =  387 E + wrR =  154.8  T1 =  5.717663782775158  T2 =  -29.070394238731716  Error P =  0  Error N =  0\n",
            "( 62 ) Erro =  0.0  wr =  0.4  R =  389 E + wrR =  155.60000000000002  T1 =  5.811395975935406  T2 =  -29.546958078710926  Error P =  0  Error N =  0\n",
            "( 63 ) Erro =  0.0  wr =  0.4  R =  389 E + wrR =  155.60000000000002  T1 =  5.905128169095655  T2 =  -30.023521918690136  Error P =  0  Error N =  0\n",
            "( 64 ) Erro =  0.0  wr =  0.4  R =  389 E + wrR =  155.60000000000002  T1 =  5.998860362255904  T2 =  -30.500085758669343  Error P =  0  Error N =  0\n",
            "( 65 ) Erro =  0.0  wr =  0.4  R =  389 E + wrR =  155.60000000000002  T1 =  6.092592555416153  T2 =  -30.976649598648553  Error P =  0  Error N =  0\n",
            "( 66 ) Erro =  0.0  wr =  0.4  R =  389 E + wrR =  155.60000000000002  T1 =  6.186324748576401  T2 =  -31.45321343862776  Error P =  0  Error N =  0\n",
            "( 67 ) Erro =  0.0  wr =  0.4  R =  391 E + wrR =  156.4  T1 =  6.28005694173665  T2 =  -31.92977727860697  Error P =  0  Error N =  0\n",
            "( 68 ) Erro =  0.0  wr =  0.4  R =  393 E + wrR =  157.20000000000002  T1 =  6.3737891348968985  T2 =  -32.40634111858618  Error P =  0  Error N =  0\n",
            "( 69 ) Erro =  0.0  wr =  0.4  R =  394 E + wrR =  157.60000000000002  T1 =  6.467521328057146  T2 =  -32.88290495856539  Error P =  0  Error N =  0\n",
            "( 70 ) Erro =  0.0  wr =  0.4  R =  394 E + wrR =  157.60000000000002  T1 =  6.561253521217395  T2 =  -33.3594687985446  Error P =  0  Error N =  0\n",
            "( 71 ) Erro =  0.0  wr =  0.4  R =  394 E + wrR =  157.60000000000002  T1 =  6.654985714377643  T2 =  -33.836032638523804  Error P =  0  Error N =  0\n",
            "( 72 ) Erro =  0.0  wr =  0.4  R =  394 E + wrR =  157.60000000000002  T1 =  6.748717907537891  T2 =  -34.31259647850301  Error P =  0  Error N =  0\n",
            "( 73 ) Erro =  0.0  wr =  0.4  R =  394 E + wrR =  157.60000000000002  T1 =  6.84245010069814  T2 =  -34.78916031848222  Error P =  0  Error N =  0\n",
            "( 74 ) Erro =  0.0  wr =  0.4  R =  394 E + wrR =  157.60000000000002  T1 =  6.936182293858389  T2 =  -35.265724158461424  Error P =  0  Error N =  0\n",
            "( 75 ) Erro =  0.0  wr =  0.4  R =  394 E + wrR =  157.60000000000002  T1 =  7.029914487018637  T2 =  -35.74228799844064  Error P =  0  Error N =  0\n",
            "( 76 ) Erro =  0.0  wr =  0.4  R =  394 E + wrR =  157.60000000000002  T1 =  7.123646680178886  T2 =  -36.218851838419845  Error P =  0  Error N =  0\n",
            "( 77 ) Erro =  0.0  wr =  0.4  R =  396 E + wrR =  158.4  T1 =  7.217378873339134  T2 =  -36.69541567839905  Error P =  0  Error N =  0\n",
            "( 78 ) Erro =  0.0  wr =  0.4  R =  396 E + wrR =  158.4  T1 =  7.311111066499383  T2 =  -37.171979518378265  Error P =  0  Error N =  0\n",
            "( 79 ) Erro =  0.0  wr =  0.4  R =  396 E + wrR =  158.4  T1 =  7.404843259659631  T2 =  -37.64854335835747  Error P =  0  Error N =  0\n",
            "( 80 ) Erro =  0.0  wr =  0.4  R =  396 E + wrR =  158.4  T1 =  7.49857545281988  T2 =  -38.12510719833668  Error P =  0  Error N =  0\n",
            "( 81 ) Erro =  0.0  wr =  0.4  R =  396 E + wrR =  158.4  T1 =  7.592307645980129  T2 =  -38.60167103831589  Error P =  0  Error N =  0\n",
            "( 82 ) Erro =  0.0  wr =  0.4  R =  396 E + wrR =  158.4  T1 =  7.686039839140377  T2 =  -39.0782348782951  Error P =  0  Error N =  0\n",
            "( 83 ) Erro =  0.0  wr =  0.4  R =  396 E + wrR =  158.4  T1 =  7.779772032300626  T2 =  -39.554798718274306  Error P =  0  Error N =  0\n",
            "( 84 ) Erro =  0.0  wr =  0.4  R =  396 E + wrR =  158.4  T1 =  7.873504225460874  T2 =  -40.03136255825351  Error P =  0  Error N =  0\n",
            "( 85 ) Erro =  0.0  wr =  0.4  R =  396 E + wrR =  158.4  T1 =  7.9672364186211215  T2 =  -40.50792639823272  Error P =  0  Error N =  0\n",
            "( 86 ) Erro =  0.0  wr =  0.4  R =  396 E + wrR =  158.4  T1 =  8.060968611781371  T2 =  -40.984490238211926  Error P =  0  Error N =  0\n",
            "( 87 ) Erro =  0.0  wr =  0.4  R =  396 E + wrR =  158.4  T1 =  8.15470080494162  T2 =  -41.46105407819114  Error P =  0  Error N =  0\n",
            "( 88 ) Erro =  0.0  wr =  0.4  R =  396 E + wrR =  158.4  T1 =  8.248432998101867  T2 =  -41.937617918170346  Error P =  0  Error N =  0\n",
            "( 89 ) Erro =  0.0  wr =  0.4  R =  396 E + wrR =  158.4  T1 =  8.342165191262117  T2 =  -42.41418175814955  Error P =  0  Error N =  0\n",
            "( 90 ) Erro =  0.0  wr =  0.4  R =  396 E + wrR =  158.4  T1 =  8.435897384422365  T2 =  -42.89074559812877  Error P =  0  Error N =  0\n",
            "( 91 ) Erro =  0.0  wr =  0.4  R =  396 E + wrR =  158.4  T1 =  8.529629577582613  T2 =  -43.367309438107974  Error P =  0  Error N =  0\n",
            "( 92 ) Erro =  0.0  wr =  0.4  R =  396 E + wrR =  158.4  T1 =  8.623361770742862  T2 =  -43.84387327808718  Error P =  0  Error N =  0\n",
            "( 93 ) Erro =  0.0  wr =  0.4  R =  396 E + wrR =  158.4  T1 =  8.71709396390311  T2 =  -44.320437118066394  Error P =  0  Error N =  0\n",
            "( 94 ) Erro =  0.0  wr =  0.4  R =  396 E + wrR =  158.4  T1 =  8.810826157063358  T2 =  -44.7970009580456  Error P =  0  Error N =  0\n",
            "( 95 ) Erro =  0.0  wr =  0.4  R =  396 E + wrR =  158.4  T1 =  8.904558350223608  T2 =  -45.27356479802481  Error P =  0  Error N =  0\n",
            "( 96 ) Erro =  0.0  wr =  0.4  R =  396 E + wrR =  158.4  T1 =  8.998290543383856  T2 =  -45.750128638004014  Error P =  0  Error N =  0\n",
            "( 97 ) Erro =  0.0  wr =  0.4  R =  396 E + wrR =  158.4  T1 =  9.092022736544104  T2 =  -46.22669247798322  Error P =  0  Error N =  0\n",
            "( 98 ) Erro =  0.0  wr =  0.4  R =  396 E + wrR =  158.4  T1 =  9.185754929704352  T2 =  -46.70325631796243  Error P =  0  Error N =  0\n",
            "( 99 ) Erro =  0.0  wr =  0.4  R =  396 E + wrR =  158.4  T1 =  9.279487122864602  T2 =  -47.17982015794164  Error P =  0  Error N =  0\n",
            "( 100 ) Erro =  0.0  wr =  0.4  R =  397 E + wrR =  158.8  T1 =  9.37321931602485  T2 =  -47.65638399792085  Error P =  0  Error N =  0\n",
            "0 4.030927835051546\n",
            "( 1 ) Erro =  0.030927835051546393  wr =  0.44  R =  10 E + wrR =  4.430927835051547  T1 =  0.0937321931602485  T2 =  -0.4765638399792085  Error P =  8  Error N =  4\n",
            "( 2 ) Erro =  0.0234375  wr =  0.44  R =  14 E + wrR =  6.1834375  T1 =  0.187464386320497  T2 =  -0.953127679958417  Error P =  7  Error N =  2\n",
            "( 3 ) Erro =  0.016172506738544475  wr =  0.44  R =  27 E + wrR =  11.896172506738544  T1 =  0.2811965794807455  T2 =  -1.4296915199376254  Error P =  6  Error N =  0\n",
            "( 4 ) Erro =  0.013850415512465374  wr =  0.44  R =  37 E + wrR =  16.293850415512466  T1 =  0.374928772640994  T2 =  -1.906255359916834  Error P =  5  Error N =  0\n",
            "( 5 ) Erro =  0.0113314447592068  wr =  0.44  R =  45 E + wrR =  19.811331444759208  T1 =  0.4686609658012425  T2 =  -2.3828191998960424  Error P =  4  Error N =  0\n",
            "( 6 ) Erro =  0.011594202898550725  wr =  0.44  R =  53 E + wrR =  23.33159420289855  T1 =  0.562393158961491  T2 =  -2.859383039875251  Error P =  4  Error N =  0\n",
            "( 7 ) Erro =  0.012012012012012012  wr =  0.44  R =  65 E + wrR =  28.612012012012013  T1 =  0.6561253521217395  T2 =  -3.33594687985446  Error P =  4  Error N =  0\n",
            "( 8 ) Erro =  0.0121580547112462  wr =  0.44  R =  69 E + wrR =  30.372158054711246  T1 =  0.749857545281988  T2 =  -3.812510719833668  Error P =  4  Error N =  0\n",
            "( 9 ) Erro =  0.00946372239747634  wr =  0.44  R =  81 E + wrR =  35.64946372239748  T1 =  0.8435897384422364  T2 =  -4.289074559812876  Error P =  3  Error N =  0\n",
            "( 10 ) Erro =  0.006535947712418301  wr =  0.44  R =  92 E + wrR =  40.48653594771242  T1 =  0.937321931602485  T2 =  -4.765638399792085  Error P =  2  Error N =  0\n",
            "( 11 ) Erro =  0.006711409395973154  wr =  0.44  R =  100 E + wrR =  44.006711409395976  T1 =  1.0310541247627334  T2 =  -5.242202239771293  Error P =  2  Error N =  0\n",
            "( 12 ) Erro =  0.006968641114982578  wr =  0.44  R =  111 E + wrR =  48.846968641114984  T1 =  1.124786317922982  T2 =  -5.718766079750502  Error P =  2  Error N =  0\n",
            "( 13 ) Erro =  0.0071174377224199285  wr =  0.44  R =  117 E + wrR =  51.48711743772242  T1 =  1.2185185110832304  T2 =  -6.19532991972971  Error P =  2  Error N =  0\n",
            "( 14 ) Erro =  0.0037313432835820895  wr =  0.44  R =  130 E + wrR =  57.203731343283586  T1 =  1.312250704243479  T2 =  -6.67189375970892  Error P =  1  Error N =  0\n",
            "( 15 ) Erro =  0.0038910505836575876  wr =  0.44  R =  141 E + wrR =  62.04389105058366  T1 =  1.4059828974037274  T2 =  -7.148457599688127  Error P =  1  Error N =  0\n",
            "( 16 ) Erro =  0.00398406374501992  wr =  0.44  R =  147 E + wrR =  64.68398406374503  T1 =  1.499715090563976  T2 =  -7.625021439667336  Error P =  1  Error N =  0\n",
            "( 17 ) Erro =  0.004048582995951417  wr =  0.44  R =  151 E + wrR =  66.44404858299595  T1 =  1.5934472837242246  T2 =  -8.101585279646544  Error P =  1  Error N =  0\n",
            "( 18 ) Erro =  0.004201680672268907  wr =  0.44  R =  160 E + wrR =  70.40420168067227  T1 =  1.6871794768844728  T2 =  -8.578149119625753  Error P =  1  Error N =  0\n",
            "( 19 ) Erro =  0.004273504273504274  wr =  0.44  R =  164 E + wrR =  72.1642735042735  T1 =  1.7809116700447214  T2 =  -9.054712959604961  Error P =  1  Error N =  0\n",
            "( 20 ) Erro =  0.004545454545454545  wr =  0.44  R =  178 E + wrR =  78.32454545454546  T1 =  1.87464386320497  T2 =  -9.53127679958417  Error P =  1  Error N =  0\n",
            "( 21 ) Erro =  0.004694835680751174  wr =  0.44  R =  185 E + wrR =  81.40469483568076  T1 =  1.9683760563652184  T2 =  -10.007840639563378  Error P =  1  Error N =  0\n",
            "( 22 ) Erro =  0.004784688995215311  wr =  0.44  R =  189 E + wrR =  83.16478468899521  T1 =  2.062108249525467  T2 =  -10.484404479542587  Error P =  1  Error N =  0\n",
            "( 23 ) Erro =  0.0048543689320388345  wr =  0.44  R =  192 E + wrR =  84.48485436893205  T1 =  2.1558404426857156  T2 =  -10.960968319521795  Error P =  1  Error N =  0\n",
            "( 24 ) Erro =  0.0051813471502590676  wr =  0.44  R =  205 E + wrR =  90.20518134715026  T1 =  2.249572635845964  T2 =  -11.437532159501004  Error P =  1  Error N =  0\n",
            "( 25 ) Erro =  0.005405405405405406  wr =  0.44  R =  213 E + wrR =  93.72540540540541  T1 =  2.3433048290062124  T2 =  -11.914095999480212  Error P =  1  Error N =  0\n",
            "( 26 ) Erro =  0.00558659217877095  wr =  0.44  R =  219 E + wrR =  96.36558659217877  T1 =  2.437037022166461  T2 =  -12.39065983945942  Error P =  1  Error N =  0\n",
            "( 27 ) Erro =  0.005847953216374269  wr =  0.44  R =  227 E + wrR =  99.88584795321637  T1 =  2.5307692153267096  T2 =  -12.867223679438629  Error P =  1  Error N =  0\n",
            "( 28 ) Erro =  0.0  wr =  0.44  R =  237 E + wrR =  104.28  T1 =  2.624501408486958  T2 =  -13.34378751941784  Error P =  0  Error N =  0\n",
            "( 29 ) Erro =  0.0  wr =  0.44  R =  243 E + wrR =  106.92  T1 =  2.7182336016472064  T2 =  -13.820351359397044  Error P =  0  Error N =  0\n",
            "( 30 ) Erro =  0.0  wr =  0.44  R =  245 E + wrR =  107.8  T1 =  2.811965794807455  T2 =  -14.296915199376254  Error P =  0  Error N =  0\n",
            "( 31 ) Erro =  0.0  wr =  0.44  R =  252 E + wrR =  110.88  T1 =  2.905697987967703  T2 =  -14.773479039355463  Error P =  0  Error N =  0\n",
            "( 32 ) Erro =  0.0  wr =  0.44  R =  261 E + wrR =  114.84  T1 =  2.999430181127952  T2 =  -15.250042879334671  Error P =  0  Error N =  0\n",
            "( 33 ) Erro =  0.0  wr =  0.44  R =  269 E + wrR =  118.36  T1 =  3.0931623742882004  T2 =  -15.72660671931388  Error P =  0  Error N =  0\n",
            "( 34 ) Erro =  0.0  wr =  0.44  R =  279 E + wrR =  122.76  T1 =  3.1868945674484492  T2 =  -16.20317055929309  Error P =  0  Error N =  0\n",
            "( 35 ) Erro =  0.0  wr =  0.44  R =  287 E + wrR =  126.28  T1 =  3.2806267606086976  T2 =  -16.6797343992723  Error P =  0  Error N =  0\n",
            "( 36 ) Erro =  0.0  wr =  0.44  R =  293 E + wrR =  128.92  T1 =  3.3743589537689456  T2 =  -17.156298239251505  Error P =  0  Error N =  0\n",
            "( 37 ) Erro =  0.0  wr =  0.44  R =  302 E + wrR =  132.88  T1 =  3.4680911469291944  T2 =  -17.632862079230712  Error P =  0  Error N =  0\n",
            "( 38 ) Erro =  0.0  wr =  0.44  R =  309 E + wrR =  135.96  T1 =  3.561823340089443  T2 =  -18.109425919209922  Error P =  0  Error N =  0\n",
            "( 39 ) Erro =  0.0  wr =  0.44  R =  313 E + wrR =  137.72  T1 =  3.6555555332496916  T2 =  -18.585989759189133  Error P =  0  Error N =  0\n",
            "( 40 ) Erro =  0.0  wr =  0.44  R =  320 E + wrR =  140.8  T1 =  3.74928772640994  T2 =  -19.06255359916834  Error P =  0  Error N =  0\n",
            "( 41 ) Erro =  0.0  wr =  0.44  R =  323 E + wrR =  142.12  T1 =  3.8430199195701884  T2 =  -19.53911743914755  Error P =  0  Error N =  0\n",
            "( 42 ) Erro =  0.0  wr =  0.44  R =  326 E + wrR =  143.44  T1 =  3.936752112730437  T2 =  -20.015681279126756  Error P =  0  Error N =  0\n",
            "( 43 ) Erro =  0.0  wr =  0.44  R =  332 E + wrR =  146.08  T1 =  4.030484305890686  T2 =  -20.492245119105963  Error P =  0  Error N =  0\n",
            "( 44 ) Erro =  0.0  wr =  0.44  R =  339 E + wrR =  149.16  T1 =  4.124216499050934  T2 =  -20.968808959085173  Error P =  0  Error N =  0\n",
            "( 45 ) Erro =  0.0  wr =  0.44  R =  345 E + wrR =  151.8  T1 =  4.217948692211182  T2 =  -21.445372799064383  Error P =  0  Error N =  0\n",
            "( 46 ) Erro =  0.0  wr =  0.44  R =  352 E + wrR =  154.88  T1 =  4.311680885371431  T2 =  -21.92193663904359  Error P =  0  Error N =  0\n",
            "( 47 ) Erro =  0.0  wr =  0.44  R =  359 E + wrR =  157.96  T1 =  4.405413078531679  T2 =  -22.3985004790228  Error P =  0  Error N =  0\n",
            "( 48 ) Erro =  0.0  wr =  0.44  R =  361 E + wrR =  158.84  T1 =  4.499145271691928  T2 =  -22.875064319002007  Error P =  0  Error N =  0\n",
            "( 49 ) Erro =  0.0  wr =  0.44  R =  363 E + wrR =  159.72  T1 =  4.592877464852176  T2 =  -23.351628158981214  Error P =  0  Error N =  0\n",
            "( 50 ) Erro =  0.0  wr =  0.44  R =  365 E + wrR =  160.6  T1 =  4.686609658012425  T2 =  -23.828191998960424  Error P =  0  Error N =  0\n",
            "( 51 ) Erro =  0.0  wr =  0.44  R =  368 E + wrR =  161.92  T1 =  4.780341851172674  T2 =  -24.304755838939634  Error P =  0  Error N =  0\n",
            "( 52 ) Erro =  0.0  wr =  0.44  R =  371 E + wrR =  163.24  T1 =  4.874074044332922  T2 =  -24.78131967891884  Error P =  0  Error N =  0\n",
            "( 53 ) Erro =  0.0  wr =  0.44  R =  374 E + wrR =  164.56  T1 =  4.96780623749317  T2 =  -25.25788351889805  Error P =  0  Error N =  0\n",
            "( 54 ) Erro =  0.0  wr =  0.44  R =  375 E + wrR =  165.0  T1 =  5.061538430653419  T2 =  -25.734447358877258  Error P =  0  Error N =  0\n",
            "( 55 ) Erro =  0.0  wr =  0.44  R =  377 E + wrR =  165.88  T1 =  5.155270623813668  T2 =  -26.21101119885647  Error P =  0  Error N =  0\n",
            "( 56 ) Erro =  0.0  wr =  0.44  R =  378 E + wrR =  166.32  T1 =  5.249002816973916  T2 =  -26.68757503883568  Error P =  0  Error N =  0\n",
            "( 57 ) Erro =  0.0  wr =  0.44  R =  380 E + wrR =  167.2  T1 =  5.342735010134165  T2 =  -27.164138878814885  Error P =  0  Error N =  0\n",
            "( 58 ) Erro =  0.0  wr =  0.44  R =  382 E + wrR =  168.08  T1 =  5.436467203294413  T2 =  -27.64070271879409  Error P =  0  Error N =  0\n",
            "( 59 ) Erro =  0.0  wr =  0.44  R =  383 E + wrR =  168.52  T1 =  5.530199396454661  T2 =  -28.1172665587733  Error P =  0  Error N =  0\n",
            "( 60 ) Erro =  0.0  wr =  0.44  R =  384 E + wrR =  168.96  T1 =  5.62393158961491  T2 =  -28.59383039875251  Error P =  0  Error N =  0\n",
            "( 61 ) Erro =  0.0  wr =  0.44  R =  387 E + wrR =  170.28  T1 =  5.717663782775158  T2 =  -29.070394238731716  Error P =  0  Error N =  0\n",
            "( 62 ) Erro =  0.0  wr =  0.44  R =  389 E + wrR =  171.16  T1 =  5.811395975935406  T2 =  -29.546958078710926  Error P =  0  Error N =  0\n",
            "( 63 ) Erro =  0.0  wr =  0.44  R =  389 E + wrR =  171.16  T1 =  5.905128169095655  T2 =  -30.023521918690136  Error P =  0  Error N =  0\n",
            "( 64 ) Erro =  0.0  wr =  0.44  R =  389 E + wrR =  171.16  T1 =  5.998860362255904  T2 =  -30.500085758669343  Error P =  0  Error N =  0\n",
            "( 65 ) Erro =  0.0  wr =  0.44  R =  389 E + wrR =  171.16  T1 =  6.092592555416153  T2 =  -30.976649598648553  Error P =  0  Error N =  0\n",
            "( 66 ) Erro =  0.0  wr =  0.44  R =  389 E + wrR =  171.16  T1 =  6.186324748576401  T2 =  -31.45321343862776  Error P =  0  Error N =  0\n",
            "( 67 ) Erro =  0.0  wr =  0.44  R =  391 E + wrR =  172.04  T1 =  6.28005694173665  T2 =  -31.92977727860697  Error P =  0  Error N =  0\n",
            "( 68 ) Erro =  0.0  wr =  0.44  R =  393 E + wrR =  172.92  T1 =  6.3737891348968985  T2 =  -32.40634111858618  Error P =  0  Error N =  0\n",
            "( 69 ) Erro =  0.0  wr =  0.44  R =  394 E + wrR =  173.36  T1 =  6.467521328057146  T2 =  -32.88290495856539  Error P =  0  Error N =  0\n",
            "( 70 ) Erro =  0.0  wr =  0.44  R =  394 E + wrR =  173.36  T1 =  6.561253521217395  T2 =  -33.3594687985446  Error P =  0  Error N =  0\n",
            "( 71 ) Erro =  0.0  wr =  0.44  R =  394 E + wrR =  173.36  T1 =  6.654985714377643  T2 =  -33.836032638523804  Error P =  0  Error N =  0\n",
            "( 72 ) Erro =  0.0  wr =  0.44  R =  394 E + wrR =  173.36  T1 =  6.748717907537891  T2 =  -34.31259647850301  Error P =  0  Error N =  0\n",
            "( 73 ) Erro =  0.0  wr =  0.44  R =  394 E + wrR =  173.36  T1 =  6.84245010069814  T2 =  -34.78916031848222  Error P =  0  Error N =  0\n",
            "( 74 ) Erro =  0.0  wr =  0.44  R =  394 E + wrR =  173.36  T1 =  6.936182293858389  T2 =  -35.265724158461424  Error P =  0  Error N =  0\n",
            "( 75 ) Erro =  0.0  wr =  0.44  R =  394 E + wrR =  173.36  T1 =  7.029914487018637  T2 =  -35.74228799844064  Error P =  0  Error N =  0\n",
            "( 76 ) Erro =  0.0  wr =  0.44  R =  394 E + wrR =  173.36  T1 =  7.123646680178886  T2 =  -36.218851838419845  Error P =  0  Error N =  0\n",
            "( 77 ) Erro =  0.0  wr =  0.44  R =  396 E + wrR =  174.24  T1 =  7.217378873339134  T2 =  -36.69541567839905  Error P =  0  Error N =  0\n",
            "( 78 ) Erro =  0.0  wr =  0.44  R =  396 E + wrR =  174.24  T1 =  7.311111066499383  T2 =  -37.171979518378265  Error P =  0  Error N =  0\n",
            "( 79 ) Erro =  0.0  wr =  0.44  R =  396 E + wrR =  174.24  T1 =  7.404843259659631  T2 =  -37.64854335835747  Error P =  0  Error N =  0\n",
            "( 80 ) Erro =  0.0  wr =  0.44  R =  396 E + wrR =  174.24  T1 =  7.49857545281988  T2 =  -38.12510719833668  Error P =  0  Error N =  0\n",
            "( 81 ) Erro =  0.0  wr =  0.44  R =  396 E + wrR =  174.24  T1 =  7.592307645980129  T2 =  -38.60167103831589  Error P =  0  Error N =  0\n",
            "( 82 ) Erro =  0.0  wr =  0.44  R =  396 E + wrR =  174.24  T1 =  7.686039839140377  T2 =  -39.0782348782951  Error P =  0  Error N =  0\n",
            "( 83 ) Erro =  0.0  wr =  0.44  R =  396 E + wrR =  174.24  T1 =  7.779772032300626  T2 =  -39.554798718274306  Error P =  0  Error N =  0\n",
            "( 84 ) Erro =  0.0  wr =  0.44  R =  396 E + wrR =  174.24  T1 =  7.873504225460874  T2 =  -40.03136255825351  Error P =  0  Error N =  0\n",
            "( 85 ) Erro =  0.0  wr =  0.44  R =  396 E + wrR =  174.24  T1 =  7.9672364186211215  T2 =  -40.50792639823272  Error P =  0  Error N =  0\n",
            "( 86 ) Erro =  0.0  wr =  0.44  R =  396 E + wrR =  174.24  T1 =  8.060968611781371  T2 =  -40.984490238211926  Error P =  0  Error N =  0\n",
            "( 87 ) Erro =  0.0  wr =  0.44  R =  396 E + wrR =  174.24  T1 =  8.15470080494162  T2 =  -41.46105407819114  Error P =  0  Error N =  0\n",
            "( 88 ) Erro =  0.0  wr =  0.44  R =  396 E + wrR =  174.24  T1 =  8.248432998101867  T2 =  -41.937617918170346  Error P =  0  Error N =  0\n",
            "( 89 ) Erro =  0.0  wr =  0.44  R =  396 E + wrR =  174.24  T1 =  8.342165191262117  T2 =  -42.41418175814955  Error P =  0  Error N =  0\n",
            "( 90 ) Erro =  0.0  wr =  0.44  R =  396 E + wrR =  174.24  T1 =  8.435897384422365  T2 =  -42.89074559812877  Error P =  0  Error N =  0\n",
            "( 91 ) Erro =  0.0  wr =  0.44  R =  396 E + wrR =  174.24  T1 =  8.529629577582613  T2 =  -43.367309438107974  Error P =  0  Error N =  0\n",
            "( 92 ) Erro =  0.0  wr =  0.44  R =  396 E + wrR =  174.24  T1 =  8.623361770742862  T2 =  -43.84387327808718  Error P =  0  Error N =  0\n",
            "( 93 ) Erro =  0.0  wr =  0.44  R =  396 E + wrR =  174.24  T1 =  8.71709396390311  T2 =  -44.320437118066394  Error P =  0  Error N =  0\n",
            "( 94 ) Erro =  0.0  wr =  0.44  R =  396 E + wrR =  174.24  T1 =  8.810826157063358  T2 =  -44.7970009580456  Error P =  0  Error N =  0\n",
            "( 95 ) Erro =  0.0  wr =  0.44  R =  396 E + wrR =  174.24  T1 =  8.904558350223608  T2 =  -45.27356479802481  Error P =  0  Error N =  0\n",
            "( 96 ) Erro =  0.0  wr =  0.44  R =  396 E + wrR =  174.24  T1 =  8.998290543383856  T2 =  -45.750128638004014  Error P =  0  Error N =  0\n",
            "( 97 ) Erro =  0.0  wr =  0.44  R =  396 E + wrR =  174.24  T1 =  9.092022736544104  T2 =  -46.22669247798322  Error P =  0  Error N =  0\n",
            "( 98 ) Erro =  0.0  wr =  0.44  R =  396 E + wrR =  174.24  T1 =  9.185754929704352  T2 =  -46.70325631796243  Error P =  0  Error N =  0\n",
            "( 99 ) Erro =  0.0  wr =  0.44  R =  396 E + wrR =  174.24  T1 =  9.279487122864602  T2 =  -47.17982015794164  Error P =  0  Error N =  0\n",
            "( 100 ) Erro =  0.0  wr =  0.44  R =  397 E + wrR =  174.68  T1 =  9.37321931602485  T2 =  -47.65638399792085  Error P =  0  Error N =  0\n",
            "0 4.430927835051547\n",
            "( 1 ) Erro =  0.030927835051546393  wr =  0.48  R =  10 E + wrR =  4.830927835051546  T1 =  0.0937321931602485  T2 =  -0.4765638399792085  Error P =  8  Error N =  4\n",
            "( 2 ) Erro =  0.0234375  wr =  0.48  R =  14 E + wrR =  6.7434375  T1 =  0.187464386320497  T2 =  -0.953127679958417  Error P =  7  Error N =  2\n",
            "( 3 ) Erro =  0.016172506738544475  wr =  0.48  R =  27 E + wrR =  12.976172506738543  T1 =  0.2811965794807455  T2 =  -1.4296915199376254  Error P =  6  Error N =  0\n",
            "( 4 ) Erro =  0.013850415512465374  wr =  0.48  R =  37 E + wrR =  17.773850415512463  T1 =  0.374928772640994  T2 =  -1.906255359916834  Error P =  5  Error N =  0\n",
            "( 5 ) Erro =  0.0113314447592068  wr =  0.48  R =  45 E + wrR =  21.611331444759205  T1 =  0.4686609658012425  T2 =  -2.3828191998960424  Error P =  4  Error N =  0\n",
            "( 6 ) Erro =  0.011594202898550725  wr =  0.48  R =  53 E + wrR =  25.451594202898548  T1 =  0.562393158961491  T2 =  -2.859383039875251  Error P =  4  Error N =  0\n",
            "( 7 ) Erro =  0.012012012012012012  wr =  0.48  R =  65 E + wrR =  31.21201201201201  T1 =  0.6561253521217395  T2 =  -3.33594687985446  Error P =  4  Error N =  0\n",
            "( 8 ) Erro =  0.0121580547112462  wr =  0.48  R =  69 E + wrR =  33.13215805471124  T1 =  0.749857545281988  T2 =  -3.812510719833668  Error P =  4  Error N =  0\n",
            "( 9 ) Erro =  0.00946372239747634  wr =  0.48  R =  81 E + wrR =  38.88946372239747  T1 =  0.8435897384422364  T2 =  -4.289074559812876  Error P =  3  Error N =  0\n",
            "( 10 ) Erro =  0.006535947712418301  wr =  0.48  R =  92 E + wrR =  44.16653594771242  T1 =  0.937321931602485  T2 =  -4.765638399792085  Error P =  2  Error N =  0\n",
            "( 11 ) Erro =  0.006711409395973154  wr =  0.48  R =  100 E + wrR =  48.006711409395976  T1 =  1.0310541247627334  T2 =  -5.242202239771293  Error P =  2  Error N =  0\n",
            "( 12 ) Erro =  0.006968641114982578  wr =  0.48  R =  111 E + wrR =  53.28696864111498  T1 =  1.124786317922982  T2 =  -5.718766079750502  Error P =  2  Error N =  0\n",
            "( 13 ) Erro =  0.0071174377224199285  wr =  0.48  R =  117 E + wrR =  56.16711743772242  T1 =  1.2185185110832304  T2 =  -6.19532991972971  Error P =  2  Error N =  0\n",
            "( 14 ) Erro =  0.0037313432835820895  wr =  0.48  R =  130 E + wrR =  62.40373134328358  T1 =  1.312250704243479  T2 =  -6.67189375970892  Error P =  1  Error N =  0\n",
            "( 15 ) Erro =  0.0038910505836575876  wr =  0.48  R =  141 E + wrR =  67.68389105058365  T1 =  1.4059828974037274  T2 =  -7.148457599688127  Error P =  1  Error N =  0\n",
            "( 16 ) Erro =  0.00398406374501992  wr =  0.48  R =  147 E + wrR =  70.56398406374502  T1 =  1.499715090563976  T2 =  -7.625021439667336  Error P =  1  Error N =  0\n",
            "( 17 ) Erro =  0.004048582995951417  wr =  0.48  R =  151 E + wrR =  72.48404858299595  T1 =  1.5934472837242246  T2 =  -8.101585279646544  Error P =  1  Error N =  0\n",
            "( 18 ) Erro =  0.004201680672268907  wr =  0.48  R =  160 E + wrR =  76.80420168067226  T1 =  1.6871794768844728  T2 =  -8.578149119625753  Error P =  1  Error N =  0\n",
            "( 19 ) Erro =  0.004273504273504274  wr =  0.48  R =  164 E + wrR =  78.7242735042735  T1 =  1.7809116700447214  T2 =  -9.054712959604961  Error P =  1  Error N =  0\n",
            "( 20 ) Erro =  0.004545454545454545  wr =  0.48  R =  178 E + wrR =  85.44454545454545  T1 =  1.87464386320497  T2 =  -9.53127679958417  Error P =  1  Error N =  0\n",
            "( 21 ) Erro =  0.004694835680751174  wr =  0.48  R =  185 E + wrR =  88.80469483568075  T1 =  1.9683760563652184  T2 =  -10.007840639563378  Error P =  1  Error N =  0\n",
            "( 22 ) Erro =  0.004784688995215311  wr =  0.48  R =  189 E + wrR =  90.72478468899521  T1 =  2.062108249525467  T2 =  -10.484404479542587  Error P =  1  Error N =  0\n",
            "( 23 ) Erro =  0.0048543689320388345  wr =  0.48  R =  192 E + wrR =  92.16485436893204  T1 =  2.1558404426857156  T2 =  -10.960968319521795  Error P =  1  Error N =  0\n",
            "( 24 ) Erro =  0.0051813471502590676  wr =  0.48  R =  205 E + wrR =  98.40518134715025  T1 =  2.249572635845964  T2 =  -11.437532159501004  Error P =  1  Error N =  0\n",
            "( 25 ) Erro =  0.005405405405405406  wr =  0.48  R =  213 E + wrR =  102.2454054054054  T1 =  2.3433048290062124  T2 =  -11.914095999480212  Error P =  1  Error N =  0\n",
            "( 26 ) Erro =  0.00558659217877095  wr =  0.48  R =  219 E + wrR =  105.12558659217876  T1 =  2.437037022166461  T2 =  -12.39065983945942  Error P =  1  Error N =  0\n",
            "( 27 ) Erro =  0.005847953216374269  wr =  0.48  R =  227 E + wrR =  108.96584795321637  T1 =  2.5307692153267096  T2 =  -12.867223679438629  Error P =  1  Error N =  0\n",
            "( 28 ) Erro =  0.0  wr =  0.48  R =  237 E + wrR =  113.75999999999999  T1 =  2.624501408486958  T2 =  -13.34378751941784  Error P =  0  Error N =  0\n",
            "( 29 ) Erro =  0.0  wr =  0.48  R =  243 E + wrR =  116.64  T1 =  2.7182336016472064  T2 =  -13.820351359397044  Error P =  0  Error N =  0\n",
            "( 30 ) Erro =  0.0  wr =  0.48  R =  245 E + wrR =  117.6  T1 =  2.811965794807455  T2 =  -14.296915199376254  Error P =  0  Error N =  0\n",
            "( 31 ) Erro =  0.0  wr =  0.48  R =  252 E + wrR =  120.96  T1 =  2.905697987967703  T2 =  -14.773479039355463  Error P =  0  Error N =  0\n",
            "( 32 ) Erro =  0.0  wr =  0.48  R =  261 E + wrR =  125.28  T1 =  2.999430181127952  T2 =  -15.250042879334671  Error P =  0  Error N =  0\n",
            "( 33 ) Erro =  0.0  wr =  0.48  R =  269 E + wrR =  129.12  T1 =  3.0931623742882004  T2 =  -15.72660671931388  Error P =  0  Error N =  0\n",
            "( 34 ) Erro =  0.0  wr =  0.48  R =  279 E + wrR =  133.92  T1 =  3.1868945674484492  T2 =  -16.20317055929309  Error P =  0  Error N =  0\n",
            "( 35 ) Erro =  0.0  wr =  0.48  R =  287 E + wrR =  137.76  T1 =  3.2806267606086976  T2 =  -16.6797343992723  Error P =  0  Error N =  0\n",
            "( 36 ) Erro =  0.0  wr =  0.48  R =  293 E + wrR =  140.64  T1 =  3.3743589537689456  T2 =  -17.156298239251505  Error P =  0  Error N =  0\n",
            "( 37 ) Erro =  0.0  wr =  0.48  R =  302 E + wrR =  144.96  T1 =  3.4680911469291944  T2 =  -17.632862079230712  Error P =  0  Error N =  0\n",
            "( 38 ) Erro =  0.0  wr =  0.48  R =  309 E + wrR =  148.32  T1 =  3.561823340089443  T2 =  -18.109425919209922  Error P =  0  Error N =  0\n",
            "( 39 ) Erro =  0.0  wr =  0.48  R =  313 E + wrR =  150.23999999999998  T1 =  3.6555555332496916  T2 =  -18.585989759189133  Error P =  0  Error N =  0\n",
            "( 40 ) Erro =  0.0  wr =  0.48  R =  320 E + wrR =  153.6  T1 =  3.74928772640994  T2 =  -19.06255359916834  Error P =  0  Error N =  0\n",
            "( 41 ) Erro =  0.0  wr =  0.48  R =  323 E + wrR =  155.04  T1 =  3.8430199195701884  T2 =  -19.53911743914755  Error P =  0  Error N =  0\n",
            "( 42 ) Erro =  0.0  wr =  0.48  R =  326 E + wrR =  156.48  T1 =  3.936752112730437  T2 =  -20.015681279126756  Error P =  0  Error N =  0\n",
            "( 43 ) Erro =  0.0  wr =  0.48  R =  332 E + wrR =  159.35999999999999  T1 =  4.030484305890686  T2 =  -20.492245119105963  Error P =  0  Error N =  0\n",
            "( 44 ) Erro =  0.0  wr =  0.48  R =  339 E + wrR =  162.72  T1 =  4.124216499050934  T2 =  -20.968808959085173  Error P =  0  Error N =  0\n",
            "( 45 ) Erro =  0.0  wr =  0.48  R =  345 E + wrR =  165.6  T1 =  4.217948692211182  T2 =  -21.445372799064383  Error P =  0  Error N =  0\n",
            "( 46 ) Erro =  0.0  wr =  0.48  R =  352 E + wrR =  168.95999999999998  T1 =  4.311680885371431  T2 =  -21.92193663904359  Error P =  0  Error N =  0\n",
            "( 47 ) Erro =  0.0  wr =  0.48  R =  359 E + wrR =  172.32  T1 =  4.405413078531679  T2 =  -22.3985004790228  Error P =  0  Error N =  0\n",
            "( 48 ) Erro =  0.0  wr =  0.48  R =  361 E + wrR =  173.28  T1 =  4.499145271691928  T2 =  -22.875064319002007  Error P =  0  Error N =  0\n",
            "( 49 ) Erro =  0.0  wr =  0.48  R =  363 E + wrR =  174.23999999999998  T1 =  4.592877464852176  T2 =  -23.351628158981214  Error P =  0  Error N =  0\n",
            "( 50 ) Erro =  0.0  wr =  0.48  R =  365 E + wrR =  175.2  T1 =  4.686609658012425  T2 =  -23.828191998960424  Error P =  0  Error N =  0\n",
            "( 51 ) Erro =  0.0  wr =  0.48  R =  368 E + wrR =  176.64  T1 =  4.780341851172674  T2 =  -24.304755838939634  Error P =  0  Error N =  0\n",
            "( 52 ) Erro =  0.0  wr =  0.48  R =  371 E + wrR =  178.07999999999998  T1 =  4.874074044332922  T2 =  -24.78131967891884  Error P =  0  Error N =  0\n",
            "( 53 ) Erro =  0.0  wr =  0.48  R =  374 E + wrR =  179.51999999999998  T1 =  4.96780623749317  T2 =  -25.25788351889805  Error P =  0  Error N =  0\n",
            "( 54 ) Erro =  0.0  wr =  0.48  R =  375 E + wrR =  180.0  T1 =  5.061538430653419  T2 =  -25.734447358877258  Error P =  0  Error N =  0\n",
            "( 55 ) Erro =  0.0  wr =  0.48  R =  377 E + wrR =  180.95999999999998  T1 =  5.155270623813668  T2 =  -26.21101119885647  Error P =  0  Error N =  0\n",
            "( 56 ) Erro =  0.0  wr =  0.48  R =  378 E + wrR =  181.44  T1 =  5.249002816973916  T2 =  -26.68757503883568  Error P =  0  Error N =  0\n",
            "( 57 ) Erro =  0.0  wr =  0.48  R =  380 E + wrR =  182.4  T1 =  5.342735010134165  T2 =  -27.164138878814885  Error P =  0  Error N =  0\n",
            "( 58 ) Erro =  0.0  wr =  0.48  R =  382 E + wrR =  183.35999999999999  T1 =  5.436467203294413  T2 =  -27.64070271879409  Error P =  0  Error N =  0\n",
            "( 59 ) Erro =  0.0  wr =  0.48  R =  383 E + wrR =  183.84  T1 =  5.530199396454661  T2 =  -28.1172665587733  Error P =  0  Error N =  0\n",
            "( 60 ) Erro =  0.0  wr =  0.48  R =  384 E + wrR =  184.32  T1 =  5.62393158961491  T2 =  -28.59383039875251  Error P =  0  Error N =  0\n",
            "( 61 ) Erro =  0.0  wr =  0.48  R =  387 E + wrR =  185.76  T1 =  5.717663782775158  T2 =  -29.070394238731716  Error P =  0  Error N =  0\n",
            "( 62 ) Erro =  0.0  wr =  0.48  R =  389 E + wrR =  186.72  T1 =  5.811395975935406  T2 =  -29.546958078710926  Error P =  0  Error N =  0\n",
            "( 63 ) Erro =  0.0  wr =  0.48  R =  389 E + wrR =  186.72  T1 =  5.905128169095655  T2 =  -30.023521918690136  Error P =  0  Error N =  0\n",
            "( 64 ) Erro =  0.0  wr =  0.48  R =  389 E + wrR =  186.72  T1 =  5.998860362255904  T2 =  -30.500085758669343  Error P =  0  Error N =  0\n",
            "( 65 ) Erro =  0.0  wr =  0.48  R =  389 E + wrR =  186.72  T1 =  6.092592555416153  T2 =  -30.976649598648553  Error P =  0  Error N =  0\n",
            "( 66 ) Erro =  0.0  wr =  0.48  R =  389 E + wrR =  186.72  T1 =  6.186324748576401  T2 =  -31.45321343862776  Error P =  0  Error N =  0\n",
            "( 67 ) Erro =  0.0  wr =  0.48  R =  391 E + wrR =  187.68  T1 =  6.28005694173665  T2 =  -31.92977727860697  Error P =  0  Error N =  0\n",
            "( 68 ) Erro =  0.0  wr =  0.48  R =  393 E + wrR =  188.64  T1 =  6.3737891348968985  T2 =  -32.40634111858618  Error P =  0  Error N =  0\n",
            "( 69 ) Erro =  0.0  wr =  0.48  R =  394 E + wrR =  189.12  T1 =  6.467521328057146  T2 =  -32.88290495856539  Error P =  0  Error N =  0\n",
            "( 70 ) Erro =  0.0  wr =  0.48  R =  394 E + wrR =  189.12  T1 =  6.561253521217395  T2 =  -33.3594687985446  Error P =  0  Error N =  0\n",
            "( 71 ) Erro =  0.0  wr =  0.48  R =  394 E + wrR =  189.12  T1 =  6.654985714377643  T2 =  -33.836032638523804  Error P =  0  Error N =  0\n",
            "( 72 ) Erro =  0.0  wr =  0.48  R =  394 E + wrR =  189.12  T1 =  6.748717907537891  T2 =  -34.31259647850301  Error P =  0  Error N =  0\n",
            "( 73 ) Erro =  0.0  wr =  0.48  R =  394 E + wrR =  189.12  T1 =  6.84245010069814  T2 =  -34.78916031848222  Error P =  0  Error N =  0\n",
            "( 74 ) Erro =  0.0  wr =  0.48  R =  394 E + wrR =  189.12  T1 =  6.936182293858389  T2 =  -35.265724158461424  Error P =  0  Error N =  0\n",
            "( 75 ) Erro =  0.0  wr =  0.48  R =  394 E + wrR =  189.12  T1 =  7.029914487018637  T2 =  -35.74228799844064  Error P =  0  Error N =  0\n",
            "( 76 ) Erro =  0.0  wr =  0.48  R =  394 E + wrR =  189.12  T1 =  7.123646680178886  T2 =  -36.218851838419845  Error P =  0  Error N =  0\n",
            "( 77 ) Erro =  0.0  wr =  0.48  R =  396 E + wrR =  190.07999999999998  T1 =  7.217378873339134  T2 =  -36.69541567839905  Error P =  0  Error N =  0\n",
            "( 78 ) Erro =  0.0  wr =  0.48  R =  396 E + wrR =  190.07999999999998  T1 =  7.311111066499383  T2 =  -37.171979518378265  Error P =  0  Error N =  0\n",
            "( 79 ) Erro =  0.0  wr =  0.48  R =  396 E + wrR =  190.07999999999998  T1 =  7.404843259659631  T2 =  -37.64854335835747  Error P =  0  Error N =  0\n",
            "( 80 ) Erro =  0.0  wr =  0.48  R =  396 E + wrR =  190.07999999999998  T1 =  7.49857545281988  T2 =  -38.12510719833668  Error P =  0  Error N =  0\n",
            "( 81 ) Erro =  0.0  wr =  0.48  R =  396 E + wrR =  190.07999999999998  T1 =  7.592307645980129  T2 =  -38.60167103831589  Error P =  0  Error N =  0\n",
            "( 82 ) Erro =  0.0  wr =  0.48  R =  396 E + wrR =  190.07999999999998  T1 =  7.686039839140377  T2 =  -39.0782348782951  Error P =  0  Error N =  0\n",
            "( 83 ) Erro =  0.0  wr =  0.48  R =  396 E + wrR =  190.07999999999998  T1 =  7.779772032300626  T2 =  -39.554798718274306  Error P =  0  Error N =  0\n",
            "( 84 ) Erro =  0.0  wr =  0.48  R =  396 E + wrR =  190.07999999999998  T1 =  7.873504225460874  T2 =  -40.03136255825351  Error P =  0  Error N =  0\n",
            "( 85 ) Erro =  0.0  wr =  0.48  R =  396 E + wrR =  190.07999999999998  T1 =  7.9672364186211215  T2 =  -40.50792639823272  Error P =  0  Error N =  0\n",
            "( 86 ) Erro =  0.0  wr =  0.48  R =  396 E + wrR =  190.07999999999998  T1 =  8.060968611781371  T2 =  -40.984490238211926  Error P =  0  Error N =  0\n",
            "( 87 ) Erro =  0.0  wr =  0.48  R =  396 E + wrR =  190.07999999999998  T1 =  8.15470080494162  T2 =  -41.46105407819114  Error P =  0  Error N =  0\n",
            "( 88 ) Erro =  0.0  wr =  0.48  R =  396 E + wrR =  190.07999999999998  T1 =  8.248432998101867  T2 =  -41.937617918170346  Error P =  0  Error N =  0\n",
            "( 89 ) Erro =  0.0  wr =  0.48  R =  396 E + wrR =  190.07999999999998  T1 =  8.342165191262117  T2 =  -42.41418175814955  Error P =  0  Error N =  0\n",
            "( 90 ) Erro =  0.0  wr =  0.48  R =  396 E + wrR =  190.07999999999998  T1 =  8.435897384422365  T2 =  -42.89074559812877  Error P =  0  Error N =  0\n",
            "( 91 ) Erro =  0.0  wr =  0.48  R =  396 E + wrR =  190.07999999999998  T1 =  8.529629577582613  T2 =  -43.367309438107974  Error P =  0  Error N =  0\n",
            "( 92 ) Erro =  0.0  wr =  0.48  R =  396 E + wrR =  190.07999999999998  T1 =  8.623361770742862  T2 =  -43.84387327808718  Error P =  0  Error N =  0\n",
            "( 93 ) Erro =  0.0  wr =  0.48  R =  396 E + wrR =  190.07999999999998  T1 =  8.71709396390311  T2 =  -44.320437118066394  Error P =  0  Error N =  0\n",
            "( 94 ) Erro =  0.0  wr =  0.48  R =  396 E + wrR =  190.07999999999998  T1 =  8.810826157063358  T2 =  -44.7970009580456  Error P =  0  Error N =  0\n",
            "( 95 ) Erro =  0.0  wr =  0.48  R =  396 E + wrR =  190.07999999999998  T1 =  8.904558350223608  T2 =  -45.27356479802481  Error P =  0  Error N =  0\n",
            "( 96 ) Erro =  0.0  wr =  0.48  R =  396 E + wrR =  190.07999999999998  T1 =  8.998290543383856  T2 =  -45.750128638004014  Error P =  0  Error N =  0\n",
            "( 97 ) Erro =  0.0  wr =  0.48  R =  396 E + wrR =  190.07999999999998  T1 =  9.092022736544104  T2 =  -46.22669247798322  Error P =  0  Error N =  0\n",
            "( 98 ) Erro =  0.0  wr =  0.48  R =  396 E + wrR =  190.07999999999998  T1 =  9.185754929704352  T2 =  -46.70325631796243  Error P =  0  Error N =  0\n",
            "( 99 ) Erro =  0.0  wr =  0.48  R =  396 E + wrR =  190.07999999999998  T1 =  9.279487122864602  T2 =  -47.17982015794164  Error P =  0  Error N =  0\n",
            "( 100 ) Erro =  0.0  wr =  0.48  R =  397 E + wrR =  190.56  T1 =  9.37321931602485  T2 =  -47.65638399792085  Error P =  0  Error N =  0\n",
            "0 4.830927835051546\n"
          ]
        }
      ]
    },
    {
      "cell_type": "markdown",
      "source": [
        "z3 solver thiago"
      ],
      "metadata": {
        "id": "TNDJmkDq8XHE"
      }
    },
    {
      "cell_type": "code",
      "source": [
        "#!pip install z3-solver"
      ],
      "metadata": {
        "colab": {
          "base_uri": "https://localhost:8080/"
        },
        "id": "4CBnNZFL8LKv",
        "outputId": "0e6ce6b7-52bc-42c7-ad4b-ee92ab33b4c4"
      },
      "execution_count": 44,
      "outputs": [
        {
          "output_type": "stream",
          "name": "stdout",
          "text": [
            "Collecting z3-solver\n",
            "  Downloading z3_solver-4.8.17.0-py2.py3-none-manylinux1_x86_64.whl (54.5 MB)\n",
            "\u001b[K     |████████████████████████████████| 54.5 MB 209 kB/s \n",
            "\u001b[?25hInstalling collected packages: z3-solver\n",
            "Successfully installed z3-solver-4.8.17.0\n"
          ]
        }
      ]
    },
    {
      "cell_type": "code",
      "source": [
        "from z3 import *"
      ],
      "metadata": {
        "id": "6sU1CPuX9Jiz"
      },
      "execution_count": 51,
      "outputs": []
    },
    {
      "cell_type": "code",
      "source": [
        "cancer.feature_names"
      ],
      "metadata": {
        "colab": {
          "base_uri": "https://localhost:8080/"
        },
        "id": "b8soL0Ih8RUR",
        "outputId": "44793fbc-abf4-4e7d-abd1-d80b6b3ff190"
      },
      "execution_count": 52,
      "outputs": [
        {
          "output_type": "execute_result",
          "data": {
            "text/plain": [
              "array(['mean radius', 'mean texture', 'mean perimeter', 'mean area',\n",
              "       'mean smoothness', 'mean compactness', 'mean concavity',\n",
              "       'mean concave points', 'mean symmetry', 'mean fractal dimension',\n",
              "       'radius error', 'texture error', 'perimeter error', 'area error',\n",
              "       'smoothness error', 'compactness error', 'concavity error',\n",
              "       'concave points error', 'symmetry error',\n",
              "       'fractal dimension error', 'worst radius', 'worst texture',\n",
              "       'worst perimeter', 'worst area', 'worst smoothness',\n",
              "       'worst compactness', 'worst concavity', 'worst concave points',\n",
              "       'worst symmetry', 'worst fractal dimension'], dtype='<U23')"
            ]
          },
          "metadata": {},
          "execution_count": 52
        }
      ]
    },
    {
      "cell_type": "code",
      "source": [
        "# creating one z3 variable for each feature in the dataset\n",
        "dict_vars = {}\n",
        "for feature in cancer.feature_names:\n",
        "  dict_vars[feature] = Real(feature)"
      ],
      "metadata": {
        "id": "sQIigP4X8dEo"
      },
      "execution_count": 53,
      "outputs": []
    },
    {
      "cell_type": "code",
      "source": [
        "dict_vars"
      ],
      "metadata": {
        "colab": {
          "base_uri": "https://localhost:8080/"
        },
        "id": "y_kB5GoX8vZR",
        "outputId": "16256450-91df-45d0-c8ca-fd888c61f402"
      },
      "execution_count": 54,
      "outputs": [
        {
          "output_type": "execute_result",
          "data": {
            "text/plain": [
              "{'area error': area error,\n",
              " 'compactness error': compactness error,\n",
              " 'concave points error': concave points error,\n",
              " 'concavity error': concavity error,\n",
              " 'fractal dimension error': fractal dimension error,\n",
              " 'mean area': mean area,\n",
              " 'mean compactness': mean compactness,\n",
              " 'mean concave points': mean concave points,\n",
              " 'mean concavity': mean concavity,\n",
              " 'mean fractal dimension': mean fractal dimension,\n",
              " 'mean perimeter': mean perimeter,\n",
              " 'mean radius': mean radius,\n",
              " 'mean smoothness': mean smoothness,\n",
              " 'mean symmetry': mean symmetry,\n",
              " 'mean texture': mean texture,\n",
              " 'perimeter error': perimeter error,\n",
              " 'radius error': radius error,\n",
              " 'smoothness error': smoothness error,\n",
              " 'symmetry error': symmetry error,\n",
              " 'texture error': texture error,\n",
              " 'worst area': worst area,\n",
              " 'worst compactness': worst compactness,\n",
              " 'worst concave points': worst concave points,\n",
              " 'worst concavity': worst concavity,\n",
              " 'worst fractal dimension': worst fractal dimension,\n",
              " 'worst perimeter': worst perimeter,\n",
              " 'worst radius': worst radius,\n",
              " 'worst smoothness': worst smoothness,\n",
              " 'worst symmetry': worst symmetry,\n",
              " 'worst texture': worst texture}"
            ]
          },
          "metadata": {},
          "execution_count": 54
        }
      ]
    },
    {
      "cell_type": "code",
      "source": [
        "dict_vars['area error']"
      ],
      "metadata": {
        "colab": {
          "base_uri": "https://localhost:8080/",
          "height": 34
        },
        "id": "cDSyoSfz82xP",
        "outputId": "23837e53-b76d-447a-abea-fd72a6bc9757"
      },
      "execution_count": 55,
      "outputs": [
        {
          "output_type": "execute_result",
          "data": {
            "text/plain": [
              "area error"
            ],
            "text/html": [
              "area error"
            ]
          },
          "metadata": {},
          "execution_count": 55
        }
      ]
    },
    {
      "cell_type": "code",
      "source": [
        "constraints = Solver()"
      ],
      "metadata": {
        "id": "XUhh8ue288S5"
      },
      "execution_count": 56,
      "outputs": []
    },
    {
      "cell_type": "code",
      "source": [
        "constraints.add(dict_vars['area error'] > 2)\n",
        "constraints.add(dict_vars['compactness error'] < 10)\n",
        "constraints.add(dict_vars['compactness error'] > 2)\n",
        "constraints.add(dict_vars['area error'] * dict_vars['compactness error'] == 27)"
      ],
      "metadata": {
        "id": "IW9W4Wfz9NpR"
      },
      "execution_count": 57,
      "outputs": []
    },
    {
      "cell_type": "code",
      "source": [
        "constraints.check()"
      ],
      "metadata": {
        "colab": {
          "base_uri": "https://localhost:8080/",
          "height": 34
        },
        "id": "Dmc-EKO_9THh",
        "outputId": "9fa88414-243b-477d-f06f-6f5c6fdcc028"
      },
      "execution_count": 58,
      "outputs": [
        {
          "output_type": "execute_result",
          "data": {
            "text/plain": [
              "sat"
            ],
            "text/html": [
              "<b>sat</b>"
            ]
          },
          "metadata": {},
          "execution_count": 58
        }
      ]
    },
    {
      "cell_type": "code",
      "source": [
        "constraints.model()"
      ],
      "metadata": {
        "colab": {
          "base_uri": "https://localhost:8080/",
          "height": 34
        },
        "id": "cTxa46uA9Vq0",
        "outputId": "19a995f9-610f-4a23-b782-fee8c2e62488"
      },
      "execution_count": 59,
      "outputs": [
        {
          "output_type": "execute_result",
          "data": {
            "text/plain": [
              "[compactness error = 3, area error = 9]"
            ],
            "text/html": [
              "[compactness error = 3, area error = 9]"
            ]
          },
          "metadata": {},
          "execution_count": 59
        }
      ]
    },
    {
      "cell_type": "markdown",
      "source": [
        "Implementing SVM function for Z3 Solver"
      ],
      "metadata": {
        "id": "YkcUd3eZ9wQx"
      }
    },
    {
      "cell_type": "code",
      "source": [
        "X_train.shape"
      ],
      "metadata": {
        "colab": {
          "base_uri": "https://localhost:8080/"
        },
        "id": "kI-7krBtJfw0",
        "outputId": "698fad74-fc29-4cf7-f0ef-767d79f1413d"
      },
      "execution_count": 69,
      "outputs": [
        {
          "output_type": "execute_result",
          "data": {
            "text/plain": [
              "(398, 30)"
            ]
          },
          "metadata": {},
          "execution_count": 69
        }
      ]
    },
    {
      "cell_type": "code",
      "source": [
        "#SVM Decision Function answer for the first element of training set and the actual first element\n",
        "((clf.dual_coef_ @ clf.support_vectors_) @ X_train[0].reshape(1, len(X_train[0])).T + clf.intercept_), decfun[0]"
      ],
      "metadata": {
        "colab": {
          "base_uri": "https://localhost:8080/"
        },
        "id": "pw55j6ax92Dh",
        "outputId": "377988ef-c3ae-4a44-8795-b1a224942a1d"
      },
      "execution_count": 67,
      "outputs": [
        {
          "output_type": "execute_result",
          "data": {
            "text/plain": [
              "(array([[3.55261264]]), 3.552612638406506)"
            ]
          },
          "metadata": {},
          "execution_count": 67
        }
      ]
    },
    {
      "cell_type": "code",
      "source": [
        "clf.dual_coef_.shape,clf.support_vectors_.shape,X_train[0].reshape(1, len(X_train[0])).T.shape, clf.intercept_"
      ],
      "metadata": {
        "colab": {
          "base_uri": "https://localhost:8080/"
        },
        "id": "e757esoXMVBI",
        "outputId": "0e6c9a79-ce2f-417c-88ae-94cf738b49d2"
      },
      "execution_count": 91,
      "outputs": [
        {
          "output_type": "execute_result",
          "data": {
            "text/plain": [
              "((1, 43), (43, 30), (30, 1), array([14.52243574]))"
            ]
          },
          "metadata": {},
          "execution_count": 91
        }
      ]
    },
    {
      "cell_type": "code",
      "source": [
        "#SVM Decision Function answer for all elements of training set\n",
        "for i in range(0,X_train.shape[0]):\n",
        "  #print(i, ' : ',((clf.dual_coef_ @ clf.support_vectors_) @ X_train[i].reshape(1, len(X_train[0])).T + clf.intercept_))\n",
        "  pass"
      ],
      "metadata": {
        "id": "kr_KQes7JvGQ"
      },
      "execution_count": 80,
      "outputs": []
    },
    {
      "cell_type": "markdown",
      "source": [
        "To z3"
      ],
      "metadata": {
        "id": "aPEG_psPOvSa"
      }
    },
    {
      "cell_type": "code",
      "source": [
        "np.RealVal = np.vectorize(RealVal) # simple mapping of functions over a vector\n"
      ],
      "metadata": {
        "id": "w-0pfke3PD9v"
      },
      "execution_count": 99,
      "outputs": []
    },
    {
      "cell_type": "code",
      "source": [
        "z3_dual_coef = np.RealVal(clf.dual_coef_)\n",
        "z3_support_vectors = np.RealVal(clf.support_vectors_)\n",
        "z3_X_Train = np.RealVal(X_train)\n",
        "z3_intercept_ = np.RealVal(clf.intercept_)"
      ],
      "metadata": {
        "id": "kSWV7jA7Ox39"
      },
      "execution_count": 110,
      "outputs": []
    },
    {
      "cell_type": "code",
      "source": [
        "first_element = ((clf.dual_coef_ @ clf.support_vectors_) @ X_train[0].reshape(1, len(X_train[0])).T + clf.intercept_)[0][0]\n",
        "prove(((z3_dual_coef @ z3_support_vectors) @ z3_X_Train[0].reshape(1, len(z3_X_Train[0])).T + z3_intercept_)[0][0] > 3.552612640)\n",
        "prove(((z3_dual_coef @ z3_support_vectors) @ z3_X_Train[0].reshape(1, len(z3_X_Train[0])).T + z3_intercept_)[0][0] > 3.5526126409)\n",
        "prove(((z3_dual_coef @ z3_support_vectors) @ z3_X_Train[0].reshape(1, len(z3_X_Train[0])).T + z3_intercept_)[0][0] <= first_element)\n",
        "prove(((z3_dual_coef @ z3_support_vectors) @ z3_X_Train[0].reshape(1, len(z3_X_Train[0])).T + z3_intercept_)[0][0] == first_element)\n",
        "first_element"
      ],
      "metadata": {
        "colab": {
          "base_uri": "https://localhost:8080/"
        },
        "id": "YpkekSSpQWAC",
        "outputId": "c10a4e7d-a990-4d7a-c923-740251469423"
      },
      "execution_count": 165,
      "outputs": [
        {
          "output_type": "stream",
          "name": "stdout",
          "text": [
            "proved\n",
            "counterexample\n",
            "[]\n",
            "proved\n",
            "counterexample\n",
            "[]\n"
          ]
        },
        {
          "output_type": "execute_result",
          "data": {
            "text/plain": [
              "3.552612640902959"
            ]
          },
          "metadata": {},
          "execution_count": 165
        }
      ]
    },
    {
      "cell_type": "code",
      "source": [
        "clf.intercept_[0],z3_intercept_[0],3630608935567563/250000000000000"
      ],
      "metadata": {
        "colab": {
          "base_uri": "https://localhost:8080/"
        },
        "id": "Q27bAdm4UBOm",
        "outputId": "cc29f56f-9fc8-41cc-e1c2-7fc0c5aa3b56"
      },
      "execution_count": 158,
      "outputs": [
        {
          "output_type": "execute_result",
          "data": {
            "text/plain": [
              "(14.522435742270252, 3630608935567563/250000000000000, 14.522435742270252)"
            ]
          },
          "metadata": {},
          "execution_count": 158
        }
      ]
    }
  ]
}