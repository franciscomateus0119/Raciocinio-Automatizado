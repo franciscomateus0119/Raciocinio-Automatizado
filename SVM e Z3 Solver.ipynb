{
  "nbformat": 4,
  "nbformat_minor": 0,
  "metadata": {
    "colab": {
      "name": "SVM e Z3 Solver.ipynb",
      "provenance": []
    },
    "kernelspec": {
      "name": "python3",
      "display_name": "Python 3"
    },
    "language_info": {
      "name": "python"
    }
  },
  "cells": [
    {
      "cell_type": "code",
      "execution_count": 2,
      "metadata": {
        "id": "A1i4HEgVhKCN"
      },
      "outputs": [],
      "source": [
        "from sklearn import datasets\n",
        "cancer = datasets.load_breast_cancer()"
      ]
    },
    {
      "cell_type": "code",
      "source": [
        "import numpy as np"
      ],
      "metadata": {
        "id": "mZU8YDf6At-j"
      },
      "execution_count": 3,
      "outputs": []
    },
    {
      "cell_type": "code",
      "source": [
        "import pandas as pd"
      ],
      "metadata": {
        "id": "UEUOzYLdw5ai"
      },
      "execution_count": 4,
      "outputs": []
    },
    {
      "cell_type": "code",
      "source": [
        "cancer.data.shape"
      ],
      "metadata": {
        "colab": {
          "base_uri": "https://localhost:8080/"
        },
        "id": "Jrs5MGkWinko",
        "outputId": "01ae17c4-22bc-4b31-c4a3-801629b5eb90"
      },
      "execution_count": 5,
      "outputs": [
        {
          "output_type": "execute_result",
          "data": {
            "text/plain": [
              "(569, 30)"
            ]
          },
          "metadata": {},
          "execution_count": 5
        }
      ]
    },
    {
      "cell_type": "code",
      "source": [
        "type(cancer)"
      ],
      "metadata": {
        "colab": {
          "base_uri": "https://localhost:8080/"
        },
        "id": "zjhDunAd3pUI",
        "outputId": "da83ee4d-f9a8-4ad0-a888-53d194253262"
      },
      "execution_count": 6,
      "outputs": [
        {
          "output_type": "execute_result",
          "data": {
            "text/plain": [
              "sklearn.utils.Bunch"
            ]
          },
          "metadata": {},
          "execution_count": 6
        }
      ]
    },
    {
      "cell_type": "code",
      "source": [
        "df = pd.DataFrame(cancer.data, columns = cancer.feature_names)\n",
        "df"
      ],
      "metadata": {
        "colab": {
          "base_uri": "https://localhost:8080/",
          "height": 523
        },
        "id": "XeFOu9Y-wxgW",
        "outputId": "6d4aa394-8af9-4d62-ad0a-7ac15f6710c0"
      },
      "execution_count": 7,
      "outputs": [
        {
          "output_type": "execute_result",
          "data": {
            "text/plain": [
              "     mean radius  mean texture  mean perimeter  mean area  mean smoothness  \\\n",
              "0          17.99         10.38          122.80     1001.0          0.11840   \n",
              "1          20.57         17.77          132.90     1326.0          0.08474   \n",
              "2          19.69         21.25          130.00     1203.0          0.10960   \n",
              "3          11.42         20.38           77.58      386.1          0.14250   \n",
              "4          20.29         14.34          135.10     1297.0          0.10030   \n",
              "..           ...           ...             ...        ...              ...   \n",
              "564        21.56         22.39          142.00     1479.0          0.11100   \n",
              "565        20.13         28.25          131.20     1261.0          0.09780   \n",
              "566        16.60         28.08          108.30      858.1          0.08455   \n",
              "567        20.60         29.33          140.10     1265.0          0.11780   \n",
              "568         7.76         24.54           47.92      181.0          0.05263   \n",
              "\n",
              "     mean compactness  mean concavity  mean concave points  mean symmetry  \\\n",
              "0             0.27760         0.30010              0.14710         0.2419   \n",
              "1             0.07864         0.08690              0.07017         0.1812   \n",
              "2             0.15990         0.19740              0.12790         0.2069   \n",
              "3             0.28390         0.24140              0.10520         0.2597   \n",
              "4             0.13280         0.19800              0.10430         0.1809   \n",
              "..                ...             ...                  ...            ...   \n",
              "564           0.11590         0.24390              0.13890         0.1726   \n",
              "565           0.10340         0.14400              0.09791         0.1752   \n",
              "566           0.10230         0.09251              0.05302         0.1590   \n",
              "567           0.27700         0.35140              0.15200         0.2397   \n",
              "568           0.04362         0.00000              0.00000         0.1587   \n",
              "\n",
              "     mean fractal dimension  ...  worst radius  worst texture  \\\n",
              "0                   0.07871  ...        25.380          17.33   \n",
              "1                   0.05667  ...        24.990          23.41   \n",
              "2                   0.05999  ...        23.570          25.53   \n",
              "3                   0.09744  ...        14.910          26.50   \n",
              "4                   0.05883  ...        22.540          16.67   \n",
              "..                      ...  ...           ...            ...   \n",
              "564                 0.05623  ...        25.450          26.40   \n",
              "565                 0.05533  ...        23.690          38.25   \n",
              "566                 0.05648  ...        18.980          34.12   \n",
              "567                 0.07016  ...        25.740          39.42   \n",
              "568                 0.05884  ...         9.456          30.37   \n",
              "\n",
              "     worst perimeter  worst area  worst smoothness  worst compactness  \\\n",
              "0             184.60      2019.0           0.16220            0.66560   \n",
              "1             158.80      1956.0           0.12380            0.18660   \n",
              "2             152.50      1709.0           0.14440            0.42450   \n",
              "3              98.87       567.7           0.20980            0.86630   \n",
              "4             152.20      1575.0           0.13740            0.20500   \n",
              "..               ...         ...               ...                ...   \n",
              "564           166.10      2027.0           0.14100            0.21130   \n",
              "565           155.00      1731.0           0.11660            0.19220   \n",
              "566           126.70      1124.0           0.11390            0.30940   \n",
              "567           184.60      1821.0           0.16500            0.86810   \n",
              "568            59.16       268.6           0.08996            0.06444   \n",
              "\n",
              "     worst concavity  worst concave points  worst symmetry  \\\n",
              "0             0.7119                0.2654          0.4601   \n",
              "1             0.2416                0.1860          0.2750   \n",
              "2             0.4504                0.2430          0.3613   \n",
              "3             0.6869                0.2575          0.6638   \n",
              "4             0.4000                0.1625          0.2364   \n",
              "..               ...                   ...             ...   \n",
              "564           0.4107                0.2216          0.2060   \n",
              "565           0.3215                0.1628          0.2572   \n",
              "566           0.3403                0.1418          0.2218   \n",
              "567           0.9387                0.2650          0.4087   \n",
              "568           0.0000                0.0000          0.2871   \n",
              "\n",
              "     worst fractal dimension  \n",
              "0                    0.11890  \n",
              "1                    0.08902  \n",
              "2                    0.08758  \n",
              "3                    0.17300  \n",
              "4                    0.07678  \n",
              "..                       ...  \n",
              "564                  0.07115  \n",
              "565                  0.06637  \n",
              "566                  0.07820  \n",
              "567                  0.12400  \n",
              "568                  0.07039  \n",
              "\n",
              "[569 rows x 30 columns]"
            ],
            "text/html": [
              "\n",
              "  <div id=\"df-d0e4d53c-3ccc-451d-bac5-2b0f5ef2d27b\">\n",
              "    <div class=\"colab-df-container\">\n",
              "      <div>\n",
              "<style scoped>\n",
              "    .dataframe tbody tr th:only-of-type {\n",
              "        vertical-align: middle;\n",
              "    }\n",
              "\n",
              "    .dataframe tbody tr th {\n",
              "        vertical-align: top;\n",
              "    }\n",
              "\n",
              "    .dataframe thead th {\n",
              "        text-align: right;\n",
              "    }\n",
              "</style>\n",
              "<table border=\"1\" class=\"dataframe\">\n",
              "  <thead>\n",
              "    <tr style=\"text-align: right;\">\n",
              "      <th></th>\n",
              "      <th>mean radius</th>\n",
              "      <th>mean texture</th>\n",
              "      <th>mean perimeter</th>\n",
              "      <th>mean area</th>\n",
              "      <th>mean smoothness</th>\n",
              "      <th>mean compactness</th>\n",
              "      <th>mean concavity</th>\n",
              "      <th>mean concave points</th>\n",
              "      <th>mean symmetry</th>\n",
              "      <th>mean fractal dimension</th>\n",
              "      <th>...</th>\n",
              "      <th>worst radius</th>\n",
              "      <th>worst texture</th>\n",
              "      <th>worst perimeter</th>\n",
              "      <th>worst area</th>\n",
              "      <th>worst smoothness</th>\n",
              "      <th>worst compactness</th>\n",
              "      <th>worst concavity</th>\n",
              "      <th>worst concave points</th>\n",
              "      <th>worst symmetry</th>\n",
              "      <th>worst fractal dimension</th>\n",
              "    </tr>\n",
              "  </thead>\n",
              "  <tbody>\n",
              "    <tr>\n",
              "      <th>0</th>\n",
              "      <td>17.99</td>\n",
              "      <td>10.38</td>\n",
              "      <td>122.80</td>\n",
              "      <td>1001.0</td>\n",
              "      <td>0.11840</td>\n",
              "      <td>0.27760</td>\n",
              "      <td>0.30010</td>\n",
              "      <td>0.14710</td>\n",
              "      <td>0.2419</td>\n",
              "      <td>0.07871</td>\n",
              "      <td>...</td>\n",
              "      <td>25.380</td>\n",
              "      <td>17.33</td>\n",
              "      <td>184.60</td>\n",
              "      <td>2019.0</td>\n",
              "      <td>0.16220</td>\n",
              "      <td>0.66560</td>\n",
              "      <td>0.7119</td>\n",
              "      <td>0.2654</td>\n",
              "      <td>0.4601</td>\n",
              "      <td>0.11890</td>\n",
              "    </tr>\n",
              "    <tr>\n",
              "      <th>1</th>\n",
              "      <td>20.57</td>\n",
              "      <td>17.77</td>\n",
              "      <td>132.90</td>\n",
              "      <td>1326.0</td>\n",
              "      <td>0.08474</td>\n",
              "      <td>0.07864</td>\n",
              "      <td>0.08690</td>\n",
              "      <td>0.07017</td>\n",
              "      <td>0.1812</td>\n",
              "      <td>0.05667</td>\n",
              "      <td>...</td>\n",
              "      <td>24.990</td>\n",
              "      <td>23.41</td>\n",
              "      <td>158.80</td>\n",
              "      <td>1956.0</td>\n",
              "      <td>0.12380</td>\n",
              "      <td>0.18660</td>\n",
              "      <td>0.2416</td>\n",
              "      <td>0.1860</td>\n",
              "      <td>0.2750</td>\n",
              "      <td>0.08902</td>\n",
              "    </tr>\n",
              "    <tr>\n",
              "      <th>2</th>\n",
              "      <td>19.69</td>\n",
              "      <td>21.25</td>\n",
              "      <td>130.00</td>\n",
              "      <td>1203.0</td>\n",
              "      <td>0.10960</td>\n",
              "      <td>0.15990</td>\n",
              "      <td>0.19740</td>\n",
              "      <td>0.12790</td>\n",
              "      <td>0.2069</td>\n",
              "      <td>0.05999</td>\n",
              "      <td>...</td>\n",
              "      <td>23.570</td>\n",
              "      <td>25.53</td>\n",
              "      <td>152.50</td>\n",
              "      <td>1709.0</td>\n",
              "      <td>0.14440</td>\n",
              "      <td>0.42450</td>\n",
              "      <td>0.4504</td>\n",
              "      <td>0.2430</td>\n",
              "      <td>0.3613</td>\n",
              "      <td>0.08758</td>\n",
              "    </tr>\n",
              "    <tr>\n",
              "      <th>3</th>\n",
              "      <td>11.42</td>\n",
              "      <td>20.38</td>\n",
              "      <td>77.58</td>\n",
              "      <td>386.1</td>\n",
              "      <td>0.14250</td>\n",
              "      <td>0.28390</td>\n",
              "      <td>0.24140</td>\n",
              "      <td>0.10520</td>\n",
              "      <td>0.2597</td>\n",
              "      <td>0.09744</td>\n",
              "      <td>...</td>\n",
              "      <td>14.910</td>\n",
              "      <td>26.50</td>\n",
              "      <td>98.87</td>\n",
              "      <td>567.7</td>\n",
              "      <td>0.20980</td>\n",
              "      <td>0.86630</td>\n",
              "      <td>0.6869</td>\n",
              "      <td>0.2575</td>\n",
              "      <td>0.6638</td>\n",
              "      <td>0.17300</td>\n",
              "    </tr>\n",
              "    <tr>\n",
              "      <th>4</th>\n",
              "      <td>20.29</td>\n",
              "      <td>14.34</td>\n",
              "      <td>135.10</td>\n",
              "      <td>1297.0</td>\n",
              "      <td>0.10030</td>\n",
              "      <td>0.13280</td>\n",
              "      <td>0.19800</td>\n",
              "      <td>0.10430</td>\n",
              "      <td>0.1809</td>\n",
              "      <td>0.05883</td>\n",
              "      <td>...</td>\n",
              "      <td>22.540</td>\n",
              "      <td>16.67</td>\n",
              "      <td>152.20</td>\n",
              "      <td>1575.0</td>\n",
              "      <td>0.13740</td>\n",
              "      <td>0.20500</td>\n",
              "      <td>0.4000</td>\n",
              "      <td>0.1625</td>\n",
              "      <td>0.2364</td>\n",
              "      <td>0.07678</td>\n",
              "    </tr>\n",
              "    <tr>\n",
              "      <th>...</th>\n",
              "      <td>...</td>\n",
              "      <td>...</td>\n",
              "      <td>...</td>\n",
              "      <td>...</td>\n",
              "      <td>...</td>\n",
              "      <td>...</td>\n",
              "      <td>...</td>\n",
              "      <td>...</td>\n",
              "      <td>...</td>\n",
              "      <td>...</td>\n",
              "      <td>...</td>\n",
              "      <td>...</td>\n",
              "      <td>...</td>\n",
              "      <td>...</td>\n",
              "      <td>...</td>\n",
              "      <td>...</td>\n",
              "      <td>...</td>\n",
              "      <td>...</td>\n",
              "      <td>...</td>\n",
              "      <td>...</td>\n",
              "      <td>...</td>\n",
              "    </tr>\n",
              "    <tr>\n",
              "      <th>564</th>\n",
              "      <td>21.56</td>\n",
              "      <td>22.39</td>\n",
              "      <td>142.00</td>\n",
              "      <td>1479.0</td>\n",
              "      <td>0.11100</td>\n",
              "      <td>0.11590</td>\n",
              "      <td>0.24390</td>\n",
              "      <td>0.13890</td>\n",
              "      <td>0.1726</td>\n",
              "      <td>0.05623</td>\n",
              "      <td>...</td>\n",
              "      <td>25.450</td>\n",
              "      <td>26.40</td>\n",
              "      <td>166.10</td>\n",
              "      <td>2027.0</td>\n",
              "      <td>0.14100</td>\n",
              "      <td>0.21130</td>\n",
              "      <td>0.4107</td>\n",
              "      <td>0.2216</td>\n",
              "      <td>0.2060</td>\n",
              "      <td>0.07115</td>\n",
              "    </tr>\n",
              "    <tr>\n",
              "      <th>565</th>\n",
              "      <td>20.13</td>\n",
              "      <td>28.25</td>\n",
              "      <td>131.20</td>\n",
              "      <td>1261.0</td>\n",
              "      <td>0.09780</td>\n",
              "      <td>0.10340</td>\n",
              "      <td>0.14400</td>\n",
              "      <td>0.09791</td>\n",
              "      <td>0.1752</td>\n",
              "      <td>0.05533</td>\n",
              "      <td>...</td>\n",
              "      <td>23.690</td>\n",
              "      <td>38.25</td>\n",
              "      <td>155.00</td>\n",
              "      <td>1731.0</td>\n",
              "      <td>0.11660</td>\n",
              "      <td>0.19220</td>\n",
              "      <td>0.3215</td>\n",
              "      <td>0.1628</td>\n",
              "      <td>0.2572</td>\n",
              "      <td>0.06637</td>\n",
              "    </tr>\n",
              "    <tr>\n",
              "      <th>566</th>\n",
              "      <td>16.60</td>\n",
              "      <td>28.08</td>\n",
              "      <td>108.30</td>\n",
              "      <td>858.1</td>\n",
              "      <td>0.08455</td>\n",
              "      <td>0.10230</td>\n",
              "      <td>0.09251</td>\n",
              "      <td>0.05302</td>\n",
              "      <td>0.1590</td>\n",
              "      <td>0.05648</td>\n",
              "      <td>...</td>\n",
              "      <td>18.980</td>\n",
              "      <td>34.12</td>\n",
              "      <td>126.70</td>\n",
              "      <td>1124.0</td>\n",
              "      <td>0.11390</td>\n",
              "      <td>0.30940</td>\n",
              "      <td>0.3403</td>\n",
              "      <td>0.1418</td>\n",
              "      <td>0.2218</td>\n",
              "      <td>0.07820</td>\n",
              "    </tr>\n",
              "    <tr>\n",
              "      <th>567</th>\n",
              "      <td>20.60</td>\n",
              "      <td>29.33</td>\n",
              "      <td>140.10</td>\n",
              "      <td>1265.0</td>\n",
              "      <td>0.11780</td>\n",
              "      <td>0.27700</td>\n",
              "      <td>0.35140</td>\n",
              "      <td>0.15200</td>\n",
              "      <td>0.2397</td>\n",
              "      <td>0.07016</td>\n",
              "      <td>...</td>\n",
              "      <td>25.740</td>\n",
              "      <td>39.42</td>\n",
              "      <td>184.60</td>\n",
              "      <td>1821.0</td>\n",
              "      <td>0.16500</td>\n",
              "      <td>0.86810</td>\n",
              "      <td>0.9387</td>\n",
              "      <td>0.2650</td>\n",
              "      <td>0.4087</td>\n",
              "      <td>0.12400</td>\n",
              "    </tr>\n",
              "    <tr>\n",
              "      <th>568</th>\n",
              "      <td>7.76</td>\n",
              "      <td>24.54</td>\n",
              "      <td>47.92</td>\n",
              "      <td>181.0</td>\n",
              "      <td>0.05263</td>\n",
              "      <td>0.04362</td>\n",
              "      <td>0.00000</td>\n",
              "      <td>0.00000</td>\n",
              "      <td>0.1587</td>\n",
              "      <td>0.05884</td>\n",
              "      <td>...</td>\n",
              "      <td>9.456</td>\n",
              "      <td>30.37</td>\n",
              "      <td>59.16</td>\n",
              "      <td>268.6</td>\n",
              "      <td>0.08996</td>\n",
              "      <td>0.06444</td>\n",
              "      <td>0.0000</td>\n",
              "      <td>0.0000</td>\n",
              "      <td>0.2871</td>\n",
              "      <td>0.07039</td>\n",
              "    </tr>\n",
              "  </tbody>\n",
              "</table>\n",
              "<p>569 rows × 30 columns</p>\n",
              "</div>\n",
              "      <button class=\"colab-df-convert\" onclick=\"convertToInteractive('df-d0e4d53c-3ccc-451d-bac5-2b0f5ef2d27b')\"\n",
              "              title=\"Convert this dataframe to an interactive table.\"\n",
              "              style=\"display:none;\">\n",
              "        \n",
              "  <svg xmlns=\"http://www.w3.org/2000/svg\" height=\"24px\"viewBox=\"0 0 24 24\"\n",
              "       width=\"24px\">\n",
              "    <path d=\"M0 0h24v24H0V0z\" fill=\"none\"/>\n",
              "    <path d=\"M18.56 5.44l.94 2.06.94-2.06 2.06-.94-2.06-.94-.94-2.06-.94 2.06-2.06.94zm-11 1L8.5 8.5l.94-2.06 2.06-.94-2.06-.94L8.5 2.5l-.94 2.06-2.06.94zm10 10l.94 2.06.94-2.06 2.06-.94-2.06-.94-.94-2.06-.94 2.06-2.06.94z\"/><path d=\"M17.41 7.96l-1.37-1.37c-.4-.4-.92-.59-1.43-.59-.52 0-1.04.2-1.43.59L10.3 9.45l-7.72 7.72c-.78.78-.78 2.05 0 2.83L4 21.41c.39.39.9.59 1.41.59.51 0 1.02-.2 1.41-.59l7.78-7.78 2.81-2.81c.8-.78.8-2.07 0-2.86zM5.41 20L4 18.59l7.72-7.72 1.47 1.35L5.41 20z\"/>\n",
              "  </svg>\n",
              "      </button>\n",
              "      \n",
              "  <style>\n",
              "    .colab-df-container {\n",
              "      display:flex;\n",
              "      flex-wrap:wrap;\n",
              "      gap: 12px;\n",
              "    }\n",
              "\n",
              "    .colab-df-convert {\n",
              "      background-color: #E8F0FE;\n",
              "      border: none;\n",
              "      border-radius: 50%;\n",
              "      cursor: pointer;\n",
              "      display: none;\n",
              "      fill: #1967D2;\n",
              "      height: 32px;\n",
              "      padding: 0 0 0 0;\n",
              "      width: 32px;\n",
              "    }\n",
              "\n",
              "    .colab-df-convert:hover {\n",
              "      background-color: #E2EBFA;\n",
              "      box-shadow: 0px 1px 2px rgba(60, 64, 67, 0.3), 0px 1px 3px 1px rgba(60, 64, 67, 0.15);\n",
              "      fill: #174EA6;\n",
              "    }\n",
              "\n",
              "    [theme=dark] .colab-df-convert {\n",
              "      background-color: #3B4455;\n",
              "      fill: #D2E3FC;\n",
              "    }\n",
              "\n",
              "    [theme=dark] .colab-df-convert:hover {\n",
              "      background-color: #434B5C;\n",
              "      box-shadow: 0px 1px 3px 1px rgba(0, 0, 0, 0.15);\n",
              "      filter: drop-shadow(0px 1px 2px rgba(0, 0, 0, 0.3));\n",
              "      fill: #FFFFFF;\n",
              "    }\n",
              "  </style>\n",
              "\n",
              "      <script>\n",
              "        const buttonEl =\n",
              "          document.querySelector('#df-d0e4d53c-3ccc-451d-bac5-2b0f5ef2d27b button.colab-df-convert');\n",
              "        buttonEl.style.display =\n",
              "          google.colab.kernel.accessAllowed ? 'block' : 'none';\n",
              "\n",
              "        async function convertToInteractive(key) {\n",
              "          const element = document.querySelector('#df-d0e4d53c-3ccc-451d-bac5-2b0f5ef2d27b');\n",
              "          const dataTable =\n",
              "            await google.colab.kernel.invokeFunction('convertToInteractive',\n",
              "                                                     [key], {});\n",
              "          if (!dataTable) return;\n",
              "\n",
              "          const docLinkHtml = 'Like what you see? Visit the ' +\n",
              "            '<a target=\"_blank\" href=https://colab.research.google.com/notebooks/data_table.ipynb>data table notebook</a>'\n",
              "            + ' to learn more about interactive tables.';\n",
              "          element.innerHTML = '';\n",
              "          dataTable['output_type'] = 'display_data';\n",
              "          await google.colab.output.renderOutput(dataTable, element);\n",
              "          const docLink = document.createElement('div');\n",
              "          docLink.innerHTML = docLinkHtml;\n",
              "          element.appendChild(docLink);\n",
              "        }\n",
              "      </script>\n",
              "    </div>\n",
              "  </div>\n",
              "  "
            ]
          },
          "metadata": {},
          "execution_count": 7
        }
      ]
    },
    {
      "cell_type": "code",
      "source": [
        "from sklearn.model_selection import train_test_split"
      ],
      "metadata": {
        "id": "zQHdPlZfh0MS"
      },
      "execution_count": 8,
      "outputs": []
    },
    {
      "cell_type": "code",
      "source": [
        "X_train, X_test, y_train, y_test = train_test_split(cancer.data, cancer.target, test_size=0.3,random_state=0) # 70% training and 30% test"
      ],
      "metadata": {
        "id": "qI2dGmVBh4Sq"
      },
      "execution_count": 9,
      "outputs": []
    },
    {
      "cell_type": "code",
      "source": [
        "# The variance is computed for the flattened array by default, otherwise over the specified axis.\n",
        "X_train.var()"
      ],
      "metadata": {
        "colab": {
          "base_uri": "https://localhost:8080/"
        },
        "id": "zJ_unTs62IXV",
        "outputId": "bca69493-a283-4ec0-e480-d6badab1977f"
      },
      "execution_count": 10,
      "outputs": [
        {
          "output_type": "execute_result",
          "data": {
            "text/plain": [
              "54610.14134314552"
            ]
          },
          "metadata": {},
          "execution_count": 10
        }
      ]
    },
    {
      "cell_type": "code",
      "source": [
        "from sklearn import svm\n",
        "\n",
        "clf = svm.SVC(kernel='linear') # Linear Kernel\n",
        "\n",
        "#Train the model using the training sets\n",
        "clf.fit(X_train, y_train)\n",
        "\n",
        "#Predict the response for test dataset\n",
        "y_pred = clf.predict(X_test)"
      ],
      "metadata": {
        "id": "dx90Sjfwh9cz"
      },
      "execution_count": 11,
      "outputs": []
    },
    {
      "cell_type": "code",
      "source": [
        "from sklearn import metrics\n",
        "\n",
        "print(\"Accuracy:\", metrics.accuracy_score(y_test, y_pred))"
      ],
      "metadata": {
        "colab": {
          "base_uri": "https://localhost:8080/"
        },
        "id": "fVlp9ZP3iMtT",
        "outputId": "b8afa475-0dc1-490e-b663-3282dff3a195"
      },
      "execution_count": 12,
      "outputs": [
        {
          "output_type": "stream",
          "name": "stdout",
          "text": [
            "Accuracy: 0.9590643274853801\n"
          ]
        }
      ]
    },
    {
      "cell_type": "code",
      "source": [
        "y_pred_train = clf.predict(X_train)\n",
        "print(\"Accuracy on Training:\", metrics.accuracy_score(y_train, y_pred_train))"
      ],
      "metadata": {
        "colab": {
          "base_uri": "https://localhost:8080/"
        },
        "id": "kjIMKtJWiPAl",
        "outputId": "f6fe853b-9d33-484c-fcdd-1cc68b8987e1"
      },
      "execution_count": 13,
      "outputs": [
        {
          "output_type": "stream",
          "name": "stdout",
          "text": [
            "Accuracy on Training: 0.964824120603015\n"
          ]
        }
      ]
    },
    {
      "cell_type": "code",
      "source": [
        "# support vectors\n",
        "clf.support_vectors_"
      ],
      "metadata": {
        "colab": {
          "base_uri": "https://localhost:8080/"
        },
        "id": "vsSlysmoikp5",
        "outputId": "4538d3bf-5c72-4d33-a93f-edec6542edac"
      },
      "execution_count": 14,
      "outputs": [
        {
          "output_type": "execute_result",
          "data": {
            "text/plain": [
              "array([[1.499e+01, 2.520e+01, 9.554e+01, ..., 2.899e-02, 1.565e-01,\n",
              "        5.504e-02],\n",
              "       [1.245e+01, 1.570e+01, 8.257e+01, ..., 1.741e-01, 3.985e-01,\n",
              "        1.244e-01],\n",
              "       [1.626e+01, 2.188e+01, 1.075e+02, ..., 1.047e-01, 2.736e-01,\n",
              "        7.953e-02],\n",
              "       ...,\n",
              "       [1.366e+01, 1.913e+01, 8.946e+01, ..., 1.407e-01, 2.744e-01,\n",
              "        8.839e-02],\n",
              "       [1.495e+01, 1.877e+01, 9.784e+01, ..., 8.405e-02, 2.852e-01,\n",
              "        9.218e-02],\n",
              "       [1.453e+01, 1.934e+01, 9.425e+01, ..., 9.594e-02, 2.471e-01,\n",
              "        7.463e-02]])"
            ]
          },
          "metadata": {},
          "execution_count": 14
        }
      ]
    },
    {
      "cell_type": "code",
      "source": [
        "clf.support_vectors_.shape"
      ],
      "metadata": {
        "colab": {
          "base_uri": "https://localhost:8080/"
        },
        "id": "f5CJEwEV5HuZ",
        "outputId": "665450ca-5a06-43d4-d58c-450607d701a6"
      },
      "execution_count": 15,
      "outputs": [
        {
          "output_type": "execute_result",
          "data": {
            "text/plain": [
              "(43, 30)"
            ]
          },
          "metadata": {},
          "execution_count": 15
        }
      ]
    },
    {
      "cell_type": "code",
      "source": [
        "#number of support vector for each class\n",
        "clf.n_support_"
      ],
      "metadata": {
        "colab": {
          "base_uri": "https://localhost:8080/"
        },
        "id": "Ta5FV4q0iyDg",
        "outputId": "45ca3d46-f914-4d9b-87c3-51e5f62ebe71"
      },
      "execution_count": 16,
      "outputs": [
        {
          "output_type": "execute_result",
          "data": {
            "text/plain": [
              "array([21, 22], dtype=int32)"
            ]
          },
          "metadata": {},
          "execution_count": 16
        }
      ]
    },
    {
      "cell_type": "code",
      "source": [
        "#indexes of suppport vectors\n",
        "clf.support_"
      ],
      "metadata": {
        "colab": {
          "base_uri": "https://localhost:8080/"
        },
        "id": "vCOhlbMyjBkl",
        "outputId": "151105e3-c494-4ab2-a630-4b4972fe2a34"
      },
      "execution_count": 17,
      "outputs": [
        {
          "output_type": "execute_result",
          "data": {
            "text/plain": [
              "array([ 28,  77,  79,  81, 120, 123, 129, 151, 157, 166, 167, 190, 209,\n",
              "       216, 264, 279, 284, 349, 364, 379, 393,  11,  15,  53,  68,  80,\n",
              "        96, 111, 138, 156, 176, 195, 211, 247, 255, 266, 278, 299, 327,\n",
              "       353, 376, 377, 380], dtype=int32)"
            ]
          },
          "metadata": {},
          "execution_count": 17
        }
      ]
    },
    {
      "cell_type": "code",
      "source": [
        "len(clf.support_)"
      ],
      "metadata": {
        "colab": {
          "base_uri": "https://localhost:8080/"
        },
        "id": "IsP6bLPsjEQM",
        "outputId": "2868a928-efdb-4ad1-e4e6-06ad95c6aeda"
      },
      "execution_count": 18,
      "outputs": [
        {
          "output_type": "execute_result",
          "data": {
            "text/plain": [
              "43"
            ]
          },
          "metadata": {},
          "execution_count": 18
        }
      ]
    },
    {
      "cell_type": "code",
      "source": [
        "# coefficients of the features\n",
        "clf.coef_"
      ],
      "metadata": {
        "colab": {
          "base_uri": "https://localhost:8080/"
        },
        "id": "AtB2oAjDj2jV",
        "outputId": "22986a15-a63a-40ff-cd14-0d56702f4b6b"
      },
      "execution_count": 19,
      "outputs": [
        {
          "output_type": "execute_result",
          "data": {
            "text/plain": [
              "array([[ 0.68373455,  0.0488774 , -0.23709621,  0.01686997, -0.22144463,\n",
              "        -0.18547651, -0.43013893, -0.27241665, -0.38508488, -0.0304932 ,\n",
              "        -0.03920461,  0.97984896,  0.22443933, -0.07725387, -0.02162182,\n",
              "         0.13451903,  0.01942884, -0.02275524, -0.0198628 ,  0.0273803 ,\n",
              "         0.5135781 , -0.2132971 , -0.07484835, -0.00813752, -0.3967954 ,\n",
              "        -0.55209777, -1.41715509, -0.58011007, -0.81381582, -0.08563459]])"
            ]
          },
          "metadata": {},
          "execution_count": 19
        }
      ]
    },
    {
      "cell_type": "code",
      "source": [
        "len(clf.coef_[0])"
      ],
      "metadata": {
        "colab": {
          "base_uri": "https://localhost:8080/"
        },
        "id": "8pfY_gy7vLlG",
        "outputId": "d6e8d2d7-11d5-4a41-f7ba-abe2dbac470c"
      },
      "execution_count": 20,
      "outputs": [
        {
          "output_type": "execute_result",
          "data": {
            "text/plain": [
              "30"
            ]
          },
          "metadata": {},
          "execution_count": 20
        }
      ]
    },
    {
      "cell_type": "code",
      "source": [
        "# coefficients of the support vectors\n",
        "clf.dual_coef_"
      ],
      "metadata": {
        "colab": {
          "base_uri": "https://localhost:8080/"
        },
        "id": "7SmP0efRvFRJ",
        "outputId": "5350ed3d-d344-40ca-b05d-ba6b5cb1990e"
      },
      "execution_count": 21,
      "outputs": [
        {
          "output_type": "execute_result",
          "data": {
            "text/plain": [
              "array([[-1.        , -0.03092786, -0.52419775, -1.        , -1.        ,\n",
              "        -0.65474546, -1.        , -1.        , -1.        , -1.        ,\n",
              "        -1.        , -1.        , -1.        , -1.        , -0.79701823,\n",
              "        -1.        , -1.        , -1.        , -1.        , -1.        ,\n",
              "        -1.        ,  1.        ,  0.49046158,  1.        ,  1.        ,\n",
              "         0.93128035,  1.        ,  1.        ,  1.        ,  1.        ,\n",
              "         1.        ,  1.        ,  1.        ,  0.28203392,  1.        ,\n",
              "         0.2324823 ,  1.        ,  0.07063115,  1.        ,  1.        ,\n",
              "         1.        ,  1.        ,  1.        ]])"
            ]
          },
          "metadata": {},
          "execution_count": 21
        }
      ]
    },
    {
      "cell_type": "code",
      "source": [
        "clf.dual_coef_.shape"
      ],
      "metadata": {
        "colab": {
          "base_uri": "https://localhost:8080/"
        },
        "id": "wNttdYCg8WYB",
        "outputId": "3af4ed09-949d-4e13-b2f7-44f1b20a56c6"
      },
      "execution_count": 22,
      "outputs": [
        {
          "output_type": "execute_result",
          "data": {
            "text/plain": [
              "(1, 43)"
            ]
          },
          "metadata": {},
          "execution_count": 22
        }
      ]
    },
    {
      "cell_type": "code",
      "source": [
        "len(clf.dual_coef_[0])"
      ],
      "metadata": {
        "colab": {
          "base_uri": "https://localhost:8080/"
        },
        "id": "VVg2XuV1vRYl",
        "outputId": "d4840920-4923-4143-a6fe-f01b6782dca2"
      },
      "execution_count": 23,
      "outputs": [
        {
          "output_type": "execute_result",
          "data": {
            "text/plain": [
              "43"
            ]
          },
          "metadata": {},
          "execution_count": 23
        }
      ]
    },
    {
      "cell_type": "code",
      "source": [
        "clf.predict([X_train[1]])"
      ],
      "metadata": {
        "colab": {
          "base_uri": "https://localhost:8080/"
        },
        "id": "oPknQ2M75V7G",
        "outputId": "18100508-0751-46e7-9f69-4164370d74d1"
      },
      "execution_count": 24,
      "outputs": [
        {
          "output_type": "execute_result",
          "data": {
            "text/plain": [
              "array([1])"
            ]
          },
          "metadata": {},
          "execution_count": 24
        }
      ]
    },
    {
      "cell_type": "code",
      "source": [
        "clf.intercept_"
      ],
      "metadata": {
        "colab": {
          "base_uri": "https://localhost:8080/"
        },
        "id": "khi7TLNx5ini",
        "outputId": "3f35818a-533c-488d-bb24-a8641faa9fbe"
      },
      "execution_count": 25,
      "outputs": [
        {
          "output_type": "execute_result",
          "data": {
            "text/plain": [
              "array([14.52243574])"
            ]
          },
          "metadata": {},
          "execution_count": 25
        }
      ]
    },
    {
      "cell_type": "code",
      "source": [
        "clf.decision_function([X_train[0]])"
      ],
      "metadata": {
        "colab": {
          "base_uri": "https://localhost:8080/"
        },
        "id": "YQr0xoib7ymP",
        "outputId": "9e97f448-123b-43ce-abfb-a0e23e9b380c"
      },
      "execution_count": 26,
      "outputs": [
        {
          "output_type": "execute_result",
          "data": {
            "text/plain": [
              "array([3.55261264])"
            ]
          },
          "metadata": {},
          "execution_count": 26
        }
      ]
    },
    {
      "cell_type": "code",
      "source": [
        "clf.dual_coef_ @ clf.support_vectors_"
      ],
      "metadata": {
        "colab": {
          "base_uri": "https://localhost:8080/"
        },
        "id": "qY202g7L_1GG",
        "outputId": "877008c4-ac90-4825-aeb5-aa9f1bfd8596"
      },
      "execution_count": 27,
      "outputs": [
        {
          "output_type": "execute_result",
          "data": {
            "text/plain": [
              "array([[ 0.68373455,  0.0488774 , -0.23709621,  0.01686997, -0.22144463,\n",
              "        -0.18547651, -0.43013893, -0.27241665, -0.38508488, -0.0304932 ,\n",
              "        -0.03920461,  0.97984896,  0.22443933, -0.07725387, -0.02162182,\n",
              "         0.13451903,  0.01942884, -0.02275524, -0.0198628 ,  0.0273803 ,\n",
              "         0.5135781 , -0.2132971 , -0.07484835, -0.00813752, -0.3967954 ,\n",
              "        -0.55209777, -1.41715509, -0.58011007, -0.81381582, -0.08563459]])"
            ]
          },
          "metadata": {},
          "execution_count": 27
        }
      ]
    },
    {
      "cell_type": "code",
      "source": [
        "(clf.dual_coef_ @ clf.support_vectors_).shape"
      ],
      "metadata": {
        "colab": {
          "base_uri": "https://localhost:8080/"
        },
        "id": "NWS3bVl35uPj",
        "outputId": "361750b9-d8a9-43ed-8222-9ad0c0b4ca67"
      },
      "execution_count": 28,
      "outputs": [
        {
          "output_type": "execute_result",
          "data": {
            "text/plain": [
              "(1, 30)"
            ]
          },
          "metadata": {},
          "execution_count": 28
        }
      ]
    },
    {
      "cell_type": "code",
      "source": [
        "X_train[0].reshape(1, len(X_train[0])).T"
      ],
      "metadata": {
        "colab": {
          "base_uri": "https://localhost:8080/"
        },
        "id": "ZSVZejtr_3yF",
        "outputId": "c6409365-5dfc-44df-d3cb-2995349b0f25"
      },
      "execution_count": 29,
      "outputs": [
        {
          "output_type": "execute_result",
          "data": {
            "text/plain": [
              "array([[1.149e+01],\n",
              "       [1.459e+01],\n",
              "       [7.399e+01],\n",
              "       [4.049e+02],\n",
              "       [1.046e-01],\n",
              "       [8.228e-02],\n",
              "       [5.308e-02],\n",
              "       [1.969e-02],\n",
              "       [1.779e-01],\n",
              "       [6.574e-02],\n",
              "       [2.034e-01],\n",
              "       [1.166e+00],\n",
              "       [1.567e+00],\n",
              "       [1.434e+01],\n",
              "       [4.957e-03],\n",
              "       [2.114e-02],\n",
              "       [4.156e-02],\n",
              "       [8.038e-03],\n",
              "       [1.843e-02],\n",
              "       [3.614e-03],\n",
              "       [1.240e+01],\n",
              "       [2.190e+01],\n",
              "       [8.204e+01],\n",
              "       [4.676e+02],\n",
              "       [1.352e-01],\n",
              "       [2.010e-01],\n",
              "       [2.596e-01],\n",
              "       [7.431e-02],\n",
              "       [2.941e-01],\n",
              "       [9.180e-02]])"
            ]
          },
          "metadata": {},
          "execution_count": 29
        }
      ]
    },
    {
      "cell_type": "code",
      "source": [
        "X_train[0].reshape(1, len(X_train[0])).T.shape"
      ],
      "metadata": {
        "colab": {
          "base_uri": "https://localhost:8080/"
        },
        "id": "KPvUHZy1BRP-",
        "outputId": "3b8e1c69-4a64-4d84-8603-f4ab6921839b"
      },
      "execution_count": 30,
      "outputs": [
        {
          "output_type": "execute_result",
          "data": {
            "text/plain": [
              "(30, 1)"
            ]
          },
          "metadata": {},
          "execution_count": 30
        }
      ]
    },
    {
      "cell_type": "code",
      "source": [
        "(clf.dual_coef_ @ clf.support_vectors_) @ X_train[0].reshape(1, len(X_train[0])).T"
      ],
      "metadata": {
        "colab": {
          "base_uri": "https://localhost:8080/"
        },
        "id": "ekDXid8SBHj2",
        "outputId": "012eb6a4-4192-4ac3-8784-b179737126b6"
      },
      "execution_count": 31,
      "outputs": [
        {
          "output_type": "execute_result",
          "data": {
            "text/plain": [
              "array([[-10.9698231]])"
            ]
          },
          "metadata": {},
          "execution_count": 31
        }
      ]
    },
    {
      "cell_type": "code",
      "source": [
        "((clf.dual_coef_ @ clf.support_vectors_) @ X_train[1].reshape(1, len(X_train[1])).T + clf.intercept_)[0][0]"
      ],
      "metadata": {
        "colab": {
          "base_uri": "https://localhost:8080/"
        },
        "id": "igzG9IldBYWR",
        "outputId": "6d895178-855f-443e-eb22-89328b73e453"
      },
      "execution_count": 32,
      "outputs": [
        {
          "output_type": "execute_result",
          "data": {
            "text/plain": [
              "4.8991654692802395"
            ]
          },
          "metadata": {},
          "execution_count": 32
        }
      ]
    },
    {
      "cell_type": "markdown",
      "source": [
        "A partir daqui não é mais do Thiago"
      ],
      "metadata": {
        "id": "1u2JpCUVerVv"
      }
    },
    {
      "cell_type": "markdown",
      "source": [
        "**Encontrando Limites Positivo e Negativo do SVM**"
      ],
      "metadata": {
        "id": "5TbaNMHrevbU"
      }
    },
    {
      "cell_type": "code",
      "source": [
        "decfun = clf.decision_function(X_train)\n",
        "lim_pos = decfun[np.argmax(decfun)]\n",
        "lim_neg = decfun[np.argmin(decfun)]\n",
        "print(\"Limite Pos = \",lim_pos, '\\nLimite Neg =',lim_neg)"
      ],
      "metadata": {
        "colab": {
          "base_uri": "https://localhost:8080/"
        },
        "id": "NuDlYZHrcYUY",
        "outputId": "2f9358bc-60ae-4acc-8370-90357bb93ed5"
      },
      "execution_count": 33,
      "outputs": [
        {
          "output_type": "stream",
          "name": "stdout",
          "text": [
            "Limite Pos =  9.37321931602485 \n",
            "Limite Neg = -47.65638399792085\n"
          ]
        }
      ]
    },
    {
      "cell_type": "markdown",
      "source": [
        "**Preparando variáveis wr, t1, t2**"
      ],
      "metadata": {
        "id": "YL5RJ9yae2fD"
      }
    },
    {
      "cell_type": "code",
      "source": [
        "wr = []\n",
        "for i in range(1,13):\n",
        "  wr.append(i*0.04)\n",
        "print(wr)"
      ],
      "metadata": {
        "colab": {
          "base_uri": "https://localhost:8080/"
        },
        "id": "qT3qTb6Hdq0r",
        "outputId": "cfb6887c-dd53-4083-b1d8-0df1e4edcbe0"
      },
      "execution_count": 34,
      "outputs": [
        {
          "output_type": "stream",
          "name": "stdout",
          "text": [
            "[0.04, 0.08, 0.12, 0.16, 0.2, 0.24, 0.28, 0.32, 0.36, 0.4, 0.44, 0.48]\n"
          ]
        }
      ]
    },
    {
      "cell_type": "code",
      "source": [
        "#Total quantity of elements\n",
        "n_elements = decfun.shape[0]\n",
        "n_elements"
      ],
      "metadata": {
        "id": "GAlW07_hpsok",
        "colab": {
          "base_uri": "https://localhost:8080/"
        },
        "outputId": "4a195177-d559-4f60-e158-11a30253c544"
      },
      "execution_count": 35,
      "outputs": [
        {
          "output_type": "execute_result",
          "data": {
            "text/plain": [
              "398"
            ]
          },
          "metadata": {},
          "execution_count": 35
        }
      ]
    },
    {
      "cell_type": "code",
      "source": [
        "t1 = []\n",
        "t2 = []\n",
        "for i in range (1,101):\n",
        "  t1.append(0.01*i*lim_pos)\n",
        "  t2.append(0.01*i*lim_neg)\n",
        "#for i in range (1,51):\n",
        "#  t1.append(0.02*i*lim_pos)\n",
        "#  t2.append(0.02*i*lim_neg)"
      ],
      "metadata": {
        "id": "ngvmzcZDlgwy"
      },
      "execution_count": 36,
      "outputs": []
    },
    {
      "cell_type": "code",
      "source": [
        "dict_reject = {'WR': wr,'T1':t1, 'T2':t2,'E':[],'R':[],'EWRR': []}\n",
        "dict_reject"
      ],
      "metadata": {
        "colab": {
          "base_uri": "https://localhost:8080/"
        },
        "id": "Xd_ksJnbgo39",
        "outputId": "8e50d0be-4bbb-46b6-eb80-0d45e253a9fb"
      },
      "execution_count": 37,
      "outputs": [
        {
          "output_type": "execute_result",
          "data": {
            "text/plain": [
              "{'E': [],\n",
              " 'EWRR': [],\n",
              " 'R': [],\n",
              " 'T1': [0.0937321931602485,\n",
              "  0.187464386320497,\n",
              "  0.2811965794807455,\n",
              "  0.374928772640994,\n",
              "  0.4686609658012425,\n",
              "  0.562393158961491,\n",
              "  0.6561253521217395,\n",
              "  0.749857545281988,\n",
              "  0.8435897384422364,\n",
              "  0.937321931602485,\n",
              "  1.0310541247627334,\n",
              "  1.124786317922982,\n",
              "  1.2185185110832304,\n",
              "  1.312250704243479,\n",
              "  1.4059828974037274,\n",
              "  1.499715090563976,\n",
              "  1.5934472837242246,\n",
              "  1.6871794768844728,\n",
              "  1.7809116700447214,\n",
              "  1.87464386320497,\n",
              "  1.9683760563652184,\n",
              "  2.062108249525467,\n",
              "  2.1558404426857156,\n",
              "  2.249572635845964,\n",
              "  2.3433048290062124,\n",
              "  2.437037022166461,\n",
              "  2.5307692153267096,\n",
              "  2.624501408486958,\n",
              "  2.7182336016472064,\n",
              "  2.811965794807455,\n",
              "  2.905697987967703,\n",
              "  2.999430181127952,\n",
              "  3.0931623742882004,\n",
              "  3.1868945674484492,\n",
              "  3.2806267606086976,\n",
              "  3.3743589537689456,\n",
              "  3.4680911469291944,\n",
              "  3.561823340089443,\n",
              "  3.6555555332496916,\n",
              "  3.74928772640994,\n",
              "  3.8430199195701884,\n",
              "  3.936752112730437,\n",
              "  4.030484305890686,\n",
              "  4.124216499050934,\n",
              "  4.217948692211182,\n",
              "  4.311680885371431,\n",
              "  4.405413078531679,\n",
              "  4.499145271691928,\n",
              "  4.592877464852176,\n",
              "  4.686609658012425,\n",
              "  4.780341851172674,\n",
              "  4.874074044332922,\n",
              "  4.96780623749317,\n",
              "  5.061538430653419,\n",
              "  5.155270623813668,\n",
              "  5.249002816973916,\n",
              "  5.342735010134165,\n",
              "  5.436467203294413,\n",
              "  5.530199396454661,\n",
              "  5.62393158961491,\n",
              "  5.717663782775158,\n",
              "  5.811395975935406,\n",
              "  5.905128169095655,\n",
              "  5.998860362255904,\n",
              "  6.092592555416153,\n",
              "  6.186324748576401,\n",
              "  6.28005694173665,\n",
              "  6.3737891348968985,\n",
              "  6.467521328057146,\n",
              "  6.561253521217395,\n",
              "  6.654985714377643,\n",
              "  6.748717907537891,\n",
              "  6.84245010069814,\n",
              "  6.936182293858389,\n",
              "  7.029914487018637,\n",
              "  7.123646680178886,\n",
              "  7.217378873339134,\n",
              "  7.311111066499383,\n",
              "  7.404843259659631,\n",
              "  7.49857545281988,\n",
              "  7.592307645980129,\n",
              "  7.686039839140377,\n",
              "  7.779772032300626,\n",
              "  7.873504225460874,\n",
              "  7.9672364186211215,\n",
              "  8.060968611781371,\n",
              "  8.15470080494162,\n",
              "  8.248432998101867,\n",
              "  8.342165191262117,\n",
              "  8.435897384422365,\n",
              "  8.529629577582613,\n",
              "  8.623361770742862,\n",
              "  8.71709396390311,\n",
              "  8.810826157063358,\n",
              "  8.904558350223608,\n",
              "  8.998290543383856,\n",
              "  9.092022736544104,\n",
              "  9.185754929704352,\n",
              "  9.279487122864602,\n",
              "  9.37321931602485],\n",
              " 'T2': [-0.4765638399792085,\n",
              "  -0.953127679958417,\n",
              "  -1.4296915199376254,\n",
              "  -1.906255359916834,\n",
              "  -2.3828191998960424,\n",
              "  -2.859383039875251,\n",
              "  -3.33594687985446,\n",
              "  -3.812510719833668,\n",
              "  -4.289074559812876,\n",
              "  -4.765638399792085,\n",
              "  -5.242202239771293,\n",
              "  -5.718766079750502,\n",
              "  -6.19532991972971,\n",
              "  -6.67189375970892,\n",
              "  -7.148457599688127,\n",
              "  -7.625021439667336,\n",
              "  -8.101585279646544,\n",
              "  -8.578149119625753,\n",
              "  -9.054712959604961,\n",
              "  -9.53127679958417,\n",
              "  -10.007840639563378,\n",
              "  -10.484404479542587,\n",
              "  -10.960968319521795,\n",
              "  -11.437532159501004,\n",
              "  -11.914095999480212,\n",
              "  -12.39065983945942,\n",
              "  -12.867223679438629,\n",
              "  -13.34378751941784,\n",
              "  -13.820351359397044,\n",
              "  -14.296915199376254,\n",
              "  -14.773479039355463,\n",
              "  -15.250042879334671,\n",
              "  -15.72660671931388,\n",
              "  -16.20317055929309,\n",
              "  -16.6797343992723,\n",
              "  -17.156298239251505,\n",
              "  -17.632862079230712,\n",
              "  -18.109425919209922,\n",
              "  -18.585989759189133,\n",
              "  -19.06255359916834,\n",
              "  -19.53911743914755,\n",
              "  -20.015681279126756,\n",
              "  -20.492245119105963,\n",
              "  -20.968808959085173,\n",
              "  -21.445372799064383,\n",
              "  -21.92193663904359,\n",
              "  -22.3985004790228,\n",
              "  -22.875064319002007,\n",
              "  -23.351628158981214,\n",
              "  -23.828191998960424,\n",
              "  -24.304755838939634,\n",
              "  -24.78131967891884,\n",
              "  -25.25788351889805,\n",
              "  -25.734447358877258,\n",
              "  -26.21101119885647,\n",
              "  -26.68757503883568,\n",
              "  -27.164138878814885,\n",
              "  -27.64070271879409,\n",
              "  -28.1172665587733,\n",
              "  -28.59383039875251,\n",
              "  -29.070394238731716,\n",
              "  -29.546958078710926,\n",
              "  -30.023521918690136,\n",
              "  -30.500085758669343,\n",
              "  -30.976649598648553,\n",
              "  -31.45321343862776,\n",
              "  -31.92977727860697,\n",
              "  -32.40634111858618,\n",
              "  -32.88290495856539,\n",
              "  -33.3594687985446,\n",
              "  -33.836032638523804,\n",
              "  -34.31259647850301,\n",
              "  -34.78916031848222,\n",
              "  -35.265724158461424,\n",
              "  -35.74228799844064,\n",
              "  -36.218851838419845,\n",
              "  -36.69541567839905,\n",
              "  -37.171979518378265,\n",
              "  -37.64854335835747,\n",
              "  -38.12510719833668,\n",
              "  -38.60167103831589,\n",
              "  -39.0782348782951,\n",
              "  -39.554798718274306,\n",
              "  -40.03136255825351,\n",
              "  -40.50792639823272,\n",
              "  -40.984490238211926,\n",
              "  -41.46105407819114,\n",
              "  -41.937617918170346,\n",
              "  -42.41418175814955,\n",
              "  -42.89074559812877,\n",
              "  -43.367309438107974,\n",
              "  -43.84387327808718,\n",
              "  -44.320437118066394,\n",
              "  -44.7970009580456,\n",
              "  -45.27356479802481,\n",
              "  -45.750128638004014,\n",
              "  -46.22669247798322,\n",
              "  -46.70325631796243,\n",
              "  -47.17982015794164,\n",
              "  -47.65638399792085],\n",
              " 'WR': [0.04, 0.08, 0.12, 0.16, 0.2, 0.24, 0.28, 0.32, 0.36, 0.4, 0.44, 0.48]}"
            ]
          },
          "metadata": {},
          "execution_count": 37
        }
      ]
    },
    {
      "cell_type": "markdown",
      "source": [
        "First Element Iteration Example"
      ],
      "metadata": {
        "id": "xCyPjUVpvF2U"
      }
    },
    {
      "cell_type": "code",
      "source": [
        "#Get Number of Rejected\n",
        "positive_indexes = np.where(decfun >= dict_reject['T1'][0])\n",
        "negative_indexes = np.where(decfun < dict_reject['T2'][0])\n",
        "rejected_indexes = np.where((decfun < dict_reject['T1'][0]) & (decfun >= dict_reject['T2'][0]))\n",
        "R = rejected_indexes[0].shape[0]\n",
        "np.array(positive_indexes).shape,np.array(negative_indexes).shape, R"
      ],
      "metadata": {
        "colab": {
          "base_uri": "https://localhost:8080/"
        },
        "id": "F8AAPrI9l_1s",
        "outputId": "9f5a3d56-4d55-47d2-8a7f-b436c15c9543"
      },
      "execution_count": 38,
      "outputs": [
        {
          "output_type": "execute_result",
          "data": {
            "text/plain": [
              "((1, 252), (1, 136), 10)"
            ]
          },
          "metadata": {},
          "execution_count": 38
        }
      ]
    },
    {
      "cell_type": "code",
      "source": [
        "#Showing Rejected Elements\n",
        "rejected_indexes,decfun[rejected_indexes[0]],dict_reject['T1'][0],dict_reject['T2'][0]"
      ],
      "metadata": {
        "colab": {
          "base_uri": "https://localhost:8080/"
        },
        "id": "cSIQRu20vZHz",
        "outputId": "252f28ae-0732-4111-ba13-99e65dbf73e5"
      },
      "execution_count": 39,
      "outputs": [
        {
          "output_type": "execute_result",
          "data": {
            "text/plain": [
              "((array([ 28, 120, 129, 151, 157, 190, 211, 284, 364, 379]),),\n",
              " array([-0.01174956, -0.46210051, -0.0729748 , -0.33347919, -0.24845183,\n",
              "        -0.25014049, -0.43657875, -0.21034102,  0.07450255, -0.23466209]),\n",
              " 0.0937321931602485,\n",
              " -0.4765638399792085)"
            ]
          },
          "metadata": {},
          "execution_count": 39
        }
      ]
    },
    {
      "cell_type": "code",
      "source": [
        "#Get Number of Misclassifications\n",
        "class_p = y_train[positive_indexes]\n",
        "class_n = y_train[negative_indexes]\n",
        "error_p = np.where(class_p == np.argmin(np.unique(y_train)))[0].shape[0]\n",
        "error_n = np.where(class_n == np.argmax(np.unique(y_train)))[0].shape[0]\n",
        "error_total = (error_p + error_n)/(n_elements - R)\n",
        "class_p,class_n,error_p,error_n,error_total,"
      ],
      "metadata": {
        "colab": {
          "base_uri": "https://localhost:8080/"
        },
        "id": "dzO6rQk5rCvl",
        "outputId": "25ad7b76-b61f-4dec-d67a-0378e1fe38c1"
      },
      "execution_count": 40,
      "outputs": [
        {
          "output_type": "execute_result",
          "data": {
            "text/plain": [
              "(array([1, 1, 1, 1, 1, 1, 1, 1, 1, 1, 1, 1, 1, 1, 1, 1, 1, 1, 1, 1, 1, 1,\n",
              "        1, 1, 1, 1, 1, 1, 1, 1, 1, 1, 1, 1, 1, 1, 1, 1, 1, 1, 1, 1, 1, 1,\n",
              "        1, 1, 1, 1, 1, 1, 0, 1, 1, 1, 1, 1, 1, 1, 1, 1, 1, 1, 1, 1, 1, 1,\n",
              "        1, 1, 1, 1, 1, 1, 1, 1, 1, 1, 1, 1, 1, 1, 1, 1, 1, 1, 1, 1, 1, 1,\n",
              "        1, 1, 1, 1, 1, 1, 1, 1, 1, 1, 1, 1, 1, 1, 1, 1, 1, 1, 1, 1, 0, 0,\n",
              "        1, 1, 1, 1, 1, 1, 1, 1, 1, 1, 1, 1, 1, 1, 1, 1, 1, 1, 1, 1, 1, 1,\n",
              "        1, 1, 0, 1, 1, 1, 1, 0, 1, 1, 1, 1, 1, 1, 1, 1, 1, 1, 1, 1, 1, 1,\n",
              "        1, 1, 1, 1, 1, 1, 1, 1, 1, 1, 1, 1, 1, 1, 1, 1, 1, 1, 1, 1, 1, 1,\n",
              "        1, 0, 1, 1, 1, 1, 1, 1, 1, 1, 1, 1, 1, 1, 1, 1, 1, 1, 1, 1, 1, 1,\n",
              "        1, 1, 1, 1, 1, 1, 1, 1, 1, 1, 1, 1, 1, 1, 1, 1, 1, 1, 1, 1, 1, 1,\n",
              "        1, 1, 0, 1, 1, 1, 1, 1, 1, 1, 1, 1, 1, 1, 1, 1, 1, 1, 1, 1, 1, 1,\n",
              "        1, 1, 1, 1, 1, 1, 0, 1, 1, 1]),\n",
              " array([0, 0, 0, 0, 0, 0, 0, 0, 0, 0, 0, 0, 0, 0, 0, 0, 0, 0, 0, 0, 0, 0,\n",
              "        0, 0, 0, 0, 0, 0, 0, 0, 0, 0, 0, 0, 1, 0, 0, 0, 0, 0, 0, 0, 0, 0,\n",
              "        0, 0, 0, 0, 0, 1, 0, 0, 0, 0, 0, 0, 1, 0, 0, 0, 0, 0, 0, 0, 0, 0,\n",
              "        0, 0, 0, 0, 0, 0, 0, 0, 0, 0, 0, 0, 0, 0, 0, 0, 0, 0, 0, 0, 0, 0,\n",
              "        0, 0, 0, 0, 0, 0, 1, 0, 0, 0, 0, 0, 0, 0, 0, 0, 0, 0, 0, 0, 0, 0,\n",
              "        0, 0, 0, 0, 0, 0, 0, 0, 0, 0, 0, 0, 0, 0, 0, 0, 0, 0, 0, 0, 0, 0,\n",
              "        0, 0, 0, 0]),\n",
              " 8,\n",
              " 4,\n",
              " 0.030927835051546393)"
            ]
          },
          "metadata": {},
          "execution_count": 40
        }
      ]
    },
    {
      "cell_type": "code",
      "source": [
        "print(\"Erro = \",error_total,\" wr = \",dict_reject['WR'][0],' R = ',R, '\\nE + wr * R = ',error_total + dict_reject['WR'][0] * R)"
      ],
      "metadata": {
        "colab": {
          "base_uri": "https://localhost:8080/"
        },
        "id": "-MJu4uB3tpuY",
        "outputId": "1db6656b-e4f0-4992-e89a-41aece884b1a"
      },
      "execution_count": 41,
      "outputs": [
        {
          "output_type": "stream",
          "name": "stdout",
          "text": [
            "Erro =  0.030927835051546393  wr =  0.04  R =  10 \n",
            "E + wr * R =  0.4309278350515464\n"
          ]
        }
      ]
    },
    {
      "cell_type": "markdown",
      "source": [
        "First Full Iterations"
      ],
      "metadata": {
        "id": "caFzzkdNvJLr"
      }
    },
    {
      "cell_type": "code",
      "source": [
        "EwrR_0 = []\n",
        "for i,t in enumerate(dict_reject['T1']):\n",
        "  #Get Number of Rejected\n",
        "  positive_indexes = np.where(decfun >= dict_reject['T1'][i])\n",
        "  negative_indexes = np.where(decfun < dict_reject['T2'][i])\n",
        "  rejected_indexes = np.where((decfun < dict_reject['T1'][i]) & (decfun >= dict_reject['T2'][i]))\n",
        "  R = rejected_indexes[0].shape[0]\n",
        "  #np.array(positive_indexes).shape,np.array(negative_indexes).shape, R\n",
        "\n",
        "  #Get Number of Misclassifications\n",
        "  class_p = y_train[positive_indexes]\n",
        "  class_n = y_train[negative_indexes]\n",
        "  error_p = np.where(class_p == np.argmin(np.unique(y_train)))[0].shape[0]\n",
        "  error_n = np.where(class_n == np.argmax(np.unique(y_train)))[0].shape[0]\n",
        "  error_total = (error_p + error_n)/(n_elements - R)\n",
        "  \n",
        "  EwrR_0.append(error_total + dict_reject['WR'][0] * R)\n",
        "  print('(',i+1,')',\"Erro = \",error_total,\" wr = \",dict_reject['WR'][0],' R = ',R, 'E + wrR = ',error_total + dict_reject['WR'][0] * R,' T1 = ',dict_reject['T1'][i], ' T2 = ', dict_reject['T2'][i], ' Error P = ', error_p, ' Error N = ', error_n)\n",
        "np.argmin(np.array(EwrR_0)), EwrR_0[np.argmin(np.array(EwrR_0))]\n"
      ],
      "metadata": {
        "colab": {
          "base_uri": "https://localhost:8080/"
        },
        "id": "mhfwytH8xCDA",
        "outputId": "77b894dc-d8f0-4c15-c4d8-7f6e2c5c6b7e"
      },
      "execution_count": 42,
      "outputs": [
        {
          "output_type": "stream",
          "name": "stdout",
          "text": [
            "( 1 ) Erro =  0.030927835051546393  wr =  0.04  R =  10 E + wrR =  0.4309278350515464  T1 =  0.0937321931602485  T2 =  -0.4765638399792085  Error P =  8  Error N =  4\n",
            "( 2 ) Erro =  0.0234375  wr =  0.04  R =  14 E + wrR =  0.5834375  T1 =  0.187464386320497  T2 =  -0.953127679958417  Error P =  7  Error N =  2\n",
            "( 3 ) Erro =  0.016172506738544475  wr =  0.04  R =  27 E + wrR =  1.0961725067385446  T1 =  0.2811965794807455  T2 =  -1.4296915199376254  Error P =  6  Error N =  0\n",
            "( 4 ) Erro =  0.013850415512465374  wr =  0.04  R =  37 E + wrR =  1.4938504155124654  T1 =  0.374928772640994  T2 =  -1.906255359916834  Error P =  5  Error N =  0\n",
            "( 5 ) Erro =  0.0113314447592068  wr =  0.04  R =  45 E + wrR =  1.8113314447592068  T1 =  0.4686609658012425  T2 =  -2.3828191998960424  Error P =  4  Error N =  0\n",
            "( 6 ) Erro =  0.011594202898550725  wr =  0.04  R =  53 E + wrR =  2.1315942028985506  T1 =  0.562393158961491  T2 =  -2.859383039875251  Error P =  4  Error N =  0\n",
            "( 7 ) Erro =  0.012012012012012012  wr =  0.04  R =  65 E + wrR =  2.6120120120120123  T1 =  0.6561253521217395  T2 =  -3.33594687985446  Error P =  4  Error N =  0\n",
            "( 8 ) Erro =  0.0121580547112462  wr =  0.04  R =  69 E + wrR =  2.7721580547112463  T1 =  0.749857545281988  T2 =  -3.812510719833668  Error P =  4  Error N =  0\n",
            "( 9 ) Erro =  0.00946372239747634  wr =  0.04  R =  81 E + wrR =  3.2494637223974765  T1 =  0.8435897384422364  T2 =  -4.289074559812876  Error P =  3  Error N =  0\n",
            "( 10 ) Erro =  0.006535947712418301  wr =  0.04  R =  92 E + wrR =  3.6865359477124184  T1 =  0.937321931602485  T2 =  -4.765638399792085  Error P =  2  Error N =  0\n",
            "( 11 ) Erro =  0.006711409395973154  wr =  0.04  R =  100 E + wrR =  4.006711409395973  T1 =  1.0310541247627334  T2 =  -5.242202239771293  Error P =  2  Error N =  0\n",
            "( 12 ) Erro =  0.006968641114982578  wr =  0.04  R =  111 E + wrR =  4.446968641114983  T1 =  1.124786317922982  T2 =  -5.718766079750502  Error P =  2  Error N =  0\n",
            "( 13 ) Erro =  0.0071174377224199285  wr =  0.04  R =  117 E + wrR =  4.68711743772242  T1 =  1.2185185110832304  T2 =  -6.19532991972971  Error P =  2  Error N =  0\n",
            "( 14 ) Erro =  0.0037313432835820895  wr =  0.04  R =  130 E + wrR =  5.203731343283582  T1 =  1.312250704243479  T2 =  -6.67189375970892  Error P =  1  Error N =  0\n",
            "( 15 ) Erro =  0.0038910505836575876  wr =  0.04  R =  141 E + wrR =  5.643891050583657  T1 =  1.4059828974037274  T2 =  -7.148457599688127  Error P =  1  Error N =  0\n",
            "( 16 ) Erro =  0.00398406374501992  wr =  0.04  R =  147 E + wrR =  5.88398406374502  T1 =  1.499715090563976  T2 =  -7.625021439667336  Error P =  1  Error N =  0\n",
            "( 17 ) Erro =  0.004048582995951417  wr =  0.04  R =  151 E + wrR =  6.044048582995951  T1 =  1.5934472837242246  T2 =  -8.101585279646544  Error P =  1  Error N =  0\n",
            "( 18 ) Erro =  0.004201680672268907  wr =  0.04  R =  160 E + wrR =  6.404201680672269  T1 =  1.6871794768844728  T2 =  -8.578149119625753  Error P =  1  Error N =  0\n",
            "( 19 ) Erro =  0.004273504273504274  wr =  0.04  R =  164 E + wrR =  6.564273504273505  T1 =  1.7809116700447214  T2 =  -9.054712959604961  Error P =  1  Error N =  0\n",
            "( 20 ) Erro =  0.004545454545454545  wr =  0.04  R =  178 E + wrR =  7.124545454545455  T1 =  1.87464386320497  T2 =  -9.53127679958417  Error P =  1  Error N =  0\n",
            "( 21 ) Erro =  0.004694835680751174  wr =  0.04  R =  185 E + wrR =  7.404694835680751  T1 =  1.9683760563652184  T2 =  -10.007840639563378  Error P =  1  Error N =  0\n",
            "( 22 ) Erro =  0.004784688995215311  wr =  0.04  R =  189 E + wrR =  7.564784688995216  T1 =  2.062108249525467  T2 =  -10.484404479542587  Error P =  1  Error N =  0\n",
            "( 23 ) Erro =  0.0048543689320388345  wr =  0.04  R =  192 E + wrR =  7.684854368932038  T1 =  2.1558404426857156  T2 =  -10.960968319521795  Error P =  1  Error N =  0\n",
            "( 24 ) Erro =  0.0051813471502590676  wr =  0.04  R =  205 E + wrR =  8.205181347150258  T1 =  2.249572635845964  T2 =  -11.437532159501004  Error P =  1  Error N =  0\n",
            "( 25 ) Erro =  0.005405405405405406  wr =  0.04  R =  213 E + wrR =  8.525405405405404  T1 =  2.3433048290062124  T2 =  -11.914095999480212  Error P =  1  Error N =  0\n",
            "( 26 ) Erro =  0.00558659217877095  wr =  0.04  R =  219 E + wrR =  8.76558659217877  T1 =  2.437037022166461  T2 =  -12.39065983945942  Error P =  1  Error N =  0\n",
            "( 27 ) Erro =  0.005847953216374269  wr =  0.04  R =  227 E + wrR =  9.085847953216375  T1 =  2.5307692153267096  T2 =  -12.867223679438629  Error P =  1  Error N =  0\n",
            "( 28 ) Erro =  0.0  wr =  0.04  R =  237 E + wrR =  9.48  T1 =  2.624501408486958  T2 =  -13.34378751941784  Error P =  0  Error N =  0\n",
            "( 29 ) Erro =  0.0  wr =  0.04  R =  243 E + wrR =  9.72  T1 =  2.7182336016472064  T2 =  -13.820351359397044  Error P =  0  Error N =  0\n",
            "( 30 ) Erro =  0.0  wr =  0.04  R =  245 E + wrR =  9.8  T1 =  2.811965794807455  T2 =  -14.296915199376254  Error P =  0  Error N =  0\n",
            "( 31 ) Erro =  0.0  wr =  0.04  R =  252 E + wrR =  10.08  T1 =  2.905697987967703  T2 =  -14.773479039355463  Error P =  0  Error N =  0\n",
            "( 32 ) Erro =  0.0  wr =  0.04  R =  261 E + wrR =  10.44  T1 =  2.999430181127952  T2 =  -15.250042879334671  Error P =  0  Error N =  0\n",
            "( 33 ) Erro =  0.0  wr =  0.04  R =  269 E + wrR =  10.76  T1 =  3.0931623742882004  T2 =  -15.72660671931388  Error P =  0  Error N =  0\n",
            "( 34 ) Erro =  0.0  wr =  0.04  R =  279 E + wrR =  11.16  T1 =  3.1868945674484492  T2 =  -16.20317055929309  Error P =  0  Error N =  0\n",
            "( 35 ) Erro =  0.0  wr =  0.04  R =  287 E + wrR =  11.48  T1 =  3.2806267606086976  T2 =  -16.6797343992723  Error P =  0  Error N =  0\n",
            "( 36 ) Erro =  0.0  wr =  0.04  R =  293 E + wrR =  11.72  T1 =  3.3743589537689456  T2 =  -17.156298239251505  Error P =  0  Error N =  0\n",
            "( 37 ) Erro =  0.0  wr =  0.04  R =  302 E + wrR =  12.08  T1 =  3.4680911469291944  T2 =  -17.632862079230712  Error P =  0  Error N =  0\n",
            "( 38 ) Erro =  0.0  wr =  0.04  R =  309 E + wrR =  12.36  T1 =  3.561823340089443  T2 =  -18.109425919209922  Error P =  0  Error N =  0\n",
            "( 39 ) Erro =  0.0  wr =  0.04  R =  313 E + wrR =  12.52  T1 =  3.6555555332496916  T2 =  -18.585989759189133  Error P =  0  Error N =  0\n",
            "( 40 ) Erro =  0.0  wr =  0.04  R =  320 E + wrR =  12.8  T1 =  3.74928772640994  T2 =  -19.06255359916834  Error P =  0  Error N =  0\n",
            "( 41 ) Erro =  0.0  wr =  0.04  R =  323 E + wrR =  12.92  T1 =  3.8430199195701884  T2 =  -19.53911743914755  Error P =  0  Error N =  0\n",
            "( 42 ) Erro =  0.0  wr =  0.04  R =  326 E + wrR =  13.040000000000001  T1 =  3.936752112730437  T2 =  -20.015681279126756  Error P =  0  Error N =  0\n",
            "( 43 ) Erro =  0.0  wr =  0.04  R =  332 E + wrR =  13.280000000000001  T1 =  4.030484305890686  T2 =  -20.492245119105963  Error P =  0  Error N =  0\n",
            "( 44 ) Erro =  0.0  wr =  0.04  R =  339 E + wrR =  13.56  T1 =  4.124216499050934  T2 =  -20.968808959085173  Error P =  0  Error N =  0\n",
            "( 45 ) Erro =  0.0  wr =  0.04  R =  345 E + wrR =  13.8  T1 =  4.217948692211182  T2 =  -21.445372799064383  Error P =  0  Error N =  0\n",
            "( 46 ) Erro =  0.0  wr =  0.04  R =  352 E + wrR =  14.08  T1 =  4.311680885371431  T2 =  -21.92193663904359  Error P =  0  Error N =  0\n",
            "( 47 ) Erro =  0.0  wr =  0.04  R =  359 E + wrR =  14.36  T1 =  4.405413078531679  T2 =  -22.3985004790228  Error P =  0  Error N =  0\n",
            "( 48 ) Erro =  0.0  wr =  0.04  R =  361 E + wrR =  14.44  T1 =  4.499145271691928  T2 =  -22.875064319002007  Error P =  0  Error N =  0\n",
            "( 49 ) Erro =  0.0  wr =  0.04  R =  363 E + wrR =  14.52  T1 =  4.592877464852176  T2 =  -23.351628158981214  Error P =  0  Error N =  0\n",
            "( 50 ) Erro =  0.0  wr =  0.04  R =  365 E + wrR =  14.6  T1 =  4.686609658012425  T2 =  -23.828191998960424  Error P =  0  Error N =  0\n",
            "( 51 ) Erro =  0.0  wr =  0.04  R =  368 E + wrR =  14.72  T1 =  4.780341851172674  T2 =  -24.304755838939634  Error P =  0  Error N =  0\n",
            "( 52 ) Erro =  0.0  wr =  0.04  R =  371 E + wrR =  14.84  T1 =  4.874074044332922  T2 =  -24.78131967891884  Error P =  0  Error N =  0\n",
            "( 53 ) Erro =  0.0  wr =  0.04  R =  374 E + wrR =  14.96  T1 =  4.96780623749317  T2 =  -25.25788351889805  Error P =  0  Error N =  0\n",
            "( 54 ) Erro =  0.0  wr =  0.04  R =  375 E + wrR =  15.0  T1 =  5.061538430653419  T2 =  -25.734447358877258  Error P =  0  Error N =  0\n",
            "( 55 ) Erro =  0.0  wr =  0.04  R =  377 E + wrR =  15.08  T1 =  5.155270623813668  T2 =  -26.21101119885647  Error P =  0  Error N =  0\n",
            "( 56 ) Erro =  0.0  wr =  0.04  R =  378 E + wrR =  15.120000000000001  T1 =  5.249002816973916  T2 =  -26.68757503883568  Error P =  0  Error N =  0\n",
            "( 57 ) Erro =  0.0  wr =  0.04  R =  380 E + wrR =  15.200000000000001  T1 =  5.342735010134165  T2 =  -27.164138878814885  Error P =  0  Error N =  0\n",
            "( 58 ) Erro =  0.0  wr =  0.04  R =  382 E + wrR =  15.280000000000001  T1 =  5.436467203294413  T2 =  -27.64070271879409  Error P =  0  Error N =  0\n",
            "( 59 ) Erro =  0.0  wr =  0.04  R =  383 E + wrR =  15.32  T1 =  5.530199396454661  T2 =  -28.1172665587733  Error P =  0  Error N =  0\n",
            "( 60 ) Erro =  0.0  wr =  0.04  R =  384 E + wrR =  15.36  T1 =  5.62393158961491  T2 =  -28.59383039875251  Error P =  0  Error N =  0\n",
            "( 61 ) Erro =  0.0  wr =  0.04  R =  387 E + wrR =  15.48  T1 =  5.717663782775158  T2 =  -29.070394238731716  Error P =  0  Error N =  0\n",
            "( 62 ) Erro =  0.0  wr =  0.04  R =  389 E + wrR =  15.56  T1 =  5.811395975935406  T2 =  -29.546958078710926  Error P =  0  Error N =  0\n",
            "( 63 ) Erro =  0.0  wr =  0.04  R =  389 E + wrR =  15.56  T1 =  5.905128169095655  T2 =  -30.023521918690136  Error P =  0  Error N =  0\n",
            "( 64 ) Erro =  0.0  wr =  0.04  R =  389 E + wrR =  15.56  T1 =  5.998860362255904  T2 =  -30.500085758669343  Error P =  0  Error N =  0\n",
            "( 65 ) Erro =  0.0  wr =  0.04  R =  389 E + wrR =  15.56  T1 =  6.092592555416153  T2 =  -30.976649598648553  Error P =  0  Error N =  0\n",
            "( 66 ) Erro =  0.0  wr =  0.04  R =  389 E + wrR =  15.56  T1 =  6.186324748576401  T2 =  -31.45321343862776  Error P =  0  Error N =  0\n",
            "( 67 ) Erro =  0.0  wr =  0.04  R =  391 E + wrR =  15.64  T1 =  6.28005694173665  T2 =  -31.92977727860697  Error P =  0  Error N =  0\n",
            "( 68 ) Erro =  0.0  wr =  0.04  R =  393 E + wrR =  15.72  T1 =  6.3737891348968985  T2 =  -32.40634111858618  Error P =  0  Error N =  0\n",
            "( 69 ) Erro =  0.0  wr =  0.04  R =  394 E + wrR =  15.76  T1 =  6.467521328057146  T2 =  -32.88290495856539  Error P =  0  Error N =  0\n",
            "( 70 ) Erro =  0.0  wr =  0.04  R =  394 E + wrR =  15.76  T1 =  6.561253521217395  T2 =  -33.3594687985446  Error P =  0  Error N =  0\n",
            "( 71 ) Erro =  0.0  wr =  0.04  R =  394 E + wrR =  15.76  T1 =  6.654985714377643  T2 =  -33.836032638523804  Error P =  0  Error N =  0\n",
            "( 72 ) Erro =  0.0  wr =  0.04  R =  394 E + wrR =  15.76  T1 =  6.748717907537891  T2 =  -34.31259647850301  Error P =  0  Error N =  0\n",
            "( 73 ) Erro =  0.0  wr =  0.04  R =  394 E + wrR =  15.76  T1 =  6.84245010069814  T2 =  -34.78916031848222  Error P =  0  Error N =  0\n",
            "( 74 ) Erro =  0.0  wr =  0.04  R =  394 E + wrR =  15.76  T1 =  6.936182293858389  T2 =  -35.265724158461424  Error P =  0  Error N =  0\n",
            "( 75 ) Erro =  0.0  wr =  0.04  R =  394 E + wrR =  15.76  T1 =  7.029914487018637  T2 =  -35.74228799844064  Error P =  0  Error N =  0\n",
            "( 76 ) Erro =  0.0  wr =  0.04  R =  394 E + wrR =  15.76  T1 =  7.123646680178886  T2 =  -36.218851838419845  Error P =  0  Error N =  0\n",
            "( 77 ) Erro =  0.0  wr =  0.04  R =  396 E + wrR =  15.84  T1 =  7.217378873339134  T2 =  -36.69541567839905  Error P =  0  Error N =  0\n",
            "( 78 ) Erro =  0.0  wr =  0.04  R =  396 E + wrR =  15.84  T1 =  7.311111066499383  T2 =  -37.171979518378265  Error P =  0  Error N =  0\n",
            "( 79 ) Erro =  0.0  wr =  0.04  R =  396 E + wrR =  15.84  T1 =  7.404843259659631  T2 =  -37.64854335835747  Error P =  0  Error N =  0\n",
            "( 80 ) Erro =  0.0  wr =  0.04  R =  396 E + wrR =  15.84  T1 =  7.49857545281988  T2 =  -38.12510719833668  Error P =  0  Error N =  0\n",
            "( 81 ) Erro =  0.0  wr =  0.04  R =  396 E + wrR =  15.84  T1 =  7.592307645980129  T2 =  -38.60167103831589  Error P =  0  Error N =  0\n",
            "( 82 ) Erro =  0.0  wr =  0.04  R =  396 E + wrR =  15.84  T1 =  7.686039839140377  T2 =  -39.0782348782951  Error P =  0  Error N =  0\n",
            "( 83 ) Erro =  0.0  wr =  0.04  R =  396 E + wrR =  15.84  T1 =  7.779772032300626  T2 =  -39.554798718274306  Error P =  0  Error N =  0\n",
            "( 84 ) Erro =  0.0  wr =  0.04  R =  396 E + wrR =  15.84  T1 =  7.873504225460874  T2 =  -40.03136255825351  Error P =  0  Error N =  0\n",
            "( 85 ) Erro =  0.0  wr =  0.04  R =  396 E + wrR =  15.84  T1 =  7.9672364186211215  T2 =  -40.50792639823272  Error P =  0  Error N =  0\n",
            "( 86 ) Erro =  0.0  wr =  0.04  R =  396 E + wrR =  15.84  T1 =  8.060968611781371  T2 =  -40.984490238211926  Error P =  0  Error N =  0\n",
            "( 87 ) Erro =  0.0  wr =  0.04  R =  396 E + wrR =  15.84  T1 =  8.15470080494162  T2 =  -41.46105407819114  Error P =  0  Error N =  0\n",
            "( 88 ) Erro =  0.0  wr =  0.04  R =  396 E + wrR =  15.84  T1 =  8.248432998101867  T2 =  -41.937617918170346  Error P =  0  Error N =  0\n",
            "( 89 ) Erro =  0.0  wr =  0.04  R =  396 E + wrR =  15.84  T1 =  8.342165191262117  T2 =  -42.41418175814955  Error P =  0  Error N =  0\n",
            "( 90 ) Erro =  0.0  wr =  0.04  R =  396 E + wrR =  15.84  T1 =  8.435897384422365  T2 =  -42.89074559812877  Error P =  0  Error N =  0\n",
            "( 91 ) Erro =  0.0  wr =  0.04  R =  396 E + wrR =  15.84  T1 =  8.529629577582613  T2 =  -43.367309438107974  Error P =  0  Error N =  0\n",
            "( 92 ) Erro =  0.0  wr =  0.04  R =  396 E + wrR =  15.84  T1 =  8.623361770742862  T2 =  -43.84387327808718  Error P =  0  Error N =  0\n",
            "( 93 ) Erro =  0.0  wr =  0.04  R =  396 E + wrR =  15.84  T1 =  8.71709396390311  T2 =  -44.320437118066394  Error P =  0  Error N =  0\n",
            "( 94 ) Erro =  0.0  wr =  0.04  R =  396 E + wrR =  15.84  T1 =  8.810826157063358  T2 =  -44.7970009580456  Error P =  0  Error N =  0\n",
            "( 95 ) Erro =  0.0  wr =  0.04  R =  396 E + wrR =  15.84  T1 =  8.904558350223608  T2 =  -45.27356479802481  Error P =  0  Error N =  0\n",
            "( 96 ) Erro =  0.0  wr =  0.04  R =  396 E + wrR =  15.84  T1 =  8.998290543383856  T2 =  -45.750128638004014  Error P =  0  Error N =  0\n",
            "( 97 ) Erro =  0.0  wr =  0.04  R =  396 E + wrR =  15.84  T1 =  9.092022736544104  T2 =  -46.22669247798322  Error P =  0  Error N =  0\n",
            "( 98 ) Erro =  0.0  wr =  0.04  R =  396 E + wrR =  15.84  T1 =  9.185754929704352  T2 =  -46.70325631796243  Error P =  0  Error N =  0\n",
            "( 99 ) Erro =  0.0  wr =  0.04  R =  396 E + wrR =  15.84  T1 =  9.279487122864602  T2 =  -47.17982015794164  Error P =  0  Error N =  0\n",
            "( 100 ) Erro =  0.0  wr =  0.04  R =  397 E + wrR =  15.88  T1 =  9.37321931602485  T2 =  -47.65638399792085  Error P =  0  Error N =  0\n"
          ]
        },
        {
          "output_type": "execute_result",
          "data": {
            "text/plain": [
              "(0, 0.4309278350515464)"
            ]
          },
          "metadata": {},
          "execution_count": 42
        }
      ]
    },
    {
      "cell_type": "markdown",
      "source": [
        "All Iterations"
      ],
      "metadata": {
        "id": "rartrt2kIEuH"
      }
    },
    {
      "cell_type": "code",
      "source": [
        "for i,wr_ in enumerate(dict_reject['WR']):\n",
        "  EwrR = []\n",
        "  for i,t in enumerate(dict_reject['T1']):\n",
        "    #Get Number of Rejected\n",
        "    positive_indexes = np.where(decfun >= dict_reject['T1'][i])\n",
        "    negative_indexes = np.where(decfun < dict_reject['T2'][i])\n",
        "    rejected_indexes = np.where((decfun < dict_reject['T1'][i]) & (decfun >= dict_reject['T2'][i]))\n",
        "    R = rejected_indexes[0].shape[0]\n",
        "    #np.array(positive_indexes).shape,np.array(negative_indexes).shape, R\n",
        "\n",
        "    #Get Number of Misclassifications\n",
        "    class_p = y_train[positive_indexes]\n",
        "    class_n = y_train[negative_indexes]\n",
        "    error_p = np.where(class_p == np.argmin(np.unique(y_train)))[0].shape[0]\n",
        "    error_n = np.where(class_n == np.argmax(np.unique(y_train)))[0].shape[0]\n",
        "    error_total = (error_p + error_n)/(n_elements - R)\n",
        "    \n",
        "    EwrR.append(error_total + wr_ * R)\n",
        "    #print('(',i+1,')',\"Erro = \",error_total,\" wr = \",wr_,' R = ',R, 'E + wrR = ',error_total + wr_ * R,' T1 = ',dict_reject['T1'][i], ' T2 = ', dict_reject['T2'][i], ' Error P = ', error_p, ' Error N = ', error_n)\n",
        "  print(np.argmin(np.array(EwrR)), EwrR[np.argmin(np.array(EwrR))])"
      ],
      "metadata": {
        "colab": {
          "base_uri": "https://localhost:8080/"
        },
        "id": "Z9eD5ICKIGtk",
        "outputId": "fd2c2eb3-1ec2-4372-ece6-d7d83c593c6c"
      },
      "execution_count": 43,
      "outputs": [
        {
          "output_type": "stream",
          "name": "stdout",
          "text": [
            "0 0.4309278350515464\n",
            "0 0.8309278350515464\n",
            "0 1.2309278350515465\n",
            "0 1.6309278350515464\n",
            "0 2.0309278350515463\n",
            "0 2.430927835051546\n",
            "0 2.8309278350515465\n",
            "0 3.2309278350515465\n",
            "0 3.630927835051546\n",
            "0 4.030927835051546\n",
            "0 4.430927835051547\n",
            "0 4.830927835051546\n"
          ]
        }
      ]
    },
    {
      "cell_type": "markdown",
      "source": [
        "z3 solver thiago"
      ],
      "metadata": {
        "id": "TNDJmkDq8XHE"
      }
    },
    {
      "cell_type": "code",
      "source": [
        "#!pip install z3-solver"
      ],
      "metadata": {
        "colab": {
          "base_uri": "https://localhost:8080/"
        },
        "id": "4CBnNZFL8LKv",
        "outputId": "dd0b6622-7bf5-442d-c7c2-706a6ae27fe3"
      },
      "execution_count": 47,
      "outputs": [
        {
          "output_type": "stream",
          "name": "stdout",
          "text": [
            "Collecting z3-solver\n",
            "  Downloading z3_solver-4.8.17.0-py2.py3-none-manylinux1_x86_64.whl (54.5 MB)\n",
            "\u001b[K     |████████████████████████████████| 54.5 MB 1.3 MB/s \n",
            "\u001b[?25hInstalling collected packages: z3-solver\n",
            "Successfully installed z3-solver-4.8.17.0\n"
          ]
        }
      ]
    },
    {
      "cell_type": "code",
      "source": [
        "from z3 import *"
      ],
      "metadata": {
        "id": "6sU1CPuX9Jiz"
      },
      "execution_count": 48,
      "outputs": []
    },
    {
      "cell_type": "code",
      "source": [
        "cancer.feature_names"
      ],
      "metadata": {
        "colab": {
          "base_uri": "https://localhost:8080/"
        },
        "id": "b8soL0Ih8RUR",
        "outputId": "1022f054-f1bc-4862-a41b-ae5f138a68d7"
      },
      "execution_count": 49,
      "outputs": [
        {
          "output_type": "execute_result",
          "data": {
            "text/plain": [
              "array(['mean radius', 'mean texture', 'mean perimeter', 'mean area',\n",
              "       'mean smoothness', 'mean compactness', 'mean concavity',\n",
              "       'mean concave points', 'mean symmetry', 'mean fractal dimension',\n",
              "       'radius error', 'texture error', 'perimeter error', 'area error',\n",
              "       'smoothness error', 'compactness error', 'concavity error',\n",
              "       'concave points error', 'symmetry error',\n",
              "       'fractal dimension error', 'worst radius', 'worst texture',\n",
              "       'worst perimeter', 'worst area', 'worst smoothness',\n",
              "       'worst compactness', 'worst concavity', 'worst concave points',\n",
              "       'worst symmetry', 'worst fractal dimension'], dtype='<U23')"
            ]
          },
          "metadata": {},
          "execution_count": 49
        }
      ]
    },
    {
      "cell_type": "code",
      "source": [
        "# creating one z3 variable for each feature in the dataset\n",
        "dict_vars = {}\n",
        "for feature in cancer.feature_names:\n",
        "  dict_vars[feature] = Real(feature)"
      ],
      "metadata": {
        "id": "sQIigP4X8dEo"
      },
      "execution_count": 50,
      "outputs": []
    },
    {
      "cell_type": "code",
      "source": [
        "dict_vars"
      ],
      "metadata": {
        "id": "y_kB5GoX8vZR"
      },
      "execution_count": null,
      "outputs": []
    },
    {
      "cell_type": "code",
      "source": [
        "dict_vars['area error']"
      ],
      "metadata": {
        "colab": {
          "base_uri": "https://localhost:8080/",
          "height": 34
        },
        "id": "cDSyoSfz82xP",
        "outputId": "2d14e2bd-8fd8-44c3-a450-384026c3be7d"
      },
      "execution_count": 52,
      "outputs": [
        {
          "output_type": "execute_result",
          "data": {
            "text/plain": [
              "area error"
            ],
            "text/html": [
              "area error"
            ]
          },
          "metadata": {},
          "execution_count": 52
        }
      ]
    },
    {
      "cell_type": "code",
      "source": [
        "constraints = Solver()"
      ],
      "metadata": {
        "id": "XUhh8ue288S5"
      },
      "execution_count": 53,
      "outputs": []
    },
    {
      "cell_type": "code",
      "source": [
        "constraints.add(dict_vars['area error'] > 2)\n",
        "constraints.add(dict_vars['compactness error'] < 10)\n",
        "constraints.add(dict_vars['compactness error'] > 2)\n",
        "constraints.add(dict_vars['area error'] * dict_vars['compactness error'] == 27)"
      ],
      "metadata": {
        "id": "IW9W4Wfz9NpR"
      },
      "execution_count": 54,
      "outputs": []
    },
    {
      "cell_type": "code",
      "source": [
        "constraints.check()"
      ],
      "metadata": {
        "colab": {
          "base_uri": "https://localhost:8080/",
          "height": 34
        },
        "id": "Dmc-EKO_9THh",
        "outputId": "96592830-7b61-4af2-e78e-65820fc67fee"
      },
      "execution_count": 55,
      "outputs": [
        {
          "output_type": "execute_result",
          "data": {
            "text/plain": [
              "sat"
            ],
            "text/html": [
              "<b>sat</b>"
            ]
          },
          "metadata": {},
          "execution_count": 55
        }
      ]
    },
    {
      "cell_type": "code",
      "source": [
        "constraints.model()"
      ],
      "metadata": {
        "colab": {
          "base_uri": "https://localhost:8080/",
          "height": 34
        },
        "id": "cTxa46uA9Vq0",
        "outputId": "c1278706-6985-463c-b803-c7f54468e7e5"
      },
      "execution_count": 56,
      "outputs": [
        {
          "output_type": "execute_result",
          "data": {
            "text/plain": [
              "[compactness error = 3, area error = 9]"
            ],
            "text/html": [
              "[compactness error = 3, area error = 9]"
            ]
          },
          "metadata": {},
          "execution_count": 56
        }
      ]
    },
    {
      "cell_type": "markdown",
      "source": [
        "Implementing SVM function for Z3 Solver"
      ],
      "metadata": {
        "id": "YkcUd3eZ9wQx"
      }
    },
    {
      "cell_type": "code",
      "source": [
        "X_train.shape"
      ],
      "metadata": {
        "colab": {
          "base_uri": "https://localhost:8080/"
        },
        "id": "kI-7krBtJfw0",
        "outputId": "7eb72efc-d875-48fd-f52e-b600c490f26f"
      },
      "execution_count": 57,
      "outputs": [
        {
          "output_type": "execute_result",
          "data": {
            "text/plain": [
              "(398, 30)"
            ]
          },
          "metadata": {},
          "execution_count": 57
        }
      ]
    },
    {
      "cell_type": "code",
      "source": [
        "#SVM Decision Function answer for the first element of training set and the actual first element\n",
        "((clf.dual_coef_ @ clf.support_vectors_) @ X_train[0].reshape(1, len(X_train[0])).T + clf.intercept_), decfun[0]"
      ],
      "metadata": {
        "colab": {
          "base_uri": "https://localhost:8080/"
        },
        "id": "pw55j6ax92Dh",
        "outputId": "94431f91-fefa-4c27-9030-459825bcb871"
      },
      "execution_count": 58,
      "outputs": [
        {
          "output_type": "execute_result",
          "data": {
            "text/plain": [
              "(array([[3.55261264]]), 3.552612638406506)"
            ]
          },
          "metadata": {},
          "execution_count": 58
        }
      ]
    },
    {
      "cell_type": "code",
      "source": [
        "clf.dual_coef_.shape,clf.support_vectors_.shape,X_train[0].reshape(1, len(X_train[0])).T.shape, clf.intercept_"
      ],
      "metadata": {
        "colab": {
          "base_uri": "https://localhost:8080/"
        },
        "id": "e757esoXMVBI",
        "outputId": "5c62a37c-ef82-488f-e928-55a33e6361b1"
      },
      "execution_count": 60,
      "outputs": [
        {
          "output_type": "execute_result",
          "data": {
            "text/plain": [
              "((1, 43), (43, 30), (30, 1), array([14.52243574]))"
            ]
          },
          "metadata": {},
          "execution_count": 60
        }
      ]
    },
    {
      "cell_type": "code",
      "source": [
        "#SVM Decision Function answer for all elements of training set\n",
        "for i in range(0,X_train.shape[0]):\n",
        "  #print(i, ' : ',((clf.dual_coef_ @ clf.support_vectors_) @ X_train[i].reshape(1, len(X_train[0])).T + clf.intercept_))\n",
        "  pass"
      ],
      "metadata": {
        "id": "kr_KQes7JvGQ"
      },
      "execution_count": 59,
      "outputs": []
    },
    {
      "cell_type": "markdown",
      "source": [
        "To z3"
      ],
      "metadata": {
        "id": "aPEG_psPOvSa"
      }
    },
    {
      "cell_type": "code",
      "source": [
        "np.RealVal = np.vectorize(RealVal) # simple mapping of functions over a vector\n",
        "np.RealVector = np.vectorize(RealVector) "
      ],
      "metadata": {
        "id": "w-0pfke3PD9v"
      },
      "execution_count": 118,
      "outputs": []
    },
    {
      "cell_type": "code",
      "source": [
        "test_real = Real('X_train')"
      ],
      "metadata": {
        "id": "8LYiFbjfLc-5"
      },
      "execution_count": 119,
      "outputs": []
    },
    {
      "cell_type": "code",
      "source": [
        "test_real"
      ],
      "metadata": {
        "colab": {
          "base_uri": "https://localhost:8080/",
          "height": 34
        },
        "id": "T3vPemeXLvGr",
        "outputId": "3464a335-825f-4823-e589-f9104efe2351"
      },
      "execution_count": 120,
      "outputs": [
        {
          "output_type": "execute_result",
          "data": {
            "text/plain": [
              "X_train"
            ],
            "text/html": [
              "X_train"
            ]
          },
          "metadata": {},
          "execution_count": 120
        }
      ]
    },
    {
      "cell_type": "code",
      "source": [
        "z3_dual_coef = np.RealVal(clf.dual_coef_)\n",
        "z3_support_vectors = np.RealVal(clf.support_vectors_)\n",
        "z3_X_Train = np.RealVal(X_train)\n",
        "#z3_X_Train = np.z3Real(X_train[0])\n",
        "z3_intercept_ = np.RealVal(clf.intercept_)"
      ],
      "metadata": {
        "id": "kSWV7jA7Ox39"
      },
      "execution_count": 121,
      "outputs": []
    },
    {
      "cell_type": "code",
      "source": [
        "#O Z3 possui um problema de arredondamento (Floating Point) e não consegue chegar ao valor exato da função de decisão, mas até a oitava casa.\n",
        "first_element = ((clf.dual_coef_ @ clf.support_vectors_) @ X_train[0].reshape(1, len(X_train[0])).T + clf.intercept_)[0][0]\n",
        "prove(((z3_dual_coef @ z3_support_vectors) @ z3_X_Train[0].reshape(1, len(z3_X_Train[0])).T + z3_intercept_)[0][0] > 3.552612640)\n",
        "prove(((z3_dual_coef @ z3_support_vectors) @ z3_X_Train[0].reshape(1, len(z3_X_Train[0])).T + z3_intercept_)[0][0] > 3.5526126409)\n",
        "prove(((z3_dual_coef @ z3_support_vectors) @ z3_X_Train[0].reshape(1, len(z3_X_Train[0])).T + z3_intercept_)[0][0] <= first_element)\n",
        "prove(((z3_dual_coef @ z3_support_vectors) @ z3_X_Train[0].reshape(1, len(z3_X_Train[0])).T + z3_intercept_)[0][0] == first_element)\n",
        "first_element"
      ],
      "metadata": {
        "colab": {
          "base_uri": "https://localhost:8080/"
        },
        "id": "YpkekSSpQWAC",
        "outputId": "3c97becd-ec13-482a-f24e-cb55507ecadc"
      },
      "execution_count": 122,
      "outputs": [
        {
          "output_type": "stream",
          "name": "stdout",
          "text": [
            "proved\n",
            "counterexample\n",
            "[]\n",
            "proved\n",
            "counterexample\n",
            "[]\n"
          ]
        },
        {
          "output_type": "execute_result",
          "data": {
            "text/plain": [
              "3.552612640902959"
            ]
          },
          "metadata": {},
          "execution_count": 122
        }
      ]
    },
    {
      "cell_type": "code",
      "source": [
        "expression = simplify (((z3_dual_coef @ z3_support_vectors) @ z3_X_Train[0].reshape(1, len(z3_X_Train[0])).T + z3_intercept_)[0][0])\n",
        "expression"
      ],
      "metadata": {
        "colab": {
          "base_uri": "https://localhost:8080/",
          "height": 34
        },
        "id": "H8vJ3ozex4Cg",
        "outputId": "9dedaff0-9798-4534-ed05-f7d0dec604ae"
      },
      "execution_count": 123,
      "outputs": [
        {
          "output_type": "execute_result",
          "data": {
            "text/plain": [
              "1776306320225397058985796096969/500000000000000000000000000000"
            ],
            "text/html": [
              "1776306320225397058985796096969/500000000000000000000000000000"
            ]
          },
          "metadata": {},
          "execution_count": 123
        }
      ]
    },
    {
      "cell_type": "code",
      "source": [
        "expression.numerator_as_long()/expression.denominator_as_long()"
      ],
      "metadata": {
        "colab": {
          "base_uri": "https://localhost:8080/"
        },
        "id": "9TjiAM5LyY17",
        "outputId": "49fc8692-764f-4035-8d17-e3ed3f0e026e"
      },
      "execution_count": 124,
      "outputs": [
        {
          "output_type": "execute_result",
          "data": {
            "text/plain": [
              "3.552612640450794"
            ]
          },
          "metadata": {},
          "execution_count": 124
        }
      ]
    },
    {
      "cell_type": "code",
      "source": [
        "get_decimal = float(\"{0:.9f}\".format(expression.numerator_as_long()/expression.denominator_as_long()))\n",
        "get_decimal"
      ],
      "metadata": {
        "colab": {
          "base_uri": "https://localhost:8080/"
        },
        "id": "IEkuO1Pj3v9K",
        "outputId": "280da177-73e7-4b63-daab-8de9e6ba2d18"
      },
      "execution_count": 125,
      "outputs": [
        {
          "output_type": "execute_result",
          "data": {
            "text/plain": [
              "3.55261264"
            ]
          },
          "metadata": {},
          "execution_count": 125
        }
      ]
    },
    {
      "cell_type": "code",
      "source": [
        "clf.intercept_[0],z3_intercept_[0],3630608935567563/250000000000000"
      ],
      "metadata": {
        "colab": {
          "base_uri": "https://localhost:8080/"
        },
        "id": "Q27bAdm4UBOm",
        "outputId": "9887b33c-29df-42fa-82aa-7c903e6c9189"
      },
      "execution_count": 126,
      "outputs": [
        {
          "output_type": "execute_result",
          "data": {
            "text/plain": [
              "(14.522435742270252, 3630608935567563/250000000000000, 14.522435742270252)"
            ]
          },
          "metadata": {},
          "execution_count": 126
        }
      ]
    },
    {
      "cell_type": "code",
      "source": [
        "rejected_indexes = np.where((decfun < dict_reject['T1'][0]) & (decfun >= dict_reject['T2'][0]))\n",
        "decfun[rejected_indexes[0]]"
      ],
      "metadata": {
        "colab": {
          "base_uri": "https://localhost:8080/"
        },
        "id": "awRiR9KqtL45",
        "outputId": "2b670414-ee19-410c-edcd-676ebed9ded9"
      },
      "execution_count": 127,
      "outputs": [
        {
          "output_type": "execute_result",
          "data": {
            "text/plain": [
              "array([-0.01174956, -0.46210051, -0.0729748 , -0.33347919, -0.24845183,\n",
              "       -0.25014049, -0.43657875, -0.21034102,  0.07450255, -0.23466209])"
            ]
          },
          "metadata": {},
          "execution_count": 127
        }
      ]
    },
    {
      "cell_type": "code",
      "source": [
        "for index in rejected_indexes[0]:\n",
        "  expression = simplify (((z3_dual_coef @ z3_support_vectors) @ z3_X_Train[index].reshape(1, len(z3_X_Train[index])).T + z3_intercept_)[0][0])\n",
        "  expression = expression.numerator_as_long()/expression.denominator_as_long()\n",
        "  \n",
        "  print(expression, decfun[index], abs(abs(expression) - abs(decfun[index])))\n",
        "  #expression = round(expression,6)\n",
        "  #decfun_value = round(decfun[index],6)\n",
        "  #print(expression, decfun_value, abs(abs(expression) - abs(decfun_value)))"
      ],
      "metadata": {
        "id": "0vbVWt0gtpeH"
      },
      "execution_count": null,
      "outputs": []
    },
    {
      "cell_type": "markdown",
      "source": [
        "Implemeting Solver's Restrictions"
      ],
      "metadata": {
        "id": "w7mS-eFz9tAO"
      }
    },
    {
      "cell_type": "code",
      "source": [
        "solver = Solver()"
      ],
      "metadata": {
        "id": "Rj4IAdRkHh9Y"
      },
      "execution_count": 129,
      "outputs": []
    },
    {
      "cell_type": "code",
      "source": [
        "z3_X_Train[rejected_indexes[0][0]]"
      ],
      "metadata": {
        "colab": {
          "base_uri": "https://localhost:8080/"
        },
        "id": "-8ZQnUVw-OS4",
        "outputId": "e6ce45f6-5c44-470d-9f95-78db1cfad003"
      },
      "execution_count": 130,
      "outputs": [
        {
          "output_type": "execute_result",
          "data": {
            "text/plain": [
              "array([1499/100, 126/5, 4777/50, 3494/5, 9387/100000, 5131/100000,\n",
              "       1199/50000, 2899/100000, 313/2000, 172/3125, 607/500, 547/250,\n",
              "       8077/1000, 106, 6883/1000000, 547/50000, 909/50000, 1917/100000,\n",
              "       3941/500000, 877/500000, 1499/100, 126/5, 4777/50, 3494/5,\n",
              "       9387/100000, 5131/100000, 1199/50000, 2899/100000, 313/2000,\n",
              "       172/3125], dtype=object)"
            ]
          },
          "metadata": {},
          "execution_count": 130
        }
      ]
    },
    {
      "cell_type": "markdown",
      "source": [
        "Hora do Show"
      ],
      "metadata": {
        "id": "XvhIKaB3fSBv"
      }
    },
    {
      "cell_type": "code",
      "source": [
        "first_element = ((clf.dual_coef_ @ clf.support_vectors_) @ X_train[0].reshape(1, len(X_train[0])).T + clf.intercept_)[0][0]\n",
        "first_element"
      ],
      "metadata": {
        "colab": {
          "base_uri": "https://localhost:8080/"
        },
        "id": "jFfU3aDQjir_",
        "outputId": "b56c0599-a2ca-4b77-d116-42e6c7c5e7a8"
      },
      "execution_count": 278,
      "outputs": [
        {
          "output_type": "execute_result",
          "data": {
            "text/plain": [
              "3.552612640902959"
            ]
          },
          "metadata": {},
          "execution_count": 278
        }
      ]
    },
    {
      "cell_type": "code",
      "source": [
        "np.RealVal = np.vectorize(RealVal) \n",
        "np.RealVector = np.vectorize(RealVector) "
      ],
      "metadata": {
        "id": "8iDd2odTfUb-"
      },
      "execution_count": 279,
      "outputs": []
    },
    {
      "cell_type": "code",
      "source": [
        "z3_dual_coef = np.RealVal(clf.dual_coef_)\n",
        "z3_support_vectors = np.RealVal(clf.support_vectors_)\n",
        "z3_X_Train = np.RealVal(X_train)\n",
        "z3_intercept_ = np.RealVal(clf.intercept_)"
      ],
      "metadata": {
        "id": "8knRyfgnmO2Q"
      },
      "execution_count": 280,
      "outputs": []
    },
    {
      "cell_type": "code",
      "source": [
        "prove(((z3_dual_coef @ z3_support_vectors) @ z3_X_Train[0].reshape(1, len(z3_X_Train[0])).T + z3_intercept_)[0][0] <= first_element)"
      ],
      "metadata": {
        "colab": {
          "base_uri": "https://localhost:8080/"
        },
        "id": "raJaeXQ7krsY",
        "outputId": "5350594a-ab3c-49c1-e2b1-6867822201e8"
      },
      "execution_count": 281,
      "outputs": [
        {
          "output_type": "stream",
          "name": "stdout",
          "text": [
            "proved\n"
          ]
        }
      ]
    },
    {
      "cell_type": "code",
      "source": [
        "X_train[0].shape"
      ],
      "metadata": {
        "colab": {
          "base_uri": "https://localhost:8080/"
        },
        "id": "b_SmLcI7ucyX",
        "outputId": "900e0efd-31eb-44c1-f0b0-7110ce02d2e4"
      },
      "execution_count": 311,
      "outputs": [
        {
          "output_type": "execute_result",
          "data": {
            "text/plain": [
              "(30,)"
            ]
          },
          "metadata": {},
          "execution_count": 311
        }
      ]
    },
    {
      "cell_type": "code",
      "source": [
        "#X_train_t = X_train[0].reshape(1, len(X_train[0])).T"
      ],
      "metadata": {
        "id": "a1RzFZFKgTbM"
      },
      "execution_count": 282,
      "outputs": []
    },
    {
      "cell_type": "code",
      "source": [
        "((clf.dual_coef_ @ clf.support_vectors_) @ X_train[0].reshape(1, len(X_train[0])).T + clf.intercept_)[0][0], first_element"
      ],
      "metadata": {
        "colab": {
          "base_uri": "https://localhost:8080/"
        },
        "id": "K0J-Bwdif7Sg",
        "outputId": "506ede03-3abf-493f-c8d1-9c405bf23ea3"
      },
      "execution_count": 313,
      "outputs": [
        {
          "output_type": "execute_result",
          "data": {
            "text/plain": [
              "(3.552612640902959, 3.552612640902959)"
            ]
          },
          "metadata": {},
          "execution_count": 313
        }
      ]
    },
    {
      "cell_type": "code",
      "source": [
        "X_train_2 = X_train[0]\n",
        "X_train_2[0] = 2"
      ],
      "metadata": {
        "id": "fTmHvNauyCGM"
      },
      "execution_count": 369,
      "outputs": []
    },
    {
      "cell_type": "code",
      "source": [
        "expressao = simplify (((z3_dual_coef @ z3_support_vectors) @ X_train_2.reshape(1, len(X_train_2)).T + z3_intercept_)[0][0])"
      ],
      "metadata": {
        "id": "qhQBgqhTyO_S"
      },
      "execution_count": 370,
      "outputs": []
    },
    {
      "cell_type": "code",
      "source": [
        "expressao.numerator_as_long()/expressao.denominator_as_long()"
      ],
      "metadata": {
        "colab": {
          "base_uri": "https://localhost:8080/"
        },
        "id": "yv5-xd8Vyhoz",
        "outputId": "32e9496e-252c-4e95-fb70-8d9635f0961f"
      },
      "execution_count": 371,
      "outputs": [
        {
          "output_type": "execute_result",
          "data": {
            "text/plain": [
              "-2.936028237851599"
            ]
          },
          "metadata": {},
          "execution_count": 371
        }
      ]
    },
    {
      "cell_type": "code",
      "source": [
        "prove(((z3_dual_coef @ z3_support_vectors) @ X_train[0].reshape(1, len(X_train[0])).T + z3_intercept_)[0][0] <= first_element)"
      ],
      "metadata": {
        "colab": {
          "base_uri": "https://localhost:8080/"
        },
        "id": "TFdwm35AjtVu",
        "outputId": "a3845b86-5170-4901-d555-04e4a95cf3a6"
      },
      "execution_count": 314,
      "outputs": [
        {
          "output_type": "stream",
          "name": "stdout",
          "text": [
            "proved\n"
          ]
        }
      ]
    },
    {
      "cell_type": "code",
      "source": [
        "for i in range (0, len(X_train[0])):\n",
        "  print('solver.add(z3_X_Train[',i,'] = X_train[0][',i,']')"
      ],
      "metadata": {
        "id": "9QKto5OQhCsE"
      },
      "execution_count": null,
      "outputs": []
    },
    {
      "cell_type": "code",
      "source": [
        "z3_X_Train = np.RealVector('x',X_train.shape[1])\n",
        "z3_X_Train,z3_X_Train[0]"
      ],
      "metadata": {
        "colab": {
          "base_uri": "https://localhost:8080/"
        },
        "id": "lFcyKpTafZjH",
        "outputId": "1a50dbdd-b190-46cf-8487-0d0c3b789f8c"
      },
      "execution_count": 286,
      "outputs": [
        {
          "output_type": "execute_result",
          "data": {
            "text/plain": [
              "(array([x__0, x__1, x__2, x__3, x__4, x__5, x__6, x__7, x__8, x__9, x__10,\n",
              "        x__11, x__12, x__13, x__14, x__15, x__16, x__17, x__18, x__19,\n",
              "        x__20, x__21, x__22, x__23, x__24, x__25, x__26, x__27, x__28,\n",
              "        x__29], dtype=object), x__0)"
            ]
          },
          "metadata": {},
          "execution_count": 286
        }
      ]
    },
    {
      "cell_type": "code",
      "source": [
        "z3_X_Train[:3] @ z3_X_Train[:3]"
      ],
      "metadata": {
        "colab": {
          "base_uri": "https://localhost:8080/",
          "height": 36
        },
        "id": "C0CGyFIio14_",
        "outputId": "c8966d7e-2943-4107-ddbd-c973f4451d97"
      },
      "execution_count": 288,
      "outputs": [
        {
          "output_type": "execute_result",
          "data": {
            "text/plain": [
              "x__0*x__0 + x__1*x__1 + x__2*x__2"
            ],
            "text/html": [
              "x<sub>0</sub>&middot;x<sub>0</sub> + x<sub>1</sub>&middot;x<sub>1</sub> + x<sub>2</sub>&middot;x<sub>2</sub>"
            ]
          },
          "metadata": {},
          "execution_count": 288
        }
      ]
    },
    {
      "cell_type": "code",
      "source": [
        "X_train[0][1]"
      ],
      "metadata": {
        "colab": {
          "base_uri": "https://localhost:8080/"
        },
        "id": "DzpbjYhnvW2N",
        "outputId": "a09e209a-0bbc-452b-bfe2-a4edc4bd85d3"
      },
      "execution_count": 325,
      "outputs": [
        {
          "output_type": "execute_result",
          "data": {
            "text/plain": [
              "14.59"
            ]
          },
          "metadata": {},
          "execution_count": 325
        }
      ]
    },
    {
      "cell_type": "code",
      "source": [
        "solver = Solver()\n",
        "solver.add(z3_X_Train[0] == X_train[0][ 0 ])\n",
        "solver.add(z3_X_Train[:1] @ z3_X_Train[:1] > 130)\n",
        "solver.check()\n",
        "solver.model()"
      ],
      "metadata": {
        "colab": {
          "base_uri": "https://localhost:8080/",
          "height": 36
        },
        "id": "VajcdJi0iUNF",
        "outputId": "ec9b037c-5070-433a-ac27-69e3b8636997"
      },
      "execution_count": 328,
      "outputs": [
        {
          "output_type": "execute_result",
          "data": {
            "text/plain": [
              "[x__0 = 1149/100]"
            ],
            "text/html": [
              "[x<sub>0</sub> = 1149/100]"
            ]
          },
          "metadata": {},
          "execution_count": 328
        }
      ]
    },
    {
      "cell_type": "code",
      "source": [
        "solver = Solver()\n",
        "\n",
        "solver.add(z3_X_Train[0] > -5)\n",
        "solver.add(z3_X_Train[0] < 0)\n",
        "solver.add(z3_X_Train[1] == X_train[0][1])\n",
        "solver.add(z3_X_Train[2] == X_train[0][2])\n",
        "solver.add(z3_X_Train[3] == X_train[0][3])\n",
        "solver.add(z3_X_Train[4] == X_train[0][4])\n",
        "solver.add(z3_X_Train[5] == X_train[0][5])\n",
        "solver.add(z3_X_Train[6] == X_train[0][6])\n",
        "solver.add(z3_X_Train[7] == X_train[0][7])\n",
        "solver.add(z3_X_Train[8] == X_train[0][8])\n",
        "solver.add(z3_X_Train[9] == X_train[0][9])\n",
        "solver.add(z3_X_Train[10] == X_train[0][10])\n",
        "solver.add(z3_X_Train[11] == X_train[0][11])\n",
        "solver.add(z3_X_Train[12] == X_train[0][12])\n",
        "solver.add(z3_X_Train[13] == X_train[0][13])\n",
        "solver.add(z3_X_Train[14] == X_train[0][14])\n",
        "solver.add(z3_X_Train[15] == X_train[0][15])\n",
        "solver.add(z3_X_Train[16] == X_train[0][16])\n",
        "solver.add(z3_X_Train[17] == X_train[0][17])\n",
        "solver.add(z3_X_Train[18] == X_train[0][18])\n",
        "solver.add(z3_X_Train[19] == X_train[0][19])\n",
        "solver.add(z3_X_Train[20] == X_train[0][20])\n",
        "solver.add(z3_X_Train[21] == X_train[0][21])\n",
        "solver.add(z3_X_Train[22] == X_train[0][22])\n",
        "solver.add(z3_X_Train[23] == X_train[0][23])\n",
        "solver.add(z3_X_Train[24] == X_train[0][24])\n",
        "solver.add(z3_X_Train[25] == X_train[0][25])\n",
        "solver.add(z3_X_Train[26] == X_train[0][26])\n",
        "solver.add(z3_X_Train[27] == X_train[0][27])\n",
        "solver.add(z3_X_Train[28] == X_train[0][28])\n",
        "solver.add(z3_X_Train[29] == X_train[0][29])"
      ],
      "metadata": {
        "id": "QL7qMZxTgvR7"
      },
      "execution_count": 379,
      "outputs": []
    },
    {
      "cell_type": "code",
      "source": [
        "first_element"
      ],
      "metadata": {
        "colab": {
          "base_uri": "https://localhost:8080/"
        },
        "id": "xqS1WroYxh-m",
        "outputId": "1df8fecb-9601-4dc4-bf04-23bcb34279de"
      },
      "execution_count": 347,
      "outputs": [
        {
          "output_type": "execute_result",
          "data": {
            "text/plain": [
              "3.552612640902959"
            ]
          },
          "metadata": {},
          "execution_count": 347
        }
      ]
    },
    {
      "cell_type": "code",
      "source": [
        "solver.add(((z3_dual_coef @ z3_support_vectors) @ z3_X_Train.reshape(1, len(z3_X_Train)).T + z3_intercept_)[0][0] < 0)"
      ],
      "metadata": {
        "id": "gbObmBi5l-AZ"
      },
      "execution_count": 380,
      "outputs": []
    },
    {
      "cell_type": "code",
      "source": [
        "solver.check(), solver.model()"
      ],
      "metadata": {
        "colab": {
          "base_uri": "https://localhost:8080/"
        },
        "id": "EKljttutqNdO",
        "outputId": "7513c90c-fd2e-4909-b189-f73bc35fc32f"
      },
      "execution_count": 381,
      "outputs": [
        {
          "output_type": "execute_result",
          "data": {
            "text/plain": [
              "(sat, [x__16 = 1039/25000,\n",
              "  x__4 = 523/5000,\n",
              "  x__20 = 62/5,\n",
              "  x__21 = 219/10,\n",
              "  x__15 = 1057/50000,\n",
              "  x__6 = 1327/25000,\n",
              "  x__23 = 2338/5,\n",
              "  x__2 = 7399/100,\n",
              "  x__19 = 1807/500000,\n",
              "  x__13 = 717/50,\n",
              "  x__14 = 4957/1000000,\n",
              "  x__10 = 1017/5000,\n",
              "  x__1 = 1459/100,\n",
              "  x__9 = 3287/50000,\n",
              "  x__24 = 169/1250,\n",
              "  x__11 = 583/500,\n",
              "  x__8 = 1779/10000,\n",
              "  x__5 = 2057/25000,\n",
              "  x__22 = 2051/25,\n",
              "  x__0 = -1,\n",
              "  x__26 = 649/2500,\n",
              "  x__27 = 7431/100000,\n",
              "  x__25 = 201/1000,\n",
              "  x__3 = 4049/10,\n",
              "  x__12 = 1567/1000,\n",
              "  x__28 = 2941/10000,\n",
              "  x__7 = 1969/100000,\n",
              "  x__18 = 1843/100000,\n",
              "  x__29 = 459/5000,\n",
              "  x__17 = 4019/500000])"
            ]
          },
          "metadata": {},
          "execution_count": 381
        }
      ]
    },
    {
      "cell_type": "code",
      "source": [
        "solver.check(), solver.model()"
      ],
      "metadata": {
        "colab": {
          "base_uri": "https://localhost:8080/"
        },
        "id": "bTQNper0qgDT",
        "outputId": "27cfeaf1-32ea-4d74-fc4b-9fc260fcf60d"
      },
      "execution_count": 346,
      "outputs": [
        {
          "output_type": "execute_result",
          "data": {
            "text/plain": [
              "(sat, [x__16 = 1039/25000,\n",
              "  x__4 = 523/5000,\n",
              "  x__20 = 62/5,\n",
              "  x__21 = 219/10,\n",
              "  x__15 = 1057/50000,\n",
              "  x__6 = 1327/25000,\n",
              "  x__23 = 2338/5,\n",
              "  x__2 = 7399/100,\n",
              "  x__19 = 1807/500000,\n",
              "  x__13 = 717/50,\n",
              "  x__14 = 4957/1000000,\n",
              "  x__10 = 1017/5000,\n",
              "  x__1 = 1459/100,\n",
              "  x__9 = 3287/50000,\n",
              "  x__24 = 169/1250,\n",
              "  x__11 = 583/500,\n",
              "  x__8 = 1779/10000,\n",
              "  x__5 = 2057/25000,\n",
              "  x__22 = 2051/25,\n",
              "  x__0 = -1,\n",
              "  x__26 = 649/2500,\n",
              "  x__27 = 7431/100000,\n",
              "  x__25 = 201/1000,\n",
              "  x__3 = 4049/10,\n",
              "  x__12 = 1567/1000,\n",
              "  x__28 = 2941/10000,\n",
              "  x__7 = 1969/100000,\n",
              "  x__18 = 1843/100000,\n",
              "  x__29 = 459/5000,\n",
              "  x__17 = 4019/500000])"
            ]
          },
          "metadata": {},
          "execution_count": 346
        }
      ]
    }
  ]
}