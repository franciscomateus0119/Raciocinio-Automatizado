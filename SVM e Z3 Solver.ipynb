{
  "nbformat": 4,
  "nbformat_minor": 0,
  "metadata": {
    "colab": {
      "name": "Cópia de SVM e Z3 Solver.ipynb",
      "provenance": []
    },
    "kernelspec": {
      "name": "python3",
      "display_name": "Python 3"
    },
    "language_info": {
      "name": "python"
    }
  },
  "cells": [
    {
      "cell_type": "code",
      "execution_count": 3,
      "metadata": {
        "id": "A1i4HEgVhKCN"
      },
      "outputs": [],
      "source": [
        "from sklearn import datasets\n",
        "cancer = datasets.load_breast_cancer()"
      ]
    },
    {
      "cell_type": "code",
      "source": [
        "import numpy as np"
      ],
      "metadata": {
        "id": "mZU8YDf6At-j"
      },
      "execution_count": 4,
      "outputs": []
    },
    {
      "cell_type": "code",
      "source": [
        "import pandas as pd"
      ],
      "metadata": {
        "id": "UEUOzYLdw5ai"
      },
      "execution_count": 5,
      "outputs": []
    },
    {
      "cell_type": "code",
      "source": [
        "cancer.data.shape"
      ],
      "metadata": {
        "colab": {
          "base_uri": "https://localhost:8080/"
        },
        "id": "Jrs5MGkWinko",
        "outputId": "edc21871-4534-4f3f-ca98-e7dcd047fb6b"
      },
      "execution_count": 6,
      "outputs": [
        {
          "output_type": "execute_result",
          "data": {
            "text/plain": [
              "(569, 30)"
            ]
          },
          "metadata": {},
          "execution_count": 6
        }
      ]
    },
    {
      "cell_type": "code",
      "source": [
        "type(cancer)"
      ],
      "metadata": {
        "colab": {
          "base_uri": "https://localhost:8080/"
        },
        "id": "zjhDunAd3pUI",
        "outputId": "76423432-8eb0-4412-8982-56c194f83913"
      },
      "execution_count": 7,
      "outputs": [
        {
          "output_type": "execute_result",
          "data": {
            "text/plain": [
              "sklearn.utils.Bunch"
            ]
          },
          "metadata": {},
          "execution_count": 7
        }
      ]
    },
    {
      "cell_type": "code",
      "source": [
        "df = pd.DataFrame(cancer.data, columns = cancer.feature_names)\n",
        "df"
      ],
      "metadata": {
        "colab": {
          "base_uri": "https://localhost:8080/",
          "height": 523
        },
        "id": "XeFOu9Y-wxgW",
        "outputId": "4ec09681-abf6-47f7-e946-dd04b4683a45"
      },
      "execution_count": 8,
      "outputs": [
        {
          "output_type": "execute_result",
          "data": {
            "text/plain": [
              "     mean radius  mean texture  mean perimeter  mean area  mean smoothness  \\\n",
              "0          17.99         10.38          122.80     1001.0          0.11840   \n",
              "1          20.57         17.77          132.90     1326.0          0.08474   \n",
              "2          19.69         21.25          130.00     1203.0          0.10960   \n",
              "3          11.42         20.38           77.58      386.1          0.14250   \n",
              "4          20.29         14.34          135.10     1297.0          0.10030   \n",
              "..           ...           ...             ...        ...              ...   \n",
              "564        21.56         22.39          142.00     1479.0          0.11100   \n",
              "565        20.13         28.25          131.20     1261.0          0.09780   \n",
              "566        16.60         28.08          108.30      858.1          0.08455   \n",
              "567        20.60         29.33          140.10     1265.0          0.11780   \n",
              "568         7.76         24.54           47.92      181.0          0.05263   \n",
              "\n",
              "     mean compactness  mean concavity  mean concave points  mean symmetry  \\\n",
              "0             0.27760         0.30010              0.14710         0.2419   \n",
              "1             0.07864         0.08690              0.07017         0.1812   \n",
              "2             0.15990         0.19740              0.12790         0.2069   \n",
              "3             0.28390         0.24140              0.10520         0.2597   \n",
              "4             0.13280         0.19800              0.10430         0.1809   \n",
              "..                ...             ...                  ...            ...   \n",
              "564           0.11590         0.24390              0.13890         0.1726   \n",
              "565           0.10340         0.14400              0.09791         0.1752   \n",
              "566           0.10230         0.09251              0.05302         0.1590   \n",
              "567           0.27700         0.35140              0.15200         0.2397   \n",
              "568           0.04362         0.00000              0.00000         0.1587   \n",
              "\n",
              "     mean fractal dimension  ...  worst radius  worst texture  \\\n",
              "0                   0.07871  ...        25.380          17.33   \n",
              "1                   0.05667  ...        24.990          23.41   \n",
              "2                   0.05999  ...        23.570          25.53   \n",
              "3                   0.09744  ...        14.910          26.50   \n",
              "4                   0.05883  ...        22.540          16.67   \n",
              "..                      ...  ...           ...            ...   \n",
              "564                 0.05623  ...        25.450          26.40   \n",
              "565                 0.05533  ...        23.690          38.25   \n",
              "566                 0.05648  ...        18.980          34.12   \n",
              "567                 0.07016  ...        25.740          39.42   \n",
              "568                 0.05884  ...         9.456          30.37   \n",
              "\n",
              "     worst perimeter  worst area  worst smoothness  worst compactness  \\\n",
              "0             184.60      2019.0           0.16220            0.66560   \n",
              "1             158.80      1956.0           0.12380            0.18660   \n",
              "2             152.50      1709.0           0.14440            0.42450   \n",
              "3              98.87       567.7           0.20980            0.86630   \n",
              "4             152.20      1575.0           0.13740            0.20500   \n",
              "..               ...         ...               ...                ...   \n",
              "564           166.10      2027.0           0.14100            0.21130   \n",
              "565           155.00      1731.0           0.11660            0.19220   \n",
              "566           126.70      1124.0           0.11390            0.30940   \n",
              "567           184.60      1821.0           0.16500            0.86810   \n",
              "568            59.16       268.6           0.08996            0.06444   \n",
              "\n",
              "     worst concavity  worst concave points  worst symmetry  \\\n",
              "0             0.7119                0.2654          0.4601   \n",
              "1             0.2416                0.1860          0.2750   \n",
              "2             0.4504                0.2430          0.3613   \n",
              "3             0.6869                0.2575          0.6638   \n",
              "4             0.4000                0.1625          0.2364   \n",
              "..               ...                   ...             ...   \n",
              "564           0.4107                0.2216          0.2060   \n",
              "565           0.3215                0.1628          0.2572   \n",
              "566           0.3403                0.1418          0.2218   \n",
              "567           0.9387                0.2650          0.4087   \n",
              "568           0.0000                0.0000          0.2871   \n",
              "\n",
              "     worst fractal dimension  \n",
              "0                    0.11890  \n",
              "1                    0.08902  \n",
              "2                    0.08758  \n",
              "3                    0.17300  \n",
              "4                    0.07678  \n",
              "..                       ...  \n",
              "564                  0.07115  \n",
              "565                  0.06637  \n",
              "566                  0.07820  \n",
              "567                  0.12400  \n",
              "568                  0.07039  \n",
              "\n",
              "[569 rows x 30 columns]"
            ],
            "text/html": [
              "\n",
              "  <div id=\"df-158f18fd-1dc9-429e-828b-92979a0331a5\">\n",
              "    <div class=\"colab-df-container\">\n",
              "      <div>\n",
              "<style scoped>\n",
              "    .dataframe tbody tr th:only-of-type {\n",
              "        vertical-align: middle;\n",
              "    }\n",
              "\n",
              "    .dataframe tbody tr th {\n",
              "        vertical-align: top;\n",
              "    }\n",
              "\n",
              "    .dataframe thead th {\n",
              "        text-align: right;\n",
              "    }\n",
              "</style>\n",
              "<table border=\"1\" class=\"dataframe\">\n",
              "  <thead>\n",
              "    <tr style=\"text-align: right;\">\n",
              "      <th></th>\n",
              "      <th>mean radius</th>\n",
              "      <th>mean texture</th>\n",
              "      <th>mean perimeter</th>\n",
              "      <th>mean area</th>\n",
              "      <th>mean smoothness</th>\n",
              "      <th>mean compactness</th>\n",
              "      <th>mean concavity</th>\n",
              "      <th>mean concave points</th>\n",
              "      <th>mean symmetry</th>\n",
              "      <th>mean fractal dimension</th>\n",
              "      <th>...</th>\n",
              "      <th>worst radius</th>\n",
              "      <th>worst texture</th>\n",
              "      <th>worst perimeter</th>\n",
              "      <th>worst area</th>\n",
              "      <th>worst smoothness</th>\n",
              "      <th>worst compactness</th>\n",
              "      <th>worst concavity</th>\n",
              "      <th>worst concave points</th>\n",
              "      <th>worst symmetry</th>\n",
              "      <th>worst fractal dimension</th>\n",
              "    </tr>\n",
              "  </thead>\n",
              "  <tbody>\n",
              "    <tr>\n",
              "      <th>0</th>\n",
              "      <td>17.99</td>\n",
              "      <td>10.38</td>\n",
              "      <td>122.80</td>\n",
              "      <td>1001.0</td>\n",
              "      <td>0.11840</td>\n",
              "      <td>0.27760</td>\n",
              "      <td>0.30010</td>\n",
              "      <td>0.14710</td>\n",
              "      <td>0.2419</td>\n",
              "      <td>0.07871</td>\n",
              "      <td>...</td>\n",
              "      <td>25.380</td>\n",
              "      <td>17.33</td>\n",
              "      <td>184.60</td>\n",
              "      <td>2019.0</td>\n",
              "      <td>0.16220</td>\n",
              "      <td>0.66560</td>\n",
              "      <td>0.7119</td>\n",
              "      <td>0.2654</td>\n",
              "      <td>0.4601</td>\n",
              "      <td>0.11890</td>\n",
              "    </tr>\n",
              "    <tr>\n",
              "      <th>1</th>\n",
              "      <td>20.57</td>\n",
              "      <td>17.77</td>\n",
              "      <td>132.90</td>\n",
              "      <td>1326.0</td>\n",
              "      <td>0.08474</td>\n",
              "      <td>0.07864</td>\n",
              "      <td>0.08690</td>\n",
              "      <td>0.07017</td>\n",
              "      <td>0.1812</td>\n",
              "      <td>0.05667</td>\n",
              "      <td>...</td>\n",
              "      <td>24.990</td>\n",
              "      <td>23.41</td>\n",
              "      <td>158.80</td>\n",
              "      <td>1956.0</td>\n",
              "      <td>0.12380</td>\n",
              "      <td>0.18660</td>\n",
              "      <td>0.2416</td>\n",
              "      <td>0.1860</td>\n",
              "      <td>0.2750</td>\n",
              "      <td>0.08902</td>\n",
              "    </tr>\n",
              "    <tr>\n",
              "      <th>2</th>\n",
              "      <td>19.69</td>\n",
              "      <td>21.25</td>\n",
              "      <td>130.00</td>\n",
              "      <td>1203.0</td>\n",
              "      <td>0.10960</td>\n",
              "      <td>0.15990</td>\n",
              "      <td>0.19740</td>\n",
              "      <td>0.12790</td>\n",
              "      <td>0.2069</td>\n",
              "      <td>0.05999</td>\n",
              "      <td>...</td>\n",
              "      <td>23.570</td>\n",
              "      <td>25.53</td>\n",
              "      <td>152.50</td>\n",
              "      <td>1709.0</td>\n",
              "      <td>0.14440</td>\n",
              "      <td>0.42450</td>\n",
              "      <td>0.4504</td>\n",
              "      <td>0.2430</td>\n",
              "      <td>0.3613</td>\n",
              "      <td>0.08758</td>\n",
              "    </tr>\n",
              "    <tr>\n",
              "      <th>3</th>\n",
              "      <td>11.42</td>\n",
              "      <td>20.38</td>\n",
              "      <td>77.58</td>\n",
              "      <td>386.1</td>\n",
              "      <td>0.14250</td>\n",
              "      <td>0.28390</td>\n",
              "      <td>0.24140</td>\n",
              "      <td>0.10520</td>\n",
              "      <td>0.2597</td>\n",
              "      <td>0.09744</td>\n",
              "      <td>...</td>\n",
              "      <td>14.910</td>\n",
              "      <td>26.50</td>\n",
              "      <td>98.87</td>\n",
              "      <td>567.7</td>\n",
              "      <td>0.20980</td>\n",
              "      <td>0.86630</td>\n",
              "      <td>0.6869</td>\n",
              "      <td>0.2575</td>\n",
              "      <td>0.6638</td>\n",
              "      <td>0.17300</td>\n",
              "    </tr>\n",
              "    <tr>\n",
              "      <th>4</th>\n",
              "      <td>20.29</td>\n",
              "      <td>14.34</td>\n",
              "      <td>135.10</td>\n",
              "      <td>1297.0</td>\n",
              "      <td>0.10030</td>\n",
              "      <td>0.13280</td>\n",
              "      <td>0.19800</td>\n",
              "      <td>0.10430</td>\n",
              "      <td>0.1809</td>\n",
              "      <td>0.05883</td>\n",
              "      <td>...</td>\n",
              "      <td>22.540</td>\n",
              "      <td>16.67</td>\n",
              "      <td>152.20</td>\n",
              "      <td>1575.0</td>\n",
              "      <td>0.13740</td>\n",
              "      <td>0.20500</td>\n",
              "      <td>0.4000</td>\n",
              "      <td>0.1625</td>\n",
              "      <td>0.2364</td>\n",
              "      <td>0.07678</td>\n",
              "    </tr>\n",
              "    <tr>\n",
              "      <th>...</th>\n",
              "      <td>...</td>\n",
              "      <td>...</td>\n",
              "      <td>...</td>\n",
              "      <td>...</td>\n",
              "      <td>...</td>\n",
              "      <td>...</td>\n",
              "      <td>...</td>\n",
              "      <td>...</td>\n",
              "      <td>...</td>\n",
              "      <td>...</td>\n",
              "      <td>...</td>\n",
              "      <td>...</td>\n",
              "      <td>...</td>\n",
              "      <td>...</td>\n",
              "      <td>...</td>\n",
              "      <td>...</td>\n",
              "      <td>...</td>\n",
              "      <td>...</td>\n",
              "      <td>...</td>\n",
              "      <td>...</td>\n",
              "      <td>...</td>\n",
              "    </tr>\n",
              "    <tr>\n",
              "      <th>564</th>\n",
              "      <td>21.56</td>\n",
              "      <td>22.39</td>\n",
              "      <td>142.00</td>\n",
              "      <td>1479.0</td>\n",
              "      <td>0.11100</td>\n",
              "      <td>0.11590</td>\n",
              "      <td>0.24390</td>\n",
              "      <td>0.13890</td>\n",
              "      <td>0.1726</td>\n",
              "      <td>0.05623</td>\n",
              "      <td>...</td>\n",
              "      <td>25.450</td>\n",
              "      <td>26.40</td>\n",
              "      <td>166.10</td>\n",
              "      <td>2027.0</td>\n",
              "      <td>0.14100</td>\n",
              "      <td>0.21130</td>\n",
              "      <td>0.4107</td>\n",
              "      <td>0.2216</td>\n",
              "      <td>0.2060</td>\n",
              "      <td>0.07115</td>\n",
              "    </tr>\n",
              "    <tr>\n",
              "      <th>565</th>\n",
              "      <td>20.13</td>\n",
              "      <td>28.25</td>\n",
              "      <td>131.20</td>\n",
              "      <td>1261.0</td>\n",
              "      <td>0.09780</td>\n",
              "      <td>0.10340</td>\n",
              "      <td>0.14400</td>\n",
              "      <td>0.09791</td>\n",
              "      <td>0.1752</td>\n",
              "      <td>0.05533</td>\n",
              "      <td>...</td>\n",
              "      <td>23.690</td>\n",
              "      <td>38.25</td>\n",
              "      <td>155.00</td>\n",
              "      <td>1731.0</td>\n",
              "      <td>0.11660</td>\n",
              "      <td>0.19220</td>\n",
              "      <td>0.3215</td>\n",
              "      <td>0.1628</td>\n",
              "      <td>0.2572</td>\n",
              "      <td>0.06637</td>\n",
              "    </tr>\n",
              "    <tr>\n",
              "      <th>566</th>\n",
              "      <td>16.60</td>\n",
              "      <td>28.08</td>\n",
              "      <td>108.30</td>\n",
              "      <td>858.1</td>\n",
              "      <td>0.08455</td>\n",
              "      <td>0.10230</td>\n",
              "      <td>0.09251</td>\n",
              "      <td>0.05302</td>\n",
              "      <td>0.1590</td>\n",
              "      <td>0.05648</td>\n",
              "      <td>...</td>\n",
              "      <td>18.980</td>\n",
              "      <td>34.12</td>\n",
              "      <td>126.70</td>\n",
              "      <td>1124.0</td>\n",
              "      <td>0.11390</td>\n",
              "      <td>0.30940</td>\n",
              "      <td>0.3403</td>\n",
              "      <td>0.1418</td>\n",
              "      <td>0.2218</td>\n",
              "      <td>0.07820</td>\n",
              "    </tr>\n",
              "    <tr>\n",
              "      <th>567</th>\n",
              "      <td>20.60</td>\n",
              "      <td>29.33</td>\n",
              "      <td>140.10</td>\n",
              "      <td>1265.0</td>\n",
              "      <td>0.11780</td>\n",
              "      <td>0.27700</td>\n",
              "      <td>0.35140</td>\n",
              "      <td>0.15200</td>\n",
              "      <td>0.2397</td>\n",
              "      <td>0.07016</td>\n",
              "      <td>...</td>\n",
              "      <td>25.740</td>\n",
              "      <td>39.42</td>\n",
              "      <td>184.60</td>\n",
              "      <td>1821.0</td>\n",
              "      <td>0.16500</td>\n",
              "      <td>0.86810</td>\n",
              "      <td>0.9387</td>\n",
              "      <td>0.2650</td>\n",
              "      <td>0.4087</td>\n",
              "      <td>0.12400</td>\n",
              "    </tr>\n",
              "    <tr>\n",
              "      <th>568</th>\n",
              "      <td>7.76</td>\n",
              "      <td>24.54</td>\n",
              "      <td>47.92</td>\n",
              "      <td>181.0</td>\n",
              "      <td>0.05263</td>\n",
              "      <td>0.04362</td>\n",
              "      <td>0.00000</td>\n",
              "      <td>0.00000</td>\n",
              "      <td>0.1587</td>\n",
              "      <td>0.05884</td>\n",
              "      <td>...</td>\n",
              "      <td>9.456</td>\n",
              "      <td>30.37</td>\n",
              "      <td>59.16</td>\n",
              "      <td>268.6</td>\n",
              "      <td>0.08996</td>\n",
              "      <td>0.06444</td>\n",
              "      <td>0.0000</td>\n",
              "      <td>0.0000</td>\n",
              "      <td>0.2871</td>\n",
              "      <td>0.07039</td>\n",
              "    </tr>\n",
              "  </tbody>\n",
              "</table>\n",
              "<p>569 rows × 30 columns</p>\n",
              "</div>\n",
              "      <button class=\"colab-df-convert\" onclick=\"convertToInteractive('df-158f18fd-1dc9-429e-828b-92979a0331a5')\"\n",
              "              title=\"Convert this dataframe to an interactive table.\"\n",
              "              style=\"display:none;\">\n",
              "        \n",
              "  <svg xmlns=\"http://www.w3.org/2000/svg\" height=\"24px\"viewBox=\"0 0 24 24\"\n",
              "       width=\"24px\">\n",
              "    <path d=\"M0 0h24v24H0V0z\" fill=\"none\"/>\n",
              "    <path d=\"M18.56 5.44l.94 2.06.94-2.06 2.06-.94-2.06-.94-.94-2.06-.94 2.06-2.06.94zm-11 1L8.5 8.5l.94-2.06 2.06-.94-2.06-.94L8.5 2.5l-.94 2.06-2.06.94zm10 10l.94 2.06.94-2.06 2.06-.94-2.06-.94-.94-2.06-.94 2.06-2.06.94z\"/><path d=\"M17.41 7.96l-1.37-1.37c-.4-.4-.92-.59-1.43-.59-.52 0-1.04.2-1.43.59L10.3 9.45l-7.72 7.72c-.78.78-.78 2.05 0 2.83L4 21.41c.39.39.9.59 1.41.59.51 0 1.02-.2 1.41-.59l7.78-7.78 2.81-2.81c.8-.78.8-2.07 0-2.86zM5.41 20L4 18.59l7.72-7.72 1.47 1.35L5.41 20z\"/>\n",
              "  </svg>\n",
              "      </button>\n",
              "      \n",
              "  <style>\n",
              "    .colab-df-container {\n",
              "      display:flex;\n",
              "      flex-wrap:wrap;\n",
              "      gap: 12px;\n",
              "    }\n",
              "\n",
              "    .colab-df-convert {\n",
              "      background-color: #E8F0FE;\n",
              "      border: none;\n",
              "      border-radius: 50%;\n",
              "      cursor: pointer;\n",
              "      display: none;\n",
              "      fill: #1967D2;\n",
              "      height: 32px;\n",
              "      padding: 0 0 0 0;\n",
              "      width: 32px;\n",
              "    }\n",
              "\n",
              "    .colab-df-convert:hover {\n",
              "      background-color: #E2EBFA;\n",
              "      box-shadow: 0px 1px 2px rgba(60, 64, 67, 0.3), 0px 1px 3px 1px rgba(60, 64, 67, 0.15);\n",
              "      fill: #174EA6;\n",
              "    }\n",
              "\n",
              "    [theme=dark] .colab-df-convert {\n",
              "      background-color: #3B4455;\n",
              "      fill: #D2E3FC;\n",
              "    }\n",
              "\n",
              "    [theme=dark] .colab-df-convert:hover {\n",
              "      background-color: #434B5C;\n",
              "      box-shadow: 0px 1px 3px 1px rgba(0, 0, 0, 0.15);\n",
              "      filter: drop-shadow(0px 1px 2px rgba(0, 0, 0, 0.3));\n",
              "      fill: #FFFFFF;\n",
              "    }\n",
              "  </style>\n",
              "\n",
              "      <script>\n",
              "        const buttonEl =\n",
              "          document.querySelector('#df-158f18fd-1dc9-429e-828b-92979a0331a5 button.colab-df-convert');\n",
              "        buttonEl.style.display =\n",
              "          google.colab.kernel.accessAllowed ? 'block' : 'none';\n",
              "\n",
              "        async function convertToInteractive(key) {\n",
              "          const element = document.querySelector('#df-158f18fd-1dc9-429e-828b-92979a0331a5');\n",
              "          const dataTable =\n",
              "            await google.colab.kernel.invokeFunction('convertToInteractive',\n",
              "                                                     [key], {});\n",
              "          if (!dataTable) return;\n",
              "\n",
              "          const docLinkHtml = 'Like what you see? Visit the ' +\n",
              "            '<a target=\"_blank\" href=https://colab.research.google.com/notebooks/data_table.ipynb>data table notebook</a>'\n",
              "            + ' to learn more about interactive tables.';\n",
              "          element.innerHTML = '';\n",
              "          dataTable['output_type'] = 'display_data';\n",
              "          await google.colab.output.renderOutput(dataTable, element);\n",
              "          const docLink = document.createElement('div');\n",
              "          docLink.innerHTML = docLinkHtml;\n",
              "          element.appendChild(docLink);\n",
              "        }\n",
              "      </script>\n",
              "    </div>\n",
              "  </div>\n",
              "  "
            ]
          },
          "metadata": {},
          "execution_count": 8
        }
      ]
    },
    {
      "cell_type": "code",
      "source": [
        "from sklearn.model_selection import train_test_split"
      ],
      "metadata": {
        "id": "zQHdPlZfh0MS"
      },
      "execution_count": 9,
      "outputs": []
    },
    {
      "cell_type": "code",
      "source": [
        "normalized_df=(cancer.data-cancer.data.min())/(cancer.data.max()-cancer.data.min())"
      ],
      "metadata": {
        "id": "q5plsclR7tUW"
      },
      "execution_count": 10,
      "outputs": []
    },
    {
      "cell_type": "code",
      "source": [
        "#normalized_df=(cancer.data-cancer.data.mean())/cancer.data.std()"
      ],
      "metadata": {
        "id": "dZTSUdKN9bTk"
      },
      "execution_count": 11,
      "outputs": []
    },
    {
      "cell_type": "code",
      "source": [
        "normalized_df.min(),normalized_df.max()"
      ],
      "metadata": {
        "colab": {
          "base_uri": "https://localhost:8080/"
        },
        "id": "BMHNARKC8KJR",
        "outputId": "cf47d18e-9c78-4137-a7aa-335639d07e87"
      },
      "execution_count": 12,
      "outputs": [
        {
          "output_type": "execute_result",
          "data": {
            "text/plain": [
              "(0.0, 1.0)"
            ]
          },
          "metadata": {},
          "execution_count": 12
        }
      ]
    },
    {
      "cell_type": "code",
      "source": [
        "normalized_df[0]"
      ],
      "metadata": {
        "colab": {
          "base_uri": "https://localhost:8080/"
        },
        "id": "5z_SlHsO9Kgw",
        "outputId": "635073b9-2e8c-43de-9e77-4767dabf6f22"
      },
      "execution_count": 13,
      "outputs": [
        {
          "output_type": "execute_result",
          "data": {
            "text/plain": [
              "array([4.22896098e-03, 2.44005642e-03, 2.88669488e-02, 2.35307945e-01,\n",
              "       2.78326281e-05, 6.52562294e-05, 7.05453691e-05, 3.45792196e-05,\n",
              "       5.68641279e-05, 1.85025858e-05, 2.57404795e-04, 2.12811472e-04,\n",
              "       2.01904090e-03, 3.60601787e-02, 1.50423131e-06, 1.15279737e-05,\n",
              "       1.26304654e-05, 3.73060649e-06, 7.05923836e-06, 1.45580630e-06,\n",
              "       5.96614951e-03, 4.07381288e-03, 4.33944523e-02, 4.74612130e-01,\n",
              "       3.81288199e-05, 1.56464504e-04, 1.67348378e-04, 6.23883404e-05,\n",
              "       1.08157029e-04, 2.79501646e-05])"
            ]
          },
          "metadata": {},
          "execution_count": 13
        }
      ]
    },
    {
      "cell_type": "code",
      "source": [
        "X_train, X_test, y_train, y_test = train_test_split(normalized_df, cancer.target, test_size=0.3,random_state=107) # 70% training and 30% test"
      ],
      "metadata": {
        "id": "qI2dGmVBh4Sq"
      },
      "execution_count": 14,
      "outputs": []
    },
    {
      "cell_type": "code",
      "source": [
        "flatten = np.ravel(X_train)\n",
        "flatten[np.argmin(X_train)],flatten[np.argmax(X_train)]"
      ],
      "metadata": {
        "colab": {
          "base_uri": "https://localhost:8080/"
        },
        "id": "rbKpJYQr86Ar",
        "outputId": "9a1bf190-e2dd-4b0a-f0dd-32ef1d2b9e07"
      },
      "execution_count": 15,
      "outputs": [
        {
          "output_type": "execute_result",
          "data": {
            "text/plain": [
              "(0.0, 1.0)"
            ]
          },
          "metadata": {},
          "execution_count": 15
        }
      ]
    },
    {
      "cell_type": "code",
      "source": [
        "# The variance is computed for the flattened array by default, otherwise over the specified axis.\n",
        "X_train.var()"
      ],
      "metadata": {
        "colab": {
          "base_uri": "https://localhost:8080/"
        },
        "id": "zJ_unTs62IXV",
        "outputId": "f6ff06ad-f73b-4334-da41-ccef3f2f3928"
      },
      "execution_count": 16,
      "outputs": [
        {
          "output_type": "execute_result",
          "data": {
            "text/plain": [
              "0.0028316344975423866"
            ]
          },
          "metadata": {},
          "execution_count": 16
        }
      ]
    },
    {
      "cell_type": "code",
      "source": [
        "from sklearn import svm\n",
        "\n",
        "clf = svm.SVC(kernel='linear') # Linear Kernel\n",
        "\n",
        "#Train the model using the training sets\n",
        "clf.fit(X_train, y_train)\n",
        "\n",
        "#Predict the response for test dataset\n",
        "y_pred = clf.predict(X_test)"
      ],
      "metadata": {
        "id": "dx90Sjfwh9cz"
      },
      "execution_count": 17,
      "outputs": []
    },
    {
      "cell_type": "code",
      "source": [
        "from sklearn import metrics\n",
        "\n",
        "print(\"Accuracy:\", metrics.accuracy_score(y_test, y_pred))"
      ],
      "metadata": {
        "colab": {
          "base_uri": "https://localhost:8080/"
        },
        "id": "fVlp9ZP3iMtT",
        "outputId": "bcf52c09-1429-43c4-803e-21e603a652a8"
      },
      "execution_count": 18,
      "outputs": [
        {
          "output_type": "stream",
          "name": "stdout",
          "text": [
            "Accuracy: 0.9064327485380117\n"
          ]
        }
      ]
    },
    {
      "cell_type": "code",
      "source": [
        "y_pred_train = clf.predict(X_train)\n",
        "print(\"Accuracy on Training:\", metrics.accuracy_score(y_train, y_pred_train))"
      ],
      "metadata": {
        "colab": {
          "base_uri": "https://localhost:8080/"
        },
        "id": "kjIMKtJWiPAl",
        "outputId": "ae2186b6-22e3-44ac-dc18-cfba76e2b289"
      },
      "execution_count": 19,
      "outputs": [
        {
          "output_type": "stream",
          "name": "stdout",
          "text": [
            "Accuracy on Training: 0.8592964824120602\n"
          ]
        }
      ]
    },
    {
      "cell_type": "code",
      "source": [
        "# support vectors\n",
        "clf.support_vectors_"
      ],
      "metadata": {
        "colab": {
          "base_uri": "https://localhost:8080/"
        },
        "id": "vsSlysmoikp5",
        "outputId": "5e496c9b-ae89-4e84-f141-5a87adef2031"
      },
      "execution_count": 20,
      "outputs": [
        {
          "output_type": "execute_result",
          "data": {
            "text/plain": [
              "array([[4.42172073e-03, 4.69675599e-03, 2.84203103e-02, ...,\n",
              "        3.04184297e-05, 6.03432064e-05, 1.34861307e-05],\n",
              "       [3.49553362e-03, 3.91866479e-03, 2.31875882e-02, ...,\n",
              "        4.76492713e-05, 8.42736248e-05, 2.50352609e-05],\n",
              "       [3.24870710e-03, 5.75693465e-03, 2.17042783e-02, ...,\n",
              "        3.57545839e-05, 8.58251058e-05, 2.78091208e-05],\n",
              "       ...,\n",
              "       [3.09355900e-03, 4.82839680e-03, 1.97602257e-02, ...,\n",
              "        9.86130701e-06, 6.31640809e-05, 1.74635637e-05],\n",
              "       [3.05124589e-03, 4.54866008e-03, 1.98683592e-02, ...,\n",
              "        2.31734838e-05, 8.45322050e-05, 2.15467795e-05],\n",
              "       [2.96661965e-03, 4.03149976e-03, 1.89515750e-02, ...,\n",
              "        2.31570287e-05, 7.68688293e-05, 1.72308416e-05]])"
            ]
          },
          "metadata": {},
          "execution_count": 20
        }
      ]
    },
    {
      "cell_type": "code",
      "source": [
        "clf.support_vectors_.shape"
      ],
      "metadata": {
        "colab": {
          "base_uri": "https://localhost:8080/"
        },
        "id": "f5CJEwEV5HuZ",
        "outputId": "a50f0ed0-b862-4795-f23e-5c4aef9028bf"
      },
      "execution_count": 21,
      "outputs": [
        {
          "output_type": "execute_result",
          "data": {
            "text/plain": [
              "(194, 30)"
            ]
          },
          "metadata": {},
          "execution_count": 21
        }
      ]
    },
    {
      "cell_type": "code",
      "source": [
        "#number of support vector for each class\n",
        "clf.n_support_"
      ],
      "metadata": {
        "colab": {
          "base_uri": "https://localhost:8080/"
        },
        "id": "Ta5FV4q0iyDg",
        "outputId": "4ebe72df-a4ee-4c69-f795-b861d2d23e3b"
      },
      "execution_count": 22,
      "outputs": [
        {
          "output_type": "execute_result",
          "data": {
            "text/plain": [
              "array([97, 97], dtype=int32)"
            ]
          },
          "metadata": {},
          "execution_count": 22
        }
      ]
    },
    {
      "cell_type": "code",
      "source": [
        "#indexes of suppport vectors\n",
        "clf.support_"
      ],
      "metadata": {
        "colab": {
          "base_uri": "https://localhost:8080/"
        },
        "id": "vCOhlbMyjBkl",
        "outputId": "9f24dc36-18d4-401a-b3cc-ddde93e6cb6c"
      },
      "execution_count": 23,
      "outputs": [
        {
          "output_type": "execute_result",
          "data": {
            "text/plain": [
              "array([  5,   6,   7,   8,  13,  22,  33,  35,  41,  46,  52,  66,  72,\n",
              "        73,  74,  76,  77,  78,  80,  87,  88,  91,  92,  97, 101, 103,\n",
              "       104, 114, 115, 119, 120, 124, 126, 134, 138, 145, 150, 161, 168,\n",
              "       170, 171, 175, 179, 181, 189, 192, 193, 194, 196, 203, 210, 211,\n",
              "       212, 215, 218, 220, 222, 223, 224, 227, 230, 231, 241, 242, 250,\n",
              "       253, 257, 259, 267, 273, 276, 281, 284, 294, 297, 300, 304, 305,\n",
              "       306, 310, 318, 324, 328, 329, 331, 344, 351, 354, 358, 362, 364,\n",
              "       366, 370, 373, 375, 376, 397,   0,   1,  10,  18,  26,  29,  36,\n",
              "        40,  53,  58,  60,  61,  65,  71,  75,  85,  86,  90,  95,  98,\n",
              "       100, 107, 108, 112, 113, 117, 121, 125, 128, 129, 148, 149, 153,\n",
              "       154, 155, 160, 165, 167, 173, 174, 182, 186, 188, 191, 197, 198,\n",
              "       204, 205, 208, 214, 217, 226, 229, 238, 239, 246, 247, 248, 256,\n",
              "       258, 261, 265, 269, 271, 277, 278, 288, 295, 298, 299, 302, 308,\n",
              "       312, 314, 325, 326, 330, 333, 339, 345, 346, 348, 357, 361, 363,\n",
              "       369, 372, 379, 381, 382, 384, 385, 386, 389, 391, 393, 394],\n",
              "      dtype=int32)"
            ]
          },
          "metadata": {},
          "execution_count": 23
        }
      ]
    },
    {
      "cell_type": "code",
      "source": [
        "len(clf.support_)"
      ],
      "metadata": {
        "colab": {
          "base_uri": "https://localhost:8080/"
        },
        "id": "IsP6bLPsjEQM",
        "outputId": "6118bc6c-a6e7-4064-a9cc-b14401380ea5"
      },
      "execution_count": 24,
      "outputs": [
        {
          "output_type": "execute_result",
          "data": {
            "text/plain": [
              "194"
            ]
          },
          "metadata": {},
          "execution_count": 24
        }
      ]
    },
    {
      "cell_type": "code",
      "source": [
        "# coefficients of the features\n",
        "clf.coef_"
      ],
      "metadata": {
        "colab": {
          "base_uri": "https://localhost:8080/"
        },
        "id": "AtB2oAjDj2jV",
        "outputId": "687b05b0-58b9-410e-d9f3-0d79a9ca5f23"
      },
      "execution_count": 25,
      "outputs": [
        {
          "output_type": "execute_result",
          "data": {
            "text/plain": [
              "array([[-3.36194498e-02, -7.12492310e-02, -2.62250049e-01,\n",
              "        -3.35248646e+00, -3.16442768e-04, -1.22382194e-03,\n",
              "        -1.97834564e-03, -9.19435116e-04, -5.28471142e-04,\n",
              "        -1.05929001e-04, -4.01896996e-03, -4.49535935e-03,\n",
              "        -2.75864558e-02, -4.80810747e-01, -3.69845591e-05,\n",
              "        -2.67739372e-04, -3.84986094e-04, -1.06745932e-04,\n",
              "        -6.44612981e-05, -2.75101104e-05, -6.40047353e-02,\n",
              "        -1.27993227e-01, -4.67008094e-01, -6.90329106e+00,\n",
              "        -6.68592157e-04, -3.89303982e-03, -5.50220553e-03,\n",
              "        -1.69958950e-03, -1.42292862e-03, -4.25199026e-04]])"
            ]
          },
          "metadata": {},
          "execution_count": 25
        }
      ]
    },
    {
      "cell_type": "code",
      "source": [
        "len(clf.coef_[0])"
      ],
      "metadata": {
        "colab": {
          "base_uri": "https://localhost:8080/"
        },
        "id": "8pfY_gy7vLlG",
        "outputId": "4073ea9b-1e22-404e-82f0-dbb18f48dfdd"
      },
      "execution_count": 26,
      "outputs": [
        {
          "output_type": "execute_result",
          "data": {
            "text/plain": [
              "30"
            ]
          },
          "metadata": {},
          "execution_count": 26
        }
      ]
    },
    {
      "cell_type": "code",
      "source": [
        "# coefficients of the support vectors\n",
        "clf.dual_coef_"
      ],
      "metadata": {
        "colab": {
          "base_uri": "https://localhost:8080/"
        },
        "id": "7SmP0efRvFRJ",
        "outputId": "76c1bf77-0118-4d82-b48b-a42baaef2b45"
      },
      "execution_count": 27,
      "outputs": [
        {
          "output_type": "execute_result",
          "data": {
            "text/plain": [
              "array([[-1.        , -1.        , -1.        , -1.        , -1.        ,\n",
              "        -1.        , -1.        , -1.        , -1.        , -1.        ,\n",
              "        -1.        , -1.        , -1.        , -1.        , -1.        ,\n",
              "        -1.        , -1.        , -1.        , -1.        , -1.        ,\n",
              "        -1.        , -1.        , -1.        , -1.        , -1.        ,\n",
              "        -1.        , -1.        , -1.        , -1.        , -1.        ,\n",
              "        -1.        , -1.        , -1.        , -1.        , -1.        ,\n",
              "        -1.        , -1.        , -1.        , -1.        , -1.        ,\n",
              "        -1.        , -1.        , -1.        , -1.        , -1.        ,\n",
              "        -1.        , -1.        , -1.        , -1.        , -1.        ,\n",
              "        -1.        , -1.        , -1.        , -1.        , -1.        ,\n",
              "        -1.        , -1.        , -1.        , -1.        , -1.        ,\n",
              "        -0.30594502, -1.        , -1.        , -1.        , -1.        ,\n",
              "        -1.        , -1.        , -1.        , -1.        , -1.        ,\n",
              "        -1.        , -1.        , -1.        , -1.        , -1.        ,\n",
              "        -1.        , -1.        , -1.        , -1.        , -1.        ,\n",
              "        -1.        , -1.        , -1.        , -1.        , -1.        ,\n",
              "        -1.        , -1.        , -1.        , -1.        , -1.        ,\n",
              "        -1.        , -1.        , -1.        , -1.        , -1.        ,\n",
              "        -1.        , -1.        ,  1.        ,  1.        ,  1.        ,\n",
              "         1.        ,  1.        ,  1.        ,  1.        ,  1.        ,\n",
              "         1.        ,  1.        ,  1.        ,  1.        ,  1.        ,\n",
              "         1.        ,  1.        ,  1.        ,  1.        ,  1.        ,\n",
              "         1.        ,  1.        ,  1.        ,  1.        ,  1.        ,\n",
              "         1.        ,  1.        ,  1.        ,  1.        ,  1.        ,\n",
              "         1.        ,  1.        ,  1.        ,  1.        ,  1.        ,\n",
              "         1.        ,  1.        ,  1.        ,  1.        ,  1.        ,\n",
              "         1.        ,  1.        ,  1.        ,  1.        ,  1.        ,\n",
              "         1.        ,  1.        ,  1.        ,  1.        ,  1.        ,\n",
              "         1.        ,  1.        ,  1.        ,  1.        ,  1.        ,\n",
              "         1.        ,  1.        ,  1.        ,  1.        ,  0.30594502,\n",
              "         1.        ,  1.        ,  1.        ,  1.        ,  1.        ,\n",
              "         1.        ,  1.        ,  1.        ,  1.        ,  1.        ,\n",
              "         1.        ,  1.        ,  1.        ,  1.        ,  1.        ,\n",
              "         1.        ,  1.        ,  1.        ,  1.        ,  1.        ,\n",
              "         1.        ,  1.        ,  1.        ,  1.        ,  1.        ,\n",
              "         1.        ,  1.        ,  1.        ,  1.        ,  1.        ,\n",
              "         1.        ,  1.        ,  1.        ,  1.        ,  1.        ,\n",
              "         1.        ,  1.        ,  1.        ,  1.        ]])"
            ]
          },
          "metadata": {},
          "execution_count": 27
        }
      ]
    },
    {
      "cell_type": "code",
      "source": [
        "clf.dual_coef_.shape"
      ],
      "metadata": {
        "colab": {
          "base_uri": "https://localhost:8080/"
        },
        "id": "wNttdYCg8WYB",
        "outputId": "c426e61a-4ab6-4d05-88b7-f1cf0137216c"
      },
      "execution_count": 28,
      "outputs": [
        {
          "output_type": "execute_result",
          "data": {
            "text/plain": [
              "(1, 194)"
            ]
          },
          "metadata": {},
          "execution_count": 28
        }
      ]
    },
    {
      "cell_type": "code",
      "source": [
        "len(clf.dual_coef_[0])"
      ],
      "metadata": {
        "colab": {
          "base_uri": "https://localhost:8080/"
        },
        "id": "VVg2XuV1vRYl",
        "outputId": "9aedc570-9c3e-412a-c9c0-8d009912a3e4"
      },
      "execution_count": 29,
      "outputs": [
        {
          "output_type": "execute_result",
          "data": {
            "text/plain": [
              "194"
            ]
          },
          "metadata": {},
          "execution_count": 29
        }
      ]
    },
    {
      "cell_type": "code",
      "source": [
        "clf.predict([X_train[1]])"
      ],
      "metadata": {
        "colab": {
          "base_uri": "https://localhost:8080/"
        },
        "id": "oPknQ2M75V7G",
        "outputId": "ffa6b1a8-daec-4922-bd6d-baa3fa8ad2fc"
      },
      "execution_count": 30,
      "outputs": [
        {
          "output_type": "execute_result",
          "data": {
            "text/plain": [
              "array([1])"
            ]
          },
          "metadata": {},
          "execution_count": 30
        }
      ]
    },
    {
      "cell_type": "code",
      "source": [
        "clf.intercept_"
      ],
      "metadata": {
        "colab": {
          "base_uri": "https://localhost:8080/"
        },
        "id": "khi7TLNx5ini",
        "outputId": "ad93819b-5903-47ec-eb38-8b1e22704517"
      },
      "execution_count": 31,
      "outputs": [
        {
          "output_type": "execute_result",
          "data": {
            "text/plain": [
              "array([2.37655531])"
            ]
          },
          "metadata": {},
          "execution_count": 31
        }
      ]
    },
    {
      "cell_type": "code",
      "source": [
        "clf.decision_function([X_train[0]])"
      ],
      "metadata": {
        "colab": {
          "base_uri": "https://localhost:8080/"
        },
        "id": "YQr0xoib7ymP",
        "outputId": "5369a82a-16c6-46d7-bbe3-eb89bf1721b4"
      },
      "execution_count": 32,
      "outputs": [
        {
          "output_type": "execute_result",
          "data": {
            "text/plain": [
              "array([0.4860783])"
            ]
          },
          "metadata": {},
          "execution_count": 32
        }
      ]
    },
    {
      "cell_type": "code",
      "source": [
        "clf.dual_coef_ @ clf.support_vectors_"
      ],
      "metadata": {
        "colab": {
          "base_uri": "https://localhost:8080/"
        },
        "id": "qY202g7L_1GG",
        "outputId": "1938dfd8-52b3-436c-f8a2-f589a5233065"
      },
      "execution_count": 33,
      "outputs": [
        {
          "output_type": "execute_result",
          "data": {
            "text/plain": [
              "array([[-3.36194498e-02, -7.12492310e-02, -2.62250049e-01,\n",
              "        -3.35248646e+00, -3.16442768e-04, -1.22382194e-03,\n",
              "        -1.97834564e-03, -9.19435116e-04, -5.28471142e-04,\n",
              "        -1.05929001e-04, -4.01896996e-03, -4.49535935e-03,\n",
              "        -2.75864558e-02, -4.80810747e-01, -3.69845591e-05,\n",
              "        -2.67739372e-04, -3.84986094e-04, -1.06745932e-04,\n",
              "        -6.44612981e-05, -2.75101104e-05, -6.40047353e-02,\n",
              "        -1.27993227e-01, -4.67008094e-01, -6.90329106e+00,\n",
              "        -6.68592157e-04, -3.89303982e-03, -5.50220553e-03,\n",
              "        -1.69958950e-03, -1.42292862e-03, -4.25199026e-04]])"
            ]
          },
          "metadata": {},
          "execution_count": 33
        }
      ]
    },
    {
      "cell_type": "code",
      "source": [
        "(clf.dual_coef_ @ clf.support_vectors_).shape"
      ],
      "metadata": {
        "colab": {
          "base_uri": "https://localhost:8080/"
        },
        "id": "NWS3bVl35uPj",
        "outputId": "f2422780-da65-49d6-d7e1-506956467feb"
      },
      "execution_count": 34,
      "outputs": [
        {
          "output_type": "execute_result",
          "data": {
            "text/plain": [
              "(1, 30)"
            ]
          },
          "metadata": {},
          "execution_count": 34
        }
      ]
    },
    {
      "cell_type": "code",
      "source": [
        "X_train[0].reshape(1, len(X_train[0])).T"
      ],
      "metadata": {
        "colab": {
          "base_uri": "https://localhost:8080/"
        },
        "id": "ZSVZejtr_3yF",
        "outputId": "51cb65d9-1651-4a97-debf-8419d759015e"
      },
      "execution_count": 35,
      "outputs": [
        {
          "output_type": "execute_result",
          "data": {
            "text/plain": [
              "array([[3.46497414e-03],\n",
              "       [5.97555242e-03],\n",
              "       [2.22614010e-02],\n",
              "       [1.57169723e-01],\n",
              "       [1.94522802e-05],\n",
              "       [1.69581570e-05],\n",
              "       [9.64974142e-06],\n",
              "       [7.11565585e-06],\n",
              "       [4.32534086e-05],\n",
              "       [1.33521392e-05],\n",
              "       [7.12505877e-05],\n",
              "       [3.25575929e-04],\n",
              "       [5.11753644e-04],\n",
              "       [6.44334744e-03],\n",
              "       [1.12247297e-06],\n",
              "       [2.75505407e-06],\n",
              "       [4.57686883e-06],\n",
              "       [2.98307475e-06],\n",
              "       [4.39586272e-06],\n",
              "       [6.17301363e-07],\n",
              "       [3.88105313e-03],\n",
              "       [7.59050306e-03],\n",
              "       [2.52468265e-02],\n",
              "       [1.94264222e-01],\n",
              "       [2.49177245e-05],\n",
              "       [3.23460273e-05],\n",
              "       [3.78702398e-05],\n",
              "       [2.57404795e-05],\n",
              "       [6.39868359e-05],\n",
              "       [1.63516690e-05]])"
            ]
          },
          "metadata": {},
          "execution_count": 35
        }
      ]
    },
    {
      "cell_type": "code",
      "source": [
        "X_train[0].reshape(1, len(X_train[0])).T.shape"
      ],
      "metadata": {
        "colab": {
          "base_uri": "https://localhost:8080/"
        },
        "id": "KPvUHZy1BRP-",
        "outputId": "6fd7a439-c917-4425-f4a4-171c50bc9e99"
      },
      "execution_count": 36,
      "outputs": [
        {
          "output_type": "execute_result",
          "data": {
            "text/plain": [
              "(30, 1)"
            ]
          },
          "metadata": {},
          "execution_count": 36
        }
      ]
    },
    {
      "cell_type": "code",
      "source": [
        "(clf.dual_coef_ @ clf.support_vectors_) @ X_train[0].reshape(1, len(X_train[0])).T"
      ],
      "metadata": {
        "colab": {
          "base_uri": "https://localhost:8080/"
        },
        "id": "ekDXid8SBHj2",
        "outputId": "c27966c5-3885-47a1-8781-0e2a6263cd23"
      },
      "execution_count": 37,
      "outputs": [
        {
          "output_type": "execute_result",
          "data": {
            "text/plain": [
              "array([[-1.89047701]])"
            ]
          },
          "metadata": {},
          "execution_count": 37
        }
      ]
    },
    {
      "cell_type": "code",
      "source": [
        "((clf.dual_coef_ @ clf.support_vectors_) @ X_train[1].reshape(1, len(X_train[1])).T + clf.intercept_)[0][0]"
      ],
      "metadata": {
        "colab": {
          "base_uri": "https://localhost:8080/"
        },
        "id": "igzG9IldBYWR",
        "outputId": "561d426d-be6e-4192-d280-fa68c994bcaf"
      },
      "execution_count": 38,
      "outputs": [
        {
          "output_type": "execute_result",
          "data": {
            "text/plain": [
              "0.7999758604849831"
            ]
          },
          "metadata": {},
          "execution_count": 38
        }
      ]
    },
    {
      "cell_type": "markdown",
      "source": [
        "A partir daqui não é mais do Thiago"
      ],
      "metadata": {
        "id": "1u2JpCUVerVv"
      }
    },
    {
      "cell_type": "markdown",
      "source": [
        "**Encontrando Limites Positivo e Negativo do SVM**"
      ],
      "metadata": {
        "id": "5TbaNMHrevbU"
      }
    },
    {
      "cell_type": "code",
      "source": [
        "decfun = clf.decision_function(X_train)\n",
        "lim_pos = decfun[np.argmax(decfun)]\n",
        "lim_neg = decfun[np.argmin(decfun)]\n",
        "print(\"Limite Pos = \",lim_pos, '\\nLimite Neg =',lim_neg)"
      ],
      "metadata": {
        "colab": {
          "base_uri": "https://localhost:8080/"
        },
        "id": "NuDlYZHrcYUY",
        "outputId": "bda5fe0a-89ba-4626-eae5-4de39ad014af"
      },
      "execution_count": 39,
      "outputs": [
        {
          "output_type": "stream",
          "name": "stdout",
          "text": [
            "Limite Pos =  1.8675370149765804 \n",
            "Limite Neg = -6.600371124175772\n"
          ]
        }
      ]
    },
    {
      "cell_type": "markdown",
      "source": [
        "**Preparando variáveis wr, t1, t2**"
      ],
      "metadata": {
        "id": "YL5RJ9yae2fD"
      }
    },
    {
      "cell_type": "code",
      "source": [
        "wr = []\n",
        "for i in range(1,13):\n",
        "  wr.append(i*0.04)\n",
        "print(wr)"
      ],
      "metadata": {
        "colab": {
          "base_uri": "https://localhost:8080/"
        },
        "id": "qT3qTb6Hdq0r",
        "outputId": "ae07fd98-34f6-48e5-a190-7b253bcc61a4"
      },
      "execution_count": 40,
      "outputs": [
        {
          "output_type": "stream",
          "name": "stdout",
          "text": [
            "[0.04, 0.08, 0.12, 0.16, 0.2, 0.24, 0.28, 0.32, 0.36, 0.4, 0.44, 0.48]\n"
          ]
        }
      ]
    },
    {
      "cell_type": "code",
      "source": [
        "#Total quantity of elements\n",
        "n_elements = decfun.shape[0]\n",
        "n_elements"
      ],
      "metadata": {
        "id": "GAlW07_hpsok",
        "colab": {
          "base_uri": "https://localhost:8080/"
        },
        "outputId": "5ec1df69-1caa-47e9-bcab-eb15df37ba43"
      },
      "execution_count": 41,
      "outputs": [
        {
          "output_type": "execute_result",
          "data": {
            "text/plain": [
              "398"
            ]
          },
          "metadata": {},
          "execution_count": 41
        }
      ]
    },
    {
      "cell_type": "code",
      "source": [
        "t1 = []\n",
        "t2 = []\n",
        "for i in range (1,101):\n",
        "  t1.append(0.01*i*lim_pos)\n",
        "  t2.append(0.01*i*lim_neg)\n",
        "#for i in range (1,51):\n",
        "#  t1.append(0.02*i*lim_pos)\n",
        "#  t2.append(0.02*i*lim_neg)"
      ],
      "metadata": {
        "id": "ngvmzcZDlgwy"
      },
      "execution_count": 42,
      "outputs": []
    },
    {
      "cell_type": "code",
      "source": [
        "dict_reject = {'WR': wr,'T1':t1, 'T2':t2,'E':[],'R':[],'EWRR': []}\n",
        "dict_reject"
      ],
      "metadata": {
        "colab": {
          "base_uri": "https://localhost:8080/"
        },
        "id": "Xd_ksJnbgo39",
        "outputId": "258be3fb-0cbd-4f42-b14d-1149b6eeaa2b"
      },
      "execution_count": 43,
      "outputs": [
        {
          "output_type": "execute_result",
          "data": {
            "text/plain": [
              "{'E': [],\n",
              " 'EWRR': [],\n",
              " 'R': [],\n",
              " 'T1': [0.018675370149765804,\n",
              "  0.03735074029953161,\n",
              "  0.05602611044929741,\n",
              "  0.07470148059906322,\n",
              "  0.09337685074882902,\n",
              "  0.11205222089859482,\n",
              "  0.13072759104836065,\n",
              "  0.14940296119812643,\n",
              "  0.16807833134789224,\n",
              "  0.18675370149765805,\n",
              "  0.20542907164742386,\n",
              "  0.22410444179718964,\n",
              "  0.24277981194695547,\n",
              "  0.2614551820967213,\n",
              "  0.28013055224648703,\n",
              "  0.29880592239625287,\n",
              "  0.3174812925460187,\n",
              "  0.3361566626957845,\n",
              "  0.35483203284555026,\n",
              "  0.3735074029953161,\n",
              "  0.3921827731450819,\n",
              "  0.4108581432948477,\n",
              "  0.4295335134446135,\n",
              "  0.44820888359437927,\n",
              "  0.4668842537441451,\n",
              "  0.48555962389391094,\n",
              "  0.5042349940436768,\n",
              "  0.5229103641934426,\n",
              "  0.5415857343432083,\n",
              "  0.5602611044929741,\n",
              "  0.5789364746427399,\n",
              "  0.5976118447925057,\n",
              "  0.6162872149422716,\n",
              "  0.6349625850920374,\n",
              "  0.6536379552418032,\n",
              "  0.672313325391569,\n",
              "  0.6909886955413348,\n",
              "  0.7096640656911005,\n",
              "  0.7283394358408664,\n",
              "  0.7470148059906322,\n",
              "  0.765690176140398,\n",
              "  0.7843655462901638,\n",
              "  0.8030409164399296,\n",
              "  0.8217162865896954,\n",
              "  0.8403916567394613,\n",
              "  0.859067026889227,\n",
              "  0.8777423970389928,\n",
              "  0.8964177671887585,\n",
              "  0.9150931373385244,\n",
              "  0.9337685074882902,\n",
              "  0.952443877638056,\n",
              "  0.9711192477878219,\n",
              "  0.9897946179375877,\n",
              "  1.0084699880873536,\n",
              "  1.0271453582371193,\n",
              "  1.0458207283868852,\n",
              "  1.064496098536651,\n",
              "  1.0831714686864167,\n",
              "  1.1018468388361824,\n",
              "  1.1205222089859481,\n",
              "  1.139197579135714,\n",
              "  1.1578729492854798,\n",
              "  1.1765483194352457,\n",
              "  1.1952236895850115,\n",
              "  1.2138990597347774,\n",
              "  1.2325744298845431,\n",
              "  1.2512498000343089,\n",
              "  1.2699251701840748,\n",
              "  1.2886005403338405,\n",
              "  1.3072759104836065,\n",
              "  1.325951280633372,\n",
              "  1.344626650783138,\n",
              "  1.3633020209329036,\n",
              "  1.3819773910826696,\n",
              "  1.4006527612324353,\n",
              "  1.419328131382201,\n",
              "  1.438003501531967,\n",
              "  1.4566788716817327,\n",
              "  1.4753542418314987,\n",
              "  1.4940296119812644,\n",
              "  1.5127049821310303,\n",
              "  1.531380352280796,\n",
              "  1.5500557224305618,\n",
              "  1.5687310925803275,\n",
              "  1.5874064627300932,\n",
              "  1.6060818328798592,\n",
              "  1.624757203029625,\n",
              "  1.6434325731793908,\n",
              "  1.6621079433291566,\n",
              "  1.6807833134789225,\n",
              "  1.6994586836286882,\n",
              "  1.718134053778454,\n",
              "  1.73680942392822,\n",
              "  1.7554847940779856,\n",
              "  1.7741601642277516,\n",
              "  1.792835534377517,\n",
              "  1.811510904527283,\n",
              "  1.8301862746770488,\n",
              "  1.8488616448268147,\n",
              "  1.8675370149765804],\n",
              " 'T2': [-0.06600371124175772,\n",
              "  -0.13200742248351544,\n",
              "  -0.19801113372527315,\n",
              "  -0.26401484496703087,\n",
              "  -0.3300185562087886,\n",
              "  -0.3960222674505463,\n",
              "  -0.46202597869230405,\n",
              "  -0.5280296899340617,\n",
              "  -0.5940334011758195,\n",
              "  -0.6600371124175772,\n",
              "  -0.7260408236593349,\n",
              "  -0.7920445349010926,\n",
              "  -0.8580482461428504,\n",
              "  -0.9240519573846081,\n",
              "  -0.9900556686263657,\n",
              "  -1.0560593798681235,\n",
              "  -1.1220630911098812,\n",
              "  -1.188066802351639,\n",
              "  -1.2540705135933967,\n",
              "  -1.3200742248351545,\n",
              "  -1.386077936076912,\n",
              "  -1.4520816473186697,\n",
              "  -1.5180853585604277,\n",
              "  -1.5840890698021852,\n",
              "  -1.650092781043943,\n",
              "  -1.7160964922857007,\n",
              "  -1.7821002035274585,\n",
              "  -1.8481039147692162,\n",
              "  -1.9141076260109737,\n",
              "  -1.9801113372527315,\n",
              "  -2.046115048494489,\n",
              "  -2.112118759736247,\n",
              "  -2.1781224709780047,\n",
              "  -2.2441261822197625,\n",
              "  -2.31012989346152,\n",
              "  -2.376133604703278,\n",
              "  -2.4421373159450357,\n",
              "  -2.5081410271867934,\n",
              "  -2.574144738428551,\n",
              "  -2.640148449670309,\n",
              "  -2.7061521609120667,\n",
              "  -2.772155872153824,\n",
              "  -2.8381595833955817,\n",
              "  -2.9041632946373395,\n",
              "  -2.970167005879097,\n",
              "  -3.0361707171208554,\n",
              "  -3.102174428362613,\n",
              "  -3.1681781396043704,\n",
              "  -3.234181850846128,\n",
              "  -3.300185562087886,\n",
              "  -3.3661892733296437,\n",
              "  -3.4321929845714014,\n",
              "  -3.498196695813159,\n",
              "  -3.564200407054917,\n",
              "  -3.6302041182966747,\n",
              "  -3.6962078295384324,\n",
              "  -3.7622115407801906,\n",
              "  -3.8282152520219475,\n",
              "  -3.894218963263705,\n",
              "  -3.960222674505463,\n",
              "  -4.026226385747221,\n",
              "  -4.092230096988978,\n",
              "  -4.158233808230737,\n",
              "  -4.224237519472494,\n",
              "  -4.290241230714252,\n",
              "  -4.356244941956009,\n",
              "  -4.422248653197768,\n",
              "  -4.488252364439525,\n",
              "  -4.554256075681283,\n",
              "  -4.62025978692304,\n",
              "  -4.686263498164798,\n",
              "  -4.752267209406556,\n",
              "  -4.818270920648313,\n",
              "  -4.884274631890071,\n",
              "  -4.950278343131829,\n",
              "  -5.016282054373587,\n",
              "  -5.082285765615344,\n",
              "  -5.148289476857102,\n",
              "  -5.21429318809886,\n",
              "  -5.280296899340618,\n",
              "  -5.346300610582375,\n",
              "  -5.412304321824133,\n",
              "  -5.4783080330658915,\n",
              "  -5.544311744307648,\n",
              "  -5.610315455549406,\n",
              "  -5.676319166791163,\n",
              "  -5.742322878032922,\n",
              "  -5.808326589274679,\n",
              "  -5.874330300516437,\n",
              "  -5.940334011758194,\n",
              "  -6.006337722999953,\n",
              "  -6.072341434241711,\n",
              "  -6.138345145483468,\n",
              "  -6.204348856725226,\n",
              "  -6.270352567966984,\n",
              "  -6.336356279208741,\n",
              "  -6.402359990450498,\n",
              "  -6.468363701692256,\n",
              "  -6.534367412934014,\n",
              "  -6.600371124175772],\n",
              " 'WR': [0.04, 0.08, 0.12, 0.16, 0.2, 0.24, 0.28, 0.32, 0.36, 0.4, 0.44, 0.48]}"
            ]
          },
          "metadata": {},
          "execution_count": 43
        }
      ]
    },
    {
      "cell_type": "markdown",
      "source": [
        "First Element Iteration Example"
      ],
      "metadata": {
        "id": "xCyPjUVpvF2U"
      }
    },
    {
      "cell_type": "code",
      "source": [
        "#Get Number of Rejected\n",
        "positive_indexes = np.where(decfun >= dict_reject['T1'][0])\n",
        "negative_indexes = np.where(decfun < dict_reject['T2'][0])\n",
        "rejected_indexes = np.where((decfun < dict_reject['T1'][0]) & (decfun >= dict_reject['T2'][0]))\n",
        "R = rejected_indexes[0].shape[0]\n",
        "np.array(positive_indexes).shape,np.array(negative_indexes).shape, R"
      ],
      "metadata": {
        "colab": {
          "base_uri": "https://localhost:8080/"
        },
        "id": "F8AAPrI9l_1s",
        "outputId": "a496d6dc-e138-404b-e19d-c96dcee90a8b"
      },
      "execution_count": 44,
      "outputs": [
        {
          "output_type": "execute_result",
          "data": {
            "text/plain": [
              "((1, 301), (1, 91), 6)"
            ]
          },
          "metadata": {},
          "execution_count": 44
        }
      ]
    },
    {
      "cell_type": "code",
      "source": [
        "#Showing Rejected Elements\n",
        "rejected_indexes,decfun[rejected_indexes[0]],dict_reject['T1'][0],dict_reject['T2'][0]"
      ],
      "metadata": {
        "colab": {
          "base_uri": "https://localhost:8080/"
        },
        "id": "cSIQRu20vZHz",
        "outputId": "224f19b6-dfc4-404b-81be-562479ca7bf4"
      },
      "execution_count": 45,
      "outputs": [
        {
          "output_type": "execute_result",
          "data": {
            "text/plain": [
              "((array([ 35,  74,  76, 193, 227, 265]),),\n",
              " array([-0.03581548,  0.00658618, -0.01019755, -0.01446095, -0.0559994 ,\n",
              "        -0.01857772]),\n",
              " 0.018675370149765804,\n",
              " -0.06600371124175772)"
            ]
          },
          "metadata": {},
          "execution_count": 45
        }
      ]
    },
    {
      "cell_type": "code",
      "source": [
        "#Get Number of Misclassifications\n",
        "class_p = y_train[positive_indexes]\n",
        "class_n = y_train[negative_indexes]\n",
        "error_p = np.where(class_p == np.argmin(np.unique(y_train)))[0].shape[0]\n",
        "error_n = np.where(class_n == np.argmax(np.unique(y_train)))[0].shape[0]\n",
        "error_total = (error_p + error_n)/(n_elements - R)\n",
        "class_p,class_n,error_p,error_n,error_total,"
      ],
      "metadata": {
        "colab": {
          "base_uri": "https://localhost:8080/"
        },
        "id": "dzO6rQk5rCvl",
        "outputId": "e2ffd200-53da-4505-823f-a94e3424b7ca"
      },
      "execution_count": 46,
      "outputs": [
        {
          "output_type": "execute_result",
          "data": {
            "text/plain": [
              "(array([1, 1, 1, 1, 0, 0, 1, 1, 0, 1, 1, 1, 1, 1, 1, 1, 1, 1, 1, 1, 1, 1,\n",
              "        1, 1, 1, 1, 1, 0, 1, 1, 1, 0, 1, 1, 1, 1, 1, 1, 1, 1, 1, 1, 1, 1,\n",
              "        1, 1, 1, 1, 0, 1, 1, 1, 0, 0, 1, 0, 1, 0, 1, 1, 1, 1, 1, 0, 0, 1,\n",
              "        1, 0, 1, 1, 1, 1, 0, 1, 1, 1, 0, 1, 0, 1, 1, 1, 1, 1, 1, 1, 0, 1,\n",
              "        1, 0, 1, 1, 1, 1, 0, 1, 1, 1, 1, 1, 1, 0, 1, 1, 1, 0, 1, 1, 1, 1,\n",
              "        1, 1, 1, 1, 1, 0, 1, 1, 1, 1, 1, 1, 1, 0, 1, 1, 1, 1, 1, 0, 1, 1,\n",
              "        1, 1, 1, 1, 1, 1, 1, 1, 1, 1, 1, 0, 1, 1, 1, 1, 1, 1, 1, 1, 1, 1,\n",
              "        0, 0, 1, 1, 0, 1, 1, 0, 1, 0, 1, 0, 0, 1, 1, 1, 1, 1, 1, 1, 1, 0,\n",
              "        1, 1, 1, 1, 1, 1, 1, 0, 1, 1, 0, 1, 1, 0, 1, 0, 1, 1, 1, 1, 0, 1,\n",
              "        1, 1, 1, 1, 1, 1, 0, 1, 1, 1, 1, 0, 1, 0, 1, 1, 1, 1, 1, 1, 1, 1,\n",
              "        0, 1, 1, 0, 1, 1, 1, 1, 1, 0, 0, 1, 1, 1, 1, 1, 1, 1, 1, 1, 1, 1,\n",
              "        0, 1, 1, 1, 0, 1, 0, 1, 1, 1, 1, 1, 1, 1, 1, 1, 0, 1, 1, 1, 1, 1,\n",
              "        1, 1, 1, 1, 1, 0, 1, 1, 1, 0, 1, 0, 1, 1, 1, 1, 1, 0, 1, 1, 1, 1,\n",
              "        1, 1, 1, 1, 1, 1, 1, 1, 1, 1, 1, 1, 1, 1, 0]),\n",
              " array([0, 0, 0, 0, 0, 0, 0, 0, 0, 0, 0, 0, 0, 0, 0, 0, 0, 0, 0, 0, 0, 0,\n",
              "        0, 0, 0, 0, 0, 0, 0, 0, 0, 0, 0, 0, 0, 0, 0, 0, 0, 0, 0, 0, 0, 0,\n",
              "        0, 0, 0, 0, 0, 0, 0, 0, 0, 0, 0, 0, 0, 0, 0, 0, 0, 0, 0, 0, 0, 0,\n",
              "        0, 0, 0, 0, 0, 0, 0, 0, 0, 0, 0, 0, 0, 0, 0, 0, 0, 0, 0, 0, 0, 0,\n",
              "        0, 0, 0]),\n",
              " 54,\n",
              " 0,\n",
              " 0.1377551020408163)"
            ]
          },
          "metadata": {},
          "execution_count": 46
        }
      ]
    },
    {
      "cell_type": "code",
      "source": [
        "print(\"Erro = \",error_total,\" wr = \",dict_reject['WR'][0],' R = ',R, '\\nE + wr * R = ',error_total + dict_reject['WR'][0] * R)"
      ],
      "metadata": {
        "colab": {
          "base_uri": "https://localhost:8080/"
        },
        "id": "-MJu4uB3tpuY",
        "outputId": "eec626ba-0bc3-479a-f6e8-a2c9b5eb6db4"
      },
      "execution_count": 47,
      "outputs": [
        {
          "output_type": "stream",
          "name": "stdout",
          "text": [
            "Erro =  0.1377551020408163  wr =  0.04  R =  6 \n",
            "E + wr * R =  0.3777551020408163\n"
          ]
        }
      ]
    },
    {
      "cell_type": "markdown",
      "source": [
        "First Full Iterations"
      ],
      "metadata": {
        "id": "caFzzkdNvJLr"
      }
    },
    {
      "cell_type": "code",
      "source": [
        "EwrR_0 = []\n",
        "for i,t in enumerate(dict_reject['T1']):\n",
        "  #Get Number of Rejected\n",
        "  positive_indexes = np.where(decfun >= dict_reject['T1'][i])\n",
        "  negative_indexes = np.where(decfun < dict_reject['T2'][i])\n",
        "  rejected_indexes = np.where((decfun < dict_reject['T1'][i]) & (decfun >= dict_reject['T2'][i]))\n",
        "  R = rejected_indexes[0].shape[0]\n",
        "  #np.array(positive_indexes).shape,np.array(negative_indexes).shape, R\n",
        "\n",
        "  #Get Number of Misclassifications\n",
        "  class_p = y_train[positive_indexes]\n",
        "  class_n = y_train[negative_indexes]\n",
        "  error_p = np.where(class_p == np.argmin(np.unique(y_train)))[0].shape[0]\n",
        "  error_n = np.where(class_n == np.argmax(np.unique(y_train)))[0].shape[0]\n",
        "  error_total = (error_p + error_n)/(n_elements - R)\n",
        "  \n",
        "  EwrR_0.append(error_total + dict_reject['WR'][0] * R)\n",
        "  print('(',i+1,')',\"Erro = \",error_total,\" wr = \",dict_reject['WR'][0],' R = ',R, 'E + wrR = ',error_total + dict_reject['WR'][0] * R,' T1 = ',dict_reject['T1'][i], ' T2 = ', dict_reject['T2'][i], ' Error P = ', error_p, ' Error N = ', error_n)\n",
        "np.argmin(np.array(EwrR_0)), EwrR_0[np.argmin(np.array(EwrR_0))]\n"
      ],
      "metadata": {
        "colab": {
          "base_uri": "https://localhost:8080/"
        },
        "id": "mhfwytH8xCDA",
        "outputId": "aa0b5c92-b179-4af4-d3fe-e10f659182d7"
      },
      "execution_count": 48,
      "outputs": [
        {
          "output_type": "stream",
          "name": "stdout",
          "text": [
            "( 1 ) Erro =  0.1377551020408163  wr =  0.04  R =  6 E + wrR =  0.3777551020408163  T1 =  0.018675370149765804  T2 =  -0.06600371124175772  Error P =  54  Error N =  0\n",
            "( 2 ) Erro =  0.13624678663239073  wr =  0.04  R =  9 E + wrR =  0.49624678663239075  T1 =  0.03735074029953161  T2 =  -0.13200742248351544  Error P =  53  Error N =  0\n",
            "( 3 ) Erro =  0.13695090439276486  wr =  0.04  R =  11 E + wrR =  0.5769509043927649  T1 =  0.05602611044929741  T2 =  -0.19801113372527315  Error P =  53  Error N =  0\n",
            "( 4 ) Erro =  0.13766233766233765  wr =  0.04  R =  13 E + wrR =  0.6576623376623376  T1 =  0.07470148059906322  T2 =  -0.26401484496703087  Error P =  53  Error N =  0\n",
            "( 5 ) Erro =  0.1345646437994723  wr =  0.04  R =  19 E + wrR =  0.8945646437994723  T1 =  0.09337685074882902  T2 =  -0.3300185562087886  Error P =  51  Error N =  0\n",
            "( 6 ) Erro =  0.136  wr =  0.04  R =  23 E + wrR =  1.056  T1 =  0.11205222089859482  T2 =  -0.3960222674505463  Error P =  51  Error N =  0\n",
            "( 7 ) Erro =  0.13008130081300814  wr =  0.04  R =  29 E + wrR =  1.290081300813008  T1 =  0.13072759104836065  T2 =  -0.46202597869230405  Error P =  48  Error N =  0\n",
            "( 8 ) Erro =  0.13186813186813187  wr =  0.04  R =  34 E + wrR =  1.491868131868132  T1 =  0.14940296119812643  T2 =  -0.5280296899340617  Error P =  48  Error N =  0\n",
            "( 9 ) Erro =  0.12885154061624648  wr =  0.04  R =  41 E + wrR =  1.7688515406162466  T1 =  0.16807833134789224  T2 =  -0.5940334011758195  Error P =  46  Error N =  0\n",
            "( 10 ) Erro =  0.12464589235127478  wr =  0.04  R =  45 E + wrR =  1.9246458923512748  T1 =  0.18675370149765805  T2 =  -0.6600371124175772  Error P =  44  Error N =  0\n",
            "( 11 ) Erro =  0.12571428571428572  wr =  0.04  R =  48 E + wrR =  2.045714285714286  T1 =  0.20542907164742386  T2 =  -0.7260408236593349  Error P =  44  Error N =  0\n",
            "( 12 ) Erro =  0.1246376811594203  wr =  0.04  R =  53 E + wrR =  2.2446376811594204  T1 =  0.22410444179718964  T2 =  -0.7920445349010926  Error P =  43  Error N =  0\n",
            "( 13 ) Erro =  0.11695906432748537  wr =  0.04  R =  56 E + wrR =  2.3569590643274854  T1 =  0.24277981194695547  T2 =  -0.8580482461428504  Error P =  40  Error N =  0\n",
            "( 14 ) Erro =  0.11869436201780416  wr =  0.04  R =  61 E + wrR =  2.558694362017804  T1 =  0.2614551820967213  T2 =  -0.9240519573846081  Error P =  40  Error N =  0\n",
            "( 15 ) Erro =  0.11377245508982035  wr =  0.04  R =  64 E + wrR =  2.6737724550898205  T1 =  0.28013055224648703  T2 =  -0.9900556686263657  Error P =  38  Error N =  0\n",
            "( 16 ) Erro =  0.11246200607902736  wr =  0.04  R =  69 E + wrR =  2.8724620060790276  T1 =  0.29880592239625287  T2 =  -1.0560593798681235  Error P =  37  Error N =  0\n",
            "( 17 ) Erro =  0.11076923076923077  wr =  0.04  R =  73 E + wrR =  3.0307692307692307  T1 =  0.3174812925460187  T2 =  -1.1220630911098812  Error P =  36  Error N =  0\n",
            "( 18 ) Erro =  0.11214953271028037  wr =  0.04  R =  77 E + wrR =  3.1921495327102805  T1 =  0.3361566626957845  T2 =  -1.188066802351639  Error P =  36  Error N =  0\n",
            "( 19 ) Erro =  0.11392405063291139  wr =  0.04  R =  82 E + wrR =  3.393924050632912  T1 =  0.35483203284555026  T2 =  -1.2540705135933967  Error P =  36  Error N =  0\n",
            "( 20 ) Erro =  0.11428571428571428  wr =  0.04  R =  83 E + wrR =  3.4342857142857146  T1 =  0.3735074029953161  T2 =  -1.3200742248351545  Error P =  36  Error N =  0\n",
            "( 21 ) Erro =  0.1157556270096463  wr =  0.04  R =  87 E + wrR =  3.5957556270096465  T1 =  0.3921827731450819  T2 =  -1.386077936076912  Error P =  36  Error N =  0\n",
            "( 22 ) Erro =  0.11650485436893204  wr =  0.04  R =  89 E + wrR =  3.676504854368932  T1 =  0.4108581432948477  T2 =  -1.4520816473186697  Error P =  36  Error N =  0\n",
            "( 23 ) Erro =  0.11475409836065574  wr =  0.04  R =  93 E + wrR =  3.834754098360656  T1 =  0.4295335134446135  T2 =  -1.5180853585604277  Error P =  35  Error N =  0\n",
            "( 24 ) Erro =  0.11073825503355705  wr =  0.04  R =  100 E + wrR =  4.110738255033557  T1 =  0.44820888359437927  T2 =  -1.5840890698021852  Error P =  33  Error N =  0\n",
            "( 25 ) Erro =  0.10616438356164383  wr =  0.04  R =  106 E + wrR =  4.346164383561644  T1 =  0.4668842537441451  T2 =  -1.650092781043943  Error P =  31  Error N =  0\n",
            "( 26 ) Erro =  0.10380622837370242  wr =  0.04  R =  109 E + wrR =  4.463806228373703  T1 =  0.48555962389391094  T2 =  -1.7160964922857007  Error P =  30  Error N =  0\n",
            "( 27 ) Erro =  0.10714285714285714  wr =  0.04  R =  118 E + wrR =  4.8271428571428565  T1 =  0.5042349940436768  T2 =  -1.7821002035274585  Error P =  30  Error N =  0\n",
            "( 28 ) Erro =  0.10144927536231885  wr =  0.04  R =  122 E + wrR =  4.981449275362319  T1 =  0.5229103641934426  T2 =  -1.8481039147692162  Error P =  28  Error N =  0\n",
            "( 29 ) Erro =  0.09737827715355805  wr =  0.04  R =  131 E + wrR =  5.337378277153558  T1 =  0.5415857343432083  T2 =  -1.9141076260109737  Error P =  26  Error N =  0\n",
            "( 30 ) Erro =  0.08461538461538462  wr =  0.04  R =  138 E + wrR =  5.604615384615385  T1 =  0.5602611044929741  T2 =  -1.9801113372527315  Error P =  22  Error N =  0\n",
            "( 31 ) Erro =  0.078125  wr =  0.04  R =  142 E + wrR =  5.758125  T1 =  0.5789364746427399  T2 =  -2.046115048494489  Error P =  20  Error N =  0\n",
            "( 32 ) Erro =  0.07509881422924901  wr =  0.04  R =  145 E + wrR =  5.875098814229249  T1 =  0.5976118447925057  T2 =  -2.112118759736247  Error P =  19  Error N =  0\n",
            "( 33 ) Erro =  0.06827309236947791  wr =  0.04  R =  149 E + wrR =  6.028273092369478  T1 =  0.6162872149422716  T2 =  -2.1781224709780047  Error P =  17  Error N =  0\n",
            "( 34 ) Erro =  0.06882591093117409  wr =  0.04  R =  151 E + wrR =  6.108825910931174  T1 =  0.6349625850920374  T2 =  -2.2441261822197625  Error P =  17  Error N =  0\n",
            "( 35 ) Erro =  0.06584362139917696  wr =  0.04  R =  155 E + wrR =  6.265843621399177  T1 =  0.6536379552418032  T2 =  -2.31012989346152  Error P =  16  Error N =  0\n",
            "( 36 ) Erro =  0.06224066390041494  wr =  0.04  R =  157 E + wrR =  6.342240663900415  T1 =  0.672313325391569  T2 =  -2.376133604703278  Error P =  15  Error N =  0\n",
            "( 37 ) Erro =  0.05508474576271186  wr =  0.04  R =  162 E + wrR =  6.535084745762712  T1 =  0.6909886955413348  T2 =  -2.4421373159450357  Error P =  13  Error N =  0\n",
            "( 38 ) Erro =  0.05150214592274678  wr =  0.04  R =  165 E + wrR =  6.6515021459227475  T1 =  0.7096640656911005  T2 =  -2.5081410271867934  Error P =  12  Error N =  0\n",
            "( 39 ) Erro =  0.05240174672489083  wr =  0.04  R =  169 E + wrR =  6.81240174672489  T1 =  0.7283394358408664  T2 =  -2.574144738428551  Error P =  12  Error N =  0\n",
            "( 40 ) Erro =  0.044444444444444446  wr =  0.04  R =  173 E + wrR =  6.964444444444444  T1 =  0.7470148059906322  T2 =  -2.640148449670309  Error P =  10  Error N =  0\n",
            "( 41 ) Erro =  0.046296296296296294  wr =  0.04  R =  182 E + wrR =  7.326296296296297  T1 =  0.765690176140398  T2 =  -2.7061521609120667  Error P =  10  Error N =  0\n",
            "( 42 ) Erro =  0.03827751196172249  wr =  0.04  R =  189 E + wrR =  7.598277511961723  T1 =  0.7843655462901638  T2 =  -2.772155872153824  Error P =  8  Error N =  0\n",
            "( 43 ) Erro =  0.03864734299516908  wr =  0.04  R =  191 E + wrR =  7.67864734299517  T1 =  0.8030409164399296  T2 =  -2.8381595833955817  Error P =  8  Error N =  0\n",
            "( 44 ) Erro =  0.034482758620689655  wr =  0.04  R =  195 E + wrR =  7.834482758620689  T1 =  0.8217162865896954  T2 =  -2.9041632946373395  Error P =  7  Error N =  0\n",
            "( 45 ) Erro =  0.03015075376884422  wr =  0.04  R =  199 E + wrR =  7.9901507537688445  T1 =  0.8403916567394613  T2 =  -2.970167005879097  Error P =  6  Error N =  0\n",
            "( 46 ) Erro =  0.030456852791878174  wr =  0.04  R =  201 E + wrR =  8.07045685279188  T1 =  0.859067026889227  T2 =  -3.0361707171208554  Error P =  6  Error N =  0\n",
            "( 47 ) Erro =  0.03076923076923077  wr =  0.04  R =  203 E + wrR =  8.150769230769232  T1 =  0.8777423970389928  T2 =  -3.102174428362613  Error P =  6  Error N =  0\n",
            "( 48 ) Erro =  0.030927835051546393  wr =  0.04  R =  204 E + wrR =  8.190927835051546  T1 =  0.8964177671887585  T2 =  -3.1681781396043704  Error P =  6  Error N =  0\n",
            "( 49 ) Erro =  0.02631578947368421  wr =  0.04  R =  208 E + wrR =  8.346315789473685  T1 =  0.9150931373385244  T2 =  -3.234181850846128  Error P =  5  Error N =  0\n",
            "( 50 ) Erro =  0.027472527472527472  wr =  0.04  R =  216 E + wrR =  8.667472527472528  T1 =  0.9337685074882902  T2 =  -3.300185562087886  Error P =  5  Error N =  0\n",
            "( 51 ) Erro =  0.028089887640449437  wr =  0.04  R =  220 E + wrR =  8.82808988764045  T1 =  0.952443877638056  T2 =  -3.3661892733296437  Error P =  5  Error N =  0\n",
            "( 52 ) Erro =  0.028901734104046242  wr =  0.04  R =  225 E + wrR =  9.028901734104046  T1 =  0.9711192477878219  T2 =  -3.4321929845714014  Error P =  5  Error N =  0\n",
            "( 53 ) Erro =  0.029585798816568046  wr =  0.04  R =  229 E + wrR =  9.189585798816568  T1 =  0.9897946179375877  T2 =  -3.498196695813159  Error P =  5  Error N =  0\n",
            "( 54 ) Erro =  0.031055900621118012  wr =  0.04  R =  237 E + wrR =  9.511055900621118  T1 =  1.0084699880873536  T2 =  -3.564200407054917  Error P =  5  Error N =  0\n",
            "( 55 ) Erro =  0.03164556962025317  wr =  0.04  R =  240 E + wrR =  9.631645569620252  T1 =  1.0271453582371193  T2 =  -3.6302041182966747  Error P =  5  Error N =  0\n",
            "( 56 ) Erro =  0.03164556962025317  wr =  0.04  R =  240 E + wrR =  9.631645569620252  T1 =  1.0458207283868852  T2 =  -3.6962078295384324  Error P =  5  Error N =  0\n",
            "( 57 ) Erro =  0.02631578947368421  wr =  0.04  R =  246 E + wrR =  9.866315789473685  T1 =  1.064496098536651  T2 =  -3.7622115407801906  Error P =  4  Error N =  0\n",
            "( 58 ) Erro =  0.027777777777777776  wr =  0.04  R =  254 E + wrR =  10.187777777777779  T1 =  1.0831714686864167  T2 =  -3.8282152520219475  Error P =  4  Error N =  0\n",
            "( 59 ) Erro =  0.029197080291970802  wr =  0.04  R =  261 E + wrR =  10.46919708029197  T1 =  1.1018468388361824  T2 =  -3.894218963263705  Error P =  4  Error N =  0\n",
            "( 60 ) Erro =  0.0234375  wr =  0.04  R =  270 E + wrR =  10.8234375  T1 =  1.1205222089859481  T2 =  -3.960222674505463  Error P =  3  Error N =  0\n",
            "( 61 ) Erro =  0.01652892561983471  wr =  0.04  R =  277 E + wrR =  11.096528925619834  T1 =  1.139197579135714  T2 =  -4.026226385747221  Error P =  2  Error N =  0\n",
            "( 62 ) Erro =  0.017543859649122806  wr =  0.04  R =  284 E + wrR =  11.377543859649123  T1 =  1.1578729492854798  T2 =  -4.092230096988978  Error P =  2  Error N =  0\n",
            "( 63 ) Erro =  0.01818181818181818  wr =  0.04  R =  288 E + wrR =  11.538181818181817  T1 =  1.1765483194352457  T2 =  -4.158233808230737  Error P =  2  Error N =  0\n",
            "( 64 ) Erro =  0.01904761904761905  wr =  0.04  R =  293 E + wrR =  11.73904761904762  T1 =  1.1952236895850115  T2 =  -4.224237519472494  Error P =  2  Error N =  0\n",
            "( 65 ) Erro =  0.02  wr =  0.04  R =  298 E + wrR =  11.94  T1 =  1.2138990597347774  T2 =  -4.290241230714252  Error P =  2  Error N =  0\n",
            "( 66 ) Erro =  0.010752688172043012  wr =  0.04  R =  305 E + wrR =  12.210752688172045  T1 =  1.2325744298845431  T2 =  -4.356244941956009  Error P =  1  Error N =  0\n",
            "( 67 ) Erro =  0.0  wr =  0.04  R =  311 E + wrR =  12.44  T1 =  1.2512498000343089  T2 =  -4.422248653197768  Error P =  0  Error N =  0\n",
            "( 68 ) Erro =  0.0  wr =  0.04  R =  316 E + wrR =  12.64  T1 =  1.2699251701840748  T2 =  -4.488252364439525  Error P =  0  Error N =  0\n",
            "( 69 ) Erro =  0.0  wr =  0.04  R =  324 E + wrR =  12.96  T1 =  1.2886005403338405  T2 =  -4.554256075681283  Error P =  0  Error N =  0\n",
            "( 70 ) Erro =  0.0  wr =  0.04  R =  329 E + wrR =  13.16  T1 =  1.3072759104836065  T2 =  -4.62025978692304  Error P =  0  Error N =  0\n",
            "( 71 ) Erro =  0.0  wr =  0.04  R =  334 E + wrR =  13.36  T1 =  1.325951280633372  T2 =  -4.686263498164798  Error P =  0  Error N =  0\n",
            "( 72 ) Erro =  0.0  wr =  0.04  R =  336 E + wrR =  13.44  T1 =  1.344626650783138  T2 =  -4.752267209406556  Error P =  0  Error N =  0\n",
            "( 73 ) Erro =  0.0  wr =  0.04  R =  342 E + wrR =  13.68  T1 =  1.3633020209329036  T2 =  -4.818270920648313  Error P =  0  Error N =  0\n",
            "( 74 ) Erro =  0.0  wr =  0.04  R =  345 E + wrR =  13.8  T1 =  1.3819773910826696  T2 =  -4.884274631890071  Error P =  0  Error N =  0\n",
            "( 75 ) Erro =  0.0  wr =  0.04  R =  346 E + wrR =  13.84  T1 =  1.4006527612324353  T2 =  -4.950278343131829  Error P =  0  Error N =  0\n",
            "( 76 ) Erro =  0.0  wr =  0.04  R =  351 E + wrR =  14.040000000000001  T1 =  1.419328131382201  T2 =  -5.016282054373587  Error P =  0  Error N =  0\n",
            "( 77 ) Erro =  0.0  wr =  0.04  R =  354 E + wrR =  14.16  T1 =  1.438003501531967  T2 =  -5.082285765615344  Error P =  0  Error N =  0\n",
            "( 78 ) Erro =  0.0  wr =  0.04  R =  357 E + wrR =  14.280000000000001  T1 =  1.4566788716817327  T2 =  -5.148289476857102  Error P =  0  Error N =  0\n",
            "( 79 ) Erro =  0.0  wr =  0.04  R =  359 E + wrR =  14.36  T1 =  1.4753542418314987  T2 =  -5.21429318809886  Error P =  0  Error N =  0\n",
            "( 80 ) Erro =  0.0  wr =  0.04  R =  362 E + wrR =  14.48  T1 =  1.4940296119812644  T2 =  -5.280296899340618  Error P =  0  Error N =  0\n",
            "( 81 ) Erro =  0.0  wr =  0.04  R =  367 E + wrR =  14.68  T1 =  1.5127049821310303  T2 =  -5.346300610582375  Error P =  0  Error N =  0\n",
            "( 82 ) Erro =  0.0  wr =  0.04  R =  372 E + wrR =  14.88  T1 =  1.531380352280796  T2 =  -5.412304321824133  Error P =  0  Error N =  0\n",
            "( 83 ) Erro =  0.0  wr =  0.04  R =  376 E + wrR =  15.040000000000001  T1 =  1.5500557224305618  T2 =  -5.4783080330658915  Error P =  0  Error N =  0\n",
            "( 84 ) Erro =  0.0  wr =  0.04  R =  378 E + wrR =  15.120000000000001  T1 =  1.5687310925803275  T2 =  -5.544311744307648  Error P =  0  Error N =  0\n",
            "( 85 ) Erro =  0.0  wr =  0.04  R =  378 E + wrR =  15.120000000000001  T1 =  1.5874064627300932  T2 =  -5.610315455549406  Error P =  0  Error N =  0\n",
            "( 86 ) Erro =  0.0  wr =  0.04  R =  380 E + wrR =  15.200000000000001  T1 =  1.6060818328798592  T2 =  -5.676319166791163  Error P =  0  Error N =  0\n",
            "( 87 ) Erro =  0.0  wr =  0.04  R =  381 E + wrR =  15.24  T1 =  1.624757203029625  T2 =  -5.742322878032922  Error P =  0  Error N =  0\n",
            "( 88 ) Erro =  0.0  wr =  0.04  R =  383 E + wrR =  15.32  T1 =  1.6434325731793908  T2 =  -5.808326589274679  Error P =  0  Error N =  0\n",
            "( 89 ) Erro =  0.0  wr =  0.04  R =  384 E + wrR =  15.36  T1 =  1.6621079433291566  T2 =  -5.874330300516437  Error P =  0  Error N =  0\n",
            "( 90 ) Erro =  0.0  wr =  0.04  R =  388 E + wrR =  15.52  T1 =  1.6807833134789225  T2 =  -5.940334011758194  Error P =  0  Error N =  0\n",
            "( 91 ) Erro =  0.0  wr =  0.04  R =  389 E + wrR =  15.56  T1 =  1.6994586836286882  T2 =  -6.006337722999953  Error P =  0  Error N =  0\n",
            "( 92 ) Erro =  0.0  wr =  0.04  R =  390 E + wrR =  15.6  T1 =  1.718134053778454  T2 =  -6.072341434241711  Error P =  0  Error N =  0\n",
            "( 93 ) Erro =  0.0  wr =  0.04  R =  391 E + wrR =  15.64  T1 =  1.73680942392822  T2 =  -6.138345145483468  Error P =  0  Error N =  0\n",
            "( 94 ) Erro =  0.0  wr =  0.04  R =  393 E + wrR =  15.72  T1 =  1.7554847940779856  T2 =  -6.204348856725226  Error P =  0  Error N =  0\n",
            "( 95 ) Erro =  0.0  wr =  0.04  R =  394 E + wrR =  15.76  T1 =  1.7741601642277516  T2 =  -6.270352567966984  Error P =  0  Error N =  0\n",
            "( 96 ) Erro =  0.0  wr =  0.04  R =  394 E + wrR =  15.76  T1 =  1.792835534377517  T2 =  -6.336356279208741  Error P =  0  Error N =  0\n",
            "( 97 ) Erro =  0.0  wr =  0.04  R =  395 E + wrR =  15.8  T1 =  1.811510904527283  T2 =  -6.402359990450498  Error P =  0  Error N =  0\n",
            "( 98 ) Erro =  0.0  wr =  0.04  R =  396 E + wrR =  15.84  T1 =  1.8301862746770488  T2 =  -6.468363701692256  Error P =  0  Error N =  0\n",
            "( 99 ) Erro =  0.0  wr =  0.04  R =  396 E + wrR =  15.84  T1 =  1.8488616448268147  T2 =  -6.534367412934014  Error P =  0  Error N =  0\n",
            "( 100 ) Erro =  0.0  wr =  0.04  R =  397 E + wrR =  15.88  T1 =  1.8675370149765804  T2 =  -6.600371124175772  Error P =  0  Error N =  0\n"
          ]
        },
        {
          "output_type": "execute_result",
          "data": {
            "text/plain": [
              "(0, 0.3777551020408163)"
            ]
          },
          "metadata": {},
          "execution_count": 48
        }
      ]
    },
    {
      "cell_type": "markdown",
      "source": [
        "All Iterations"
      ],
      "metadata": {
        "id": "rartrt2kIEuH"
      }
    },
    {
      "cell_type": "code",
      "source": [
        "for i,wr_ in enumerate(dict_reject['WR']):\n",
        "  EwrR = []\n",
        "  for i,t in enumerate(dict_reject['T1']):\n",
        "    #Get Number of Rejected\n",
        "    positive_indexes = np.where(decfun >= dict_reject['T1'][i])\n",
        "    negative_indexes = np.where(decfun < dict_reject['T2'][i])\n",
        "    rejected_indexes = np.where((decfun < dict_reject['T1'][i]) & (decfun >= dict_reject['T2'][i]))\n",
        "    R = rejected_indexes[0].shape[0]\n",
        "    #np.array(positive_indexes).shape,np.array(negative_indexes).shape, R\n",
        "\n",
        "    #Get Number of Misclassifications\n",
        "    class_p = y_train[positive_indexes]\n",
        "    class_n = y_train[negative_indexes]\n",
        "    error_p = np.where(class_p == np.argmin(np.unique(y_train)))[0].shape[0]\n",
        "    error_n = np.where(class_n == np.argmax(np.unique(y_train)))[0].shape[0]\n",
        "    error_total = (error_p + error_n)/(n_elements - R)\n",
        "    \n",
        "    EwrR.append(error_total + wr_ * R)\n",
        "    #print('(',i+1,')',\"Erro = \",error_total,\" wr = \",wr_,' R = ',R, 'E + wrR = ',error_total + wr_ * R,' T1 = ',dict_reject['T1'][i], ' T2 = ', dict_reject['T2'][i], ' Error P = ', error_p, ' Error N = ', error_n)\n",
        "  print(np.argmin(np.array(EwrR)), EwrR[np.argmin(np.array(EwrR))])"
      ],
      "metadata": {
        "colab": {
          "base_uri": "https://localhost:8080/"
        },
        "id": "Z9eD5ICKIGtk",
        "outputId": "d840bfde-e809-4698-cc0e-343a102e7deb"
      },
      "execution_count": 49,
      "outputs": [
        {
          "output_type": "stream",
          "name": "stdout",
          "text": [
            "0 0.3777551020408163\n",
            "0 0.6177551020408163\n",
            "0 0.8577551020408163\n",
            "0 1.0977551020408163\n",
            "0 1.3377551020408165\n",
            "0 1.5777551020408163\n",
            "0 1.8177551020408165\n",
            "0 2.057755102040816\n",
            "0 2.2977551020408162\n",
            "0 2.5377551020408164\n",
            "0 2.7777551020408167\n",
            "0 3.017755102040816\n"
          ]
        }
      ]
    },
    {
      "cell_type": "markdown",
      "source": [
        "z3 solver thiago"
      ],
      "metadata": {
        "id": "TNDJmkDq8XHE"
      }
    },
    {
      "cell_type": "code",
      "source": [
        "#!pip install z3-solver"
      ],
      "metadata": {
        "id": "4CBnNZFL8LKv"
      },
      "execution_count": 50,
      "outputs": []
    },
    {
      "cell_type": "code",
      "source": [
        "from z3 import *"
      ],
      "metadata": {
        "id": "6sU1CPuX9Jiz"
      },
      "execution_count": 51,
      "outputs": []
    },
    {
      "cell_type": "code",
      "source": [
        "cancer.feature_names"
      ],
      "metadata": {
        "colab": {
          "base_uri": "https://localhost:8080/"
        },
        "id": "b8soL0Ih8RUR",
        "outputId": "5582232a-e72e-42a2-d285-a4f7937a4727"
      },
      "execution_count": 52,
      "outputs": [
        {
          "output_type": "execute_result",
          "data": {
            "text/plain": [
              "array(['mean radius', 'mean texture', 'mean perimeter', 'mean area',\n",
              "       'mean smoothness', 'mean compactness', 'mean concavity',\n",
              "       'mean concave points', 'mean symmetry', 'mean fractal dimension',\n",
              "       'radius error', 'texture error', 'perimeter error', 'area error',\n",
              "       'smoothness error', 'compactness error', 'concavity error',\n",
              "       'concave points error', 'symmetry error',\n",
              "       'fractal dimension error', 'worst radius', 'worst texture',\n",
              "       'worst perimeter', 'worst area', 'worst smoothness',\n",
              "       'worst compactness', 'worst concavity', 'worst concave points',\n",
              "       'worst symmetry', 'worst fractal dimension'], dtype='<U23')"
            ]
          },
          "metadata": {},
          "execution_count": 52
        }
      ]
    },
    {
      "cell_type": "code",
      "source": [
        "# creating one z3 variable for each feature in the dataset\n",
        "dict_vars = {}\n",
        "for feature in cancer.feature_names:\n",
        "  dict_vars[feature] = Real(feature)"
      ],
      "metadata": {
        "id": "sQIigP4X8dEo"
      },
      "execution_count": 53,
      "outputs": []
    },
    {
      "cell_type": "code",
      "source": [
        "dict_vars"
      ],
      "metadata": {
        "id": "y_kB5GoX8vZR",
        "colab": {
          "base_uri": "https://localhost:8080/"
        },
        "outputId": "17da3792-8045-464b-e453-46ed4ad1b1a7"
      },
      "execution_count": 54,
      "outputs": [
        {
          "output_type": "execute_result",
          "data": {
            "text/plain": [
              "{'area error': area error,\n",
              " 'compactness error': compactness error,\n",
              " 'concave points error': concave points error,\n",
              " 'concavity error': concavity error,\n",
              " 'fractal dimension error': fractal dimension error,\n",
              " 'mean area': mean area,\n",
              " 'mean compactness': mean compactness,\n",
              " 'mean concave points': mean concave points,\n",
              " 'mean concavity': mean concavity,\n",
              " 'mean fractal dimension': mean fractal dimension,\n",
              " 'mean perimeter': mean perimeter,\n",
              " 'mean radius': mean radius,\n",
              " 'mean smoothness': mean smoothness,\n",
              " 'mean symmetry': mean symmetry,\n",
              " 'mean texture': mean texture,\n",
              " 'perimeter error': perimeter error,\n",
              " 'radius error': radius error,\n",
              " 'smoothness error': smoothness error,\n",
              " 'symmetry error': symmetry error,\n",
              " 'texture error': texture error,\n",
              " 'worst area': worst area,\n",
              " 'worst compactness': worst compactness,\n",
              " 'worst concave points': worst concave points,\n",
              " 'worst concavity': worst concavity,\n",
              " 'worst fractal dimension': worst fractal dimension,\n",
              " 'worst perimeter': worst perimeter,\n",
              " 'worst radius': worst radius,\n",
              " 'worst smoothness': worst smoothness,\n",
              " 'worst symmetry': worst symmetry,\n",
              " 'worst texture': worst texture}"
            ]
          },
          "metadata": {},
          "execution_count": 54
        }
      ]
    },
    {
      "cell_type": "code",
      "source": [
        "dict_vars['area error']"
      ],
      "metadata": {
        "colab": {
          "base_uri": "https://localhost:8080/",
          "height": 34
        },
        "id": "cDSyoSfz82xP",
        "outputId": "ff0a744f-60ed-4e0b-a323-35db749a8cf8"
      },
      "execution_count": 55,
      "outputs": [
        {
          "output_type": "execute_result",
          "data": {
            "text/plain": [
              "area error"
            ],
            "text/html": [
              "area error"
            ]
          },
          "metadata": {},
          "execution_count": 55
        }
      ]
    },
    {
      "cell_type": "code",
      "source": [
        "constraints = Solver()"
      ],
      "metadata": {
        "id": "XUhh8ue288S5"
      },
      "execution_count": 56,
      "outputs": []
    },
    {
      "cell_type": "code",
      "source": [
        "constraints.add(dict_vars['area error'] > 2)\n",
        "constraints.add(dict_vars['compactness error'] < 10)\n",
        "constraints.add(dict_vars['compactness error'] > 2)\n",
        "constraints.add(dict_vars['area error'] * dict_vars['compactness error'] == 27)"
      ],
      "metadata": {
        "id": "IW9W4Wfz9NpR"
      },
      "execution_count": 57,
      "outputs": []
    },
    {
      "cell_type": "code",
      "source": [
        "constraints.check()"
      ],
      "metadata": {
        "colab": {
          "base_uri": "https://localhost:8080/",
          "height": 34
        },
        "id": "Dmc-EKO_9THh",
        "outputId": "63126b92-bfc0-4387-fd8c-5694285d9a49"
      },
      "execution_count": 58,
      "outputs": [
        {
          "output_type": "execute_result",
          "data": {
            "text/plain": [
              "sat"
            ],
            "text/html": [
              "<b>sat</b>"
            ]
          },
          "metadata": {},
          "execution_count": 58
        }
      ]
    },
    {
      "cell_type": "code",
      "source": [
        "constraints.model()"
      ],
      "metadata": {
        "colab": {
          "base_uri": "https://localhost:8080/",
          "height": 34
        },
        "id": "cTxa46uA9Vq0",
        "outputId": "47035649-5d8f-48aa-cb62-26e8578b774b"
      },
      "execution_count": 59,
      "outputs": [
        {
          "output_type": "execute_result",
          "data": {
            "text/plain": [
              "[compactness error = 3, area error = 9]"
            ],
            "text/html": [
              "[compactness error = 3, area error = 9]"
            ]
          },
          "metadata": {},
          "execution_count": 59
        }
      ]
    },
    {
      "cell_type": "markdown",
      "source": [
        "Implementing SVM function for Z3 Solver"
      ],
      "metadata": {
        "id": "YkcUd3eZ9wQx"
      }
    },
    {
      "cell_type": "code",
      "source": [
        "X_train.shape"
      ],
      "metadata": {
        "colab": {
          "base_uri": "https://localhost:8080/"
        },
        "id": "kI-7krBtJfw0",
        "outputId": "b4bb4cfe-19e8-4acd-aca8-b5ff8deecbbd"
      },
      "execution_count": 60,
      "outputs": [
        {
          "output_type": "execute_result",
          "data": {
            "text/plain": [
              "(398, 30)"
            ]
          },
          "metadata": {},
          "execution_count": 60
        }
      ]
    },
    {
      "cell_type": "code",
      "source": [
        "#SVM Decision Function answer for the first element of training set and the actual first element\n",
        "((clf.dual_coef_ @ clf.support_vectors_) @ X_train[0].reshape(1, len(X_train[0])).T + clf.intercept_), decfun[0]"
      ],
      "metadata": {
        "colab": {
          "base_uri": "https://localhost:8080/"
        },
        "id": "pw55j6ax92Dh",
        "outputId": "fa3f5e8d-94d0-4d38-88ba-c4c4a86f05d0"
      },
      "execution_count": 61,
      "outputs": [
        {
          "output_type": "execute_result",
          "data": {
            "text/plain": [
              "(array([[0.4860783]]), 0.48607829979011474)"
            ]
          },
          "metadata": {},
          "execution_count": 61
        }
      ]
    },
    {
      "cell_type": "code",
      "source": [
        "clf.dual_coef_.shape,clf.support_vectors_.shape,X_train[0].reshape(1, len(X_train[0])).T.shape, clf.intercept_"
      ],
      "metadata": {
        "colab": {
          "base_uri": "https://localhost:8080/"
        },
        "id": "e757esoXMVBI",
        "outputId": "06daaa62-c0fd-4feb-b41b-4322f71de9ca"
      },
      "execution_count": 62,
      "outputs": [
        {
          "output_type": "execute_result",
          "data": {
            "text/plain": [
              "((1, 194), (194, 30), (30, 1), array([2.37655531]))"
            ]
          },
          "metadata": {},
          "execution_count": 62
        }
      ]
    },
    {
      "cell_type": "code",
      "source": [
        "#SVM Decision Function answer for all elements of training set\n",
        "for i in range(0,X_train.shape[0]):\n",
        "  #print(i, ' : ',((clf.dual_coef_ @ clf.support_vectors_) @ X_train[i].reshape(1, len(X_train[0])).T + clf.intercept_))\n",
        "  pass"
      ],
      "metadata": {
        "id": "kr_KQes7JvGQ"
      },
      "execution_count": 63,
      "outputs": []
    },
    {
      "cell_type": "markdown",
      "source": [
        "To z3"
      ],
      "metadata": {
        "id": "aPEG_psPOvSa"
      }
    },
    {
      "cell_type": "code",
      "source": [
        "np.RealVal = np.vectorize(RealVal) # simple mapping of functions over a vector\n",
        "np.RealVector = np.vectorize(RealVector) "
      ],
      "metadata": {
        "id": "w-0pfke3PD9v"
      },
      "execution_count": 64,
      "outputs": []
    },
    {
      "cell_type": "code",
      "source": [
        "test_real = Real('X_train')"
      ],
      "metadata": {
        "id": "8LYiFbjfLc-5"
      },
      "execution_count": 65,
      "outputs": []
    },
    {
      "cell_type": "code",
      "source": [
        "test_real"
      ],
      "metadata": {
        "colab": {
          "base_uri": "https://localhost:8080/",
          "height": 34
        },
        "id": "T3vPemeXLvGr",
        "outputId": "1276eadd-25b5-463a-fadf-97e84123ed8f"
      },
      "execution_count": 66,
      "outputs": [
        {
          "output_type": "execute_result",
          "data": {
            "text/plain": [
              "X_train"
            ],
            "text/html": [
              "X_train"
            ]
          },
          "metadata": {},
          "execution_count": 66
        }
      ]
    },
    {
      "cell_type": "code",
      "source": [
        "z3_dual_coef = np.RealVal(clf.dual_coef_)\n",
        "z3_support_vectors = np.RealVal(clf.support_vectors_)\n",
        "z3_X_Train = np.RealVal(X_train)\n",
        "z3_intercept_ = np.RealVal(clf.intercept_)"
      ],
      "metadata": {
        "id": "kSWV7jA7Ox39"
      },
      "execution_count": 67,
      "outputs": []
    },
    {
      "cell_type": "code",
      "source": [
        "#O Z3 possui um problema de arredondamento (Floating Point) e não consegue chegar ao valor exato da função de decisão, mas até a oitava casa.\n",
        "first_element = ((clf.dual_coef_ @ clf.support_vectors_) @ X_train[0].reshape(1, len(X_train[0])).T + clf.intercept_)[0][0]\n",
        "prove(((z3_dual_coef @ z3_support_vectors) @ z3_X_Train[0].reshape(1, len(z3_X_Train[0])).T + z3_intercept_)[0][0] <= first_element)\n",
        "prove(((z3_dual_coef @ z3_support_vectors) @ z3_X_Train[0].reshape(1, len(z3_X_Train[0])).T + z3_intercept_)[0][0] == first_element)\n",
        "first_element"
      ],
      "metadata": {
        "colab": {
          "base_uri": "https://localhost:8080/"
        },
        "id": "YpkekSSpQWAC",
        "outputId": "79f7975f-1dcf-4b6a-a10e-bf820dc26e17"
      },
      "execution_count": 68,
      "outputs": [
        {
          "output_type": "stream",
          "name": "stdout",
          "text": [
            "proved\n",
            "counterexample\n",
            "[]\n"
          ]
        },
        {
          "output_type": "execute_result",
          "data": {
            "text/plain": [
              "0.4860782997901181"
            ]
          },
          "metadata": {},
          "execution_count": 68
        }
      ]
    },
    {
      "cell_type": "code",
      "source": [
        "expression = simplify (((z3_dual_coef @ z3_support_vectors) @ z3_X_Train[0].reshape(1, len(z3_X_Train[0])).T + z3_intercept_)[0][0])\n",
        "expression"
      ],
      "metadata": {
        "colab": {
          "base_uri": "https://localhost:8080/",
          "height": 34
        },
        "id": "H8vJ3ozex4Cg",
        "outputId": "56ab5e20-2330-4236-f208-807c4d78b5ee"
      },
      "execution_count": 69,
      "outputs": [
        {
          "output_type": "execute_result",
          "data": {
            "text/plain": [
              "75949734342205826030133587979307173778749138185601332274243/156250000000000000000000000000000000000000000000000000000000"
            ],
            "text/html": [
              "75949734342205826030133587979307173778749138185601332274243/156250000000000000000000000000000000000000000000000000000000"
            ]
          },
          "metadata": {},
          "execution_count": 69
        }
      ]
    },
    {
      "cell_type": "code",
      "source": [
        "expression.numerator_as_long()/expression.denominator_as_long()"
      ],
      "metadata": {
        "colab": {
          "base_uri": "https://localhost:8080/"
        },
        "id": "9TjiAM5LyY17",
        "outputId": "66456065-09e1-4d63-ffd0-b850cfc8137e"
      },
      "execution_count": 70,
      "outputs": [
        {
          "output_type": "execute_result",
          "data": {
            "text/plain": [
              "0.4860782997901173"
            ]
          },
          "metadata": {},
          "execution_count": 70
        }
      ]
    },
    {
      "cell_type": "code",
      "source": [
        "get_decimal = float(\"{0:.9f}\".format(expression.numerator_as_long()/expression.denominator_as_long()))\n",
        "get_decimal"
      ],
      "metadata": {
        "colab": {
          "base_uri": "https://localhost:8080/"
        },
        "id": "IEkuO1Pj3v9K",
        "outputId": "45801598-d0cb-4c0f-c12d-1eae01cc749f"
      },
      "execution_count": 71,
      "outputs": [
        {
          "output_type": "execute_result",
          "data": {
            "text/plain": [
              "0.4860783"
            ]
          },
          "metadata": {},
          "execution_count": 71
        }
      ]
    },
    {
      "cell_type": "code",
      "source": [
        "clf.intercept_[0],z3_intercept_[0],z3_intercept_[0].numerator_as_long()/z3_intercept_[0].denominator_as_long()"
      ],
      "metadata": {
        "colab": {
          "base_uri": "https://localhost:8080/"
        },
        "id": "Q27bAdm4UBOm",
        "outputId": "880240c2-10ab-4a59-d9ec-44b1cd08b571"
      },
      "execution_count": 72,
      "outputs": [
        {
          "output_type": "execute_result",
          "data": {
            "text/plain": [
              "(2.376555312080476, 594138828020119/250000000000000, 2.376555312080476)"
            ]
          },
          "metadata": {},
          "execution_count": 72
        }
      ]
    },
    {
      "cell_type": "code",
      "source": [
        "rejected_indexes = np.where((decfun < dict_reject['T1'][0]) & (decfun >= dict_reject['T2'][0]))\n",
        "decfun[rejected_indexes[0]]"
      ],
      "metadata": {
        "colab": {
          "base_uri": "https://localhost:8080/"
        },
        "id": "awRiR9KqtL45",
        "outputId": "425c332c-fdd3-434d-b272-a6abd7ff7f3a"
      },
      "execution_count": 73,
      "outputs": [
        {
          "output_type": "execute_result",
          "data": {
            "text/plain": [
              "array([-0.03581548,  0.00658618, -0.01019755, -0.01446095, -0.0559994 ,\n",
              "       -0.01857772])"
            ]
          },
          "metadata": {},
          "execution_count": 73
        }
      ]
    },
    {
      "cell_type": "code",
      "source": [
        "for index in rejected_indexes[0]:\n",
        "  expression = simplify (((z3_dual_coef @ z3_support_vectors) @ z3_X_Train[index].reshape(1, len(z3_X_Train[index])).T + z3_intercept_)[0][0])\n",
        "  expression = expression.numerator_as_long()/expression.denominator_as_long()\n",
        "  \n",
        "  print(expression, decfun[index], abs(abs(expression) - abs(decfun[index])))\n",
        "  #expression = round(expression,6)\n",
        "  #decfun_value = round(decfun[index],6)\n",
        "  #print(expression, decfun_value, abs(abs(expression) - abs(decfun_value)))"
      ],
      "metadata": {
        "id": "0vbVWt0gtpeH",
        "colab": {
          "base_uri": "https://localhost:8080/"
        },
        "outputId": "84a28ee5-660e-4327-a67b-8990d89374b0"
      },
      "execution_count": 74,
      "outputs": [
        {
          "output_type": "stream",
          "name": "stdout",
          "text": [
            "-0.03581548287200886 -0.03581548287201608 7.223388553967425e-15\n",
            "0.006586180171712148 0.006586180171711309 8.387388006347862e-16\n",
            "-0.010197551125943206 -0.010197551125936233 6.9735883734267645e-15\n",
            "-0.01446094738111508 -0.014460947381113698 1.3825746103535153e-15\n",
            "-0.05599939940330402 -0.055999399403302785 1.2351231148954867e-15\n",
            "-0.01857772256331143 -0.018577722563308807 2.6229018956769323e-15\n"
          ]
        }
      ]
    },
    {
      "cell_type": "markdown",
      "source": [
        "Implemeting Solver's Restrictions"
      ],
      "metadata": {
        "id": "w7mS-eFz9tAO"
      }
    },
    {
      "cell_type": "code",
      "source": [
        "solver = Solver()"
      ],
      "metadata": {
        "id": "Rj4IAdRkHh9Y"
      },
      "execution_count": 75,
      "outputs": []
    },
    {
      "cell_type": "code",
      "source": [
        "z3_X_Train[rejected_indexes[0][0]]"
      ],
      "metadata": {
        "colab": {
          "base_uri": "https://localhost:8080/"
        },
        "id": "-8ZQnUVw-OS4",
        "outputId": "3e1fcf8c-a33c-47c5-f5c8-a85d2e452a22"
      },
      "execution_count": 76,
      "outputs": [
        {
          "output_type": "execute_result",
          "data": {
            "text/plain": [
              "array([690173953925717/200000000000000000,\n",
              "       23660084626234133/5000000000000000000,\n",
              "       22270803949224257/1000000000000000000,\n",
              "       8045369064409967/50000000000000000,\n",
              "       2899330042313117/125000000000000000000,\n",
              "       8462623413258109/500000000000000000000,\n",
              "       17383638928067703/1000000000000000000000,\n",
              "       2472496473906911/200000000000000000000,\n",
              "       1864127879642689/50000000000000000000,\n",
              "       1740126939351199/125000000000000000000,\n",
              "       277797367183827/2500000000000000000,\n",
              "       1457451810061119/5000000000000000000,\n",
              "       1877644569816643/2500000000000000000,\n",
              "       266807710390221/25000000000000000,\n",
              "       3360366713681241/2500000000000000000000,\n",
              "       5463093559003291/2000000000000000000000,\n",
              "       1174188998589563/250000000000000000000,\n",
              "       6517395392571697/2500000000000000000000,\n",
              "       3314527503526093/1000000000000000000000,\n",
              "       4901269393511989/10000000000000000000000,\n",
              "       8965679360601787/2000000000000000000,\n",
              "       3629525152797367/500000000000000000,\n",
              "       362599905970851/12500000000000000,\n",
              "       5350258580159849/20000000000000000,\n",
              "       688293370944993/20000000000000000000,\n",
              "       549776680771039/12500000000000000000,\n",
              "       3425011753643629/50000000000000000000,\n",
              "       1891161259990597/50000000000000000000,\n",
              "       3560178655383169/50000000000000000000,\n",
              "       1931358721203573/100000000000000000000], dtype=object)"
            ]
          },
          "metadata": {},
          "execution_count": 76
        }
      ]
    },
    {
      "cell_type": "markdown",
      "source": [
        "First Element on Z3 Decision Function"
      ],
      "metadata": {
        "id": "XvhIKaB3fSBv"
      }
    },
    {
      "cell_type": "code",
      "source": [
        "first_element = ((clf.dual_coef_ @ clf.support_vectors_) @ X_train[0].reshape(1, len(X_train[0])).T + clf.intercept_)[0][0]\n",
        "first_element"
      ],
      "metadata": {
        "colab": {
          "base_uri": "https://localhost:8080/"
        },
        "id": "jFfU3aDQjir_",
        "outputId": "2e6064a4-8561-4bf5-c9fc-fd523692af5b"
      },
      "execution_count": 77,
      "outputs": [
        {
          "output_type": "execute_result",
          "data": {
            "text/plain": [
              "0.4860782997901181"
            ]
          },
          "metadata": {},
          "execution_count": 77
        }
      ]
    },
    {
      "cell_type": "code",
      "source": [
        "np.RealVal = np.vectorize(RealVal) \n",
        "np.RealVector = np.vectorize(RealVector) "
      ],
      "metadata": {
        "id": "8iDd2odTfUb-"
      },
      "execution_count": 78,
      "outputs": []
    },
    {
      "cell_type": "code",
      "source": [
        "z3_dual_coef = np.RealVal(clf.dual_coef_)\n",
        "z3_support_vectors = np.RealVal(clf.support_vectors_)\n",
        "z3_X_Train = np.RealVal(X_train)\n",
        "z3_intercept_ = np.RealVal(clf.intercept_)"
      ],
      "metadata": {
        "id": "8knRyfgnmO2Q"
      },
      "execution_count": 79,
      "outputs": []
    },
    {
      "cell_type": "code",
      "source": [
        "prove(((z3_dual_coef @ z3_support_vectors) @ z3_X_Train[0].reshape(1, len(z3_X_Train[0])).T + z3_intercept_)[0][0] <= first_element)"
      ],
      "metadata": {
        "colab": {
          "base_uri": "https://localhost:8080/"
        },
        "id": "raJaeXQ7krsY",
        "outputId": "7f60b6cc-168c-4c38-8110-a7f2f812ea03"
      },
      "execution_count": 80,
      "outputs": [
        {
          "output_type": "stream",
          "name": "stdout",
          "text": [
            "proved\n"
          ]
        }
      ]
    },
    {
      "cell_type": "code",
      "source": [
        "X_train[0].shape"
      ],
      "metadata": {
        "colab": {
          "base_uri": "https://localhost:8080/"
        },
        "id": "b_SmLcI7ucyX",
        "outputId": "361661ed-f8c4-479f-f4a2-c38da2d9dd3c"
      },
      "execution_count": 81,
      "outputs": [
        {
          "output_type": "execute_result",
          "data": {
            "text/plain": [
              "(30,)"
            ]
          },
          "metadata": {},
          "execution_count": 81
        }
      ]
    },
    {
      "cell_type": "code",
      "source": [
        "#X_train_t = X_train[0].reshape(1, len(X_train[0])).T"
      ],
      "metadata": {
        "id": "a1RzFZFKgTbM"
      },
      "execution_count": 82,
      "outputs": []
    },
    {
      "cell_type": "code",
      "source": [
        "((clf.dual_coef_ @ clf.support_vectors_) @ X_train[0].reshape(1, len(X_train[0])).T + clf.intercept_)[0][0], first_element"
      ],
      "metadata": {
        "colab": {
          "base_uri": "https://localhost:8080/"
        },
        "id": "K0J-Bwdif7Sg",
        "outputId": "8c70c416-df32-4f02-8c88-f9d44784ea5a"
      },
      "execution_count": 83,
      "outputs": [
        {
          "output_type": "execute_result",
          "data": {
            "text/plain": [
              "(0.4860782997901181, 0.4860782997901181)"
            ]
          },
          "metadata": {},
          "execution_count": 83
        }
      ]
    },
    {
      "cell_type": "code",
      "source": [
        "X_train_2 = X_train[0]\n",
        "X_train_2[0] = 2"
      ],
      "metadata": {
        "id": "fTmHvNauyCGM"
      },
      "execution_count": 84,
      "outputs": []
    },
    {
      "cell_type": "code",
      "source": [
        "expressao = simplify (((z3_dual_coef @ z3_support_vectors) @ X_train_2.reshape(1, len(X_train_2)).T + z3_intercept_)[0][0])"
      ],
      "metadata": {
        "id": "qhQBgqhTyO_S"
      },
      "execution_count": 85,
      "outputs": []
    },
    {
      "cell_type": "code",
      "source": [
        "expressao.numerator_as_long()/expressao.denominator_as_long()"
      ],
      "metadata": {
        "colab": {
          "base_uri": "https://localhost:8080/"
        },
        "id": "yv5-xd8Vyhoz",
        "outputId": "b94538dc-ef59-4a9a-c79a-6103f959ecaf"
      },
      "execution_count": 86,
      "outputs": [
        {
          "output_type": "execute_result",
          "data": {
            "text/plain": [
              "0.41895589068639616"
            ]
          },
          "metadata": {},
          "execution_count": 86
        }
      ]
    },
    {
      "cell_type": "code",
      "source": [
        "prove(((z3_dual_coef @ z3_support_vectors) @ X_train[0].reshape(1, len(X_train[0])).T + z3_intercept_)[0][0] <= first_element)"
      ],
      "metadata": {
        "colab": {
          "base_uri": "https://localhost:8080/"
        },
        "id": "TFdwm35AjtVu",
        "outputId": "7448ba97-00b2-4f7d-83f0-533185455208"
      },
      "execution_count": 87,
      "outputs": [
        {
          "output_type": "stream",
          "name": "stdout",
          "text": [
            "proved\n"
          ]
        }
      ]
    },
    {
      "cell_type": "code",
      "source": [
        "for i in range (0, len(X_train[0])):\n",
        "  print('solver.add(z3_X_Train[',i,'] == X_train[0][',i,']')"
      ],
      "metadata": {
        "id": "9QKto5OQhCsE",
        "colab": {
          "base_uri": "https://localhost:8080/"
        },
        "outputId": "f92d0c64-7850-4037-9b6b-c7a075b8f6b4"
      },
      "execution_count": 88,
      "outputs": [
        {
          "output_type": "stream",
          "name": "stdout",
          "text": [
            "solver.add(z3_X_Train[ 0 ] == X_train[0][ 0 ]\n",
            "solver.add(z3_X_Train[ 1 ] == X_train[0][ 1 ]\n",
            "solver.add(z3_X_Train[ 2 ] == X_train[0][ 2 ]\n",
            "solver.add(z3_X_Train[ 3 ] == X_train[0][ 3 ]\n",
            "solver.add(z3_X_Train[ 4 ] == X_train[0][ 4 ]\n",
            "solver.add(z3_X_Train[ 5 ] == X_train[0][ 5 ]\n",
            "solver.add(z3_X_Train[ 6 ] == X_train[0][ 6 ]\n",
            "solver.add(z3_X_Train[ 7 ] == X_train[0][ 7 ]\n",
            "solver.add(z3_X_Train[ 8 ] == X_train[0][ 8 ]\n",
            "solver.add(z3_X_Train[ 9 ] == X_train[0][ 9 ]\n",
            "solver.add(z3_X_Train[ 10 ] == X_train[0][ 10 ]\n",
            "solver.add(z3_X_Train[ 11 ] == X_train[0][ 11 ]\n",
            "solver.add(z3_X_Train[ 12 ] == X_train[0][ 12 ]\n",
            "solver.add(z3_X_Train[ 13 ] == X_train[0][ 13 ]\n",
            "solver.add(z3_X_Train[ 14 ] == X_train[0][ 14 ]\n",
            "solver.add(z3_X_Train[ 15 ] == X_train[0][ 15 ]\n",
            "solver.add(z3_X_Train[ 16 ] == X_train[0][ 16 ]\n",
            "solver.add(z3_X_Train[ 17 ] == X_train[0][ 17 ]\n",
            "solver.add(z3_X_Train[ 18 ] == X_train[0][ 18 ]\n",
            "solver.add(z3_X_Train[ 19 ] == X_train[0][ 19 ]\n",
            "solver.add(z3_X_Train[ 20 ] == X_train[0][ 20 ]\n",
            "solver.add(z3_X_Train[ 21 ] == X_train[0][ 21 ]\n",
            "solver.add(z3_X_Train[ 22 ] == X_train[0][ 22 ]\n",
            "solver.add(z3_X_Train[ 23 ] == X_train[0][ 23 ]\n",
            "solver.add(z3_X_Train[ 24 ] == X_train[0][ 24 ]\n",
            "solver.add(z3_X_Train[ 25 ] == X_train[0][ 25 ]\n",
            "solver.add(z3_X_Train[ 26 ] == X_train[0][ 26 ]\n",
            "solver.add(z3_X_Train[ 27 ] == X_train[0][ 27 ]\n",
            "solver.add(z3_X_Train[ 28 ] == X_train[0][ 28 ]\n",
            "solver.add(z3_X_Train[ 29 ] == X_train[0][ 29 ]\n"
          ]
        }
      ]
    },
    {
      "cell_type": "code",
      "source": [
        "z3_X_Train = np.RealVector('x',X_train.shape[1])\n",
        "z3_X_Train,z3_X_Train[0]"
      ],
      "metadata": {
        "colab": {
          "base_uri": "https://localhost:8080/"
        },
        "id": "lFcyKpTafZjH",
        "outputId": "3d575463-e2b9-4678-8459-bd8f151ea7c9"
      },
      "execution_count": 89,
      "outputs": [
        {
          "output_type": "execute_result",
          "data": {
            "text/plain": [
              "(array([x__0, x__1, x__2, x__3, x__4, x__5, x__6, x__7, x__8, x__9, x__10,\n",
              "        x__11, x__12, x__13, x__14, x__15, x__16, x__17, x__18, x__19,\n",
              "        x__20, x__21, x__22, x__23, x__24, x__25, x__26, x__27, x__28,\n",
              "        x__29], dtype=object), x__0)"
            ]
          },
          "metadata": {},
          "execution_count": 89
        }
      ]
    },
    {
      "cell_type": "code",
      "source": [
        "z3_X_Train[:3] @ z3_X_Train[:3]"
      ],
      "metadata": {
        "colab": {
          "base_uri": "https://localhost:8080/",
          "height": 36
        },
        "id": "C0CGyFIio14_",
        "outputId": "3dc416d8-9810-434d-b57b-f44066bdc2aa"
      },
      "execution_count": 90,
      "outputs": [
        {
          "output_type": "execute_result",
          "data": {
            "text/plain": [
              "x__0*x__0 + x__1*x__1 + x__2*x__2"
            ],
            "text/html": [
              "x<sub>0</sub>&middot;x<sub>0</sub> + x<sub>1</sub>&middot;x<sub>1</sub> + x<sub>2</sub>&middot;x<sub>2</sub>"
            ]
          },
          "metadata": {},
          "execution_count": 90
        }
      ]
    },
    {
      "cell_type": "code",
      "source": [
        "X_train[0]"
      ],
      "metadata": {
        "colab": {
          "base_uri": "https://localhost:8080/"
        },
        "id": "DzpbjYhnvW2N",
        "outputId": "8d3ba007-c49f-42b4-e1d1-1c2441c129e1"
      },
      "execution_count": 91,
      "outputs": [
        {
          "output_type": "execute_result",
          "data": {
            "text/plain": [
              "array([2.00000000e+00, 5.97555242e-03, 2.22614010e-02, 1.57169723e-01,\n",
              "       1.94522802e-05, 1.69581570e-05, 9.64974142e-06, 7.11565585e-06,\n",
              "       4.32534086e-05, 1.33521392e-05, 7.12505877e-05, 3.25575929e-04,\n",
              "       5.11753644e-04, 6.44334744e-03, 1.12247297e-06, 2.75505407e-06,\n",
              "       4.57686883e-06, 2.98307475e-06, 4.39586272e-06, 6.17301363e-07,\n",
              "       3.88105313e-03, 7.59050306e-03, 2.52468265e-02, 1.94264222e-01,\n",
              "       2.49177245e-05, 3.23460273e-05, 3.78702398e-05, 2.57404795e-05,\n",
              "       6.39868359e-05, 1.63516690e-05])"
            ]
          },
          "metadata": {},
          "execution_count": 91
        }
      ]
    },
    {
      "cell_type": "code",
      "source": [
        "solver = Solver()\n",
        "\n",
        "#solver.add(z3_X_Train[0] > -5)\n",
        "#solver.add(z3_X_Train[0] < 0)\n",
        "solver.add(z3_X_Train[1] == X_train[0][1])\n",
        "solver.add(z3_X_Train[2] == X_train[0][2])\n",
        "solver.add(z3_X_Train[3] == X_train[0][3])\n",
        "solver.add(z3_X_Train[4] == X_train[0][4])\n",
        "solver.add(z3_X_Train[5] == X_train[0][5])\n",
        "solver.add(z3_X_Train[6] == X_train[0][6])\n",
        "solver.add(z3_X_Train[7] == X_train[0][7])\n",
        "solver.add(z3_X_Train[8] == X_train[0][8])\n",
        "solver.add(z3_X_Train[9] == X_train[0][9])\n",
        "solver.add(z3_X_Train[10] == X_train[0][10])\n",
        "solver.add(z3_X_Train[11] == X_train[0][11])\n",
        "solver.add(z3_X_Train[12] == X_train[0][12])\n",
        "solver.add(z3_X_Train[13] == X_train[0][13])\n",
        "solver.add(z3_X_Train[14] == X_train[0][14])\n",
        "solver.add(z3_X_Train[15] == X_train[0][15])\n",
        "solver.add(z3_X_Train[16] == X_train[0][16])\n",
        "solver.add(z3_X_Train[17] == X_train[0][17])\n",
        "solver.add(z3_X_Train[18] == X_train[0][18])\n",
        "solver.add(z3_X_Train[19] == X_train[0][19])\n",
        "solver.add(z3_X_Train[20] == X_train[0][20])\n",
        "solver.add(z3_X_Train[21] == X_train[0][21])\n",
        "solver.add(z3_X_Train[22] == X_train[0][22])\n",
        "solver.add(z3_X_Train[23] == X_train[0][23])\n",
        "solver.add(z3_X_Train[24] == X_train[0][24])\n",
        "solver.add(z3_X_Train[25] == X_train[0][25])\n",
        "solver.add(z3_X_Train[26] == X_train[0][26])\n",
        "solver.add(z3_X_Train[27] == X_train[0][27])\n",
        "solver.add(z3_X_Train[28] == X_train[0][28])\n",
        "solver.add(z3_X_Train[29] == X_train[0][29])"
      ],
      "metadata": {
        "id": "QL7qMZxTgvR7"
      },
      "execution_count": 92,
      "outputs": []
    },
    {
      "cell_type": "code",
      "source": [
        "first_element"
      ],
      "metadata": {
        "colab": {
          "base_uri": "https://localhost:8080/"
        },
        "id": "xqS1WroYxh-m",
        "outputId": "5c08ba1d-e0e7-408f-fa0e-61604ca49fc1"
      },
      "execution_count": 93,
      "outputs": [
        {
          "output_type": "execute_result",
          "data": {
            "text/plain": [
              "0.4860782997901181"
            ]
          },
          "metadata": {},
          "execution_count": 93
        }
      ]
    },
    {
      "cell_type": "code",
      "source": [
        "solver.add(((z3_dual_coef @ z3_support_vectors) @ z3_X_Train.reshape(1, len(z3_X_Train)).T + z3_intercept_)[0][0] < 0)"
      ],
      "metadata": {
        "id": "gbObmBi5l-AZ"
      },
      "execution_count": 94,
      "outputs": []
    },
    {
      "cell_type": "code",
      "source": [
        "solver.check(), solver.model()"
      ],
      "metadata": {
        "colab": {
          "base_uri": "https://localhost:8080/"
        },
        "id": "EKljttutqNdO",
        "outputId": "a605784e-88b5-4ace-aab1-79243f667d09"
      },
      "execution_count": 95,
      "outputs": [
        {
          "output_type": "execute_result",
          "data": {
            "text/plain": [
              "(sat, [x__16 = 915373765867419/200000000000000000000,\n",
              "  x__4 = 1945228020686413/100000000000000000000,\n",
              "  x__20 = 1940526563234603/500000000000000000,\n",
              "  x__21 = 7590503055947343/1000000000000000000,\n",
              "  x__15 = 344381758345087/125000000000000000000,\n",
              "  x__6 = 9649741419840151/1000000000000000000000,\n",
              "  x__23 = 4856605547719793/25000000000000000,\n",
              "  x__2 = 17391719558063/781250000000000,\n",
              "  x__19 = 6173013634226609/10000000000000000000000,\n",
              "  x__13 = 6443347437705689/1000000000000000000,\n",
              "  x__14 = 280618241654913/250000000000000000000,\n",
              "  x__10 = 7125058768218147/100000000000000000000,\n",
              "  x__1 = 1493888105312647/250000000000000000,\n",
              "  x__9 = 6676069581570287/500000000000000000000,\n",
              "  x__24 = 622943112364833/25000000000000000000,\n",
              "  x__11 = 1302303714151387/4000000000000000000,\n",
              "  x__8 = 540667606958157/12500000000000000000,\n",
              "  x__5 = 1695815702867889/100000000000000000000,\n",
              "  x__22 = 2524682651622003/100000000000000000,\n",
              "  x__26 = 946755994358251/25000000000000000000,\n",
              "  x__27 = 6435119887165021/250000000000000000000,\n",
              "  x__0 = 9024552780006731044284730096537822455706480263835981773527/583671003715229027342209286163416875000000000000000000000,\n",
              "  x__25 = 1617301363422661/50000000000000000000,\n",
              "  x__3 = 3143394452280207/20000000000000000,\n",
              "  x__12 = 1279384109073813/2500000000000000000,\n",
              "  x__28 = 6398683591913493/100000000000000000000,\n",
              "  x__7 = 7115655853314527/1000000000000000000000,\n",
              "  x__18 = 549482839680301/125000000000000000000,\n",
              "  x__29 = 8175834508697697/500000000000000000000,\n",
              "  x__17 = 745768688293371/250000000000000000000])"
            ]
          },
          "metadata": {},
          "execution_count": 95
        }
      ]
    },
    {
      "cell_type": "markdown",
      "source": [
        "Z3 with Reject Option"
      ],
      "metadata": {
        "id": "it9FGkScC0p_"
      }
    },
    {
      "cell_type": "code",
      "source": [
        "X_train.shape[1]"
      ],
      "metadata": {
        "colab": {
          "base_uri": "https://localhost:8080/"
        },
        "id": "gWA2UhJ9DNfs",
        "outputId": "eacb6ab1-2da9-4b7a-86e5-e6e53e870a36"
      },
      "execution_count": 96,
      "outputs": [
        {
          "output_type": "execute_result",
          "data": {
            "text/plain": [
              "30"
            ]
          },
          "metadata": {},
          "execution_count": 96
        }
      ]
    },
    {
      "cell_type": "code",
      "source": [
        "t1 = 0.03069242520015834\n",
        "t2 = -0.22086343489508029"
      ],
      "metadata": {
        "id": "HjfL1RUnEyhZ"
      },
      "execution_count": 97,
      "outputs": []
    },
    {
      "cell_type": "code",
      "source": [
        "rejected_indexes,rejected_indexes[0][0], rejected_indexes[0].shape, len(rejected_indexes[0])"
      ],
      "metadata": {
        "colab": {
          "base_uri": "https://localhost:8080/"
        },
        "id": "LiirFQCGFJeu",
        "outputId": "fbb75a5e-2fc1-4206-941f-f9e6d0c9efca"
      },
      "execution_count": 98,
      "outputs": [
        {
          "output_type": "execute_result",
          "data": {
            "text/plain": [
              "((array([ 35,  74,  76, 193, 227, 265]),), 35, (6,), 6)"
            ]
          },
          "metadata": {},
          "execution_count": 98
        }
      ]
    },
    {
      "cell_type": "code",
      "source": [
        "rejected_indexes2 = rejected_indexes[0]\n",
        "rejected_indexes2"
      ],
      "metadata": {
        "colab": {
          "base_uri": "https://localhost:8080/"
        },
        "id": "p9atjph6FqhZ",
        "outputId": "40efe972-4067-4a8a-b7ed-b6a34cad1dab"
      },
      "execution_count": 99,
      "outputs": [
        {
          "output_type": "execute_result",
          "data": {
            "text/plain": [
              "array([ 35,  74,  76, 193, 227, 265])"
            ]
          },
          "metadata": {},
          "execution_count": 99
        }
      ]
    },
    {
      "cell_type": "code",
      "source": [
        "X_train[rejected_indexes2[0]]"
      ],
      "metadata": {
        "colab": {
          "base_uri": "https://localhost:8080/"
        },
        "id": "8VGmqlHdH6CQ",
        "outputId": "7677cdb2-eef3-40b7-dc41-d15c951d7c9a"
      },
      "execution_count": 100,
      "outputs": [
        {
          "output_type": "execute_result",
          "data": {
            "text/plain": [
              "array([3.45086977e-03, 4.73201693e-03, 2.22708039e-02, 1.60907381e-01,\n",
              "       2.31946403e-05, 1.69252468e-05, 1.73836389e-05, 1.23624824e-05,\n",
              "       3.72825576e-05, 1.39210155e-05, 1.11118947e-04, 2.91490362e-04,\n",
              "       7.51057828e-04, 1.06723084e-02, 1.34414669e-06, 2.73154678e-06,\n",
              "       4.69675599e-06, 2.60695816e-06, 3.31452750e-06, 4.90126939e-07,\n",
              "       4.48283968e-03, 7.25905031e-03, 2.90079925e-02, 2.67512929e-01,\n",
              "       3.44146685e-05, 4.39821345e-05, 6.85002351e-05, 3.78232252e-05,\n",
              "       7.12035731e-05, 1.93135872e-05])"
            ]
          },
          "metadata": {},
          "execution_count": 100
        }
      ]
    },
    {
      "cell_type": "code",
      "source": [
        "for i in range (0, len(X_train[0])):\n",
        "  print('solver.add(z3_X_Train[',i,'] == X_train[rejected_indexes2[0]][',i,']')"
      ],
      "metadata": {
        "id": "FWn_QluxIHkg",
        "colab": {
          "base_uri": "https://localhost:8080/"
        },
        "outputId": "10cfc540-67bf-48ba-f1ac-ac446fc87fa9"
      },
      "execution_count": 101,
      "outputs": [
        {
          "output_type": "stream",
          "name": "stdout",
          "text": [
            "solver.add(z3_X_Train[ 0 ] == X_train[rejected_indexes2[0]][ 0 ]\n",
            "solver.add(z3_X_Train[ 1 ] == X_train[rejected_indexes2[0]][ 1 ]\n",
            "solver.add(z3_X_Train[ 2 ] == X_train[rejected_indexes2[0]][ 2 ]\n",
            "solver.add(z3_X_Train[ 3 ] == X_train[rejected_indexes2[0]][ 3 ]\n",
            "solver.add(z3_X_Train[ 4 ] == X_train[rejected_indexes2[0]][ 4 ]\n",
            "solver.add(z3_X_Train[ 5 ] == X_train[rejected_indexes2[0]][ 5 ]\n",
            "solver.add(z3_X_Train[ 6 ] == X_train[rejected_indexes2[0]][ 6 ]\n",
            "solver.add(z3_X_Train[ 7 ] == X_train[rejected_indexes2[0]][ 7 ]\n",
            "solver.add(z3_X_Train[ 8 ] == X_train[rejected_indexes2[0]][ 8 ]\n",
            "solver.add(z3_X_Train[ 9 ] == X_train[rejected_indexes2[0]][ 9 ]\n",
            "solver.add(z3_X_Train[ 10 ] == X_train[rejected_indexes2[0]][ 10 ]\n",
            "solver.add(z3_X_Train[ 11 ] == X_train[rejected_indexes2[0]][ 11 ]\n",
            "solver.add(z3_X_Train[ 12 ] == X_train[rejected_indexes2[0]][ 12 ]\n",
            "solver.add(z3_X_Train[ 13 ] == X_train[rejected_indexes2[0]][ 13 ]\n",
            "solver.add(z3_X_Train[ 14 ] == X_train[rejected_indexes2[0]][ 14 ]\n",
            "solver.add(z3_X_Train[ 15 ] == X_train[rejected_indexes2[0]][ 15 ]\n",
            "solver.add(z3_X_Train[ 16 ] == X_train[rejected_indexes2[0]][ 16 ]\n",
            "solver.add(z3_X_Train[ 17 ] == X_train[rejected_indexes2[0]][ 17 ]\n",
            "solver.add(z3_X_Train[ 18 ] == X_train[rejected_indexes2[0]][ 18 ]\n",
            "solver.add(z3_X_Train[ 19 ] == X_train[rejected_indexes2[0]][ 19 ]\n",
            "solver.add(z3_X_Train[ 20 ] == X_train[rejected_indexes2[0]][ 20 ]\n",
            "solver.add(z3_X_Train[ 21 ] == X_train[rejected_indexes2[0]][ 21 ]\n",
            "solver.add(z3_X_Train[ 22 ] == X_train[rejected_indexes2[0]][ 22 ]\n",
            "solver.add(z3_X_Train[ 23 ] == X_train[rejected_indexes2[0]][ 23 ]\n",
            "solver.add(z3_X_Train[ 24 ] == X_train[rejected_indexes2[0]][ 24 ]\n",
            "solver.add(z3_X_Train[ 25 ] == X_train[rejected_indexes2[0]][ 25 ]\n",
            "solver.add(z3_X_Train[ 26 ] == X_train[rejected_indexes2[0]][ 26 ]\n",
            "solver.add(z3_X_Train[ 27 ] == X_train[rejected_indexes2[0]][ 27 ]\n",
            "solver.add(z3_X_Train[ 28 ] == X_train[rejected_indexes2[0]][ 28 ]\n",
            "solver.add(z3_X_Train[ 29 ] == X_train[rejected_indexes2[0]][ 29 ]\n"
          ]
        }
      ]
    },
    {
      "cell_type": "code",
      "source": [
        "solver = Solver()\n",
        "\n",
        "#solver.add(z3_X_Train[0] > -5)\n",
        "#solver.add(z3_X_Train[0] < 0)\n",
        "solver.add(z3_X_Train[1] == X_train[rejected_indexes2[0]][1])\n",
        "solver.add(z3_X_Train[2] == X_train[rejected_indexes2[0]][2])\n",
        "solver.add(z3_X_Train[3] == X_train[rejected_indexes2[0]][3])\n",
        "solver.add(z3_X_Train[4] == X_train[rejected_indexes2[0]][4])\n",
        "solver.add(z3_X_Train[5] == X_train[rejected_indexes2[0]][5])\n",
        "solver.add(z3_X_Train[6] == X_train[rejected_indexes2[0]][6])\n",
        "solver.add(z3_X_Train[7] == X_train[rejected_indexes2[0]][7])\n",
        "solver.add(z3_X_Train[8] == X_train[rejected_indexes2[0]][8])\n",
        "solver.add(z3_X_Train[9] == X_train[rejected_indexes2[0]][9])\n",
        "solver.add(z3_X_Train[10] == X_train[rejected_indexes2[0]][10])\n",
        "solver.add(z3_X_Train[11] == X_train[rejected_indexes2[0]][11])\n",
        "solver.add(z3_X_Train[12] == X_train[rejected_indexes2[0]][12])\n",
        "solver.add(z3_X_Train[13] == X_train[rejected_indexes2[0]][13])\n",
        "solver.add(z3_X_Train[14] == X_train[rejected_indexes2[0]][14])\n",
        "solver.add(z3_X_Train[15] == X_train[rejected_indexes2[0]][15])\n",
        "solver.add(z3_X_Train[16] == X_train[rejected_indexes2[0]][16])\n",
        "solver.add(z3_X_Train[17] == X_train[rejected_indexes2[0]][17])\n",
        "solver.add(z3_X_Train[18] == X_train[rejected_indexes2[0]][18])\n",
        "solver.add(z3_X_Train[19] == X_train[rejected_indexes2[0]][19])\n",
        "solver.add(z3_X_Train[20] == X_train[rejected_indexes2[0]][20])\n",
        "solver.add(z3_X_Train[21] == X_train[rejected_indexes2[0]][21])\n",
        "solver.add(z3_X_Train[22] == X_train[rejected_indexes2[0]][22])\n",
        "solver.add(z3_X_Train[23] == X_train[rejected_indexes2[0]][23])\n",
        "solver.add(z3_X_Train[24] == X_train[rejected_indexes2[0]][24])\n",
        "solver.add(z3_X_Train[25] == X_train[rejected_indexes2[0]][25])\n",
        "solver.add(z3_X_Train[26] == X_train[rejected_indexes2[0]][26])\n",
        "solver.add(z3_X_Train[27] == X_train[rejected_indexes2[0]][27])\n",
        "solver.add(z3_X_Train[28] == X_train[rejected_indexes2[0]][28])\n",
        "solver.add(z3_X_Train[29] == X_train[rejected_indexes2[0]][29])"
      ],
      "metadata": {
        "id": "bZnk55mbH_bv"
      },
      "execution_count": 102,
      "outputs": []
    },
    {
      "cell_type": "code",
      "source": [
        "solver.add(((z3_dual_coef @ z3_support_vectors) @ z3_X_Train.reshape(1, len(z3_X_Train)).T + z3_intercept_)[0][0] > t1)"
      ],
      "metadata": {
        "id": "jRuisj4jIo6i"
      },
      "execution_count": 103,
      "outputs": []
    },
    {
      "cell_type": "code",
      "source": [
        "print(i,solver.check(),solver.model())"
      ],
      "metadata": {
        "colab": {
          "base_uri": "https://localhost:8080/"
        },
        "id": "mu694f69Iycd",
        "outputId": "ee4c189c-3346-42a8-af73-736a271318fb"
      },
      "execution_count": 104,
      "outputs": [
        {
          "output_type": "stream",
          "name": "stdout",
          "text": [
            "29 sat [x__16 = 1174188998589563/250000000000000000000,\n",
            " x__4 = 2899330042313117/125000000000000000000,\n",
            " x__20 = 8965679360601787/2000000000000000000,\n",
            " x__21 = 3629525152797367/500000000000000000,\n",
            " x__15 = 5463093559003291/2000000000000000000000,\n",
            " x__6 = 17383638928067703/1000000000000000000000,\n",
            " x__23 = 5350258580159849/20000000000000000,\n",
            " x__2 = 22270803949224257/1000000000000000000,\n",
            " x__19 = 4901269393511989/10000000000000000000000,\n",
            " x__13 = 266807710390221/25000000000000000,\n",
            " x__14 = 3360366713681241/2500000000000000000000,\n",
            " x__10 = 277797367183827/2500000000000000000,\n",
            " x__1 = 23660084626234133/5000000000000000000,\n",
            " x__9 = 1740126939351199/125000000000000000000,\n",
            " x__24 = 688293370944993/20000000000000000000,\n",
            " x__11 = 1457451810061119/5000000000000000000,\n",
            " x__8 = 1864127879642689/50000000000000000000,\n",
            " x__5 = 8462623413258109/500000000000000000000,\n",
            " x__22 = 362599905970851/12500000000000000,\n",
            " x__26 = 3425011753643629/50000000000000000000,\n",
            " x__27 = 1891161259990597/50000000000000000000,\n",
            " x__0 = -250028353857824306165805912648671626292055040281984010049597/84048624534992979937278137207532030000000000000000000000000,\n",
            " x__25 = 549776680771039/12500000000000000000,\n",
            " x__3 = 8045369064409967/50000000000000000,\n",
            " x__12 = 1877644569816643/2500000000000000000,\n",
            " x__28 = 3560178655383169/50000000000000000000,\n",
            " x__7 = 2472496473906911/200000000000000000000,\n",
            " x__18 = 3314527503526093/1000000000000000000000,\n",
            " x__29 = 1931358721203573/100000000000000000000,\n",
            " x__17 = 6517395392571697/2500000000000000000000]\n"
          ]
        }
      ]
    },
    {
      "cell_type": "markdown",
      "source": [
        "Basic Restrictions"
      ],
      "metadata": {
        "id": "PuSWl4PjYWYM"
      }
    },
    {
      "cell_type": "code",
      "source": [
        "solver2 = Solver()\n",
        "index_list = []\n",
        "for i in range(0,len(z3_X_Train)):\n",
        "  index_list.append(i)\n",
        "  solver2.add(z3_X_Train[i] >=0)\n",
        "  solver2.add(z3_X_Train[i] <=1)\n",
        "solver2.add(Or(((z3_dual_coef @ z3_support_vectors) @ z3_X_Train.reshape(1, len(z3_X_Train)).T + z3_intercept_)[0][0] >= t1,\n",
        "           ((z3_dual_coef @ z3_support_vectors) @ z3_X_Train.reshape(1, len(z3_X_Train)).T + z3_intercept_)[0][0] < t2))"
      ],
      "metadata": {
        "id": "JCJrkhymSO7K"
      },
      "execution_count": 105,
      "outputs": []
    },
    {
      "cell_type": "code",
      "source": [
        "z3_X_Train"
      ],
      "metadata": {
        "colab": {
          "base_uri": "https://localhost:8080/"
        },
        "id": "s4g6pSW2Za2r",
        "outputId": "c6b7be4e-33d5-4738-a71f-4b36a4fb8ebf"
      },
      "execution_count": 106,
      "outputs": [
        {
          "output_type": "execute_result",
          "data": {
            "text/plain": [
              "array([x__0, x__1, x__2, x__3, x__4, x__5, x__6, x__7, x__8, x__9, x__10,\n",
              "       x__11, x__12, x__13, x__14, x__15, x__16, x__17, x__18, x__19,\n",
              "       x__20, x__21, x__22, x__23, x__24, x__25, x__26, x__27, x__28,\n",
              "       x__29], dtype=object)"
            ]
          },
          "metadata": {},
          "execution_count": 106
        }
      ]
    },
    {
      "cell_type": "code",
      "source": [
        "solver2.assertions"
      ],
      "metadata": {
        "colab": {
          "base_uri": "https://localhost:8080/"
        },
        "id": "Qkoi62p5skEh",
        "outputId": "c49b0685-bdc3-4696-9169-71e5381a95da"
      },
      "execution_count": 107,
      "outputs": [
        {
          "output_type": "execute_result",
          "data": {
            "text/plain": [
              "<bound method Solver.assertions of [x__0 >= 0,\n",
              " x__0 <= 1,\n",
              " x__1 >= 0,\n",
              " x__1 <= 1,\n",
              " x__2 >= 0,\n",
              " x__2 <= 1,\n",
              " x__3 >= 0,\n",
              " x__3 <= 1,\n",
              " x__4 >= 0,\n",
              " x__4 <= 1,\n",
              " x__5 >= 0,\n",
              " x__5 <= 1,\n",
              " x__6 >= 0,\n",
              " x__6 <= 1,\n",
              " x__7 >= 0,\n",
              " x__7 <= 1,\n",
              " x__8 >= 0,\n",
              " x__8 <= 1,\n",
              " x__9 >= 0,\n",
              " x__9 <= 1,\n",
              " x__10 >= 0,\n",
              " x__10 <= 1,\n",
              " x__11 >= 0,\n",
              " x__11 <= 1,\n",
              " x__12 >= 0,\n",
              " x__12 <= 1,\n",
              " x__13 >= 0,\n",
              " x__13 <= 1,\n",
              " x__14 >= 0,\n",
              " x__14 <= 1,\n",
              " x__15 >= 0,\n",
              " x__15 <= 1,\n",
              " x__16 >= 0,\n",
              " x__16 <= 1,\n",
              " x__17 >= 0,\n",
              " x__17 <= 1,\n",
              " x__18 >= 0,\n",
              " x__18 <= 1,\n",
              " x__19 >= 0,\n",
              " x__19 <= 1,\n",
              " x__20 >= 0,\n",
              " x__20 <= 1,\n",
              " x__21 >= 0,\n",
              " x__21 <= 1,\n",
              " x__22 >= 0,\n",
              " x__22 <= 1,\n",
              " x__23 >= 0,\n",
              " x__23 <= 1,\n",
              " x__24 >= 0,\n",
              " x__24 <= 1,\n",
              " x__25 >= 0,\n",
              " x__25 <= 1,\n",
              " x__26 >= 0,\n",
              " x__26 <= 1,\n",
              " x__27 >= 0,\n",
              " x__27 <= 1,\n",
              " x__28 >= 0,\n",
              " x__28 <= 1,\n",
              " x__29 >= 0,\n",
              " x__29 <= 1,\n",
              " Or(... +\n",
              "    ... +\n",
              "    ... +\n",
              "    ... +\n",
              "    ... +\n",
              "    ... +\n",
              "    ... +\n",
              "    ... +\n",
              "    ... +\n",
              "    ... +\n",
              "    ... +\n",
              "    ... +\n",
              "    ... +\n",
              "    ... +\n",
              "    ... +\n",
              "    ... +\n",
              "    ... +\n",
              "    ... +\n",
              "    ... +\n",
              "    ... +\n",
              "    ... +\n",
              "    ... +\n",
              "    ... +\n",
              "    ... +\n",
              "    ... +\n",
              "    ... +\n",
              "    ... +\n",
              "    ... +\n",
              "    ... +\n",
              "    ... +\n",
              "    ... >=\n",
              "    ...,\n",
              "    ...)]>"
            ]
          },
          "metadata": {},
          "execution_count": 107
        }
      ]
    },
    {
      "cell_type": "code",
      "source": [
        "len(rejected_indexes2)"
      ],
      "metadata": {
        "colab": {
          "base_uri": "https://localhost:8080/"
        },
        "id": "B5PVA6Nj2l8c",
        "outputId": "7686034b-36a6-4ec7-a163-32673880e580"
      },
      "execution_count": 108,
      "outputs": [
        {
          "output_type": "execute_result",
          "data": {
            "text/plain": [
              "6"
            ]
          },
          "metadata": {},
          "execution_count": 108
        }
      ]
    },
    {
      "cell_type": "markdown",
      "source": [
        "Finding Important Features"
      ],
      "metadata": {
        "id": "6N7NV2_nYZ0Y"
      }
    },
    {
      "cell_type": "code",
      "source": [
        "z3_X_Train"
      ],
      "metadata": {
        "colab": {
          "base_uri": "https://localhost:8080/"
        },
        "id": "lQ-xq73W5Lir",
        "outputId": "10b7756a-2b43-4475-be42-5445358daf8c"
      },
      "execution_count": 109,
      "outputs": [
        {
          "output_type": "execute_result",
          "data": {
            "text/plain": [
              "array([x__0, x__1, x__2, x__3, x__4, x__5, x__6, x__7, x__8, x__9, x__10,\n",
              "       x__11, x__12, x__13, x__14, x__15, x__16, x__17, x__18, x__19,\n",
              "       x__20, x__21, x__22, x__23, x__24, x__25, x__26, x__27, x__28,\n",
              "       x__29], dtype=object)"
            ]
          },
          "metadata": {},
          "execution_count": 109
        }
      ]
    },
    {
      "cell_type": "code",
      "source": [
        "X_train[rejected_indexes2[0]]"
      ],
      "metadata": {
        "colab": {
          "base_uri": "https://localhost:8080/"
        },
        "id": "vs-H-c_J7_Qd",
        "outputId": "cb55c500-bd85-453f-d6f3-dd88c4b05cd9"
      },
      "execution_count": 110,
      "outputs": [
        {
          "output_type": "execute_result",
          "data": {
            "text/plain": [
              "array([3.45086977e-03, 4.73201693e-03, 2.22708039e-02, 1.60907381e-01,\n",
              "       2.31946403e-05, 1.69252468e-05, 1.73836389e-05, 1.23624824e-05,\n",
              "       3.72825576e-05, 1.39210155e-05, 1.11118947e-04, 2.91490362e-04,\n",
              "       7.51057828e-04, 1.06723084e-02, 1.34414669e-06, 2.73154678e-06,\n",
              "       4.69675599e-06, 2.60695816e-06, 3.31452750e-06, 4.90126939e-07,\n",
              "       4.48283968e-03, 7.25905031e-03, 2.90079925e-02, 2.67512929e-01,\n",
              "       3.44146685e-05, 4.39821345e-05, 6.85002351e-05, 3.78232252e-05,\n",
              "       7.12035731e-05, 1.93135872e-05])"
            ]
          },
          "metadata": {},
          "execution_count": 110
        }
      ]
    },
    {
      "cell_type": "markdown",
      "source": [
        "Fixed List"
      ],
      "metadata": {
        "id": "Hhabh-goeAIZ"
      }
    },
    {
      "cell_type": "code",
      "source": [
        "for i in range(0, len(rejected_indexes2)):\n",
        "  #Add Assertions for 0<= feature <= 1\n",
        "  index_list = list(range(30))\n",
        "\n",
        "  #Select a feature and unfix it\n",
        "  for z in range(0, len(z3_X_Train)):\n",
        "    solver2 = Solver()\n",
        "    solver2.add(Or(((z3_dual_coef @ z3_support_vectors) @ z3_X_Train.reshape(1, len(z3_X_Train)).T + z3_intercept_)[0][0] >= t1,\n",
        "            ((z3_dual_coef @ z3_support_vectors) @ z3_X_Train.reshape(1, len(z3_X_Train)).T + z3_intercept_)[0][0] < t2))\n",
        "    for j in range(0, len(z3_X_Train)):\n",
        "      solver2.add(z3_X_Train[j] >=0)\n",
        "      solver2.add(z3_X_Train[j] <=1)\n",
        "    for j in range(0, len(z3_X_Train)):\n",
        "      if j != z: #Choose one to check influence\n",
        "        solver2.add(z3_X_Train[j] == X_train[rejected_indexes2[i]][j])\n",
        "\n",
        "    check = solver2.check()\n",
        "    if check == sat:\n",
        "      model = solver2.model()\n",
        "      print('i = ',i,z, check, X_train[rejected_indexes2[i]][z], model[z3_X_Train[z]].numerator_as_long()/model[z3_X_Train[z]].denominator_as_long())\n",
        "      #print(z, check)\n",
        "    else:\n",
        "      index_list.remove(z)\n",
        "      print('i = ',i, z, check)\n",
        "  print(\"Relevant: \",index_list)"
      ],
      "metadata": {
        "colab": {
          "base_uri": "https://localhost:8080/"
        },
        "id": "-tPeh3Oa4sC8",
        "outputId": "69906041-03c7-4d75-9027-4944b9ac239d"
      },
      "execution_count": 111,
      "outputs": [
        {
          "output_type": "stream",
          "name": "stdout",
          "text": [
            "i =  0 0 unsat\n",
            "i =  0 1 unsat\n",
            "i =  0 2 sat 0.022270803949224257 0.8639436340441322\n",
            "i =  0 3 sat 0.16090738128819934 0.608052303508685\n",
            "i =  0 4 unsat\n",
            "i =  0 5 unsat\n",
            "i =  0 6 unsat\n",
            "i =  0 7 unsat\n",
            "i =  0 8 unsat\n",
            "i =  0 9 unsat\n",
            "i =  0 10 unsat\n",
            "i =  0 11 unsat\n",
            "i =  0 12 unsat\n",
            "i =  0 13 sat 0.01067230841560884 0.6977694069127598\n",
            "i =  0 14 unsat\n",
            "i =  0 15 unsat\n",
            "i =  0 16 unsat\n",
            "i =  0 17 unsat\n",
            "i =  0 18 unsat\n",
            "i =  0 19 unsat\n",
            "i =  0 20 unsat\n",
            "i =  0 21 unsat\n",
            "i =  0 22 sat 0.02900799247766808 0.7126247079616702\n",
            "i =  0 23 sat 0.26751292900799245 0.6471593436913698\n",
            "i =  0 24 unsat\n",
            "i =  0 25 unsat\n",
            "i =  0 26 unsat\n",
            "i =  0 27 unsat\n",
            "i =  0 28 unsat\n",
            "i =  0 29 unsat\n",
            "Relevant:  [2, 3, 13, 22, 23]\n",
            "i =  1 0 unsat\n",
            "i =  1 1 unsat\n",
            "i =  1 2 sat 0.02152327221438646 0.9444119180979011\n",
            "i =  1 3 sat 0.14052656323460272 0.6041858071237965\n",
            "i =  1 4 unsat\n",
            "i =  1 5 unsat\n",
            "i =  1 6 unsat\n",
            "i =  1 7 unsat\n",
            "i =  1 8 unsat\n",
            "i =  1 9 unsat\n",
            "i =  1 10 unsat\n",
            "i =  1 11 unsat\n",
            "i =  1 12 unsat\n",
            "i =  1 13 sat 0.012393041842971322 0.7427236955012717\n",
            "i =  1 14 unsat\n",
            "i =  1 15 unsat\n",
            "i =  1 16 unsat\n",
            "i =  1 17 unsat\n",
            "i =  1 18 unsat\n",
            "i =  1 19 unsat\n",
            "i =  1 20 unsat\n",
            "i =  1 21 unsat\n",
            "i =  1 22 sat 0.030206864127879644 0.7586212831153243\n",
            "i =  1 23 sat 0.27103902209685005 0.6519935096991897\n",
            "i =  1 24 unsat\n",
            "i =  1 25 unsat\n",
            "i =  1 26 unsat\n",
            "i =  1 27 unsat\n",
            "i =  1 28 unsat\n",
            "i =  1 29 unsat\n",
            "Relevant:  [2, 3, 13, 22, 23]\n",
            "i =  2 0 unsat\n",
            "i =  2 1 unsat\n",
            "i =  2 2 sat 0.024870709920075222 0.9140861551844335\n",
            "i =  2 3 sat 0.18645980253878702 0.6246492501806165\n",
            "i =  2 4 unsat\n",
            "i =  2 5 unsat\n",
            "i =  2 6 unsat\n",
            "i =  2 7 unsat\n",
            "i =  2 8 unsat\n",
            "i =  2 9 unsat\n",
            "i =  2 10 unsat\n",
            "i =  2 11 unsat\n",
            "i =  2 12 unsat\n",
            "i =  2 13 sat 0.007820874471086037 0.7229840384532682\n",
            "i =  2 14 unsat\n",
            "i =  2 15 unsat\n",
            "i =  2 16 unsat\n",
            "i =  2 17 unsat\n",
            "i =  2 18 unsat\n",
            "i =  2 19 unsat\n",
            "i =  2 20 unsat\n",
            "i =  2 21 unsat\n",
            "i =  2 22 sat 0.02921955806299953 0.7401582078131271\n",
            "i =  2 23 sat 0.25152797367183827 0.6410223528874764\n",
            "i =  2 24 unsat\n",
            "i =  2 25 unsat\n",
            "i =  2 26 unsat\n",
            "i =  2 27 unsat\n",
            "i =  2 28 unsat\n",
            "i =  2 29 unsat\n",
            "Relevant:  [2, 3, 13, 22, 23]\n",
            "i =  3 0 unsat\n",
            "i =  3 1 unsat\n",
            "i =  3 2 sat 0.024118476727785613 0.9055815438983746\n",
            "i =  3 3 sat 0.17896097790314996 0.620263982013282\n",
            "i =  3 4 unsat\n",
            "i =  3 5 unsat\n",
            "i =  3 6 unsat\n",
            "i =  3 7 unsat\n",
            "i =  3 8 unsat\n",
            "i =  3 9 unsat\n",
            "i =  3 10 unsat\n",
            "i =  3 11 unsat\n",
            "i =  3 12 unsat\n",
            "i =  3 13 sat 0.007566995768688293 0.7184235498518158\n",
            "i =  3 14 unsat\n",
            "i =  3 15 unsat\n",
            "i =  3 16 unsat\n",
            "i =  3 17 unsat\n",
            "i =  3 18 unsat\n",
            "i =  3 19 unsat\n",
            "i =  3 20 unsat\n",
            "i =  3 21 unsat\n",
            "i =  3 22 sat 0.029595674659144335 0.7357816811417544\n",
            "i =  3 23 sat 0.2557592853784673 0.6428292142671896\n",
            "i =  3 24 unsat\n",
            "i =  3 25 unsat\n",
            "i =  3 26 unsat\n",
            "i =  3 27 unsat\n",
            "i =  3 28 unsat\n",
            "i =  3 29 unsat\n",
            "Relevant:  [2, 3, 13, 22, 23]\n",
            "i =  4 0 unsat\n",
            "i =  4 1 unsat\n",
            "i =  4 2 sat 0.0269158439116126 0.82778395614206\n",
            "i =  4 3 sat 0.22284908321579688 0.6360128639377964\n",
            "i =  4 4 unsat\n",
            "i =  4 5 unsat\n",
            "i =  4 6 unsat\n",
            "i =  4 7 unsat\n",
            "i =  4 8 unsat\n",
            "i =  4 9 unsat\n",
            "i =  4 10 unsat\n",
            "i =  4 11 unsat\n",
            "i =  4 12 unsat\n",
            "i =  4 13 sat 0.013758815232722144 0.6783231996546121\n",
            "i =  4 14 unsat\n",
            "i =  4 15 unsat\n",
            "i =  4 16 unsat\n",
            "i =  4 17 unsat\n",
            "i =  4 18 unsat\n",
            "i =  4 19 unsat\n",
            "i =  4 20 unsat\n",
            "i =  4 21 unsat\n",
            "i =  4 22 sat 0.02830277385989657 0.690662284197578\n",
            "i =  4 23 sat 0.2400094029149036 0.6319456752746797\n",
            "i =  4 24 unsat\n",
            "i =  4 25 unsat\n",
            "i =  4 26 unsat\n",
            "i =  4 27 unsat\n",
            "i =  4 28 unsat\n",
            "i =  4 29 unsat\n",
            "Relevant:  [2, 3, 13, 22, 23]\n",
            "i =  5 0 unsat\n",
            "i =  5 1 unsat\n",
            "i =  5 2 sat 0.02548189938881053 0.8984143049542184\n",
            "i =  5 3 sat 0.2069111424541608 0.633625075950836\n",
            "i =  5 4 unsat\n",
            "i =  5 5 unsat\n",
            "i =  5 6 unsat\n",
            "i =  5 7 unsat\n",
            "i =  5 8 unsat\n",
            "i =  5 9 unsat\n",
            "i =  5 10 unsat\n",
            "i =  5 11 unsat\n",
            "i =  5 12 unsat\n",
            "i =  5 13 sat 0.010956746591443347 0.7158373487621883\n",
            "i =  5 14 unsat\n",
            "i =  5 15 unsat\n",
            "i =  5 16 unsat\n",
            "i =  5 17 unsat\n",
            "i =  5 18 unsat\n",
            "i =  5 19 unsat\n",
            "i =  5 20 unsat\n",
            "i =  5 21 unsat\n",
            "i =  5 22 sat 0.028279266572637518 0.7307158712850739\n",
            "i =  5 23 sat 0.24259520451339917 0.6359489990112904\n",
            "i =  5 24 unsat\n",
            "i =  5 25 unsat\n",
            "i =  5 26 unsat\n",
            "i =  5 27 unsat\n",
            "i =  5 28 unsat\n",
            "i =  5 29 unsat\n",
            "Relevant:  [2, 3, 13, 22, 23]\n"
          ]
        }
      ]
    },
    {
      "cell_type": "code",
      "source": [
        "index_list = list(range(30))\n",
        "index_list2 = [2, 3, 13, 22, 23]\n",
        "for element in index_list:\n",
        "  if element not in index_list2:\n",
        "    print(element)"
      ],
      "metadata": {
        "id": "KohZ4n8MTjpw"
      },
      "execution_count": null,
      "outputs": []
    },
    {
      "cell_type": "markdown",
      "source": [
        "Unfixed List, Crescent"
      ],
      "metadata": {
        "id": "oF_vwBRveDln"
      }
    },
    {
      "cell_type": "code",
      "source": [
        "for i in range(0, len(rejected_indexes2)):\n",
        "  #Add Assertions for 0<= feature <= 1\n",
        "  index_list = list(range(30))\n",
        "  index_list2 = [2, 3, 13, 22, 23]\n",
        "\n",
        "  #Select a feature and unfix it\n",
        "  for z in (range(0, len(z3_X_Train))):\n",
        "    solver2 = Solver()\n",
        "    solver2.add(Or(((z3_dual_coef @ z3_support_vectors) @ z3_X_Train.reshape(1, len(z3_X_Train)).T + z3_intercept_)[0][0] >= t1,\n",
        "            ((z3_dual_coef @ z3_support_vectors) @ z3_X_Train.reshape(1, len(z3_X_Train)).T + z3_intercept_)[0][0] < t2))\n",
        "    for j in range(0, len(z3_X_Train)):\n",
        "      solver2.add(z3_X_Train[j] >=0)\n",
        "      solver2.add(z3_X_Train[j] <=1)\n",
        "    used_list = []\n",
        "    for j in range(0, len(z3_X_Train)):    \n",
        "      if j != z and j in index_list: #Choose one to check influence\n",
        "        solver2.add(z3_X_Train[j] == X_train[rejected_indexes2[i]][j])\n",
        "        used_list.append(j)\n",
        "    #print(\"Lista utilizada: \",used_list, z3_X_Train)\n",
        "\n",
        "    check = solver2.check()\n",
        "    if check == sat:\n",
        "      model = solver2.model()\n",
        "      print('i = ',i,z, check, X_train[rejected_indexes2[i]][z], model[z3_X_Train[z]].numerator_as_long()/model[z3_X_Train[z]].denominator_as_long())\n",
        "      #print(z, check)\n",
        "    else:\n",
        "      index_list.remove(z)\n",
        "      #print('i = ',i, z, check)\n",
        "  print(\"Relevant: \",index_list)"
      ],
      "metadata": {
        "colab": {
          "base_uri": "https://localhost:8080/"
        },
        "id": "s19QEpXWb1zc",
        "outputId": "5741e205-c737-49c6-d3d2-7906c190d8dd"
      },
      "execution_count": 130,
      "outputs": [
        {
          "output_type": "stream",
          "name": "stdout",
          "text": [
            "i =  0 2 sat 0.022270803949224257 0.80070955443372\n",
            "i =  0 3 sat 0.16090738128819934 0.514525847523281\n",
            "i =  0 13 sat 0.01067230841560884 0.5861026933507282\n",
            "i =  0 20 sat 0.0044828396803008935 1.0\n",
            "i =  0 21 sat 0.007259050305594734 0.8070316849059577\n",
            "i =  0 22 sat 0.02900799247766808 0.5976576333106314\n",
            "i =  0 23 sat 0.26751292900799245 0.42362207093745613\n",
            "Relevant:  [2, 3, 13, 20, 21, 22, 23]\n",
            "i =  1 2 sat 0.02152327221438646 0.8812803263395137\n",
            "i =  1 3 sat 0.14052656323460272 0.5068088890877076\n",
            "i =  1 13 sat 0.012393041842971322 0.6311186372080994\n",
            "i =  1 21 sat 0.009837799717912554 0.9753214327025075\n",
            "i =  1 22 sat 0.030206864127879644 0.6440269754083587\n",
            "i =  1 23 sat 0.27103902209685005 0.4333408383696964\n",
            "Relevant:  [2, 3, 13, 21, 22, 23]\n",
            "i =  2 2 sat 0.024870709920075222 0.8507248874186568\n",
            "i =  2 3 sat 0.18645980253878702 0.5476998421440317\n",
            "i =  2 13 sat 0.007820874471086037 0.6112435092499566\n",
            "i =  2 21 sat 0.005166901739539257 0.9068863041255354\n",
            "i =  2 22 sat 0.02921955806299953 0.6254173380616457\n",
            "i =  2 23 sat 0.25152797367183827 0.4113786948823548\n",
            "i =  2 24 sat 3.3732957216737184e-05 1.0\n",
            "i =  2 25 sat 0.00010526563234602727 1.0\n",
            "i =  2 26 sat 0.0001165021156558533 1.0\n",
            "i =  2 27 sat 4.656793606017865e-05 1.0\n",
            "i =  2 28 sat 7.096850023507288e-05 1.0\n",
            "i =  2 29 sat 2.14480488951575e-05 1.0\n",
            "Relevant:  [2, 3, 13, 21, 22, 23, 24, 25, 26, 27, 28, 29]\n",
            "i =  3 2 sat 0.024118476727785613 0.8423674186855163\n",
            "i =  3 3 sat 0.17896097790314996 0.5389523264193417\n",
            "i =  3 13 sat 0.007566995768688293 0.6067608748086987\n",
            "i =  3 20 sat 0.00459802538787024 1.0\n",
            "i =  3 21 sat 0.007120357310766337 0.8903980817759714\n",
            "i =  3 22 sat 0.029595674659144335 0.6208187655519508\n",
            "i =  3 23 sat 0.2557592853784673 0.41496237481062825\n",
            "Relevant:  [2, 3, 13, 20, 21, 22, 23]\n",
            "i =  4 2 sat 0.0269158439116126 0.7647645572373757\n",
            "i =  4 3 sat 0.22284908321579688 0.5704805554078164\n",
            "i =  4 13 sat 0.013758815232722144 0.5667780204082238\n",
            "i =  4 20 sat 0.00424776680771039 0.9520891346775521\n",
            "i =  4 21 sat 0.006598495533615421 0.7283104254989923\n",
            "i =  4 22 sat 0.02830277385989657 0.5758203540377043\n",
            "i =  4 23 sat 0.2400094029149036 0.39321166617020337\n",
            "Relevant:  [2, 3, 13, 20, 21, 22, 23]\n",
            "i =  5 2 sat 0.02548189938881053 0.8351913766371487\n",
            "i =  5 3 sat 0.2069111424541608 0.5656731370393684\n",
            "i =  5 13 sat 0.010956746591443347 0.6041795247852613\n",
            "i =  5 20 sat 0.004283027738598965 1.0\n",
            "i =  5 21 sat 0.006598495533615421 0.8740733731747438\n",
            "i =  5 22 sat 0.028279266572637518 0.6157579509834242\n",
            "i =  5 23 sat 0.24259520451339917 0.4012026201619746\n",
            "Relevant:  [2, 3, 13, 20, 21, 22, 23]\n"
          ]
        }
      ]
    },
    {
      "cell_type": "markdown",
      "source": [
        "Unfixed List, decrescent"
      ],
      "metadata": {
        "id": "2WJBpudoeHZk"
      }
    },
    {
      "cell_type": "code",
      "source": [
        "for i in range(0, len(rejected_indexes2)):\n",
        "  #Add Assertions for 0<= feature <= 1\n",
        "  index_list = list(range(30))\n",
        "  index_list2 = [2, 3, 13, 22, 23]\n",
        "\n",
        "  #Select a feature and unfix it\n",
        "  for z in reversed((range(0, len(z3_X_Train)))):\n",
        "    solver2 = Solver()\n",
        "    solver2.add(Or(((z3_dual_coef @ z3_support_vectors) @ z3_X_Train.reshape(1, len(z3_X_Train)).T + z3_intercept_)[0][0] >= t1,\n",
        "            ((z3_dual_coef @ z3_support_vectors) @ z3_X_Train.reshape(1, len(z3_X_Train)).T + z3_intercept_)[0][0] < t2))\n",
        "    for j in range(0, len(z3_X_Train)):\n",
        "      solver2.add(z3_X_Train[j] >=0)\n",
        "      solver2.add(z3_X_Train[j] <=1)\n",
        "    used_list = []\n",
        "    for j in range(0, len(z3_X_Train)):    \n",
        "      if j != z and j in index_list: #Choose one to check influence\n",
        "        solver2.add(z3_X_Train[j] == X_train[rejected_indexes2[i]][j])\n",
        "        used_list.append(j)\n",
        "    #print(\"Lista utilizada: \",used_list, z3_X_Train)\n",
        "\n",
        "    check = solver2.check()\n",
        "    if check == sat:\n",
        "      model = solver2.model()\n",
        "      print('i = ',i,z, check, X_train[rejected_indexes2[i]][z], model[z3_X_Train[z]].numerator_as_long()/model[z3_X_Train[z]].denominator_as_long())\n",
        "      #print(z, check)\n",
        "    else:\n",
        "      index_list.remove(z)\n",
        "      #print('i = ',i, z, check)\n",
        "  print(\"Relevant: \",index_list)"
      ],
      "metadata": {
        "colab": {
          "base_uri": "https://localhost:8080/"
        },
        "id": "raQ4xakPeJ00",
        "outputId": "e33601e8-37a0-4a22-8ee2-5bc10edd48cc"
      },
      "execution_count": 131,
      "outputs": [
        {
          "output_type": "stream",
          "name": "stdout",
          "text": [
            "i =  0 23 sat 0.26751292900799245 0.4385164482735887\n",
            "i =  0 22 sat 0.02900799247766808 0.7077416159105416\n",
            "i =  0 20 sat 0.0044828396803008935 1.0\n",
            "i =  0 13 sat 0.01067230841560884 0.551036862775088\n",
            "i =  0 3 sat 0.16090738128819934 0.5145171340553686\n",
            "i =  0 2 sat 0.022270803949224257 0.5155852396788159\n",
            "i =  0 1 sat 0.0047320169252468266 1.0\n",
            "i =  0 0 sat 0.003450869769628585 1.0\n",
            "Relevant:  [0, 1, 2, 3, 13, 20, 22, 23]\n",
            "i =  1 23 sat 0.27103902209685005 0.4481848682452044\n",
            "i =  1 22 sat 0.030206864127879644 0.753738841144686\n",
            "i =  1 13 sat 0.012393041842971322 0.530037791063362\n",
            "i =  1 12 sat 0.0009188998589562764 0.9159944859995096\n",
            "i =  1 3 sat 0.14052656323460272 0.5069630341561615\n",
            "i =  1 2 sat 0.02152327221438646 0.5277627002337122\n",
            "i =  1 1 sat 0.005582980724024448 1.0\n",
            "i =  1 0 sat 0.003246356370474847 1.0\n",
            "Relevant:  [0, 1, 2, 3, 12, 13, 22, 23]\n",
            "i =  2 23 sat 0.25152797367183827 0.42624254165539993\n",
            "i =  2 22 sat 0.02921955806299953 0.7352756700083035\n",
            "i =  2 13 sat 0.007820874471086037 0.5096694538082721\n",
            "i =  2 12 sat 0.0006180065820404325 0.6006842410630013\n",
            "i =  2 10 sat 7.924306535025858e-05 0.5769530803370488\n",
            "i =  2 8 sat 4.188998589562765e-05 0.9847193575802067\n",
            "i =  2 7 sat 1.655148095909732e-05 0.778602294031835\n",
            "i =  2 6 sat 2.8302773859896568e-05 0.6294905778230432\n",
            "i =  2 5 sat 3.222849083215797e-05 0.7093187228509368\n",
            "i =  2 3 sat 0.18645980253878702 0.48480429213936027\n",
            "i =  2 2 sat 0.024870709920075222 0.5136845804053917\n",
            "i =  2 1 sat 0.0036459802538787024 1.0\n",
            "i =  2 0 sat 0.0037682181476257643 0.5047970440000278\n",
            "Relevant:  [0, 1, 2, 3, 5, 6, 7, 8, 10, 12, 13, 22, 23]\n",
            "i =  3 23 sat 0.2557592853784673 0.4298562483797684\n",
            "i =  3 22 sat 0.029595674659144335 0.7308990248222057\n",
            "i =  3 13 sat 0.007566995768688293 0.5053813729536558\n",
            "i =  3 12 sat 0.0005275035260930889 0.5281134875619619\n",
            "i =  3 11 sat 0.00021647860836859428 0.6710123752280799\n",
            "i =  3 10 sat 8.16408086506817e-05 0.6912031118413601\n",
            "i =  3 7 sat 1.5190409026798307e-05 1.0\n",
            "i =  3 6 sat 2.6962858486130698e-05 0.6205630562548974\n",
            "i =  3 5 sat 2.8302773859896568e-05 1.0\n",
            "i =  3 3 sat 0.17896097790314996 0.5391740147944899\n",
            "i =  3 2 sat 0.024118476727785613 0.5140853234474982\n",
            "i =  3 1 sat 0.004760225669957687 1.0\n",
            "i =  3 0 sat 0.003702397743300423 1.0\n",
            "Relevant:  [0, 1, 2, 3, 5, 6, 7, 10, 11, 12, 13, 22, 23]\n",
            "i =  4 23 sat 0.2400094029149036 0.4080890977597333\n",
            "i =  4 22 sat 0.02830277385989657 0.6857790910343876\n",
            "i =  4 20 sat 0.00424776680771039 1.0\n",
            "i =  4 13 sat 0.013758815232722144 0.5315026541490333\n",
            "i =  4 12 sat 0.000885519511048425 0.9296070440082921\n",
            "i =  4 3 sat 0.22284908321579688 0.5704069997858678\n",
            "i =  4 2 sat 0.0269158439116126 0.5357953283672788\n",
            "i =  4 1 sat 0.006008462623413258 1.0\n",
            "i =  4 0 sat 0.0040949694405265635 1.0\n",
            "Relevant:  [0, 1, 2, 3, 12, 13, 20, 22, 23]\n",
            "i =  5 23 sat 0.24259520451339917 0.41609572892070934\n",
            "i =  5 22 sat 0.028279266572637518 0.7258325575584734\n",
            "i =  5 20 sat 0.004283027738598965 1.0\n",
            "i =  5 13 sat 0.010956746591443347 0.5690166704765159\n",
            "i =  5 3 sat 0.2069111424541608 0.5656382039327319\n",
            "i =  5 2 sat 0.02548189938881053 0.5498994718582614\n",
            "i =  5 1 sat 0.00457451810061119 1.0\n",
            "i =  5 0 sat 0.003958627174424072 1.0\n",
            "Relevant:  [0, 1, 2, 3, 13, 20, 22, 23]\n"
          ]
        }
      ]
    },
    {
      "cell_type": "markdown",
      "source": [
        "Not Fixing Individual Lista"
      ],
      "metadata": {
        "id": "vipGOw8LZ2s_"
      }
    },
    {
      "cell_type": "code",
      "source": [
        "for i in range(0, len(rejected_indexes2)):\n",
        "  #Add Assertions for 0<= feature <= 1\n",
        "  index_list = list(range(30))\n",
        "  index_list2 = [2, 3, 13, 22, 23]\n",
        "\n",
        "  #Select a feature and unfix it\n",
        "  for z in reversed(range(0, len(z3_X_Train))):\n",
        "    solver2 = Solver()\n",
        "    solver2.add(Or(((z3_dual_coef @ z3_support_vectors) @ z3_X_Train.reshape(1, len(z3_X_Train)).T + z3_intercept_)[0][0] >= t1,\n",
        "            ((z3_dual_coef @ z3_support_vectors) @ z3_X_Train.reshape(1, len(z3_X_Train)).T + z3_intercept_)[0][0] < t2))\n",
        "    for j in range(0, len(z3_X_Train)):\n",
        "      solver2.add(z3_X_Train[j] >=0)\n",
        "      solver2.add(z3_X_Train[j] <=1)\n",
        "    used_list = []\n",
        "    for j in range(0, len(z3_X_Train)):    \n",
        "      if j != z and j in index_list: #Choose one to check influence\n",
        "        if j not in index_list2:\n",
        "          solver2.add(z3_X_Train[j] == X_train[rejected_indexes2[i]][j])\n",
        "          used_list.append(j)\n",
        "    print(\"Lista utilizada: \",used_list)\n",
        "\n",
        "    check = solver2.check()\n",
        "    if check == sat:\n",
        "      model = solver2.model()\n",
        "      print('i = ',i,z, check, X_train[rejected_indexes2[i]][z], model[z3_X_Train[z]].numerator_as_long()/model[z3_X_Train[z]].denominator_as_long())\n",
        "      #print(z, check)\n",
        "    else:\n",
        "      index_list.remove(z)\n",
        "      print('i = ',i, z, check)\n",
        "  print(\"Relevant: \",index_list)"
      ],
      "metadata": {
        "colab": {
          "base_uri": "https://localhost:8080/"
        },
        "id": "NIDNMRXeYgWW",
        "outputId": "6d4ad32c-ee2b-4fc0-fd50-50cd1cb1e8e2"
      },
      "execution_count": 132,
      "outputs": [
        {
          "output_type": "stream",
          "name": "stdout",
          "text": [
            "Lista utilizada:  [0, 1, 4, 5, 6, 7, 8, 9, 10, 11, 12, 14, 15, 16, 17, 18, 19, 20, 21, 24, 25, 26, 27, 28] [x__0 x__1 x__2 x__3 x__4 x__5 x__6 x__7 x__8 x__9 x__10 x__11 x__12 x__13\n",
            " x__14 x__15 x__16 x__17 x__18 x__19 x__20 x__21 x__22 x__23 x__24 x__25\n",
            " x__26 x__27 x__28 x__29]\n",
            "i =  0 29 sat 1.931358721203573e-05 0.0\n",
            "Lista utilizada:  [0, 1, 4, 5, 6, 7, 8, 9, 10, 11, 12, 14, 15, 16, 17, 18, 19, 20, 21, 24, 25, 26, 27, 29] [x__0 x__1 x__2 x__3 x__4 x__5 x__6 x__7 x__8 x__9 x__10 x__11 x__12 x__13\n",
            " x__14 x__15 x__16 x__17 x__18 x__19 x__20 x__21 x__22 x__23 x__24 x__25\n",
            " x__26 x__27 x__28 x__29]\n",
            "i =  0 28 sat 7.120357310766338e-05 0.0\n",
            "Lista utilizada:  [0, 1, 4, 5, 6, 7, 8, 9, 10, 11, 12, 14, 15, 16, 17, 18, 19, 20, 21, 24, 25, 26, 28, 29] [x__0 x__1 x__2 x__3 x__4 x__5 x__6 x__7 x__8 x__9 x__10 x__11 x__12 x__13\n",
            " x__14 x__15 x__16 x__17 x__18 x__19 x__20 x__21 x__22 x__23 x__24 x__25\n",
            " x__26 x__27 x__28 x__29]\n",
            "i =  0 27 sat 3.782322519981194e-05 0.0\n",
            "Lista utilizada:  [0, 1, 4, 5, 6, 7, 8, 9, 10, 11, 12, 14, 15, 16, 17, 18, 19, 20, 21, 24, 25, 27, 28, 29] [x__0 x__1 x__2 x__3 x__4 x__5 x__6 x__7 x__8 x__9 x__10 x__11 x__12 x__13\n",
            " x__14 x__15 x__16 x__17 x__18 x__19 x__20 x__21 x__22 x__23 x__24 x__25\n",
            " x__26 x__27 x__28 x__29]\n",
            "i =  0 26 sat 6.850023507287258e-05 0.0\n",
            "Lista utilizada:  [0, 1, 4, 5, 6, 7, 8, 9, 10, 11, 12, 14, 15, 16, 17, 18, 19, 20, 21, 24, 26, 27, 28, 29] [x__0 x__1 x__2 x__3 x__4 x__5 x__6 x__7 x__8 x__9 x__10 x__11 x__12 x__13\n",
            " x__14 x__15 x__16 x__17 x__18 x__19 x__20 x__21 x__22 x__23 x__24 x__25\n",
            " x__26 x__27 x__28 x__29]\n",
            "i =  0 25 sat 4.398213446168312e-05 0.0\n",
            "Lista utilizada:  [0, 1, 4, 5, 6, 7, 8, 9, 10, 11, 12, 14, 15, 16, 17, 18, 19, 20, 21, 25, 26, 27, 28, 29] [x__0 x__1 x__2 x__3 x__4 x__5 x__6 x__7 x__8 x__9 x__10 x__11 x__12 x__13\n",
            " x__14 x__15 x__16 x__17 x__18 x__19 x__20 x__21 x__22 x__23 x__24 x__25\n",
            " x__26 x__27 x__28 x__29]\n",
            "i =  0 24 sat 3.441466854724965e-05 0.0\n",
            "Lista utilizada:  [0, 1, 4, 5, 6, 7, 8, 9, 10, 11, 12, 14, 15, 16, 17, 18, 19, 20, 21, 24, 25, 26, 27, 28, 29] [x__0 x__1 x__2 x__3 x__4 x__5 x__6 x__7 x__8 x__9 x__10 x__11 x__12 x__13\n",
            " x__14 x__15 x__16 x__17 x__18 x__19 x__20 x__21 x__22 x__23 x__24 x__25\n",
            " x__26 x__27 x__28 x__29]\n",
            "i =  0 23 sat 0.26751292900799245 0.34558260946110814\n",
            "Lista utilizada:  [0, 1, 4, 5, 6, 7, 8, 9, 10, 11, 12, 14, 15, 16, 17, 18, 19, 20, 21, 24, 25, 26, 27, 28, 29] [x__0 x__1 x__2 x__3 x__4 x__5 x__6 x__7 x__8 x__9 x__10 x__11 x__12 x__13\n",
            " x__14 x__15 x__16 x__17 x__18 x__19 x__20 x__21 x__22 x__23 x__24 x__25\n",
            " x__26 x__27 x__28 x__29]\n",
            "i =  0 22 sat 0.02900799247766808 1.0\n",
            "Lista utilizada:  [0, 1, 4, 5, 6, 7, 8, 9, 10, 11, 12, 14, 15, 16, 17, 18, 19, 20, 24, 25, 26, 27, 28, 29] [x__0 x__1 x__2 x__3 x__4 x__5 x__6 x__7 x__8 x__9 x__10 x__11 x__12 x__13\n",
            " x__14 x__15 x__16 x__17 x__18 x__19 x__20 x__21 x__22 x__23 x__24 x__25\n",
            " x__26 x__27 x__28 x__29]\n",
            "i =  0 21 sat 0.007259050305594734 1.0\n",
            "Lista utilizada:  [0, 1, 4, 5, 6, 7, 8, 9, 10, 11, 12, 14, 15, 16, 17, 18, 19, 21, 24, 25, 26, 27, 28, 29] [x__0 x__1 x__2 x__3 x__4 x__5 x__6 x__7 x__8 x__9 x__10 x__11 x__12 x__13\n",
            " x__14 x__15 x__16 x__17 x__18 x__19 x__20 x__21 x__22 x__23 x__24 x__25\n",
            " x__26 x__27 x__28 x__29]\n",
            "i =  0 20 sat 0.0044828396803008935 1.0\n",
            "Lista utilizada:  [0, 1, 4, 5, 6, 7, 8, 9, 10, 11, 12, 14, 15, 16, 17, 18, 20, 21, 24, 25, 26, 27, 28, 29] [x__0 x__1 x__2 x__3 x__4 x__5 x__6 x__7 x__8 x__9 x__10 x__11 x__12 x__13\n",
            " x__14 x__15 x__16 x__17 x__18 x__19 x__20 x__21 x__22 x__23 x__24 x__25\n",
            " x__26 x__27 x__28 x__29]\n",
            "i =  0 19 sat 4.901269393511989e-07 1.0\n",
            "Lista utilizada:  [0, 1, 4, 5, 6, 7, 8, 9, 10, 11, 12, 14, 15, 16, 17, 19, 20, 21, 24, 25, 26, 27, 28, 29] [x__0 x__1 x__2 x__3 x__4 x__5 x__6 x__7 x__8 x__9 x__10 x__11 x__12 x__13\n",
            " x__14 x__15 x__16 x__17 x__18 x__19 x__20 x__21 x__22 x__23 x__24 x__25\n",
            " x__26 x__27 x__28 x__29]\n",
            "i =  0 18 sat 3.314527503526093e-06 1.0\n",
            "Lista utilizada:  [0, 1, 4, 5, 6, 7, 8, 9, 10, 11, 12, 14, 15, 16, 18, 19, 20, 21, 24, 25, 26, 27, 28, 29] [x__0 x__1 x__2 x__3 x__4 x__5 x__6 x__7 x__8 x__9 x__10 x__11 x__12 x__13\n",
            " x__14 x__15 x__16 x__17 x__18 x__19 x__20 x__21 x__22 x__23 x__24 x__25\n",
            " x__26 x__27 x__28 x__29]\n",
            "i =  0 17 sat 2.6069581570286788e-06 1.0\n",
            "Lista utilizada:  [0, 1, 4, 5, 6, 7, 8, 9, 10, 11, 12, 14, 15, 17, 18, 19, 20, 21, 24, 25, 26, 27, 28, 29] [x__0 x__1 x__2 x__3 x__4 x__5 x__6 x__7 x__8 x__9 x__10 x__11 x__12 x__13\n",
            " x__14 x__15 x__16 x__17 x__18 x__19 x__20 x__21 x__22 x__23 x__24 x__25\n",
            " x__26 x__27 x__28 x__29]\n",
            "i =  0 16 sat 4.696755994358252e-06 1.0\n",
            "Lista utilizada:  [0, 1, 4, 5, 6, 7, 8, 9, 10, 11, 12, 14, 16, 17, 18, 19, 20, 21, 24, 25, 26, 27, 28, 29] [x__0 x__1 x__2 x__3 x__4 x__5 x__6 x__7 x__8 x__9 x__10 x__11 x__12 x__13\n",
            " x__14 x__15 x__16 x__17 x__18 x__19 x__20 x__21 x__22 x__23 x__24 x__25\n",
            " x__26 x__27 x__28 x__29]\n",
            "i =  0 15 sat 2.7315467795016455e-06 1.0\n",
            "Lista utilizada:  [0, 1, 4, 5, 6, 7, 8, 9, 10, 11, 12, 15, 16, 17, 18, 19, 20, 21, 24, 25, 26, 27, 28, 29] [x__0 x__1 x__2 x__3 x__4 x__5 x__6 x__7 x__8 x__9 x__10 x__11 x__12 x__13\n",
            " x__14 x__15 x__16 x__17 x__18 x__19 x__20 x__21 x__22 x__23 x__24 x__25\n",
            " x__26 x__27 x__28 x__29]\n",
            "i =  0 14 sat 1.3441466854724964e-06 1.0\n",
            "Lista utilizada:  [0, 1, 4, 5, 6, 7, 8, 9, 10, 11, 12, 14, 15, 16, 17, 18, 19, 20, 21, 24, 25, 26, 27, 28, 29] [x__0 x__1 x__2 x__3 x__4 x__5 x__6 x__7 x__8 x__9 x__10 x__11 x__12 x__13\n",
            " x__14 x__15 x__16 x__17 x__18 x__19 x__20 x__21 x__22 x__23 x__24 x__25\n",
            " x__26 x__27 x__28 x__29]\n",
            "i =  0 13 sat 0.01067230841560884 1.0\n",
            "Lista utilizada:  [0, 1, 4, 5, 6, 7, 8, 9, 10, 11, 14, 15, 16, 17, 18, 19, 20, 21, 24, 25, 26, 27, 28, 29] [x__0 x__1 x__2 x__3 x__4 x__5 x__6 x__7 x__8 x__9 x__10 x__11 x__12 x__13\n",
            " x__14 x__15 x__16 x__17 x__18 x__19 x__20 x__21 x__22 x__23 x__24 x__25\n",
            " x__26 x__27 x__28 x__29]\n",
            "i =  0 12 sat 0.0007510578279266572 1.0\n",
            "Lista utilizada:  [0, 1, 4, 5, 6, 7, 8, 9, 10, 12, 14, 15, 16, 17, 18, 19, 20, 21, 24, 25, 26, 27, 28, 29] [x__0 x__1 x__2 x__3 x__4 x__5 x__6 x__7 x__8 x__9 x__10 x__11 x__12 x__13\n",
            " x__14 x__15 x__16 x__17 x__18 x__19 x__20 x__21 x__22 x__23 x__24 x__25\n",
            " x__26 x__27 x__28 x__29]\n",
            "i =  0 11 sat 0.0002914903620122238 1.0\n",
            "Lista utilizada:  [0, 1, 4, 5, 6, 7, 8, 9, 11, 12, 14, 15, 16, 17, 18, 19, 20, 21, 24, 25, 26, 27, 28, 29] [x__0 x__1 x__2 x__3 x__4 x__5 x__6 x__7 x__8 x__9 x__10 x__11 x__12 x__13\n",
            " x__14 x__15 x__16 x__17 x__18 x__19 x__20 x__21 x__22 x__23 x__24 x__25\n",
            " x__26 x__27 x__28 x__29]\n",
            "i =  0 10 sat 0.0001111189468735308 1.0\n",
            "Lista utilizada:  [0, 1, 4, 5, 6, 7, 8, 10, 11, 12, 14, 15, 16, 17, 18, 19, 20, 21, 24, 25, 26, 27, 28, 29] [x__0 x__1 x__2 x__3 x__4 x__5 x__6 x__7 x__8 x__9 x__10 x__11 x__12 x__13\n",
            " x__14 x__15 x__16 x__17 x__18 x__19 x__20 x__21 x__22 x__23 x__24 x__25\n",
            " x__26 x__27 x__28 x__29]\n",
            "i =  0 9 sat 1.3921015514809592e-05 1.0\n",
            "Lista utilizada:  [0, 1, 4, 5, 6, 7, 9, 10, 11, 12, 14, 15, 16, 17, 18, 19, 20, 21, 24, 25, 26, 27, 28, 29] [x__0 x__1 x__2 x__3 x__4 x__5 x__6 x__7 x__8 x__9 x__10 x__11 x__12 x__13\n",
            " x__14 x__15 x__16 x__17 x__18 x__19 x__20 x__21 x__22 x__23 x__24 x__25\n",
            " x__26 x__27 x__28 x__29]\n",
            "i =  0 8 sat 3.728255759285378e-05 0.0\n",
            "Lista utilizada:  [0, 1, 4, 5, 6, 8, 9, 10, 11, 12, 14, 15, 16, 17, 18, 19, 20, 21, 24, 25, 26, 27, 28, 29] [x__0 x__1 x__2 x__3 x__4 x__5 x__6 x__7 x__8 x__9 x__10 x__11 x__12 x__13\n",
            " x__14 x__15 x__16 x__17 x__18 x__19 x__20 x__21 x__22 x__23 x__24 x__25\n",
            " x__26 x__27 x__28 x__29]\n",
            "i =  0 7 sat 1.2362482369534555e-05 0.0\n",
            "Lista utilizada:  [0, 1, 4, 5, 7, 8, 9, 10, 11, 12, 14, 15, 16, 17, 18, 19, 20, 21, 24, 25, 26, 27, 28, 29] [x__0 x__1 x__2 x__3 x__4 x__5 x__6 x__7 x__8 x__9 x__10 x__11 x__12 x__13\n",
            " x__14 x__15 x__16 x__17 x__18 x__19 x__20 x__21 x__22 x__23 x__24 x__25\n",
            " x__26 x__27 x__28 x__29]\n",
            "i =  0 6 sat 1.7383638928067703e-05 0.0\n",
            "Lista utilizada:  [0, 1, 4, 6, 7, 8, 9, 10, 11, 12, 14, 15, 16, 17, 18, 19, 20, 21, 24, 25, 26, 27, 28, 29] [x__0 x__1 x__2 x__3 x__4 x__5 x__6 x__7 x__8 x__9 x__10 x__11 x__12 x__13\n",
            " x__14 x__15 x__16 x__17 x__18 x__19 x__20 x__21 x__22 x__23 x__24 x__25\n",
            " x__26 x__27 x__28 x__29]\n",
            "i =  0 5 sat 1.6925246826516218e-05 0.0\n",
            "Lista utilizada:  [0, 1, 5, 6, 7, 8, 9, 10, 11, 12, 14, 15, 16, 17, 18, 19, 20, 21, 24, 25, 26, 27, 28, 29] [x__0 x__1 x__2 x__3 x__4 x__5 x__6 x__7 x__8 x__9 x__10 x__11 x__12 x__13\n",
            " x__14 x__15 x__16 x__17 x__18 x__19 x__20 x__21 x__22 x__23 x__24 x__25\n",
            " x__26 x__27 x__28 x__29]\n",
            "i =  0 4 sat 2.3194640338504936e-05 0.0\n",
            "Lista utilizada:  [0, 1, 4, 5, 6, 7, 8, 9, 10, 11, 12, 14, 15, 16, 17, 18, 19, 20, 21, 24, 25, 26, 27, 28, 29] [x__0 x__1 x__2 x__3 x__4 x__5 x__6 x__7 x__8 x__9 x__10 x__11 x__12 x__13\n",
            " x__14 x__15 x__16 x__17 x__18 x__19 x__20 x__21 x__22 x__23 x__24 x__25\n",
            " x__26 x__27 x__28 x__29]\n",
            "i =  0 3 sat 0.16090738128819934 0.0\n",
            "Lista utilizada:  [0, 1, 4, 5, 6, 7, 8, 9, 10, 11, 12, 14, 15, 16, 17, 18, 19, 20, 21, 24, 25, 26, 27, 28, 29] [x__0 x__1 x__2 x__3 x__4 x__5 x__6 x__7 x__8 x__9 x__10 x__11 x__12 x__13\n",
            " x__14 x__15 x__16 x__17 x__18 x__19 x__20 x__21 x__22 x__23 x__24 x__25\n",
            " x__26 x__27 x__28 x__29]\n",
            "i =  0 2 sat 0.022270803949224257 1.0\n",
            "Lista utilizada:  [0, 4, 5, 6, 7, 8, 9, 10, 11, 12, 14, 15, 16, 17, 18, 19, 20, 21, 24, 25, 26, 27, 28, 29] [x__0 x__1 x__2 x__3 x__4 x__5 x__6 x__7 x__8 x__9 x__10 x__11 x__12 x__13\n",
            " x__14 x__15 x__16 x__17 x__18 x__19 x__20 x__21 x__22 x__23 x__24 x__25\n",
            " x__26 x__27 x__28 x__29]\n",
            "i =  0 1 sat 0.0047320169252468266 0.0\n",
            "Lista utilizada:  [1, 4, 5, 6, 7, 8, 9, 10, 11, 12, 14, 15, 16, 17, 18, 19, 20, 21, 24, 25, 26, 27, 28, 29] [x__0 x__1 x__2 x__3 x__4 x__5 x__6 x__7 x__8 x__9 x__10 x__11 x__12 x__13\n",
            " x__14 x__15 x__16 x__17 x__18 x__19 x__20 x__21 x__22 x__23 x__24 x__25\n",
            " x__26 x__27 x__28 x__29]\n",
            "i =  0 0 sat 0.003450869769628585 0.0\n",
            "Relevant:  [0, 1, 2, 3, 4, 5, 6, 7, 8, 9, 10, 11, 12, 13, 14, 15, 16, 17, 18, 19, 20, 21, 22, 23, 24, 25, 26, 27, 28, 29]\n",
            "Lista utilizada:  [0, 1, 4, 5, 6, 7, 8, 9, 10, 11, 12, 14, 15, 16, 17, 18, 19, 20, 21, 24, 25, 26, 27, 28] [x__0 x__1 x__2 x__3 x__4 x__5 x__6 x__7 x__8 x__9 x__10 x__11 x__12 x__13\n",
            " x__14 x__15 x__16 x__17 x__18 x__19 x__20 x__21 x__22 x__23 x__24 x__25\n",
            " x__26 x__27 x__28 x__29]\n",
            "i =  1 29 sat 2.5528913963328634e-05 0.0\n",
            "Lista utilizada:  [0, 1, 4, 5, 6, 7, 8, 9, 10, 11, 12, 14, 15, 16, 17, 18, 19, 20, 21, 24, 25, 26, 27, 29] [x__0 x__1 x__2 x__3 x__4 x__5 x__6 x__7 x__8 x__9 x__10 x__11 x__12 x__13\n",
            " x__14 x__15 x__16 x__17 x__18 x__19 x__20 x__21 x__22 x__23 x__24 x__25\n",
            " x__26 x__27 x__28 x__29]\n",
            "i =  1 28 sat 0.00010418429713211095 0.0\n",
            "Lista utilizada:  [0, 1, 4, 5, 6, 7, 8, 9, 10, 11, 12, 14, 15, 16, 17, 18, 19, 20, 21, 24, 25, 26, 28, 29] [x__0 x__1 x__2 x__3 x__4 x__5 x__6 x__7 x__8 x__9 x__10 x__11 x__12 x__13\n",
            " x__14 x__15 x__16 x__17 x__18 x__19 x__20 x__21 x__22 x__23 x__24 x__25\n",
            " x__26 x__27 x__28 x__29]\n",
            "i =  1 27 sat 4.732016925246827e-05 0.0\n",
            "Lista utilizada:  [0, 1, 4, 5, 6, 7, 8, 9, 10, 11, 12, 14, 15, 16, 17, 18, 19, 20, 21, 24, 25, 27, 28, 29] [x__0 x__1 x__2 x__3 x__4 x__5 x__6 x__7 x__8 x__9 x__10 x__11 x__12 x__13\n",
            " x__14 x__15 x__16 x__17 x__18 x__19 x__20 x__21 x__22 x__23 x__24 x__25\n",
            " x__26 x__27 x__28 x__29]\n",
            "i =  1 26 sat 0.00010921485660554773 0.0\n",
            "Lista utilizada:  [0, 1, 4, 5, 6, 7, 8, 9, 10, 11, 12, 14, 15, 16, 17, 18, 19, 20, 21, 24, 26, 27, 28, 29] [x__0 x__1 x__2 x__3 x__4 x__5 x__6 x__7 x__8 x__9 x__10 x__11 x__12 x__13\n",
            " x__14 x__15 x__16 x__17 x__18 x__19 x__20 x__21 x__22 x__23 x__24 x__25\n",
            " x__26 x__27 x__28 x__29]\n",
            "i =  1 25 sat 0.00012244945933239304 0.0\n",
            "Lista utilizada:  [0, 1, 4, 5, 6, 7, 8, 9, 10, 11, 12, 14, 15, 16, 17, 18, 19, 20, 21, 25, 26, 27, 28, 29] [x__0 x__1 x__2 x__3 x__4 x__5 x__6 x__7 x__8 x__9 x__10 x__11 x__12 x__13\n",
            " x__14 x__15 x__16 x__17 x__18 x__19 x__20 x__21 x__22 x__23 x__24 x__25\n",
            " x__26 x__27 x__28 x__29]\n",
            "i =  1 24 sat 5.232722143864598e-05 0.0\n",
            "Lista utilizada:  [0, 1, 4, 5, 6, 7, 8, 9, 10, 11, 12, 14, 15, 16, 17, 18, 19, 20, 21, 24, 25, 26, 27, 28, 29] [x__0 x__1 x__2 x__3 x__4 x__5 x__6 x__7 x__8 x__9 x__10 x__11 x__12 x__13\n",
            " x__14 x__15 x__16 x__17 x__18 x__19 x__20 x__21 x__22 x__23 x__24 x__25\n",
            " x__26 x__27 x__28 x__29]\n",
            "i =  1 23 sat 0.27103902209685005 0.3455258369687947\n",
            "Lista utilizada:  [0, 1, 4, 5, 6, 7, 8, 9, 10, 11, 12, 14, 15, 16, 17, 18, 19, 20, 21, 24, 25, 26, 27, 28, 29] [x__0 x__1 x__2 x__3 x__4 x__5 x__6 x__7 x__8 x__9 x__10 x__11 x__12 x__13\n",
            " x__14 x__15 x__16 x__17 x__18 x__19 x__20 x__21 x__22 x__23 x__24 x__25\n",
            " x__26 x__27 x__28 x__29]\n",
            "i =  1 22 sat 0.030206864127879644 1.0\n",
            "Lista utilizada:  [0, 1, 4, 5, 6, 7, 8, 9, 10, 11, 12, 14, 15, 16, 17, 18, 19, 20, 24, 25, 26, 27, 28, 29] [x__0 x__1 x__2 x__3 x__4 x__5 x__6 x__7 x__8 x__9 x__10 x__11 x__12 x__13\n",
            " x__14 x__15 x__16 x__17 x__18 x__19 x__20 x__21 x__22 x__23 x__24 x__25\n",
            " x__26 x__27 x__28 x__29]\n",
            "i =  1 21 sat 0.009837799717912554 1.0\n",
            "Lista utilizada:  [0, 1, 4, 5, 6, 7, 8, 9, 10, 11, 12, 14, 15, 16, 17, 18, 19, 21, 24, 25, 26, 27, 28, 29] [x__0 x__1 x__2 x__3 x__4 x__5 x__6 x__7 x__8 x__9 x__10 x__11 x__12 x__13\n",
            " x__14 x__15 x__16 x__17 x__18 x__19 x__20 x__21 x__22 x__23 x__24 x__25\n",
            " x__26 x__27 x__28 x__29]\n",
            "i =  1 20 sat 0.004513399153737658 1.0\n",
            "Lista utilizada:  [0, 1, 4, 5, 6, 7, 8, 9, 10, 11, 12, 14, 15, 16, 17, 18, 20, 21, 24, 25, 26, 27, 28, 29] [x__0 x__1 x__2 x__3 x__4 x__5 x__6 x__7 x__8 x__9 x__10 x__11 x__12 x__13\n",
            " x__14 x__15 x__16 x__17 x__18 x__19 x__20 x__21 x__22 x__23 x__24 x__25\n",
            " x__26 x__27 x__28 x__29]\n",
            "i =  1 19 sat 1.0592383638928067e-06 1.0\n",
            "Lista utilizada:  [0, 1, 4, 5, 6, 7, 8, 9, 10, 11, 12, 14, 15, 16, 17, 19, 20, 21, 24, 25, 26, 27, 28, 29] [x__0 x__1 x__2 x__3 x__4 x__5 x__6 x__7 x__8 x__9 x__10 x__11 x__12 x__13\n",
            " x__14 x__15 x__16 x__17 x__18 x__19 x__20 x__21 x__22 x__23 x__24 x__25\n",
            " x__26 x__27 x__28 x__29]\n",
            "i =  1 18 sat 4.696755994358252e-06 1.0\n",
            "Lista utilizada:  [0, 1, 4, 5, 6, 7, 8, 9, 10, 11, 12, 14, 15, 16, 18, 19, 20, 21, 24, 25, 26, 27, 28, 29] [x__0 x__1 x__2 x__3 x__4 x__5 x__6 x__7 x__8 x__9 x__10 x__11 x__12 x__13\n",
            " x__14 x__15 x__16 x__17 x__18 x__19 x__20 x__21 x__22 x__23 x__24 x__25\n",
            " x__26 x__27 x__28 x__29]\n",
            "i =  1 17 sat 3.0347907851433943e-06 1.0\n",
            "Lista utilizada:  [0, 1, 4, 5, 6, 7, 8, 9, 10, 11, 12, 14, 15, 17, 18, 19, 20, 21, 24, 25, 26, 27, 28, 29] [x__0 x__1 x__2 x__3 x__4 x__5 x__6 x__7 x__8 x__9 x__10 x__11 x__12 x__13\n",
            " x__14 x__15 x__16 x__17 x__18 x__19 x__20 x__21 x__22 x__23 x__24 x__25\n",
            " x__26 x__27 x__28 x__29]\n",
            "i =  1 16 sat 7.315467795016454e-06 1.0\n",
            "Lista utilizada:  [0, 1, 4, 5, 6, 7, 8, 9, 10, 11, 12, 14, 16, 17, 18, 19, 20, 21, 24, 25, 26, 27, 28, 29] [x__0 x__1 x__2 x__3 x__4 x__5 x__6 x__7 x__8 x__9 x__10 x__11 x__12 x__13\n",
            " x__14 x__15 x__16 x__17 x__18 x__19 x__20 x__21 x__22 x__23 x__24 x__25\n",
            " x__26 x__27 x__28 x__29]\n",
            "i =  1 15 sat 7.306064880112835e-06 1.0\n",
            "Lista utilizada:  [0, 1, 4, 5, 6, 7, 8, 9, 10, 11, 12, 15, 16, 17, 18, 19, 20, 21, 24, 25, 26, 27, 28, 29] [x__0 x__1 x__2 x__3 x__4 x__5 x__6 x__7 x__8 x__9 x__10 x__11 x__12 x__13\n",
            " x__14 x__15 x__16 x__17 x__18 x__19 x__20 x__21 x__22 x__23 x__24 x__25\n",
            " x__26 x__27 x__28 x__29]\n",
            "i =  1 14 sat 2.074283027738599e-06 1.0\n",
            "Lista utilizada:  [0, 1, 4, 5, 6, 7, 8, 9, 10, 11, 12, 14, 15, 16, 17, 18, 19, 20, 21, 24, 25, 26, 27, 28, 29] [x__0 x__1 x__2 x__3 x__4 x__5 x__6 x__7 x__8 x__9 x__10 x__11 x__12 x__13\n",
            " x__14 x__15 x__16 x__17 x__18 x__19 x__20 x__21 x__22 x__23 x__24 x__25\n",
            " x__26 x__27 x__28 x__29]\n",
            "i =  1 13 sat 0.012393041842971322 1.0\n",
            "Lista utilizada:  [0, 1, 4, 5, 6, 7, 8, 9, 10, 11, 14, 15, 16, 17, 18, 19, 20, 21, 24, 25, 26, 27, 28, 29] [x__0 x__1 x__2 x__3 x__4 x__5 x__6 x__7 x__8 x__9 x__10 x__11 x__12 x__13\n",
            " x__14 x__15 x__16 x__17 x__18 x__19 x__20 x__21 x__22 x__23 x__24 x__25\n",
            " x__26 x__27 x__28 x__29]\n",
            "i =  1 12 sat 0.0009188998589562764 1.0\n",
            "Lista utilizada:  [0, 1, 4, 5, 6, 7, 8, 9, 10, 12, 14, 15, 16, 17, 18, 19, 20, 21, 24, 25, 26, 27, 28, 29] [x__0 x__1 x__2 x__3 x__4 x__5 x__6 x__7 x__8 x__9 x__10 x__11 x__12 x__13\n",
            " x__14 x__15 x__16 x__17 x__18 x__19 x__20 x__21 x__22 x__23 x__24 x__25\n",
            " x__26 x__27 x__28 x__29]\n",
            "i =  1 11 sat 0.00045369064409967087 1.0\n",
            "Lista utilizada:  [0, 1, 4, 5, 6, 7, 8, 9, 11, 12, 14, 15, 16, 17, 18, 19, 20, 21, 24, 25, 26, 27, 28, 29] [x__0 x__1 x__2 x__3 x__4 x__5 x__6 x__7 x__8 x__9 x__10 x__11 x__12 x__13\n",
            " x__14 x__15 x__16 x__17 x__18 x__19 x__20 x__21 x__22 x__23 x__24 x__25\n",
            " x__26 x__27 x__28 x__29]\n",
            "i =  1 10 sat 0.00013276915843911613 1.0\n",
            "Lista utilizada:  [0, 1, 4, 5, 6, 7, 8, 10, 11, 12, 14, 15, 16, 17, 18, 19, 20, 21, 24, 25, 26, 27, 28, 29] [x__0 x__1 x__2 x__3 x__4 x__5 x__6 x__7 x__8 x__9 x__10 x__11 x__12 x__13\n",
            " x__14 x__15 x__16 x__17 x__18 x__19 x__20 x__21 x__22 x__23 x__24 x__25\n",
            " x__26 x__27 x__28 x__29]\n",
            "i =  1 9 sat 1.744475787494123e-05 1.0\n",
            "Lista utilizada:  [0, 1, 4, 5, 6, 7, 9, 10, 11, 12, 14, 15, 16, 17, 18, 19, 20, 21, 24, 25, 26, 27, 28, 29] [x__0 x__1 x__2 x__3 x__4 x__5 x__6 x__7 x__8 x__9 x__10 x__11 x__12 x__13\n",
            " x__14 x__15 x__16 x__17 x__18 x__19 x__20 x__21 x__22 x__23 x__24 x__25\n",
            " x__26 x__27 x__28 x__29]\n",
            "i =  1 8 sat 5.291490362012224e-05 0.0\n",
            "Lista utilizada:  [0, 1, 4, 5, 6, 8, 9, 10, 11, 12, 14, 15, 16, 17, 18, 19, 20, 21, 24, 25, 26, 27, 28, 29] [x__0 x__1 x__2 x__3 x__4 x__5 x__6 x__7 x__8 x__9 x__10 x__11 x__12 x__13\n",
            " x__14 x__15 x__16 x__17 x__18 x__19 x__20 x__21 x__22 x__23 x__24 x__25\n",
            " x__26 x__27 x__28 x__29]\n",
            "i =  1 7 sat 2.157028678890456e-05 0.0\n",
            "Lista utilizada:  [0, 1, 4, 5, 7, 8, 9, 10, 11, 12, 14, 15, 16, 17, 18, 19, 20, 21, 24, 25, 26, 27, 28, 29] [x__0 x__1 x__2 x__3 x__4 x__5 x__6 x__7 x__8 x__9 x__10 x__11 x__12 x__13\n",
            " x__14 x__15 x__16 x__17 x__18 x__19 x__20 x__21 x__22 x__23 x__24 x__25\n",
            " x__26 x__27 x__28 x__29]\n",
            "i =  1 6 sat 3.6624353549600376e-05 0.0\n",
            "Lista utilizada:  [0, 1, 4, 6, 7, 8, 9, 10, 11, 12, 14, 15, 16, 17, 18, 19, 20, 21, 24, 25, 26, 27, 28, 29] [x__0 x__1 x__2 x__3 x__4 x__5 x__6 x__7 x__8 x__9 x__10 x__11 x__12 x__13\n",
            " x__14 x__15 x__16 x__17 x__18 x__19 x__20 x__21 x__22 x__23 x__24 x__25\n",
            " x__26 x__27 x__28 x__29]\n",
            "i =  1 5 sat 4.156088387400094e-05 0.0\n",
            "Lista utilizada:  [0, 1, 5, 6, 7, 8, 9, 10, 11, 12, 14, 15, 16, 17, 18, 19, 20, 21, 24, 25, 26, 27, 28, 29] [x__0 x__1 x__2 x__3 x__4 x__5 x__6 x__7 x__8 x__9 x__10 x__11 x__12 x__13\n",
            " x__14 x__15 x__16 x__17 x__18 x__19 x__20 x__21 x__22 x__23 x__24 x__25\n",
            " x__26 x__27 x__28 x__29]\n",
            "i =  1 4 sat 3.110014104372355e-05 0.0\n",
            "Lista utilizada:  [0, 1, 4, 5, 6, 7, 8, 9, 10, 11, 12, 14, 15, 16, 17, 18, 19, 20, 21, 24, 25, 26, 27, 28, 29] [x__0 x__1 x__2 x__3 x__4 x__5 x__6 x__7 x__8 x__9 x__10 x__11 x__12 x__13\n",
            " x__14 x__15 x__16 x__17 x__18 x__19 x__20 x__21 x__22 x__23 x__24 x__25\n",
            " x__26 x__27 x__28 x__29]\n",
            "i =  1 3 sat 0.14052656323460272 0.0\n",
            "Lista utilizada:  [0, 1, 4, 5, 6, 7, 8, 9, 10, 11, 12, 14, 15, 16, 17, 18, 19, 20, 21, 24, 25, 26, 27, 28, 29] [x__0 x__1 x__2 x__3 x__4 x__5 x__6 x__7 x__8 x__9 x__10 x__11 x__12 x__13\n",
            " x__14 x__15 x__16 x__17 x__18 x__19 x__20 x__21 x__22 x__23 x__24 x__25\n",
            " x__26 x__27 x__28 x__29]\n",
            "i =  1 2 sat 0.02152327221438646 1.0\n",
            "Lista utilizada:  [0, 4, 5, 6, 7, 8, 9, 10, 11, 12, 14, 15, 16, 17, 18, 19, 20, 21, 24, 25, 26, 27, 28, 29] [x__0 x__1 x__2 x__3 x__4 x__5 x__6 x__7 x__8 x__9 x__10 x__11 x__12 x__13\n",
            " x__14 x__15 x__16 x__17 x__18 x__19 x__20 x__21 x__22 x__23 x__24 x__25\n",
            " x__26 x__27 x__28 x__29]\n",
            "i =  1 1 sat 0.005582980724024448 0.0\n",
            "Lista utilizada:  [1, 4, 5, 6, 7, 8, 9, 10, 11, 12, 14, 15, 16, 17, 18, 19, 20, 21, 24, 25, 26, 27, 28, 29] [x__0 x__1 x__2 x__3 x__4 x__5 x__6 x__7 x__8 x__9 x__10 x__11 x__12 x__13\n",
            " x__14 x__15 x__16 x__17 x__18 x__19 x__20 x__21 x__22 x__23 x__24 x__25\n",
            " x__26 x__27 x__28 x__29]\n",
            "i =  1 0 sat 0.003246356370474847 0.0\n",
            "Relevant:  [0, 1, 2, 3, 4, 5, 6, 7, 8, 9, 10, 11, 12, 13, 14, 15, 16, 17, 18, 19, 20, 21, 22, 23, 24, 25, 26, 27, 28, 29]\n",
            "Lista utilizada:  [0, 1, 4, 5, 6, 7, 8, 9, 10, 11, 12, 14, 15, 16, 17, 18, 19, 20, 21, 24, 25, 26, 27, 28] [x__0 x__1 x__2 x__3 x__4 x__5 x__6 x__7 x__8 x__9 x__10 x__11 x__12 x__13\n",
            " x__14 x__15 x__16 x__17 x__18 x__19 x__20 x__21 x__22 x__23 x__24 x__25\n",
            " x__26 x__27 x__28 x__29]\n",
            "i =  2 29 sat 2.14480488951575e-05 0.0\n",
            "Lista utilizada:  [0, 1, 4, 5, 6, 7, 8, 9, 10, 11, 12, 14, 15, 16, 17, 18, 19, 20, 21, 24, 25, 26, 27, 29] [x__0 x__1 x__2 x__3 x__4 x__5 x__6 x__7 x__8 x__9 x__10 x__11 x__12 x__13\n",
            " x__14 x__15 x__16 x__17 x__18 x__19 x__20 x__21 x__22 x__23 x__24 x__25\n",
            " x__26 x__27 x__28 x__29]\n",
            "i =  2 28 sat 7.096850023507288e-05 0.0\n",
            "Lista utilizada:  [0, 1, 4, 5, 6, 7, 8, 9, 10, 11, 12, 14, 15, 16, 17, 18, 19, 20, 21, 24, 25, 26, 28, 29] [x__0 x__1 x__2 x__3 x__4 x__5 x__6 x__7 x__8 x__9 x__10 x__11 x__12 x__13\n",
            " x__14 x__15 x__16 x__17 x__18 x__19 x__20 x__21 x__22 x__23 x__24 x__25\n",
            " x__26 x__27 x__28 x__29]\n",
            "i =  2 27 sat 4.656793606017865e-05 0.0\n",
            "Lista utilizada:  [0, 1, 4, 5, 6, 7, 8, 9, 10, 11, 12, 14, 15, 16, 17, 18, 19, 20, 21, 24, 25, 27, 28, 29] [x__0 x__1 x__2 x__3 x__4 x__5 x__6 x__7 x__8 x__9 x__10 x__11 x__12 x__13\n",
            " x__14 x__15 x__16 x__17 x__18 x__19 x__20 x__21 x__22 x__23 x__24 x__25\n",
            " x__26 x__27 x__28 x__29]\n",
            "i =  2 26 sat 0.0001165021156558533 0.0\n",
            "Lista utilizada:  [0, 1, 4, 5, 6, 7, 8, 9, 10, 11, 12, 14, 15, 16, 17, 18, 19, 20, 21, 24, 26, 27, 28, 29] [x__0 x__1 x__2 x__3 x__4 x__5 x__6 x__7 x__8 x__9 x__10 x__11 x__12 x__13\n",
            " x__14 x__15 x__16 x__17 x__18 x__19 x__20 x__21 x__22 x__23 x__24 x__25\n",
            " x__26 x__27 x__28 x__29]\n",
            "i =  2 25 sat 0.00010526563234602727 0.0\n",
            "Lista utilizada:  [0, 1, 4, 5, 6, 7, 8, 9, 10, 11, 12, 14, 15, 16, 17, 18, 19, 20, 21, 25, 26, 27, 28, 29] [x__0 x__1 x__2 x__3 x__4 x__5 x__6 x__7 x__8 x__9 x__10 x__11 x__12 x__13\n",
            " x__14 x__15 x__16 x__17 x__18 x__19 x__20 x__21 x__22 x__23 x__24 x__25\n",
            " x__26 x__27 x__28 x__29]\n",
            "i =  2 24 sat 3.3732957216737184e-05 0.0\n",
            "Lista utilizada:  [0, 1, 4, 5, 6, 7, 8, 9, 10, 11, 12, 14, 15, 16, 17, 18, 19, 20, 21, 24, 25, 26, 27, 28, 29] [x__0 x__1 x__2 x__3 x__4 x__5 x__6 x__7 x__8 x__9 x__10 x__11 x__12 x__13\n",
            " x__14 x__15 x__16 x__17 x__18 x__19 x__20 x__21 x__22 x__23 x__24 x__25\n",
            " x__26 x__27 x__28 x__29]\n",
            "i =  2 23 sat 0.25152797367183827 0.34563228245013544\n",
            "Lista utilizada:  [0, 1, 4, 5, 6, 7, 8, 9, 10, 11, 12, 14, 15, 16, 17, 18, 19, 20, 21, 24, 25, 26, 27, 28, 29] [x__0 x__1 x__2 x__3 x__4 x__5 x__6 x__7 x__8 x__9 x__10 x__11 x__12 x__13\n",
            " x__14 x__15 x__16 x__17 x__18 x__19 x__20 x__21 x__22 x__23 x__24 x__25\n",
            " x__26 x__27 x__28 x__29]\n",
            "i =  2 22 sat 0.02921955806299953 1.0\n",
            "Lista utilizada:  [0, 1, 4, 5, 6, 7, 8, 9, 10, 11, 12, 14, 15, 16, 17, 18, 19, 20, 24, 25, 26, 27, 28, 29] [x__0 x__1 x__2 x__3 x__4 x__5 x__6 x__7 x__8 x__9 x__10 x__11 x__12 x__13\n",
            " x__14 x__15 x__16 x__17 x__18 x__19 x__20 x__21 x__22 x__23 x__24 x__25\n",
            " x__26 x__27 x__28 x__29]\n",
            "i =  2 21 sat 0.005166901739539257 1.0\n",
            "Lista utilizada:  [0, 1, 4, 5, 6, 7, 8, 9, 10, 11, 12, 14, 15, 16, 17, 18, 19, 21, 24, 25, 26, 27, 28, 29] [x__0 x__1 x__2 x__3 x__4 x__5 x__6 x__7 x__8 x__9 x__10 x__11 x__12 x__13\n",
            " x__14 x__15 x__16 x__17 x__18 x__19 x__20 x__21 x__22 x__23 x__24 x__25\n",
            " x__26 x__27 x__28 x__29]\n",
            "i =  2 20 sat 0.0044099670897978374 1.0\n",
            "Lista utilizada:  [0, 1, 4, 5, 6, 7, 8, 9, 10, 11, 12, 14, 15, 16, 17, 18, 20, 21, 24, 25, 26, 27, 28, 29] [x__0 x__1 x__2 x__3 x__4 x__5 x__6 x__7 x__8 x__9 x__10 x__11 x__12 x__13\n",
            " x__14 x__15 x__16 x__17 x__18 x__19 x__20 x__21 x__22 x__23 x__24 x__25\n",
            " x__26 x__27 x__28 x__29]\n",
            "i =  2 19 sat 7.3366243535496e-07 1.0\n",
            "Lista utilizada:  [0, 1, 4, 5, 6, 7, 8, 9, 10, 11, 12, 14, 15, 16, 17, 19, 20, 21, 24, 25, 26, 27, 28, 29] [x__0 x__1 x__2 x__3 x__4 x__5 x__6 x__7 x__8 x__9 x__10 x__11 x__12 x__13\n",
            " x__14 x__15 x__16 x__17 x__18 x__19 x__20 x__21 x__22 x__23 x__24 x__25\n",
            " x__26 x__27 x__28 x__29]\n",
            "i =  2 18 sat 3.44851904090268e-06 1.0\n",
            "Lista utilizada:  [0, 1, 4, 5, 6, 7, 8, 9, 10, 11, 12, 14, 15, 16, 18, 19, 20, 21, 24, 25, 26, 27, 28, 29] [x__0 x__1 x__2 x__3 x__4 x__5 x__6 x__7 x__8 x__9 x__10 x__11 x__12 x__13\n",
            " x__14 x__15 x__16 x__17 x__18 x__19 x__20 x__21 x__22 x__23 x__24 x__25\n",
            " x__26 x__27 x__28 x__29]\n",
            "i =  2 17 sat 3.4297132110954396e-06 1.0\n",
            "Lista utilizada:  [0, 1, 4, 5, 6, 7, 8, 9, 10, 11, 12, 14, 15, 17, 18, 19, 20, 21, 24, 25, 26, 27, 28, 29] [x__0 x__1 x__2 x__3 x__4 x__5 x__6 x__7 x__8 x__9 x__10 x__11 x__12 x__13\n",
            " x__14 x__15 x__16 x__17 x__18 x__19 x__20 x__21 x__22 x__23 x__24 x__25\n",
            " x__26 x__27 x__28 x__29]\n",
            "i =  2 16 sat 8.73295721673719e-06 1.0\n",
            "Lista utilizada:  [0, 1, 4, 5, 6, 7, 8, 9, 10, 11, 12, 14, 16, 17, 18, 19, 20, 21, 24, 25, 26, 27, 28, 29] [x__0 x__1 x__2 x__3 x__4 x__5 x__6 x__7 x__8 x__9 x__10 x__11 x__12 x__13\n",
            " x__14 x__15 x__16 x__17 x__18 x__19 x__20 x__21 x__22 x__23 x__24 x__25\n",
            " x__26 x__27 x__28 x__29]\n",
            "i =  2 15 sat 7.628114715561824e-06 1.0\n",
            "Lista utilizada:  [0, 1, 4, 5, 6, 7, 8, 9, 10, 11, 12, 15, 16, 17, 18, 19, 20, 21, 24, 25, 26, 27, 28, 29] [x__0 x__1 x__2 x__3 x__4 x__5 x__6 x__7 x__8 x__9 x__10 x__11 x__12 x__13\n",
            " x__14 x__15 x__16 x__17 x__18 x__19 x__20 x__21 x__22 x__23 x__24 x__25\n",
            " x__26 x__27 x__28 x__29]\n",
            "i =  2 14 sat 1.3725905030559473e-06 1.0\n",
            "Lista utilizada:  [0, 1, 4, 5, 6, 7, 8, 9, 10, 11, 12, 14, 15, 16, 17, 18, 19, 20, 21, 24, 25, 26, 27, 28, 29] [x__0 x__1 x__2 x__3 x__4 x__5 x__6 x__7 x__8 x__9 x__10 x__11 x__12 x__13\n",
            " x__14 x__15 x__16 x__17 x__18 x__19 x__20 x__21 x__22 x__23 x__24 x__25\n",
            " x__26 x__27 x__28 x__29]\n",
            "i =  2 13 sat 0.007820874471086037 1.0\n",
            "Lista utilizada:  [0, 1, 4, 5, 6, 7, 8, 9, 10, 11, 14, 15, 16, 17, 18, 19, 20, 21, 24, 25, 26, 27, 28, 29] [x__0 x__1 x__2 x__3 x__4 x__5 x__6 x__7 x__8 x__9 x__10 x__11 x__12 x__13\n",
            " x__14 x__15 x__16 x__17 x__18 x__19 x__20 x__21 x__22 x__23 x__24 x__25\n",
            " x__26 x__27 x__28 x__29]\n",
            "i =  2 12 sat 0.0006180065820404325 1.0\n",
            "Lista utilizada:  [0, 1, 4, 5, 6, 7, 8, 9, 10, 12, 14, 15, 16, 17, 18, 19, 20, 21, 24, 25, 26, 27, 28, 29] [x__0 x__1 x__2 x__3 x__4 x__5 x__6 x__7 x__8 x__9 x__10 x__11 x__12 x__13\n",
            " x__14 x__15 x__16 x__17 x__18 x__19 x__20 x__21 x__22 x__23 x__24 x__25\n",
            " x__26 x__27 x__28 x__29]\n",
            "i =  2 11 sat 0.0001757404795486601 1.0\n",
            "Lista utilizada:  [0, 1, 4, 5, 6, 7, 8, 9, 11, 12, 14, 15, 16, 17, 18, 19, 20, 21, 24, 25, 26, 27, 28, 29] [x__0 x__1 x__2 x__3 x__4 x__5 x__6 x__7 x__8 x__9 x__10 x__11 x__12 x__13\n",
            " x__14 x__15 x__16 x__17 x__18 x__19 x__20 x__21 x__22 x__23 x__24 x__25\n",
            " x__26 x__27 x__28 x__29]\n",
            "i =  2 10 sat 7.924306535025858e-05 1.0\n",
            "Lista utilizada:  [0, 1, 4, 5, 6, 7, 8, 10, 11, 12, 14, 15, 16, 17, 18, 19, 20, 21, 24, 25, 26, 27, 28, 29] [x__0 x__1 x__2 x__3 x__4 x__5 x__6 x__7 x__8 x__9 x__10 x__11 x__12 x__13\n",
            " x__14 x__15 x__16 x__17 x__18 x__19 x__20 x__21 x__22 x__23 x__24 x__25\n",
            " x__26 x__27 x__28 x__29]\n",
            "i =  2 9 sat 1.4047954866008463e-05 1.0\n",
            "Lista utilizada:  [0, 1, 4, 5, 6, 7, 9, 10, 11, 12, 14, 15, 16, 17, 18, 19, 20, 21, 24, 25, 26, 27, 28, 29] [x__0 x__1 x__2 x__3 x__4 x__5 x__6 x__7 x__8 x__9 x__10 x__11 x__12 x__13\n",
            " x__14 x__15 x__16 x__17 x__18 x__19 x__20 x__21 x__22 x__23 x__24 x__25\n",
            " x__26 x__27 x__28 x__29]\n",
            "i =  2 8 sat 4.188998589562765e-05 0.0\n",
            "Lista utilizada:  [0, 1, 4, 5, 6, 8, 9, 10, 11, 12, 14, 15, 16, 17, 18, 19, 20, 21, 24, 25, 26, 27, 28, 29] [x__0 x__1 x__2 x__3 x__4 x__5 x__6 x__7 x__8 x__9 x__10 x__11 x__12 x__13\n",
            " x__14 x__15 x__16 x__17 x__18 x__19 x__20 x__21 x__22 x__23 x__24 x__25\n",
            " x__26 x__27 x__28 x__29]\n",
            "i =  2 7 sat 1.655148095909732e-05 0.0\n",
            "Lista utilizada:  [0, 1, 4, 5, 7, 8, 9, 10, 11, 12, 14, 15, 16, 17, 18, 19, 20, 21, 24, 25, 26, 27, 28, 29] [x__0 x__1 x__2 x__3 x__4 x__5 x__6 x__7 x__8 x__9 x__10 x__11 x__12 x__13\n",
            " x__14 x__15 x__16 x__17 x__18 x__19 x__20 x__21 x__22 x__23 x__24 x__25\n",
            " x__26 x__27 x__28 x__29]\n",
            "i =  2 6 sat 2.8302773859896568e-05 0.0\n",
            "Lista utilizada:  [0, 1, 4, 6, 7, 8, 9, 10, 11, 12, 14, 15, 16, 17, 18, 19, 20, 21, 24, 25, 26, 27, 28, 29] [x__0 x__1 x__2 x__3 x__4 x__5 x__6 x__7 x__8 x__9 x__10 x__11 x__12 x__13\n",
            " x__14 x__15 x__16 x__17 x__18 x__19 x__20 x__21 x__22 x__23 x__24 x__25\n",
            " x__26 x__27 x__28 x__29]\n",
            "i =  2 5 sat 3.222849083215797e-05 0.0\n",
            "Lista utilizada:  [0, 1, 5, 6, 7, 8, 9, 10, 11, 12, 14, 15, 16, 17, 18, 19, 20, 21, 24, 25, 26, 27, 28, 29] [x__0 x__1 x__2 x__3 x__4 x__5 x__6 x__7 x__8 x__9 x__10 x__11 x__12 x__13\n",
            " x__14 x__15 x__16 x__17 x__18 x__19 x__20 x__21 x__22 x__23 x__24 x__25\n",
            " x__26 x__27 x__28 x__29]\n",
            "i =  2 4 sat 2.2310766337564642e-05 0.0\n",
            "Lista utilizada:  [0, 1, 4, 5, 6, 7, 8, 9, 10, 11, 12, 14, 15, 16, 17, 18, 19, 20, 21, 24, 25, 26, 27, 28, 29] [x__0 x__1 x__2 x__3 x__4 x__5 x__6 x__7 x__8 x__9 x__10 x__11 x__12 x__13\n",
            " x__14 x__15 x__16 x__17 x__18 x__19 x__20 x__21 x__22 x__23 x__24 x__25\n",
            " x__26 x__27 x__28 x__29]\n",
            "i =  2 3 sat 0.18645980253878702 0.0\n",
            "Lista utilizada:  [0, 1, 4, 5, 6, 7, 8, 9, 10, 11, 12, 14, 15, 16, 17, 18, 19, 20, 21, 24, 25, 26, 27, 28, 29] [x__0 x__1 x__2 x__3 x__4 x__5 x__6 x__7 x__8 x__9 x__10 x__11 x__12 x__13\n",
            " x__14 x__15 x__16 x__17 x__18 x__19 x__20 x__21 x__22 x__23 x__24 x__25\n",
            " x__26 x__27 x__28 x__29]\n",
            "i =  2 2 sat 0.024870709920075222 1.0\n",
            "Lista utilizada:  [0, 4, 5, 6, 7, 8, 9, 10, 11, 12, 14, 15, 16, 17, 18, 19, 20, 21, 24, 25, 26, 27, 28, 29] [x__0 x__1 x__2 x__3 x__4 x__5 x__6 x__7 x__8 x__9 x__10 x__11 x__12 x__13\n",
            " x__14 x__15 x__16 x__17 x__18 x__19 x__20 x__21 x__22 x__23 x__24 x__25\n",
            " x__26 x__27 x__28 x__29]\n",
            "i =  2 1 sat 0.0036459802538787024 0.0\n",
            "Lista utilizada:  [1, 4, 5, 6, 7, 8, 9, 10, 11, 12, 14, 15, 16, 17, 18, 19, 20, 21, 24, 25, 26, 27, 28, 29] [x__0 x__1 x__2 x__3 x__4 x__5 x__6 x__7 x__8 x__9 x__10 x__11 x__12 x__13\n",
            " x__14 x__15 x__16 x__17 x__18 x__19 x__20 x__21 x__22 x__23 x__24 x__25\n",
            " x__26 x__27 x__28 x__29]\n",
            "i =  2 0 sat 0.0037682181476257643 0.0\n",
            "Relevant:  [0, 1, 2, 3, 4, 5, 6, 7, 8, 9, 10, 11, 12, 13, 14, 15, 16, 17, 18, 19, 20, 21, 22, 23, 24, 25, 26, 27, 28, 29]\n",
            "Lista utilizada:  [0, 1, 4, 5, 6, 7, 8, 9, 10, 11, 12, 14, 15, 16, 17, 18, 19, 20, 21, 24, 25, 26, 27, 28] [x__0 x__1 x__2 x__3 x__4 x__5 x__6 x__7 x__8 x__9 x__10 x__11 x__12 x__13\n",
            " x__14 x__15 x__16 x__17 x__18 x__19 x__20 x__21 x__22 x__23 x__24 x__25\n",
            " x__26 x__27 x__28 x__29]\n",
            "i =  3 29 sat 2.5011753643629523e-05 0.0\n",
            "Lista utilizada:  [0, 1, 4, 5, 6, 7, 8, 9, 10, 11, 12, 14, 15, 16, 17, 18, 19, 20, 21, 24, 25, 26, 27, 29] [x__0 x__1 x__2 x__3 x__4 x__5 x__6 x__7 x__8 x__9 x__10 x__11 x__12 x__13\n",
            " x__14 x__15 x__16 x__17 x__18 x__19 x__20 x__21 x__22 x__23 x__24 x__25\n",
            " x__26 x__27 x__28 x__29]\n",
            "i =  3 28 sat 9.386459802538787e-05 0.0\n",
            "Lista utilizada:  [0, 1, 4, 5, 6, 7, 8, 9, 10, 11, 12, 14, 15, 16, 17, 18, 19, 20, 21, 24, 25, 26, 28, 29] [x__0 x__1 x__2 x__3 x__4 x__5 x__6 x__7 x__8 x__9 x__10 x__11 x__12 x__13\n",
            " x__14 x__15 x__16 x__17 x__18 x__19 x__20 x__21 x__22 x__23 x__24 x__25\n",
            " x__26 x__27 x__28 x__29]\n",
            "i =  3 27 sat 3.4767277856135406e-05 0.0\n",
            "Lista utilizada:  [0, 1, 4, 5, 6, 7, 8, 9, 10, 11, 12, 14, 15, 16, 17, 18, 19, 20, 21, 24, 25, 27, 28, 29] [x__0 x__1 x__2 x__3 x__4 x__5 x__6 x__7 x__8 x__9 x__10 x__11 x__12 x__13\n",
            " x__14 x__15 x__16 x__17 x__18 x__19 x__20 x__21 x__22 x__23 x__24 x__25\n",
            " x__26 x__27 x__28 x__29]\n",
            "i =  3 26 sat 9.346497414198402e-05 0.0\n",
            "Lista utilizada:  [0, 1, 4, 5, 6, 7, 8, 9, 10, 11, 12, 14, 15, 16, 17, 18, 19, 20, 21, 24, 26, 27, 28, 29] [x__0 x__1 x__2 x__3 x__4 x__5 x__6 x__7 x__8 x__9 x__10 x__11 x__12 x__13\n",
            " x__14 x__15 x__16 x__17 x__18 x__19 x__20 x__21 x__22 x__23 x__24 x__25\n",
            " x__26 x__27 x__28 x__29]\n",
            "i =  3 25 sat 0.00010531264692054537 0.0\n",
            "Lista utilizada:  [0, 1, 4, 5, 6, 7, 8, 9, 10, 11, 12, 14, 15, 16, 17, 18, 19, 20, 21, 25, 26, 27, 28, 29] [x__0 x__1 x__2 x__3 x__4 x__5 x__6 x__7 x__8 x__9 x__10 x__11 x__12 x__13\n",
            " x__14 x__15 x__16 x__17 x__18 x__19 x__20 x__21 x__22 x__23 x__24 x__25\n",
            " x__26 x__27 x__28 x__29]\n",
            "i =  3 24 sat 3.6483309826046074e-05 0.0\n",
            "Lista utilizada:  [0, 1, 4, 5, 6, 7, 8, 9, 10, 11, 12, 14, 15, 16, 17, 18, 19, 20, 21, 24, 25, 26, 27, 28, 29] [x__0 x__1 x__2 x__3 x__4 x__5 x__6 x__7 x__8 x__9 x__10 x__11 x__12 x__13\n",
            " x__14 x__15 x__16 x__17 x__18 x__19 x__20 x__21 x__22 x__23 x__24 x__25\n",
            " x__26 x__27 x__28 x__29]\n",
            "i =  3 23 sat 0.2557592853784673 0.34558349131910293\n",
            "Lista utilizada:  [0, 1, 4, 5, 6, 7, 8, 9, 10, 11, 12, 14, 15, 16, 17, 18, 19, 20, 21, 24, 25, 26, 27, 28, 29] [x__0 x__1 x__2 x__3 x__4 x__5 x__6 x__7 x__8 x__9 x__10 x__11 x__12 x__13\n",
            " x__14 x__15 x__16 x__17 x__18 x__19 x__20 x__21 x__22 x__23 x__24 x__25\n",
            " x__26 x__27 x__28 x__29]\n",
            "i =  3 22 sat 0.029595674659144335 1.0\n",
            "Lista utilizada:  [0, 1, 4, 5, 6, 7, 8, 9, 10, 11, 12, 14, 15, 16, 17, 18, 19, 20, 24, 25, 26, 27, 28, 29] [x__0 x__1 x__2 x__3 x__4 x__5 x__6 x__7 x__8 x__9 x__10 x__11 x__12 x__13\n",
            " x__14 x__15 x__16 x__17 x__18 x__19 x__20 x__21 x__22 x__23 x__24 x__25\n",
            " x__26 x__27 x__28 x__29]\n",
            "i =  3 21 sat 0.007120357310766337 1.0\n",
            "Lista utilizada:  [0, 1, 4, 5, 6, 7, 8, 9, 10, 11, 12, 14, 15, 16, 17, 18, 19, 21, 24, 25, 26, 27, 28, 29] [x__0 x__1 x__2 x__3 x__4 x__5 x__6 x__7 x__8 x__9 x__10 x__11 x__12 x__13\n",
            " x__14 x__15 x__16 x__17 x__18 x__19 x__20 x__21 x__22 x__23 x__24 x__25\n",
            " x__26 x__27 x__28 x__29]\n",
            "i =  3 20 sat 0.00459802538787024 1.0\n",
            "Lista utilizada:  [0, 1, 4, 5, 6, 7, 8, 9, 10, 11, 12, 14, 15, 16, 17, 18, 20, 21, 24, 25, 26, 27, 28, 29] [x__0 x__1 x__2 x__3 x__4 x__5 x__6 x__7 x__8 x__9 x__10 x__11 x__12 x__13\n",
            " x__14 x__15 x__16 x__17 x__18 x__19 x__20 x__21 x__22 x__23 x__24 x__25\n",
            " x__26 x__27 x__28 x__29]\n",
            "i =  3 19 sat 7.360131640808651e-07 1.0\n",
            "Lista utilizada:  [0, 1, 4, 5, 6, 7, 8, 9, 10, 11, 12, 14, 15, 16, 17, 19, 20, 21, 24, 25, 26, 27, 28, 29] [x__0 x__1 x__2 x__3 x__4 x__5 x__6 x__7 x__8 x__9 x__10 x__11 x__12 x__13\n",
            " x__14 x__15 x__16 x__17 x__18 x__19 x__20 x__21 x__22 x__23 x__24 x__25\n",
            " x__26 x__27 x__28 x__29]\n",
            "i =  3 18 sat 4.165491302303714e-06 1.0\n",
            "Lista utilizada:  [0, 1, 4, 5, 6, 7, 8, 9, 10, 11, 12, 14, 15, 16, 18, 19, 20, 21, 24, 25, 26, 27, 28, 29] [x__0 x__1 x__2 x__3 x__4 x__5 x__6 x__7 x__8 x__9 x__10 x__11 x__12 x__13\n",
            " x__14 x__15 x__16 x__17 x__18 x__19 x__20 x__21 x__22 x__23 x__24 x__25\n",
            " x__26 x__27 x__28 x__29]\n",
            "i =  3 17 sat 2.030324400564175e-06 1.0\n",
            "Lista utilizada:  [0, 1, 4, 5, 6, 7, 8, 9, 10, 11, 12, 14, 15, 17, 18, 19, 20, 21, 24, 25, 26, 27, 28, 29] [x__0 x__1 x__2 x__3 x__4 x__5 x__6 x__7 x__8 x__9 x__10 x__11 x__12 x__13\n",
            " x__14 x__15 x__16 x__17 x__18 x__19 x__20 x__21 x__22 x__23 x__24 x__25\n",
            " x__26 x__27 x__28 x__29]\n",
            "i =  3 16 sat 5.604137282557593e-06 1.0\n",
            "Lista utilizada:  [0, 1, 4, 5, 6, 7, 8, 9, 10, 11, 12, 14, 16, 17, 18, 19, 20, 21, 24, 25, 26, 27, 28, 29] [x__0 x__1 x__2 x__3 x__4 x__5 x__6 x__7 x__8 x__9 x__10 x__11 x__12 x__13\n",
            " x__14 x__15 x__16 x__17 x__18 x__19 x__20 x__21 x__22 x__23 x__24 x__25\n",
            " x__26 x__27 x__28 x__29]\n",
            "i =  3 15 sat 5.580629995298543e-06 1.0\n",
            "Lista utilizada:  [0, 1, 4, 5, 6, 7, 8, 9, 10, 11, 12, 15, 16, 17, 18, 19, 20, 21, 24, 25, 26, 27, 28, 29] [x__0 x__1 x__2 x__3 x__4 x__5 x__6 x__7 x__8 x__9 x__10 x__11 x__12 x__13\n",
            " x__14 x__15 x__16 x__17 x__18 x__19 x__20 x__21 x__22 x__23 x__24 x__25\n",
            " x__26 x__27 x__28 x__29]\n",
            "i =  3 14 sat 1.1203573107663376e-06 1.0\n",
            "Lista utilizada:  [0, 1, 4, 5, 6, 7, 8, 9, 10, 11, 12, 14, 15, 16, 17, 18, 19, 20, 21, 24, 25, 26, 27, 28, 29] [x__0 x__1 x__2 x__3 x__4 x__5 x__6 x__7 x__8 x__9 x__10 x__11 x__12 x__13\n",
            " x__14 x__15 x__16 x__17 x__18 x__19 x__20 x__21 x__22 x__23 x__24 x__25\n",
            " x__26 x__27 x__28 x__29]\n",
            "i =  3 13 sat 0.007566995768688293 1.0\n",
            "Lista utilizada:  [0, 1, 4, 5, 6, 7, 8, 9, 10, 11, 14, 15, 16, 17, 18, 19, 20, 21, 24, 25, 26, 27, 28, 29] [x__0 x__1 x__2 x__3 x__4 x__5 x__6 x__7 x__8 x__9 x__10 x__11 x__12 x__13\n",
            " x__14 x__15 x__16 x__17 x__18 x__19 x__20 x__21 x__22 x__23 x__24 x__25\n",
            " x__26 x__27 x__28 x__29]\n",
            "i =  3 12 sat 0.0005275035260930889 1.0\n",
            "Lista utilizada:  [0, 1, 4, 5, 6, 7, 8, 9, 10, 12, 14, 15, 16, 17, 18, 19, 20, 21, 24, 25, 26, 27, 28, 29] [x__0 x__1 x__2 x__3 x__4 x__5 x__6 x__7 x__8 x__9 x__10 x__11 x__12 x__13\n",
            " x__14 x__15 x__16 x__17 x__18 x__19 x__20 x__21 x__22 x__23 x__24 x__25\n",
            " x__26 x__27 x__28 x__29]\n",
            "i =  3 11 sat 0.00021647860836859428 1.0\n",
            "Lista utilizada:  [0, 1, 4, 5, 6, 7, 8, 9, 11, 12, 14, 15, 16, 17, 18, 19, 20, 21, 24, 25, 26, 27, 28, 29] [x__0 x__1 x__2 x__3 x__4 x__5 x__6 x__7 x__8 x__9 x__10 x__11 x__12 x__13\n",
            " x__14 x__15 x__16 x__17 x__18 x__19 x__20 x__21 x__22 x__23 x__24 x__25\n",
            " x__26 x__27 x__28 x__29]\n",
            "i =  3 10 sat 8.16408086506817e-05 1.0\n",
            "Lista utilizada:  [0, 1, 4, 5, 6, 7, 8, 10, 11, 12, 14, 15, 16, 17, 18, 19, 20, 21, 24, 25, 26, 27, 28, 29] [x__0 x__1 x__2 x__3 x__4 x__5 x__6 x__7 x__8 x__9 x__10 x__11 x__12 x__13\n",
            " x__14 x__15 x__16 x__17 x__18 x__19 x__20 x__21 x__22 x__23 x__24 x__25\n",
            " x__26 x__27 x__28 x__29]\n",
            "i =  3 9 sat 1.4816643159379409e-05 1.0\n",
            "Lista utilizada:  [0, 1, 4, 5, 6, 7, 9, 10, 11, 12, 14, 15, 16, 17, 18, 19, 20, 21, 24, 25, 26, 27, 28, 29] [x__0 x__1 x__2 x__3 x__4 x__5 x__6 x__7 x__8 x__9 x__10 x__11 x__12 x__13\n",
            " x__14 x__15 x__16 x__17 x__18 x__19 x__20 x__21 x__22 x__23 x__24 x__25\n",
            " x__26 x__27 x__28 x__29]\n",
            "i =  3 8 sat 4.548660084626234e-05 0.0\n",
            "Lista utilizada:  [0, 1, 4, 5, 6, 8, 9, 10, 11, 12, 14, 15, 16, 17, 18, 19, 20, 21, 24, 25, 26, 27, 28, 29] [x__0 x__1 x__2 x__3 x__4 x__5 x__6 x__7 x__8 x__9 x__10 x__11 x__12 x__13\n",
            " x__14 x__15 x__16 x__17 x__18 x__19 x__20 x__21 x__22 x__23 x__24 x__25\n",
            " x__26 x__27 x__28 x__29]\n",
            "i =  3 7 sat 1.5190409026798307e-05 0.0\n",
            "Lista utilizada:  [0, 1, 4, 5, 7, 8, 9, 10, 11, 12, 14, 15, 16, 17, 18, 19, 20, 21, 24, 25, 26, 27, 28, 29] [x__0 x__1 x__2 x__3 x__4 x__5 x__6 x__7 x__8 x__9 x__10 x__11 x__12 x__13\n",
            " x__14 x__15 x__16 x__17 x__18 x__19 x__20 x__21 x__22 x__23 x__24 x__25\n",
            " x__26 x__27 x__28 x__29]\n",
            "i =  3 6 sat 2.6962858486130698e-05 0.0\n",
            "Lista utilizada:  [0, 1, 4, 6, 7, 8, 9, 10, 11, 12, 14, 15, 16, 17, 18, 19, 20, 21, 24, 25, 26, 27, 28, 29] [x__0 x__1 x__2 x__3 x__4 x__5 x__6 x__7 x__8 x__9 x__10 x__11 x__12 x__13\n",
            " x__14 x__15 x__16 x__17 x__18 x__19 x__20 x__21 x__22 x__23 x__24 x__25\n",
            " x__26 x__27 x__28 x__29]\n",
            "i =  3 5 sat 2.8302773859896568e-05 0.0\n",
            "Lista utilizada:  [0, 1, 5, 6, 7, 8, 9, 10, 11, 12, 14, 15, 16, 17, 18, 19, 20, 21, 24, 25, 26, 27, 28, 29] [x__0 x__1 x__2 x__3 x__4 x__5 x__6 x__7 x__8 x__9 x__10 x__11 x__12 x__13\n",
            " x__14 x__15 x__16 x__17 x__18 x__19 x__20 x__21 x__22 x__23 x__24 x__25\n",
            " x__26 x__27 x__28 x__29]\n",
            "i =  3 4 sat 2.4094969440526563e-05 0.0\n",
            "Lista utilizada:  [0, 1, 4, 5, 6, 7, 8, 9, 10, 11, 12, 14, 15, 16, 17, 18, 19, 20, 21, 24, 25, 26, 27, 28, 29] [x__0 x__1 x__2 x__3 x__4 x__5 x__6 x__7 x__8 x__9 x__10 x__11 x__12 x__13\n",
            " x__14 x__15 x__16 x__17 x__18 x__19 x__20 x__21 x__22 x__23 x__24 x__25\n",
            " x__26 x__27 x__28 x__29]\n",
            "i =  3 3 sat 0.17896097790314996 0.0\n",
            "Lista utilizada:  [0, 1, 4, 5, 6, 7, 8, 9, 10, 11, 12, 14, 15, 16, 17, 18, 19, 20, 21, 24, 25, 26, 27, 28, 29] [x__0 x__1 x__2 x__3 x__4 x__5 x__6 x__7 x__8 x__9 x__10 x__11 x__12 x__13\n",
            " x__14 x__15 x__16 x__17 x__18 x__19 x__20 x__21 x__22 x__23 x__24 x__25\n",
            " x__26 x__27 x__28 x__29]\n",
            "i =  3 2 sat 0.024118476727785613 1.0\n",
            "Lista utilizada:  [0, 4, 5, 6, 7, 8, 9, 10, 11, 12, 14, 15, 16, 17, 18, 19, 20, 21, 24, 25, 26, 27, 28, 29] [x__0 x__1 x__2 x__3 x__4 x__5 x__6 x__7 x__8 x__9 x__10 x__11 x__12 x__13\n",
            " x__14 x__15 x__16 x__17 x__18 x__19 x__20 x__21 x__22 x__23 x__24 x__25\n",
            " x__26 x__27 x__28 x__29]\n",
            "i =  3 1 sat 0.004760225669957687 0.0\n",
            "Lista utilizada:  [1, 4, 5, 6, 7, 8, 9, 10, 11, 12, 14, 15, 16, 17, 18, 19, 20, 21, 24, 25, 26, 27, 28, 29] [x__0 x__1 x__2 x__3 x__4 x__5 x__6 x__7 x__8 x__9 x__10 x__11 x__12 x__13\n",
            " x__14 x__15 x__16 x__17 x__18 x__19 x__20 x__21 x__22 x__23 x__24 x__25\n",
            " x__26 x__27 x__28 x__29]\n",
            "i =  3 0 sat 0.003702397743300423 0.0\n",
            "Relevant:  [0, 1, 2, 3, 4, 5, 6, 7, 8, 9, 10, 11, 12, 13, 14, 15, 16, 17, 18, 19, 20, 21, 22, 23, 24, 25, 26, 27, 28, 29]\n",
            "Lista utilizada:  [0, 1, 4, 5, 6, 7, 8, 9, 10, 11, 12, 14, 15, 16, 17, 18, 19, 20, 21, 24, 25, 26, 27, 28] [x__0 x__1 x__2 x__3 x__4 x__5 x__6 x__7 x__8 x__9 x__10 x__11 x__12 x__13\n",
            " x__14 x__15 x__16 x__17 x__18 x__19 x__20 x__21 x__22 x__23 x__24 x__25\n",
            " x__26 x__27 x__28 x__29]\n",
            "i =  4 29 sat 1.60272684532205e-05 0.0\n",
            "Lista utilizada:  [0, 1, 4, 5, 6, 7, 8, 9, 10, 11, 12, 14, 15, 16, 17, 18, 19, 20, 21, 24, 25, 26, 27, 29] [x__0 x__1 x__2 x__3 x__4 x__5 x__6 x__7 x__8 x__9 x__10 x__11 x__12 x__13\n",
            " x__14 x__15 x__16 x__17 x__18 x__19 x__20 x__21 x__22 x__23 x__24 x__25\n",
            " x__26 x__27 x__28 x__29]\n",
            "i =  4 28 sat 3.768218147625764e-05 0.0\n",
            "Lista utilizada:  [0, 1, 4, 5, 6, 7, 8, 9, 10, 11, 12, 14, 15, 16, 17, 18, 19, 20, 21, 24, 25, 26, 28, 29] [x__0 x__1 x__2 x__3 x__4 x__5 x__6 x__7 x__8 x__9 x__10 x__11 x__12 x__13\n",
            " x__14 x__15 x__16 x__17 x__18 x__19 x__20 x__21 x__22 x__23 x__24 x__25\n",
            " x__26 x__27 x__28 x__29]\n",
            "i =  4 27 sat 2.5834508697696285e-05 0.0\n",
            "Lista utilizada:  [0, 1, 4, 5, 6, 7, 8, 9, 10, 11, 12, 14, 15, 16, 17, 18, 19, 20, 21, 24, 25, 27, 28, 29] [x__0 x__1 x__2 x__3 x__4 x__5 x__6 x__7 x__8 x__9 x__10 x__11 x__12 x__13\n",
            " x__14 x__15 x__16 x__17 x__18 x__19 x__20 x__21 x__22 x__23 x__24 x__25\n",
            " x__26 x__27 x__28 x__29]\n",
            "i =  4 26 sat 6.5890926187118e-05 0.0\n",
            "Lista utilizada:  [0, 1, 4, 5, 6, 7, 8, 9, 10, 11, 12, 14, 15, 16, 17, 18, 19, 20, 21, 24, 26, 27, 28, 29] [x__0 x__1 x__2 x__3 x__4 x__5 x__6 x__7 x__8 x__9 x__10 x__11 x__12 x__13\n",
            " x__14 x__15 x__16 x__17 x__18 x__19 x__20 x__21 x__22 x__23 x__24 x__25\n",
            " x__26 x__27 x__28 x__29]\n",
            "i =  4 25 sat 4.2148566055477194e-05 0.0\n",
            "Lista utilizada:  [0, 1, 4, 5, 6, 7, 8, 9, 10, 11, 12, 14, 15, 16, 17, 18, 19, 20, 21, 25, 26, 27, 28, 29] [x__0 x__1 x__2 x__3 x__4 x__5 x__6 x__7 x__8 x__9 x__10 x__11 x__12 x__13\n",
            " x__14 x__15 x__16 x__17 x__18 x__19 x__20 x__21 x__22 x__23 x__24 x__25\n",
            " x__26 x__27 x__28 x__29]\n",
            "i =  4 24 sat 2.9219558062999528e-05 0.0\n",
            "Lista utilizada:  [0, 1, 4, 5, 6, 7, 8, 9, 10, 11, 12, 14, 15, 16, 17, 18, 19, 20, 21, 24, 25, 26, 27, 28, 29] [x__0 x__1 x__2 x__3 x__4 x__5 x__6 x__7 x__8 x__9 x__10 x__11 x__12 x__13\n",
            " x__14 x__15 x__16 x__17 x__18 x__19 x__20 x__21 x__22 x__23 x__24 x__25\n",
            " x__26 x__27 x__28 x__29]\n",
            "i =  4 23 sat 0.2400094029149036 0.3455801178630883\n",
            "Lista utilizada:  [0, 1, 4, 5, 6, 7, 8, 9, 10, 11, 12, 14, 15, 16, 17, 18, 19, 20, 21, 24, 25, 26, 27, 28, 29] [x__0 x__1 x__2 x__3 x__4 x__5 x__6 x__7 x__8 x__9 x__10 x__11 x__12 x__13\n",
            " x__14 x__15 x__16 x__17 x__18 x__19 x__20 x__21 x__22 x__23 x__24 x__25\n",
            " x__26 x__27 x__28 x__29]\n",
            "i =  4 22 sat 0.02830277385989657 1.0\n",
            "Lista utilizada:  [0, 1, 4, 5, 6, 7, 8, 9, 10, 11, 12, 14, 15, 16, 17, 18, 19, 20, 24, 25, 26, 27, 28, 29] [x__0 x__1 x__2 x__3 x__4 x__5 x__6 x__7 x__8 x__9 x__10 x__11 x__12 x__13\n",
            " x__14 x__15 x__16 x__17 x__18 x__19 x__20 x__21 x__22 x__23 x__24 x__25\n",
            " x__26 x__27 x__28 x__29]\n",
            "i =  4 21 sat 0.006598495533615421 1.0\n",
            "Lista utilizada:  [0, 1, 4, 5, 6, 7, 8, 9, 10, 11, 12, 14, 15, 16, 17, 18, 19, 21, 24, 25, 26, 27, 28, 29] [x__0 x__1 x__2 x__3 x__4 x__5 x__6 x__7 x__8 x__9 x__10 x__11 x__12 x__13\n",
            " x__14 x__15 x__16 x__17 x__18 x__19 x__20 x__21 x__22 x__23 x__24 x__25\n",
            " x__26 x__27 x__28 x__29]\n",
            "i =  4 20 sat 0.00424776680771039 1.0\n",
            "Lista utilizada:  [0, 1, 4, 5, 6, 7, 8, 9, 10, 11, 12, 14, 15, 16, 17, 18, 20, 21, 24, 25, 26, 27, 28, 29] [x__0 x__1 x__2 x__3 x__4 x__5 x__6 x__7 x__8 x__9 x__10 x__11 x__12 x__13\n",
            " x__14 x__15 x__16 x__17 x__18 x__19 x__20 x__21 x__22 x__23 x__24 x__25\n",
            " x__26 x__27 x__28 x__29]\n",
            "i =  4 19 sat 2.9525152797367185e-06 1.0\n",
            "Lista utilizada:  [0, 1, 4, 5, 6, 7, 8, 9, 10, 11, 12, 14, 15, 16, 17, 19, 20, 21, 24, 25, 26, 27, 28, 29] [x__0 x__1 x__2 x__3 x__4 x__5 x__6 x__7 x__8 x__9 x__10 x__11 x__12 x__13\n",
            " x__14 x__15 x__16 x__17 x__18 x__19 x__20 x__21 x__22 x__23 x__24 x__25\n",
            " x__26 x__27 x__28 x__29]\n",
            "i =  4 18 sat 5.112834978843441e-06 1.0\n",
            "Lista utilizada:  [0, 1, 4, 5, 6, 7, 8, 9, 10, 11, 12, 14, 15, 16, 18, 19, 20, 21, 24, 25, 26, 27, 28, 29] [x__0 x__1 x__2 x__3 x__4 x__5 x__6 x__7 x__8 x__9 x__10 x__11 x__12 x__13\n",
            " x__14 x__15 x__16 x__17 x__18 x__19 x__20 x__21 x__22 x__23 x__24 x__25\n",
            " x__26 x__27 x__28 x__29]\n",
            "i =  4 17 sat 9.231311706629055e-06 1.0\n",
            "Lista utilizada:  [0, 1, 4, 5, 6, 7, 8, 9, 10, 11, 12, 14, 15, 17, 18, 19, 20, 21, 24, 25, 26, 27, 28, 29] [x__0 x__1 x__2 x__3 x__4 x__5 x__6 x__7 x__8 x__9 x__10 x__11 x__12 x__13\n",
            " x__14 x__15 x__16 x__17 x__18 x__19 x__20 x__21 x__22 x__23 x__24 x__25\n",
            " x__26 x__27 x__28 x__29]\n",
            "i =  4 16 sat 3.380347907851434e-05 1.0\n",
            "Lista utilizada:  [0, 1, 4, 5, 6, 7, 8, 9, 10, 11, 12, 14, 16, 17, 18, 19, 20, 21, 24, 25, 26, 27, 28, 29] [x__0 x__1 x__2 x__3 x__4 x__5 x__6 x__7 x__8 x__9 x__10 x__11 x__12 x__13\n",
            " x__14 x__15 x__16 x__17 x__18 x__19 x__20 x__21 x__22 x__23 x__24 x__25\n",
            " x__26 x__27 x__28 x__29]\n",
            "i =  4 15 sat 2.0110484250117536e-05 1.0\n",
            "Lista utilizada:  [0, 1, 4, 5, 6, 7, 8, 9, 10, 11, 12, 15, 16, 17, 18, 19, 20, 21, 24, 25, 26, 27, 28, 29] [x__0 x__1 x__2 x__3 x__4 x__5 x__6 x__7 x__8 x__9 x__10 x__11 x__12 x__13\n",
            " x__14 x__15 x__16 x__17 x__18 x__19 x__20 x__21 x__22 x__23 x__24 x__25\n",
            " x__26 x__27 x__28 x__29]\n",
            "i =  4 14 sat 7.317818523742361e-06 1.0\n",
            "Lista utilizada:  [0, 1, 4, 5, 6, 7, 8, 9, 10, 11, 12, 14, 15, 16, 17, 18, 19, 20, 21, 24, 25, 26, 27, 28, 29] [x__0 x__1 x__2 x__3 x__4 x__5 x__6 x__7 x__8 x__9 x__10 x__11 x__12 x__13\n",
            " x__14 x__15 x__16 x__17 x__18 x__19 x__20 x__21 x__22 x__23 x__24 x__25\n",
            " x__26 x__27 x__28 x__29]\n",
            "i =  4 13 sat 0.013758815232722144 1.0\n",
            "Lista utilizada:  [0, 1, 4, 5, 6, 7, 8, 9, 10, 11, 14, 15, 16, 17, 18, 19, 20, 21, 24, 25, 26, 27, 28, 29] [x__0 x__1 x__2 x__3 x__4 x__5 x__6 x__7 x__8 x__9 x__10 x__11 x__12 x__13\n",
            " x__14 x__15 x__16 x__17 x__18 x__19 x__20 x__21 x__22 x__23 x__24 x__25\n",
            " x__26 x__27 x__28 x__29]\n",
            "i =  4 12 sat 0.000885519511048425 1.0\n",
            "Lista utilizada:  [0, 1, 4, 5, 6, 7, 8, 9, 10, 12, 14, 15, 16, 17, 18, 19, 20, 21, 24, 25, 26, 27, 28, 29] [x__0 x__1 x__2 x__3 x__4 x__5 x__6 x__7 x__8 x__9 x__10 x__11 x__12 x__13\n",
            " x__14 x__15 x__16 x__17 x__18 x__19 x__20 x__21 x__22 x__23 x__24 x__25\n",
            " x__26 x__27 x__28 x__29]\n",
            "i =  4 11 sat 0.0003918664786083686 1.0\n",
            "Lista utilizada:  [0, 1, 4, 5, 6, 7, 8, 9, 11, 12, 14, 15, 16, 17, 18, 19, 20, 21, 24, 25, 26, 27, 28, 29] [x__0 x__1 x__2 x__3 x__4 x__5 x__6 x__7 x__8 x__9 x__10 x__11 x__12 x__13\n",
            " x__14 x__15 x__16 x__17 x__18 x__19 x__20 x__21 x__22 x__23 x__24 x__25\n",
            " x__26 x__27 x__28 x__29]\n",
            "i =  4 10 sat 0.0001244945933239304 1.0\n",
            "Lista utilizada:  [0, 1, 4, 5, 6, 7, 8, 10, 11, 12, 14, 15, 16, 17, 18, 19, 20, 21, 24, 25, 26, 27, 28, 29] [x__0 x__1 x__2 x__3 x__4 x__5 x__6 x__7 x__8 x__9 x__10 x__11 x__12 x__13\n",
            " x__14 x__15 x__16 x__17 x__18 x__19 x__20 x__21 x__22 x__23 x__24 x__25\n",
            " x__26 x__27 x__28 x__29]\n",
            "i =  4 9 sat 1.378937470615891e-05 1.0\n",
            "Lista utilizada:  [0, 1, 4, 5, 6, 7, 9, 10, 11, 12, 14, 15, 16, 17, 18, 19, 20, 21, 24, 25, 26, 27, 28, 29] [x__0 x__1 x__2 x__3 x__4 x__5 x__6 x__7 x__8 x__9 x__10 x__11 x__12 x__13\n",
            " x__14 x__15 x__16 x__17 x__18 x__19 x__20 x__21 x__22 x__23 x__24 x__25\n",
            " x__26 x__27 x__28 x__29]\n",
            "i =  4 8 sat 3.07475317348378e-05 0.0\n",
            "Lista utilizada:  [0, 1, 4, 5, 6, 8, 9, 10, 11, 12, 14, 15, 16, 17, 18, 19, 20, 21, 24, 25, 26, 27, 28, 29] [x__0 x__1 x__2 x__3 x__4 x__5 x__6 x__7 x__8 x__9 x__10 x__11 x__12 x__13\n",
            " x__14 x__15 x__16 x__17 x__18 x__19 x__20 x__21 x__22 x__23 x__24 x__25\n",
            " x__26 x__27 x__28 x__29]\n",
            "i =  4 7 sat 1.5507757404795487e-05 0.0\n",
            "Lista utilizada:  [0, 1, 4, 5, 7, 8, 9, 10, 11, 12, 14, 15, 16, 17, 18, 19, 20, 21, 24, 25, 26, 27, 28, 29] [x__0 x__1 x__2 x__3 x__4 x__5 x__6 x__7 x__8 x__9 x__10 x__11 x__12 x__13\n",
            " x__14 x__15 x__16 x__17 x__18 x__19 x__20 x__21 x__22 x__23 x__24 x__25\n",
            " x__26 x__27 x__28 x__29]\n",
            "i =  4 6 sat 3.953925716972261e-05 0.0\n",
            "Lista utilizada:  [0, 1, 4, 6, 7, 8, 9, 10, 11, 12, 14, 15, 16, 17, 18, 19, 20, 21, 24, 25, 26, 27, 28, 29] [x__0 x__1 x__2 x__3 x__4 x__5 x__6 x__7 x__8 x__9 x__10 x__11 x__12 x__13\n",
            " x__14 x__15 x__16 x__17 x__18 x__19 x__20 x__21 x__22 x__23 x__24 x__25\n",
            " x__26 x__27 x__28 x__29]\n",
            "i =  4 5 sat 2.6939351198871648e-05 0.0\n",
            "Lista utilizada:  [0, 1, 5, 6, 7, 8, 9, 10, 11, 12, 14, 15, 16, 17, 18, 19, 20, 21, 24, 25, 26, 27, 28, 29] [x__0 x__1 x__2 x__3 x__4 x__5 x__6 x__7 x__8 x__9 x__10 x__11 x__12 x__13\n",
            " x__14 x__15 x__16 x__17 x__18 x__19 x__20 x__21 x__22 x__23 x__24 x__25\n",
            " x__26 x__27 x__28 x__29]\n",
            "i =  4 4 sat 2.3648330982604606e-05 0.0\n",
            "Lista utilizada:  [0, 1, 4, 5, 6, 7, 8, 9, 10, 11, 12, 14, 15, 16, 17, 18, 19, 20, 21, 24, 25, 26, 27, 28, 29] [x__0 x__1 x__2 x__3 x__4 x__5 x__6 x__7 x__8 x__9 x__10 x__11 x__12 x__13\n",
            " x__14 x__15 x__16 x__17 x__18 x__19 x__20 x__21 x__22 x__23 x__24 x__25\n",
            " x__26 x__27 x__28 x__29]\n",
            "i =  4 3 sat 0.22284908321579688 0.0\n",
            "Lista utilizada:  [0, 1, 4, 5, 6, 7, 8, 9, 10, 11, 12, 14, 15, 16, 17, 18, 19, 20, 21, 24, 25, 26, 27, 28, 29] [x__0 x__1 x__2 x__3 x__4 x__5 x__6 x__7 x__8 x__9 x__10 x__11 x__12 x__13\n",
            " x__14 x__15 x__16 x__17 x__18 x__19 x__20 x__21 x__22 x__23 x__24 x__25\n",
            " x__26 x__27 x__28 x__29]\n",
            "i =  4 2 sat 0.0269158439116126 1.0\n",
            "Lista utilizada:  [0, 4, 5, 6, 7, 8, 9, 10, 11, 12, 14, 15, 16, 17, 18, 19, 20, 21, 24, 25, 26, 27, 28, 29] [x__0 x__1 x__2 x__3 x__4 x__5 x__6 x__7 x__8 x__9 x__10 x__11 x__12 x__13\n",
            " x__14 x__15 x__16 x__17 x__18 x__19 x__20 x__21 x__22 x__23 x__24 x__25\n",
            " x__26 x__27 x__28 x__29]\n",
            "i =  4 1 sat 0.006008462623413258 0.0\n",
            "Lista utilizada:  [1, 4, 5, 6, 7, 8, 9, 10, 11, 12, 14, 15, 16, 17, 18, 19, 20, 21, 24, 25, 26, 27, 28, 29] [x__0 x__1 x__2 x__3 x__4 x__5 x__6 x__7 x__8 x__9 x__10 x__11 x__12 x__13\n",
            " x__14 x__15 x__16 x__17 x__18 x__19 x__20 x__21 x__22 x__23 x__24 x__25\n",
            " x__26 x__27 x__28 x__29]\n",
            "i =  4 0 sat 0.0040949694405265635 0.0\n",
            "Relevant:  [0, 1, 2, 3, 4, 5, 6, 7, 8, 9, 10, 11, 12, 13, 14, 15, 16, 17, 18, 19, 20, 21, 22, 23, 24, 25, 26, 27, 28, 29]\n",
            "Lista utilizada:  [0, 1, 4, 5, 6, 7, 8, 9, 10, 11, 12, 14, 15, 16, 17, 18, 19, 20, 21, 24, 25, 26, 27, 28] [x__0 x__1 x__2 x__3 x__4 x__5 x__6 x__7 x__8 x__9 x__10 x__11 x__12 x__13\n",
            " x__14 x__15 x__16 x__17 x__18 x__19 x__20 x__21 x__22 x__23 x__24 x__25\n",
            " x__26 x__27 x__28 x__29]\n",
            "i =  5 29 sat 1.4038551951104844e-05 0.0\n",
            "Lista utilizada:  [0, 1, 4, 5, 6, 7, 8, 9, 10, 11, 12, 14, 15, 16, 17, 18, 19, 20, 21, 24, 25, 26, 27, 29] [x__0 x__1 x__2 x__3 x__4 x__5 x__6 x__7 x__8 x__9 x__10 x__11 x__12 x__13\n",
            " x__14 x__15 x__16 x__17 x__18 x__19 x__20 x__21 x__22 x__23 x__24 x__25\n",
            " x__26 x__27 x__28 x__29]\n",
            "i =  5 28 sat 5.940291490362012e-05 0.0\n",
            "Lista utilizada:  [0, 1, 4, 5, 6, 7, 8, 9, 10, 11, 12, 14, 15, 16, 17, 18, 19, 20, 21, 24, 25, 26, 28, 29] [x__0 x__1 x__2 x__3 x__4 x__5 x__6 x__7 x__8 x__9 x__10 x__11 x__12 x__13\n",
            " x__14 x__15 x__16 x__17 x__18 x__19 x__20 x__21 x__22 x__23 x__24 x__25\n",
            " x__26 x__27 x__28 x__29]\n",
            "i =  5 27 sat 1.9830747531734838e-05 0.0\n",
            "Lista utilizada:  [0, 1, 4, 5, 6, 7, 8, 9, 10, 11, 12, 14, 15, 16, 17, 18, 19, 20, 21, 24, 25, 27, 28, 29] [x__0 x__1 x__2 x__3 x__4 x__5 x__6 x__7 x__8 x__9 x__10 x__11 x__12 x__13\n",
            " x__14 x__15 x__16 x__17 x__18 x__19 x__20 x__21 x__22 x__23 x__24 x__25\n",
            " x__26 x__27 x__28 x__29]\n",
            "i =  5 26 sat 4.4240714621532675e-05 0.0\n",
            "Lista utilizada:  [0, 1, 4, 5, 6, 7, 8, 9, 10, 11, 12, 14, 15, 16, 17, 18, 19, 20, 21, 24, 26, 27, 28, 29] [x__0 x__1 x__2 x__3 x__4 x__5 x__6 x__7 x__8 x__9 x__10 x__11 x__12 x__13\n",
            " x__14 x__15 x__16 x__17 x__18 x__19 x__20 x__21 x__22 x__23 x__24 x__25\n",
            " x__26 x__27 x__28 x__29]\n",
            "i =  5 25 sat 4.019746121297603e-05 0.0\n",
            "Lista utilizada:  [0, 1, 4, 5, 6, 7, 8, 9, 10, 11, 12, 14, 15, 16, 17, 18, 19, 20, 21, 25, 26, 27, 28, 29] [x__0 x__1 x__2 x__3 x__4 x__5 x__6 x__7 x__8 x__9 x__10 x__11 x__12 x__13\n",
            " x__14 x__15 x__16 x__17 x__18 x__19 x__20 x__21 x__22 x__23 x__24 x__25\n",
            " x__26 x__27 x__28 x__29]\n",
            "i =  5 24 sat 2.0625293841090738e-05 0.0\n",
            "Lista utilizada:  [0, 1, 4, 5, 6, 7, 8, 9, 10, 11, 12, 14, 15, 16, 17, 18, 19, 20, 21, 24, 25, 26, 27, 28, 29] [x__0 x__1 x__2 x__3 x__4 x__5 x__6 x__7 x__8 x__9 x__10 x__11 x__12 x__13\n",
            " x__14 x__15 x__16 x__17 x__18 x__19 x__20 x__21 x__22 x__23 x__24 x__25\n",
            " x__26 x__27 x__28 x__29]\n",
            "i =  5 23 sat 0.24259520451339917 0.3455955007306074\n",
            "Lista utilizada:  [0, 1, 4, 5, 6, 7, 8, 9, 10, 11, 12, 14, 15, 16, 17, 18, 19, 20, 21, 24, 25, 26, 27, 28, 29] [x__0 x__1 x__2 x__3 x__4 x__5 x__6 x__7 x__8 x__9 x__10 x__11 x__12 x__13\n",
            " x__14 x__15 x__16 x__17 x__18 x__19 x__20 x__21 x__22 x__23 x__24 x__25\n",
            " x__26 x__27 x__28 x__29]\n",
            "i =  5 22 sat 0.028279266572637518 1.0\n",
            "Lista utilizada:  [0, 1, 4, 5, 6, 7, 8, 9, 10, 11, 12, 14, 15, 16, 17, 18, 19, 20, 24, 25, 26, 27, 28, 29] [x__0 x__1 x__2 x__3 x__4 x__5 x__6 x__7 x__8 x__9 x__10 x__11 x__12 x__13\n",
            " x__14 x__15 x__16 x__17 x__18 x__19 x__20 x__21 x__22 x__23 x__24 x__25\n",
            " x__26 x__27 x__28 x__29]\n",
            "i =  5 21 sat 0.006598495533615421 1.0\n",
            "Lista utilizada:  [0, 1, 4, 5, 6, 7, 8, 9, 10, 11, 12, 14, 15, 16, 17, 18, 19, 21, 24, 25, 26, 27, 28, 29] [x__0 x__1 x__2 x__3 x__4 x__5 x__6 x__7 x__8 x__9 x__10 x__11 x__12 x__13\n",
            " x__14 x__15 x__16 x__17 x__18 x__19 x__20 x__21 x__22 x__23 x__24 x__25\n",
            " x__26 x__27 x__28 x__29]\n",
            "i =  5 20 sat 0.004283027738598965 1.0\n",
            "Lista utilizada:  [0, 1, 4, 5, 6, 7, 8, 9, 10, 11, 12, 14, 15, 16, 17, 18, 20, 21, 24, 25, 26, 27, 28, 29] [x__0 x__1 x__2 x__3 x__4 x__5 x__6 x__7 x__8 x__9 x__10 x__11 x__12 x__13\n",
            " x__14 x__15 x__16 x__17 x__18 x__19 x__20 x__21 x__22 x__23 x__24 x__25\n",
            " x__26 x__27 x__28 x__29]\n",
            "i =  5 19 sat 3.5707569346497414e-07 1.0\n",
            "Lista utilizada:  [0, 1, 4, 5, 6, 7, 8, 9, 10, 11, 12, 14, 15, 16, 17, 19, 20, 21, 24, 25, 26, 27, 28, 29] [x__0 x__1 x__2 x__3 x__4 x__5 x__6 x__7 x__8 x__9 x__10 x__11 x__12 x__13\n",
            " x__14 x__15 x__16 x__17 x__18 x__19 x__20 x__21 x__22 x__23 x__24 x__25\n",
            " x__26 x__27 x__28 x__29]\n",
            "i =  5 18 sat 3.5731076633756465e-06 1.0\n",
            "Lista utilizada:  [0, 1, 4, 5, 6, 7, 8, 9, 10, 11, 12, 14, 15, 16, 18, 19, 20, 21, 24, 25, 26, 27, 28, 29] [x__0 x__1 x__2 x__3 x__4 x__5 x__6 x__7 x__8 x__9 x__10 x__11 x__12 x__13\n",
            " x__14 x__15 x__16 x__17 x__18 x__19 x__20 x__21 x__22 x__23 x__24 x__25\n",
            " x__26 x__27 x__28 x__29]\n",
            "i =  5 17 sat 2.609308885754584e-06 1.0\n",
            "Lista utilizada:  [0, 1, 4, 5, 6, 7, 8, 9, 10, 11, 12, 14, 15, 17, 18, 19, 20, 21, 24, 25, 26, 27, 28, 29] [x__0 x__1 x__2 x__3 x__4 x__5 x__6 x__7 x__8 x__9 x__10 x__11 x__12 x__13\n",
            " x__14 x__15 x__16 x__17 x__18 x__19 x__20 x__21 x__22 x__23 x__24 x__25\n",
            " x__26 x__27 x__28 x__29]\n",
            "i =  5 16 sat 7.183826986365773e-06 1.0\n",
            "Lista utilizada:  [0, 1, 4, 5, 6, 7, 8, 9, 10, 11, 12, 14, 16, 17, 18, 19, 20, 21, 24, 25, 26, 27, 28, 29] [x__0 x__1 x__2 x__3 x__4 x__5 x__6 x__7 x__8 x__9 x__10 x__11 x__12 x__13\n",
            " x__14 x__15 x__16 x__17 x__18 x__19 x__20 x__21 x__22 x__23 x__24 x__25\n",
            " x__26 x__27 x__28 x__29]\n",
            "i =  5 15 sat 6.2552891396332865e-06 1.0\n",
            "Lista utilizada:  [0, 1, 4, 5, 6, 7, 8, 9, 10, 11, 12, 15, 16, 17, 18, 19, 20, 21, 24, 25, 26, 27, 28, 29] [x__0 x__1 x__2 x__3 x__4 x__5 x__6 x__7 x__8 x__9 x__10 x__11 x__12 x__13\n",
            " x__14 x__15 x__16 x__17 x__18 x__19 x__20 x__21 x__22 x__23 x__24 x__25\n",
            " x__26 x__27 x__28 x__29]\n",
            "i =  5 14 sat 8.09355900329102e-07 1.0\n",
            "Lista utilizada:  [0, 1, 4, 5, 6, 7, 8, 9, 10, 11, 12, 14, 15, 16, 17, 18, 19, 20, 21, 24, 25, 26, 27, 28, 29] [x__0 x__1 x__2 x__3 x__4 x__5 x__6 x__7 x__8 x__9 x__10 x__11 x__12 x__13\n",
            " x__14 x__15 x__16 x__17 x__18 x__19 x__20 x__21 x__22 x__23 x__24 x__25\n",
            " x__26 x__27 x__28 x__29]\n",
            "i =  5 13 sat 0.010956746591443347 1.0\n",
            "Lista utilizada:  [0, 1, 4, 5, 6, 7, 8, 9, 10, 11, 14, 15, 16, 17, 18, 19, 20, 21, 24, 25, 26, 27, 28, 29] [x__0 x__1 x__2 x__3 x__4 x__5 x__6 x__7 x__8 x__9 x__10 x__11 x__12 x__13\n",
            " x__14 x__15 x__16 x__17 x__18 x__19 x__20 x__21 x__22 x__23 x__24 x__25\n",
            " x__26 x__27 x__28 x__29]\n",
            "i =  5 12 sat 0.0008178185237423601 1.0\n",
            "Lista utilizada:  [0, 1, 4, 5, 6, 7, 8, 9, 10, 12, 14, 15, 16, 17, 18, 19, 20, 21, 24, 25, 26, 27, 28, 29] [x__0 x__1 x__2 x__3 x__4 x__5 x__6 x__7 x__8 x__9 x__10 x__11 x__12 x__13\n",
            " x__14 x__15 x__16 x__17 x__18 x__19 x__20 x__21 x__22 x__23 x__24 x__25\n",
            " x__26 x__27 x__28 x__29]\n",
            "i =  5 11 sat 0.0004842501175364363 1.0\n",
            "Lista utilizada:  [0, 1, 4, 5, 6, 7, 8, 9, 11, 12, 14, 15, 16, 17, 18, 19, 20, 21, 24, 25, 26, 27, 28, 29] [x__0 x__1 x__2 x__3 x__4 x__5 x__6 x__7 x__8 x__9 x__10 x__11 x__12 x__13\n",
            " x__14 x__15 x__16 x__17 x__18 x__19 x__20 x__21 x__22 x__23 x__24 x__25\n",
            " x__26 x__27 x__28 x__29]\n",
            "i =  5 10 sat 0.0001125763986835919 1.0\n",
            "Lista utilizada:  [0, 1, 4, 5, 6, 7, 8, 10, 11, 12, 14, 15, 16, 17, 18, 19, 20, 21, 24, 25, 26, 27, 28, 29] [x__0 x__1 x__2 x__3 x__4 x__5 x__6 x__7 x__8 x__9 x__10 x__11 x__12 x__13\n",
            " x__14 x__15 x__16 x__17 x__18 x__19 x__20 x__21 x__22 x__23 x__24 x__25\n",
            " x__26 x__27 x__28 x__29]\n",
            "i =  5 9 sat 1.23836389280677e-05 1.0\n",
            "Lista utilizada:  [0, 1, 4, 5, 6, 7, 9, 10, 11, 12, 14, 15, 16, 17, 18, 19, 20, 21, 24, 25, 26, 27, 28, 29] [x__0 x__1 x__2 x__3 x__4 x__5 x__6 x__7 x__8 x__9 x__10 x__11 x__12 x__13\n",
            " x__14 x__15 x__16 x__17 x__18 x__19 x__20 x__21 x__22 x__23 x__24 x__25\n",
            " x__26 x__27 x__28 x__29]\n",
            "i =  5 8 sat 4.334743770568877e-05 0.0\n",
            "Lista utilizada:  [0, 1, 4, 5, 6, 8, 9, 10, 11, 12, 14, 15, 16, 17, 18, 19, 20, 21, 24, 25, 26, 27, 28, 29] [x__0 x__1 x__2 x__3 x__4 x__5 x__6 x__7 x__8 x__9 x__10 x__11 x__12 x__13\n",
            " x__14 x__15 x__16 x__17 x__18 x__19 x__20 x__21 x__22 x__23 x__24 x__25\n",
            " x__26 x__27 x__28 x__29]\n",
            "i =  5 7 sat 6.513869299482839e-06 0.0\n",
            "Lista utilizada:  [0, 1, 4, 5, 7, 8, 9, 10, 11, 12, 14, 15, 16, 17, 18, 19, 20, 21, 24, 25, 26, 27, 28, 29] [x__0 x__1 x__2 x__3 x__4 x__5 x__6 x__7 x__8 x__9 x__10 x__11 x__12 x__13\n",
            " x__14 x__15 x__16 x__17 x__18 x__19 x__20 x__21 x__22 x__23 x__24 x__25\n",
            " x__26 x__27 x__28 x__29]\n",
            "i =  5 6 sat 1.2106252938410907e-05 0.0\n",
            "Lista utilizada:  [0, 1, 4, 6, 7, 8, 9, 10, 11, 12, 14, 15, 16, 17, 18, 19, 20, 21, 24, 25, 26, 27, 28, 29] [x__0 x__1 x__2 x__3 x__4 x__5 x__6 x__7 x__8 x__9 x__10 x__11 x__12 x__13\n",
            " x__14 x__15 x__16 x__17 x__18 x__19 x__20 x__21 x__22 x__23 x__24 x__25\n",
            " x__26 x__27 x__28 x__29]\n",
            "i =  5 5 sat 1.6979313587212036e-05 0.0\n",
            "Lista utilizada:  [0, 1, 5, 6, 7, 8, 9, 10, 11, 12, 14, 15, 16, 17, 18, 19, 20, 21, 24, 25, 26, 27, 28, 29] [x__0 x__1 x__2 x__3 x__4 x__5 x__6 x__7 x__8 x__9 x__10 x__11 x__12 x__13\n",
            " x__14 x__15 x__16 x__17 x__18 x__19 x__20 x__21 x__22 x__23 x__24 x__25\n",
            " x__26 x__27 x__28 x__29]\n",
            "i =  5 4 sat 1.7501175364362955e-05 0.0\n",
            "Lista utilizada:  [0, 1, 4, 5, 6, 7, 8, 9, 10, 11, 12, 14, 15, 16, 17, 18, 19, 20, 21, 24, 25, 26, 27, 28, 29] [x__0 x__1 x__2 x__3 x__4 x__5 x__6 x__7 x__8 x__9 x__10 x__11 x__12 x__13\n",
            " x__14 x__15 x__16 x__17 x__18 x__19 x__20 x__21 x__22 x__23 x__24 x__25\n",
            " x__26 x__27 x__28 x__29]\n",
            "i =  5 3 sat 0.2069111424541608 0.0\n",
            "Lista utilizada:  [0, 1, 4, 5, 6, 7, 8, 9, 10, 11, 12, 14, 15, 16, 17, 18, 19, 20, 21, 24, 25, 26, 27, 28, 29] [x__0 x__1 x__2 x__3 x__4 x__5 x__6 x__7 x__8 x__9 x__10 x__11 x__12 x__13\n",
            " x__14 x__15 x__16 x__17 x__18 x__19 x__20 x__21 x__22 x__23 x__24 x__25\n",
            " x__26 x__27 x__28 x__29]\n",
            "i =  5 2 sat 0.02548189938881053 1.0\n",
            "Lista utilizada:  [0, 4, 5, 6, 7, 8, 9, 10, 11, 12, 14, 15, 16, 17, 18, 19, 20, 21, 24, 25, 26, 27, 28, 29] [x__0 x__1 x__2 x__3 x__4 x__5 x__6 x__7 x__8 x__9 x__10 x__11 x__12 x__13\n",
            " x__14 x__15 x__16 x__17 x__18 x__19 x__20 x__21 x__22 x__23 x__24 x__25\n",
            " x__26 x__27 x__28 x__29]\n",
            "i =  5 1 sat 0.00457451810061119 0.0\n",
            "Lista utilizada:  [1, 4, 5, 6, 7, 8, 9, 10, 11, 12, 14, 15, 16, 17, 18, 19, 20, 21, 24, 25, 26, 27, 28, 29] [x__0 x__1 x__2 x__3 x__4 x__5 x__6 x__7 x__8 x__9 x__10 x__11 x__12 x__13\n",
            " x__14 x__15 x__16 x__17 x__18 x__19 x__20 x__21 x__22 x__23 x__24 x__25\n",
            " x__26 x__27 x__28 x__29]\n",
            "i =  5 0 sat 0.003958627174424072 0.0\n",
            "Relevant:  [0, 1, 2, 3, 4, 5, 6, 7, 8, 9, 10, 11, 12, 13, 14, 15, 16, 17, 18, 19, 20, 21, 22, 23, 24, 25, 26, 27, 28, 29]\n"
          ]
        }
      ]
    },
    {
      "cell_type": "markdown",
      "source": [
        "Fixing Individual List"
      ],
      "metadata": {
        "id": "EIoalhskZ8L9"
      }
    },
    {
      "cell_type": "code",
      "source": [
        "for i in range(0, len(rejected_indexes2)):\n",
        "  #Add Assertions for 0<= feature <= 1\n",
        "  index_list = list(range(30))\n",
        "  index_list2 = [2, 3, 13, 22, 23]\n",
        "\n",
        "  #Select a feature and unfix it\n",
        "  for z in reversed(range(0, len(z3_X_Train))):\n",
        "    solver2 = Solver()\n",
        "    solver2.add(Or(((z3_dual_coef @ z3_support_vectors) @ z3_X_Train.reshape(1, len(z3_X_Train)).T + z3_intercept_)[0][0] >= t1,\n",
        "            ((z3_dual_coef @ z3_support_vectors) @ z3_X_Train.reshape(1, len(z3_X_Train)).T + z3_intercept_)[0][0] < t2))\n",
        "    for j in range(0, len(z3_X_Train)):\n",
        "      solver2.add(z3_X_Train[j] >=0)\n",
        "      solver2.add(z3_X_Train[j] <=1)\n",
        "    used_list = []\n",
        "    for j in range(0, len(z3_X_Train)):    \n",
        "      if j != z and j in index_list2: #Choose one to check influence\n",
        "        solver2.add(z3_X_Train[j] == X_train[rejected_indexes2[i]][j])\n",
        "        used_list.append(j)\n",
        "    print(\"Lista utilizada: \",used_list)\n",
        "\n",
        "    check = solver2.check()\n",
        "    if check == sat:\n",
        "      model = solver2.model()\n",
        "      print('i = ',i,z, check, X_train[rejected_indexes2[i]][z], model[z3_X_Train[z]].numerator_as_long()/model[z3_X_Train[z]].denominator_as_long())\n",
        "      #print(z, check)\n",
        "    else:\n",
        "      index_list.remove(z)\n",
        "      print('i = ',i, z, check)\n",
        "  print(\"Relevant: \",index_list)"
      ],
      "metadata": {
        "id": "I11NpxMUJj3x",
        "colab": {
          "base_uri": "https://localhost:8080/"
        },
        "outputId": "8dcfb25c-8c4d-4abd-972e-f6dbaa77f9c2"
      },
      "execution_count": 133,
      "outputs": [
        {
          "output_type": "stream",
          "name": "stdout",
          "text": [
            "Lista utilizada:  [2, 3, 13, 22, 23]\n",
            "i =  0 29 sat 1.931358721203573e-05 1.0\n",
            "Lista utilizada:  [2, 3, 13, 22, 23]\n",
            "i =  0 28 sat 7.120357310766338e-05 1.0\n",
            "Lista utilizada:  [2, 3, 13, 22, 23]\n",
            "i =  0 27 sat 3.782322519981194e-05 1.0\n",
            "Lista utilizada:  [2, 3, 13, 22, 23]\n",
            "i =  0 26 sat 6.850023507287258e-05 1.0\n",
            "Lista utilizada:  [2, 3, 13, 22, 23]\n",
            "i =  0 25 sat 4.398213446168312e-05 1.0\n",
            "Lista utilizada:  [2, 3, 13, 22, 23]\n",
            "i =  0 24 sat 3.441466854724965e-05 1.0\n",
            "Lista utilizada:  [2, 3, 13, 22]\n",
            "i =  0 23 sat 0.26751292900799245 0.4218265827614063\n",
            "Lista utilizada:  [2, 3, 13, 23]\n",
            "i =  0 22 sat 0.02900799247766808 0.5843872236338788\n",
            "Lista utilizada:  [2, 3, 13, 22, 23]\n",
            "i =  0 21 sat 0.007259050305594734 0.7549824982865243\n",
            "Lista utilizada:  [2, 3, 13, 22, 23]\n",
            "i =  0 20 sat 0.0044828396803008935 0.0\n",
            "Lista utilizada:  [2, 3, 13, 22, 23]\n",
            "i =  0 19 sat 4.901269393511989e-07 0.0\n",
            "Lista utilizada:  [2, 3, 13, 22, 23]\n",
            "i =  0 18 sat 3.314527503526093e-06 0.0\n",
            "Lista utilizada:  [2, 3, 13, 22, 23]\n",
            "i =  0 17 sat 2.6069581570286788e-06 0.0\n",
            "Lista utilizada:  [2, 3, 13, 22, 23]\n",
            "i =  0 16 sat 4.696755994358252e-06 0.0\n",
            "Lista utilizada:  [2, 3, 13, 22, 23]\n",
            "i =  0 15 sat 2.7315467795016455e-06 0.0\n",
            "Lista utilizada:  [2, 3, 13, 22, 23]\n",
            "i =  0 14 sat 1.3441466854724964e-06 0.0\n",
            "Lista utilizada:  [2, 3, 22, 23]\n",
            "i =  0 13 sat 0.01067230841560884 0.0\n",
            "Lista utilizada:  [2, 3, 13, 22, 23]\n",
            "i =  0 12 sat 0.0007510578279266572 0.0\n",
            "Lista utilizada:  [2, 3, 13, 22, 23]\n",
            "i =  0 11 sat 0.0002914903620122238 0.0\n",
            "Lista utilizada:  [2, 3, 13, 22, 23]\n",
            "i =  0 10 sat 0.0001111189468735308 0.0\n",
            "Lista utilizada:  [2, 3, 13, 22, 23]\n",
            "i =  0 9 sat 1.3921015514809592e-05 0.0\n",
            "Lista utilizada:  [2, 3, 13, 22, 23]\n",
            "i =  0 8 sat 3.728255759285378e-05 1.0\n",
            "Lista utilizada:  [2, 3, 13, 22, 23]\n",
            "i =  0 7 sat 1.2362482369534555e-05 1.0\n",
            "Lista utilizada:  [2, 3, 13, 22, 23]\n",
            "i =  0 6 sat 1.7383638928067703e-05 0.0\n",
            "Lista utilizada:  [2, 3, 13, 22, 23]\n",
            "i =  0 5 sat 1.6925246826516218e-05 1.0\n",
            "Lista utilizada:  [2, 3, 13, 22, 23]\n",
            "i =  0 4 sat 2.3194640338504936e-05 1.0\n",
            "Lista utilizada:  [2, 13, 22, 23]\n",
            "i =  0 3 sat 0.16090738128819934 0.5147378931503501\n",
            "Lista utilizada:  [3, 13, 22, 23]\n",
            "i =  0 2 sat 0.022270803949224257 0.0\n",
            "Lista utilizada:  [2, 3, 13, 22, 23]\n",
            "i =  0 1 sat 0.0047320169252468266 1.0\n",
            "Lista utilizada:  [2, 3, 13, 22, 23]\n",
            "i =  0 0 sat 0.003450869769628585 1.0\n",
            "Relevant:  [0, 1, 2, 3, 4, 5, 6, 7, 8, 9, 10, 11, 12, 13, 14, 15, 16, 17, 18, 19, 20, 21, 22, 23, 24, 25, 26, 27, 28, 29]\n",
            "Lista utilizada:  [2, 3, 13, 22, 23]\n",
            "i =  1 29 sat 2.5528913963328634e-05 1.0\n",
            "Lista utilizada:  [2, 3, 13, 22, 23]\n",
            "i =  1 28 sat 0.00010418429713211095 1.0\n",
            "Lista utilizada:  [2, 3, 13, 22, 23]\n",
            "i =  1 27 sat 4.732016925246827e-05 1.0\n",
            "Lista utilizada:  [2, 3, 13, 22, 23]\n",
            "i =  1 26 sat 0.00010921485660554773 1.0\n",
            "Lista utilizada:  [2, 3, 13, 22, 23]\n",
            "i =  1 25 sat 0.00012244945933239304 1.0\n",
            "Lista utilizada:  [2, 3, 13, 22, 23]\n",
            "i =  1 24 sat 5.232722143864598e-05 1.0\n",
            "Lista utilizada:  [2, 3, 13, 22]\n",
            "i =  1 23 sat 0.27103902209685005 0.4315516872693595\n",
            "Lista utilizada:  [2, 3, 13, 23]\n",
            "i =  1 22 sat 0.030206864127879644 0.6308034029049083\n",
            "Lista utilizada:  [2, 3, 13, 22, 23]\n",
            "i =  1 21 sat 0.009837799717912554 0.9221537658805954\n",
            "Lista utilizada:  [2, 3, 13, 22, 23]\n",
            "i =  1 20 sat 0.004513399153737658 0.0\n",
            "Lista utilizada:  [2, 3, 13, 22, 23]\n",
            "i =  1 19 sat 1.0592383638928067e-06 0.0\n",
            "Lista utilizada:  [2, 3, 13, 22, 23]\n",
            "i =  1 18 sat 4.696755994358252e-06 0.0\n",
            "Lista utilizada:  [2, 3, 13, 22, 23]\n",
            "i =  1 17 sat 3.0347907851433943e-06 0.0\n",
            "Lista utilizada:  [2, 3, 13, 22, 23]\n",
            "i =  1 16 sat 7.315467795016454e-06 0.0\n",
            "Lista utilizada:  [2, 3, 13, 22, 23]\n",
            "i =  1 15 sat 7.306064880112835e-06 0.0\n",
            "Lista utilizada:  [2, 3, 13, 22, 23]\n",
            "i =  1 14 sat 2.074283027738599e-06 0.0\n",
            "Lista utilizada:  [2, 3, 22, 23]\n",
            "i =  1 13 sat 0.012393041842971322 0.0\n",
            "Lista utilizada:  [2, 3, 13, 22, 23]\n",
            "i =  1 12 sat 0.0009188998589562764 0.0\n",
            "Lista utilizada:  [2, 3, 13, 22, 23]\n",
            "i =  1 11 sat 0.00045369064409967087 0.0\n",
            "Lista utilizada:  [2, 3, 13, 22, 23]\n",
            "i =  1 10 sat 0.00013276915843911613 0.0\n",
            "Lista utilizada:  [2, 3, 13, 22, 23]\n",
            "i =  1 9 sat 1.744475787494123e-05 0.0\n",
            "Lista utilizada:  [2, 3, 13, 22, 23]\n",
            "i =  1 8 sat 5.291490362012224e-05 1.0\n",
            "Lista utilizada:  [2, 3, 13, 22, 23]\n",
            "i =  1 7 sat 2.157028678890456e-05 1.0\n",
            "Lista utilizada:  [2, 3, 13, 22, 23]\n",
            "i =  1 6 sat 3.6624353549600376e-05 0.0\n",
            "Lista utilizada:  [2, 3, 13, 22, 23]\n",
            "i =  1 5 sat 4.156088387400094e-05 1.0\n",
            "Lista utilizada:  [2, 3, 13, 22, 23]\n",
            "i =  1 4 sat 3.110014104372355e-05 1.0\n",
            "Lista utilizada:  [2, 13, 22, 23]\n",
            "i =  1 3 sat 0.14052656323460272 0.5071218037723605\n",
            "Lista utilizada:  [3, 13, 22, 23]\n",
            "i =  1 2 sat 0.02152327221438646 0.0\n",
            "Lista utilizada:  [2, 3, 13, 22, 23]\n",
            "i =  1 1 sat 0.005582980724024448 1.0\n",
            "Lista utilizada:  [2, 3, 13, 22, 23]\n",
            "i =  1 0 sat 0.003246356370474847 1.0\n",
            "Relevant:  [0, 1, 2, 3, 4, 5, 6, 7, 8, 9, 10, 11, 12, 13, 14, 15, 16, 17, 18, 19, 20, 21, 22, 23, 24, 25, 26, 27, 28, 29]\n",
            "Lista utilizada:  [2, 3, 13, 22, 23]\n",
            "i =  2 29 sat 2.14480488951575e-05 1.0\n",
            "Lista utilizada:  [2, 3, 13, 22, 23]\n",
            "i =  2 28 sat 7.096850023507288e-05 1.0\n",
            "Lista utilizada:  [2, 3, 13, 22, 23]\n",
            "i =  2 27 sat 4.656793606017865e-05 1.0\n",
            "Lista utilizada:  [2, 3, 13, 22, 23]\n",
            "i =  2 26 sat 0.0001165021156558533 1.0\n",
            "Lista utilizada:  [2, 3, 13, 22, 23]\n",
            "i =  2 25 sat 0.00010526563234602727 1.0\n",
            "Lista utilizada:  [2, 3, 13, 22, 23]\n",
            "i =  2 24 sat 3.3732957216737184e-05 1.0\n",
            "Lista utilizada:  [2, 3, 13, 22]\n",
            "i =  2 23 sat 0.25152797367183827 0.4095029281645921\n",
            "Lista utilizada:  [2, 3, 13, 23]\n",
            "i =  2 22 sat 0.02921955806299953 0.6115535916250125\n",
            "Lista utilizada:  [2, 3, 13, 22, 23]\n",
            "i =  2 21 sat 0.005166901739539257 0.8537182876340257\n",
            "Lista utilizada:  [2, 3, 13, 22, 23]\n",
            "i =  2 20 sat 0.0044099670897978374 0.0\n",
            "Lista utilizada:  [2, 3, 13, 22, 23]\n",
            "i =  2 19 sat 7.3366243535496e-07 0.0\n",
            "Lista utilizada:  [2, 3, 13, 22, 23]\n",
            "i =  2 18 sat 3.44851904090268e-06 0.0\n",
            "Lista utilizada:  [2, 3, 13, 22, 23]\n",
            "i =  2 17 sat 3.4297132110954396e-06 0.0\n",
            "Lista utilizada:  [2, 3, 13, 22, 23]\n",
            "i =  2 16 sat 8.73295721673719e-06 0.0\n",
            "Lista utilizada:  [2, 3, 13, 22, 23]\n",
            "i =  2 15 sat 7.628114715561824e-06 0.0\n",
            "Lista utilizada:  [2, 3, 13, 22, 23]\n",
            "i =  2 14 sat 1.3725905030559473e-06 0.0\n",
            "Lista utilizada:  [2, 3, 22, 23]\n",
            "i =  2 13 sat 0.007820874471086037 0.0\n",
            "Lista utilizada:  [2, 3, 13, 22, 23]\n",
            "i =  2 12 sat 0.0006180065820404325 0.0\n",
            "Lista utilizada:  [2, 3, 13, 22, 23]\n",
            "i =  2 11 sat 0.0001757404795486601 0.0\n",
            "Lista utilizada:  [2, 3, 13, 22, 23]\n",
            "i =  2 10 sat 7.924306535025858e-05 0.0\n",
            "Lista utilizada:  [2, 3, 13, 22, 23]\n",
            "i =  2 9 sat 1.4047954866008463e-05 0.0\n",
            "Lista utilizada:  [2, 3, 13, 22, 23]\n",
            "i =  2 8 sat 4.188998589562765e-05 1.0\n",
            "Lista utilizada:  [2, 3, 13, 22, 23]\n",
            "i =  2 7 sat 1.655148095909732e-05 1.0\n",
            "Lista utilizada:  [2, 3, 13, 22, 23]\n",
            "i =  2 6 sat 2.8302773859896568e-05 0.0\n",
            "Lista utilizada:  [2, 3, 13, 22, 23]\n",
            "i =  2 5 sat 3.222849083215797e-05 1.0\n",
            "Lista utilizada:  [2, 3, 13, 22, 23]\n",
            "i =  2 4 sat 2.2310766337564642e-05 1.0\n",
            "Lista utilizada:  [2, 13, 22, 23]\n",
            "i =  2 3 sat 0.18645980253878702 0.547829502083914\n",
            "Lista utilizada:  [3, 13, 22, 23]\n",
            "i =  2 2 sat 0.024870709920075222 0.0\n",
            "Lista utilizada:  [2, 3, 13, 22, 23]\n",
            "i =  2 1 sat 0.0036459802538787024 1.0\n",
            "Lista utilizada:  [2, 3, 13, 22, 23]\n",
            "i =  2 0 sat 0.0037682181476257643 1.0\n",
            "Relevant:  [0, 1, 2, 3, 4, 5, 6, 7, 8, 9, 10, 11, 12, 13, 14, 15, 16, 17, 18, 19, 20, 21, 22, 23, 24, 25, 26, 27, 28, 29]\n",
            "Lista utilizada:  [2, 3, 13, 22, 23]\n",
            "i =  3 29 sat 2.5011753643629523e-05 1.0\n",
            "Lista utilizada:  [2, 3, 13, 22, 23]\n",
            "i =  3 28 sat 9.386459802538787e-05 1.0\n",
            "Lista utilizada:  [2, 3, 13, 22, 23]\n",
            "i =  3 27 sat 3.4767277856135406e-05 1.0\n",
            "Lista utilizada:  [2, 3, 13, 22, 23]\n",
            "i =  3 26 sat 9.346497414198402e-05 1.0\n",
            "Lista utilizada:  [2, 3, 13, 22, 23]\n",
            "i =  3 25 sat 0.00010531264692054537 1.0\n",
            "Lista utilizada:  [2, 3, 13, 22, 23]\n",
            "i =  3 24 sat 3.6483309826046074e-05 1.0\n",
            "Lista utilizada:  [2, 3, 13, 22]\n",
            "i =  3 23 sat 0.2557592853784673 0.41316544205505096\n",
            "Lista utilizada:  [2, 3, 13, 23]\n",
            "i =  3 22 sat 0.029595674659144335 0.6075376790228553\n",
            "Lista utilizada:  [2, 3, 13, 22, 23]\n",
            "i =  3 21 sat 0.007120357310766337 0.8383792850890401\n",
            "Lista utilizada:  [2, 3, 13, 22, 23]\n",
            "i =  3 20 sat 0.00459802538787024 0.0\n",
            "Lista utilizada:  [2, 3, 13, 22, 23]\n",
            "i =  3 19 sat 7.360131640808651e-07 0.0\n",
            "Lista utilizada:  [2, 3, 13, 22, 23]\n",
            "i =  3 18 sat 4.165491302303714e-06 0.0\n",
            "Lista utilizada:  [2, 3, 13, 22, 23]\n",
            "i =  3 17 sat 2.030324400564175e-06 0.0\n",
            "Lista utilizada:  [2, 3, 13, 22, 23]\n",
            "i =  3 16 sat 5.604137282557593e-06 0.0\n",
            "Lista utilizada:  [2, 3, 13, 22, 23]\n",
            "i =  3 15 sat 5.580629995298543e-06 0.0\n",
            "Lista utilizada:  [2, 3, 13, 22, 23]\n",
            "i =  3 14 sat 1.1203573107663376e-06 0.0\n",
            "Lista utilizada:  [2, 3, 22, 23]\n",
            "i =  3 13 sat 0.007566995768688293 0.0\n",
            "Lista utilizada:  [2, 3, 13, 22, 23]\n",
            "i =  3 12 sat 0.0005275035260930889 0.0\n",
            "Lista utilizada:  [2, 3, 13, 22, 23]\n",
            "i =  3 11 sat 0.00021647860836859428 0.0\n",
            "Lista utilizada:  [2, 3, 13, 22, 23]\n",
            "i =  3 10 sat 8.16408086506817e-05 0.0\n",
            "Lista utilizada:  [2, 3, 13, 22, 23]\n",
            "i =  3 9 sat 1.4816643159379409e-05 0.0\n",
            "Lista utilizada:  [2, 3, 13, 22, 23]\n",
            "i =  3 8 sat 4.548660084626234e-05 1.0\n",
            "Lista utilizada:  [2, 3, 13, 22, 23]\n",
            "i =  3 7 sat 1.5190409026798307e-05 1.0\n",
            "Lista utilizada:  [2, 3, 13, 22, 23]\n",
            "i =  3 6 sat 2.6962858486130698e-05 0.0\n",
            "Lista utilizada:  [2, 3, 13, 22, 23]\n",
            "i =  3 5 sat 2.8302773859896568e-05 1.0\n",
            "Lista utilizada:  [2, 3, 13, 22, 23]\n",
            "i =  3 4 sat 2.4094969440526563e-05 1.0\n",
            "Lista utilizada:  [2, 13, 22, 23]\n",
            "i =  3 3 sat 0.17896097790314996 0.5391594342767732\n",
            "Lista utilizada:  [3, 13, 22, 23]\n",
            "i =  3 2 sat 0.024118476727785613 0.0\n",
            "Lista utilizada:  [2, 3, 13, 22, 23]\n",
            "i =  3 1 sat 0.004760225669957687 1.0\n",
            "Lista utilizada:  [2, 3, 13, 22, 23]\n",
            "i =  3 0 sat 0.003702397743300423 1.0\n",
            "Relevant:  [0, 1, 2, 3, 4, 5, 6, 7, 8, 9, 10, 11, 12, 13, 14, 15, 16, 17, 18, 19, 20, 21, 22, 23, 24, 25, 26, 27, 28, 29]\n",
            "Lista utilizada:  [2, 3, 13, 22, 23]\n",
            "i =  4 29 sat 1.60272684532205e-05 1.0\n",
            "Lista utilizada:  [2, 3, 13, 22, 23]\n",
            "i =  4 28 sat 3.768218147625764e-05 1.0\n",
            "Lista utilizada:  [2, 3, 13, 22, 23]\n",
            "i =  4 27 sat 2.5834508697696285e-05 1.0\n",
            "Lista utilizada:  [2, 3, 13, 22, 23]\n",
            "i =  4 26 sat 6.5890926187118e-05 1.0\n",
            "Lista utilizada:  [2, 3, 13, 22, 23]\n",
            "i =  4 25 sat 4.2148566055477194e-05 1.0\n",
            "Lista utilizada:  [2, 3, 13, 22, 23]\n",
            "i =  4 24 sat 2.9219558062999528e-05 1.0\n",
            "Lista utilizada:  [2, 3, 13, 22]\n",
            "i =  4 23 sat 0.2400094029149036 0.39140173752604596\n",
            "Lista utilizada:  [2, 3, 13, 23]\n",
            "i =  4 22 sat 0.02830277385989657 0.5624432152104804\n",
            "Lista utilizada:  [2, 3, 13, 22, 23]\n",
            "i =  4 21 sat 0.006598495533615421 0.6762020942763013\n",
            "Lista utilizada:  [2, 3, 13, 22, 23]\n",
            "i =  4 20 sat 0.00424776680771039 0.0\n",
            "Lista utilizada:  [2, 3, 13, 22, 23]\n",
            "i =  4 19 sat 2.9525152797367185e-06 0.0\n",
            "Lista utilizada:  [2, 3, 13, 22, 23]\n",
            "i =  4 18 sat 5.112834978843441e-06 0.0\n",
            "Lista utilizada:  [2, 3, 13, 22, 23]\n",
            "i =  4 17 sat 9.231311706629055e-06 0.0\n",
            "Lista utilizada:  [2, 3, 13, 22, 23]\n",
            "i =  4 16 sat 3.380347907851434e-05 0.0\n",
            "Lista utilizada:  [2, 3, 13, 22, 23]\n",
            "i =  4 15 sat 2.0110484250117536e-05 0.0\n",
            "Lista utilizada:  [2, 3, 13, 22, 23]\n",
            "i =  4 14 sat 7.317818523742361e-06 0.0\n",
            "Lista utilizada:  [2, 3, 22, 23]\n",
            "i =  4 13 sat 0.013758815232722144 0.0\n",
            "Lista utilizada:  [2, 3, 13, 22, 23]\n",
            "i =  4 12 sat 0.000885519511048425 0.0\n",
            "Lista utilizada:  [2, 3, 13, 22, 23]\n",
            "i =  4 11 sat 0.0003918664786083686 0.0\n",
            "Lista utilizada:  [2, 3, 13, 22, 23]\n",
            "i =  4 10 sat 0.0001244945933239304 0.0\n",
            "Lista utilizada:  [2, 3, 13, 22, 23]\n",
            "i =  4 9 sat 1.378937470615891e-05 0.0\n",
            "Lista utilizada:  [2, 3, 13, 22, 23]\n",
            "i =  4 8 sat 3.07475317348378e-05 1.0\n",
            "Lista utilizada:  [2, 3, 13, 22, 23]\n",
            "i =  4 7 sat 1.5507757404795487e-05 1.0\n",
            "Lista utilizada:  [2, 3, 13, 22, 23]\n",
            "i =  4 6 sat 3.953925716972261e-05 0.0\n",
            "Lista utilizada:  [2, 3, 13, 22, 23]\n",
            "i =  4 5 sat 2.6939351198871648e-05 1.0\n",
            "Lista utilizada:  [2, 3, 13, 22, 23]\n",
            "i =  4 4 sat 2.3648330982604606e-05 1.0\n",
            "Lista utilizada:  [2, 13, 22, 23]\n",
            "i =  4 3 sat 0.22284908321579688 0.5706641445964269\n",
            "Lista utilizada:  [3, 13, 22, 23]\n",
            "i =  4 2 sat 0.0269158439116126 0.0\n",
            "Lista utilizada:  [2, 3, 13, 22, 23]\n",
            "i =  4 1 sat 0.006008462623413258 1.0\n",
            "Lista utilizada:  [2, 3, 13, 22, 23]\n",
            "i =  4 0 sat 0.0040949694405265635 1.0\n",
            "Relevant:  [0, 1, 2, 3, 4, 5, 6, 7, 8, 9, 10, 11, 12, 13, 14, 15, 16, 17, 18, 19, 20, 21, 22, 23, 24, 25, 26, 27, 28, 29]\n",
            "Lista utilizada:  [2, 3, 13, 22, 23]\n",
            "i =  5 29 sat 1.4038551951104844e-05 1.0\n",
            "Lista utilizada:  [2, 3, 13, 22, 23]\n",
            "i =  5 28 sat 5.940291490362012e-05 1.0\n",
            "Lista utilizada:  [2, 3, 13, 22, 23]\n",
            "i =  5 27 sat 1.9830747531734838e-05 1.0\n",
            "Lista utilizada:  [2, 3, 13, 22, 23]\n",
            "i =  5 26 sat 4.4240714621532675e-05 1.0\n",
            "Lista utilizada:  [2, 3, 13, 22, 23]\n",
            "i =  5 25 sat 4.019746121297603e-05 1.0\n",
            "Lista utilizada:  [2, 3, 13, 22, 23]\n",
            "i =  5 24 sat 2.0625293841090738e-05 1.0\n",
            "Lista utilizada:  [2, 3, 13, 22]\n",
            "i =  5 23 sat 0.24259520451339917 0.39939300213174816\n",
            "Lista utilizada:  [2, 3, 13, 23]\n",
            "i =  5 22 sat 0.028279266572637518 0.6023831078962504\n",
            "Lista utilizada:  [2, 3, 13, 22, 23]\n",
            "i =  5 21 sat 0.006598495533615421 0.821973418404532\n",
            "Lista utilizada:  [2, 3, 13, 22, 23]\n",
            "i =  5 20 sat 0.004283027738598965 0.0\n",
            "Lista utilizada:  [2, 3, 13, 22, 23]\n",
            "i =  5 19 sat 3.5707569346497414e-07 0.0\n",
            "Lista utilizada:  [2, 3, 13, 22, 23]\n",
            "i =  5 18 sat 3.5731076633756465e-06 0.0\n",
            "Lista utilizada:  [2, 3, 13, 22, 23]\n",
            "i =  5 17 sat 2.609308885754584e-06 0.0\n",
            "Lista utilizada:  [2, 3, 13, 22, 23]\n",
            "i =  5 16 sat 7.183826986365773e-06 0.0\n",
            "Lista utilizada:  [2, 3, 13, 22, 23]\n",
            "i =  5 15 sat 6.2552891396332865e-06 0.0\n",
            "Lista utilizada:  [2, 3, 13, 22, 23]\n",
            "i =  5 14 sat 8.09355900329102e-07 0.0\n",
            "Lista utilizada:  [2, 3, 22, 23]\n",
            "i =  5 13 sat 0.010956746591443347 0.0\n",
            "Lista utilizada:  [2, 3, 13, 22, 23]\n",
            "i =  5 12 sat 0.0008178185237423601 0.0\n",
            "Lista utilizada:  [2, 3, 13, 22, 23]\n",
            "i =  5 11 sat 0.0004842501175364363 0.0\n",
            "Lista utilizada:  [2, 3, 13, 22, 23]\n",
            "i =  5 10 sat 0.0001125763986835919 0.0\n",
            "Lista utilizada:  [2, 3, 13, 22, 23]\n",
            "i =  5 9 sat 1.23836389280677e-05 0.0\n",
            "Lista utilizada:  [2, 3, 13, 22, 23]\n",
            "i =  5 8 sat 4.334743770568877e-05 1.0\n",
            "Lista utilizada:  [2, 3, 13, 22, 23]\n",
            "i =  5 7 sat 6.513869299482839e-06 1.0\n",
            "Lista utilizada:  [2, 3, 13, 22, 23]\n",
            "i =  5 6 sat 1.2106252938410907e-05 0.0\n",
            "Lista utilizada:  [2, 3, 13, 22, 23]\n",
            "i =  5 5 sat 1.6979313587212036e-05 1.0\n",
            "Lista utilizada:  [2, 3, 13, 22, 23]\n",
            "i =  5 4 sat 1.7501175364362955e-05 1.0\n",
            "Lista utilizada:  [2, 13, 22, 23]\n",
            "i =  5 3 sat 0.2069111424541608 0.5658568929057087\n",
            "Lista utilizada:  [3, 13, 22, 23]\n",
            "i =  5 2 sat 0.02548189938881053 0.0\n",
            "Lista utilizada:  [2, 3, 13, 22, 23]\n",
            "i =  5 1 sat 0.00457451810061119 1.0\n",
            "Lista utilizada:  [2, 3, 13, 22, 23]\n",
            "i =  5 0 sat 0.003958627174424072 1.0\n",
            "Relevant:  [0, 1, 2, 3, 4, 5, 6, 7, 8, 9, 10, 11, 12, 13, 14, 15, 16, 17, 18, 19, 20, 21, 22, 23, 24, 25, 26, 27, 28, 29]\n"
          ]
        }
      ]
    }
  ]
}