{
 "cells": [
  {
   "cell_type": "markdown",
   "metadata": {
    "id": "LwlEKusEcBbw"
   },
   "source": [
    "# Installing Z3 and Imports"
   ]
  },
  {
   "cell_type": "code",
   "execution_count": 1,
   "metadata": {
    "colab": {
     "base_uri": "https://localhost:8080/"
    },
    "id": "dt8anHvhLwsn",
    "outputId": "13b6d0bc-f00b-4b50-99a2-9366ed28b2ce"
   },
   "outputs": [
    {
     "data": {
      "text/plain": [
       "'\\n!pip install z3-solver\\n!pip install pandas\\n!pip install numpy\\n!pip install sklearn\\n'"
      ]
     },
     "execution_count": 1,
     "metadata": {},
     "output_type": "execute_result"
    }
   ],
   "source": [
    "'''\n",
    "!pip install z3-solver\n",
    "!pip install pandas\n",
    "!pip install numpy\n",
    "!pip install sklearn\n",
    "'''"
   ]
  },
  {
   "cell_type": "code",
   "execution_count": 2,
   "metadata": {
    "id": "A1i4HEgVhKCN"
   },
   "outputs": [],
   "source": [
    "import pandas as pd\n",
    "import numpy as np\n",
    "from sklearn import datasets\n",
    "from sklearn.model_selection import train_test_split\n",
    "from sklearn import svm\n",
    "from sklearn import metrics\n",
    "from z3 import *"
   ]
  },
  {
   "cell_type": "markdown",
   "metadata": {
    "id": "VX71r1djY-7L"
   },
   "source": [
    "# Training SVM"
   ]
  },
  {
   "cell_type": "markdown",
   "metadata": {
    "id": "TO6whMFhZ9yf"
   },
   "source": [
    "## Data Preprocessing."
   ]
  },
  {
   "cell_type": "code",
   "execution_count": 3,
   "metadata": {
    "id": "PW90CcDBHbaM"
   },
   "outputs": [],
   "source": [
    "cancer = datasets.load_breast_cancer()"
   ]
  },
  {
   "cell_type": "code",
   "execution_count": 4,
   "metadata": {
    "id": "XeFOu9Y-wxgW"
   },
   "outputs": [],
   "source": [
    "df = pd.DataFrame(cancer.data, columns = cancer.feature_names)"
   ]
  },
  {
   "cell_type": "code",
   "execution_count": 5,
   "metadata": {
    "id": "q5plsclR7tUW"
   },
   "outputs": [],
   "source": [
    "normalized_df=(cancer.data-cancer.data.min())/(cancer.data.max()-cancer.data.min())\n",
    "#normalized_df=(cancer.data-cancer.data.mean())/cancer.data.std()"
   ]
  },
  {
   "cell_type": "code",
   "execution_count": 6,
   "metadata": {
    "colab": {
     "base_uri": "https://localhost:8080/"
    },
    "id": "BMHNARKC8KJR",
    "outputId": "bbe60b5e-fc61-4253-dfb8-75efb51dfe0a"
   },
   "outputs": [
    {
     "data": {
      "text/plain": [
       "(0.0, 1.0)"
      ]
     },
     "execution_count": 6,
     "metadata": {},
     "output_type": "execute_result"
    }
   ],
   "source": [
    "normalized_df.min(),normalized_df.max()"
   ]
  },
  {
   "cell_type": "markdown",
   "metadata": {
    "id": "IbakFrFRaCKb"
   },
   "source": [
    "## Data Separation and Training"
   ]
  },
  {
   "cell_type": "code",
   "execution_count": 7,
   "metadata": {
    "id": "qI2dGmVBh4Sq"
   },
   "outputs": [],
   "source": [
    "X_train, X_test, y_train, y_test = train_test_split(normalized_df, cancer.target, test_size=0.3,random_state=107) # 70% training and 30% test"
   ]
  },
  {
   "cell_type": "code",
   "execution_count": 8,
   "metadata": {
    "colab": {
     "base_uri": "https://localhost:8080/"
    },
    "id": "dx90Sjfwh9cz",
    "outputId": "565c216c-c6e3-48bf-a20b-c64f577ab7f1"
   },
   "outputs": [
    {
     "name": "stdout",
     "output_type": "stream",
     "text": [
      "Accuracy: 0.9064327485380117\n"
     ]
    }
   ],
   "source": [
    "clf = svm.SVC(kernel='linear') # Linear Kernel\n",
    "\n",
    "#Train the model using the training sets\n",
    "clf.fit(X_train, y_train)\n",
    "\n",
    "#Predict the response for test dataset\n",
    "y_pred = clf.predict(X_test)\n",
    "\n",
    "print(\"Accuracy:\", metrics.accuracy_score(y_test, y_pred))"
   ]
  },
  {
   "cell_type": "code",
   "execution_count": 9,
   "metadata": {
    "colab": {
     "base_uri": "https://localhost:8080/"
    },
    "id": "kjIMKtJWiPAl",
    "outputId": "d9db7a40-e7b2-46aa-e558-a11d647d5d6a"
   },
   "outputs": [
    {
     "name": "stdout",
     "output_type": "stream",
     "text": [
      "Accuracy on Training: 0.8592964824120602\n"
     ]
    }
   ],
   "source": [
    "y_pred_train = clf.predict(X_train)\n",
    "print(\"Accuracy on Training:\", metrics.accuracy_score(y_train, y_pred_train))"
   ]
  },
  {
   "cell_type": "markdown",
   "metadata": {
    "id": "c3lOiqOAaJpe"
   },
   "source": [
    "## SVM Decision Function For The First Element of Training Dataset"
   ]
  },
  {
   "cell_type": "code",
   "execution_count": 10,
   "metadata": {
    "colab": {
     "base_uri": "https://localhost:8080/"
    },
    "id": "igzG9IldBYWR",
    "outputId": "26b7faad-4c09-4561-c37d-bdba35c42e7c"
   },
   "outputs": [
    {
     "data": {
      "text/plain": [
       "0.7999758604849845"
      ]
     },
     "execution_count": 10,
     "metadata": {},
     "output_type": "execute_result"
    }
   ],
   "source": [
    "#Sum (coef @ sup_vec @ X[index] + bias)\n",
    "((clf.dual_coef_ @ clf.support_vectors_) @ X_train[1].reshape(1, len(X_train[1])).T + clf.intercept_)[0][0]"
   ]
  },
  {
   "cell_type": "code",
   "execution_count": 11,
   "metadata": {},
   "outputs": [
    {
     "name": "stdout",
     "output_type": "stream",
     "text": [
      "Coef / Support Vectors / X_Train.T Reshaped / Intercept (bias)\n"
     ]
    },
    {
     "data": {
      "text/plain": [
       "((1, 194), (194, 30), (30, 1), (1,))"
      ]
     },
     "execution_count": 11,
     "metadata": {},
     "output_type": "execute_result"
    }
   ],
   "source": [
    "print(\"Coef / Support Vectors / X_Train.T Reshaped / Intercept (bias)\")\n",
    "clf.dual_coef_.shape, clf.support_vectors_.shape, X_train[1].reshape(1, len(X_train[1])).T.shape, clf.intercept_.shape"
   ]
  },
  {
   "cell_type": "markdown",
   "metadata": {
    "id": "bZOA8ZXQZIH2",
    "jp-MarkdownHeadingCollapsed": true,
    "tags": []
   },
   "source": [
    "# Defining Thresholds"
   ]
  },
  {
   "cell_type": "markdown",
   "metadata": {
    "id": "5TbaNMHrevbU"
   },
   "source": [
    "## Finding Decision Function's Superior and Inferior Limits"
   ]
  },
  {
   "cell_type": "code",
   "execution_count": 12,
   "metadata": {
    "colab": {
     "base_uri": "https://localhost:8080/"
    },
    "id": "NuDlYZHrcYUY",
    "outputId": "294823f2-ebf5-4ee8-a7bd-a256a8d163be"
   },
   "outputs": [
    {
     "name": "stdout",
     "output_type": "stream",
     "text": [
      "Limite Pos =  1.8675370149765804 \n",
      "Limite Neg = -6.600371124175771\n"
     ]
    }
   ],
   "source": [
    "decfun = clf.decision_function(X_train)\n",
    "lim_pos = decfun[np.argmax(decfun)]\n",
    "lim_neg = decfun[np.argmin(decfun)]\n",
    "print(\"Limite Pos = \",lim_pos, '\\nLimite Neg =',lim_neg)"
   ]
  },
  {
   "cell_type": "markdown",
   "metadata": {
    "id": "YL5RJ9yae2fD"
   },
   "source": [
    "## Defining WR and Rejection Thresholds"
   ]
  },
  {
   "cell_type": "code",
   "execution_count": 13,
   "metadata": {
    "colab": {
     "base_uri": "https://localhost:8080/"
    },
    "id": "qT3qTb6Hdq0r",
    "outputId": "f527fe07-0eed-4294-e911-d3d543e443a1"
   },
   "outputs": [
    {
     "name": "stdout",
     "output_type": "stream",
     "text": [
      "[0.04, 0.08, 0.12, 0.16, 0.2, 0.24, 0.28, 0.32, 0.36, 0.4, 0.44, 0.48]\n"
     ]
    }
   ],
   "source": [
    "wr = []\n",
    "for i in range(1,13):\n",
    "  wr.append(i*0.04)\n",
    "print(wr)"
   ]
  },
  {
   "cell_type": "code",
   "execution_count": 14,
   "metadata": {
    "colab": {
     "base_uri": "https://localhost:8080/"
    },
    "id": "GAlW07_hpsok",
    "outputId": "e161d602-fbf2-4600-b5b6-df03358cba09"
   },
   "outputs": [
    {
     "data": {
      "text/plain": [
       "398"
      ]
     },
     "execution_count": 14,
     "metadata": {},
     "output_type": "execute_result"
    }
   ],
   "source": [
    "#Total quantity of elements\n",
    "n_elements = decfun.shape[0]\n",
    "n_elements"
   ]
  },
  {
   "cell_type": "code",
   "execution_count": 15,
   "metadata": {
    "id": "ngvmzcZDlgwy"
   },
   "outputs": [],
   "source": [
    "t1 = []\n",
    "t2 = []\n",
    "for i in range (1,101):\n",
    "  t1.append(0.01*i*lim_pos)\n",
    "  t2.append(0.01*i*lim_neg)"
   ]
  },
  {
   "cell_type": "code",
   "execution_count": 16,
   "metadata": {
    "id": "Xd_ksJnbgo39"
   },
   "outputs": [],
   "source": [
    "dict_reject = {'WR': wr,'T1':t1, 'T2':t2,'E':[],'R':[],'EWRR': []}"
   ]
  },
  {
   "cell_type": "markdown",
   "metadata": {
    "id": "rartrt2kIEuH",
    "jp-MarkdownHeadingCollapsed": true,
    "tags": []
   },
   "source": [
    "## All Iterations"
   ]
  },
  {
   "cell_type": "code",
   "execution_count": 17,
   "metadata": {
    "id": "Z9eD5ICKIGtk"
   },
   "outputs": [],
   "source": [
    "for i,wr_ in enumerate(dict_reject['WR']):\n",
    "  EwrR = []\n",
    "  for i,t in enumerate(dict_reject['T1']):\n",
    "    #Get Number of Rejected\n",
    "    positive_indexes = np.where(decfun >= dict_reject['T1'][i])\n",
    "    negative_indexes = np.where(decfun < dict_reject['T2'][i])\n",
    "    rejected_indexes = np.where((decfun < dict_reject['T1'][i]) & (decfun >= dict_reject['T2'][i]))\n",
    "    R = rejected_indexes[0].shape[0]\n",
    "    #np.array(positive_indexes).shape,np.array(negative_indexes).shape, R\n",
    "\n",
    "    #Get Number of Misclassifications\n",
    "    class_p = y_train[positive_indexes]\n",
    "    class_n = y_train[negative_indexes]\n",
    "    error_p = np.where(class_p == np.argmin(np.unique(y_train)))[0].shape[0]\n",
    "    error_n = np.where(class_n == np.argmax(np.unique(y_train)))[0].shape[0]\n",
    "    error_total = (error_p + error_n)/(n_elements - R)\n",
    "    \n",
    "    EwrR.append(error_total + wr_ * R)\n",
    "    #print('(',i+1,')',\"Erro = \",error_total,\" wr = \",wr_,' R = ',R, 'E + wrR = ',error_total + wr_ * R,' T1 = ',dict_reject['T1'][i], ' T2 = ', dict_reject['T2'][i], ' Error P = ', error_p, ' Error N = ', error_n)\n",
    "  #print(np.argmin(np.array(EwrR)), EwrR[np.argmin(np.array(EwrR))])"
   ]
  },
  {
   "cell_type": "markdown",
   "metadata": {
    "id": "YkcUd3eZ9wQx"
   },
   "source": [
    "# Implementing SVM function for Z3 Solver"
   ]
  },
  {
   "cell_type": "markdown",
   "metadata": {
    "id": "XvhIKaB3fSBv"
   },
   "source": [
    "## Z3 Decision Function"
   ]
  },
  {
   "cell_type": "code",
   "execution_count": 18,
   "metadata": {
    "id": "8iDd2odTfUb-"
   },
   "outputs": [],
   "source": [
    "np.RealVal = np.vectorize(RealVal) \n",
    "np.RealVector = np.vectorize(RealVector) "
   ]
  },
  {
   "cell_type": "code",
   "execution_count": 19,
   "metadata": {
    "id": "8knRyfgnmO2Q"
   },
   "outputs": [],
   "source": [
    "z3_dual_coef = np.RealVal(clf.dual_coef_)\n",
    "z3_support_vectors = np.RealVal(clf.support_vectors_)\n",
    "z3_intercept_ = np.RealVal(clf.intercept_)\n",
    "z3_X_Train = np.RealVector('x',X_train.shape[1])"
   ]
  },
  {
   "cell_type": "code",
   "execution_count": 20,
   "metadata": {
    "colab": {
     "base_uri": "https://localhost:8080/"
    },
    "id": "lFcyKpTafZjH",
    "outputId": "416ab3cc-897c-4607-b40e-b49e05426032"
   },
   "outputs": [
    {
     "data": {
      "text/plain": [
       "array([x__0, x__1, x__2, x__3, x__4, x__5, x__6, x__7, x__8, x__9, x__10,\n",
       "       x__11, x__12, x__13, x__14, x__15, x__16, x__17, x__18, x__19,\n",
       "       x__20, x__21, x__22, x__23, x__24, x__25, x__26, x__27, x__28,\n",
       "       x__29], dtype=object)"
      ]
     },
     "execution_count": 20,
     "metadata": {},
     "output_type": "execute_result"
    }
   ],
   "source": [
    "z3_X_Train"
   ]
  },
  {
   "cell_type": "markdown",
   "metadata": {
    "id": "it9FGkScC0p_"
   },
   "source": [
    "# Z3 with Reject Option"
   ]
  },
  {
   "cell_type": "code",
   "execution_count": 21,
   "metadata": {},
   "outputs": [],
   "source": [
    "#Defining z3 thresholds\n",
    "T1,T2 = t1[0],t2[0]\n",
    "rejected_indexes2 = np.where((decfun < T1) & (decfun >= T2))[0]"
   ]
  },
  {
   "cell_type": "markdown",
   "metadata": {
    "id": "Hhabh-goeAIZ"
   },
   "source": [
    "### Fixed List"
   ]
  },
  {
   "cell_type": "code",
   "execution_count": 22,
   "metadata": {
    "tags": []
   },
   "outputs": [],
   "source": [
    "def fixed_list(t1, t2, X, z3_coef, z3_sup_vec, z3_X, z3_intercept, reject_indexes, show_values=False):\n",
    "    satisfatible = []\n",
    "    unsatisfatible = []\n",
    "    print(\"Number: \",len(reject_indexes))\n",
    "    for i in range(0, len(reject_indexes)):\n",
    "      #Add Assertions for 0<= feature <= 1\n",
    "      index_list = list(range(len(z3_X)))\n",
    "      unsat_list = []\n",
    "      sat_list = []\n",
    "\n",
    "      #Select a feature and unfix it\n",
    "      for z in range(0, len(z3_X)):\n",
    "        solver2 = Solver()\n",
    "        solver2.add(Or(((z3_coef @ z3_sup_vec) @ z3_X.reshape(1, len(z3_X)).T + z3_intercept)[0][0] >= t1,\n",
    "                ((z3_coef @ z3_sup_vec) @ z3_X.reshape(1, len(z3_X)).T + z3_intercept)[0][0] < t2))\n",
    "        for j in range(0, len(z3_X)):\n",
    "          solver2.add(z3_X[j] >=0)\n",
    "          solver2.add(z3_X[j] <=1)\n",
    "        for j in range(0, len(z3_X)):\n",
    "          if j != z: #Choose one to check influence\n",
    "            solver2.add(z3_X[j] == X[reject_indexes[i]][j])\n",
    "\n",
    "        check = solver2.check()\n",
    "        if check == sat:\n",
    "          sat_list.append(z)\n",
    "          model = solver2.model()\n",
    "          if show_values:\n",
    "              print('i = ',i,z, check, X[reject_indexes[i]][z], model[z3_X[z]].numerator_as_long()/model[z3_X[z]].denominator_as_long())\n",
    "              #print(z, check)\n",
    "        else:\n",
    "          unsat_list.append(z)\n",
    "        \n",
    "      print(\"Finished \",i)\n",
    "      satisfatible.append(sat_list)\n",
    "      unsatisfatible.append(unsat_list)\n",
    "          #index_list.remove(z)\n",
    "          #print('i = ',i, z, check)\n",
    "      #print(\"Relevant: \",sat_list, '\\nUnsat List: ',unsat_list,'\\n')\n",
    "    for i in range(0, len(satisfatible)):\n",
    "        print(i,'\\nSatisfatível: ', satisfatible[i],'\\nInsatisfatível: ',unsatisfatible[i],'\\n\\n')\n",
    "    return satisfatible, unsatisfatible\n",
    "    "
   ]
  },
  {
   "cell_type": "code",
   "execution_count": 23,
   "metadata": {
    "tags": []
   },
   "outputs": [],
   "source": [
    "#Limiar Superior, Limiar Inferior, Conjunto de Entradas, Coeficiente, Vetores de Suporte, Entrada Z3, Bias, Lista de Rejeição\n",
    "#satisfatible, unsatisfatible = fixed_list(T1,T2,X_train,z3_dual_coef,z3_support_vectors,z3_X_Train,z3_intercept_,rejected_indexes2,True)"
   ]
  },
  {
   "cell_type": "markdown",
   "metadata": {
    "id": "oF_vwBRveDln",
    "tags": []
   },
   "source": [
    "### Unfixed List, Crescent"
   ]
  },
  {
   "cell_type": "code",
   "execution_count": 24,
   "metadata": {},
   "outputs": [],
   "source": [
    "def unfixed_list(t1, t2, X, z3_coef, z3_sup_vec, z3_X, z3_intercept, reject_indexes,crescent_order=True,show_values=False):\n",
    "    satisfatible = []\n",
    "    unsatisfatible = []\n",
    "    global_values = []\n",
    "    print(\"Number of Rejected: \",len(reject_indexes))\n",
    "    if crescent_order:\n",
    "        for i in range(0, len(reject_indexes)):\n",
    "          #Add Assertions for 0<= feature <= 1\n",
    "          index_list = list(range(len(z3_X)))\n",
    "          unsat_list = []\n",
    "          sat_list = []\n",
    "          values = []  \n",
    "\n",
    "          #Select a feature and unfix it\n",
    "          for z in range(0, len(z3_X)):\n",
    "            solver2 = Solver()\n",
    "            solver2.add(Or(((z3_coef @ z3_sup_vec) @ z3_X.reshape(1, len(z3_X)).T + z3_intercept)[0][0] >= t1,\n",
    "                    ((z3_coef @ z3_sup_vec) @ z3_X.reshape(1, len(z3_X)).T + z3_intercept)[0][0] < t2))\n",
    "            for j in range(0, len(z3_X)):\n",
    "              solver2.add(z3_X[j] >=0)\n",
    "              solver2.add(z3_X[j] <=1)\n",
    "            used_list = []\n",
    "            for j in range(0, len(z3_X)):\n",
    "              if j != z and j in index_list: #Choose one to check influence\n",
    "                solver2.add(z3_X[j] == X[reject_indexes[i]][j])\n",
    "                used_list.append(j)\n",
    "\n",
    "            check = solver2.check()\n",
    "            if check == sat:         \n",
    "              model = solver2.model()\n",
    "              value = model[z3_X[z]].numerator_as_long()/model[z3_X[z]].denominator_as_long()\n",
    "              sat_list.append(z)\n",
    "              values.append(value)\n",
    "              if show_values:  \n",
    "                  print('i = ',i,z, check, X[reject_indexes[i]][z], value)\n",
    "            else:\n",
    "              unsat_list.append(z)\n",
    "              index_list.remove(z)\n",
    "              if show_values:\n",
    "                  print('i = ',i, z, check)  \n",
    "          print(\"Finished \",i)\n",
    "          satisfatible.append(sat_list)\n",
    "          unsatisfatible.append(unsat_list)\n",
    "          global_values.append(values)\n",
    "              \n",
    "          #print(\"Relevant: \",sat_list, '\\nUnsat List: ',unsat_list,'\\n')     \n",
    "    for i in range(0, len(satisfatible)):\n",
    "        print('Rejected ',i,'\\nSatisfatível: ', satisfatible[i],'\\nValores: ',global_values,'\\nInsatisfatível: ',unsatisfatible[i],'\\n\\n')\n",
    "    return satisfatible, unsatisfatible"
   ]
  },
  {
   "cell_type": "code",
   "execution_count": 25,
   "metadata": {
    "tags": []
   },
   "outputs": [],
   "source": [
    "#satisfatible, unsatisfatible = unfixed_list(T1,T2,X_train,z3_dual_coef,z3_support_vectors,z3_X_Train,z3_intercept_,rejected_indexes2,crescent_order=True, show_values=True)"
   ]
  },
  {
   "cell_type": "markdown",
   "metadata": {
    "id": "oF_vwBRveDln",
    "tags": []
   },
   "source": [
    "# Anchors"
   ]
  },
  {
   "cell_type": "markdown",
   "metadata": {
    "id": "oF_vwBRveDln",
    "tags": []
   },
   "source": [
    "## Setting Up"
   ]
  }
 ],
 "metadata": {
  "colab": {
   "name": "Cópia de Slimmer Z3 SVM Solver.ipynb",
   "provenance": [],
   "toc_visible": true
  },
  "kernelspec": {
   "display_name": "Python 3 (ipykernel)",
   "language": "python",
   "name": "python3"
  },
  "language_info": {
   "codemirror_mode": {
    "name": "ipython",
    "version": 3
   },
   "file_extension": ".py",
   "mimetype": "text/x-python",
   "name": "python",
   "nbconvert_exporter": "python",
   "pygments_lexer": "ipython3",
   "version": "3.9.12"
  }
 },
 "nbformat": 4,
 "nbformat_minor": 4
}
