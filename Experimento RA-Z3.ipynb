{
 "cells": [
  {
   "cell_type": "markdown",
   "id": "33e42972-691f-40a9-bee6-9962d399a302",
   "metadata": {},
   "source": [
    "## Metodologia do Experimento"
   ]
  },
  {
   "cell_type": "code",
   "execution_count": null,
   "id": "888e9494-0c56-4c48-a1f3-89b1dd28dbf4",
   "metadata": {},
   "outputs": [],
   "source": [
    "import numpy as np # linear algebra\n",
    "import pandas as pd # data processing, CSV file I/O (e.g. pd.read_csv)\n",
    "from scipy.io import arff\n",
    "from sklearn import datasets\n",
    "from sklearn.model_selection import train_test_split\n",
    "from sklearn import svm\n",
    "from sklearn import metrics\n",
    "from z3 import *\n",
    "\n",
    "\n",
    "import matplotlib.pyplot as plt # for data visualization\n",
    "import seaborn as sns # for statistical data visualization\n",
    "%matplotlib inline"
   ]
  },
  {
   "cell_type": "code",
   "execution_count": null,
   "id": "99746f7c-896f-4760-b6e5-4698b7c461e4",
   "metadata": {},
   "outputs": [],
   "source": [
    "sonar_df = pd.read_csv('datasets/Sonar.csv')"
   ]
  },
  {
   "cell_type": "code",
   "execution_count": null,
   "id": "ebcb26a5-ea83-43e3-bc62-55a6fcd47872",
   "metadata": {},
   "outputs": [],
   "source": [
    "sonar_df.head()"
   ]
  },
  {
   "cell_type": "code",
   "execution_count": null,
   "id": "ef7b4cf5-66c9-4662-966a-87ade81cc31b",
   "metadata": {},
   "outputs": [],
   "source": [
    "sonar_df.isnull().sum()"
   ]
  },
  {
   "cell_type": "code",
   "execution_count": null,
   "id": "54a9c2fd-0cad-4a02-be1e-59bef015c501",
   "metadata": {},
   "outputs": [],
   "source": [
    "sonar_df_norm=(sonar_df.iloc[:,:-1]-sonar_df.iloc[:,:-1].min())/(sonar_df.iloc[:,:-1].max()-sonar_df.iloc[:,:-1].min())"
   ]
  },
  {
   "cell_type": "code",
   "execution_count": null,
   "id": "e19f2533-07f8-45a8-b656-21a0e242fb32",
   "metadata": {},
   "outputs": [],
   "source": [
    "sonar_df_norm.min(),sonar_df_norm.max()"
   ]
  },
  {
   "cell_type": "markdown",
   "id": "6bc88894-05b6-40b8-a8cc-ed68c8eae0a5",
   "metadata": {},
   "source": [
    "##########################################################"
   ]
  },
  {
   "cell_type": "code",
   "execution_count": null,
   "id": "877accd5-d8fe-492b-910c-3139560a89ef",
   "metadata": {},
   "outputs": [],
   "source": [
    "column_2C_df = pd.read_csv('datasets/column_2C.dat', sep=\" \", header=None)"
   ]
  },
  {
   "cell_type": "code",
   "execution_count": 36,
   "id": "9ccf8f13-04b1-49d2-afb5-b442c76a4ea0",
   "metadata": {},
   "outputs": [],
   "source": [
    "column_2C_df[6]=np.where(column_2C_df[6]=='AB',1,0)"
   ]
  },
  {
   "cell_type": "code",
   "execution_count": 37,
   "id": "9f77e878-8382-4076-9ade-856bba2a329f",
   "metadata": {},
   "outputs": [
    {
     "data": {
      "text/html": [
       "<div>\n",
       "<style scoped>\n",
       "    .dataframe tbody tr th:only-of-type {\n",
       "        vertical-align: middle;\n",
       "    }\n",
       "\n",
       "    .dataframe tbody tr th {\n",
       "        vertical-align: top;\n",
       "    }\n",
       "\n",
       "    .dataframe thead th {\n",
       "        text-align: right;\n",
       "    }\n",
       "</style>\n",
       "<table border=\"1\" class=\"dataframe\">\n",
       "  <thead>\n",
       "    <tr style=\"text-align: right;\">\n",
       "      <th></th>\n",
       "      <th>0</th>\n",
       "      <th>1</th>\n",
       "      <th>2</th>\n",
       "      <th>3</th>\n",
       "      <th>4</th>\n",
       "      <th>5</th>\n",
       "      <th>6</th>\n",
       "    </tr>\n",
       "  </thead>\n",
       "  <tbody>\n",
       "    <tr>\n",
       "      <th>0</th>\n",
       "      <td>63.03</td>\n",
       "      <td>22.55</td>\n",
       "      <td>39.61</td>\n",
       "      <td>40.48</td>\n",
       "      <td>98.67</td>\n",
       "      <td>-0.25</td>\n",
       "      <td>0</td>\n",
       "    </tr>\n",
       "    <tr>\n",
       "      <th>1</th>\n",
       "      <td>39.06</td>\n",
       "      <td>10.06</td>\n",
       "      <td>25.02</td>\n",
       "      <td>29.00</td>\n",
       "      <td>114.41</td>\n",
       "      <td>4.56</td>\n",
       "      <td>0</td>\n",
       "    </tr>\n",
       "    <tr>\n",
       "      <th>2</th>\n",
       "      <td>68.83</td>\n",
       "      <td>22.22</td>\n",
       "      <td>50.09</td>\n",
       "      <td>46.61</td>\n",
       "      <td>105.99</td>\n",
       "      <td>-3.53</td>\n",
       "      <td>0</td>\n",
       "    </tr>\n",
       "    <tr>\n",
       "      <th>3</th>\n",
       "      <td>69.30</td>\n",
       "      <td>24.65</td>\n",
       "      <td>44.31</td>\n",
       "      <td>44.64</td>\n",
       "      <td>101.87</td>\n",
       "      <td>11.21</td>\n",
       "      <td>0</td>\n",
       "    </tr>\n",
       "    <tr>\n",
       "      <th>4</th>\n",
       "      <td>49.71</td>\n",
       "      <td>9.65</td>\n",
       "      <td>28.32</td>\n",
       "      <td>40.06</td>\n",
       "      <td>108.17</td>\n",
       "      <td>7.92</td>\n",
       "      <td>0</td>\n",
       "    </tr>\n",
       "  </tbody>\n",
       "</table>\n",
       "</div>"
      ],
      "text/plain": [
       "       0      1      2      3       4      5  6\n",
       "0  63.03  22.55  39.61  40.48   98.67  -0.25  0\n",
       "1  39.06  10.06  25.02  29.00  114.41   4.56  0\n",
       "2  68.83  22.22  50.09  46.61  105.99  -3.53  0\n",
       "3  69.30  24.65  44.31  44.64  101.87  11.21  0\n",
       "4  49.71   9.65  28.32  40.06  108.17   7.92  0"
      ]
     },
     "execution_count": 37,
     "metadata": {},
     "output_type": "execute_result"
    }
   ],
   "source": [
    "column_2C_df.head()"
   ]
  },
  {
   "cell_type": "code",
   "execution_count": 39,
   "id": "fe797ad1-a645-470c-9e35-bac1d9b2e362",
   "metadata": {},
   "outputs": [],
   "source": [
    "column_2C_df_norm=(column_2C_df.iloc[:,:-1]-column_2C_df.iloc[:,:-1].min())/(column_2C_df.iloc[:,:-1].max()-column_2C_df.iloc[:,:-1].min())"
   ]
  },
  {
   "cell_type": "code",
   "execution_count": null,
   "id": "560d7d2c-69f2-45d9-9f71-c8a1f90fa803",
   "metadata": {},
   "outputs": [],
   "source": [
    "column_2C_df_norm.min(),column_2C_df_norm.max()"
   ]
  },
  {
   "cell_type": "markdown",
   "id": "3d54f1c3-ccc1-4bc7-bb7a-0f11d063e563",
   "metadata": {},
   "source": [
    "####################################################################################"
   ]
  },
  {
   "cell_type": "code",
   "execution_count": null,
   "id": "e248ff1f-5d2e-4919-8187-632d07a219fd",
   "metadata": {},
   "outputs": [],
   "source": [
    "smart_grid_stability_augmented_df = pd.read_csv('datasets/smart_grid_stability_augmented.csv')"
   ]
  },
  {
   "cell_type": "code",
   "execution_count": null,
   "id": "23d1efd9-9a33-4e7a-926b-f1c31c58cae3",
   "metadata": {},
   "outputs": [],
   "source": [
    "smart_grid_stability_augmented_df.head()"
   ]
  },
  {
   "cell_type": "code",
   "execution_count": null,
   "id": "56d3c8bd-c6de-42b8-9e13-37ad0276cad7",
   "metadata": {},
   "outputs": [],
   "source": [
    "smart_grid_stability_augmented_df.isnull().sum()"
   ]
  },
  {
   "cell_type": "code",
   "execution_count": null,
   "id": "7c9ea55d-bde9-43d4-bdf3-49b13203c275",
   "metadata": {},
   "outputs": [],
   "source": [
    "smart_grid_stability_augmented_df_norm=(\n",
    "    smart_grid_stability_augmented_df.iloc[:,:-1]-smart_grid_stability_augmented_df.iloc[:,:-1].min())/(smart_grid_stability_augmented_df.iloc[:,:-1].max()-smart_grid_stability_augmented_df.iloc[:,:-1].min()\n",
    ")"
   ]
  },
  {
   "cell_type": "code",
   "execution_count": null,
   "id": "b1baefa1-2ad3-434b-b5f3-a78cb20328a8",
   "metadata": {},
   "outputs": [],
   "source": [
    "smart_grid_stability_augmented_df_norm.min(),smart_grid_stability_augmented_df_norm.max()"
   ]
  },
  {
   "cell_type": "code",
   "execution_count": null,
   "id": "60f8a73a-c34f-4c6f-aab6-3f360e267843",
   "metadata": {},
   "outputs": [],
   "source": [
    "smart_grid_stability_augmented_df_norm.shape"
   ]
  },
  {
   "cell_type": "markdown",
   "id": "3c130e94-fedc-423b-94e6-0c062cca1c11",
   "metadata": {},
   "source": [
    "####################################################################################"
   ]
  },
  {
   "cell_type": "code",
   "execution_count": null,
   "id": "bf1dc3fa-f53b-4b5a-bb59-05e0095142bc",
   "metadata": {},
   "outputs": [],
   "source": [
    "cancer = datasets.load_breast_cancer()\n",
    "cancer_df = pd.DataFrame(cancer.data, columns = cancer.feature_names) "
   ]
  },
  {
   "cell_type": "code",
   "execution_count": null,
   "id": "46eac2d6-ad58-46b0-8130-5fa920e42417",
   "metadata": {},
   "outputs": [],
   "source": [
    "cancer_df.shape"
   ]
  },
  {
   "cell_type": "code",
   "execution_count": null,
   "id": "9d853b73-de0e-477c-90f7-4cc465a97043",
   "metadata": {},
   "outputs": [],
   "source": [
    "cancer_df.head"
   ]
  },
  {
   "cell_type": "code",
   "execution_count": null,
   "id": "37ebeabd-ecba-439a-8c39-841ffdb52091",
   "metadata": {},
   "outputs": [],
   "source": [
    "cancer_df.isnull().sum()"
   ]
  },
  {
   "cell_type": "code",
   "execution_count": null,
   "id": "869ad7da-3e7f-4d98-a81b-189b65b90e2d",
   "metadata": {},
   "outputs": [],
   "source": [
    "cancer_normalized_df=(cancer.data-cancer.data.min())/(cancer.data.max()-cancer.data.min())"
   ]
  },
  {
   "cell_type": "code",
   "execution_count": null,
   "id": "beab589f-c258-4fbb-876c-1298f03e5286",
   "metadata": {},
   "outputs": [],
   "source": [
    "cancer_normalized_df.min(),cancer_normalized_df.max()"
   ]
  },
  {
   "cell_type": "code",
   "execution_count": null,
   "id": "9b34fa6d-3f92-4dd6-833b-72f6ee02e4bd",
   "metadata": {},
   "outputs": [],
   "source": [
    "cancer_normalized_df"
   ]
  },
  {
   "cell_type": "markdown",
   "id": "87442e67-a7d2-485f-b2f2-2dbe9c466eba",
   "metadata": {},
   "source": [
    "## Split data"
   ]
  },
  {
   "cell_type": "code",
   "execution_count": null,
   "id": "6a41c05a-0a28-4596-88af-46ac0dc71f95",
   "metadata": {},
   "outputs": [],
   "source": [
    "datalist = [sonar_df_norm, column_2C_df_norm, smart_grid_stability_augmented_df_norm, cancer_normalized_df]"
   ]
  },
  {
   "cell_type": "code",
   "execution_count": 41,
   "id": "ec0d7d80-13f5-40a7-b20b-804e1832382c",
   "metadata": {},
   "outputs": [],
   "source": [
    "X_train, X_test, y_train, y_test = train_test_split(column_2C_df_norm, column_2C_df[6], test_size=0.3, random_state=107) # 70% training and 30% test"
   ]
  },
  {
   "cell_type": "code",
   "execution_count": 42,
   "id": "b4e0ac0c-e854-480e-b5a7-68b4d66e7426",
   "metadata": {},
   "outputs": [
    {
     "data": {
      "text/plain": [
       "((217, 6), (93, 6))"
      ]
     },
     "execution_count": 42,
     "metadata": {},
     "output_type": "execute_result"
    }
   ],
   "source": [
    "X_train.shape, X_test.shape"
   ]
  }
 ],
 "metadata": {
  "kernelspec": {
   "display_name": "Python 3 (ipykernel)",
   "language": "python",
   "name": "python3"
  },
  "language_info": {
   "codemirror_mode": {
    "name": "ipython",
    "version": 3
   },
   "file_extension": ".py",
   "mimetype": "text/x-python",
   "name": "python",
   "nbconvert_exporter": "python",
   "pygments_lexer": "ipython3",
   "version": "3.9.7"
  },
  "toc-autonumbering": true,
  "toc-showcode": true
 },
 "nbformat": 4,
 "nbformat_minor": 5
}
